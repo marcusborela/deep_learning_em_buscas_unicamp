{
 "cells": [
  {
   "attachments": {},
   "cell_type": "markdown",
   "metadata": {},
   "source": [
    "# Aula6 - Doc2Query\n",
    "\n",
    "[Unicamp - IA368DD: Deep Learning aplicado a sistemas de busca.](https://www.cpg.feec.unicamp.br/cpg/lista/caderno_horario_show.php?id=1779)\n",
    "\n",
    "Autor: Marcus Vinícius Borela de Castro\n",
    "\n",
    "[Repositório no github](https://github.com/marcusborela/deep_learning_em_buscas_unicamp)\n",
    "\n",
    "Stage: finetuning t5-base doc2query"
   ]
  },
  {
   "cell_type": "markdown",
   "metadata": {
    "id": "BmRLgbyi_Dvg"
   },
   "source": [
    "# Organizando o ambiente"
   ]
  },
  {
   "cell_type": "code",
   "execution_count": 1,
   "metadata": {},
   "outputs": [],
   "source": [
    "import os"
   ]
  },
  {
   "cell_type": "code",
   "execution_count": 2,
   "metadata": {},
   "outputs": [],
   "source": [
    "DIRETORIO_TRABALHO = '/home/borela/fontes/deep_learning_em_buscas_unicamp/local/doc2query'\n"
   ]
  },
  {
   "cell_type": "code",
   "execution_count": 3,
   "metadata": {},
   "outputs": [],
   "source": [
    "assert os.path.exists(DIRETORIO_TRABALHO), f\"Path para {DIRETORIO_TRABALHO} não existe!\""
   ]
  },
  {
   "cell_type": "code",
   "execution_count": 4,
   "metadata": {
    "id": "DKAZ8CWCAM3-"
   },
   "outputs": [],
   "source": [
    "from psutil import virtual_memory"
   ]
  },
  {
   "cell_type": "code",
   "execution_count": 5,
   "metadata": {
    "id": "9XgIWvkkH-kn"
   },
   "outputs": [],
   "source": [
    "def mostra_memoria(lista_mem=['cpu']):\n",
    "  \"\"\"\n",
    "  Esta função exibe informações de memória da CPU e/ou GPU, conforme parâmetros fornecidos.\n",
    "\n",
    "  Parâmetros:\n",
    "  -----------\n",
    "  lista_mem : list, opcional\n",
    "      Lista com strings 'cpu' e/ou 'gpu'. \n",
    "      'cpu' - exibe informações de memória da CPU.\n",
    "      'gpu' - exibe informações de memória da GPU (se disponível).\n",
    "      O valor padrão é ['cpu'].\n",
    "\n",
    "  Saída:\n",
    "  -------\n",
    "  A função não retorna nada, apenas exibe as informações na tela.\n",
    "\n",
    "  Exemplo de uso:\n",
    "  ---------------\n",
    "  Para exibir informações de memória da CPU:\n",
    "      mostra_memoria(['cpu'])\n",
    "\n",
    "  Para exibir informações de memória da CPU e GPU:\n",
    "      mostra_memoria(['cpu', 'gpu'])\n",
    "  \n",
    "  Autor: Marcus Vinícius Borela de Castro\n",
    "\n",
    "  \"\"\"  \n",
    "  if 'cpu' in lista_mem:\n",
    "    vm = virtual_memory()\n",
    "    ram={}\n",
    "    ram['total']=round(vm.total / 1e9,2)\n",
    "    ram['available']=round(virtual_memory().available / 1e9,2)\n",
    "    # ram['percent']=round(virtual_memory().percent / 1e9,2)\n",
    "    ram['used']=round(virtual_memory().used / 1e9,2)\n",
    "    ram['free']=round(virtual_memory().free / 1e9,2)\n",
    "    ram['active']=round(virtual_memory().active / 1e9,2)\n",
    "    ram['inactive']=round(virtual_memory().inactive / 1e9,2)\n",
    "    ram['buffers']=round(virtual_memory().buffers / 1e9,2)\n",
    "    ram['cached']=round(virtual_memory().cached/1e9 ,2)\n",
    "    print(f\"Your runtime RAM in gb: \\n total {ram['total']}\\n available {ram['available']}\\n used {ram['used']}\\n free {ram['free']}\\n cached {ram['cached']}\\n buffers {ram['buffers']}\")\n",
    "    print('/nGPU')\n",
    "    gpu_info = !nvidia-smi\n",
    "  if 'gpu' in lista_mem:\n",
    "    gpu_info = '\\n'.join(gpu_info)\n",
    "    if gpu_info.find('failed') >= 0:\n",
    "      print('Not connected to a GPU')\n",
    "    else:\n",
    "      print(gpu_info)\n"
   ]
  },
  {
   "cell_type": "code",
   "execution_count": 6,
   "metadata": {
    "colab": {
     "base_uri": "https://localhost:8080/"
    },
    "id": "3dri9iiMAvCT",
    "outputId": "53aebd5a-e29f-4c8e-d233-5221aae9f9b0"
   },
   "outputs": [
    {
     "name": "stdout",
     "output_type": "stream",
     "text": [
      "Your runtime RAM in gb: \n",
      " total 67.35\n",
      " available 57.35\n",
      " used 8.94\n",
      " free 10.32\n",
      " cached 46.1\n",
      " buffers 2.0\n",
      "/nGPU\n",
      "Mon Apr 10 13:14:20 2023       \n",
      "+-----------------------------------------------------------------------------+\n",
      "| NVIDIA-SMI 510.39.01    Driver Version: 510.39.01    CUDA Version: 11.6     |\n",
      "|-------------------------------+----------------------+----------------------+\n",
      "| GPU  Name        Persistence-M| Bus-Id        Disp.A | Volatile Uncorr. ECC |\n",
      "| Fan  Temp  Perf  Pwr:Usage/Cap|         Memory-Usage | GPU-Util  Compute M. |\n",
      "|                               |                      |               MIG M. |\n",
      "|===============================+======================+======================|\n",
      "|   0  NVIDIA GeForce ...  On   | 00000000:02:00.0 Off |                  N/A |\n",
      "| 65%   49C    P8    27W / 370W |     61MiB / 24576MiB |      0%      Default |\n",
      "|                               |                      |                  N/A |\n",
      "+-------------------------------+----------------------+----------------------+\n",
      "                                                                               \n",
      "+-----------------------------------------------------------------------------+\n",
      "| Processes:                                                                  |\n",
      "|  GPU   GI   CI        PID   Type   Process name                  GPU Memory |\n",
      "|        ID   ID                                                   Usage      |\n",
      "|=============================================================================|\n",
      "|    0   N/A  N/A      1241      G   /usr/lib/xorg/Xorg                 45MiB |\n",
      "|    0   N/A  N/A      1381      G   /usr/bin/gnome-shell               14MiB |\n",
      "+-----------------------------------------------------------------------------+\n"
     ]
    }
   ],
   "source": [
    "mostra_memoria(['cpu','gpu'])"
   ]
  },
  {
   "cell_type": "markdown",
   "metadata": {
    "id": "achvQ78sa3p3"
   },
   "source": [
    "## Fixando as seeds"
   ]
  },
  {
   "cell_type": "code",
   "execution_count": 7,
   "metadata": {
    "id": "AG9RjMb8Qlot"
   },
   "outputs": [],
   "source": [
    "import random\n",
    "import torch\n",
    "import numpy as np"
   ]
  },
  {
   "cell_type": "code",
   "execution_count": 8,
   "metadata": {
    "id": "bkETIyWGkbOf"
   },
   "outputs": [],
   "source": [
    "def inicializa_seed(num_semente:int=123):\n",
    "  \"\"\"\n",
    "  Inicializa as sementes para garantir a reprodutibilidade dos resultados do modelo.\n",
    "  Essa é uma prática recomendada, já que a geração de números aleatórios pode influenciar os resultados do modelo.\n",
    "  Além disso, a função também configura as sementes da GPU para garantir a reprodutibilidade quando se utiliza aceleração por GPU. \n",
    "  \n",
    "  Args:\n",
    "      num_semente (int): número da semente a ser utilizada para inicializar as sementes das bibliotecas.\n",
    "  \n",
    "  References:\n",
    "      http://nlp.seas.harvard.edu/2018/04/03/attention.html\n",
    "      https://github.com/CyberZHG/torch-multi-head-attention/blob/master/torch_multi_head_attention/multi_head_attention.py#L15\n",
    "  \"\"\"\n",
    "  # Define as sementes das bibliotecas random, numpy e pytorch\n",
    "  random.seed(num_semente)\n",
    "  np.random.seed(num_semente)\n",
    "  torch.manual_seed(num_semente)\n",
    "  \n",
    "  # Define as sementes da GPU\n",
    "  torch.backends.cudnn.deterministic = True\n",
    "  torch.backends.cudnn.benchmark = False\n",
    "\n",
    "  #torch.cuda.manual_seed(num_semente)\n",
    "  #Cuda algorithms\n",
    "  #torch.backends.cudnn.deterministic = True\n"
   ]
  },
  {
   "cell_type": "code",
   "execution_count": 9,
   "metadata": {
    "id": "ViMcw_kVkbOf"
   },
   "outputs": [],
   "source": [
    "num_semente=123\n",
    "inicializa_seed(num_semente)"
   ]
  },
  {
   "cell_type": "markdown",
   "metadata": {
    "id": "8v2gtkEPhA0t"
   },
   "source": [
    "## Preparando para debug e display"
   ]
  },
  {
   "cell_type": "code",
   "execution_count": 10,
   "metadata": {
    "id": "BJ6S4P5Hw4iG"
   },
   "outputs": [],
   "source": [
    "import pandas as pd"
   ]
  },
  {
   "cell_type": "code",
   "execution_count": 11,
   "metadata": {
    "colab": {
     "base_uri": "https://localhost:8080/"
    },
    "id": "kebsl1uQDFUf",
    "outputId": "4b1ed269-722b-4a2a-f1a0-908d1683cc62"
   },
   "outputs": [],
   "source": [
    "#!pip install transformers -q"
   ]
  },
  {
   "cell_type": "code",
   "execution_count": 12,
   "metadata": {
    "id": "rnR2kDS_2FgZ"
   },
   "outputs": [
    {
     "name": "stderr",
     "output_type": "stream",
     "text": [
      "/home/borela/miniconda3/envs/treinapython39/lib/python3.9/site-packages/tqdm/auto.py:21: TqdmWarning: IProgress not found. Please update jupyter and ipywidgets. See https://ipywidgets.readthedocs.io/en/stable/user_install.html\n",
      "  from .autonotebook import tqdm as notebook_tqdm\n"
     ]
    }
   ],
   "source": [
    "import transformers"
   ]
  },
  {
   "cell_type": "markdown",
   "metadata": {
    "id": "4ZEqQ7mKg5fs"
   },
   "source": [
    "https://zohaib.me/debugging-in-google-collab-notebook/"
   ]
  },
  {
   "cell_type": "code",
   "execution_count": 13,
   "metadata": {
    "colab": {
     "base_uri": "https://localhost:8080/"
    },
    "id": "LjrlXHq1hC8n",
    "outputId": "18d94254-4bf8-4632-ef84-012727944746"
   },
   "outputs": [],
   "source": [
    "# !pip install -Uqq ipdb\n",
    "import ipdb\n",
    "# %pdb off # desativa debug em exceção\n",
    "# %pdb on  # ativa debug em exceção\n",
    "# ipdb.set_trace(context=8)  para execução nesse ponto"
   ]
  },
  {
   "cell_type": "code",
   "execution_count": 14,
   "metadata": {
    "id": "wQ5pmlOHxHhk"
   },
   "outputs": [],
   "source": [
    "def config_display():\n",
    "  \"\"\"\n",
    "  Esta função configura as opções de display do Pandas.\n",
    "  \"\"\"\n",
    "\n",
    "  # Configurando formato saída Pandas\n",
    "  # define o número máximo de colunas que serão exibidas\n",
    "  pd.options.display.max_columns = None\n",
    "\n",
    "  # define a largura máxima de uma linha\n",
    "  pd.options.display.width = 1000\n",
    "\n",
    "  # define o número máximo de linhas que serão exibidas\n",
    "  pd.options.display.max_rows = 100\n",
    "\n",
    "  # define o número máximo de caracteres por coluna\n",
    "  pd.options.display.max_colwidth = 50\n",
    "\n",
    "  # se deve exibir o número de linhas e colunas de um DataFrame.\n",
    "  pd.options.display.show_dimensions = True\n",
    "\n",
    "  # número de dígitos após a vírgula decimal a serem exibidos para floats.\n",
    "  pd.options.display.precision = 7\n"
   ]
  },
  {
   "cell_type": "code",
   "execution_count": 15,
   "metadata": {
    "id": "b2tDy72ATNHs"
   },
   "outputs": [],
   "source": [
    "def config_debug():\n",
    "  \"\"\"\n",
    "  Esta função configura as opções de debug do PyTorch e dos pacotes\n",
    "  transformers e datasets.\n",
    "  \"\"\"\n",
    "\n",
    "  # Define opções de impressão de tensores para o modo científico\n",
    "  torch.set_printoptions(sci_mode=True) \n",
    "  \"\"\"\n",
    "    Significa que valores muito grandes ou muito pequenos são mostrados em notação científica.\n",
    "    Por exemplo, em vez de imprimir o número 0.0000012345 como 0.0000012345, \n",
    "    ele seria impresso como 1.2345e-06. Isso é útil em situações em que os valores dos tensores \n",
    "    envolvidos nas operações são muito grandes ou pequenos, e a notação científica permite \n",
    "    uma melhor compreensão dos números envolvidos.  \n",
    "  \"\"\"\n",
    "\n",
    "  # Habilita detecção de anomalias no autograd do PyTorch\n",
    "  torch.autograd.set_detect_anomaly(True)\n",
    "  \"\"\"\n",
    "    Permite identificar operações que podem causar problemas de estabilidade numérica, \n",
    "    como gradientes explodindo ou desaparecendo. Quando essa opção é ativada, \n",
    "    o PyTorch verifica se há operações que geram valores NaN ou infinitos nos tensores \n",
    "    envolvidos no cálculo do gradiente. Se for detectado um valor anômalo, o PyTorch \n",
    "    interrompe a execução e gera uma exceção, permitindo que o erro seja corrigido \n",
    "    antes que se torne um problema maior.\n",
    "\n",
    "    É importante notar que a detecção de anomalias pode ter um impacto significativo \n",
    "    no desempenho, especialmente em modelos grandes e complexos. Por esse motivo,\n",
    "    ela deve ser usada com cautela e apenas para depuração.\n",
    "  \"\"\"\n",
    "\n",
    "  # Configura variável de ambiente para habilitar a execução síncrona (bloqueante) das chamadas da API do CUDA.\n",
    "  os.environ['CUDA_LAUNCH_BLOCKING'] = '1'\n",
    "  \"\"\"\n",
    "    o Python aguarda o término da execução de uma chamada da API do CUDA antes de executar a próxima chamada. \n",
    "    Isso é útil para depurar erros no código que envolve operações na GPU, pois permite que o erro seja capturado \n",
    "    no momento em que ocorre, e não depois de uma sequência de operações que pode tornar a origem do erro mais difícil de determinar.\n",
    "    No entanto, é importante lembrar que esse modo de execução é significativamente mais lento do que a execução assíncrona, \n",
    "    que é o comportamento padrão do CUDA. Por isso, é recomendado utilizar esse comando apenas em situações de depuração \n",
    "    e removê-lo após a solução do problema.\n",
    "  \"\"\"\n",
    "\n",
    "  # Define o nível de verbosity do pacote transformers para info\n",
    "  # transformers.utils.logging.set_verbosity_info() \n",
    "  \n",
    "  \n",
    "  \"\"\"\n",
    "    Define o nível de detalhamento das mensagens de log geradas pela biblioteca Hugging Face Transformers \n",
    "    para o nível info. Isso significa que a biblioteca irá imprimir mensagens de log informativas sobre\n",
    "    o andamento da execução, tais como tempo de execução, tamanho de batches, etc.\n",
    "\n",
    "    Essas informações podem ser úteis para entender o que está acontecendo durante a execução da tarefa \n",
    "    e auxiliar no processo de debug. É importante notar que, em alguns casos, a quantidade de informações\n",
    "    geradas pode ser muito grande, o que pode afetar o desempenho do sistema e dificultar a visualização\n",
    "    das informações relevantes. Por isso, é importante ajustar o nível de detalhamento de acordo com a \n",
    "    necessidade de cada tarefa.\n",
    "  \n",
    "    Caso queira reduzir a quantidade de mensagens, comentar a linha acima e \n",
    "      descomentar as duas linhas abaixo, para definir o nível de verbosity como error ou warning\n",
    "  \n",
    "    transformers.utils.logging.set_verbosity_error()\n",
    "    transformers.utils.logging.set_verbosity_warning()\n",
    "  \"\"\"\n",
    "\n",
    "\n",
    "  # Define o modo verbose do xmode, que é utilizado no debug\n",
    "  # %xmode Verbose \n",
    "\n",
    "  \"\"\"\n",
    "    Comando usado no Jupyter Notebook para controlar o modo de exibição das informações de exceções.\n",
    "    O modo verbose é um modo detalhado que exibe informações adicionais ao imprimir as exceções.\n",
    "    Ele inclui as informações de pilha de chamadas completa e valores de variáveis locais e globais \n",
    "    no momento da exceção. Isso pode ser útil para depurar e encontrar a causa de exceções em seu código.\n",
    "    Ao usar %xmode Verbose, as informações de exceção serão impressas com mais detalhes e informações adicionais serão incluídas.\n",
    "\n",
    "    Caso queira desabilitar o modo verbose e utilizar o modo plain, \n",
    "    comentar a linha acima e descomentar a linha abaixo:\n",
    "    %xmode Plain\n",
    "  \"\"\"\n",
    "\n",
    "  \"\"\"\n",
    "    Dica:\n",
    "    1.  pdb (Python Debugger)\n",
    "      Quando ocorre uma exceção em uma parte do código, o programa para a execução e exibe uma mensagem de erro \n",
    "      com informações sobre a exceção, como a linha do código em que ocorreu o erro e o tipo da exceção.\n",
    "\n",
    "      Se você estiver depurando o código e quiser examinar o estado das variáveis ​​e executar outras operações \n",
    "      no momento em que a exceção ocorreu, pode usar o pdb (Python Debugger). Para isso, é preciso colocar o comando %debug \n",
    "      logo após ocorrer a exceção. Isso fará com que o programa pare na linha em que ocorreu a exceção e abra o pdb,\n",
    "      permitindo que você explore o estado das variáveis, examine a pilha de chamadas e execute outras operações para depurar o código.\n",
    "\n",
    "\n",
    "    2. ipdb\n",
    "      O ipdb é um depurador interativo para o Python que oferece recursos mais avançados do que o pdb,\n",
    "      incluindo a capacidade de navegar pelo código fonte enquanto depura.\n",
    "      \n",
    "      Você pode começar a depurar seu código inserindo o comando ipdb.set_trace() em qualquer lugar do \n",
    "      seu código onde deseja pausar a execução e começar a depurar. Quando a execução chegar nessa linha, \n",
    "      o depurador entrará em ação, permitindo que você examine o estado atual do seu programa e execute \n",
    "      comandos para investigar o comportamento.\n",
    "\n",
    "      Durante a depuração, você pode usar comandos:\n",
    "        next (para executar a próxima linha de código), \n",
    "        step (para entrar em uma função chamada na próxima linha de código) \n",
    "        continue (para continuar a execução normalmente até o próximo ponto de interrupção).\n",
    "\n",
    "      Ao contrário do pdb, o ipdb é um depurador interativo que permite navegar pelo código fonte em que\n",
    "      está trabalhando enquanto depura, permitindo que você inspecione variáveis, defina pontos de interrupção\n",
    "      adicionais e até mesmo execute expressões Python no contexto do seu programa.\n",
    "  \"\"\"\n"
   ]
  },
  {
   "cell_type": "code",
   "execution_count": 16,
   "metadata": {
    "id": "Tb4aqtcExR84"
   },
   "outputs": [],
   "source": [
    "config_display()"
   ]
  },
  {
   "cell_type": "code",
   "execution_count": 17,
   "metadata": {
    "colab": {
     "base_uri": "https://localhost:8080/"
    },
    "id": "-5Bq4043fkfh",
    "outputId": "fa8e5db1-1feb-4393-fb66-d394d1ad693c"
   },
   "outputs": [],
   "source": [
    "config_debug()"
   ]
  },
  {
   "attachments": {},
   "cell_type": "markdown",
   "metadata": {},
   "source": [
    "# Carga dos dados msmarco_triples.train.tiny.tsv"
   ]
  },
  {
   "cell_type": "code",
   "execution_count": 18,
   "metadata": {},
   "outputs": [
    {
     "data": {
      "text/plain": [
       "True"
      ]
     },
     "execution_count": 18,
     "metadata": {},
     "output_type": "execute_result"
    }
   ],
   "source": [
    "os.path.exists(f\"{DIRETORIO_TRABALHO}/msmarco_triples.train.tiny.tsv\")"
   ]
  },
  {
   "cell_type": "code",
   "execution_count": 19,
   "metadata": {},
   "outputs": [],
   "source": [
    "if not os.path.exists(f\"{DIRETORIO_TRABALHO}/msmarco_triples.train.tiny.tsv\"):\n",
    "    !wget https://storage.googleapis.com/unicamp-dl/ia368dd_2023s1/msmarco/msmarco_triples.train.tiny.tsv\n",
    "    !mv msmarco_triples.train.tiny.tsv {DIRETORIO_TRABALHO}"
   ]
  },
  {
   "cell_type": "code",
   "execution_count": 20,
   "metadata": {},
   "outputs": [],
   "source": [
    "df = pd.read_csv(f\"{DIRETORIO_TRABALHO}/msmarco_triples.train.tiny.tsv\", delimiter=\"\\t\", \n",
    "                 header=None, names=[\"query\", \"positive\", \"negative\"])"
   ]
  },
  {
   "cell_type": "code",
   "execution_count": 21,
   "metadata": {},
   "outputs": [
    {
     "data": {
      "text/plain": [
       "(11000, 3)"
      ]
     },
     "execution_count": 21,
     "metadata": {},
     "output_type": "execute_result"
    }
   ],
   "source": [
    "df.shape"
   ]
  },
  {
   "cell_type": "code",
   "execution_count": 22,
   "metadata": {
    "colab": {
     "base_uri": "https://localhost:8080/",
     "height": 349
    },
    "id": "igtPldcHPwCS",
    "outputId": "594683c5-90e1-43d7-c00e-8d066b3fe161"
   },
   "outputs": [
    {
     "data": {
      "text/html": [
       "<div>\n",
       "<style scoped>\n",
       "    .dataframe tbody tr th:only-of-type {\n",
       "        vertical-align: middle;\n",
       "    }\n",
       "\n",
       "    .dataframe tbody tr th {\n",
       "        vertical-align: top;\n",
       "    }\n",
       "\n",
       "    .dataframe thead th {\n",
       "        text-align: right;\n",
       "    }\n",
       "</style>\n",
       "<table border=\"1\" class=\"dataframe\">\n",
       "  <thead>\n",
       "    <tr style=\"text-align: right;\">\n",
       "      <th></th>\n",
       "      <th>query</th>\n",
       "      <th>positive</th>\n",
       "      <th>negative</th>\n",
       "    </tr>\n",
       "  </thead>\n",
       "  <tbody>\n",
       "    <tr>\n",
       "      <th>0</th>\n",
       "      <td>is a little caffeine ok during pregnancy</td>\n",
       "      <td>We donât know a lot about the effects of caf...</td>\n",
       "      <td>It is generally safe for pregnant women to eat...</td>\n",
       "    </tr>\n",
       "    <tr>\n",
       "      <th>1</th>\n",
       "      <td>what fruit is native to australia</td>\n",
       "      <td>Passiflora herbertiana. A rare passion fruit n...</td>\n",
       "      <td>The kola nut is the fruit of the kola tree, a ...</td>\n",
       "    </tr>\n",
       "    <tr>\n",
       "      <th>2</th>\n",
       "      <td>how large is the canadian military</td>\n",
       "      <td>The Canadian Armed Forces. 1  The first large-...</td>\n",
       "      <td>The Canadian Physician Health Institute (CPHI)...</td>\n",
       "    </tr>\n",
       "    <tr>\n",
       "      <th>3</th>\n",
       "      <td>types of fruit trees</td>\n",
       "      <td>Cherry. Cherry trees are found throughout the ...</td>\n",
       "      <td>The kola nut is the fruit of the kola tree, a ...</td>\n",
       "    </tr>\n",
       "    <tr>\n",
       "      <th>4</th>\n",
       "      <td>how many calories a day are lost breastfeeding</td>\n",
       "      <td>Not only is breastfeeding better for the baby,...</td>\n",
       "      <td>However, you still need some niacin each day; ...</td>\n",
       "    </tr>\n",
       "  </tbody>\n",
       "</table>\n",
       "<p>5 rows × 3 columns</p>\n",
       "</div>"
      ],
      "text/plain": [
       "                                            query                                           positive                                           negative\n",
       "0        is a little caffeine ok during pregnancy  We donât know a lot about the effects of caf...  It is generally safe for pregnant women to eat...\n",
       "1               what fruit is native to australia  Passiflora herbertiana. A rare passion fruit n...  The kola nut is the fruit of the kola tree, a ...\n",
       "2              how large is the canadian military  The Canadian Armed Forces. 1  The first large-...  The Canadian Physician Health Institute (CPHI)...\n",
       "3                            types of fruit trees  Cherry. Cherry trees are found throughout the ...  The kola nut is the fruit of the kola tree, a ...\n",
       "4  how many calories a day are lost breastfeeding  Not only is breastfeeding better for the baby,...  However, you still need some niacin each day; ...\n",
       "\n",
       "[5 rows x 3 columns]"
      ]
     },
     "execution_count": 22,
     "metadata": {},
     "output_type": "execute_result"
    }
   ],
   "source": [
    "df.head()"
   ]
  },
  {
   "cell_type": "code",
   "execution_count": 23,
   "metadata": {
    "colab": {
     "base_uri": "https://localhost:8080/"
    },
    "id": "ua7i1BCTRTGx",
    "outputId": "7e8162d8-a630-4014-9e2c-057d66a94768"
   },
   "outputs": [
    {
     "data": {
      "text/plain": [
       "query       object\n",
       "positive    object\n",
       "negative    object\n",
       "Length: 3, dtype: object"
      ]
     },
     "execution_count": 23,
     "metadata": {},
     "output_type": "execute_result"
    }
   ],
   "source": [
    "df.dtypes\n"
   ]
  },
  {
   "cell_type": "markdown",
   "metadata": {
    "id": "bQ3S90BBTrKJ"
   },
   "source": [
    "Verificando correção do arquivo!"
   ]
  },
  {
   "cell_type": "code",
   "execution_count": 24,
   "metadata": {
    "colab": {
     "base_uri": "https://localhost:8080/"
    },
    "id": "Qm7ss2BfTlOu",
    "outputId": "a7140122-cf21-46cd-cb04-decdcf3cb959"
   },
   "outputs": [
    {
     "name": "stdout",
     "output_type": "stream",
     "text": [
      "query       0\n",
      "positive    0\n",
      "negative    0\n",
      "Length: 3, dtype: int64\n"
     ]
    }
   ],
   "source": [
    "print(df.isnull().sum())"
   ]
  },
  {
   "cell_type": "code",
   "execution_count": 25,
   "metadata": {},
   "outputs": [],
   "source": [
    "# !pip install -q ftfy\n",
    "import ftfy"
   ]
  },
  {
   "cell_type": "code",
   "execution_count": 26,
   "metadata": {},
   "outputs": [],
   "source": [
    "x = 'We donât know a lot about the effects'"
   ]
  },
  {
   "cell_type": "code",
   "execution_count": 27,
   "metadata": {},
   "outputs": [
    {
     "data": {
      "text/plain": [
       "\"We don't know a lot about the effects\""
      ]
     },
     "execution_count": 27,
     "metadata": {},
     "output_type": "execute_result"
    }
   ],
   "source": [
    "ftfy.fix_text(x)"
   ]
  },
  {
   "cell_type": "code",
   "execution_count": 28,
   "metadata": {},
   "outputs": [
    {
     "data": {
      "text/plain": [
       "query        34.2256364\n",
       "positive    353.7535455\n",
       "negative    340.4646364\n",
       "Length: 3, dtype: float64"
      ]
     },
     "execution_count": 28,
     "metadata": {},
     "output_type": "execute_result"
    }
   ],
   "source": [
    "df.applymap(len).mean()"
   ]
  },
  {
   "cell_type": "code",
   "execution_count": 29,
   "metadata": {},
   "outputs": [],
   "source": [
    "# pois treinaremos doc2query apenas para geração de queries relevantes\n",
    "del df['negative']"
   ]
  },
  {
   "cell_type": "code",
   "execution_count": 30,
   "metadata": {
    "id": "Lg0b1wj0SEsY"
   },
   "outputs": [],
   "source": [
    "df['query'] = df['query'].apply(ftfy.fix_text)\n",
    "df['positive'] = df['positive'].apply(ftfy.fix_text)\n"
   ]
  },
  {
   "cell_type": "code",
   "execution_count": 31,
   "metadata": {
    "colab": {
     "base_uri": "https://localhost:8080/",
     "height": 349
    },
    "id": "igtPldcHPwCS",
    "outputId": "594683c5-90e1-43d7-c00e-8d066b3fe161"
   },
   "outputs": [
    {
     "data": {
      "text/html": [
       "<div>\n",
       "<style scoped>\n",
       "    .dataframe tbody tr th:only-of-type {\n",
       "        vertical-align: middle;\n",
       "    }\n",
       "\n",
       "    .dataframe tbody tr th {\n",
       "        vertical-align: top;\n",
       "    }\n",
       "\n",
       "    .dataframe thead th {\n",
       "        text-align: right;\n",
       "    }\n",
       "</style>\n",
       "<table border=\"1\" class=\"dataframe\">\n",
       "  <thead>\n",
       "    <tr style=\"text-align: right;\">\n",
       "      <th></th>\n",
       "      <th>query</th>\n",
       "      <th>positive</th>\n",
       "    </tr>\n",
       "  </thead>\n",
       "  <tbody>\n",
       "    <tr>\n",
       "      <th>0</th>\n",
       "      <td>is a little caffeine ok during pregnancy</td>\n",
       "      <td>We don't know a lot about the effects of caffe...</td>\n",
       "    </tr>\n",
       "    <tr>\n",
       "      <th>1</th>\n",
       "      <td>what fruit is native to australia</td>\n",
       "      <td>Passiflora herbertiana. A rare passion fruit n...</td>\n",
       "    </tr>\n",
       "    <tr>\n",
       "      <th>2</th>\n",
       "      <td>how large is the canadian military</td>\n",
       "      <td>The Canadian Armed Forces. 1  The first large-...</td>\n",
       "    </tr>\n",
       "    <tr>\n",
       "      <th>3</th>\n",
       "      <td>types of fruit trees</td>\n",
       "      <td>Cherry. Cherry trees are found throughout the ...</td>\n",
       "    </tr>\n",
       "    <tr>\n",
       "      <th>4</th>\n",
       "      <td>how many calories a day are lost breastfeeding</td>\n",
       "      <td>Not only is breastfeeding better for the baby,...</td>\n",
       "    </tr>\n",
       "  </tbody>\n",
       "</table>\n",
       "<p>5 rows × 2 columns</p>\n",
       "</div>"
      ],
      "text/plain": [
       "                                            query                                           positive\n",
       "0        is a little caffeine ok during pregnancy  We don't know a lot about the effects of caffe...\n",
       "1               what fruit is native to australia  Passiflora herbertiana. A rare passion fruit n...\n",
       "2              how large is the canadian military  The Canadian Armed Forces. 1  The first large-...\n",
       "3                            types of fruit trees  Cherry. Cherry trees are found throughout the ...\n",
       "4  how many calories a day are lost breastfeeding  Not only is breastfeeding better for the baby,...\n",
       "\n",
       "[5 rows x 2 columns]"
      ]
     },
     "execution_count": 31,
     "metadata": {},
     "output_type": "execute_result"
    }
   ],
   "source": [
    "df.head()"
   ]
  },
  {
   "attachments": {},
   "cell_type": "markdown",
   "metadata": {},
   "source": [
    "# Divisão em treino e validação"
   ]
  },
  {
   "cell_type": "code",
   "execution_count": 32,
   "metadata": {},
   "outputs": [],
   "source": [
    "from sklearn.model_selection import train_test_split"
   ]
  },
  {
   "cell_type": "code",
   "execution_count": 33,
   "metadata": {},
   "outputs": [],
   "source": [
    "X_train, X_valid, Y_train, Y_valid = train_test_split(df['positive'].values, \n",
    "                                                      df['query'].values,\n",
    "                                                      test_size=1000, \n",
    "                                                      random_state=num_semente)"
   ]
  },
  {
   "cell_type": "code",
   "execution_count": 34,
   "metadata": {},
   "outputs": [
    {
     "data": {
      "text/plain": [
       "(numpy.ndarray, (1000,), 'how many fitbit steps equal a mile')"
      ]
     },
     "execution_count": 34,
     "metadata": {},
     "output_type": "execute_result"
    }
   ],
   "source": [
    "type(Y_valid), Y_valid.shape, Y_valid[0]"
   ]
  },
  {
   "cell_type": "code",
   "execution_count": 35,
   "metadata": {},
   "outputs": [
    {
     "data": {
      "text/plain": [
       "(numpy.ndarray,\n",
       " (10000,),\n",
       " 'There are 40 weeks in a school year - and 12 weeks of holidays. Unless you live somewhere snowy and you have to take snow days. These can extend the length by another week or so. There are 40 weeks in a school year - and 12 weeks of holidays. Unless you live somewhere snowy and you have to take snow days.')"
      ]
     },
     "execution_count": 35,
     "metadata": {},
     "output_type": "execute_result"
    }
   ],
   "source": [
    "type(X_train), X_train.shape, X_train[0]"
   ]
  },
  {
   "attachments": {},
   "cell_type": "markdown",
   "metadata": {},
   "source": [
    "# Explorando o tokenizador do t5-base"
   ]
  },
  {
   "cell_type": "code",
   "execution_count": 36,
   "metadata": {},
   "outputs": [],
   "source": [
    "from transformers import T5Tokenizer"
   ]
  },
  {
   "cell_type": "code",
   "execution_count": 37,
   "metadata": {},
   "outputs": [
    {
     "name": "stderr",
     "output_type": "stream",
     "text": [
      "/home/borela/miniconda3/envs/treinapython39/lib/python3.9/site-packages/transformers/models/t5/tokenization_t5.py:163: FutureWarning: This tokenizer was incorrectly instantiated with a model max length of 512 which will be corrected in Transformers v5.\n",
      "For now, this behavior is kept to avoid breaking backwards compatibility when padding/encoding with `truncation is True`.\n",
      "- Be aware that you SHOULD NOT rely on t5-base automatically truncating your input to 512 when padding/encoding.\n",
      "- If you want to encode/pad to sequences longer than 512 you can either instantiate this tokenizer with `model_max_length` or pass `max_length` when encoding/padding.\n",
      "- To avoid this warning, please instantiate this tokenizer with `model_max_length` set to your preferred value.\n",
      "  warnings.warn(\n"
     ]
    }
   ],
   "source": [
    "tokenizer = T5Tokenizer.from_pretrained(\"t5-base\")"
   ]
  },
  {
   "cell_type": "code",
   "execution_count": 38,
   "metadata": {},
   "outputs": [
    {
     "data": {
      "text/plain": [
       "(0, None, None)"
      ]
     },
     "execution_count": 38,
     "metadata": {},
     "output_type": "execute_result"
    }
   ],
   "source": [
    "tokenizer.pad_token_id,tokenizer.cls_token_id,tokenizer.sep_token_id"
   ]
  },
  {
   "cell_type": "code",
   "execution_count": 39,
   "metadata": {},
   "outputs": [],
   "source": [
    "x='it is just a test!'\n",
    "y='it is just a continuation!'"
   ]
  },
  {
   "cell_type": "code",
   "execution_count": 40,
   "metadata": {},
   "outputs": [
    {
     "name": "stdout",
     "output_type": "stream",
     "text": [
      "[34, 19, 131, 3, 9, 794, 55, 1, 34, 19, 131, 3, 9, 25192, 55, 1]\n"
     ]
    }
   ],
   "source": [
    "input_ids = tokenizer.encode_plus(x,y)['input_ids']\n",
    "print(input_ids)"
   ]
  },
  {
   "cell_type": "code",
   "execution_count": 41,
   "metadata": {},
   "outputs": [
    {
     "name": "stdout",
     "output_type": "stream",
     "text": [
      "['it', 'is', 'just', '', 'a', 'test', '!', '</s>', 'it', 'is', 'just', '', 'a', 'continuation', '!', '</s>']\n"
     ]
    }
   ],
   "source": [
    "print(tokenizer.batch_decode(input_ids))"
   ]
  },
  {
   "cell_type": "code",
   "execution_count": 42,
   "metadata": {},
   "outputs": [
    {
     "name": "stdout",
     "output_type": "stream",
     "text": [
      "[[34, 19, 131, 3, 9, 794, 55, 1], [34, 19, 131, 3, 9, 25192, 55, 1]]\n"
     ]
    }
   ],
   "source": [
    "input_ids = tokenizer([x,y])['input_ids']\n",
    "print(input_ids)"
   ]
  },
  {
   "cell_type": "code",
   "execution_count": 43,
   "metadata": {},
   "outputs": [
    {
     "data": {
      "text/plain": [
       "('</s>', 1)"
      ]
     },
     "execution_count": 43,
     "metadata": {},
     "output_type": "execute_result"
    }
   ],
   "source": [
    "tokenizer.eos_token, tokenizer.eos_token_id"
   ]
  },
  {
   "cell_type": "code",
   "execution_count": 44,
   "metadata": {},
   "outputs": [
    {
     "data": {
      "text/plain": [
       "['</s>', '<unk>', '<pad>', '<extra_id_0>']"
      ]
     },
     "execution_count": 44,
     "metadata": {},
     "output_type": "execute_result"
    }
   ],
   "source": [
    "tokenizer.all_special_tokens[:4]"
   ]
  },
  {
   "cell_type": "code",
   "execution_count": 45,
   "metadata": {},
   "outputs": [
    {
     "data": {
      "text/plain": [
       "('<unk>', 2)"
      ]
     },
     "execution_count": 45,
     "metadata": {},
     "output_type": "execute_result"
    }
   ],
   "source": [
    "tokenizer.unk_token, tokenizer.unk_token_id"
   ]
  },
  {
   "cell_type": "code",
   "execution_count": 46,
   "metadata": {},
   "outputs": [
    {
     "data": {
      "text/plain": [
       "('<pad>', 0)"
      ]
     },
     "execution_count": 46,
     "metadata": {},
     "output_type": "execute_result"
    }
   ],
   "source": [
    "tokenizer.pad_token, tokenizer.pad_token_id"
   ]
  },
  {
   "cell_type": "code",
   "execution_count": 47,
   "metadata": {},
   "outputs": [
    {
     "data": {
      "text/plain": [
       "(511, 512)"
      ]
     },
     "execution_count": 47,
     "metadata": {},
     "output_type": "execute_result"
    }
   ],
   "source": [
    "tokenizer.max_len_single_sentence, tokenizer.model_max_length"
   ]
  },
  {
   "attachments": {},
   "cell_type": "markdown",
   "metadata": {},
   "source": [
    "# Criando dataset"
   ]
  },
  {
   "cell_type": "code",
   "execution_count": 48,
   "metadata": {},
   "outputs": [],
   "source": [
    "from torch.utils.data import Dataset"
   ]
  },
  {
   "cell_type": "code",
   "execution_count": 49,
   "metadata": {},
   "outputs": [],
   "source": [
    "from scipy import stats"
   ]
  },
  {
   "cell_type": "code",
   "execution_count": 50,
   "metadata": {},
   "outputs": [],
   "source": [
    "class MyDataset(Dataset):\n",
    "    \"\"\"\n",
    "      Classe para criar um dataset de texto e query.\n",
    "    \"\"\"  \n",
    "    def __init__(self, texts: np.ndarray, queries:np.ndarray, tokenizer):\n",
    "      \"\"\"\n",
    "      Inicializa um novo objeto MyDataset.\n",
    "\n",
    "      Args:\n",
    "          texts (np.ndarray): um array com as strings de texto. Cada linha deve ter 2 strings.\n",
    "          tokenizer: um objeto tokenizer do Hugging Face Transformers.\n",
    "          max_seq_length (int): o tamanho máximo da sequência a ser considerado.\n",
    "      Raises:\n",
    "          AssertionError: se os parâmetros não estiverem no formato esperado.\n",
    "      \"\"\"\n",
    "      # Verifica se os parâmetros são do tipo esperado\n",
    "      assert isinstance(texts, np.ndarray), f\"Parâmetro texts deve ser do tipo np.ndarray e não {type(texts)}\"\n",
    "      assert isinstance(queries, np.ndarray), f\"Parâmetro queries deve ser do tipo np.ndarray e não {type(queries)}\"\n",
    "      for row in texts:\n",
    "          assert isinstance(row, str), f\"Each element in texts.row must be a string e não {type(row)}\"\n",
    "          break\n",
    "\n",
    "      self.max_seq_length = tokenizer.model_max_length\n",
    "\n",
    "      # Salvar os dados dos tensores para adiantar o tempo de processamento\n",
    "      self.tokenized_texts = tokenizer.batch_encode_plus(texts, return_length=True)\n",
    "      self.tokenized_queries = tokenizer.batch_encode_plus(queries, return_attention_mask=False, return_length=True)\n",
    "      \n",
    "      print(\"tokenized_texts size stats:\\n{}\\n\".format(stats.describe(self.tokenized_texts['length'])))\n",
    "      print(\"tokenized_queries size stats:\\n{}\\n\".format(stats.describe(self.tokenized_queries['length']))) \n",
    "\n",
    "    def __len__(self):\n",
    "        \"\"\"\n",
    "          Retorna o tamanho do dataset (= tamanho do array texts)\n",
    "        \"\"\"\n",
    "        return len(self.tokenized_texts[\"input_ids\"])\n",
    "    \n",
    "    def __getitem__(self, index):\n",
    "        \"\"\"\n",
    "          Retorna um dicionário com os dados do texto e sua classe correspondente, em um formato que pode \n",
    "          ser usado pelo dataloader do PyTorch para alimentar um modelo de aprendizado de máquina.\n",
    "        \"\"\"\n",
    "        # print(f\"getitem index={index} self.tokenized_texts['input_ids'][index] {self.tokenized_texts['input_ids'][index]}\")\n",
    "        saida = {\"input_ids\": self.tokenized_texts[\"input_ids\"][index], \n",
    "                \"attention_mask\": self.tokenized_texts[\"attention_mask\"][index], \n",
    "                \"labels\": self.tokenized_queries[\"input_ids\"][index]} \n",
    "        # print(f\"saida {saida}\")\n",
    "        return saida\n"
   ]
  },
  {
   "cell_type": "markdown",
   "metadata": {
    "id": "17AcNhe2C4tb"
   },
   "source": [
    "#### Testando o MyDataset e o Dataloader"
   ]
  },
  {
   "cell_type": "code",
   "execution_count": 51,
   "metadata": {
    "id": "_tNkc8kmC8ie"
   },
   "outputs": [],
   "source": [
    "# Cria dados fictícios\n",
    "texts = np.array(['This is the first text',\n",
    "                  'This is text 2.1',\n",
    "                  'This is text 3.1',\n",
    "                  'This is text 4.1',\n",
    "                  'This is text 5.1',\n",
    "                  'This is text 6.1',\n",
    "                  'This is text 7.1'])\n",
    "queries = np.array(['This is the first query',\n",
    "                  'This is query 2.1',\n",
    "                  'This is query 3.1',\n",
    "                  'This is query 4.1',\n",
    "                  'This is query 5.1',\n",
    "                  'This is query 6.1',\n",
    "                  'This is query 7.1'])"
   ]
  },
  {
   "cell_type": "code",
   "execution_count": 52,
   "metadata": {},
   "outputs": [
    {
     "data": {
      "text/plain": [
       "(7,)"
      ]
     },
     "execution_count": 52,
     "metadata": {},
     "output_type": "execute_result"
    }
   ],
   "source": [
    "texts.shape"
   ]
  },
  {
   "cell_type": "code",
   "execution_count": 53,
   "metadata": {},
   "outputs": [
    {
     "data": {
      "text/plain": [
       "{'input_ids': [[100, 19, 8, 166, 1499, 1], [100, 19, 1499, 3, 14489, 1], [100, 19, 1499, 3, 18495, 1], [100, 19, 1499, 3, 19708, 1], [100, 19, 1499, 3, 20519, 1], [100, 19, 1499, 3, 23769, 1], [100, 19, 1499, 3, 25059, 1]], 'attention_mask': [[1, 1, 1, 1, 1, 1], [1, 1, 1, 1, 1, 1], [1, 1, 1, 1, 1, 1], [1, 1, 1, 1, 1, 1], [1, 1, 1, 1, 1, 1], [1, 1, 1, 1, 1, 1], [1, 1, 1, 1, 1, 1]]}"
      ]
     },
     "execution_count": 53,
     "metadata": {},
     "output_type": "execute_result"
    }
   ],
   "source": [
    "tokenizer.batch_encode_plus(texts)"
   ]
  },
  {
   "cell_type": "code",
   "execution_count": 54,
   "metadata": {
    "colab": {
     "base_uri": "https://localhost:8080/"
    },
    "id": "IbaCMoKRDy20",
    "outputId": "1853f452-f5a4-4803-d33b-b0dd58c8ba65"
   },
   "outputs": [
    {
     "name": "stdout",
     "output_type": "stream",
     "text": [
      "tokenized_texts size stats:\n",
      "DescribeResult(nobs=7, minmax=(6, 6), mean=6.0, variance=0.0, skewness=nan, kurtosis=nan)\n",
      "\n",
      "tokenized_queries size stats:\n",
      "DescribeResult(nobs=7, minmax=(6, 6), mean=6.0, variance=0.0, skewness=nan, kurtosis=nan)\n",
      "\n"
     ]
    },
    {
     "name": "stderr",
     "output_type": "stream",
     "text": [
      "/tmp/ipykernel_171944/1892734461.py:29: RuntimeWarning: Precision loss occurred in moment calculation due to catastrophic cancellation. This occurs when the data are nearly identical. Results may be unreliable.\n",
      "  print(\"tokenized_texts size stats:\\n{}\\n\".format(stats.describe(self.tokenized_texts['length'])))\n",
      "/home/borela/miniconda3/envs/treinapython39/lib/python3.9/site-packages/scipy/stats/_stats_py.py:1522: RuntimeWarning: Precision loss occurred in moment calculation due to catastrophic cancellation. This occurs when the data are nearly identical. Results may be unreliable.\n",
      "  sk = skew(a, axis, bias=bias)\n",
      "/home/borela/miniconda3/envs/treinapython39/lib/python3.9/site-packages/scipy/stats/_stats_py.py:1523: RuntimeWarning: Precision loss occurred in moment calculation due to catastrophic cancellation. This occurs when the data are nearly identical. Results may be unreliable.\n",
      "  kurt = kurtosis(a, axis, bias=bias)\n",
      "/tmp/ipykernel_171944/1892734461.py:30: RuntimeWarning: Precision loss occurred in moment calculation due to catastrophic cancellation. This occurs when the data are nearly identical. Results may be unreliable.\n",
      "  print(\"tokenized_queries size stats:\\n{}\\n\".format(stats.describe(self.tokenized_queries['length'])))\n"
     ]
    }
   ],
   "source": [
    "# Cria um objeto da classe MyDataset\n",
    "dummy_dataset = MyDataset(texts=texts, queries=queries, tokenizer=tokenizer)"
   ]
  },
  {
   "cell_type": "code",
   "execution_count": 55,
   "metadata": {
    "colab": {
     "base_uri": "https://localhost:8080/"
    },
    "id": "xFNuWyMYDz7v",
    "outputId": "f74ff3bd-84d6-42a8-a7de-88501b882de9"
   },
   "outputs": [],
   "source": [
    "# Testa o método __len__()\n",
    "assert len(dummy_dataset) == 7\n"
   ]
  },
  {
   "cell_type": "code",
   "execution_count": 56,
   "metadata": {},
   "outputs": [],
   "source": [
    "\n",
    "# Testa o método __getitem__()\n",
    "sample = dummy_dataset[0]\n"
   ]
  },
  {
   "cell_type": "code",
   "execution_count": 57,
   "metadata": {},
   "outputs": [
    {
     "data": {
      "text/plain": [
       "list"
      ]
     },
     "execution_count": 57,
     "metadata": {},
     "output_type": "execute_result"
    }
   ],
   "source": [
    "type(sample['input_ids'])"
   ]
  },
  {
   "cell_type": "code",
   "execution_count": 58,
   "metadata": {},
   "outputs": [],
   "source": [
    "\n",
    "assert set(sample.keys()) == {'input_ids', 'attention_mask', 'labels'} # \n",
    "assert isinstance(sample['input_ids'], list)\n",
    "assert isinstance(sample['attention_mask'], list)\n",
    "assert isinstance(sample['labels'], list)\n"
   ]
  },
  {
   "cell_type": "code",
   "execution_count": 59,
   "metadata": {
    "colab": {
     "base_uri": "https://localhost:8080/"
    },
    "id": "D9ng05CvFu1t",
    "outputId": "476a8515-b00e-4df7-b7f4-be4382ae8917"
   },
   "outputs": [
    {
     "name": "stdout",
     "output_type": "stream",
     "text": [
      "{'input_ids': [100, 19, 8, 166, 1499, 1], 'attention_mask': [1, 1, 1, 1, 1, 1], 'labels': [100, 19, 8, 166, 11417, 1]}\n"
     ]
    }
   ],
   "source": [
    "print(sample)"
   ]
  },
  {
   "attachments": {},
   "cell_type": "markdown",
   "metadata": {},
   "source": [
    "## Explorando dataset e dataloaser"
   ]
  },
  {
   "cell_type": "code",
   "execution_count": 60,
   "metadata": {},
   "outputs": [],
   "source": [
    "from torch.utils.data import DataLoader"
   ]
  },
  {
   "cell_type": "code",
   "execution_count": 61,
   "metadata": {
    "id": "5INVpV1RGuau"
   },
   "outputs": [],
   "source": [
    "dummy_loader = DataLoader(dummy_dataset, batch_size=3, shuffle=False, num_workers=0 )"
   ]
  },
  {
   "cell_type": "code",
   "execution_count": 62,
   "metadata": {},
   "outputs": [],
   "source": [
    "first_batch = next(iter(dummy_loader))"
   ]
  },
  {
   "cell_type": "code",
   "execution_count": 63,
   "metadata": {},
   "outputs": [
    {
     "data": {
      "text/plain": [
       "{'input_ids': [tensor([100, 100, 100]),\n",
       "  tensor([19, 19, 19]),\n",
       "  tensor([   8, 1499, 1499]),\n",
       "  tensor([166,   3,   3]),\n",
       "  tensor([ 1499, 14489, 18495]),\n",
       "  tensor([1, 1, 1])],\n",
       " 'attention_mask': [tensor([1, 1, 1]),\n",
       "  tensor([1, 1, 1]),\n",
       "  tensor([1, 1, 1]),\n",
       "  tensor([1, 1, 1]),\n",
       "  tensor([1, 1, 1]),\n",
       "  tensor([1, 1, 1])],\n",
       " 'labels': [tensor([100, 100, 100]),\n",
       "  tensor([19, 19, 19]),\n",
       "  tensor([    8, 11417, 11417]),\n",
       "  tensor([166,   3,   3]),\n",
       "  tensor([11417, 14489, 18495]),\n",
       "  tensor([1, 1, 1])]}"
      ]
     },
     "execution_count": 63,
     "metadata": {},
     "output_type": "execute_result"
    }
   ],
   "source": [
    "first_batch"
   ]
  },
  {
   "cell_type": "code",
   "execution_count": 64,
   "metadata": {},
   "outputs": [
    {
     "name": "stdout",
     "output_type": "stream",
     "text": [
      "tokenized_texts size stats:\n",
      "DescribeResult(nobs=1000, minmax=(20, 299), mean=86.623, variance=1287.2781491491492, skewness=1.203754702156062, kurtosis=1.888567910351541)\n",
      "\n",
      "tokenized_queries size stats:\n",
      "DescribeResult(nobs=1000, minmax=(3, 25), mean=9.517, variance=10.392103103103105, skewness=0.8108317830729576, kurtosis=1.3237936614062669)\n",
      "\n"
     ]
    }
   ],
   "source": [
    "# train_dataset = MyDataset(X_train, Y_train, tokenizer)\n",
    "val_dataset = MyDataset(X_valid, Y_valid, tokenizer)"
   ]
  },
  {
   "cell_type": "code",
   "execution_count": 65,
   "metadata": {},
   "outputs": [
    {
     "name": "stdout",
     "output_type": "stream",
     "text": [
      "tokenized_texts size stats:\n",
      "DescribeResult(nobs=10000, minmax=(14, 326), mean=86.9556, variance=1262.5688855285528, skewness=1.138437592548724, kurtosis=1.5776621817771685)\n",
      "\n",
      "tokenized_queries size stats:\n",
      "DescribeResult(nobs=10000, minmax=(3, 57), mean=9.5016, variance=12.030400480048003, skewness=1.7924405763231719, kurtosis=10.845883054521773)\n",
      "\n"
     ]
    }
   ],
   "source": [
    "train_dataset = MyDataset(X_train, Y_train, tokenizer)"
   ]
  },
  {
   "cell_type": "code",
   "execution_count": 66,
   "metadata": {},
   "outputs": [
    {
     "data": {
      "text/plain": [
       "(10000, 1000)"
      ]
     },
     "execution_count": 66,
     "metadata": {},
     "output_type": "execute_result"
    }
   ],
   "source": [
    "len(train_dataset),len(val_dataset)"
   ]
  },
  {
   "attachments": {},
   "cell_type": "markdown",
   "metadata": {},
   "source": [
    "# Treinamento"
   ]
  },
  {
   "attachments": {},
   "cell_type": "markdown",
   "metadata": {},
   "source": [
    "## Integração com Neptune"
   ]
  },
  {
   "cell_type": "code",
   "execution_count": 67,
   "metadata": {},
   "outputs": [],
   "source": [
    "import getpass"
   ]
  },
  {
   "cell_type": "code",
   "execution_count": 68,
   "metadata": {},
   "outputs": [],
   "source": [
    "os.environ['NEPTUNE_ALLOW_SELF_SIGNED_CERTIFICATE'] = 'TRUE'\n",
    "os.environ['NEPTUNE_PROJECT'] = 'marcusborela/IA386DD'"
   ]
  },
  {
   "cell_type": "code",
   "execution_count": 69,
   "metadata": {},
   "outputs": [],
   "source": [
    "os.environ['NEPTUNE_API_TOKEN'] = getpass.getpass('Informe NEPTUNE_API_TOKEN')\n"
   ]
  },
  {
   "attachments": {},
   "cell_type": "markdown",
   "metadata": {},
   "source": [
    "## Metrics definition"
   ]
  },
  {
   "attachments": {},
   "cell_type": "markdown",
   "metadata": {},
   "source": [
    "Código fonte em https://github.com/huggingface/transformers/blob/main/examples/pytorch/translation/run_translation.py"
   ]
  },
  {
   "cell_type": "code",
   "execution_count": 71,
   "metadata": {},
   "outputs": [],
   "source": [
    "# !pip install evaluate\n",
    "import evaluate"
   ]
  },
  {
   "cell_type": "code",
   "execution_count": 85,
   "metadata": {},
   "outputs": [],
   "source": [
    "# Metric\n",
    "metric = evaluate.load(\"sacrebleu\")\n",
    "\n",
    "def postprocess_text(preds, labels):\n",
    "    preds = [pred.strip() for pred in preds]\n",
    "    labels = [[label.strip()] for label in labels]\n",
    "    return preds, labels\n",
    "\n",
    "def compute_metrics_bleu(eval_preds):\n",
    "    preds, labels = eval_preds\n",
    "    if isinstance(preds, tuple):\n",
    "        preds = preds[0]\n",
    "    decoded_preds = tokenizer.batch_decode(preds, skip_special_tokens=True)\n",
    "    \n",
    "    labels = np.where(labels != -100, labels, tokenizer.pad_token_id)\n",
    "    decoded_labels = tokenizer.batch_decode(labels, skip_special_tokens=True)\n",
    "\n",
    "    # Some simple post-processing\n",
    "    decoded_preds, decoded_labels = postprocess_text(decoded_preds, decoded_labels)\n",
    "    result = metric.compute(predictions=decoded_preds, references=decoded_labels)\n",
    "    # print(f\"Em compute_metrics: result={result}\")\n",
    "\n",
    "    result = {\"bleu\": result[\"score\"]}\n",
    "    print(f\"Em compute_metrics: bleu={result['bleu']}\")\n",
    "    print(f\"Predicao[0]    :{decoded_preds[0]}/nGround_truth[0]:{decoded_labels[0]}\")\n",
    "\n",
    "    return result\n",
    "        "
   ]
  },
  {
   "attachments": {},
   "cell_type": "markdown",
   "metadata": {},
   "source": [
    "## Funções de apoio"
   ]
  },
  {
   "cell_type": "code",
   "execution_count": 73,
   "metadata": {},
   "outputs": [],
   "source": [
    "from transformers import DataCollatorForSeq2Seq, T5ForConditionalGeneration"
   ]
  },
  {
   "cell_type": "code",
   "execution_count": 74,
   "metadata": {},
   "outputs": [],
   "source": [
    "from transformers import Seq2SeqTrainingArguments, Seq2SeqTrainer, TrainerCallback"
   ]
  },
  {
   "cell_type": "code",
   "execution_count": 75,
   "metadata": {},
   "outputs": [],
   "source": [
    "from transformers.optimization import Adafactor, AdafactorSchedule"
   ]
  },
  {
   "cell_type": "code",
   "execution_count": 76,
   "metadata": {},
   "outputs": [],
   "source": [
    "from transformers import get_cosine_with_hard_restarts_schedule_with_warmup "
   ]
  },
  {
   "cell_type": "code",
   "execution_count": 77,
   "metadata": {},
   "outputs": [],
   "source": [
    "import time"
   ]
  },
  {
   "cell_type": "code",
   "execution_count": 78,
   "metadata": {},
   "outputs": [],
   "source": [
    "import math"
   ]
  },
  {
   "cell_type": "code",
   "execution_count": 79,
   "metadata": {},
   "outputs": [],
   "source": [
    "class CustomTrainerCallback(TrainerCallback):\n",
    "    \"\"\"\n",
    "    Fonte inicial: Eduardo Seiti \n",
    "    \"\"\"\n",
    "\n",
    "    def __init__(self, best_validation_yet=99999, model=None) -> None:\n",
    "        super().__init__()\n",
    "\n",
    "        self.best_validation_metric = best_validation_yet\n",
    "        self.model = model\n",
    "\n",
    "\n",
    "    def on_evaluate(self, args, state, control, model=None, metrics=None, **kwargs):\n",
    "        print(f'CustomTrainerCallback.on_evaluate - Momento: {time.strftime(\"[%Y-%b-%d %H:%M:%S]\")} metrics={metrics}' )\n",
    "        print(f\"metrics['eval_loss']={metrics['eval_loss']} metrics['eval_bleu']={metrics['eval_bleu']} self.best_validation_metric={self.best_validation_metric}\")\n",
    "\n",
    "        if metrics['eval_bleu'] > self.best_validation_metric:\n",
    "            self.best_validation_metric = metrics['eval_bleu']\n",
    "        # caso queira salvar por aqui:\n",
    "        #    nome_arquivo = f\"{DIRETORIO_TRABALHO}/model-checkpoint-{state.global_step}-{metrics['eval_bleu']:.4f}\"\n",
    "        #    print(f\"vou salvar {nome_arquivo}\")\n",
    "        #    self.model.save_pretrained(nome_arquivo)\n"
   ]
  },
  {
   "cell_type": "code",
   "execution_count": 80,
   "metadata": {},
   "outputs": [],
   "source": [
    "def train(parm_model, # parm_optimizer, parm_lr_scheduler,\n",
    "          num_batch_size:int=24, num_epochs:int=3, num_acum_steps:int=8):   # , num_steps_eval:int=100):\n",
    "    \"\"\"\n",
    "    Função auxiliar de treinamento. \n",
    "    parm_model: o modelo Seq2Seq que será treinado.\n",
    "    num_batch_size: o tamanho do lote (batch size) para treinamento e avaliação. Padrão é 24, o que significa que o valor será determinado pelo parâmetro per_device_train_batch_size em training_args.\n",
    "    num_epochs: o número de épocas de treinamento. Padrão é 3.\n",
    "    num_acum_steps: o número de passos de acumulação de gradiente. Padrão é 8.\n",
    "    num_steps_eval: o número de passos para avaliação durante o treinamento. Padrão é 100.\n",
    "\n",
    "    \"\"\"\n",
    "    global steps, diretorio, tokenizer, train_dataset, val_dataset\n",
    "\n",
    "\n",
    "    num_training_steps = num_epochs * int(len(train_dataset) // (num_batch_size * num_acum_steps))\n",
    "    # será avaliado a cada époica\n",
    "    if num_epochs > 1:\n",
    "        num_steps_eval = math.ceil(num_training_steps / num_epochs)  \n",
    "    else:\n",
    "        num_steps_eval = math.ceil(num_training_steps*0.1)\n",
    "    print(f\"num_training_steps = {num_training_steps} batch size = {num_batch_size} num_steps_eval={num_steps_eval}\")\n",
    "\n",
    "    trainer_callback = CustomTrainerCallback(best_validation_yet=-1, model=parm_model)\n",
    "\n",
    "\n",
    "    # dicas em https://huggingface.co/transformers/v4.3.3/main_classes/trainer.html#seq2seqtrainingarguments \n",
    "    # Argumentos de treinamento do modelo Seq2Seq\n",
    "    training_args = Seq2SeqTrainingArguments(\n",
    "        output_dir=DIRETORIO_TRABALHO, # Onde os modelos são salvos\n",
    "        logging_dir = DIRETORIO_TRABALHO+\"/logs\",\n",
    "        # logging_strategy=\"steps\",  # Especifique a estratégia de registro (por passos)\n",
    "        logging_strategy=\"steps\",  # Especifique a estratégia de registro (por passos)\n",
    "        logging_steps=num_steps_eval, # Número de etapas para registrar os logs\n",
    "        overwrite_output_dir=True,\n",
    "        per_device_train_batch_size=num_batch_size, # Tamanho do batch por dispositivo durante o treinamento\n",
    "        per_device_eval_batch_size=num_batch_size, # Tamanho do batch por dispositivo durante a avaliação\n",
    "        gradient_accumulation_steps=num_acum_steps, # Número de etapas de acumulação de gradiente\n",
    "        evaluation_strategy='steps', # Estratégia de avaliação durante o treinamento\n",
    "        eval_steps=num_steps_eval, # Número de etapas para realizar a avaliação\n",
    "        save_steps=num_steps_eval, # Em cada avaliação\n",
    "        # lr_scheduler_type=None,  # Set to None to disable the default scheduler\n",
    "        # fp16=True, # Usar precisão mista (half-precision) para acelerar o treinamento   \n",
    "        bf16=True, # opção de configuração que permite o uso de aritmética de ponto flutuante de 16 bits (half-precision) \n",
    "        num_train_epochs=num_epochs, # Número de épocas de treinamento\n",
    "        report_to=\"neptune\",\n",
    "        dataloader_pin_memory = True, # os dados carregados em memória pelo DataLoader são fixados (pinned) na memória do sistema \n",
    "                                      # Pode acelerar a transferência dos dados para a GPU,\n",
    "                                      #  uma vez que a GPU pode ler os dados diretamente da memória fixada sem precisar fazer uma cópia adicional dos dados\n",
    "        load_best_model_at_end=True, # Carregar o melhor modelo ao final do treinamento\n",
    "        metric_for_best_model='bleu', # Métrica usada para selecionar o melhor modelo\n",
    "        greater_is_better = True,\n",
    "        # predict_with_generate é usado quando você deseja gerar sequências completas como saída do modelo,\n",
    "        # enquanto do_predict é usado quando você deseja fazer predições em formato de passo a passo durante a inferência.\n",
    "        predict_with_generate=True, # Permitir geração de predições com o modelo\n",
    "        # do_predict=True, \n",
    "        warmup_steps = num_training_steps * 0.05, #  5% do total de passos \n",
    "        learning_rate=5e-3,\n",
    "        #Implementa um aumento linear na taxa de aprendizado durante a fase de aquecimento (warmup) e, em seguida,\n",
    "        # diminui linearmente a taxa de aprendizado após a fase de aquecimento. É uma escolha comum para tarefas de sequência para sequência.\n",
    "        lr_scheduler_type= 'linear',\n",
    "        weight_decay=1e-4,\n",
    "        disable_tqdm=False, # not to disable the tqdm progress bars and table of metrics produced by NotebookTrainingTracker\n",
    "        dataloader_drop_last = True, #r to drop the last incomplete batch (if the length of the dataset is not divisible by the batch size)\n",
    "        save_total_limit=2 # Número máximo de checkpoints a serem salvos\n",
    "    )\n",
    "    \n",
    "    # Objeto de collator de dados para ajustar os dados de treinamento\n",
    "    data_collator = DataCollatorForSeq2Seq(\n",
    "        tokenizer,\n",
    "        model=parm_model,\n",
    "        label_pad_token_id=-100, # Token de padding para os rótulos\n",
    "        pad_to_multiple_of=8 if training_args.fp16 else None, # Valor de padding múltiplo de 8 para aproveitar otimizações com FP16\n",
    "    )\n",
    "    \n",
    "\n",
    "    # Inicialização do treinador Seq2Seq\n",
    "    trainer = Seq2SeqTrainer(\n",
    "        model=parm_model,\n",
    "        args=training_args,\n",
    "        train_dataset=train_dataset, # Conjunto de dados de treinamento\n",
    "        eval_dataset=val_dataset, # Conjunto de dados de avaliação\n",
    "        data_collator=data_collator, # Collator de dados\n",
    "        tokenizer=tokenizer, # Tokenizer\n",
    "        callbacks=[trainer_callback], \n",
    "        # default to an instance of AdamW on your model and a scheduler given by get_linear_schedule_with_warmup() controlled by args\n",
    "        # optimizers=(parm_optimizer, parm_lr_scheduler),\n",
    "        compute_metrics=compute_metrics_bleu, # Função para calcular as métricas de avaliação\n",
    "    )\n",
    "\n",
    "    # Treinamento do modelo\n",
    "    train_results = trainer.train()\n",
    "    \n",
    "    return trainer, train_results\n"
   ]
  },
  {
   "cell_type": "code",
   "execution_count": 82,
   "metadata": {},
   "outputs": [],
   "source": [
    "num_batch_size=24\n",
    "num_epochs=100\n",
    "num_acum_steps=8"
   ]
  },
  {
   "cell_type": "code",
   "execution_count": 86,
   "metadata": {},
   "outputs": [
    {
     "name": "stdout",
     "output_type": "stream",
     "text": [
      "num_training_steps 5200 num_steps_eval 52 \n"
     ]
    }
   ],
   "source": [
    "num_training_steps = num_epochs * int(len(train_dataset) // (num_batch_size * num_acum_steps))\n",
    "if num_epochs > 1:\n",
    "    num_steps_eval = math.ceil(num_training_steps / num_epochs)  \n",
    "else:\n",
    "    num_steps_eval = math.ceil(num_training_steps*0.1)\n",
    "print(f\"num_training_steps {num_training_steps} num_steps_eval {num_steps_eval} \")"
   ]
  },
  {
   "cell_type": "code",
   "execution_count": 84,
   "metadata": {},
   "outputs": [],
   "source": [
    "model = T5ForConditionalGeneration.from_pretrained(\"t5-base\")"
   ]
  },
  {
   "attachments": {},
   "cell_type": "markdown",
   "metadata": {},
   "source": [
    "optimizer = Adafactor(model.parameters(), relative_step=False,lr=2e-4)\n",
    "optimizer = torch.optim.AdamW(model.parameters(), lr=2e-4, weight_decay=1e-3)\n",
    "lr_scheduler = get_cosine_with_hard_restarts_schedule_with_warmup(optimizer, \n",
    "                                                              num_warmup_steps=10,\n",
    "                                                              num_training_steps=num_training_steps, \n",
    "                                                              num_cycles=5)\n"
   ]
  },
  {
   "cell_type": "markdown",
   "metadata": {},
   "source": [
    "#optimizer = Adafactor(model.parameters(), lr=2e-4, scale_parameter=True, relative_step=True, warmup_init=True)\n",
    "optimizer = Adafactor(model.parameters(), relative_step=False,lr=2e-4)\n",
    "lr_scheduler = AdafactorSchedule(optimizer)"
   ]
  },
  {
   "cell_type": "code",
   "execution_count": 87,
   "metadata": {},
   "outputs": [
    {
     "name": "stdout",
     "output_type": "stream",
     "text": [
      "num_training_steps = 5200 batch size = 24 num_steps_eval=52\n"
     ]
    },
    {
     "name": "stderr",
     "output_type": "stream",
     "text": [
      "/home/borela/miniconda3/envs/treinapython39/lib/python3.9/site-packages/transformers/optimization.py:391: FutureWarning: This implementation of AdamW is deprecated and will be removed in a future version. Use the PyTorch implementation torch.optim.AdamW instead, or set `no_deprecation_warning=True` to disable this warning\n",
      "  warnings.warn(\n"
     ]
    },
    {
     "name": "stdout",
     "output_type": "stream",
     "text": [
      "https://app.neptune.ai/marcusborela/IA386DD/e/IAD-72\n",
      "Remember to stop your run once you’ve finished logging your metadata (https://docs.neptune.ai/api/run#stop). It will be stopped automatically only when the notebook kernel/interactive console is terminated.\n"
     ]
    },
    {
     "name": "stderr",
     "output_type": "stream",
     "text": [
      "/home/borela/miniconda3/envs/treinapython39/lib/python3.9/site-packages/transformers/integrations.py:1276: NeptuneDeprecationWarning: The object you're logging will be implicitly cast to a string. We'll end support of this behavior in `neptune-client==1.0.0`. To log the object as a string, use `str(object)` or `repr(object)` instead. For details, see https://docs.neptune.ai/setup/neptune-client_1-0_release_changes\n",
      "  self._metadata_namespace[NeptuneCallback.model_parameters_key] = model.config.to_dict()\n",
      "  1%|          | 52/5200 [05:38<9:15:55,  6.48s/it]"
     ]
    },
    {
     "name": "stdout",
     "output_type": "stream",
     "text": [
      "{'loss': 2.4423, 'learning_rate': 0.001, 'epoch': 1.0}\n"
     ]
    },
    {
     "name": "stderr",
     "output_type": "stream",
     "text": [
      "                                                   \n",
      "  1%|          | 52/5200 [06:05<9:15:55,  6.48s/it]"
     ]
    },
    {
     "name": "stdout",
     "output_type": "stream",
     "text": [
      "Em compute_metrics: bleu=17.50875230252487\n",
      "Predicao[0]    :average steps per mile/nGround_truth[0]:['how many fitbit steps equal a mile']\n",
      "{'eval_loss': 1.6026567220687866, 'eval_bleu': 17.50875230252487, 'eval_runtime': 27.1708, 'eval_samples_per_second': 36.804, 'eval_steps_per_second': 1.546, 'epoch': 1.0}\n",
      "CustomTrainerCallback.on_evaluate - Momento: [2023-Apr-10 13:22:23] metrics={'eval_loss': 1.6026567220687866, 'eval_bleu': 17.50875230252487, 'eval_runtime': 27.1708, 'eval_samples_per_second': 36.804, 'eval_steps_per_second': 1.546, 'epoch': 1.0}\n",
      "metrics['eval_loss']=1.6026567220687866 metrics['eval_bleu']=17.50875230252487 self.best_validation_metric=-1\n"
     ]
    },
    {
     "name": "stderr",
     "output_type": "stream",
     "text": [
      "  2%|▏         | 104/5200 [11:45<9:13:10,  6.51s/it]"
     ]
    },
    {
     "name": "stdout",
     "output_type": "stream",
     "text": [
      "{'loss': 1.5015, 'learning_rate': 0.002, 'epoch': 2.0}\n"
     ]
    },
    {
     "name": "stderr",
     "output_type": "stream",
     "text": [
      "                                                    \n",
      "  2%|▏         | 104/5200 [12:11<9:13:10,  6.51s/it]"
     ]
    },
    {
     "name": "stdout",
     "output_type": "stream",
     "text": [
      "Em compute_metrics: bleu=17.41971703609891\n",
      "Predicao[0]    :how many steps do you walk per mile/nGround_truth[0]:['how many fitbit steps equal a mile']\n",
      "{'eval_loss': 1.632961392402649, 'eval_bleu': 17.41971703609891, 'eval_runtime': 25.9193, 'eval_samples_per_second': 38.581, 'eval_steps_per_second': 1.62, 'epoch': 2.0}\n",
      "CustomTrainerCallback.on_evaluate - Momento: [2023-Apr-10 13:28:28] metrics={'eval_loss': 1.632961392402649, 'eval_bleu': 17.41971703609891, 'eval_runtime': 25.9193, 'eval_samples_per_second': 38.581, 'eval_steps_per_second': 1.62, 'epoch': 2.0}\n",
      "metrics['eval_loss']=1.632961392402649 metrics['eval_bleu']=17.41971703609891 self.best_validation_metric=17.50875230252487\n"
     ]
    },
    {
     "name": "stderr",
     "output_type": "stream",
     "text": [
      "  3%|▎         | 156/5200 [17:53<9:06:59,  6.51s/it] "
     ]
    },
    {
     "name": "stdout",
     "output_type": "stream",
     "text": [
      "{'loss': 1.2398, 'learning_rate': 0.003, 'epoch': 3.0}\n"
     ]
    },
    {
     "name": "stderr",
     "output_type": "stream",
     "text": [
      "                                                    \n",
      "  3%|▎         | 156/5200 [18:19<9:06:59,  6.51s/it]"
     ]
    },
    {
     "name": "stdout",
     "output_type": "stream",
     "text": [
      "Em compute_metrics: bleu=17.263538375086508\n",
      "Predicao[0]    :how many steps does it take to walk/nGround_truth[0]:['how many fitbit steps equal a mile']\n",
      "{'eval_loss': 1.6974271535873413, 'eval_bleu': 17.263538375086508, 'eval_runtime': 26.6486, 'eval_samples_per_second': 37.525, 'eval_steps_per_second': 1.576, 'epoch': 3.0}\n",
      "CustomTrainerCallback.on_evaluate - Momento: [2023-Apr-10 13:34:37] metrics={'eval_loss': 1.6974271535873413, 'eval_bleu': 17.263538375086508, 'eval_runtime': 26.6486, 'eval_samples_per_second': 37.525, 'eval_steps_per_second': 1.576, 'epoch': 3.0}\n",
      "metrics['eval_loss']=1.6974271535873413 metrics['eval_bleu']=17.263538375086508 self.best_validation_metric=17.50875230252487\n"
     ]
    },
    {
     "name": "stderr",
     "output_type": "stream",
     "text": [
      "  4%|▍         | 208/5200 [24:01<9:03:31,  6.53s/it] "
     ]
    },
    {
     "name": "stdout",
     "output_type": "stream",
     "text": [
      "{'loss': 1.0713, 'learning_rate': 0.004, 'epoch': 4.0}\n"
     ]
    },
    {
     "name": "stderr",
     "output_type": "stream",
     "text": [
      "                                                    \n",
      "  4%|▍         | 208/5200 [24:28<9:03:31,  6.53s/it]"
     ]
    },
    {
     "name": "stdout",
     "output_type": "stream",
     "text": [
      "Em compute_metrics: bleu=17.60518685473579\n",
      "Predicao[0]    :how many steps in mile/nGround_truth[0]:['how many fitbit steps equal a mile']\n",
      "{'eval_loss': 1.8398311138153076, 'eval_bleu': 17.60518685473579, 'eval_runtime': 27.3437, 'eval_samples_per_second': 36.571, 'eval_steps_per_second': 1.536, 'epoch': 4.0}\n",
      "CustomTrainerCallback.on_evaluate - Momento: [2023-Apr-10 13:40:46] metrics={'eval_loss': 1.8398311138153076, 'eval_bleu': 17.60518685473579, 'eval_runtime': 27.3437, 'eval_samples_per_second': 36.571, 'eval_steps_per_second': 1.536, 'epoch': 4.0}\n",
      "metrics['eval_loss']=1.8398311138153076 metrics['eval_bleu']=17.60518685473579 self.best_validation_metric=17.50875230252487\n"
     ]
    },
    {
     "name": "stderr",
     "output_type": "stream",
     "text": [
      "  5%|▌         | 260/5200 [30:10<8:51:07,  6.45s/it] "
     ]
    },
    {
     "name": "stdout",
     "output_type": "stream",
     "text": [
      "{'loss': 0.9655, 'learning_rate': 0.005, 'epoch': 5.0}\n"
     ]
    },
    {
     "name": "stderr",
     "output_type": "stream",
     "text": [
      "                                                    \n",
      "  5%|▌         | 260/5200 [30:38<8:51:07,  6.45s/it]"
     ]
    },
    {
     "name": "stdout",
     "output_type": "stream",
     "text": [
      "Em compute_metrics: bleu=17.020522743843056\n",
      "Predicao[0]    :how many steps per mile is a mile/nGround_truth[0]:['how many fitbit steps equal a mile']\n",
      "{'eval_loss': 1.9810616970062256, 'eval_bleu': 17.020522743843056, 'eval_runtime': 28.0869, 'eval_samples_per_second': 35.604, 'eval_steps_per_second': 1.495, 'epoch': 5.0}\n",
      "CustomTrainerCallback.on_evaluate - Momento: [2023-Apr-10 13:46:55] metrics={'eval_loss': 1.9810616970062256, 'eval_bleu': 17.020522743843056, 'eval_runtime': 28.0869, 'eval_samples_per_second': 35.604, 'eval_steps_per_second': 1.495, 'epoch': 5.0}\n",
      "metrics['eval_loss']=1.9810616970062256 metrics['eval_bleu']=17.020522743843056 self.best_validation_metric=17.60518685473579\n"
     ]
    },
    {
     "name": "stderr",
     "output_type": "stream",
     "text": [
      "  6%|▌         | 312/5200 [36:18<8:51:15,  6.52s/it] "
     ]
    },
    {
     "name": "stdout",
     "output_type": "stream",
     "text": [
      "{'loss': 0.9005, 'learning_rate': 0.004947368421052632, 'epoch': 6.0}\n"
     ]
    },
    {
     "name": "stderr",
     "output_type": "stream",
     "text": [
      "                                                    \n",
      "  6%|▌         | 312/5200 [36:46<8:51:15,  6.52s/it]"
     ]
    },
    {
     "name": "stdout",
     "output_type": "stream",
     "text": [
      "Em compute_metrics: bleu=15.58455946613638\n",
      "Predicao[0]    :how many steps does a person walk per mile/nGround_truth[0]:['how many fitbit steps equal a mile']\n",
      "{'eval_loss': 2.065425395965576, 'eval_bleu': 15.58455946613638, 'eval_runtime': 27.2254, 'eval_samples_per_second': 36.73, 'eval_steps_per_second': 1.543, 'epoch': 6.0}\n",
      "CustomTrainerCallback.on_evaluate - Momento: [2023-Apr-10 13:53:03] metrics={'eval_loss': 2.065425395965576, 'eval_bleu': 15.58455946613638, 'eval_runtime': 27.2254, 'eval_samples_per_second': 36.73, 'eval_steps_per_second': 1.543, 'epoch': 6.0}\n",
      "metrics['eval_loss']=2.065425395965576 metrics['eval_bleu']=15.58455946613638 self.best_validation_metric=17.60518685473579\n"
     ]
    },
    {
     "name": "stderr",
     "output_type": "stream",
     "text": [
      "  7%|▋         | 364/5200 [42:27<8:49:53,  6.57s/it] "
     ]
    },
    {
     "name": "stdout",
     "output_type": "stream",
     "text": [
      "{'loss': 0.6745, 'learning_rate': 0.004894736842105263, 'epoch': 7.0}\n"
     ]
    },
    {
     "name": "stderr",
     "output_type": "stream",
     "text": [
      "                                                    \n",
      "  7%|▋         | 364/5200 [42:56<8:49:53,  6.57s/it]"
     ]
    },
    {
     "name": "stdout",
     "output_type": "stream",
     "text": [
      "Em compute_metrics: bleu=18.273230790026517\n",
      "Predicao[0]    :how many miles does a mile average/nGround_truth[0]:['how many fitbit steps equal a mile']\n",
      "{'eval_loss': 2.197101354598999, 'eval_bleu': 18.273230790026517, 'eval_runtime': 28.5334, 'eval_samples_per_second': 35.047, 'eval_steps_per_second': 1.472, 'epoch': 7.0}\n",
      "CustomTrainerCallback.on_evaluate - Momento: [2023-Apr-10 13:59:13] metrics={'eval_loss': 2.197101354598999, 'eval_bleu': 18.273230790026517, 'eval_runtime': 28.5334, 'eval_samples_per_second': 35.047, 'eval_steps_per_second': 1.472, 'epoch': 7.0}\n",
      "metrics['eval_loss']=2.197101354598999 metrics['eval_bleu']=18.273230790026517 self.best_validation_metric=17.60518685473579\n"
     ]
    },
    {
     "name": "stderr",
     "output_type": "stream",
     "text": [
      "  8%|▊         | 416/5200 [48:38<8:47:14,  6.61s/it] "
     ]
    },
    {
     "name": "stdout",
     "output_type": "stream",
     "text": [
      "{'loss': 0.5057, 'learning_rate': 0.004842105263157895, 'epoch': 8.0}\n"
     ]
    },
    {
     "name": "stderr",
     "output_type": "stream",
     "text": [
      "                                                    \n",
      "  8%|▊         | 416/5200 [49:05<8:47:14,  6.61s/it]"
     ]
    },
    {
     "name": "stdout",
     "output_type": "stream",
     "text": [
      "Em compute_metrics: bleu=17.082183488120503\n",
      "Predicao[0]    :average steps per mile average/nGround_truth[0]:['how many fitbit steps equal a mile']\n",
      "{'eval_loss': 2.343557357788086, 'eval_bleu': 17.082183488120503, 'eval_runtime': 27.5537, 'eval_samples_per_second': 36.293, 'eval_steps_per_second': 1.524, 'epoch': 8.0}\n",
      "CustomTrainerCallback.on_evaluate - Momento: [2023-Apr-10 14:05:23] metrics={'eval_loss': 2.343557357788086, 'eval_bleu': 17.082183488120503, 'eval_runtime': 27.5537, 'eval_samples_per_second': 36.293, 'eval_steps_per_second': 1.524, 'epoch': 8.0}\n",
      "metrics['eval_loss']=2.343557357788086 metrics['eval_bleu']=17.082183488120503 self.best_validation_metric=18.273230790026517\n"
     ]
    },
    {
     "name": "stderr",
     "output_type": "stream",
     "text": [
      "  9%|▉         | 468/5200 [54:48<8:36:37,  6.55s/it] "
     ]
    },
    {
     "name": "stdout",
     "output_type": "stream",
     "text": [
      "{'loss': 0.4022, 'learning_rate': 0.004789473684210527, 'epoch': 9.0}\n"
     ]
    },
    {
     "name": "stderr",
     "output_type": "stream",
     "text": [
      "                                                    \n",
      "  9%|▉         | 468/5200 [55:16<8:36:37,  6.55s/it]"
     ]
    },
    {
     "name": "stdout",
     "output_type": "stream",
     "text": [
      "Em compute_metrics: bleu=18.274423563660072\n",
      "Predicao[0]    :how many steps does walking per mile in mile?/nGround_truth[0]:['how many fitbit steps equal a mile']\n",
      "{'eval_loss': 2.4781548976898193, 'eval_bleu': 18.274423563660072, 'eval_runtime': 27.2917, 'eval_samples_per_second': 36.641, 'eval_steps_per_second': 1.539, 'epoch': 9.0}\n",
      "CustomTrainerCallback.on_evaluate - Momento: [2023-Apr-10 14:11:33] metrics={'eval_loss': 2.4781548976898193, 'eval_bleu': 18.274423563660072, 'eval_runtime': 27.2917, 'eval_samples_per_second': 36.641, 'eval_steps_per_second': 1.539, 'epoch': 9.0}\n",
      "metrics['eval_loss']=2.4781548976898193 metrics['eval_bleu']=18.274423563660072 self.best_validation_metric=18.273230790026517\n"
     ]
    },
    {
     "name": "stderr",
     "output_type": "stream",
     "text": [
      " 10%|█         | 520/5200 [1:00:59<8:26:44,  6.50s/it]"
     ]
    },
    {
     "name": "stdout",
     "output_type": "stream",
     "text": [
      "{'loss': 0.3183, 'learning_rate': 0.004736842105263157, 'epoch': 10.0}\n"
     ]
    },
    {
     "name": "stderr",
     "output_type": "stream",
     "text": [
      "                                                      \n",
      " 10%|█         | 520/5200 [1:01:27<8:26:44,  6.50s/it]"
     ]
    },
    {
     "name": "stdout",
     "output_type": "stream",
     "text": [
      "Em compute_metrics: bleu=18.59181404306544\n",
      "Predicao[0]    :average steps per mile/nGround_truth[0]:['how many fitbit steps equal a mile']\n",
      "{'eval_loss': 2.654695510864258, 'eval_bleu': 18.59181404306544, 'eval_runtime': 27.5967, 'eval_samples_per_second': 36.236, 'eval_steps_per_second': 1.522, 'epoch': 10.0}\n",
      "CustomTrainerCallback.on_evaluate - Momento: [2023-Apr-10 14:17:44] metrics={'eval_loss': 2.654695510864258, 'eval_bleu': 18.59181404306544, 'eval_runtime': 27.5967, 'eval_samples_per_second': 36.236, 'eval_steps_per_second': 1.522, 'epoch': 10.0}\n",
      "metrics['eval_loss']=2.654695510864258 metrics['eval_bleu']=18.59181404306544 self.best_validation_metric=18.274423563660072\n"
     ]
    },
    {
     "name": "stderr",
     "output_type": "stream",
     "text": [
      " 11%|█         | 572/5200 [1:07:07<8:20:42,  6.49s/it] "
     ]
    },
    {
     "name": "stdout",
     "output_type": "stream",
     "text": [
      "{'loss': 0.2612, 'learning_rate': 0.00468421052631579, 'epoch': 11.0}\n"
     ]
    },
    {
     "name": "stderr",
     "output_type": "stream",
     "text": [
      "                                                      \n",
      " 11%|█         | 572/5200 [1:07:34<8:20:42,  6.49s/it]"
     ]
    },
    {
     "name": "stdout",
     "output_type": "stream",
     "text": [
      "Em compute_metrics: bleu=17.414734468079313\n",
      "Predicao[0]    :how many steps does an average person walk in a mile?/nGround_truth[0]:['how many fitbit steps equal a mile']\n",
      "{'eval_loss': 2.8095474243164062, 'eval_bleu': 17.414734468079313, 'eval_runtime': 26.7807, 'eval_samples_per_second': 37.34, 'eval_steps_per_second': 1.568, 'epoch': 11.0}\n",
      "CustomTrainerCallback.on_evaluate - Momento: [2023-Apr-10 14:23:51] metrics={'eval_loss': 2.8095474243164062, 'eval_bleu': 17.414734468079313, 'eval_runtime': 26.7807, 'eval_samples_per_second': 37.34, 'eval_steps_per_second': 1.568, 'epoch': 11.0}\n",
      "metrics['eval_loss']=2.8095474243164062 metrics['eval_bleu']=17.414734468079313 self.best_validation_metric=18.59181404306544\n"
     ]
    },
    {
     "name": "stderr",
     "output_type": "stream",
     "text": [
      " 12%|█▏        | 624/5200 [1:13:13<8:19:45,  6.55s/it] "
     ]
    },
    {
     "name": "stdout",
     "output_type": "stream",
     "text": [
      "{'loss': 0.2178, 'learning_rate': 0.0046315789473684215, 'epoch': 12.0}\n"
     ]
    },
    {
     "name": "stderr",
     "output_type": "stream",
     "text": [
      "                                                      \n",
      " 12%|█▏        | 624/5200 [1:13:40<8:19:45,  6.55s/it]"
     ]
    },
    {
     "name": "stdout",
     "output_type": "stream",
     "text": [
      "Em compute_metrics: bleu=17.59957589805747\n",
      "Predicao[0]    :how many steps in mile/nGround_truth[0]:['how many fitbit steps equal a mile']\n",
      "{'eval_loss': 2.981743335723877, 'eval_bleu': 17.59957589805747, 'eval_runtime': 27.1538, 'eval_samples_per_second': 36.827, 'eval_steps_per_second': 1.547, 'epoch': 12.0}\n",
      "CustomTrainerCallback.on_evaluate - Momento: [2023-Apr-10 14:29:58] metrics={'eval_loss': 2.981743335723877, 'eval_bleu': 17.59957589805747, 'eval_runtime': 27.1538, 'eval_samples_per_second': 36.827, 'eval_steps_per_second': 1.547, 'epoch': 12.0}\n",
      "metrics['eval_loss']=2.981743335723877 metrics['eval_bleu']=17.59957589805747 self.best_validation_metric=18.59181404306544\n"
     ]
    },
    {
     "name": "stderr",
     "output_type": "stream",
     "text": [
      " 13%|█▎        | 676/5200 [1:19:25<8:12:47,  6.54s/it] "
     ]
    },
    {
     "name": "stdout",
     "output_type": "stream",
     "text": [
      "{'loss': 0.1853, 'learning_rate': 0.004578947368421052, 'epoch': 13.0}\n"
     ]
    },
    {
     "name": "stderr",
     "output_type": "stream",
     "text": [
      "                                                      \n",
      " 13%|█▎        | 676/5200 [1:19:53<8:12:47,  6.54s/it]"
     ]
    },
    {
     "name": "stdout",
     "output_type": "stream",
     "text": [
      "Em compute_metrics: bleu=16.9020540460152\n",
      "Predicao[0]    :average steps per mile/nGround_truth[0]:['how many fitbit steps equal a mile']\n",
      "{'eval_loss': 2.988908052444458, 'eval_bleu': 16.9020540460152, 'eval_runtime': 27.7903, 'eval_samples_per_second': 35.984, 'eval_steps_per_second': 1.511, 'epoch': 13.0}\n",
      "CustomTrainerCallback.on_evaluate - Momento: [2023-Apr-10 14:36:10] metrics={'eval_loss': 2.988908052444458, 'eval_bleu': 16.9020540460152, 'eval_runtime': 27.7903, 'eval_samples_per_second': 35.984, 'eval_steps_per_second': 1.511, 'epoch': 13.0}\n",
      "metrics['eval_loss']=2.988908052444458 metrics['eval_bleu']=16.9020540460152 self.best_validation_metric=18.59181404306544\n"
     ]
    },
    {
     "name": "stderr",
     "output_type": "stream",
     "text": [
      " 14%|█▍        | 728/5200 [1:25:36<8:09:50,  6.57s/it] "
     ]
    },
    {
     "name": "stdout",
     "output_type": "stream",
     "text": [
      "{'loss': 0.1586, 'learning_rate': 0.004526315789473685, 'epoch': 14.0}\n"
     ]
    },
    {
     "name": "stderr",
     "output_type": "stream",
     "text": [
      "                                                      \n",
      " 14%|█▍        | 728/5200 [1:26:03<8:09:50,  6.57s/it]"
     ]
    },
    {
     "name": "stdout",
     "output_type": "stream",
     "text": [
      "Em compute_metrics: bleu=17.17762466815411\n",
      "Predicao[0]    :how many steps does a mile walk in a mile/nGround_truth[0]:['how many fitbit steps equal a mile']\n",
      "{'eval_loss': 3.0996456146240234, 'eval_bleu': 17.17762466815411, 'eval_runtime': 27.3839, 'eval_samples_per_second': 36.518, 'eval_steps_per_second': 1.534, 'epoch': 14.0}\n",
      "CustomTrainerCallback.on_evaluate - Momento: [2023-Apr-10 14:42:21] metrics={'eval_loss': 3.0996456146240234, 'eval_bleu': 17.17762466815411, 'eval_runtime': 27.3839, 'eval_samples_per_second': 36.518, 'eval_steps_per_second': 1.534, 'epoch': 14.0}\n",
      "metrics['eval_loss']=3.0996456146240234 metrics['eval_bleu']=17.17762466815411 self.best_validation_metric=18.59181404306544\n"
     ]
    },
    {
     "name": "stderr",
     "output_type": "stream",
     "text": [
      " 15%|█▌        | 780/5200 [1:31:48<8:09:31,  6.65s/it] "
     ]
    },
    {
     "name": "stdout",
     "output_type": "stream",
     "text": [
      "{'loss': 0.1376, 'learning_rate': 0.004473684210526316, 'epoch': 15.0}\n"
     ]
    },
    {
     "name": "stderr",
     "output_type": "stream",
     "text": [
      "                                                      \n",
      " 15%|█▌        | 780/5200 [1:32:15<8:09:31,  6.65s/it]"
     ]
    },
    {
     "name": "stdout",
     "output_type": "stream",
     "text": [
      "Em compute_metrics: bleu=17.252844293328014\n",
      "Predicao[0]    :average steps per mile/nGround_truth[0]:['how many fitbit steps equal a mile']\n",
      "{'eval_loss': 3.150733709335327, 'eval_bleu': 17.252844293328014, 'eval_runtime': 27.4391, 'eval_samples_per_second': 36.444, 'eval_steps_per_second': 1.531, 'epoch': 15.0}\n",
      "CustomTrainerCallback.on_evaluate - Momento: [2023-Apr-10 14:48:33] metrics={'eval_loss': 3.150733709335327, 'eval_bleu': 17.252844293328014, 'eval_runtime': 27.4391, 'eval_samples_per_second': 36.444, 'eval_steps_per_second': 1.531, 'epoch': 15.0}\n",
      "metrics['eval_loss']=3.150733709335327 metrics['eval_bleu']=17.252844293328014 self.best_validation_metric=18.59181404306544\n"
     ]
    },
    {
     "name": "stderr",
     "output_type": "stream",
     "text": [
      " 16%|█▌        | 832/5200 [1:37:55<7:47:18,  6.42s/it] "
     ]
    },
    {
     "name": "stdout",
     "output_type": "stream",
     "text": [
      "{'loss': 0.1174, 'learning_rate': 0.004421052631578947, 'epoch': 16.0}\n"
     ]
    },
    {
     "name": "stderr",
     "output_type": "stream",
     "text": [
      "                                                      \n",
      " 16%|█▌        | 832/5200 [1:38:22<7:47:18,  6.42s/it]"
     ]
    },
    {
     "name": "stdout",
     "output_type": "stream",
     "text": [
      "Em compute_metrics: bleu=17.60509568812272\n",
      "Predicao[0]    :average steps per mile/nGround_truth[0]:['how many fitbit steps equal a mile']\n",
      "{'eval_loss': 3.2906861305236816, 'eval_bleu': 17.60509568812272, 'eval_runtime': 26.9565, 'eval_samples_per_second': 37.097, 'eval_steps_per_second': 1.558, 'epoch': 16.0}\n",
      "CustomTrainerCallback.on_evaluate - Momento: [2023-Apr-10 14:54:39] metrics={'eval_loss': 3.2906861305236816, 'eval_bleu': 17.60509568812272, 'eval_runtime': 26.9565, 'eval_samples_per_second': 37.097, 'eval_steps_per_second': 1.558, 'epoch': 16.0}\n",
      "metrics['eval_loss']=3.2906861305236816 metrics['eval_bleu']=17.60509568812272 self.best_validation_metric=18.59181404306544\n"
     ]
    },
    {
     "name": "stderr",
     "output_type": "stream",
     "text": [
      " 17%|█▋        | 884/5200 [1:44:07<7:57:21,  6.64s/it] "
     ]
    },
    {
     "name": "stdout",
     "output_type": "stream",
     "text": [
      "{'loss': 0.1089, 'learning_rate': 0.00436842105263158, 'epoch': 17.0}\n"
     ]
    },
    {
     "name": "stderr",
     "output_type": "stream",
     "text": [
      "                                                      \n",
      " 17%|█▋        | 884/5200 [1:44:34<7:57:21,  6.64s/it]"
     ]
    },
    {
     "name": "stdout",
     "output_type": "stream",
     "text": [
      "Em compute_metrics: bleu=17.408457913716656\n",
      "Predicao[0]    :average steps in mile/nGround_truth[0]:['how many fitbit steps equal a mile']\n",
      "{'eval_loss': 3.28859543800354, 'eval_bleu': 17.408457913716656, 'eval_runtime': 26.9217, 'eval_samples_per_second': 37.145, 'eval_steps_per_second': 1.56, 'epoch': 17.0}\n",
      "CustomTrainerCallback.on_evaluate - Momento: [2023-Apr-10 15:00:51] metrics={'eval_loss': 3.28859543800354, 'eval_bleu': 17.408457913716656, 'eval_runtime': 26.9217, 'eval_samples_per_second': 37.145, 'eval_steps_per_second': 1.56, 'epoch': 17.0}\n",
      "metrics['eval_loss']=3.28859543800354 metrics['eval_bleu']=17.408457913716656 self.best_validation_metric=18.59181404306544\n"
     ]
    },
    {
     "name": "stderr",
     "output_type": "stream",
     "text": [
      " 18%|█▊        | 936/5200 [1:50:14<7:45:44,  6.55s/it] "
     ]
    },
    {
     "name": "stdout",
     "output_type": "stream",
     "text": [
      "{'loss': 0.1035, 'learning_rate': 0.00431578947368421, 'epoch': 18.0}\n"
     ]
    },
    {
     "name": "stderr",
     "output_type": "stream",
     "text": [
      "                                                      \n",
      " 18%|█▊        | 936/5200 [1:50:42<7:45:44,  6.55s/it]"
     ]
    },
    {
     "name": "stdout",
     "output_type": "stream",
     "text": [
      "Em compute_metrics: bleu=18.255739302922677\n",
      "Predicao[0]    :average steps per mile average/nGround_truth[0]:['how many fitbit steps equal a mile']\n",
      "{'eval_loss': 3.365703582763672, 'eval_bleu': 18.255739302922677, 'eval_runtime': 27.1586, 'eval_samples_per_second': 36.821, 'eval_steps_per_second': 1.546, 'epoch': 18.0}\n",
      "CustomTrainerCallback.on_evaluate - Momento: [2023-Apr-10 15:06:59] metrics={'eval_loss': 3.365703582763672, 'eval_bleu': 18.255739302922677, 'eval_runtime': 27.1586, 'eval_samples_per_second': 36.821, 'eval_steps_per_second': 1.546, 'epoch': 18.0}\n",
      "metrics['eval_loss']=3.365703582763672 metrics['eval_bleu']=18.255739302922677 self.best_validation_metric=18.59181404306544\n"
     ]
    },
    {
     "name": "stderr",
     "output_type": "stream",
     "text": [
      " 19%|█▉        | 988/5200 [1:56:21<7:30:57,  6.42s/it] "
     ]
    },
    {
     "name": "stdout",
     "output_type": "stream",
     "text": [
      "{'loss': 0.096, 'learning_rate': 0.004263157894736842, 'epoch': 19.0}\n"
     ]
    },
    {
     "name": "stderr",
     "output_type": "stream",
     "text": [
      "                                                      \n",
      " 19%|█▉        | 988/5200 [1:56:47<7:30:57,  6.42s/it]"
     ]
    },
    {
     "name": "stdout",
     "output_type": "stream",
     "text": [
      "Em compute_metrics: bleu=17.554608802178283\n",
      "Predicao[0]    :how many steps per mile walk walk/nGround_truth[0]:['how many fitbit steps equal a mile']\n",
      "{'eval_loss': 3.31803297996521, 'eval_bleu': 17.554608802178283, 'eval_runtime': 26.3577, 'eval_samples_per_second': 37.94, 'eval_steps_per_second': 1.593, 'epoch': 19.0}\n",
      "CustomTrainerCallback.on_evaluate - Momento: [2023-Apr-10 15:13:05] metrics={'eval_loss': 3.31803297996521, 'eval_bleu': 17.554608802178283, 'eval_runtime': 26.3577, 'eval_samples_per_second': 37.94, 'eval_steps_per_second': 1.593, 'epoch': 19.0}\n",
      "metrics['eval_loss']=3.31803297996521 metrics['eval_bleu']=17.554608802178283 self.best_validation_metric=18.59181404306544\n"
     ]
    },
    {
     "name": "stderr",
     "output_type": "stream",
     "text": [
      " 20%|██        | 1040/5200 [2:02:30<7:32:26,  6.53s/it]"
     ]
    },
    {
     "name": "stdout",
     "output_type": "stream",
     "text": [
      "{'loss': 0.0882, 'learning_rate': 0.004210526315789474, 'epoch': 20.0}\n"
     ]
    },
    {
     "name": "stderr",
     "output_type": "stream",
     "text": [
      "                                                       \n",
      " 20%|██        | 1040/5200 [2:02:57<7:32:26,  6.53s/it]"
     ]
    },
    {
     "name": "stdout",
     "output_type": "stream",
     "text": [
      "Em compute_metrics: bleu=18.230987904995118\n",
      "Predicao[0]    :how many steps does an average mile walk/nGround_truth[0]:['how many fitbit steps equal a mile']\n",
      "{'eval_loss': 3.3709969520568848, 'eval_bleu': 18.230987904995118, 'eval_runtime': 27.4712, 'eval_samples_per_second': 36.402, 'eval_steps_per_second': 1.529, 'epoch': 20.0}\n",
      "CustomTrainerCallback.on_evaluate - Momento: [2023-Apr-10 15:19:15] metrics={'eval_loss': 3.3709969520568848, 'eval_bleu': 18.230987904995118, 'eval_runtime': 27.4712, 'eval_samples_per_second': 36.402, 'eval_steps_per_second': 1.529, 'epoch': 20.0}\n",
      "metrics['eval_loss']=3.3709969520568848 metrics['eval_bleu']=18.230987904995118 self.best_validation_metric=18.59181404306544\n"
     ]
    },
    {
     "name": "stderr",
     "output_type": "stream",
     "text": [
      " 21%|██        | 1092/5200 [2:08:36<7:27:32,  6.54s/it] "
     ]
    },
    {
     "name": "stdout",
     "output_type": "stream",
     "text": [
      "{'loss': 0.0858, 'learning_rate': 0.004157894736842105, 'epoch': 21.0}\n"
     ]
    },
    {
     "name": "stderr",
     "output_type": "stream",
     "text": [
      "                                                       \n",
      " 21%|██        | 1092/5200 [2:09:03<7:27:32,  6.54s/it]"
     ]
    },
    {
     "name": "stdout",
     "output_type": "stream",
     "text": [
      "Em compute_metrics: bleu=18.68161513893764\n",
      "Predicao[0]    :how many steps does an average mile walk/nGround_truth[0]:['how many fitbit steps equal a mile']\n",
      "{'eval_loss': 3.4139647483825684, 'eval_bleu': 18.68161513893764, 'eval_runtime': 27.1097, 'eval_samples_per_second': 36.887, 'eval_steps_per_second': 1.549, 'epoch': 21.0}\n",
      "CustomTrainerCallback.on_evaluate - Momento: [2023-Apr-10 15:25:21] metrics={'eval_loss': 3.4139647483825684, 'eval_bleu': 18.68161513893764, 'eval_runtime': 27.1097, 'eval_samples_per_second': 36.887, 'eval_steps_per_second': 1.549, 'epoch': 21.0}\n",
      "metrics['eval_loss']=3.4139647483825684 metrics['eval_bleu']=18.68161513893764 self.best_validation_metric=18.59181404306544\n"
     ]
    },
    {
     "name": "stderr",
     "output_type": "stream",
     "text": [
      " 22%|██▏       | 1144/5200 [2:14:47<7:22:56,  6.55s/it] "
     ]
    },
    {
     "name": "stdout",
     "output_type": "stream",
     "text": [
      "{'loss': 0.0782, 'learning_rate': 0.004105263157894737, 'epoch': 22.0}\n"
     ]
    },
    {
     "name": "stderr",
     "output_type": "stream",
     "text": [
      "                                                       \n",
      " 22%|██▏       | 1144/5200 [2:15:14<7:22:56,  6.55s/it]"
     ]
    },
    {
     "name": "stdout",
     "output_type": "stream",
     "text": [
      "Em compute_metrics: bleu=18.07596876288597\n",
      "Predicao[0]    :average feet per mile average/nGround_truth[0]:['how many fitbit steps equal a mile']\n",
      "{'eval_loss': 3.5041513442993164, 'eval_bleu': 18.07596876288597, 'eval_runtime': 26.7599, 'eval_samples_per_second': 37.369, 'eval_steps_per_second': 1.57, 'epoch': 22.0}\n",
      "CustomTrainerCallback.on_evaluate - Momento: [2023-Apr-10 15:31:31] metrics={'eval_loss': 3.5041513442993164, 'eval_bleu': 18.07596876288597, 'eval_runtime': 26.7599, 'eval_samples_per_second': 37.369, 'eval_steps_per_second': 1.57, 'epoch': 22.0}\n",
      "metrics['eval_loss']=3.5041513442993164 metrics['eval_bleu']=18.07596876288597 self.best_validation_metric=18.68161513893764\n"
     ]
    },
    {
     "name": "stderr",
     "output_type": "stream",
     "text": [
      " 23%|██▎       | 1196/5200 [2:20:55<7:18:30,  6.57s/it] "
     ]
    },
    {
     "name": "stdout",
     "output_type": "stream",
     "text": [
      "{'loss': 0.0722, 'learning_rate': 0.0040526315789473685, 'epoch': 23.0}\n"
     ]
    },
    {
     "name": "stderr",
     "output_type": "stream",
     "text": [
      "                                                       \n",
      " 23%|██▎       | 1196/5200 [2:21:22<7:18:30,  6.57s/it]"
     ]
    },
    {
     "name": "stdout",
     "output_type": "stream",
     "text": [
      "Em compute_metrics: bleu=18.590466788563578\n",
      "Predicao[0]    :how many steps does an average mile walk in a mile/nGround_truth[0]:['how many fitbit steps equal a mile']\n",
      "{'eval_loss': 3.517993688583374, 'eval_bleu': 18.590466788563578, 'eval_runtime': 26.8278, 'eval_samples_per_second': 37.275, 'eval_steps_per_second': 1.566, 'epoch': 23.0}\n",
      "CustomTrainerCallback.on_evaluate - Momento: [2023-Apr-10 15:37:40] metrics={'eval_loss': 3.517993688583374, 'eval_bleu': 18.590466788563578, 'eval_runtime': 26.8278, 'eval_samples_per_second': 37.275, 'eval_steps_per_second': 1.566, 'epoch': 23.0}\n",
      "metrics['eval_loss']=3.517993688583374 metrics['eval_bleu']=18.590466788563578 self.best_validation_metric=18.68161513893764\n"
     ]
    },
    {
     "name": "stderr",
     "output_type": "stream",
     "text": [
      " 24%|██▍       | 1248/5200 [2:27:02<7:08:16,  6.50s/it] "
     ]
    },
    {
     "name": "stdout",
     "output_type": "stream",
     "text": [
      "{'loss': 0.0657, 'learning_rate': 0.004, 'epoch': 24.0}\n"
     ]
    },
    {
     "name": "stderr",
     "output_type": "stream",
     "text": [
      "                                                       \n",
      " 24%|██▍       | 1248/5200 [2:27:30<7:08:16,  6.50s/it]"
     ]
    },
    {
     "name": "stdout",
     "output_type": "stream",
     "text": [
      "Em compute_metrics: bleu=18.9045433773659\n",
      "Predicao[0]    :how many steps does a mile walk in a half mile/nGround_truth[0]:['how many fitbit steps equal a mile']\n",
      "{'eval_loss': 3.652912139892578, 'eval_bleu': 18.9045433773659, 'eval_runtime': 27.6966, 'eval_samples_per_second': 36.106, 'eval_steps_per_second': 1.516, 'epoch': 24.0}\n",
      "CustomTrainerCallback.on_evaluate - Momento: [2023-Apr-10 15:43:47] metrics={'eval_loss': 3.652912139892578, 'eval_bleu': 18.9045433773659, 'eval_runtime': 27.6966, 'eval_samples_per_second': 36.106, 'eval_steps_per_second': 1.516, 'epoch': 24.0}\n",
      "metrics['eval_loss']=3.652912139892578 metrics['eval_bleu']=18.9045433773659 self.best_validation_metric=18.68161513893764\n"
     ]
    },
    {
     "name": "stderr",
     "output_type": "stream",
     "text": [
      " 25%|██▌       | 1300/5200 [2:33:09<7:07:32,  6.58s/it] "
     ]
    },
    {
     "name": "stdout",
     "output_type": "stream",
     "text": [
      "{'loss': 0.0633, 'learning_rate': 0.003947368421052632, 'epoch': 25.0}\n"
     ]
    },
    {
     "name": "stderr",
     "output_type": "stream",
     "text": [
      "                                                       \n",
      " 25%|██▌       | 1300/5200 [2:33:36<7:07:32,  6.58s/it]"
     ]
    },
    {
     "name": "stdout",
     "output_type": "stream",
     "text": [
      "Em compute_metrics: bleu=17.019145943364684\n",
      "Predicao[0]    :how many steps does a mile walk in a mile?/nGround_truth[0]:['how many fitbit steps equal a mile']\n",
      "{'eval_loss': 3.562260389328003, 'eval_bleu': 17.019145943364684, 'eval_runtime': 27.1528, 'eval_samples_per_second': 36.829, 'eval_steps_per_second': 1.547, 'epoch': 25.0}\n",
      "CustomTrainerCallback.on_evaluate - Momento: [2023-Apr-10 15:49:54] metrics={'eval_loss': 3.562260389328003, 'eval_bleu': 17.019145943364684, 'eval_runtime': 27.1528, 'eval_samples_per_second': 36.829, 'eval_steps_per_second': 1.547, 'epoch': 25.0}\n",
      "metrics['eval_loss']=3.562260389328003 metrics['eval_bleu']=17.019145943364684 self.best_validation_metric=18.9045433773659\n"
     ]
    },
    {
     "name": "stderr",
     "output_type": "stream",
     "text": [
      " 26%|██▌       | 1352/5200 [2:39:17<6:56:20,  6.49s/it] "
     ]
    },
    {
     "name": "stdout",
     "output_type": "stream",
     "text": [
      "{'loss': 0.065, 'learning_rate': 0.0038947368421052633, 'epoch': 26.0}\n"
     ]
    },
    {
     "name": "stderr",
     "output_type": "stream",
     "text": [
      "                                                       \n",
      " 26%|██▌       | 1352/5200 [2:39:44<6:56:20,  6.49s/it]"
     ]
    },
    {
     "name": "stdout",
     "output_type": "stream",
     "text": [
      "Em compute_metrics: bleu=18.22028353472853\n",
      "Predicao[0]    :how many steps is a mile/nGround_truth[0]:['how many fitbit steps equal a mile']\n",
      "{'eval_loss': 3.6559369564056396, 'eval_bleu': 18.22028353472853, 'eval_runtime': 27.5209, 'eval_samples_per_second': 36.336, 'eval_steps_per_second': 1.526, 'epoch': 26.0}\n",
      "CustomTrainerCallback.on_evaluate - Momento: [2023-Apr-10 15:56:02] metrics={'eval_loss': 3.6559369564056396, 'eval_bleu': 18.22028353472853, 'eval_runtime': 27.5209, 'eval_samples_per_second': 36.336, 'eval_steps_per_second': 1.526, 'epoch': 26.0}\n",
      "metrics['eval_loss']=3.6559369564056396 metrics['eval_bleu']=18.22028353472853 self.best_validation_metric=18.9045433773659\n"
     ]
    },
    {
     "name": "stderr",
     "output_type": "stream",
     "text": [
      " 27%|██▋       | 1404/5200 [2:45:22<6:47:23,  6.44s/it] "
     ]
    },
    {
     "name": "stdout",
     "output_type": "stream",
     "text": [
      "{'loss': 0.0607, 'learning_rate': 0.0038421052631578945, 'epoch': 27.0}\n"
     ]
    },
    {
     "name": "stderr",
     "output_type": "stream",
     "text": [
      "                                                       \n",
      " 27%|██▋       | 1404/5200 [2:45:48<6:47:23,  6.44s/it]"
     ]
    },
    {
     "name": "stdout",
     "output_type": "stream",
     "text": [
      "Em compute_metrics: bleu=18.963257058826606\n",
      "Predicao[0]    :how many steps does a mile/nGround_truth[0]:['how many fitbit steps equal a mile']\n",
      "{'eval_loss': 3.6469838619232178, 'eval_bleu': 18.963257058826606, 'eval_runtime': 26.9005, 'eval_samples_per_second': 37.174, 'eval_steps_per_second': 1.561, 'epoch': 27.0}\n",
      "CustomTrainerCallback.on_evaluate - Momento: [2023-Apr-10 16:02:06] metrics={'eval_loss': 3.6469838619232178, 'eval_bleu': 18.963257058826606, 'eval_runtime': 26.9005, 'eval_samples_per_second': 37.174, 'eval_steps_per_second': 1.561, 'epoch': 27.0}\n",
      "metrics['eval_loss']=3.6469838619232178 metrics['eval_bleu']=18.963257058826606 self.best_validation_metric=18.9045433773659\n"
     ]
    },
    {
     "name": "stderr",
     "output_type": "stream",
     "text": [
      " 28%|██▊       | 1456/5200 [2:51:31<6:45:01,  6.49s/it] "
     ]
    },
    {
     "name": "stdout",
     "output_type": "stream",
     "text": [
      "{'loss': 0.0556, 'learning_rate': 0.0037894736842105266, 'epoch': 28.0}\n"
     ]
    },
    {
     "name": "stderr",
     "output_type": "stream",
     "text": [
      "                                                       \n",
      " 28%|██▊       | 1456/5200 [2:51:58<6:45:01,  6.49s/it]"
     ]
    },
    {
     "name": "stdout",
     "output_type": "stream",
     "text": [
      "Em compute_metrics: bleu=17.548551030658857\n",
      "Predicao[0]    :how many steps in a mile/nGround_truth[0]:['how many fitbit steps equal a mile']\n",
      "{'eval_loss': 3.8021199703216553, 'eval_bleu': 17.548551030658857, 'eval_runtime': 26.7649, 'eval_samples_per_second': 37.362, 'eval_steps_per_second': 1.569, 'epoch': 28.0}\n",
      "CustomTrainerCallback.on_evaluate - Momento: [2023-Apr-10 16:08:15] metrics={'eval_loss': 3.8021199703216553, 'eval_bleu': 17.548551030658857, 'eval_runtime': 26.7649, 'eval_samples_per_second': 37.362, 'eval_steps_per_second': 1.569, 'epoch': 28.0}\n",
      "metrics['eval_loss']=3.8021199703216553 metrics['eval_bleu']=17.548551030658857 self.best_validation_metric=18.963257058826606\n"
     ]
    },
    {
     "name": "stderr",
     "output_type": "stream",
     "text": [
      " 29%|██▉       | 1508/5200 [2:57:44<6:50:13,  6.67s/it] "
     ]
    },
    {
     "name": "stdout",
     "output_type": "stream",
     "text": [
      "{'loss': 0.0546, 'learning_rate': 0.0037368421052631578, 'epoch': 29.0}\n"
     ]
    },
    {
     "name": "stderr",
     "output_type": "stream",
     "text": [
      "                                                       \n",
      " 29%|██▉       | 1508/5200 [2:58:12<6:50:13,  6.67s/it]"
     ]
    },
    {
     "name": "stdout",
     "output_type": "stream",
     "text": [
      "Em compute_metrics: bleu=18.67502586578924\n",
      "Predicao[0]    :how many steps in a mile/nGround_truth[0]:['how many fitbit steps equal a mile']\n",
      "{'eval_loss': 3.810715436935425, 'eval_bleu': 18.67502586578924, 'eval_runtime': 28.0558, 'eval_samples_per_second': 35.643, 'eval_steps_per_second': 1.497, 'epoch': 29.0}\n",
      "CustomTrainerCallback.on_evaluate - Momento: [2023-Apr-10 16:14:29] metrics={'eval_loss': 3.810715436935425, 'eval_bleu': 18.67502586578924, 'eval_runtime': 28.0558, 'eval_samples_per_second': 35.643, 'eval_steps_per_second': 1.497, 'epoch': 29.0}\n",
      "metrics['eval_loss']=3.810715436935425 metrics['eval_bleu']=18.67502586578924 self.best_validation_metric=18.963257058826606\n"
     ]
    },
    {
     "name": "stderr",
     "output_type": "stream",
     "text": [
      " 30%|███       | 1560/5200 [3:03:55<6:35:54,  6.53s/it] "
     ]
    },
    {
     "name": "stdout",
     "output_type": "stream",
     "text": [
      "{'loss': 0.0485, 'learning_rate': 0.0036842105263157894, 'epoch': 30.0}\n"
     ]
    },
    {
     "name": "stderr",
     "output_type": "stream",
     "text": [
      "                                                       \n",
      " 30%|███       | 1560/5200 [3:04:22<6:35:54,  6.53s/it]"
     ]
    },
    {
     "name": "stdout",
     "output_type": "stream",
     "text": [
      "Em compute_metrics: bleu=17.76852267101644\n",
      "Predicao[0]    :how many steps in mile/nGround_truth[0]:['how many fitbit steps equal a mile']\n",
      "{'eval_loss': 3.665112018585205, 'eval_bleu': 17.76852267101644, 'eval_runtime': 27.2189, 'eval_samples_per_second': 36.739, 'eval_steps_per_second': 1.543, 'epoch': 30.0}\n",
      "CustomTrainerCallback.on_evaluate - Momento: [2023-Apr-10 16:20:39] metrics={'eval_loss': 3.665112018585205, 'eval_bleu': 17.76852267101644, 'eval_runtime': 27.2189, 'eval_samples_per_second': 36.739, 'eval_steps_per_second': 1.543, 'epoch': 30.0}\n",
      "metrics['eval_loss']=3.665112018585205 metrics['eval_bleu']=17.76852267101644 self.best_validation_metric=18.963257058826606\n"
     ]
    },
    {
     "name": "stderr",
     "output_type": "stream",
     "text": [
      " 31%|███       | 1612/5200 [3:10:06<6:36:20,  6.63s/it] "
     ]
    },
    {
     "name": "stdout",
     "output_type": "stream",
     "text": [
      "{'loss': 0.0534, 'learning_rate': 0.0036315789473684214, 'epoch': 31.0}\n"
     ]
    },
    {
     "name": "stderr",
     "output_type": "stream",
     "text": [
      "                                                       \n",
      " 31%|███       | 1612/5200 [3:10:34<6:36:20,  6.63s/it]"
     ]
    },
    {
     "name": "stdout",
     "output_type": "stream",
     "text": [
      "Em compute_metrics: bleu=18.26461189321419\n",
      "Predicao[0]    :average steps per mile/nGround_truth[0]:['how many fitbit steps equal a mile']\n",
      "{'eval_loss': 3.7144851684570312, 'eval_bleu': 18.26461189321419, 'eval_runtime': 27.0939, 'eval_samples_per_second': 36.909, 'eval_steps_per_second': 1.55, 'epoch': 31.0}\n",
      "CustomTrainerCallback.on_evaluate - Momento: [2023-Apr-10 16:26:51] metrics={'eval_loss': 3.7144851684570312, 'eval_bleu': 18.26461189321419, 'eval_runtime': 27.0939, 'eval_samples_per_second': 36.909, 'eval_steps_per_second': 1.55, 'epoch': 31.0}\n",
      "metrics['eval_loss']=3.7144851684570312 metrics['eval_bleu']=18.26461189321419 self.best_validation_metric=18.963257058826606\n"
     ]
    },
    {
     "name": "stderr",
     "output_type": "stream",
     "text": [
      " 32%|███▏      | 1664/5200 [3:16:34<6:46:50,  6.90s/it] "
     ]
    },
    {
     "name": "stdout",
     "output_type": "stream",
     "text": [
      "{'loss': 0.054, 'learning_rate': 0.0035789473684210526, 'epoch': 32.0}\n"
     ]
    },
    {
     "name": "stderr",
     "output_type": "stream",
     "text": [
      "                                                       \n",
      " 32%|███▏      | 1664/5200 [3:17:01<6:46:50,  6.90s/it]"
     ]
    },
    {
     "name": "stdout",
     "output_type": "stream",
     "text": [
      "Em compute_metrics: bleu=18.13708537344367\n",
      "Predicao[0]    :how long is a mile/nGround_truth[0]:['how many fitbit steps equal a mile']\n",
      "{'eval_loss': 3.6623899936676025, 'eval_bleu': 18.13708537344367, 'eval_runtime': 27.4668, 'eval_samples_per_second': 36.408, 'eval_steps_per_second': 1.529, 'epoch': 32.0}\n",
      "CustomTrainerCallback.on_evaluate - Momento: [2023-Apr-10 16:33:19] metrics={'eval_loss': 3.6623899936676025, 'eval_bleu': 18.13708537344367, 'eval_runtime': 27.4668, 'eval_samples_per_second': 36.408, 'eval_steps_per_second': 1.529, 'epoch': 32.0}\n",
      "metrics['eval_loss']=3.6623899936676025 metrics['eval_bleu']=18.13708537344367 self.best_validation_metric=18.963257058826606\n"
     ]
    },
    {
     "name": "stderr",
     "output_type": "stream",
     "text": [
      " 33%|███▎      | 1716/5200 [3:22:58<6:38:14,  6.86s/it] "
     ]
    },
    {
     "name": "stdout",
     "output_type": "stream",
     "text": [
      "{'loss': 0.0491, 'learning_rate': 0.0035263157894736843, 'epoch': 33.0}\n"
     ]
    },
    {
     "name": "stderr",
     "output_type": "stream",
     "text": [
      "                                                       \n",
      " 33%|███▎      | 1716/5200 [3:23:26<6:38:14,  6.86s/it]"
     ]
    },
    {
     "name": "stdout",
     "output_type": "stream",
     "text": [
      "Em compute_metrics: bleu=17.80643919943886\n",
      "Predicao[0]    :how many steps in mile/nGround_truth[0]:['how many fitbit steps equal a mile']\n",
      "{'eval_loss': 3.849846124649048, 'eval_bleu': 17.80643919943886, 'eval_runtime': 27.9773, 'eval_samples_per_second': 35.743, 'eval_steps_per_second': 1.501, 'epoch': 33.0}\n",
      "CustomTrainerCallback.on_evaluate - Momento: [2023-Apr-10 16:39:44] metrics={'eval_loss': 3.849846124649048, 'eval_bleu': 17.80643919943886, 'eval_runtime': 27.9773, 'eval_samples_per_second': 35.743, 'eval_steps_per_second': 1.501, 'epoch': 33.0}\n",
      "metrics['eval_loss']=3.849846124649048 metrics['eval_bleu']=17.80643919943886 self.best_validation_metric=18.963257058826606\n"
     ]
    },
    {
     "name": "stderr",
     "output_type": "stream",
     "text": [
      " 34%|███▍      | 1768/5200 [3:29:15<6:17:10,  6.59s/it] "
     ]
    },
    {
     "name": "stdout",
     "output_type": "stream",
     "text": [
      "{'loss': 0.0459, 'learning_rate': 0.0034736842105263163, 'epoch': 34.0}\n"
     ]
    },
    {
     "name": "stderr",
     "output_type": "stream",
     "text": [
      "                                                       \n",
      " 34%|███▍      | 1768/5200 [3:29:42<6:17:10,  6.59s/it]"
     ]
    },
    {
     "name": "stdout",
     "output_type": "stream",
     "text": [
      "Em compute_metrics: bleu=18.137333122255757\n",
      "Predicao[0]    :how many steps in mile/nGround_truth[0]:['how many fitbit steps equal a mile']\n",
      "{'eval_loss': 3.70497465133667, 'eval_bleu': 18.137333122255757, 'eval_runtime': 27.3499, 'eval_samples_per_second': 36.563, 'eval_steps_per_second': 1.536, 'epoch': 34.0}\n",
      "CustomTrainerCallback.on_evaluate - Momento: [2023-Apr-10 16:46:00] metrics={'eval_loss': 3.70497465133667, 'eval_bleu': 18.137333122255757, 'eval_runtime': 27.3499, 'eval_samples_per_second': 36.563, 'eval_steps_per_second': 1.536, 'epoch': 34.0}\n",
      "metrics['eval_loss']=3.70497465133667 metrics['eval_bleu']=18.137333122255757 self.best_validation_metric=18.963257058826606\n"
     ]
    },
    {
     "name": "stderr",
     "output_type": "stream",
     "text": [
      " 35%|███▌      | 1820/5200 [3:36:07<6:09:08,  6.55s/it] "
     ]
    },
    {
     "name": "stdout",
     "output_type": "stream",
     "text": [
      "{'loss': 0.0422, 'learning_rate': 0.0034210526315789475, 'epoch': 35.0}\n"
     ]
    },
    {
     "name": "stderr",
     "output_type": "stream",
     "text": [
      "                                                       \n",
      " 35%|███▌      | 1820/5200 [3:36:35<6:09:08,  6.55s/it]"
     ]
    },
    {
     "name": "stdout",
     "output_type": "stream",
     "text": [
      "Em compute_metrics: bleu=17.36798005116893\n",
      "Predicao[0]    :how many steps does an average mile in a mile/nGround_truth[0]:['how many fitbit steps equal a mile']\n",
      "{'eval_loss': 3.9788904190063477, 'eval_bleu': 17.36798005116893, 'eval_runtime': 27.5544, 'eval_samples_per_second': 36.292, 'eval_steps_per_second': 1.524, 'epoch': 35.0}\n",
      "CustomTrainerCallback.on_evaluate - Momento: [2023-Apr-10 16:52:52] metrics={'eval_loss': 3.9788904190063477, 'eval_bleu': 17.36798005116893, 'eval_runtime': 27.5544, 'eval_samples_per_second': 36.292, 'eval_steps_per_second': 1.524, 'epoch': 35.0}\n",
      "metrics['eval_loss']=3.9788904190063477 metrics['eval_bleu']=17.36798005116893 self.best_validation_metric=18.963257058826606\n"
     ]
    },
    {
     "name": "stderr",
     "output_type": "stream",
     "text": [
      " 36%|███▌      | 1872/5200 [3:42:38<6:10:00,  6.67s/it] "
     ]
    },
    {
     "name": "stdout",
     "output_type": "stream",
     "text": [
      "{'loss': 0.0442, 'learning_rate': 0.003368421052631579, 'epoch': 36.0}\n"
     ]
    },
    {
     "name": "stderr",
     "output_type": "stream",
     "text": [
      "                                                       \n",
      " 36%|███▌      | 1872/5200 [3:43:05<6:10:00,  6.67s/it]"
     ]
    },
    {
     "name": "stdout",
     "output_type": "stream",
     "text": [
      "Em compute_metrics: bleu=18.616332440578386\n",
      "Predicao[0]    :how many steps in mile/nGround_truth[0]:['how many fitbit steps equal a mile']\n",
      "{'eval_loss': 3.804515838623047, 'eval_bleu': 18.616332440578386, 'eval_runtime': 27.4355, 'eval_samples_per_second': 36.449, 'eval_steps_per_second': 1.531, 'epoch': 36.0}\n",
      "CustomTrainerCallback.on_evaluate - Momento: [2023-Apr-10 16:59:23] metrics={'eval_loss': 3.804515838623047, 'eval_bleu': 18.616332440578386, 'eval_runtime': 27.4355, 'eval_samples_per_second': 36.449, 'eval_steps_per_second': 1.531, 'epoch': 36.0}\n",
      "metrics['eval_loss']=3.804515838623047 metrics['eval_bleu']=18.616332440578386 self.best_validation_metric=18.963257058826606\n"
     ]
    },
    {
     "name": "stderr",
     "output_type": "stream",
     "text": [
      " 37%|███▋      | 1924/5200 [3:49:40<5:55:45,  6.52s/it] "
     ]
    },
    {
     "name": "stdout",
     "output_type": "stream",
     "text": [
      "{'loss': 0.0421, 'learning_rate': 0.0033157894736842103, 'epoch': 37.0}\n"
     ]
    },
    {
     "name": "stderr",
     "output_type": "stream",
     "text": [
      "                                                       \n",
      " 37%|███▋      | 1924/5200 [3:50:08<5:55:45,  6.52s/it]"
     ]
    },
    {
     "name": "stdout",
     "output_type": "stream",
     "text": [
      "Em compute_metrics: bleu=18.43953857449853\n",
      "Predicao[0]    :how many steps in mile/nGround_truth[0]:['how many fitbit steps equal a mile']\n",
      "{'eval_loss': 3.723106622695923, 'eval_bleu': 18.43953857449853, 'eval_runtime': 27.1648, 'eval_samples_per_second': 36.812, 'eval_steps_per_second': 1.546, 'epoch': 37.0}\n",
      "CustomTrainerCallback.on_evaluate - Momento: [2023-Apr-10 17:06:25] metrics={'eval_loss': 3.723106622695923, 'eval_bleu': 18.43953857449853, 'eval_runtime': 27.1648, 'eval_samples_per_second': 36.812, 'eval_steps_per_second': 1.546, 'epoch': 37.0}\n",
      "metrics['eval_loss']=3.723106622695923 metrics['eval_bleu']=18.43953857449853 self.best_validation_metric=18.963257058826606\n"
     ]
    },
    {
     "name": "stderr",
     "output_type": "stream",
     "text": [
      " 38%|███▊      | 1976/5200 [3:55:49<5:51:12,  6.54s/it] "
     ]
    },
    {
     "name": "stdout",
     "output_type": "stream",
     "text": [
      "{'loss': 0.0388, 'learning_rate': 0.0032631578947368424, 'epoch': 38.0}\n"
     ]
    },
    {
     "name": "stderr",
     "output_type": "stream",
     "text": [
      "                                                       \n",
      " 38%|███▊      | 1976/5200 [3:56:16<5:51:12,  6.54s/it]"
     ]
    },
    {
     "name": "stdout",
     "output_type": "stream",
     "text": [
      "Em compute_metrics: bleu=18.92196538149501\n",
      "Predicao[0]    :how many steps does mile/nGround_truth[0]:['how many fitbit steps equal a mile']\n",
      "{'eval_loss': 3.7216055393218994, 'eval_bleu': 18.92196538149501, 'eval_runtime': 27.4588, 'eval_samples_per_second': 36.418, 'eval_steps_per_second': 1.53, 'epoch': 38.0}\n",
      "CustomTrainerCallback.on_evaluate - Momento: [2023-Apr-10 17:12:34] metrics={'eval_loss': 3.7216055393218994, 'eval_bleu': 18.92196538149501, 'eval_runtime': 27.4588, 'eval_samples_per_second': 36.418, 'eval_steps_per_second': 1.53, 'epoch': 38.0}\n",
      "metrics['eval_loss']=3.7216055393218994 metrics['eval_bleu']=18.92196538149501 self.best_validation_metric=18.963257058826606\n"
     ]
    },
    {
     "name": "stderr",
     "output_type": "stream",
     "text": [
      " 39%|███▉      | 2028/5200 [4:01:58<5:45:43,  6.54s/it] "
     ]
    },
    {
     "name": "stdout",
     "output_type": "stream",
     "text": [
      "{'loss': 0.0419, 'learning_rate': 0.0032105263157894736, 'epoch': 39.0}\n"
     ]
    },
    {
     "name": "stderr",
     "output_type": "stream",
     "text": [
      "                                                       \n",
      " 39%|███▉      | 2028/5200 [4:02:26<5:45:43,  6.54s/it]"
     ]
    },
    {
     "name": "stdout",
     "output_type": "stream",
     "text": [
      "Em compute_metrics: bleu=18.475900724004514\n",
      "Predicao[0]    :how many miles does an average walk in a mile/nGround_truth[0]:['how many fitbit steps equal a mile']\n",
      "{'eval_loss': 3.760355234146118, 'eval_bleu': 18.475900724004514, 'eval_runtime': 27.6854, 'eval_samples_per_second': 36.12, 'eval_steps_per_second': 1.517, 'epoch': 39.0}\n",
      "CustomTrainerCallback.on_evaluate - Momento: [2023-Apr-10 17:18:44] metrics={'eval_loss': 3.760355234146118, 'eval_bleu': 18.475900724004514, 'eval_runtime': 27.6854, 'eval_samples_per_second': 36.12, 'eval_steps_per_second': 1.517, 'epoch': 39.0}\n",
      "metrics['eval_loss']=3.760355234146118 metrics['eval_bleu']=18.475900724004514 self.best_validation_metric=18.963257058826606\n"
     ]
    },
    {
     "name": "stderr",
     "output_type": "stream",
     "text": [
      " 40%|████      | 2080/5200 [4:08:07<5:44:59,  6.63s/it] "
     ]
    },
    {
     "name": "stdout",
     "output_type": "stream",
     "text": [
      "{'loss': 0.0398, 'learning_rate': 0.003157894736842105, 'epoch': 40.0}\n"
     ]
    },
    {
     "name": "stderr",
     "output_type": "stream",
     "text": [
      "                                                       \n",
      " 40%|████      | 2080/5200 [4:08:34<5:44:59,  6.63s/it]"
     ]
    },
    {
     "name": "stdout",
     "output_type": "stream",
     "text": [
      "Em compute_metrics: bleu=17.845135161753824\n",
      "Predicao[0]    :how many miles does mile/nGround_truth[0]:['how many fitbit steps equal a mile']\n",
      "{'eval_loss': 3.705547332763672, 'eval_bleu': 17.845135161753824, 'eval_runtime': 27.4849, 'eval_samples_per_second': 36.384, 'eval_steps_per_second': 1.528, 'epoch': 40.0}\n",
      "CustomTrainerCallback.on_evaluate - Momento: [2023-Apr-10 17:24:52] metrics={'eval_loss': 3.705547332763672, 'eval_bleu': 17.845135161753824, 'eval_runtime': 27.4849, 'eval_samples_per_second': 36.384, 'eval_steps_per_second': 1.528, 'epoch': 40.0}\n",
      "metrics['eval_loss']=3.705547332763672 metrics['eval_bleu']=17.845135161753824 self.best_validation_metric=18.963257058826606\n"
     ]
    },
    {
     "name": "stderr",
     "output_type": "stream",
     "text": [
      " 41%|████      | 2132/5200 [4:14:15<5:32:17,  6.50s/it] "
     ]
    },
    {
     "name": "stdout",
     "output_type": "stream",
     "text": [
      "{'loss': 0.0373, 'learning_rate': 0.0031052631578947372, 'epoch': 41.0}\n"
     ]
    },
    {
     "name": "stderr",
     "output_type": "stream",
     "text": [
      "                                                       \n",
      " 41%|████      | 2132/5200 [4:14:42<5:32:17,  6.50s/it]"
     ]
    },
    {
     "name": "stdout",
     "output_type": "stream",
     "text": [
      "Em compute_metrics: bleu=17.767364311363004\n",
      "Predicao[0]    :how many steps does an average person walk per mile/nGround_truth[0]:['how many fitbit steps equal a mile']\n",
      "{'eval_loss': 3.857089042663574, 'eval_bleu': 17.767364311363004, 'eval_runtime': 27.2008, 'eval_samples_per_second': 36.764, 'eval_steps_per_second': 1.544, 'epoch': 41.0}\n",
      "CustomTrainerCallback.on_evaluate - Momento: [2023-Apr-10 17:31:00] metrics={'eval_loss': 3.857089042663574, 'eval_bleu': 17.767364311363004, 'eval_runtime': 27.2008, 'eval_samples_per_second': 36.764, 'eval_steps_per_second': 1.544, 'epoch': 41.0}\n",
      "metrics['eval_loss']=3.857089042663574 metrics['eval_bleu']=17.767364311363004 self.best_validation_metric=18.963257058826606\n"
     ]
    },
    {
     "name": "stderr",
     "output_type": "stream",
     "text": [
      " 42%|████▏     | 2184/5200 [4:20:22<5:31:43,  6.60s/it] "
     ]
    },
    {
     "name": "stdout",
     "output_type": "stream",
     "text": [
      "{'loss': 0.0402, 'learning_rate': 0.0030526315789473684, 'epoch': 42.0}\n"
     ]
    },
    {
     "name": "stderr",
     "output_type": "stream",
     "text": [
      "                                                       \n",
      " 42%|████▏     | 2184/5200 [4:20:49<5:31:43,  6.60s/it]"
     ]
    },
    {
     "name": "stdout",
     "output_type": "stream",
     "text": [
      "Em compute_metrics: bleu=18.68106236930617\n",
      "Predicao[0]    :how many steps in a mile?/nGround_truth[0]:['how many fitbit steps equal a mile']\n",
      "{'eval_loss': 3.8319432735443115, 'eval_bleu': 18.68106236930617, 'eval_runtime': 27.3868, 'eval_samples_per_second': 36.514, 'eval_steps_per_second': 1.534, 'epoch': 42.0}\n",
      "CustomTrainerCallback.on_evaluate - Momento: [2023-Apr-10 17:37:07] metrics={'eval_loss': 3.8319432735443115, 'eval_bleu': 18.68106236930617, 'eval_runtime': 27.3868, 'eval_samples_per_second': 36.514, 'eval_steps_per_second': 1.534, 'epoch': 42.0}\n",
      "metrics['eval_loss']=3.8319432735443115 metrics['eval_bleu']=18.68106236930617 self.best_validation_metric=18.963257058826606\n"
     ]
    },
    {
     "name": "stderr",
     "output_type": "stream",
     "text": [
      " 43%|████▎     | 2236/5200 [4:26:41<5:33:35,  6.75s/it] "
     ]
    },
    {
     "name": "stdout",
     "output_type": "stream",
     "text": [
      "{'loss': 0.0361, 'learning_rate': 0.003, 'epoch': 43.0}\n"
     ]
    },
    {
     "name": "stderr",
     "output_type": "stream",
     "text": [
      "                                                       \n",
      " 43%|████▎     | 2236/5200 [4:27:08<5:33:35,  6.75s/it]"
     ]
    },
    {
     "name": "stdout",
     "output_type": "stream",
     "text": [
      "Em compute_metrics: bleu=18.275546384387145\n",
      "Predicao[0]    :how many steps in a mile/nGround_truth[0]:['how many fitbit steps equal a mile']\n",
      "{'eval_loss': 3.8174681663513184, 'eval_bleu': 18.275546384387145, 'eval_runtime': 27.1356, 'eval_samples_per_second': 36.852, 'eval_steps_per_second': 1.548, 'epoch': 43.0}\n",
      "CustomTrainerCallback.on_evaluate - Momento: [2023-Apr-10 17:43:26] metrics={'eval_loss': 3.8174681663513184, 'eval_bleu': 18.275546384387145, 'eval_runtime': 27.1356, 'eval_samples_per_second': 36.852, 'eval_steps_per_second': 1.548, 'epoch': 43.0}\n",
      "metrics['eval_loss']=3.8174681663513184 metrics['eval_bleu']=18.275546384387145 self.best_validation_metric=18.963257058826606\n"
     ]
    },
    {
     "name": "stderr",
     "output_type": "stream",
     "text": [
      " 44%|████▍     | 2288/5200 [4:32:49<5:14:52,  6.49s/it] "
     ]
    },
    {
     "name": "stdout",
     "output_type": "stream",
     "text": [
      "{'loss': 0.0308, 'learning_rate': 0.0029473684210526313, 'epoch': 44.0}\n"
     ]
    },
    {
     "name": "stderr",
     "output_type": "stream",
     "text": [
      "                                                       \n",
      " 44%|████▍     | 2288/5200 [4:33:16<5:14:52,  6.49s/it]"
     ]
    },
    {
     "name": "stdout",
     "output_type": "stream",
     "text": [
      "Em compute_metrics: bleu=17.755022383960483\n",
      "Predicao[0]    :how many steps does an average mile walk/nGround_truth[0]:['how many fitbit steps equal a mile']\n",
      "{'eval_loss': 3.965684652328491, 'eval_bleu': 17.755022383960483, 'eval_runtime': 26.8493, 'eval_samples_per_second': 37.245, 'eval_steps_per_second': 1.564, 'epoch': 44.0}\n",
      "CustomTrainerCallback.on_evaluate - Momento: [2023-Apr-10 17:49:34] metrics={'eval_loss': 3.965684652328491, 'eval_bleu': 17.755022383960483, 'eval_runtime': 26.8493, 'eval_samples_per_second': 37.245, 'eval_steps_per_second': 1.564, 'epoch': 44.0}\n",
      "metrics['eval_loss']=3.965684652328491 metrics['eval_bleu']=17.755022383960483 self.best_validation_metric=18.963257058826606\n"
     ]
    },
    {
     "name": "stderr",
     "output_type": "stream",
     "text": [
      " 45%|████▌     | 2340/5200 [4:38:55<5:09:30,  6.49s/it] "
     ]
    },
    {
     "name": "stdout",
     "output_type": "stream",
     "text": [
      "{'loss': 0.0287, 'learning_rate': 0.0028947368421052633, 'epoch': 45.0}\n"
     ]
    },
    {
     "name": "stderr",
     "output_type": "stream",
     "text": [
      "                                                       \n",
      " 45%|████▌     | 2340/5200 [4:39:22<5:09:30,  6.49s/it]"
     ]
    },
    {
     "name": "stdout",
     "output_type": "stream",
     "text": [
      "Em compute_metrics: bleu=19.621240676922703\n",
      "Predicao[0]    :how many steps in mile/nGround_truth[0]:['how many fitbit steps equal a mile']\n",
      "{'eval_loss': 4.014098644256592, 'eval_bleu': 19.621240676922703, 'eval_runtime': 26.6475, 'eval_samples_per_second': 37.527, 'eval_steps_per_second': 1.576, 'epoch': 45.0}\n",
      "CustomTrainerCallback.on_evaluate - Momento: [2023-Apr-10 17:55:40] metrics={'eval_loss': 4.014098644256592, 'eval_bleu': 19.621240676922703, 'eval_runtime': 26.6475, 'eval_samples_per_second': 37.527, 'eval_steps_per_second': 1.576, 'epoch': 45.0}\n",
      "metrics['eval_loss']=4.014098644256592 metrics['eval_bleu']=19.621240676922703 self.best_validation_metric=18.963257058826606\n"
     ]
    },
    {
     "name": "stderr",
     "output_type": "stream",
     "text": [
      " 46%|████▌     | 2392/5200 [4:45:00<5:03:03,  6.48s/it] "
     ]
    },
    {
     "name": "stdout",
     "output_type": "stream",
     "text": [
      "{'loss': 0.0239, 'learning_rate': 0.002842105263157895, 'epoch': 46.0}\n"
     ]
    },
    {
     "name": "stderr",
     "output_type": "stream",
     "text": [
      "                                                       \n",
      " 46%|████▌     | 2392/5200 [4:45:27<5:03:03,  6.48s/it]"
     ]
    },
    {
     "name": "stdout",
     "output_type": "stream",
     "text": [
      "Em compute_metrics: bleu=18.4763883533334\n",
      "Predicao[0]    :how many steps in mile/nGround_truth[0]:['how many fitbit steps equal a mile']\n",
      "{'eval_loss': 4.189681053161621, 'eval_bleu': 18.4763883533334, 'eval_runtime': 27.1022, 'eval_samples_per_second': 36.897, 'eval_steps_per_second': 1.55, 'epoch': 46.0}\n",
      "CustomTrainerCallback.on_evaluate - Momento: [2023-Apr-10 18:01:45] metrics={'eval_loss': 4.189681053161621, 'eval_bleu': 18.4763883533334, 'eval_runtime': 27.1022, 'eval_samples_per_second': 36.897, 'eval_steps_per_second': 1.55, 'epoch': 46.0}\n",
      "metrics['eval_loss']=4.189681053161621 metrics['eval_bleu']=18.4763883533334 self.best_validation_metric=19.621240676922703\n"
     ]
    },
    {
     "name": "stderr",
     "output_type": "stream",
     "text": [
      " 47%|████▋     | 2444/5200 [4:51:05<4:55:16,  6.43s/it] "
     ]
    },
    {
     "name": "stdout",
     "output_type": "stream",
     "text": [
      "{'loss': 0.0226, 'learning_rate': 0.002789473684210526, 'epoch': 47.0}\n"
     ]
    },
    {
     "name": "stderr",
     "output_type": "stream",
     "text": [
      "                                                       \n",
      " 47%|████▋     | 2444/5200 [4:51:32<4:55:16,  6.43s/it]"
     ]
    },
    {
     "name": "stdout",
     "output_type": "stream",
     "text": [
      "Em compute_metrics: bleu=18.351863854870466\n",
      "Predicao[0]    :how many steps in mile/nGround_truth[0]:['how many fitbit steps equal a mile']\n",
      "{'eval_loss': 3.985043525695801, 'eval_bleu': 18.351863854870466, 'eval_runtime': 26.715, 'eval_samples_per_second': 37.432, 'eval_steps_per_second': 1.572, 'epoch': 47.0}\n",
      "CustomTrainerCallback.on_evaluate - Momento: [2023-Apr-10 18:07:50] metrics={'eval_loss': 3.985043525695801, 'eval_bleu': 18.351863854870466, 'eval_runtime': 26.715, 'eval_samples_per_second': 37.432, 'eval_steps_per_second': 1.572, 'epoch': 47.0}\n",
      "metrics['eval_loss']=3.985043525695801 metrics['eval_bleu']=18.351863854870466 self.best_validation_metric=19.621240676922703\n"
     ]
    },
    {
     "name": "stderr",
     "output_type": "stream",
     "text": [
      " 48%|████▊     | 2496/5200 [4:57:16<4:54:47,  6.54s/it] "
     ]
    },
    {
     "name": "stdout",
     "output_type": "stream",
     "text": [
      "{'loss': 0.0222, 'learning_rate': 0.002736842105263158, 'epoch': 48.0}\n"
     ]
    },
    {
     "name": "stderr",
     "output_type": "stream",
     "text": [
      "                                                       \n",
      " 48%|████▊     | 2496/5200 [4:57:45<4:54:47,  6.54s/it]"
     ]
    },
    {
     "name": "stdout",
     "output_type": "stream",
     "text": [
      "Em compute_metrics: bleu=18.982458614634254\n",
      "Predicao[0]    :how many steps in mile/nGround_truth[0]:['how many fitbit steps equal a mile']\n",
      "{'eval_loss': 4.229513168334961, 'eval_bleu': 18.982458614634254, 'eval_runtime': 29.385, 'eval_samples_per_second': 34.031, 'eval_steps_per_second': 1.429, 'epoch': 48.0}\n",
      "CustomTrainerCallback.on_evaluate - Momento: [2023-Apr-10 18:14:03] metrics={'eval_loss': 4.229513168334961, 'eval_bleu': 18.982458614634254, 'eval_runtime': 29.385, 'eval_samples_per_second': 34.031, 'eval_steps_per_second': 1.429, 'epoch': 48.0}\n",
      "metrics['eval_loss']=4.229513168334961 metrics['eval_bleu']=18.982458614634254 self.best_validation_metric=19.621240676922703\n"
     ]
    },
    {
     "name": "stderr",
     "output_type": "stream",
     "text": [
      " 49%|████▉     | 2548/5200 [5:03:20<4:43:13,  6.41s/it] "
     ]
    },
    {
     "name": "stdout",
     "output_type": "stream",
     "text": [
      "{'loss': 0.0198, 'learning_rate': 0.0026842105263157894, 'epoch': 49.0}\n"
     ]
    },
    {
     "name": "stderr",
     "output_type": "stream",
     "text": [
      "                                                       \n",
      " 49%|████▉     | 2548/5200 [5:03:47<4:43:13,  6.41s/it]"
     ]
    },
    {
     "name": "stdout",
     "output_type": "stream",
     "text": [
      "Em compute_metrics: bleu=18.440844118457708\n",
      "Predicao[0]    :how many steps in mile/nGround_truth[0]:['how many fitbit steps equal a mile']\n",
      "{'eval_loss': 4.193902015686035, 'eval_bleu': 18.440844118457708, 'eval_runtime': 26.9361, 'eval_samples_per_second': 37.125, 'eval_steps_per_second': 1.559, 'epoch': 49.0}\n",
      "CustomTrainerCallback.on_evaluate - Momento: [2023-Apr-10 18:20:04] metrics={'eval_loss': 4.193902015686035, 'eval_bleu': 18.440844118457708, 'eval_runtime': 26.9361, 'eval_samples_per_second': 37.125, 'eval_steps_per_second': 1.559, 'epoch': 49.0}\n",
      "metrics['eval_loss']=4.193902015686035 metrics['eval_bleu']=18.440844118457708 self.best_validation_metric=19.621240676922703\n"
     ]
    },
    {
     "name": "stderr",
     "output_type": "stream",
     "text": [
      " 50%|█████     | 2600/5200 [5:09:37<4:39:44,  6.46s/it] "
     ]
    },
    {
     "name": "stdout",
     "output_type": "stream",
     "text": [
      "{'loss': 0.0196, 'learning_rate': 0.002631578947368421, 'epoch': 50.0}\n"
     ]
    },
    {
     "name": "stderr",
     "output_type": "stream",
     "text": [
      "                                                       \n",
      " 50%|█████     | 2600/5200 [5:10:03<4:39:44,  6.46s/it]"
     ]
    },
    {
     "name": "stdout",
     "output_type": "stream",
     "text": [
      "Em compute_metrics: bleu=18.51569094584363\n",
      "Predicao[0]    :how many steps in mile/nGround_truth[0]:['how many fitbit steps equal a mile']\n",
      "{'eval_loss': 4.222446918487549, 'eval_bleu': 18.51569094584363, 'eval_runtime': 26.2109, 'eval_samples_per_second': 38.152, 'eval_steps_per_second': 1.602, 'epoch': 50.0}\n",
      "CustomTrainerCallback.on_evaluate - Momento: [2023-Apr-10 18:26:21] metrics={'eval_loss': 4.222446918487549, 'eval_bleu': 18.51569094584363, 'eval_runtime': 26.2109, 'eval_samples_per_second': 38.152, 'eval_steps_per_second': 1.602, 'epoch': 50.0}\n",
      "metrics['eval_loss']=4.222446918487549 metrics['eval_bleu']=18.51569094584363 self.best_validation_metric=19.621240676922703\n"
     ]
    },
    {
     "name": "stderr",
     "output_type": "stream",
     "text": [
      " 51%|█████     | 2652/5200 [5:15:44<4:34:26,  6.46s/it] "
     ]
    },
    {
     "name": "stdout",
     "output_type": "stream",
     "text": [
      "{'loss': 0.0209, 'learning_rate': 0.002578947368421053, 'epoch': 51.0}\n"
     ]
    },
    {
     "name": "stderr",
     "output_type": "stream",
     "text": [
      "                                                       \n",
      " 51%|█████     | 2652/5200 [5:16:11<4:34:26,  6.46s/it]"
     ]
    },
    {
     "name": "stdout",
     "output_type": "stream",
     "text": [
      "Em compute_metrics: bleu=18.20740035739033\n",
      "Predicao[0]    :how many steps in mile/nGround_truth[0]:['how many fitbit steps equal a mile']\n",
      "{'eval_loss': 4.133357048034668, 'eval_bleu': 18.20740035739033, 'eval_runtime': 27.1923, 'eval_samples_per_second': 36.775, 'eval_steps_per_second': 1.545, 'epoch': 51.0}\n",
      "CustomTrainerCallback.on_evaluate - Momento: [2023-Apr-10 18:32:29] metrics={'eval_loss': 4.133357048034668, 'eval_bleu': 18.20740035739033, 'eval_runtime': 27.1923, 'eval_samples_per_second': 36.775, 'eval_steps_per_second': 1.545, 'epoch': 51.0}\n",
      "metrics['eval_loss']=4.133357048034668 metrics['eval_bleu']=18.20740035739033 self.best_validation_metric=19.621240676922703\n"
     ]
    },
    {
     "name": "stderr",
     "output_type": "stream",
     "text": [
      " 52%|█████▏    | 2704/5200 [5:21:53<4:28:25,  6.45s/it] "
     ]
    },
    {
     "name": "stdout",
     "output_type": "stream",
     "text": [
      "{'loss': 0.02, 'learning_rate': 0.0025263157894736842, 'epoch': 52.0}\n"
     ]
    },
    {
     "name": "stderr",
     "output_type": "stream",
     "text": [
      "                                                       \n",
      " 52%|█████▏    | 2704/5200 [5:22:20<4:28:25,  6.45s/it]"
     ]
    },
    {
     "name": "stdout",
     "output_type": "stream",
     "text": [
      "Em compute_metrics: bleu=17.577019839666107\n",
      "Predicao[0]    :how many steps in mile/nGround_truth[0]:['how many fitbit steps equal a mile']\n",
      "{'eval_loss': 4.196014881134033, 'eval_bleu': 17.577019839666107, 'eval_runtime': 26.8829, 'eval_samples_per_second': 37.198, 'eval_steps_per_second': 1.562, 'epoch': 52.0}\n",
      "CustomTrainerCallback.on_evaluate - Momento: [2023-Apr-10 18:38:37] metrics={'eval_loss': 4.196014881134033, 'eval_bleu': 17.577019839666107, 'eval_runtime': 26.8829, 'eval_samples_per_second': 37.198, 'eval_steps_per_second': 1.562, 'epoch': 52.0}\n",
      "metrics['eval_loss']=4.196014881134033 metrics['eval_bleu']=17.577019839666107 self.best_validation_metric=19.621240676922703\n"
     ]
    },
    {
     "name": "stderr",
     "output_type": "stream",
     "text": [
      " 53%|█████▎    | 2756/5200 [5:27:59<4:20:26,  6.39s/it] "
     ]
    },
    {
     "name": "stdout",
     "output_type": "stream",
     "text": [
      "{'loss': 0.0179, 'learning_rate': 0.002473684210526316, 'epoch': 53.0}\n"
     ]
    },
    {
     "name": "stderr",
     "output_type": "stream",
     "text": [
      "                                                       \n",
      " 53%|█████▎    | 2756/5200 [5:28:25<4:20:26,  6.39s/it]"
     ]
    },
    {
     "name": "stdout",
     "output_type": "stream",
     "text": [
      "Em compute_metrics: bleu=18.91063513006048\n",
      "Predicao[0]    :how many steps in mile/nGround_truth[0]:['how many fitbit steps equal a mile']\n",
      "{'eval_loss': 4.260792255401611, 'eval_bleu': 18.91063513006048, 'eval_runtime': 26.1822, 'eval_samples_per_second': 38.194, 'eval_steps_per_second': 1.604, 'epoch': 53.0}\n",
      "CustomTrainerCallback.on_evaluate - Momento: [2023-Apr-10 18:44:43] metrics={'eval_loss': 4.260792255401611, 'eval_bleu': 18.91063513006048, 'eval_runtime': 26.1822, 'eval_samples_per_second': 38.194, 'eval_steps_per_second': 1.604, 'epoch': 53.0}\n",
      "metrics['eval_loss']=4.260792255401611 metrics['eval_bleu']=18.91063513006048 self.best_validation_metric=19.621240676922703\n"
     ]
    },
    {
     "name": "stderr",
     "output_type": "stream",
     "text": [
      " 54%|█████▍    | 2808/5200 [5:34:05<4:16:43,  6.44s/it] "
     ]
    },
    {
     "name": "stdout",
     "output_type": "stream",
     "text": [
      "{'loss': 0.0166, 'learning_rate': 0.0024210526315789475, 'epoch': 54.0}\n"
     ]
    },
    {
     "name": "stderr",
     "output_type": "stream",
     "text": [
      "                                                       \n",
      " 54%|█████▍    | 2808/5200 [5:34:31<4:16:43,  6.44s/it]"
     ]
    },
    {
     "name": "stdout",
     "output_type": "stream",
     "text": [
      "Em compute_metrics: bleu=18.89038344618852\n",
      "Predicao[0]    :average steps in mile/nGround_truth[0]:['how many fitbit steps equal a mile']\n",
      "{'eval_loss': 4.189633846282959, 'eval_bleu': 18.89038344618852, 'eval_runtime': 26.2341, 'eval_samples_per_second': 38.118, 'eval_steps_per_second': 1.601, 'epoch': 54.0}\n",
      "CustomTrainerCallback.on_evaluate - Momento: [2023-Apr-10 18:50:48] metrics={'eval_loss': 4.189633846282959, 'eval_bleu': 18.89038344618852, 'eval_runtime': 26.2341, 'eval_samples_per_second': 38.118, 'eval_steps_per_second': 1.601, 'epoch': 54.0}\n",
      "metrics['eval_loss']=4.189633846282959 metrics['eval_bleu']=18.89038344618852 self.best_validation_metric=19.621240676922703\n"
     ]
    },
    {
     "name": "stderr",
     "output_type": "stream",
     "text": [
      " 55%|█████▌    | 2860/5200 [5:40:04<4:09:12,  6.39s/it]"
     ]
    },
    {
     "name": "stdout",
     "output_type": "stream",
     "text": [
      "{'loss': 0.0165, 'learning_rate': 0.0023684210526315787, 'epoch': 55.0}\n"
     ]
    },
    {
     "name": "stderr",
     "output_type": "stream",
     "text": [
      "                                                       \n",
      " 55%|█████▌    | 2860/5200 [5:40:31<4:09:12,  6.39s/it]"
     ]
    },
    {
     "name": "stdout",
     "output_type": "stream",
     "text": [
      "Em compute_metrics: bleu=18.945270572721135\n",
      "Predicao[0]    :how many steps in mile per mile/nGround_truth[0]:['how many fitbit steps equal a mile']\n",
      "{'eval_loss': 4.327977180480957, 'eval_bleu': 18.945270572721135, 'eval_runtime': 26.8534, 'eval_samples_per_second': 37.239, 'eval_steps_per_second': 1.564, 'epoch': 55.0}\n",
      "CustomTrainerCallback.on_evaluate - Momento: [2023-Apr-10 18:56:49] metrics={'eval_loss': 4.327977180480957, 'eval_bleu': 18.945270572721135, 'eval_runtime': 26.8534, 'eval_samples_per_second': 37.239, 'eval_steps_per_second': 1.564, 'epoch': 55.0}\n",
      "metrics['eval_loss']=4.327977180480957 metrics['eval_bleu']=18.945270572721135 self.best_validation_metric=19.621240676922703\n"
     ]
    },
    {
     "name": "stderr",
     "output_type": "stream",
     "text": [
      " 56%|█████▌    | 2912/5200 [5:46:13<4:08:12,  6.51s/it]"
     ]
    },
    {
     "name": "stdout",
     "output_type": "stream",
     "text": [
      "{'loss': 0.015, 'learning_rate': 0.0023157894736842107, 'epoch': 56.0}\n"
     ]
    },
    {
     "name": "stderr",
     "output_type": "stream",
     "text": [
      "                                                       \n",
      " 56%|█████▌    | 2912/5200 [5:46:40<4:08:12,  6.51s/it]"
     ]
    },
    {
     "name": "stdout",
     "output_type": "stream",
     "text": [
      "Em compute_metrics: bleu=19.362295991782347\n",
      "Predicao[0]    :how many steps in mile/nGround_truth[0]:['how many fitbit steps equal a mile']\n",
      "{'eval_loss': 4.321545124053955, 'eval_bleu': 19.362295991782347, 'eval_runtime': 27.1018, 'eval_samples_per_second': 36.898, 'eval_steps_per_second': 1.55, 'epoch': 56.0}\n",
      "CustomTrainerCallback.on_evaluate - Momento: [2023-Apr-10 19:02:58] metrics={'eval_loss': 4.321545124053955, 'eval_bleu': 19.362295991782347, 'eval_runtime': 27.1018, 'eval_samples_per_second': 36.898, 'eval_steps_per_second': 1.55, 'epoch': 56.0}\n",
      "metrics['eval_loss']=4.321545124053955 metrics['eval_bleu']=19.362295991782347 self.best_validation_metric=19.621240676922703\n"
     ]
    },
    {
     "name": "stderr",
     "output_type": "stream",
     "text": [
      " 57%|█████▋    | 2964/5200 [5:52:20<4:01:35,  6.48s/it]"
     ]
    },
    {
     "name": "stdout",
     "output_type": "stream",
     "text": [
      "{'loss': 0.0143, 'learning_rate': 0.0022631578947368424, 'epoch': 57.0}\n"
     ]
    },
    {
     "name": "stderr",
     "output_type": "stream",
     "text": [
      "                                                       \n",
      " 57%|█████▋    | 2964/5200 [5:52:48<4:01:35,  6.48s/it]"
     ]
    },
    {
     "name": "stdout",
     "output_type": "stream",
     "text": [
      "Em compute_metrics: bleu=18.876529481211264\n",
      "Predicao[0]    :average steps in mile/nGround_truth[0]:['how many fitbit steps equal a mile']\n",
      "{'eval_loss': 4.46294641494751, 'eval_bleu': 18.876529481211264, 'eval_runtime': 27.2259, 'eval_samples_per_second': 36.73, 'eval_steps_per_second': 1.543, 'epoch': 57.0}\n",
      "CustomTrainerCallback.on_evaluate - Momento: [2023-Apr-10 19:09:05] metrics={'eval_loss': 4.46294641494751, 'eval_bleu': 18.876529481211264, 'eval_runtime': 27.2259, 'eval_samples_per_second': 36.73, 'eval_steps_per_second': 1.543, 'epoch': 57.0}\n",
      "metrics['eval_loss']=4.46294641494751 metrics['eval_bleu']=18.876529481211264 self.best_validation_metric=19.621240676922703\n"
     ]
    },
    {
     "name": "stderr",
     "output_type": "stream",
     "text": [
      " 58%|█████▊    | 3016/5200 [5:58:40<4:22:53,  7.22s/it]"
     ]
    },
    {
     "name": "stdout",
     "output_type": "stream",
     "text": [
      "{'loss': 0.0134, 'learning_rate': 0.0022105263157894735, 'epoch': 58.0}\n"
     ]
    },
    {
     "name": "stderr",
     "output_type": "stream",
     "text": [
      "                                                       \n",
      " 58%|█████▊    | 3016/5200 [5:59:13<4:22:53,  7.22s/it]"
     ]
    },
    {
     "name": "stdout",
     "output_type": "stream",
     "text": [
      "Em compute_metrics: bleu=18.183907192941852\n",
      "Predicao[0]    :average steps per mile/nGround_truth[0]:['how many fitbit steps equal a mile']\n",
      "{'eval_loss': 4.489246845245361, 'eval_bleu': 18.183907192941852, 'eval_runtime': 33.3357, 'eval_samples_per_second': 29.998, 'eval_steps_per_second': 1.26, 'epoch': 58.0}\n",
      "CustomTrainerCallback.on_evaluate - Momento: [2023-Apr-10 19:15:30] metrics={'eval_loss': 4.489246845245361, 'eval_bleu': 18.183907192941852, 'eval_runtime': 33.3357, 'eval_samples_per_second': 29.998, 'eval_steps_per_second': 1.26, 'epoch': 58.0}\n",
      "metrics['eval_loss']=4.489246845245361 metrics['eval_bleu']=18.183907192941852 self.best_validation_metric=19.621240676922703\n"
     ]
    },
    {
     "name": "stderr",
     "output_type": "stream",
     "text": [
      " 59%|█████▉    | 3068/5200 [6:04:58<3:55:41,  6.63s/it] "
     ]
    },
    {
     "name": "stdout",
     "output_type": "stream",
     "text": [
      "{'loss': 0.015, 'learning_rate': 0.002157894736842105, 'epoch': 59.0}\n"
     ]
    },
    {
     "name": "stderr",
     "output_type": "stream",
     "text": [
      "                                                       \n",
      " 59%|█████▉    | 3068/5200 [6:05:25<3:55:41,  6.63s/it]"
     ]
    },
    {
     "name": "stdout",
     "output_type": "stream",
     "text": [
      "Em compute_metrics: bleu=18.22873419463365\n",
      "Predicao[0]    :average steps per mile average/nGround_truth[0]:['how many fitbit steps equal a mile']\n",
      "{'eval_loss': 4.320329189300537, 'eval_bleu': 18.22873419463365, 'eval_runtime': 27.4579, 'eval_samples_per_second': 36.419, 'eval_steps_per_second': 1.53, 'epoch': 59.0}\n",
      "CustomTrainerCallback.on_evaluate - Momento: [2023-Apr-10 19:21:42] metrics={'eval_loss': 4.320329189300537, 'eval_bleu': 18.22873419463365, 'eval_runtime': 27.4579, 'eval_samples_per_second': 36.419, 'eval_steps_per_second': 1.53, 'epoch': 59.0}\n",
      "metrics['eval_loss']=4.320329189300537 metrics['eval_bleu']=18.22873419463365 self.best_validation_metric=19.621240676922703\n"
     ]
    },
    {
     "name": "stderr",
     "output_type": "stream",
     "text": [
      " 60%|██████    | 3120/5200 [6:11:09<3:45:35,  6.51s/it]"
     ]
    },
    {
     "name": "stdout",
     "output_type": "stream",
     "text": [
      "{'loss': 0.0134, 'learning_rate': 0.002105263157894737, 'epoch': 60.0}\n"
     ]
    },
    {
     "name": "stderr",
     "output_type": "stream",
     "text": [
      "                                                       \n",
      " 60%|██████    | 3120/5200 [6:11:36<3:45:35,  6.51s/it]"
     ]
    },
    {
     "name": "stdout",
     "output_type": "stream",
     "text": [
      "Em compute_metrics: bleu=18.713204419784166\n",
      "Predicao[0]    :average steps per mile average/nGround_truth[0]:['how many fitbit steps equal a mile']\n",
      "{'eval_loss': 4.352664947509766, 'eval_bleu': 18.713204419784166, 'eval_runtime': 26.8086, 'eval_samples_per_second': 37.301, 'eval_steps_per_second': 1.567, 'epoch': 60.0}\n",
      "CustomTrainerCallback.on_evaluate - Momento: [2023-Apr-10 19:27:53] metrics={'eval_loss': 4.352664947509766, 'eval_bleu': 18.713204419784166, 'eval_runtime': 26.8086, 'eval_samples_per_second': 37.301, 'eval_steps_per_second': 1.567, 'epoch': 60.0}\n",
      "metrics['eval_loss']=4.352664947509766 metrics['eval_bleu']=18.713204419784166 self.best_validation_metric=19.621240676922703\n"
     ]
    },
    {
     "name": "stderr",
     "output_type": "stream",
     "text": [
      " 61%|██████    | 3172/5200 [6:17:15<3:41:51,  6.56s/it]"
     ]
    },
    {
     "name": "stdout",
     "output_type": "stream",
     "text": [
      "{'loss': 0.0133, 'learning_rate': 0.0020526315789473684, 'epoch': 61.0}\n"
     ]
    },
    {
     "name": "stderr",
     "output_type": "stream",
     "text": [
      "                                                       \n",
      " 61%|██████    | 3172/5200 [6:17:43<3:41:51,  6.56s/it]"
     ]
    },
    {
     "name": "stdout",
     "output_type": "stream",
     "text": [
      "Em compute_metrics: bleu=18.21337122272196\n",
      "Predicao[0]    :average steps per mile average/nGround_truth[0]:['how many fitbit steps equal a mile']\n",
      "{'eval_loss': 4.417492389678955, 'eval_bleu': 18.21337122272196, 'eval_runtime': 27.698, 'eval_samples_per_second': 36.104, 'eval_steps_per_second': 1.516, 'epoch': 61.0}\n",
      "CustomTrainerCallback.on_evaluate - Momento: [2023-Apr-10 19:34:01] metrics={'eval_loss': 4.417492389678955, 'eval_bleu': 18.21337122272196, 'eval_runtime': 27.698, 'eval_samples_per_second': 36.104, 'eval_steps_per_second': 1.516, 'epoch': 61.0}\n",
      "metrics['eval_loss']=4.417492389678955 metrics['eval_bleu']=18.21337122272196 self.best_validation_metric=19.621240676922703\n"
     ]
    },
    {
     "name": "stderr",
     "output_type": "stream",
     "text": [
      " 62%|██████▏   | 3224/5200 [6:23:29<3:33:30,  6.48s/it]"
     ]
    },
    {
     "name": "stdout",
     "output_type": "stream",
     "text": [
      "{'loss': 0.0117, 'learning_rate': 0.002, 'epoch': 62.0}\n"
     ]
    },
    {
     "name": "stderr",
     "output_type": "stream",
     "text": [
      "                                                       \n",
      " 62%|██████▏   | 3224/5200 [6:23:56<3:33:30,  6.48s/it]"
     ]
    },
    {
     "name": "stdout",
     "output_type": "stream",
     "text": [
      "Em compute_metrics: bleu=18.247149969639597\n",
      "Predicao[0]    :average steps per mile average/nGround_truth[0]:['how many fitbit steps equal a mile']\n",
      "{'eval_loss': 4.507955551147461, 'eval_bleu': 18.247149969639597, 'eval_runtime': 26.4581, 'eval_samples_per_second': 37.796, 'eval_steps_per_second': 1.587, 'epoch': 62.0}\n",
      "CustomTrainerCallback.on_evaluate - Momento: [2023-Apr-10 19:40:13] metrics={'eval_loss': 4.507955551147461, 'eval_bleu': 18.247149969639597, 'eval_runtime': 26.4581, 'eval_samples_per_second': 37.796, 'eval_steps_per_second': 1.587, 'epoch': 62.0}\n",
      "metrics['eval_loss']=4.507955551147461 metrics['eval_bleu']=18.247149969639597 self.best_validation_metric=19.621240676922703\n"
     ]
    },
    {
     "name": "stderr",
     "output_type": "stream",
     "text": [
      " 63%|██████▎   | 3276/5200 [6:29:33<3:25:47,  6.42s/it]"
     ]
    },
    {
     "name": "stdout",
     "output_type": "stream",
     "text": [
      "{'loss': 0.0128, 'learning_rate': 0.0019473684210526317, 'epoch': 63.0}\n"
     ]
    },
    {
     "name": "stderr",
     "output_type": "stream",
     "text": [
      "                                                       \n",
      " 63%|██████▎   | 3276/5200 [6:30:00<3:25:47,  6.42s/it]"
     ]
    },
    {
     "name": "stdout",
     "output_type": "stream",
     "text": [
      "Em compute_metrics: bleu=18.451525166042078\n",
      "Predicao[0]    :how many steps does an average mile walk/nGround_truth[0]:['how many fitbit steps equal a mile']\n",
      "{'eval_loss': 4.493412971496582, 'eval_bleu': 18.451525166042078, 'eval_runtime': 27.363, 'eval_samples_per_second': 36.546, 'eval_steps_per_second': 1.535, 'epoch': 63.0}\n",
      "CustomTrainerCallback.on_evaluate - Momento: [2023-Apr-10 19:46:18] metrics={'eval_loss': 4.493412971496582, 'eval_bleu': 18.451525166042078, 'eval_runtime': 27.363, 'eval_samples_per_second': 36.546, 'eval_steps_per_second': 1.535, 'epoch': 63.0}\n",
      "metrics['eval_loss']=4.493412971496582 metrics['eval_bleu']=18.451525166042078 self.best_validation_metric=19.621240676922703\n"
     ]
    },
    {
     "name": "stderr",
     "output_type": "stream",
     "text": [
      " 64%|██████▍   | 3328/5200 [6:35:48<3:29:03,  6.70s/it]"
     ]
    },
    {
     "name": "stdout",
     "output_type": "stream",
     "text": [
      "{'loss': 0.0107, 'learning_rate': 0.0018947368421052633, 'epoch': 64.0}\n"
     ]
    },
    {
     "name": "stderr",
     "output_type": "stream",
     "text": [
      "                                                       \n",
      " 64%|██████▍   | 3328/5200 [6:36:14<3:29:03,  6.70s/it]"
     ]
    },
    {
     "name": "stdout",
     "output_type": "stream",
     "text": [
      "Em compute_metrics: bleu=18.837758139431088\n",
      "Predicao[0]    :average steps per mile in person/nGround_truth[0]:['how many fitbit steps equal a mile']\n",
      "{'eval_loss': 4.475801467895508, 'eval_bleu': 18.837758139431088, 'eval_runtime': 26.0505, 'eval_samples_per_second': 38.387, 'eval_steps_per_second': 1.612, 'epoch': 64.0}\n",
      "CustomTrainerCallback.on_evaluate - Momento: [2023-Apr-10 19:52:31] metrics={'eval_loss': 4.475801467895508, 'eval_bleu': 18.837758139431088, 'eval_runtime': 26.0505, 'eval_samples_per_second': 38.387, 'eval_steps_per_second': 1.612, 'epoch': 64.0}\n",
      "metrics['eval_loss']=4.475801467895508 metrics['eval_bleu']=18.837758139431088 self.best_validation_metric=19.621240676922703\n"
     ]
    },
    {
     "name": "stderr",
     "output_type": "stream",
     "text": [
      " 65%|██████▌   | 3380/5200 [6:41:55<3:15:27,  6.44s/it]"
     ]
    },
    {
     "name": "stdout",
     "output_type": "stream",
     "text": [
      "{'loss': 0.0096, 'learning_rate': 0.0018421052631578947, 'epoch': 65.0}\n"
     ]
    },
    {
     "name": "stderr",
     "output_type": "stream",
     "text": [
      "                                                       \n",
      " 65%|██████▌   | 3380/5200 [6:42:22<3:15:27,  6.44s/it]"
     ]
    },
    {
     "name": "stdout",
     "output_type": "stream",
     "text": [
      "Em compute_metrics: bleu=18.442769074213903\n",
      "Predicao[0]    :average steps per mile average/nGround_truth[0]:['how many fitbit steps equal a mile']\n",
      "{'eval_loss': 4.692589282989502, 'eval_bleu': 18.442769074213903, 'eval_runtime': 27.0697, 'eval_samples_per_second': 36.942, 'eval_steps_per_second': 1.552, 'epoch': 65.0}\n",
      "CustomTrainerCallback.on_evaluate - Momento: [2023-Apr-10 19:58:39] metrics={'eval_loss': 4.692589282989502, 'eval_bleu': 18.442769074213903, 'eval_runtime': 27.0697, 'eval_samples_per_second': 36.942, 'eval_steps_per_second': 1.552, 'epoch': 65.0}\n",
      "metrics['eval_loss']=4.692589282989502 metrics['eval_bleu']=18.442769074213903 self.best_validation_metric=19.621240676922703\n"
     ]
    },
    {
     "name": "stderr",
     "output_type": "stream",
     "text": [
      " 66%|██████▌   | 3432/5200 [6:48:20<3:15:47,  6.64s/it]"
     ]
    },
    {
     "name": "stdout",
     "output_type": "stream",
     "text": [
      "{'loss': 0.0116, 'learning_rate': 0.0017894736842105263, 'epoch': 66.0}\n"
     ]
    },
    {
     "name": "stderr",
     "output_type": "stream",
     "text": [
      "                                                       \n",
      " 66%|██████▌   | 3432/5200 [6:48:47<3:15:47,  6.64s/it]"
     ]
    },
    {
     "name": "stdout",
     "output_type": "stream",
     "text": [
      "Em compute_metrics: bleu=19.226881131697944\n",
      "Predicao[0]    :average steps per mile average/nGround_truth[0]:['how many fitbit steps equal a mile']\n",
      "{'eval_loss': 4.477019786834717, 'eval_bleu': 19.226881131697944, 'eval_runtime': 26.9887, 'eval_samples_per_second': 37.053, 'eval_steps_per_second': 1.556, 'epoch': 66.0}\n",
      "CustomTrainerCallback.on_evaluate - Momento: [2023-Apr-10 20:05:05] metrics={'eval_loss': 4.477019786834717, 'eval_bleu': 19.226881131697944, 'eval_runtime': 26.9887, 'eval_samples_per_second': 37.053, 'eval_steps_per_second': 1.556, 'epoch': 66.0}\n",
      "metrics['eval_loss']=4.477019786834717 metrics['eval_bleu']=19.226881131697944 self.best_validation_metric=19.621240676922703\n"
     ]
    },
    {
     "name": "stderr",
     "output_type": "stream",
     "text": [
      " 67%|██████▋   | 3484/5200 [6:54:24<3:01:31,  6.35s/it]"
     ]
    },
    {
     "name": "stdout",
     "output_type": "stream",
     "text": [
      "{'loss': 0.0108, 'learning_rate': 0.0017368421052631582, 'epoch': 67.0}\n"
     ]
    },
    {
     "name": "stderr",
     "output_type": "stream",
     "text": [
      "                                                       \n",
      " 67%|██████▋   | 3484/5200 [6:54:50<3:01:31,  6.35s/it]"
     ]
    },
    {
     "name": "stdout",
     "output_type": "stream",
     "text": [
      "Em compute_metrics: bleu=18.72816107397827\n",
      "Predicao[0]    :how many steps in mile/nGround_truth[0]:['how many fitbit steps equal a mile']\n",
      "{'eval_loss': 4.583605766296387, 'eval_bleu': 18.72816107397827, 'eval_runtime': 26.0966, 'eval_samples_per_second': 38.319, 'eval_steps_per_second': 1.609, 'epoch': 67.0}\n",
      "CustomTrainerCallback.on_evaluate - Momento: [2023-Apr-10 20:11:08] metrics={'eval_loss': 4.583605766296387, 'eval_bleu': 18.72816107397827, 'eval_runtime': 26.0966, 'eval_samples_per_second': 38.319, 'eval_steps_per_second': 1.609, 'epoch': 67.0}\n",
      "metrics['eval_loss']=4.583605766296387 metrics['eval_bleu']=18.72816107397827 self.best_validation_metric=19.621240676922703\n"
     ]
    },
    {
     "name": "stderr",
     "output_type": "stream",
     "text": [
      " 68%|██████▊   | 3536/5200 [7:00:29<2:56:27,  6.36s/it]"
     ]
    },
    {
     "name": "stdout",
     "output_type": "stream",
     "text": [
      "{'loss': 0.0085, 'learning_rate': 0.0016842105263157896, 'epoch': 68.0}\n"
     ]
    },
    {
     "name": "stderr",
     "output_type": "stream",
     "text": [
      "                                                       \n",
      " 68%|██████▊   | 3536/5200 [7:00:55<2:56:27,  6.36s/it]"
     ]
    },
    {
     "name": "stdout",
     "output_type": "stream",
     "text": [
      "Em compute_metrics: bleu=19.600083476578895\n",
      "Predicao[0]    :how many steps in mile/nGround_truth[0]:['how many fitbit steps equal a mile']\n",
      "{'eval_loss': 4.679941654205322, 'eval_bleu': 19.600083476578895, 'eval_runtime': 26.4409, 'eval_samples_per_second': 37.82, 'eval_steps_per_second': 1.588, 'epoch': 68.0}\n",
      "CustomTrainerCallback.on_evaluate - Momento: [2023-Apr-10 20:17:12] metrics={'eval_loss': 4.679941654205322, 'eval_bleu': 19.600083476578895, 'eval_runtime': 26.4409, 'eval_samples_per_second': 37.82, 'eval_steps_per_second': 1.588, 'epoch': 68.0}\n",
      "metrics['eval_loss']=4.679941654205322 metrics['eval_bleu']=19.600083476578895 self.best_validation_metric=19.621240676922703\n"
     ]
    },
    {
     "name": "stderr",
     "output_type": "stream",
     "text": [
      " 69%|██████▉   | 3588/5200 [7:06:32<2:53:56,  6.47s/it]"
     ]
    },
    {
     "name": "stdout",
     "output_type": "stream",
     "text": [
      "{'loss': 0.0086, 'learning_rate': 0.0016315789473684212, 'epoch': 69.0}\n"
     ]
    },
    {
     "name": "stderr",
     "output_type": "stream",
     "text": [
      "                                                       \n",
      " 69%|██████▉   | 3588/5200 [7:07:03<2:53:56,  6.47s/it]"
     ]
    },
    {
     "name": "stdout",
     "output_type": "stream",
     "text": [
      "Em compute_metrics: bleu=19.187327734846058\n",
      "Predicao[0]    :how many steps does an average person walk per mile/nGround_truth[0]:['how many fitbit steps equal a mile']\n",
      "{'eval_loss': 4.745055675506592, 'eval_bleu': 19.187327734846058, 'eval_runtime': 31.3097, 'eval_samples_per_second': 31.939, 'eval_steps_per_second': 1.341, 'epoch': 69.0}\n",
      "CustomTrainerCallback.on_evaluate - Momento: [2023-Apr-10 20:23:21] metrics={'eval_loss': 4.745055675506592, 'eval_bleu': 19.187327734846058, 'eval_runtime': 31.3097, 'eval_samples_per_second': 31.939, 'eval_steps_per_second': 1.341, 'epoch': 69.0}\n",
      "metrics['eval_loss']=4.745055675506592 metrics['eval_bleu']=19.187327734846058 self.best_validation_metric=19.621240676922703\n"
     ]
    },
    {
     "name": "stderr",
     "output_type": "stream",
     "text": [
      " 70%|███████   | 3640/5200 [7:12:55<2:56:14,  6.78s/it]"
     ]
    },
    {
     "name": "stdout",
     "output_type": "stream",
     "text": [
      "{'loss': 0.0084, 'learning_rate': 0.0015789473684210526, 'epoch': 70.0}\n"
     ]
    },
    {
     "name": "stderr",
     "output_type": "stream",
     "text": [
      "                                                       \n",
      " 70%|███████   | 3640/5200 [7:13:23<2:56:14,  6.78s/it]"
     ]
    },
    {
     "name": "stdout",
     "output_type": "stream",
     "text": [
      "Em compute_metrics: bleu=19.502916570558583\n",
      "Predicao[0]    :how many steps in mile/nGround_truth[0]:['how many fitbit steps equal a mile']\n",
      "{'eval_loss': 4.693234920501709, 'eval_bleu': 19.502916570558583, 'eval_runtime': 27.5735, 'eval_samples_per_second': 36.267, 'eval_steps_per_second': 1.523, 'epoch': 70.0}\n",
      "CustomTrainerCallback.on_evaluate - Momento: [2023-Apr-10 20:29:40] metrics={'eval_loss': 4.693234920501709, 'eval_bleu': 19.502916570558583, 'eval_runtime': 27.5735, 'eval_samples_per_second': 36.267, 'eval_steps_per_second': 1.523, 'epoch': 70.0}\n",
      "metrics['eval_loss']=4.693234920501709 metrics['eval_bleu']=19.502916570558583 self.best_validation_metric=19.621240676922703\n"
     ]
    },
    {
     "name": "stderr",
     "output_type": "stream",
     "text": [
      " 71%|███████   | 3692/5200 [7:19:01<2:38:39,  6.31s/it]"
     ]
    },
    {
     "name": "stdout",
     "output_type": "stream",
     "text": [
      "{'loss': 0.008, 'learning_rate': 0.0015263157894736842, 'epoch': 71.0}\n"
     ]
    },
    {
     "name": "stderr",
     "output_type": "stream",
     "text": [
      "                                                       \n",
      " 71%|███████   | 3692/5200 [7:19:27<2:38:39,  6.31s/it]"
     ]
    },
    {
     "name": "stdout",
     "output_type": "stream",
     "text": [
      "Em compute_metrics: bleu=19.243696638162625\n",
      "Predicao[0]    :how many steps in mile/nGround_truth[0]:['how many fitbit steps equal a mile']\n",
      "{'eval_loss': 4.715306282043457, 'eval_bleu': 19.243696638162625, 'eval_runtime': 26.2773, 'eval_samples_per_second': 38.056, 'eval_steps_per_second': 1.598, 'epoch': 71.0}\n",
      "CustomTrainerCallback.on_evaluate - Momento: [2023-Apr-10 20:35:45] metrics={'eval_loss': 4.715306282043457, 'eval_bleu': 19.243696638162625, 'eval_runtime': 26.2773, 'eval_samples_per_second': 38.056, 'eval_steps_per_second': 1.598, 'epoch': 71.0}\n",
      "metrics['eval_loss']=4.715306282043457 metrics['eval_bleu']=19.243696638162625 self.best_validation_metric=19.621240676922703\n"
     ]
    },
    {
     "name": "stderr",
     "output_type": "stream",
     "text": [
      " 72%|███████▏  | 3744/5200 [7:24:56<2:32:00,  6.26s/it]"
     ]
    },
    {
     "name": "stdout",
     "output_type": "stream",
     "text": [
      "{'loss': 0.0063, 'learning_rate': 0.0014736842105263156, 'epoch': 72.0}\n"
     ]
    },
    {
     "name": "stderr",
     "output_type": "stream",
     "text": [
      "                                                       \n",
      " 72%|███████▏  | 3744/5200 [7:25:22<2:32:00,  6.26s/it]"
     ]
    },
    {
     "name": "stdout",
     "output_type": "stream",
     "text": [
      "Em compute_metrics: bleu=19.028628887755286\n",
      "Predicao[0]    :how many steps in mile/nGround_truth[0]:['how many fitbit steps equal a mile']\n",
      "{'eval_loss': 4.70808744430542, 'eval_bleu': 19.028628887755286, 'eval_runtime': 25.7163, 'eval_samples_per_second': 38.886, 'eval_steps_per_second': 1.633, 'epoch': 72.0}\n",
      "CustomTrainerCallback.on_evaluate - Momento: [2023-Apr-10 20:41:39] metrics={'eval_loss': 4.70808744430542, 'eval_bleu': 19.028628887755286, 'eval_runtime': 25.7163, 'eval_samples_per_second': 38.886, 'eval_steps_per_second': 1.633, 'epoch': 72.0}\n",
      "metrics['eval_loss']=4.70808744430542 metrics['eval_bleu']=19.028628887755286 self.best_validation_metric=19.621240676922703\n"
     ]
    },
    {
     "name": "stderr",
     "output_type": "stream",
     "text": [
      " 73%|███████▎  | 3796/5200 [7:30:49<2:26:59,  6.28s/it]"
     ]
    },
    {
     "name": "stdout",
     "output_type": "stream",
     "text": [
      "{'loss': 0.0048, 'learning_rate': 0.0014210526315789475, 'epoch': 73.0}\n"
     ]
    },
    {
     "name": "stderr",
     "output_type": "stream",
     "text": [
      "                                                       \n",
      " 73%|███████▎  | 3796/5200 [7:31:15<2:26:59,  6.28s/it]"
     ]
    },
    {
     "name": "stdout",
     "output_type": "stream",
     "text": [
      "Em compute_metrics: bleu=19.015728774761307\n",
      "Predicao[0]    :how many steps does an average person walk per mile/nGround_truth[0]:['how many fitbit steps equal a mile']\n",
      "{'eval_loss': 4.875487327575684, 'eval_bleu': 19.015728774761307, 'eval_runtime': 26.1748, 'eval_samples_per_second': 38.205, 'eval_steps_per_second': 1.605, 'epoch': 73.0}\n",
      "CustomTrainerCallback.on_evaluate - Momento: [2023-Apr-10 20:47:33] metrics={'eval_loss': 4.875487327575684, 'eval_bleu': 19.015728774761307, 'eval_runtime': 26.1748, 'eval_samples_per_second': 38.205, 'eval_steps_per_second': 1.605, 'epoch': 73.0}\n",
      "metrics['eval_loss']=4.875487327575684 metrics['eval_bleu']=19.015728774761307 self.best_validation_metric=19.621240676922703\n"
     ]
    },
    {
     "name": "stderr",
     "output_type": "stream",
     "text": [
      " 74%|███████▍  | 3848/5200 [7:36:43<2:20:51,  6.25s/it]"
     ]
    },
    {
     "name": "stdout",
     "output_type": "stream",
     "text": [
      "{'loss': 0.0042, 'learning_rate': 0.001368421052631579, 'epoch': 74.0}\n"
     ]
    },
    {
     "name": "stderr",
     "output_type": "stream",
     "text": [
      "                                                       \n",
      " 74%|███████▍  | 3848/5200 [7:37:08<2:20:51,  6.25s/it]"
     ]
    },
    {
     "name": "stdout",
     "output_type": "stream",
     "text": [
      "Em compute_metrics: bleu=19.096547444983344\n",
      "Predicao[0]    :how many steps does milen walk in a day/nGround_truth[0]:['how many fitbit steps equal a mile']\n",
      "{'eval_loss': 5.038928508758545, 'eval_bleu': 19.096547444983344, 'eval_runtime': 25.676, 'eval_samples_per_second': 38.947, 'eval_steps_per_second': 1.636, 'epoch': 74.0}\n",
      "CustomTrainerCallback.on_evaluate - Momento: [2023-Apr-10 20:53:26] metrics={'eval_loss': 5.038928508758545, 'eval_bleu': 19.096547444983344, 'eval_runtime': 25.676, 'eval_samples_per_second': 38.947, 'eval_steps_per_second': 1.636, 'epoch': 74.0}\n",
      "metrics['eval_loss']=5.038928508758545 metrics['eval_bleu']=19.096547444983344 self.best_validation_metric=19.621240676922703\n"
     ]
    },
    {
     "name": "stderr",
     "output_type": "stream",
     "text": [
      " 75%|███████▌  | 3900/5200 [7:42:36<2:16:16,  6.29s/it]"
     ]
    },
    {
     "name": "stdout",
     "output_type": "stream",
     "text": [
      "{'loss': 0.0047, 'learning_rate': 0.0013157894736842105, 'epoch': 75.0}\n"
     ]
    },
    {
     "name": "stderr",
     "output_type": "stream",
     "text": [
      "                                                       \n",
      " 75%|███████▌  | 3900/5200 [7:43:01<2:16:16,  6.29s/it]"
     ]
    },
    {
     "name": "stdout",
     "output_type": "stream",
     "text": [
      "Em compute_metrics: bleu=18.671560554596947\n",
      "Predicao[0]    :how many steps does milen walk in a day/nGround_truth[0]:['how many fitbit steps equal a mile']\n",
      "{'eval_loss': 4.904215335845947, 'eval_bleu': 18.671560554596947, 'eval_runtime': 25.7415, 'eval_samples_per_second': 38.848, 'eval_steps_per_second': 1.632, 'epoch': 75.0}\n",
      "CustomTrainerCallback.on_evaluate - Momento: [2023-Apr-10 20:59:19] metrics={'eval_loss': 4.904215335845947, 'eval_bleu': 18.671560554596947, 'eval_runtime': 25.7415, 'eval_samples_per_second': 38.848, 'eval_steps_per_second': 1.632, 'epoch': 75.0}\n",
      "metrics['eval_loss']=4.904215335845947 metrics['eval_bleu']=18.671560554596947 self.best_validation_metric=19.621240676922703\n"
     ]
    },
    {
     "name": "stderr",
     "output_type": "stream",
     "text": [
      " 76%|███████▌  | 3952/5200 [7:48:33<2:12:59,  6.39s/it]"
     ]
    },
    {
     "name": "stdout",
     "output_type": "stream",
     "text": [
      "{'loss': 0.0044, 'learning_rate': 0.0012631578947368421, 'epoch': 76.0}\n"
     ]
    },
    {
     "name": "stderr",
     "output_type": "stream",
     "text": [
      "                                                       \n",
      " 76%|███████▌  | 3952/5200 [7:49:00<2:12:59,  6.39s/it]"
     ]
    },
    {
     "name": "stdout",
     "output_type": "stream",
     "text": [
      "Em compute_metrics: bleu=19.545295899324433\n",
      "Predicao[0]    :how many steps in mile/nGround_truth[0]:['how many fitbit steps equal a mile']\n",
      "{'eval_loss': 4.93977689743042, 'eval_bleu': 19.545295899324433, 'eval_runtime': 26.2753, 'eval_samples_per_second': 38.059, 'eval_steps_per_second': 1.598, 'epoch': 76.0}\n",
      "CustomTrainerCallback.on_evaluate - Momento: [2023-Apr-10 21:05:17] metrics={'eval_loss': 4.93977689743042, 'eval_bleu': 19.545295899324433, 'eval_runtime': 26.2753, 'eval_samples_per_second': 38.059, 'eval_steps_per_second': 1.598, 'epoch': 76.0}\n",
      "metrics['eval_loss']=4.93977689743042 metrics['eval_bleu']=19.545295899324433 self.best_validation_metric=19.621240676922703\n"
     ]
    },
    {
     "name": "stderr",
     "output_type": "stream",
     "text": [
      " 77%|███████▋  | 4004/5200 [7:54:41<2:10:55,  6.57s/it]"
     ]
    },
    {
     "name": "stdout",
     "output_type": "stream",
     "text": [
      "{'loss': 0.0045, 'learning_rate': 0.0012105263157894737, 'epoch': 77.0}\n"
     ]
    },
    {
     "name": "stderr",
     "output_type": "stream",
     "text": [
      "                                                       \n",
      " 77%|███████▋  | 4004/5200 [7:55:08<2:10:55,  6.57s/it]"
     ]
    },
    {
     "name": "stdout",
     "output_type": "stream",
     "text": [
      "Em compute_metrics: bleu=19.444249136817607\n",
      "Predicao[0]    :how many steps does an average person walk per mile/nGround_truth[0]:['how many fitbit steps equal a mile']\n",
      "{'eval_loss': 4.981562614440918, 'eval_bleu': 19.444249136817607, 'eval_runtime': 26.5219, 'eval_samples_per_second': 37.705, 'eval_steps_per_second': 1.584, 'epoch': 77.0}\n",
      "CustomTrainerCallback.on_evaluate - Momento: [2023-Apr-10 21:11:25] metrics={'eval_loss': 4.981562614440918, 'eval_bleu': 19.444249136817607, 'eval_runtime': 26.5219, 'eval_samples_per_second': 37.705, 'eval_steps_per_second': 1.584, 'epoch': 77.0}\n",
      "metrics['eval_loss']=4.981562614440918 metrics['eval_bleu']=19.444249136817607 self.best_validation_metric=19.621240676922703\n"
     ]
    },
    {
     "name": "stderr",
     "output_type": "stream",
     "text": [
      " 78%|███████▊  | 4056/5200 [8:00:45<2:02:35,  6.43s/it]"
     ]
    },
    {
     "name": "stdout",
     "output_type": "stream",
     "text": [
      "{'loss': 0.0041, 'learning_rate': 0.0011578947368421054, 'epoch': 78.0}\n"
     ]
    },
    {
     "name": "stderr",
     "output_type": "stream",
     "text": [
      "                                                       \n",
      " 78%|███████▊  | 4056/5200 [8:01:11<2:02:35,  6.43s/it]"
     ]
    },
    {
     "name": "stdout",
     "output_type": "stream",
     "text": [
      "Em compute_metrics: bleu=19.16323756044878\n",
      "Predicao[0]    :how many steps does an average person walk per mile/nGround_truth[0]:['how many fitbit steps equal a mile']\n",
      "{'eval_loss': 4.953690528869629, 'eval_bleu': 19.16323756044878, 'eval_runtime': 26.3003, 'eval_samples_per_second': 38.022, 'eval_steps_per_second': 1.597, 'epoch': 78.0}\n",
      "CustomTrainerCallback.on_evaluate - Momento: [2023-Apr-10 21:17:29] metrics={'eval_loss': 4.953690528869629, 'eval_bleu': 19.16323756044878, 'eval_runtime': 26.3003, 'eval_samples_per_second': 38.022, 'eval_steps_per_second': 1.597, 'epoch': 78.0}\n",
      "metrics['eval_loss']=4.953690528869629 metrics['eval_bleu']=19.16323756044878 self.best_validation_metric=19.621240676922703\n"
     ]
    },
    {
     "name": "stderr",
     "output_type": "stream",
     "text": [
      " 79%|███████▉  | 4108/5200 [8:06:48<1:55:08,  6.33s/it]"
     ]
    },
    {
     "name": "stdout",
     "output_type": "stream",
     "text": [
      "{'loss': 0.0039, 'learning_rate': 0.0011052631578947368, 'epoch': 79.0}\n"
     ]
    },
    {
     "name": "stderr",
     "output_type": "stream",
     "text": [
      "                                                       \n",
      " 79%|███████▉  | 4108/5200 [8:07:14<1:55:08,  6.33s/it]"
     ]
    },
    {
     "name": "stdout",
     "output_type": "stream",
     "text": [
      "Em compute_metrics: bleu=18.644860923286437\n",
      "Predicao[0]    :how many steps does an average person walk per mile/nGround_truth[0]:['how many fitbit steps equal a mile']\n",
      "{'eval_loss': 5.074477195739746, 'eval_bleu': 18.644860923286437, 'eval_runtime': 25.9077, 'eval_samples_per_second': 38.599, 'eval_steps_per_second': 1.621, 'epoch': 79.0}\n",
      "CustomTrainerCallback.on_evaluate - Momento: [2023-Apr-10 21:23:32] metrics={'eval_loss': 5.074477195739746, 'eval_bleu': 18.644860923286437, 'eval_runtime': 25.9077, 'eval_samples_per_second': 38.599, 'eval_steps_per_second': 1.621, 'epoch': 79.0}\n",
      "metrics['eval_loss']=5.074477195739746 metrics['eval_bleu']=18.644860923286437 self.best_validation_metric=19.621240676922703\n"
     ]
    },
    {
     "name": "stderr",
     "output_type": "stream",
     "text": [
      " 80%|████████  | 4160/5200 [8:12:53<1:51:03,  6.41s/it]"
     ]
    },
    {
     "name": "stdout",
     "output_type": "stream",
     "text": [
      "{'loss': 0.0045, 'learning_rate': 0.0010526315789473684, 'epoch': 80.0}\n"
     ]
    },
    {
     "name": "stderr",
     "output_type": "stream",
     "text": [
      "                                                       \n",
      " 80%|████████  | 4160/5200 [8:13:20<1:51:03,  6.41s/it]"
     ]
    },
    {
     "name": "stdout",
     "output_type": "stream",
     "text": [
      "Em compute_metrics: bleu=18.664157217333063\n",
      "Predicao[0]    :how many steps does an average person walk per mile/nGround_truth[0]:['how many fitbit steps equal a mile']\n",
      "{'eval_loss': 4.85128927230835, 'eval_bleu': 18.664157217333063, 'eval_runtime': 26.6455, 'eval_samples_per_second': 37.53, 'eval_steps_per_second': 1.576, 'epoch': 80.0}\n",
      "CustomTrainerCallback.on_evaluate - Momento: [2023-Apr-10 21:29:38] metrics={'eval_loss': 4.85128927230835, 'eval_bleu': 18.664157217333063, 'eval_runtime': 26.6455, 'eval_samples_per_second': 37.53, 'eval_steps_per_second': 1.576, 'epoch': 80.0}\n",
      "metrics['eval_loss']=4.85128927230835 metrics['eval_bleu']=18.664157217333063 self.best_validation_metric=19.621240676922703\n"
     ]
    },
    {
     "name": "stderr",
     "output_type": "stream",
     "text": [
      " 81%|████████  | 4212/5200 [8:18:53<1:41:48,  6.18s/it]"
     ]
    },
    {
     "name": "stdout",
     "output_type": "stream",
     "text": [
      "{'loss': 0.0038, 'learning_rate': 0.001, 'epoch': 81.0}\n"
     ]
    },
    {
     "name": "stderr",
     "output_type": "stream",
     "text": [
      "                                                       \n",
      " 81%|████████  | 4212/5200 [8:19:19<1:41:48,  6.18s/it]"
     ]
    },
    {
     "name": "stdout",
     "output_type": "stream",
     "text": [
      "Em compute_metrics: bleu=19.15209210798635\n",
      "Predicao[0]    :how many steps does an average person walk per mile/nGround_truth[0]:['how many fitbit steps equal a mile']\n",
      "{'eval_loss': 4.980648517608643, 'eval_bleu': 19.15209210798635, 'eval_runtime': 25.6743, 'eval_samples_per_second': 38.949, 'eval_steps_per_second': 1.636, 'epoch': 81.0}\n",
      "CustomTrainerCallback.on_evaluate - Momento: [2023-Apr-10 21:35:36] metrics={'eval_loss': 4.980648517608643, 'eval_bleu': 19.15209210798635, 'eval_runtime': 25.6743, 'eval_samples_per_second': 38.949, 'eval_steps_per_second': 1.636, 'epoch': 81.0}\n",
      "metrics['eval_loss']=4.980648517608643 metrics['eval_bleu']=19.15209210798635 self.best_validation_metric=19.621240676922703\n"
     ]
    },
    {
     "name": "stderr",
     "output_type": "stream",
     "text": [
      " 82%|████████▏ | 4264/5200 [8:24:50<1:36:35,  6.19s/it]"
     ]
    },
    {
     "name": "stdout",
     "output_type": "stream",
     "text": [
      "{'loss': 0.003, 'learning_rate': 0.0009473684210526316, 'epoch': 82.0}\n"
     ]
    },
    {
     "name": "stderr",
     "output_type": "stream",
     "text": [
      "                                                       \n",
      " 82%|████████▏ | 4264/5200 [8:25:16<1:36:35,  6.19s/it]"
     ]
    },
    {
     "name": "stdout",
     "output_type": "stream",
     "text": [
      "Em compute_metrics: bleu=19.90359896331168\n",
      "Predicao[0]    :how many steps in mile/nGround_truth[0]:['how many fitbit steps equal a mile']\n",
      "{'eval_loss': 4.9962615966796875, 'eval_bleu': 19.90359896331168, 'eval_runtime': 26.4485, 'eval_samples_per_second': 37.809, 'eval_steps_per_second': 1.588, 'epoch': 82.0}\n",
      "CustomTrainerCallback.on_evaluate - Momento: [2023-Apr-10 21:41:34] metrics={'eval_loss': 4.9962615966796875, 'eval_bleu': 19.90359896331168, 'eval_runtime': 26.4485, 'eval_samples_per_second': 37.809, 'eval_steps_per_second': 1.588, 'epoch': 82.0}\n",
      "metrics['eval_loss']=4.9962615966796875 metrics['eval_bleu']=19.90359896331168 self.best_validation_metric=19.621240676922703\n"
     ]
    },
    {
     "name": "stderr",
     "output_type": "stream",
     "text": [
      " 83%|████████▎ | 4316/5200 [8:30:54<1:35:55,  6.51s/it]"
     ]
    },
    {
     "name": "stdout",
     "output_type": "stream",
     "text": [
      "{'loss': 0.0028, 'learning_rate': 0.0008947368421052632, 'epoch': 83.0}\n"
     ]
    },
    {
     "name": "stderr",
     "output_type": "stream",
     "text": [
      "                                                       \n",
      " 83%|████████▎ | 4316/5200 [8:31:21<1:35:55,  6.51s/it]"
     ]
    },
    {
     "name": "stdout",
     "output_type": "stream",
     "text": [
      "Em compute_metrics: bleu=19.161783811863245\n",
      "Predicao[0]    :how many steps does an average person walk per mile/nGround_truth[0]:['how many fitbit steps equal a mile']\n",
      "{'eval_loss': 5.020336151123047, 'eval_bleu': 19.161783811863245, 'eval_runtime': 27.1311, 'eval_samples_per_second': 36.858, 'eval_steps_per_second': 1.548, 'epoch': 83.0}\n",
      "CustomTrainerCallback.on_evaluate - Momento: [2023-Apr-10 21:47:38] metrics={'eval_loss': 5.020336151123047, 'eval_bleu': 19.161783811863245, 'eval_runtime': 27.1311, 'eval_samples_per_second': 36.858, 'eval_steps_per_second': 1.548, 'epoch': 83.0}\n",
      "metrics['eval_loss']=5.020336151123047 metrics['eval_bleu']=19.161783811863245 self.best_validation_metric=19.90359896331168\n"
     ]
    },
    {
     "name": "stderr",
     "output_type": "stream",
     "text": [
      " 84%|████████▍ | 4368/5200 [8:37:02<1:29:03,  6.42s/it]"
     ]
    },
    {
     "name": "stdout",
     "output_type": "stream",
     "text": [
      "{'loss': 0.0029, 'learning_rate': 0.0008421052631578948, 'epoch': 84.0}\n"
     ]
    },
    {
     "name": "stderr",
     "output_type": "stream",
     "text": [
      "                                                       \n",
      " 84%|████████▍ | 4368/5200 [8:37:30<1:29:03,  6.42s/it]"
     ]
    },
    {
     "name": "stdout",
     "output_type": "stream",
     "text": [
      "Em compute_metrics: bleu=19.375676747831957\n",
      "Predicao[0]    :how many steps in mile/nGround_truth[0]:['how many fitbit steps equal a mile']\n",
      "{'eval_loss': 5.106708526611328, 'eval_bleu': 19.375676747831957, 'eval_runtime': 27.5003, 'eval_samples_per_second': 36.363, 'eval_steps_per_second': 1.527, 'epoch': 84.0}\n",
      "CustomTrainerCallback.on_evaluate - Momento: [2023-Apr-10 21:53:47] metrics={'eval_loss': 5.106708526611328, 'eval_bleu': 19.375676747831957, 'eval_runtime': 27.5003, 'eval_samples_per_second': 36.363, 'eval_steps_per_second': 1.527, 'epoch': 84.0}\n",
      "metrics['eval_loss']=5.106708526611328 metrics['eval_bleu']=19.375676747831957 self.best_validation_metric=19.90359896331168\n"
     ]
    },
    {
     "name": "stderr",
     "output_type": "stream",
     "text": [
      " 85%|████████▌ | 4420/5200 [8:43:12<1:23:49,  6.45s/it]"
     ]
    },
    {
     "name": "stdout",
     "output_type": "stream",
     "text": [
      "{'loss': 0.0028, 'learning_rate': 0.0007894736842105263, 'epoch': 85.0}\n"
     ]
    },
    {
     "name": "stderr",
     "output_type": "stream",
     "text": [
      "                                                       \n",
      " 85%|████████▌ | 4420/5200 [8:43:38<1:23:49,  6.45s/it]"
     ]
    },
    {
     "name": "stdout",
     "output_type": "stream",
     "text": [
      "Em compute_metrics: bleu=19.564101006411178\n",
      "Predicao[0]    :how many steps in mile/nGround_truth[0]:['how many fitbit steps equal a mile']\n",
      "{'eval_loss': 5.194831371307373, 'eval_bleu': 19.564101006411178, 'eval_runtime': 26.609, 'eval_samples_per_second': 37.581, 'eval_steps_per_second': 1.578, 'epoch': 85.0}\n",
      "CustomTrainerCallback.on_evaluate - Momento: [2023-Apr-10 21:59:56] metrics={'eval_loss': 5.194831371307373, 'eval_bleu': 19.564101006411178, 'eval_runtime': 26.609, 'eval_samples_per_second': 37.581, 'eval_steps_per_second': 1.578, 'epoch': 85.0}\n",
      "metrics['eval_loss']=5.194831371307373 metrics['eval_bleu']=19.564101006411178 self.best_validation_metric=19.90359896331168\n"
     ]
    },
    {
     "name": "stderr",
     "output_type": "stream",
     "text": [
      " 86%|████████▌ | 4472/5200 [8:49:23<1:19:20,  6.54s/it]"
     ]
    },
    {
     "name": "stdout",
     "output_type": "stream",
     "text": [
      "{'loss': 0.0024, 'learning_rate': 0.0007368421052631578, 'epoch': 86.0}\n"
     ]
    },
    {
     "name": "stderr",
     "output_type": "stream",
     "text": [
      "                                                       \n",
      " 86%|████████▌ | 4472/5200 [8:49:51<1:19:20,  6.54s/it]"
     ]
    },
    {
     "name": "stdout",
     "output_type": "stream",
     "text": [
      "Em compute_metrics: bleu=18.923011169714197\n",
      "Predicao[0]    :how many steps in mile/nGround_truth[0]:['how many fitbit steps equal a mile']\n",
      "{'eval_loss': 5.2323760986328125, 'eval_bleu': 18.923011169714197, 'eval_runtime': 27.8528, 'eval_samples_per_second': 35.903, 'eval_steps_per_second': 1.508, 'epoch': 86.0}\n",
      "CustomTrainerCallback.on_evaluate - Momento: [2023-Apr-10 22:06:08] metrics={'eval_loss': 5.2323760986328125, 'eval_bleu': 18.923011169714197, 'eval_runtime': 27.8528, 'eval_samples_per_second': 35.903, 'eval_steps_per_second': 1.508, 'epoch': 86.0}\n",
      "metrics['eval_loss']=5.2323760986328125 metrics['eval_bleu']=18.923011169714197 self.best_validation_metric=19.90359896331168\n"
     ]
    },
    {
     "name": "stderr",
     "output_type": "stream",
     "text": [
      " 87%|████████▋ | 4524/5200 [8:55:41<1:13:44,  6.55s/it]"
     ]
    },
    {
     "name": "stdout",
     "output_type": "stream",
     "text": [
      "{'loss': 0.0021, 'learning_rate': 0.0006842105263157895, 'epoch': 87.0}\n"
     ]
    },
    {
     "name": "stderr",
     "output_type": "stream",
     "text": [
      "                                                       \n",
      " 87%|████████▋ | 4524/5200 [8:56:09<1:13:44,  6.55s/it]"
     ]
    },
    {
     "name": "stdout",
     "output_type": "stream",
     "text": [
      "Em compute_metrics: bleu=19.119939475610945\n",
      "Predicao[0]    :how many steps in mile/nGround_truth[0]:['how many fitbit steps equal a mile']\n",
      "{'eval_loss': 5.217319965362549, 'eval_bleu': 19.119939475610945, 'eval_runtime': 27.3328, 'eval_samples_per_second': 36.586, 'eval_steps_per_second': 1.537, 'epoch': 87.0}\n",
      "CustomTrainerCallback.on_evaluate - Momento: [2023-Apr-10 22:12:26] metrics={'eval_loss': 5.217319965362549, 'eval_bleu': 19.119939475610945, 'eval_runtime': 27.3328, 'eval_samples_per_second': 36.586, 'eval_steps_per_second': 1.537, 'epoch': 87.0}\n",
      "metrics['eval_loss']=5.217319965362549 metrics['eval_bleu']=19.119939475610945 self.best_validation_metric=19.90359896331168\n"
     ]
    },
    {
     "name": "stderr",
     "output_type": "stream",
     "text": [
      " 88%|████████▊ | 4576/5200 [9:03:17<2:19:43, 13.43s/it]"
     ]
    },
    {
     "name": "stdout",
     "output_type": "stream",
     "text": [
      "{'loss': 0.0018, 'learning_rate': 0.0006315789473684211, 'epoch': 88.0}\n"
     ]
    },
    {
     "name": "stderr",
     "output_type": "stream",
     "text": [
      "                                                       \n",
      " 88%|████████▊ | 4576/5200 [9:04:18<2:19:43, 13.43s/it]"
     ]
    },
    {
     "name": "stdout",
     "output_type": "stream",
     "text": [
      "Em compute_metrics: bleu=19.17010464283909\n",
      "Predicao[0]    :how many steps in mile/nGround_truth[0]:['how many fitbit steps equal a mile']\n",
      "{'eval_loss': 5.253781318664551, 'eval_bleu': 19.17010464283909, 'eval_runtime': 60.5834, 'eval_samples_per_second': 16.506, 'eval_steps_per_second': 0.693, 'epoch': 88.0}\n",
      "CustomTrainerCallback.on_evaluate - Momento: [2023-Apr-10 22:20:36] metrics={'eval_loss': 5.253781318664551, 'eval_bleu': 19.17010464283909, 'eval_runtime': 60.5834, 'eval_samples_per_second': 16.506, 'eval_steps_per_second': 0.693, 'epoch': 88.0}\n",
      "metrics['eval_loss']=5.253781318664551 metrics['eval_bleu']=19.17010464283909 self.best_validation_metric=19.90359896331168\n"
     ]
    },
    {
     "name": "stderr",
     "output_type": "stream",
     "text": [
      " 89%|████████▉ | 4628/5200 [9:10:38<1:00:15,  6.32s/it]"
     ]
    },
    {
     "name": "stdout",
     "output_type": "stream",
     "text": [
      "{'loss': 0.0019, 'learning_rate': 0.0005789473684210527, 'epoch': 89.0}\n"
     ]
    },
    {
     "name": "stderr",
     "output_type": "stream",
     "text": [
      "                                                       \n",
      " 89%|████████▉ | 4628/5200 [9:11:05<1:00:15,  6.32s/it]"
     ]
    },
    {
     "name": "stdout",
     "output_type": "stream",
     "text": [
      "Em compute_metrics: bleu=18.97828235397813\n",
      "Predicao[0]    :how many steps in mile/nGround_truth[0]:['how many fitbit steps equal a mile']\n",
      "{'eval_loss': 5.233913421630859, 'eval_bleu': 18.97828235397813, 'eval_runtime': 26.4429, 'eval_samples_per_second': 37.817, 'eval_steps_per_second': 1.588, 'epoch': 89.0}\n",
      "CustomTrainerCallback.on_evaluate - Momento: [2023-Apr-10 22:27:22] metrics={'eval_loss': 5.233913421630859, 'eval_bleu': 18.97828235397813, 'eval_runtime': 26.4429, 'eval_samples_per_second': 37.817, 'eval_steps_per_second': 1.588, 'epoch': 89.0}\n",
      "metrics['eval_loss']=5.233913421630859 metrics['eval_bleu']=18.97828235397813 self.best_validation_metric=19.90359896331168\n"
     ]
    },
    {
     "name": "stderr",
     "output_type": "stream",
     "text": [
      " 90%|█████████ | 4680/5200 [9:19:26<56:16,  6.49s/it]  "
     ]
    },
    {
     "name": "stdout",
     "output_type": "stream",
     "text": [
      "{'loss': 0.002, 'learning_rate': 0.0005263157894736842, 'epoch': 90.0}\n"
     ]
    },
    {
     "name": "stderr",
     "output_type": "stream",
     "text": [
      "                                                     \n",
      " 90%|█████████ | 4680/5200 [9:19:52<56:16,  6.49s/it]"
     ]
    },
    {
     "name": "stdout",
     "output_type": "stream",
     "text": [
      "Em compute_metrics: bleu=19.693020846399264\n",
      "Predicao[0]    :how many steps does an average person walk per mile/nGround_truth[0]:['how many fitbit steps equal a mile']\n",
      "{'eval_loss': 5.249114513397217, 'eval_bleu': 19.693020846399264, 'eval_runtime': 26.4563, 'eval_samples_per_second': 37.798, 'eval_steps_per_second': 1.588, 'epoch': 90.0}\n",
      "CustomTrainerCallback.on_evaluate - Momento: [2023-Apr-10 22:36:10] metrics={'eval_loss': 5.249114513397217, 'eval_bleu': 19.693020846399264, 'eval_runtime': 26.4563, 'eval_samples_per_second': 37.798, 'eval_steps_per_second': 1.588, 'epoch': 90.0}\n",
      "metrics['eval_loss']=5.249114513397217 metrics['eval_bleu']=19.693020846399264 self.best_validation_metric=19.90359896331168\n"
     ]
    },
    {
     "name": "stderr",
     "output_type": "stream",
     "text": [
      " 91%|█████████ | 4732/5200 [9:28:30<1:36:10, 12.33s/it]"
     ]
    },
    {
     "name": "stdout",
     "output_type": "stream",
     "text": [
      "{'loss': 0.0017, 'learning_rate': 0.0004736842105263158, 'epoch': 91.0}\n"
     ]
    },
    {
     "name": "stderr",
     "output_type": "stream",
     "text": [
      "                                                       \n",
      " 91%|█████████ | 4732/5200 [9:29:28<1:36:10, 12.33s/it]"
     ]
    },
    {
     "name": "stdout",
     "output_type": "stream",
     "text": [
      "Em compute_metrics: bleu=19.491532430405726\n",
      "Predicao[0]    :how many steps does an average person walk per mile/nGround_truth[0]:['how many fitbit steps equal a mile']\n",
      "{'eval_loss': 5.25490665435791, 'eval_bleu': 19.491532430405726, 'eval_runtime': 57.4797, 'eval_samples_per_second': 17.397, 'eval_steps_per_second': 0.731, 'epoch': 91.0}\n",
      "CustomTrainerCallback.on_evaluate - Momento: [2023-Apr-10 22:45:45] metrics={'eval_loss': 5.25490665435791, 'eval_bleu': 19.491532430405726, 'eval_runtime': 57.4797, 'eval_samples_per_second': 17.397, 'eval_steps_per_second': 0.731, 'epoch': 91.0}\n",
      "metrics['eval_loss']=5.25490665435791 metrics['eval_bleu']=19.491532430405726 self.best_validation_metric=19.90359896331168\n"
     ]
    },
    {
     "name": "stderr",
     "output_type": "stream",
     "text": [
      " 92%|█████████▏| 4784/5200 [9:39:54<1:20:38, 11.63s/it]"
     ]
    },
    {
     "name": "stdout",
     "output_type": "stream",
     "text": [
      "{'loss': 0.0015, 'learning_rate': 0.0004210526315789474, 'epoch': 92.0}\n"
     ]
    },
    {
     "name": "stderr",
     "output_type": "stream",
     "text": [
      "                                                       \n",
      " 92%|█████████▏| 4784/5200 [9:40:50<1:20:38, 11.63s/it]"
     ]
    },
    {
     "name": "stdout",
     "output_type": "stream",
     "text": [
      "Em compute_metrics: bleu=19.510711317222114\n",
      "Predicao[0]    :how many steps does an average person walk per mile/nGround_truth[0]:['how many fitbit steps equal a mile']\n",
      "{'eval_loss': 5.291370868682861, 'eval_bleu': 19.510711317222114, 'eval_runtime': 55.9247, 'eval_samples_per_second': 17.881, 'eval_steps_per_second': 0.751, 'epoch': 92.0}\n",
      "CustomTrainerCallback.on_evaluate - Momento: [2023-Apr-10 22:57:08] metrics={'eval_loss': 5.291370868682861, 'eval_bleu': 19.510711317222114, 'eval_runtime': 55.9247, 'eval_samples_per_second': 17.881, 'eval_steps_per_second': 0.751, 'epoch': 92.0}\n",
      "metrics['eval_loss']=5.291370868682861 metrics['eval_bleu']=19.510711317222114 self.best_validation_metric=19.90359896331168\n"
     ]
    },
    {
     "name": "stderr",
     "output_type": "stream",
     "text": [
      " 93%|█████████▎| 4836/5200 [9:51:21<1:10:42, 11.65s/it]"
     ]
    },
    {
     "name": "stdout",
     "output_type": "stream",
     "text": [
      "{'loss': 0.0015, 'learning_rate': 0.0003684210526315789, 'epoch': 93.0}\n"
     ]
    },
    {
     "name": "stderr",
     "output_type": "stream",
     "text": [
      "                                                       \n",
      " 93%|█████████▎| 4836/5200 [9:52:18<1:10:42, 11.65s/it]"
     ]
    },
    {
     "name": "stdout",
     "output_type": "stream",
     "text": [
      "Em compute_metrics: bleu=19.62706987190187\n",
      "Predicao[0]    :how many steps does an average person walk per mile/nGround_truth[0]:['how many fitbit steps equal a mile']\n",
      "{'eval_loss': 5.299790859222412, 'eval_bleu': 19.62706987190187, 'eval_runtime': 57.2618, 'eval_samples_per_second': 17.464, 'eval_steps_per_second': 0.733, 'epoch': 93.0}\n",
      "CustomTrainerCallback.on_evaluate - Momento: [2023-Apr-10 23:08:36] metrics={'eval_loss': 5.299790859222412, 'eval_bleu': 19.62706987190187, 'eval_runtime': 57.2618, 'eval_samples_per_second': 17.464, 'eval_steps_per_second': 0.733, 'epoch': 93.0}\n",
      "metrics['eval_loss']=5.299790859222412 metrics['eval_bleu']=19.62706987190187 self.best_validation_metric=19.90359896331168\n"
     ]
    },
    {
     "name": "stderr",
     "output_type": "stream",
     "text": [
      " 94%|█████████▍| 4888/5200 [10:02:53<1:04:08, 12.33s/it]"
     ]
    },
    {
     "name": "stdout",
     "output_type": "stream",
     "text": [
      "{'loss': 0.0015, 'learning_rate': 0.00031578947368421053, 'epoch': 94.0}\n"
     ]
    },
    {
     "name": "stderr",
     "output_type": "stream",
     "text": [
      "                                                        \n",
      " 94%|█████████▍| 4888/5200 [10:03:51<1:04:08, 12.33s/it]"
     ]
    },
    {
     "name": "stdout",
     "output_type": "stream",
     "text": [
      "Em compute_metrics: bleu=20.092415224677104\n",
      "Predicao[0]    :how many steps does an average person walk per mile/nGround_truth[0]:['how many fitbit steps equal a mile']\n",
      "{'eval_loss': 5.336637020111084, 'eval_bleu': 20.092415224677104, 'eval_runtime': 57.1456, 'eval_samples_per_second': 17.499, 'eval_steps_per_second': 0.735, 'epoch': 94.0}\n",
      "CustomTrainerCallback.on_evaluate - Momento: [2023-Apr-10 23:20:08] metrics={'eval_loss': 5.336637020111084, 'eval_bleu': 20.092415224677104, 'eval_runtime': 57.1456, 'eval_samples_per_second': 17.499, 'eval_steps_per_second': 0.735, 'epoch': 94.0}\n",
      "metrics['eval_loss']=5.336637020111084 metrics['eval_bleu']=20.092415224677104 self.best_validation_metric=19.90359896331168\n"
     ]
    },
    {
     "name": "stderr",
     "output_type": "stream",
     "text": [
      " 95%|█████████▌| 4940/5200 [10:14:31<54:03, 12.47s/it]  "
     ]
    },
    {
     "name": "stdout",
     "output_type": "stream",
     "text": [
      "{'loss': 0.0016, 'learning_rate': 0.0002631578947368421, 'epoch': 95.0}\n"
     ]
    },
    {
     "name": "stderr",
     "output_type": "stream",
     "text": [
      "                                                      \n",
      " 95%|█████████▌| 4940/5200 [10:15:27<54:03, 12.47s/it]"
     ]
    },
    {
     "name": "stdout",
     "output_type": "stream",
     "text": [
      "Em compute_metrics: bleu=19.73050314581959\n",
      "Predicao[0]    :how many steps does an average person walk per mile/nGround_truth[0]:['how many fitbit steps equal a mile']\n",
      "{'eval_loss': 5.3230719566345215, 'eval_bleu': 19.73050314581959, 'eval_runtime': 56.5113, 'eval_samples_per_second': 17.696, 'eval_steps_per_second': 0.743, 'epoch': 95.0}\n",
      "CustomTrainerCallback.on_evaluate - Momento: [2023-Apr-10 23:31:45] metrics={'eval_loss': 5.3230719566345215, 'eval_bleu': 19.73050314581959, 'eval_runtime': 56.5113, 'eval_samples_per_second': 17.696, 'eval_steps_per_second': 0.743, 'epoch': 95.0}\n",
      "metrics['eval_loss']=5.3230719566345215 metrics['eval_bleu']=19.73050314581959 self.best_validation_metric=20.092415224677104\n"
     ]
    },
    {
     "name": "stderr",
     "output_type": "stream",
     "text": [
      " 96%|█████████▌| 4992/5200 [10:25:57<40:07, 11.58s/it]  "
     ]
    },
    {
     "name": "stdout",
     "output_type": "stream",
     "text": [
      "{'loss': 0.0015, 'learning_rate': 0.0002105263157894737, 'epoch': 96.0}\n"
     ]
    },
    {
     "name": "stderr",
     "output_type": "stream",
     "text": [
      "                                                      \n",
      " 96%|█████████▌| 4992/5200 [10:26:52<40:07, 11.58s/it]"
     ]
    },
    {
     "name": "stdout",
     "output_type": "stream",
     "text": [
      "Em compute_metrics: bleu=19.517013923650612\n",
      "Predicao[0]    :how many steps does an average person walk per mile/nGround_truth[0]:['how many fitbit steps equal a mile']\n",
      "{'eval_loss': 5.314682960510254, 'eval_bleu': 19.517013923650612, 'eval_runtime': 55.3478, 'eval_samples_per_second': 18.068, 'eval_steps_per_second': 0.759, 'epoch': 96.0}\n",
      "CustomTrainerCallback.on_evaluate - Momento: [2023-Apr-10 23:43:10] metrics={'eval_loss': 5.314682960510254, 'eval_bleu': 19.517013923650612, 'eval_runtime': 55.3478, 'eval_samples_per_second': 18.068, 'eval_steps_per_second': 0.759, 'epoch': 96.0}\n",
      "metrics['eval_loss']=5.314682960510254 metrics['eval_bleu']=19.517013923650612 self.best_validation_metric=20.092415224677104\n"
     ]
    },
    {
     "name": "stderr",
     "output_type": "stream",
     "text": [
      " 97%|█████████▋| 5044/5200 [10:37:20<30:27, 11.72s/it]  "
     ]
    },
    {
     "name": "stdout",
     "output_type": "stream",
     "text": [
      "{'loss': 0.0013, 'learning_rate': 0.00015789473684210527, 'epoch': 97.0}\n"
     ]
    },
    {
     "name": "stderr",
     "output_type": "stream",
     "text": [
      "                                                      \n",
      " 97%|█████████▋| 5044/5200 [10:38:16<30:27, 11.72s/it]"
     ]
    },
    {
     "name": "stdout",
     "output_type": "stream",
     "text": [
      "Em compute_metrics: bleu=19.624543745713183\n",
      "Predicao[0]    :how many steps does an average person walk per mile/nGround_truth[0]:['how many fitbit steps equal a mile']\n",
      "{'eval_loss': 5.358071804046631, 'eval_bleu': 19.624543745713183, 'eval_runtime': 56.2776, 'eval_samples_per_second': 17.769, 'eval_steps_per_second': 0.746, 'epoch': 97.0}\n",
      "CustomTrainerCallback.on_evaluate - Momento: [2023-Apr-10 23:54:34] metrics={'eval_loss': 5.358071804046631, 'eval_bleu': 19.624543745713183, 'eval_runtime': 56.2776, 'eval_samples_per_second': 17.769, 'eval_steps_per_second': 0.746, 'epoch': 97.0}\n",
      "metrics['eval_loss']=5.358071804046631 metrics['eval_bleu']=19.624543745713183 self.best_validation_metric=20.092415224677104\n"
     ]
    },
    {
     "name": "stderr",
     "output_type": "stream",
     "text": [
      " 98%|█████████▊| 5096/5200 [10:48:54<21:28, 12.39s/it]  "
     ]
    },
    {
     "name": "stdout",
     "output_type": "stream",
     "text": [
      "{'loss': 0.0012, 'learning_rate': 0.00010526315789473685, 'epoch': 98.0}\n"
     ]
    },
    {
     "name": "stderr",
     "output_type": "stream",
     "text": [
      "                                                      \n",
      " 98%|█████████▊| 5096/5200 [10:49:51<21:28, 12.39s/it]"
     ]
    },
    {
     "name": "stdout",
     "output_type": "stream",
     "text": [
      "Em compute_metrics: bleu=19.628073899550937\n",
      "Predicao[0]    :how many steps does an average person walk per mile/nGround_truth[0]:['how many fitbit steps equal a mile']\n",
      "{'eval_loss': 5.370214462280273, 'eval_bleu': 19.628073899550937, 'eval_runtime': 56.7382, 'eval_samples_per_second': 17.625, 'eval_steps_per_second': 0.74, 'epoch': 98.0}\n",
      "CustomTrainerCallback.on_evaluate - Momento: [2023-Apr-11 00:06:08] metrics={'eval_loss': 5.370214462280273, 'eval_bleu': 19.628073899550937, 'eval_runtime': 56.7382, 'eval_samples_per_second': 17.625, 'eval_steps_per_second': 0.74, 'epoch': 98.0}\n",
      "metrics['eval_loss']=5.370214462280273 metrics['eval_bleu']=19.628073899550937 self.best_validation_metric=20.092415224677104\n"
     ]
    },
    {
     "name": "stderr",
     "output_type": "stream",
     "text": [
      " 99%|█████████▉| 5148/5200 [11:00:23<10:27, 12.06s/it]"
     ]
    },
    {
     "name": "stdout",
     "output_type": "stream",
     "text": [
      "{'loss': 0.0013, 'learning_rate': 5.2631578947368424e-05, 'epoch': 99.0}\n"
     ]
    },
    {
     "name": "stderr",
     "output_type": "stream",
     "text": [
      "                                                      \n",
      " 99%|█████████▉| 5148/5200 [11:01:19<10:27, 12.06s/it]"
     ]
    },
    {
     "name": "stdout",
     "output_type": "stream",
     "text": [
      "Em compute_metrics: bleu=19.782533206638142\n",
      "Predicao[0]    :how many steps does an average person walk per mile/nGround_truth[0]:['how many fitbit steps equal a mile']\n",
      "{'eval_loss': 5.355432987213135, 'eval_bleu': 19.782533206638142, 'eval_runtime': 56.3572, 'eval_samples_per_second': 17.744, 'eval_steps_per_second': 0.745, 'epoch': 99.0}\n",
      "CustomTrainerCallback.on_evaluate - Momento: [2023-Apr-11 00:17:37] metrics={'eval_loss': 5.355432987213135, 'eval_bleu': 19.782533206638142, 'eval_runtime': 56.3572, 'eval_samples_per_second': 17.744, 'eval_steps_per_second': 0.745, 'epoch': 99.0}\n",
      "metrics['eval_loss']=5.355432987213135 metrics['eval_bleu']=19.782533206638142 self.best_validation_metric=20.092415224677104\n"
     ]
    },
    {
     "name": "stderr",
     "output_type": "stream",
     "text": [
      "100%|██████████| 5200/5200 [11:11:52<00:00, 11.85s/it]"
     ]
    },
    {
     "name": "stdout",
     "output_type": "stream",
     "text": [
      "{'loss': 0.0014, 'learning_rate': 0.0, 'epoch': 100.0}\n"
     ]
    },
    {
     "name": "stderr",
     "output_type": "stream",
     "text": [
      "                                                      \n",
      "100%|██████████| 5200/5200 [11:12:48<00:00, 11.85s/it]"
     ]
    },
    {
     "name": "stdout",
     "output_type": "stream",
     "text": [
      "Em compute_metrics: bleu=19.757756165764278\n",
      "Predicao[0]    :how many steps does an average person walk per mile/nGround_truth[0]:['how many fitbit steps equal a mile']\n",
      "{'eval_loss': 5.349058628082275, 'eval_bleu': 19.757756165764278, 'eval_runtime': 56.5867, 'eval_samples_per_second': 17.672, 'eval_steps_per_second': 0.742, 'epoch': 100.0}\n",
      "CustomTrainerCallback.on_evaluate - Momento: [2023-Apr-11 00:29:06] metrics={'eval_loss': 5.349058628082275, 'eval_bleu': 19.757756165764278, 'eval_runtime': 56.5867, 'eval_samples_per_second': 17.672, 'eval_steps_per_second': 0.742, 'epoch': 100.0}\n",
      "metrics['eval_loss']=5.349058628082275 metrics['eval_bleu']=19.757756165764278 self.best_validation_metric=20.092415224677104\n"
     ]
    },
    {
     "name": "stderr",
     "output_type": "stream",
     "text": [
      "100%|██████████| 5200/5200 [11:12:52<00:00, 11.85s/it]"
     ]
    },
    {
     "name": "stdout",
     "output_type": "stream",
     "text": [
      "{'train_runtime': 40376.6784, 'train_samples_per_second': 24.767, 'train_steps_per_second': 0.129, 'train_loss': 0.1323703731660946, 'epoch': 100.0}\n",
      "Shutting down background jobs, please wait a moment...\n",
      "Done!\n",
      "Waiting for the remaining 14 operations to synchronize with Neptune. Do not kill this process.\n",
      "All 14 operations synced, thanks for waiting!\n",
      "Explore the metadata in the Neptune app:\n",
      "https://app.neptune.ai/marcusborela/IA386DD/e/IAD-72\n"
     ]
    },
    {
     "name": "stderr",
     "output_type": "stream",
     "text": [
      "100%|██████████| 5200/5200 [11:12:53<00:00,  7.76s/it]\n"
     ]
    }
   ],
   "source": [
    "trainer, train_results = train(parm_model=model, num_batch_size=num_batch_size, num_epochs=num_epochs, num_acum_steps=num_acum_steps)"
   ]
  },
  {
   "cell_type": "code",
   "execution_count": 88,
   "metadata": {},
   "outputs": [
    {
     "data": {
      "text/plain": [
       "TrainOutput(global_step=5200, training_loss=0.1323703731660946, metrics={'train_runtime': 40376.6784, 'train_samples_per_second': 24.767, 'train_steps_per_second': 0.129, 'train_loss': 0.1323703731660946, 'epoch': 100.0})"
      ]
     },
     "execution_count": 88,
     "metadata": {},
     "output_type": "execute_result"
    }
   ],
   "source": [
    "train_results"
   ]
  },
  {
   "cell_type": "code",
   "execution_count": 90,
   "metadata": {},
   "outputs": [
    {
     "name": "stderr",
     "output_type": "stream",
     "text": [
      "100%|██████████| 41/41 [00:18<00:00,  2.15it/s]"
     ]
    },
    {
     "name": "stdout",
     "output_type": "stream",
     "text": [
      "Em compute_metrics: bleu=20.092415224677104\n",
      "Predicao[0]    :how many steps does an average person walk per mile/nGround_truth[0]:['how many fitbit steps equal a mile']\n"
     ]
    },
    {
     "name": "stderr",
     "output_type": "stream",
     "text": [
      "/home/borela/miniconda3/envs/treinapython39/lib/python3.9/site-packages/transformers/integrations.py:1219: NeptuneDeprecationWarning: Parameter `run` is deprecated, use `with_id` instead. We'll end support of it in `neptune-client==1.0.0`.\n",
      "  self._run = init_run(**self._init_run_kwargs, **additional_neptune_kwargs)\n"
     ]
    },
    {
     "name": "stdout",
     "output_type": "stream",
     "text": [
      "https://app.neptune.ai/marcusborela/IA386DD/e/IAD-72\n",
      "Remember to stop your run once you’ve finished logging your metadata (https://docs.neptune.ai/api/run#stop). It will be stopped automatically only when the notebook kernel/interactive console is terminated.\n"
     ]
    },
    {
     "name": "stderr",
     "output_type": "stream",
     "text": [
      "100%|██████████| 41/41 [00:27<00:00,  1.48it/s]"
     ]
    },
    {
     "name": "stdout",
     "output_type": "stream",
     "text": [
      "CustomTrainerCallback.on_evaluate - Momento: [2023-Apr-11 07:07:42] metrics={'eval_loss': 5.336637020111084, 'eval_bleu': 20.092415224677104, 'eval_runtime': 26.8979, 'eval_samples_per_second': 37.178, 'eval_steps_per_second': 1.561, 'epoch': 100.0}\n",
      "metrics['eval_loss']=5.336637020111084 metrics['eval_bleu']=20.092415224677104 self.best_validation_metric=20.092415224677104\n"
     ]
    },
    {
     "name": "stderr",
     "output_type": "stream",
     "text": [
      "\n"
     ]
    },
    {
     "data": {
      "text/plain": [
       "{'eval_loss': 5.336637020111084,\n",
       " 'eval_bleu': 20.092415224677104,\n",
       " 'eval_runtime': 26.8979,\n",
       " 'eval_samples_per_second': 37.178,\n",
       " 'eval_steps_per_second': 1.561,\n",
       " 'epoch': 100.0}"
      ]
     },
     "execution_count": 90,
     "metadata": {},
     "output_type": "execute_result"
    },
    {
     "name": "stderr",
     "output_type": "stream",
     "text": [
      "Error occurred during asynchronous operation processing: X-coordinates (step) must be strictly increasing for series attribute: finetuning/eval/bleu. Invalid point: 5200.0\n",
      "Error occurred during asynchronous operation processing: X-coordinates (step) must be strictly increasing for series attribute: finetuning/eval/loss. Invalid point: 5200.0\n",
      "Error occurred during asynchronous operation processing: X-coordinates (step) must be strictly increasing for series attribute: finetuning/eval/runtime. Invalid point: 5200.0\n",
      "Error occurred during asynchronous operation processing: X-coordinates (step) must be strictly increasing for series attribute: finetuning/eval/samples_per_second. Invalid point: 5200.0\n",
      "Error occurred during asynchronous operation processing: X-coordinates (step) must be strictly increasing for series attribute: finetuning/eval/steps_per_second. Invalid point: 5200.0\n"
     ]
    }
   ],
   "source": [
    "trainer.evaluate()"
   ]
  },
  {
   "cell_type": "code",
   "execution_count": null,
   "metadata": {},
   "outputs": [],
   "source": [
    "CustomTrainerCallback.on_evaluate - Momento: [2023-Apr-11 07:07:42] metrics={'eval_loss': 5.336637020111084, 'eval_bleu': 20.092415224677104, 'eval_runtime': 26.8979, 'eval_samples_per_second': 37.178, 'eval_steps_per_second': 1.561, 'epoch': 100.0}\n",
    "metrics['eval_loss']=5.336637020111084 metrics['eval_bleu']=20.092415224677104 self.best_validation_metric=20.092415224677104\n",
    "\n",
    "{'eval_loss': 5.336637020111084,\n",
    " 'eval_bleu': 20.092415224677104,\n",
    " 'eval_runtime': 26.8979,\n",
    " 'eval_samples_per_second': 37.178,\n",
    " 'eval_steps_per_second': 1.561,\n",
    " 'epoch': 100.0}"
   ]
  },
  {
   "cell_type": "code",
   "execution_count": null,
   "metadata": {},
   "outputs": [],
   "source": [
    "# trainer.save_model()\n"
   ]
  },
  {
   "cell_type": "markdown",
   "metadata": {},
   "source": [
    "metrics = trainer.evaluate()\n",
    "print(metrics)"
   ]
  },
  {
   "cell_type": "code",
   "execution_count": null,
   "metadata": {},
   "outputs": [],
   "source": []
  }
 ],
 "metadata": {
  "kernelspec": {
   "display_name": "treinapython39",
   "language": "python",
   "name": "python3"
  },
  "language_info": {
   "codemirror_mode": {
    "name": "ipython",
    "version": 3
   },
   "file_extension": ".py",
   "mimetype": "text/x-python",
   "name": "python",
   "nbconvert_exporter": "python",
   "pygments_lexer": "ipython3",
   "version": "3.9.16"
  },
  "orig_nbformat": 4,
  "vscode": {
   "interpreter": {
    "hash": "e431eb1d856c426fade2a694f8536bd46c4e9c4bd47cb4afd3fb4d2c61122b03"
   }
  }
 },
 "nbformat": 4,
 "nbformat_minor": 2
}
