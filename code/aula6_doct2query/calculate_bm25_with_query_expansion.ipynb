{
 "cells": [
  {
   "attachments": {},
   "cell_type": "markdown",
   "metadata": {},
   "source": [
    "# Aula6 - Doc2Query\n",
    "\n",
    "[Unicamp - IA368DD: Deep Learning aplicado a sistemas de busca.](https://www.cpg.feec.unicamp.br/cpg/lista/caderno_horario_show.php?id=1779)\n",
    "\n",
    "Autor: Marcus Vinícius Borela de Castro\n",
    "\n",
    "[Repositório no github](https://github.com/marcusborela/deep_learning_em_buscas_unicamp)\n",
    "\n",
    "Stage: calculating metrics after expanding texts with queries "
   ]
  },
  {
   "attachments": {},
   "cell_type": "markdown",
   "metadata": {},
   "source": [
    "# Organizando o ambiente"
   ]
  },
  {
   "cell_type": "code",
   "execution_count": 8,
   "metadata": {},
   "outputs": [],
   "source": [
    "import pickle"
   ]
  },
  {
   "cell_type": "code",
   "execution_count": 23,
   "metadata": {},
   "outputs": [],
   "source": [
    "import json"
   ]
  },
  {
   "cell_type": "code",
   "execution_count": 1,
   "metadata": {},
   "outputs": [],
   "source": [
    "import pandas as pd"
   ]
  },
  {
   "cell_type": "code",
   "execution_count": 2,
   "metadata": {},
   "outputs": [],
   "source": [
    "DIRETORIO_TRABALHO = '/home/borela/fontes/deep_learning_em_buscas_unicamp/local/doc2query'"
   ]
  },
  {
   "cell_type": "code",
   "execution_count": 3,
   "metadata": {},
   "outputs": [],
   "source": [
    "assert os.path.exists(DIRETORIO_TRABALHO), f\"Path para {DIRETORIO_TRABALHO} não existe!\""
   ]
  },
  {
   "cell_type": "code",
   "execution_count": 4,
   "metadata": {},
   "outputs": [],
   "source": [
    "import os"
   ]
  },
  {
   "attachments": {},
   "cell_type": "markdown",
   "metadata": {},
   "source": [
    "export JVM_PATH=/usr/lib/jvm/java-11-openjdk-amd64/lib/server/libjvm.so\n",
    "export JAVA_HOME=/usr/lib/jvm/java-11-openjdk-amd64"
   ]
  },
  {
   "cell_type": "code",
   "execution_count": 5,
   "metadata": {},
   "outputs": [],
   "source": [
    "os.environ['JVM_PATH'] = '/usr/lib/jvm/java-11-openjdk-amd64/lib/server/libjvm.so'\n",
    "os.environ['JAVA_HOME'] = '/usr/lib/jvm/java-11-openjdk-amd64'"
   ]
  },
  {
   "cell_type": "code",
   "execution_count": 6,
   "metadata": {},
   "outputs": [
    {
     "name": "stderr",
     "output_type": "stream",
     "text": [
      "/home/borela/miniconda3/envs/treinapython39/lib/python3.9/site-packages/tqdm/auto.py:21: TqdmWarning: IProgress not found. Please update jupyter and ipywidgets. See https://ipywidgets.readthedocs.io/en/stable/user_install.html\n",
      "  from .autonotebook import tqdm as notebook_tqdm\n"
     ]
    }
   ],
   "source": [
    "from pyserini.search.lucene import LuceneSearcher"
   ]
  },
  {
   "attachments": {},
   "cell_type": "markdown",
   "metadata": {},
   "source": [
    "# Carregando os dados de documentos expandidos"
   ]
  },
  {
   "cell_type": "code",
   "execution_count": 9,
   "metadata": {},
   "outputs": [],
   "source": [
    "with open(f\"{DIRETORIO_TRABALHO}/trec-covid-corpus-sem-texto.pickle\", \"rb\") as f:\n",
    "  corpus_sem_texto = pickle.load(f)"
   ]
  },
  {
   "cell_type": "code",
   "execution_count": 10,
   "metadata": {},
   "outputs": [],
   "source": [
    "with open(f\"{DIRETORIO_TRABALHO}/trec-covid-corpus-com-texto.pickle\", \"rb\") as f:\n",
    "  corpus_com_texto = pickle.load(f)"
   ]
  },
  {
   "cell_type": "code",
   "execution_count": 11,
   "metadata": {},
   "outputs": [
    {
     "data": {
      "text/plain": [
       "(list,\n",
       " {'_id': 'ug7v899j',\n",
       "  'title': 'Clinical features of culture-proven Mycoplasma pneumoniae infections at King Abdulaziz University Hospital, Jeddah, Saudi Arabia',\n",
       "  'text': 'OBJECTIVE: This retrospective chart review describes the epidemiology and clinical features of 40 patients with culture-proven Mycoplasma pneumoniae infections at King Abdulaziz University Hospital, Jeddah, Saudi Arabia. METHODS: Patients with positive M. pneumoniae cultures from respiratory specimens from January 1997 through December 1998 were identified through the Microbiology records. Charts of patients were reviewed. RESULTS: 40 patients were identified, 33 (82.5%) of whom required admission. Most infections (92.5%) were community-acquired. The infection affected all age groups but was most common in infants (32.5%) and pre-school children (22.5%). It occurred year-round but was most common in the fall (35%) and spring (30%). More than three-quarters of patients (77.5%) had comorbidities. Twenty-four isolates (60%) were associated with pneumonia, 14 (35%) with upper respiratory tract infections, and 2 (5%) with bronchiolitis. Cough (82.5%), fever (75%), and malaise (58.8%) were the most common symptoms, and crepitations (60%), and wheezes (40%) were the most common signs. Most patients with pneumonia had crepitations (79.2%) but only 25% had bronchial breathing. Immunocompromised patients were more likely than non-immunocompromised patients to present with pneumonia (8/9 versus 16/31, P = 0.05). Of the 24 patients with pneumonia, 14 (58.3%) had uneventful recovery, 4 (16.7%) recovered following some complications, 3 (12.5%) died because of M pneumoniae infection, and 3 (12.5%) died due to underlying comorbidities. The 3 patients who died of M pneumoniae pneumonia had other comorbidities. CONCLUSION: our results were similar to published data except for the finding that infections were more common in infants and preschool children and that the mortality rate of pneumonia in patients with comorbidities was high.',\n",
       "  'metadata': {'url': 'https://www.ncbi.nlm.nih.gov/pmc/articles/PMC35282/',\n",
       "   'pubmed_id': '11472636'},\n",
       "  'texto_gerado': 'what is the epidemiology for pneumonia; what is the epidemiology of mycoplasma pneumonia; what is the epidemiology of pneumonia; what is the epidemiology status for mycoplasma pneumonia',\n",
       "  'qtd_texto_gerado': 4})"
      ]
     },
     "execution_count": 11,
     "metadata": {},
     "output_type": "execute_result"
    }
   ],
   "source": [
    "type(corpus_com_texto), corpus_com_texto[0]"
   ]
  },
  {
   "cell_type": "code",
   "execution_count": 118,
   "metadata": {},
   "outputs": [
    {
     "name": "stdout",
     "output_type": "stream",
     "text": [
      "CPU times: user 141 ms, sys: 90.3 ms, total: 232 ms\n",
      "Wall time: 231 ms\n"
     ]
    }
   ],
   "source": [
    "%%time\n",
    "lista_carga = []\n",
    "for doc in corpus_com_texto:\n",
    "    lista_carga.append({\"id\": doc['_id'], \"contents\":f\"Title: {doc['title']}\\nText:{doc['text']}\\n{doc['texto_gerado']}\"})"
   ]
  },
  {
   "attachments": {},
   "cell_type": "markdown",
   "metadata": {},
   "source": [
    "Se desejar carregar os documentos sem texto mas expandidos, rodar comando abaixo:"
   ]
  },
  {
   "cell_type": "code",
   "execution_count": null,
   "metadata": {},
   "outputs": [
    {
     "name": "stdout",
     "output_type": "stream",
     "text": [
      "CPU times: user 24.8 ms, sys: 3.98 ms, total: 28.8 ms\n",
      "Wall time: 28.4 ms\n"
     ]
    }
   ],
   "source": [
    "%%time\n",
    "for doc in corpus_sem_texto:\n",
    "    lista_carga.append({\"id\": doc['_id'], \"contents\":f\"Title: {doc['title']}\\nText:{doc['texto_gerado']}\"})"
   ]
  },
  {
   "attachments": {},
   "cell_type": "markdown",
   "metadata": {},
   "source": [
    "Caso contrário, se desejar carregar os documentos sem texto, rodar comando abaixo: (se quiser, pode não carregá-los)"
   ]
  },
  {
   "cell_type": "code",
   "execution_count": 82,
   "metadata": {},
   "outputs": [
    {
     "name": "stdout",
     "output_type": "stream",
     "text": [
      "CPU times: user 11.6 ms, sys: 8.2 ms, total: 19.8 ms\n",
      "Wall time: 19.5 ms\n"
     ]
    }
   ],
   "source": [
    "%%time\n",
    "for doc in corpus_sem_texto:\n",
    "    lista_carga.append({\"id\": doc['_id'], \"contents\":f\"Title: {doc['title']}\"})"
   ]
  },
  {
   "attachments": {},
   "cell_type": "markdown",
   "metadata": {},
   "source": [
    "Visualizando os dados"
   ]
  },
  {
   "cell_type": "code",
   "execution_count": 29,
   "metadata": {},
   "outputs": [
    {
     "name": "stdout",
     "output_type": "stream",
     "text": [
      "Title: Clinical features of culture-proven Mycoplasma pneumoniae infections at King Abdulaziz University Hospital, Jeddah, Saudi Arabia\n",
      "Text:OBJECTIVE: This retrospective chart review describes the epidemiology and clinical features of 40 patients with culture-proven Mycoplasma pneumoniae infections at King Abdulaziz University Hospital, Jeddah, Saudi Arabia. METHODS: Patients with positive M. pneumoniae cultures from respiratory specimens from January 1997 through December 1998 were identified through the Microbiology records. Charts of patients were reviewed. RESULTS: 40 patients were identified, 33 (82.5%) of whom required admission. Most infections (92.5%) were community-acquired. The infection affected all age groups but was most common in infants (32.5%) and pre-school children (22.5%). It occurred year-round but was most common in the fall (35%) and spring (30%). More than three-quarters of patients (77.5%) had comorbidities. Twenty-four isolates (60%) were associated with pneumonia, 14 (35%) with upper respiratory tract infections, and 2 (5%) with bronchiolitis. Cough (82.5%), fever (75%), and malaise (58.8%) were the most common symptoms, and crepitations (60%), and wheezes (40%) were the most common signs. Most patients with pneumonia had crepitations (79.2%) but only 25% had bronchial breathing. Immunocompromised patients were more likely than non-immunocompromised patients to present with pneumonia (8/9 versus 16/31, P = 0.05). Of the 24 patients with pneumonia, 14 (58.3%) had uneventful recovery, 4 (16.7%) recovered following some complications, 3 (12.5%) died because of M pneumoniae infection, and 3 (12.5%) died due to underlying comorbidities. The 3 patients who died of M pneumoniae pneumonia had other comorbidities. CONCLUSION: our results were similar to published data except for the finding that infections were more common in infants and preschool children and that the mortality rate of pneumonia in patients with comorbidities was high.\n",
      "what is the epidemiology for pneumonia; what is the epidemiology of mycoplasma pneumonia; what is the epidemiology of pneumonia; what is the epidemiology status for mycoplasma pneumonia\n"
     ]
    }
   ],
   "source": [
    "print(lista_carga[0]['contents'])"
   ]
  },
  {
   "cell_type": "code",
   "execution_count": 30,
   "metadata": {},
   "outputs": [
    {
     "name": "stdout",
     "output_type": "stream",
     "text": [
      "Title: Vascular Life during the COVID-19 Pandemic Reminds Us to Prepare for the Unexpected\n",
      "Text:what was unexpected life like novod and lacrimal tragedy; what was unexpected life like no ivd; what is the life expectancy for the covd 19 pandemic avianity; what was unexpected complications during the covd; what was unexpected heart like during the covid; what was unexpected life like during the covid; what was unexpected life like at rosa life; what was unexpected life like during the covd; what was unexpected baggage life; what was unexpected life like at the covid\n"
     ]
    }
   ],
   "source": [
    "print(lista_carga[-1]['contents'])"
   ]
  },
  {
   "attachments": {},
   "cell_type": "markdown",
   "metadata": {},
   "source": [
    "# Construindo o índice"
   ]
  },
  {
   "cell_type": "code",
   "execution_count": 119,
   "metadata": {},
   "outputs": [],
   "source": [
    "\n",
    "# Escreve a lista de dicionários sem a chave 'title' em um arquivo JSONL\n",
    "with open(f\"{DIRETORIO_TRABALHO}/trec-covid-expanded/trec-covid-corpus-expanded.jsonl\", 'w') as arquivo:\n",
    "    for doc in lista_carga:\n",
    "        # Converte o dicionário em uma string JSON\n",
    "        linha_json = json.dumps(doc)\n",
    "        # Escreve a linha JSON no arquivo\n",
    "        arquivo.write(f'{linha_json}\\n')"
   ]
  },
  {
   "cell_type": "code",
   "execution_count": 120,
   "metadata": {},
   "outputs": [
    {
     "name": "stdout",
     "output_type": "stream",
     "text": [
      "WARNING: sun.reflect.Reflection.getCallerClass is not supported. This will impact performance.\n",
      "2023-04-11 15:23:46,319 INFO  [main] index.IndexCollection (IndexCollection.java:380) - Setting log level to INFO\n",
      "2023-04-11 15:23:46,320 INFO  [main] index.IndexCollection (IndexCollection.java:383) - Starting indexer...\n",
      "2023-04-11 15:23:46,320 INFO  [main] index.IndexCollection (IndexCollection.java:384) - ============ Loading Parameters ============\n",
      "2023-04-11 15:23:46,320 INFO  [main] index.IndexCollection (IndexCollection.java:385) - DocumentCollection path: /home/borela/fontes/deep_learning_em_buscas_unicamp/local/doc2query/trec-covid-expanded/\n",
      "2023-04-11 15:23:46,320 INFO  [main] index.IndexCollection (IndexCollection.java:386) - CollectionClass: JsonCollection\n",
      "2023-04-11 15:23:46,320 INFO  [main] index.IndexCollection (IndexCollection.java:387) - Generator: DefaultLuceneDocumentGenerator\n",
      "2023-04-11 15:23:46,320 INFO  [main] index.IndexCollection (IndexCollection.java:388) - Threads: 9\n",
      "2023-04-11 15:23:46,320 INFO  [main] index.IndexCollection (IndexCollection.java:389) - Language: en\n",
      "2023-04-11 15:23:46,321 INFO  [main] index.IndexCollection (IndexCollection.java:390) - Stemmer: porter\n",
      "2023-04-11 15:23:46,321 INFO  [main] index.IndexCollection (IndexCollection.java:391) - Keep stopwords? false\n",
      "2023-04-11 15:23:46,321 INFO  [main] index.IndexCollection (IndexCollection.java:392) - Stopwords: null\n",
      "2023-04-11 15:23:46,321 INFO  [main] index.IndexCollection (IndexCollection.java:393) - Store positions? true\n",
      "2023-04-11 15:23:46,321 INFO  [main] index.IndexCollection (IndexCollection.java:394) - Store docvectors? true\n",
      "2023-04-11 15:23:46,321 INFO  [main] index.IndexCollection (IndexCollection.java:395) - Store document \"contents\" field? false\n",
      "2023-04-11 15:23:46,321 INFO  [main] index.IndexCollection (IndexCollection.java:396) - Store document \"raw\" field? true\n",
      "2023-04-11 15:23:46,322 INFO  [main] index.IndexCollection (IndexCollection.java:397) - Additional fields to index: []\n",
      "2023-04-11 15:23:46,322 INFO  [main] index.IndexCollection (IndexCollection.java:398) - Optimize (merge segments)? false\n",
      "2023-04-11 15:23:46,322 INFO  [main] index.IndexCollection (IndexCollection.java:399) - Whitelist: null\n",
      "2023-04-11 15:23:46,322 INFO  [main] index.IndexCollection (IndexCollection.java:400) - Pretokenized?: false\n",
      "2023-04-11 15:23:46,322 INFO  [main] index.IndexCollection (IndexCollection.java:401) - Index path: indexes/trec_covid_expanded\n",
      "2023-04-11 15:23:46,323 INFO  [main] index.IndexCollection (IndexCollection.java:481) - ============ Indexing Collection ============\n",
      "2023-04-11 15:23:46,330 INFO  [main] index.IndexCollection (IndexCollection.java:468) - Using DefaultEnglishAnalyzer\n",
      "2023-04-11 15:23:46,330 INFO  [main] index.IndexCollection (IndexCollection.java:469) - Stemmer: porter\n",
      "2023-04-11 15:23:46,330 INFO  [main] index.IndexCollection (IndexCollection.java:470) - Keep stopwords? false\n",
      "2023-04-11 15:23:46,330 INFO  [main] index.IndexCollection (IndexCollection.java:471) - Stopwords file: null\n",
      "2023-04-11 15:23:46,400 INFO  [main] index.IndexCollection (IndexCollection.java:510) - Thread pool with 9 threads initialized.\n",
      "2023-04-11 15:23:46,400 INFO  [main] index.IndexCollection (IndexCollection.java:512) - Initializing collection in /home/borela/fontes/deep_learning_em_buscas_unicamp/local/doc2query/trec-covid-expanded\n",
      "2023-04-11 15:23:46,401 INFO  [main] index.IndexCollection (IndexCollection.java:521) - 1 file found\n",
      "2023-04-11 15:23:46,401 INFO  [main] index.IndexCollection (IndexCollection.java:522) - Starting to index...\n",
      "2023-04-11 15:24:04,447 DEBUG [pool-2-thread-1] index.IndexCollection$LocalIndexerThread (IndexCollection.java:345) - trec-covid-expanded/trec-covid-corpus-expanded.jsonl: 129192 docs added.\n",
      "2023-04-11 15:24:08,321 INFO  [main] index.IndexCollection (IndexCollection.java:578) - Indexing Complete! 129.192 documents indexed\n",
      "2023-04-11 15:24:08,321 INFO  [main] index.IndexCollection (IndexCollection.java:579) - ============ Final Counter Values ============\n",
      "2023-04-11 15:24:08,322 INFO  [main] index.IndexCollection (IndexCollection.java:580) - indexed:          129.192\n",
      "2023-04-11 15:24:08,322 INFO  [main] index.IndexCollection (IndexCollection.java:581) - unindexable:            0\n",
      "2023-04-11 15:24:08,322 INFO  [main] index.IndexCollection (IndexCollection.java:582) - empty:                  0\n",
      "2023-04-11 15:24:08,323 INFO  [main] index.IndexCollection (IndexCollection.java:583) - skipped:                0\n",
      "2023-04-11 15:24:08,323 INFO  [main] index.IndexCollection (IndexCollection.java:584) - errors:                 0\n",
      "2023-04-11 15:24:08,330 INFO  [main] index.IndexCollection (IndexCollection.java:587) - Total 129.192 documents indexed in 00:00:22\n",
      "CPU times: user 263 ms, sys: 50.3 ms, total: 313 ms\n",
      "Wall time: 23.3 s\n"
     ]
    }
   ],
   "source": [
    "%%time\n",
    "!python -m pyserini.index.lucene \\\n",
    "  --collection JsonCollection \\\n",
    "  --input {DIRETORIO_TRABALHO}/trec-covid-expanded/ \\\n",
    "  --index indexes/trec_covid_expanded \\\n",
    "  --generator DefaultLuceneDocumentGenerator \\\n",
    "  --threads 9 \\\n",
    "  --storePositions --storeDocvectors --storeRaw"
   ]
  },
  {
   "cell_type": "code",
   "execution_count": 121,
   "metadata": {},
   "outputs": [],
   "source": [
    "!mv indexes/trec_covid_expanded {DIRETORIO_TRABALHO}/indexes"
   ]
  },
  {
   "cell_type": "code",
   "execution_count": 122,
   "metadata": {},
   "outputs": [
    {
     "name": "stdout",
     "output_type": "stream",
     "text": [
      "trec_covid_expanded\n",
      "trec_covid_expanded_com_e_sem_texto\n",
      "trec_covid_expanded_full_so_texto_expandido\n"
     ]
    }
   ],
   "source": [
    "!ls {DIRETORIO_TRABALHO}/indexes"
   ]
  },
  {
   "cell_type": "code",
   "execution_count": 123,
   "metadata": {},
   "outputs": [],
   "source": [
    "caminho_indice_trec_covid_com_expansao = f'{DIRETORIO_TRABALHO}/indexes/trec_covid_expanded'"
   ]
  },
  {
   "attachments": {},
   "cell_type": "markdown",
   "metadata": {},
   "source": [
    "# Baixando os dados e preparando para avaliação "
   ]
  },
  {
   "attachments": {},
   "cell_type": "markdown",
   "metadata": {},
   "source": [
    "## Queries"
   ]
  },
  {
   "attachments": {},
   "cell_type": "markdown",
   "metadata": {},
   "source": [
    "Se precisar carregar a partir de url\n",
    "\n",
    "if not os.path.exists(f'{DIRETORIO_TRABALHO}/queries.jsonl.gz'):\n",
    "    !wget https://huggingface.co/datasets/BeIR/trec-covid/resolve/main/queries.jsonl.gz\n",
    "    !mv queries.jsonl.gz {DIRETORIO_TRABALHO}/\n",
    "\n",
    "\n",
    "Nome do arquivo compactado\n",
    "arquivo_gz =  f'{DIRETORIO_TRABALHO}/queries.jsonl.gz'\n",
    "\n",
    "import gzip\n",
    "Descompacte o arquivo para a memória\n",
    "with gzip.open(arquivo_gz, 'rt') as f:\n",
    "    # Leia o conteúdo do arquivo descompactado\n",
    "    queries = [json.loads(line) for line in f]\n",
    "\n",
    "Exiba os dados carregados\n",
    "print(f\"{type(queries)} len(queries): {len(queries)}\")    \n"
   ]
  },
  {
   "cell_type": "code",
   "execution_count": 45,
   "metadata": {},
   "outputs": [
    {
     "data": {
      "text/plain": [
       "{'_id': '1',\n",
       " 'text': 'what is the origin of COVID-19',\n",
       " 'metadata': {'query': 'coronavirus origin',\n",
       "  'narrative': \"seeking range of information about the SARS-CoV-2 virus's origin, including its evolution, animal source, and first transmission into humans\"}}"
      ]
     },
     "execution_count": 45,
     "metadata": {},
     "output_type": "execute_result"
    }
   ],
   "source": [
    "del queries"
   ]
  },
  {
   "cell_type": "code",
   "execution_count": 46,
   "metadata": {},
   "outputs": [],
   "source": [
    "from pyserini.search import get_topics"
   ]
  },
  {
   "cell_type": "code",
   "execution_count": 47,
   "metadata": {},
   "outputs": [
    {
     "name": "stdout",
     "output_type": "stream",
     "text": [
      "50 queries total\n"
     ]
    }
   ],
   "source": [
    "topics = get_topics('covid-round5')\n",
    "print(f'{len(topics)} queries total')"
   ]
  },
  {
   "cell_type": "code",
   "execution_count": 49,
   "metadata": {},
   "outputs": [
    {
     "data": {
      "text/plain": [
       "{'question': 'what is known about an mRNA vaccine for the SARS-CoV-2 virus?',\n",
       " 'query': 'mRNA vaccine coronavirus',\n",
       " 'narrative': 'Looking for studies specifically focusing on mRNA vaccines for COVID-19, including how mRNA vaccines work, why they are promising, and any results from actual clinical studies.'}"
      ]
     },
     "execution_count": 49,
     "metadata": {},
     "output_type": "execute_result"
    }
   ],
   "source": [
    "topics[50]"
   ]
  },
  {
   "attachments": {},
   "cell_type": "markdown",
   "metadata": {},
   "source": [
    "## qrel de teste"
   ]
  },
  {
   "cell_type": "code",
   "execution_count": 51,
   "metadata": {},
   "outputs": [],
   "source": [
    "if not os.path.exists(f'{DIRETORIO_TRABALHO}/test.tsv'):\n",
    "    !wget https://huggingface.co/datasets/BeIR/trec-covid-qrels/raw/main/test.tsv\n",
    "    !mv test.tsv {DIRETORIO_TRABALHO}/"
   ]
  },
  {
   "cell_type": "code",
   "execution_count": 111,
   "metadata": {},
   "outputs": [],
   "source": [
    "qrel = pd.read_csv(f\"{DIRETORIO_TRABALHO}/test.tsv\", sep=\"\\t\", header=None, \n",
    "                   skiprows=1, names=[\"query\", \"docid\", \"rel\"])"
   ]
  },
  {
   "cell_type": "code",
   "execution_count": 112,
   "metadata": {},
   "outputs": [
    {
     "data": {
      "text/html": [
       "<div>\n",
       "<style scoped>\n",
       "    .dataframe tbody tr th:only-of-type {\n",
       "        vertical-align: middle;\n",
       "    }\n",
       "\n",
       "    .dataframe tbody tr th {\n",
       "        vertical-align: top;\n",
       "    }\n",
       "\n",
       "    .dataframe thead th {\n",
       "        text-align: right;\n",
       "    }\n",
       "</style>\n",
       "<table border=\"1\" class=\"dataframe\">\n",
       "  <thead>\n",
       "    <tr style=\"text-align: right;\">\n",
       "      <th></th>\n",
       "      <th>query</th>\n",
       "      <th>docid</th>\n",
       "      <th>rel</th>\n",
       "    </tr>\n",
       "  </thead>\n",
       "  <tbody>\n",
       "    <tr>\n",
       "      <th>0</th>\n",
       "      <td>1</td>\n",
       "      <td>005b2j4b</td>\n",
       "      <td>2</td>\n",
       "    </tr>\n",
       "    <tr>\n",
       "      <th>1</th>\n",
       "      <td>1</td>\n",
       "      <td>00fmeepz</td>\n",
       "      <td>1</td>\n",
       "    </tr>\n",
       "    <tr>\n",
       "      <th>2</th>\n",
       "      <td>1</td>\n",
       "      <td>g7dhmyyo</td>\n",
       "      <td>2</td>\n",
       "    </tr>\n",
       "    <tr>\n",
       "      <th>3</th>\n",
       "      <td>1</td>\n",
       "      <td>0194oljo</td>\n",
       "      <td>1</td>\n",
       "    </tr>\n",
       "    <tr>\n",
       "      <th>4</th>\n",
       "      <td>1</td>\n",
       "      <td>021q9884</td>\n",
       "      <td>1</td>\n",
       "    </tr>\n",
       "  </tbody>\n",
       "</table>\n",
       "</div>"
      ],
      "text/plain": [
       "   query     docid  rel\n",
       "0      1  005b2j4b    2\n",
       "1      1  00fmeepz    1\n",
       "2      1  g7dhmyyo    2\n",
       "3      1  0194oljo    1\n",
       "4      1  021q9884    1"
      ]
     },
     "execution_count": 112,
     "metadata": {},
     "output_type": "execute_result"
    }
   ],
   "source": [
    "qrel.head()"
   ]
  },
  {
   "cell_type": "code",
   "execution_count": 54,
   "metadata": {
    "id": "4AJiH6lQQHc5"
   },
   "outputs": [],
   "source": [
    "from tqdm import tqdm"
   ]
  },
  {
   "cell_type": "code",
   "execution_count": 90,
   "metadata": {
    "id": "dUJuMaOKPmoZ"
   },
   "outputs": [],
   "source": [
    "# Run all queries in topics, retrive top 1k for each query\n",
    "def run_all_queries(file, topics, searcher, num_max_hits=100):\n",
    "  \"\"\"\n",
    "  A função run_all_queries é responsável por realizar todas as consultas armazenadas no dicionário topics utilizando o objeto searcher fornecido e salvar os resultados em um arquivo de texto.\n",
    "  Usada no notebook da aula 2\n",
    "\n",
    "  Parâmetros:\n",
    "\n",
    "  file: caminho do arquivo de saída onde serão salvos os resultados das consultas.\n",
    "  topics: dicionário contendo as consultas a serem executadas. Cada consulta é representada por uma chave única no dicionário. O valor correspondente a cada chave é um outro dicionário contendo as informações da consulta, como seu título e outras informações relevantes.\n",
    "  searcher: objeto do tipo Searcher que será utilizado para realizar as consultas.\n",
    "  num_max_hits: número máximo de documentos relevantes que serão retornados para cada consulta.\n",
    "  Retorno:\n",
    "\n",
    "  A função não retorna nenhum valor, mas salva os resultados das consultas no arquivo especificado em file.\n",
    "  Comentário:\n",
    "\n",
    "  A função usa a biblioteca tqdm para exibir uma barra de progresso enquanto executa as consultas.\n",
    "  O número de consultas concluídas é impresso a cada 100 consultas.\n",
    "  \"\"\"\n",
    "  print(f'Running {len(topics)} queries in total')\n",
    "  with open(file, 'w') as runfile:\n",
    "    cnt = 0\n",
    "    for id in tqdm(topics, desc='Running Queries'):\n",
    "        # print(f'id = {id}')\n",
    "        query = topics[id]['question']\n",
    "        # print(f'query = {query}')\n",
    "\n",
    "        hits = searcher.search(query, num_max_hits)\n",
    "        for i in range(0, len(hits)):\n",
    "            _ = runfile.write(f'{id} Q0 {hits[i].docid} {i+1} {hits[i].score:.6f} ComExpansao\\n')\n",
    "            # = runfile.write('{} Q0 {} {} {:.6f} Pyserini\\n'.format(id, hits[i].docid, i+1, hits[i].score))\n",
    "        cnt += 1\n",
    "        if cnt % 100 == 0:\n",
    "            print(f'{cnt} queries completed')\n"
   ]
  },
  {
   "cell_type": "code",
   "execution_count": 124,
   "metadata": {},
   "outputs": [],
   "source": [
    "searcher = LuceneSearcher(caminho_indice_trec_covid_com_expansao)"
   ]
  },
  {
   "cell_type": "code",
   "execution_count": 125,
   "metadata": {},
   "outputs": [],
   "source": [
    "searcher.set_bm25(k1=0.82, b=0.68)  "
   ]
  },
  {
   "cell_type": "code",
   "execution_count": 126,
   "metadata": {
    "id": "zwyzd_W8gOAL"
   },
   "outputs": [],
   "source": [
    "path_run = f\"{DIRETORIO_TRABALHO}/runs\"\n",
    "path_run_com_expansao = path_run + '/run-trec-covid-expanded-bm25.txt'"
   ]
  },
  {
   "cell_type": "code",
   "execution_count": 127,
   "metadata": {
    "colab": {
     "base_uri": "https://localhost:8080/"
    },
    "id": "6KSZkPHbgOAL",
    "outputId": "8d021d23-b47f-4c45-9f15-8fe4b888a7e3"
   },
   "outputs": [
    {
     "name": "stdout",
     "output_type": "stream",
     "text": [
      "pasta já existia!\n",
      "CPU times: user 44 µs, sys: 8 µs, total: 52 µs\n",
      "Wall time: 103 µs\n"
     ]
    }
   ],
   "source": [
    "%%time\n",
    "if not os.path.exists(path_run):\n",
    "  os.makedirs(path_run)\n",
    "  print('pasta criada!')\n",
    "else:\n",
    "  print('pasta já existia!')\n"
   ]
  },
  {
   "cell_type": "code",
   "execution_count": 128,
   "metadata": {},
   "outputs": [],
   "source": [
    "num_max_hits = 1000"
   ]
  },
  {
   "cell_type": "code",
   "execution_count": 129,
   "metadata": {},
   "outputs": [
    {
     "name": "stdout",
     "output_type": "stream",
     "text": [
      "Running 50 queries in total\n"
     ]
    },
    {
     "name": "stderr",
     "output_type": "stream",
     "text": [
      "Running Queries: 100%|██████████| 50/50 [00:02<00:00, 24.27it/s]"
     ]
    },
    {
     "name": "stdout",
     "output_type": "stream",
     "text": [
      "CPU times: user 2.16 s, sys: 61.9 ms, total: 2.22 s\n",
      "Wall time: 2.06 s\n"
     ]
    },
    {
     "name": "stderr",
     "output_type": "stream",
     "text": [
      "\n"
     ]
    }
   ],
   "source": [
    "%%time\n",
    "run_all_queries(path_run_com_expansao, topics, searcher, num_max_hits)"
   ]
  },
  {
   "cell_type": "code",
   "execution_count": 130,
   "metadata": {
    "id": "x37emunogOAL"
   },
   "outputs": [],
   "source": [
    "assert os.path.exists(path_run_com_expansao), f\"Pasta {path_run_com_expansao} não criada!\""
   ]
  },
  {
   "cell_type": "code",
   "execution_count": 131,
   "metadata": {
    "colab": {
     "base_uri": "https://localhost:8080/"
    },
    "id": "bkpqRcVwneUh",
    "outputId": "36268899-9067-485a-eb3d-0f4c32f03ebc"
   },
   "outputs": [
    {
     "name": "stdout",
     "output_type": "stream",
     "text": [
      "44 Q0 xfjexm5b 1 12.792300 ComExpansao\n",
      "44 Q0 ihyj9fpi 2 11.962600 ComExpansao\n",
      "44 Q0 d6w8fu3b 3 11.815900 ComExpansao\n",
      "44 Q0 zwyueevh 4 11.574700 ComExpansao\n",
      "44 Q0 5cm6122n 5 11.571500 ComExpansao\n",
      "44 Q0 2zkesall 6 11.436500 ComExpansao\n",
      "44 Q0 28utunid 7 11.353400 ComExpansao\n",
      "44 Q0 qi1henyy 8 11.329500 ComExpansao\n",
      "44 Q0 b2yalnrx 9 11.231800 ComExpansao\n",
      "44 Q0 cenc2u15 10 11.217900 ComExpansao\n"
     ]
    }
   ],
   "source": [
    "!head {path_run_com_expansao}"
   ]
  },
  {
   "attachments": {},
   "cell_type": "markdown",
   "metadata": {},
   "source": [
    "# Calculando métricas"
   ]
  },
  {
   "cell_type": "code",
   "execution_count": 132,
   "metadata": {},
   "outputs": [],
   "source": [
    "run = pd.read_csv(f\"{path_run_com_expansao}\", sep=\"\\s+\", \n",
    "                  names=[\"query\", \"q0\", \"docid\", \"rank\", \"score\", \"system\"])"
   ]
  },
  {
   "cell_type": "code",
   "execution_count": 133,
   "metadata": {},
   "outputs": [
    {
     "data": {
      "text/html": [
       "<div>\n",
       "<style scoped>\n",
       "    .dataframe tbody tr th:only-of-type {\n",
       "        vertical-align: middle;\n",
       "    }\n",
       "\n",
       "    .dataframe tbody tr th {\n",
       "        vertical-align: top;\n",
       "    }\n",
       "\n",
       "    .dataframe thead th {\n",
       "        text-align: right;\n",
       "    }\n",
       "</style>\n",
       "<table border=\"1\" class=\"dataframe\">\n",
       "  <thead>\n",
       "    <tr style=\"text-align: right;\">\n",
       "      <th></th>\n",
       "      <th>query</th>\n",
       "      <th>q0</th>\n",
       "      <th>docid</th>\n",
       "      <th>rank</th>\n",
       "      <th>score</th>\n",
       "      <th>system</th>\n",
       "    </tr>\n",
       "  </thead>\n",
       "  <tbody>\n",
       "    <tr>\n",
       "      <th>0</th>\n",
       "      <td>44</td>\n",
       "      <td>Q0</td>\n",
       "      <td>xfjexm5b</td>\n",
       "      <td>1</td>\n",
       "      <td>12.7923</td>\n",
       "      <td>ComExpansao</td>\n",
       "    </tr>\n",
       "    <tr>\n",
       "      <th>1</th>\n",
       "      <td>44</td>\n",
       "      <td>Q0</td>\n",
       "      <td>ihyj9fpi</td>\n",
       "      <td>2</td>\n",
       "      <td>11.9626</td>\n",
       "      <td>ComExpansao</td>\n",
       "    </tr>\n",
       "    <tr>\n",
       "      <th>2</th>\n",
       "      <td>44</td>\n",
       "      <td>Q0</td>\n",
       "      <td>d6w8fu3b</td>\n",
       "      <td>3</td>\n",
       "      <td>11.8159</td>\n",
       "      <td>ComExpansao</td>\n",
       "    </tr>\n",
       "    <tr>\n",
       "      <th>3</th>\n",
       "      <td>44</td>\n",
       "      <td>Q0</td>\n",
       "      <td>zwyueevh</td>\n",
       "      <td>4</td>\n",
       "      <td>11.5747</td>\n",
       "      <td>ComExpansao</td>\n",
       "    </tr>\n",
       "    <tr>\n",
       "      <th>4</th>\n",
       "      <td>44</td>\n",
       "      <td>Q0</td>\n",
       "      <td>5cm6122n</td>\n",
       "      <td>5</td>\n",
       "      <td>11.5715</td>\n",
       "      <td>ComExpansao</td>\n",
       "    </tr>\n",
       "  </tbody>\n",
       "</table>\n",
       "</div>"
      ],
      "text/plain": [
       "   query  q0     docid  rank    score       system\n",
       "0     44  Q0  xfjexm5b     1  12.7923  ComExpansao\n",
       "1     44  Q0  ihyj9fpi     2  11.9626  ComExpansao\n",
       "2     44  Q0  d6w8fu3b     3  11.8159  ComExpansao\n",
       "3     44  Q0  zwyueevh     4  11.5747  ComExpansao\n",
       "4     44  Q0  5cm6122n     5  11.5715  ComExpansao"
      ]
     },
     "execution_count": 133,
     "metadata": {},
     "output_type": "execute_result"
    }
   ],
   "source": [
    "run.head()"
   ]
  },
  {
   "cell_type": "code",
   "execution_count": 134,
   "metadata": {},
   "outputs": [],
   "source": [
    "run = run.to_dict(orient=\"list\")"
   ]
  },
  {
   "cell_type": "code",
   "execution_count": 135,
   "metadata": {},
   "outputs": [
    {
     "data": {
      "text/plain": [
       "(44, 'xfjexm5b', 1)"
      ]
     },
     "execution_count": 135,
     "metadata": {},
     "output_type": "execute_result"
    }
   ],
   "source": [
    "run['query'][0], run['docid'][0], run['rank'][0]"
   ]
  },
  {
   "cell_type": "code",
   "execution_count": 136,
   "metadata": {},
   "outputs": [
    {
     "data": {
      "text/plain": [
       "dict_keys(['query', 'q0', 'docid', 'rank', 'score', 'system'])"
      ]
     },
     "execution_count": 136,
     "metadata": {},
     "output_type": "execute_result"
    }
   ],
   "source": [
    "run.keys()"
   ]
  },
  {
   "cell_type": "code",
   "execution_count": 107,
   "metadata": {},
   "outputs": [],
   "source": [
    "from evaluate import load"
   ]
  },
  {
   "cell_type": "code",
   "execution_count": 137,
   "metadata": {},
   "outputs": [],
   "source": [
    "trec_eval = load(\"trec_eval\")"
   ]
  },
  {
   "cell_type": "code",
   "execution_count": 138,
   "metadata": {},
   "outputs": [
    {
     "data": {
      "text/html": [
       "<div>\n",
       "<style scoped>\n",
       "    .dataframe tbody tr th:only-of-type {\n",
       "        vertical-align: middle;\n",
       "    }\n",
       "\n",
       "    .dataframe tbody tr th {\n",
       "        vertical-align: top;\n",
       "    }\n",
       "\n",
       "    .dataframe thead th {\n",
       "        text-align: right;\n",
       "    }\n",
       "</style>\n",
       "<table border=\"1\" class=\"dataframe\">\n",
       "  <thead>\n",
       "    <tr style=\"text-align: right;\">\n",
       "      <th></th>\n",
       "      <th>query</th>\n",
       "      <th>docid</th>\n",
       "      <th>rel</th>\n",
       "      <th>q0</th>\n",
       "    </tr>\n",
       "  </thead>\n",
       "  <tbody>\n",
       "    <tr>\n",
       "      <th>0</th>\n",
       "      <td>1</td>\n",
       "      <td>005b2j4b</td>\n",
       "      <td>2</td>\n",
       "      <td>q0</td>\n",
       "    </tr>\n",
       "    <tr>\n",
       "      <th>1</th>\n",
       "      <td>1</td>\n",
       "      <td>00fmeepz</td>\n",
       "      <td>1</td>\n",
       "      <td>q0</td>\n",
       "    </tr>\n",
       "    <tr>\n",
       "      <th>2</th>\n",
       "      <td>1</td>\n",
       "      <td>g7dhmyyo</td>\n",
       "      <td>2</td>\n",
       "      <td>q0</td>\n",
       "    </tr>\n",
       "    <tr>\n",
       "      <th>3</th>\n",
       "      <td>1</td>\n",
       "      <td>0194oljo</td>\n",
       "      <td>1</td>\n",
       "      <td>q0</td>\n",
       "    </tr>\n",
       "    <tr>\n",
       "      <th>4</th>\n",
       "      <td>1</td>\n",
       "      <td>021q9884</td>\n",
       "      <td>1</td>\n",
       "      <td>q0</td>\n",
       "    </tr>\n",
       "  </tbody>\n",
       "</table>\n",
       "</div>"
      ],
      "text/plain": [
       "   query     docid  rel  q0\n",
       "0      1  005b2j4b    2  q0\n",
       "1      1  00fmeepz    1  q0\n",
       "2      1  g7dhmyyo    2  q0\n",
       "3      1  0194oljo    1  q0\n",
       "4      1  021q9884    1  q0"
      ]
     },
     "execution_count": 138,
     "metadata": {},
     "output_type": "execute_result"
    }
   ],
   "source": [
    "qrel.head()"
   ]
  },
  {
   "cell_type": "code",
   "execution_count": 139,
   "metadata": {},
   "outputs": [],
   "source": [
    "qrel[\"q0\"] = \"q0\"\n",
    "qrel_dict = qrel.to_dict(orient=\"list\")"
   ]
  },
  {
   "cell_type": "code",
   "execution_count": 140,
   "metadata": {},
   "outputs": [
    {
     "data": {
      "text/plain": [
       "(1, '005b2j4b', 2)"
      ]
     },
     "execution_count": 140,
     "metadata": {},
     "output_type": "execute_result"
    }
   ],
   "source": [
    "qrel_dict['query'][0], qrel_dict['docid'][0], qrel_dict['rel'][0]"
   ]
  },
  {
   "cell_type": "code",
   "execution_count": 141,
   "metadata": {},
   "outputs": [],
   "source": [
    "results = trec_eval.compute(predictions=[run], references=[qrel_dict])"
   ]
  },
  {
   "attachments": {},
   "cell_type": "markdown",
   "metadata": {},
   "source": [
    "Resultados:\n",
    "\n",
    "        ndcg@10: 66,4% com todos os documentos (mas com expansão apenas nos com texto)\n",
    "        ndcg@10: 64,39% com apenas os documentos com texto expandido no índice\n",
    "        ndcg@10: 61,5% com todos os documentos expandidos (seja do texto, seja do title)"
   ]
  },
  {
   "attachments": {},
   "cell_type": "markdown",
   "metadata": {},
   "source": [
    "ndcg@10: 66,4% com todos os documentos (mas com expansão apenas nos com texto)"
   ]
  },
  {
   "cell_type": "code",
   "execution_count": null,
   "metadata": {},
   "outputs": [
    {
     "data": {
      "text/plain": [
       "{'runid': 'ComExpansao',\n",
       " 'num_ret': 50000,\n",
       " 'num_rel': 24673,\n",
       " 'num_rel_ret': 9994,\n",
       " 'num_q': 50,\n",
       " 'map': 0.19839799878460124,\n",
       " 'gm_map': 0.13903258902331478,\n",
       " 'bpref': 0.34394252858331353,\n",
       " 'Rprec': 0.29468011493155,\n",
       " 'recip_rank': 0.8966666666666667,\n",
       " 'P@5': 0.708,\n",
       " 'P@10': 0.664,\n",
       " 'P@15': 0.6493333333333335,\n",
       " 'P@20': 0.6369999999999999,\n",
       " 'P@30': 0.6073333333333333,\n",
       " 'P@100': 0.48760000000000003,\n",
       " 'P@200': 0.40149999999999997,\n",
       " 'P@500': 0.28624,\n",
       " 'P@1000': 0.19988,\n",
       " 'NDCG@5': 0.6633977345833243,\n",
       " 'NDCG@10': 0.6150074260089573,\n",
       " 'NDCG@15': 0.5988840533590788,\n",
       " 'NDCG@20': 0.5821469114168832,\n",
       " 'NDCG@30': 0.5552191954757941,\n",
       " 'NDCG@100': 0.45805893820459004,\n",
       " 'NDCG@200': 0.3945725313299633,\n",
       " 'NDCG@500': 0.3711874011972914,\n",
       " 'NDCG@1000': 0.42390065206749156}"
      ]
     },
     "metadata": {},
     "output_type": "display_data"
    }
   ],
   "source": [
    "results"
   ]
  },
  {
   "attachments": {},
   "cell_type": "markdown",
   "metadata": {},
   "source": [
    "ndcg@10: 64,39% com apenas os documentos com texto expandido no índice"
   ]
  },
  {
   "cell_type": "code",
   "execution_count": 142,
   "metadata": {},
   "outputs": [
    {
     "data": {
      "text/plain": [
       "{'runid': 'ComExpansao',\n",
       " 'num_ret': 50000,\n",
       " 'num_rel': 24673,\n",
       " 'num_rel_ret': 9772,\n",
       " 'num_q': 50,\n",
       " 'map': 0.19273438064173107,\n",
       " 'gm_map': 0.1387019248126997,\n",
       " 'bpref': 0.33477383683640133,\n",
       " 'Rprec': 0.29335170022334883,\n",
       " 'recip_rank': 0.9066666666666667,\n",
       " 'P@5': 0.72,\n",
       " 'P@10': 0.674,\n",
       " 'P@15': 0.6439999999999999,\n",
       " 'P@20': 0.632,\n",
       " 'P@30': 0.604,\n",
       " 'P@100': 0.494,\n",
       " 'P@200': 0.40449999999999997,\n",
       " 'P@500': 0.28256,\n",
       " 'P@1000': 0.19544,\n",
       " 'NDCG@5': 0.673303285278764,\n",
       " 'NDCG@10': 0.624451187564097,\n",
       " 'NDCG@15': 0.5945089612849035,\n",
       " 'NDCG@20': 0.5793756183962986,\n",
       " 'NDCG@30': 0.5523891856158754,\n",
       " 'NDCG@100': 0.46256019710155855,\n",
       " 'NDCG@200': 0.39741418129986095,\n",
       " 'NDCG@500': 0.366410494754734,\n",
       " 'NDCG@1000': 0.41412060873701345}"
      ]
     },
     "execution_count": 142,
     "metadata": {},
     "output_type": "execute_result"
    }
   ],
   "source": [
    "results"
   ]
  },
  {
   "attachments": {},
   "cell_type": "markdown",
   "metadata": {},
   "source": [
    "ndcg@10: 61,5% com todos os documentos (com e sem texto)"
   ]
  },
  {
   "cell_type": "code",
   "execution_count": null,
   "metadata": {},
   "outputs": [
    {
     "data": {
      "text/plain": [
       "{'runid': 'ComExpansao',\n",
       " 'num_ret': 50000,\n",
       " 'num_rel': 24673,\n",
       " 'num_rel_ret': 10086,\n",
       " 'num_q': 50,\n",
       " 'map': 0.20161615245732417,\n",
       " 'gm_map': 0.14030842775589514,\n",
       " 'bpref': 0.3475260256531407,\n",
       " 'Rprec': 0.29795822037524966,\n",
       " 'recip_rank': 0.8858333333333335,\n",
       " 'P@5': 0.7120000000000001,\n",
       " 'P@10': 0.66,\n",
       " 'P@15': 0.636,\n",
       " 'P@20': 0.628,\n",
       " 'P@30': 0.5933333333333333,\n",
       " 'P@100': 0.49080000000000007,\n",
       " 'P@200': 0.40519999999999995,\n",
       " 'P@500': 0.28804,\n",
       " 'P@1000': 0.20172000000000004,\n",
       " 'NDCG@5': 0.665883536449219,\n",
       " 'NDCG@10': 0.6154165482614988,\n",
       " 'NDCG@15': 0.5924465108102263,\n",
       " 'NDCG@20': 0.5779014712934913,\n",
       " 'NDCG@30': 0.5460710909772548,\n",
       " 'NDCG@100': 0.46035578744806105,\n",
       " 'NDCG@200': 0.39789330917345794,\n",
       " 'NDCG@500': 0.3739604199086901,\n",
       " 'NDCG@1000': 0.42708093410037584}"
      ]
     },
     "metadata": {},
     "output_type": "display_data"
    }
   ],
   "source": [
    "results"
   ]
  },
  {
   "cell_type": "code",
   "execution_count": null,
   "metadata": {},
   "outputs": [],
   "source": []
  }
 ],
 "metadata": {
  "kernelspec": {
   "display_name": "treinapython39",
   "language": "python",
   "name": "python3"
  },
  "language_info": {
   "codemirror_mode": {
    "name": "ipython",
    "version": 3
   },
   "file_extension": ".py",
   "mimetype": "text/x-python",
   "name": "python",
   "nbconvert_exporter": "python",
   "pygments_lexer": "ipython3",
   "version": "3.9.16"
  },
  "orig_nbformat": 4,
  "vscode": {
   "interpreter": {
    "hash": "e431eb1d856c426fade2a694f8536bd46c4e9c4bd47cb4afd3fb4d2c61122b03"
   }
  }
 },
 "nbformat": 4,
 "nbformat_minor": 2
}
