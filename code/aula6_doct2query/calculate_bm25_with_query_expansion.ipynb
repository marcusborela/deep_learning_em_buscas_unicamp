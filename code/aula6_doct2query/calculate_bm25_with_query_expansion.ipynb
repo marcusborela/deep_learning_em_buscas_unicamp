{
 "cells": [
  {
   "attachments": {},
   "cell_type": "markdown",
   "metadata": {},
   "source": [
    "# Aula6 - Doc2Query\n",
    "\n",
    "[Unicamp - IA368DD: Deep Learning aplicado a sistemas de busca.](https://www.cpg.feec.unicamp.br/cpg/lista/caderno_horario_show.php?id=1779)\n",
    "\n",
    "Autor: Marcus Vinícius Borela de Castro\n",
    "\n",
    "[Repositório no github](https://github.com/marcusborela/deep_learning_em_buscas_unicamp)\n",
    "\n",
    "Stage: calculating metrics after expanding texts with queries "
   ]
  },
  {
   "attachments": {},
   "cell_type": "markdown",
   "metadata": {},
   "source": [
    "# Organizando o ambiente"
   ]
  },
  {
   "cell_type": "code",
   "execution_count": 1,
   "metadata": {},
   "outputs": [],
   "source": [
    "import pickle"
   ]
  },
  {
   "cell_type": "code",
   "execution_count": 2,
   "metadata": {},
   "outputs": [],
   "source": [
    "import json"
   ]
  },
  {
   "cell_type": "code",
   "execution_count": 3,
   "metadata": {},
   "outputs": [],
   "source": [
    "import pandas as pd"
   ]
  },
  {
   "cell_type": "code",
   "execution_count": 4,
   "metadata": {},
   "outputs": [],
   "source": [
    "DIRETORIO_TRABALHO = '/home/borela/fontes/deep_learning_em_buscas_unicamp/local/doc2query'"
   ]
  },
  {
   "cell_type": "code",
   "execution_count": 5,
   "metadata": {},
   "outputs": [],
   "source": [
    "assert os.path.exists(DIRETORIO_TRABALHO), f\"Path para {DIRETORIO_TRABALHO} não existe!\""
   ]
  },
  {
   "cell_type": "code",
   "execution_count": 6,
   "metadata": {},
   "outputs": [],
   "source": [
    "import os"
   ]
  },
  {
   "attachments": {},
   "cell_type": "markdown",
   "metadata": {},
   "source": [
    "export JVM_PATH=/usr/lib/jvm/java-11-openjdk-amd64/lib/server/libjvm.so\n",
    "export JAVA_HOME=/usr/lib/jvm/java-11-openjdk-amd64"
   ]
  },
  {
   "cell_type": "code",
   "execution_count": 7,
   "metadata": {},
   "outputs": [],
   "source": [
    "os.environ['JVM_PATH'] = '/usr/lib/jvm/java-11-openjdk-amd64/lib/server/libjvm.so'\n",
    "os.environ['JAVA_HOME'] = '/usr/lib/jvm/java-11-openjdk-amd64'"
   ]
  },
  {
   "cell_type": "code",
   "execution_count": 8,
   "metadata": {},
   "outputs": [
    {
     "name": "stderr",
     "output_type": "stream",
     "text": [
      "/home/borela/miniconda3/envs/treinapython39/lib/python3.9/site-packages/tqdm/auto.py:21: TqdmWarning: IProgress not found. Please update jupyter and ipywidgets. See https://ipywidgets.readthedocs.io/en/stable/user_install.html\n",
      "  from .autonotebook import tqdm as notebook_tqdm\n"
     ]
    }
   ],
   "source": [
    "from pyserini.search.lucene import LuceneSearcher"
   ]
  },
  {
   "attachments": {},
   "cell_type": "markdown",
   "metadata": {},
   "source": [
    "# Baixando os dados e preparando para avaliação "
   ]
  },
  {
   "attachments": {},
   "cell_type": "markdown",
   "metadata": {},
   "source": [
    "## Queries"
   ]
  },
  {
   "cell_type": "code",
   "execution_count": 9,
   "metadata": {},
   "outputs": [],
   "source": [
    "from pyserini.search import get_topics"
   ]
  },
  {
   "cell_type": "code",
   "execution_count": 10,
   "metadata": {},
   "outputs": [
    {
     "name": "stdout",
     "output_type": "stream",
     "text": [
      "50 queries total\n"
     ]
    }
   ],
   "source": [
    "topics = get_topics('covid-round5')\n",
    "print(f'{len(topics)} queries total')"
   ]
  },
  {
   "cell_type": "code",
   "execution_count": 11,
   "metadata": {},
   "outputs": [
    {
     "data": {
      "text/plain": [
       "{'question': 'what is known about an mRNA vaccine for the SARS-CoV-2 virus?',\n",
       " 'query': 'mRNA vaccine coronavirus',\n",
       " 'narrative': 'Looking for studies specifically focusing on mRNA vaccines for COVID-19, including how mRNA vaccines work, why they are promising, and any results from actual clinical studies.'}"
      ]
     },
     "execution_count": 11,
     "metadata": {},
     "output_type": "execute_result"
    }
   ],
   "source": [
    "topics[50]"
   ]
  },
  {
   "attachments": {},
   "cell_type": "markdown",
   "metadata": {},
   "source": [
    "## Relevância (qrel) de teste"
   ]
  },
  {
   "cell_type": "code",
   "execution_count": 12,
   "metadata": {},
   "outputs": [],
   "source": [
    "if not os.path.exists(f'{DIRETORIO_TRABALHO}/test.tsv'):\n",
    "    !wget https://huggingface.co/datasets/BeIR/trec-covid-qrels/raw/main/test.tsv\n",
    "    !mv test.tsv {DIRETORIO_TRABALHO}/"
   ]
  },
  {
   "cell_type": "code",
   "execution_count": 13,
   "metadata": {},
   "outputs": [],
   "source": [
    "qrel = pd.read_csv(f\"{DIRETORIO_TRABALHO}/test.tsv\", sep=\"\\t\", header=None, \n",
    "                   skiprows=1, names=[\"query\", \"docid\", \"rel\"])"
   ]
  },
  {
   "cell_type": "code",
   "execution_count": 14,
   "metadata": {},
   "outputs": [
    {
     "data": {
      "text/html": [
       "<div>\n",
       "<style scoped>\n",
       "    .dataframe tbody tr th:only-of-type {\n",
       "        vertical-align: middle;\n",
       "    }\n",
       "\n",
       "    .dataframe tbody tr th {\n",
       "        vertical-align: top;\n",
       "    }\n",
       "\n",
       "    .dataframe thead th {\n",
       "        text-align: right;\n",
       "    }\n",
       "</style>\n",
       "<table border=\"1\" class=\"dataframe\">\n",
       "  <thead>\n",
       "    <tr style=\"text-align: right;\">\n",
       "      <th></th>\n",
       "      <th>query</th>\n",
       "      <th>docid</th>\n",
       "      <th>rel</th>\n",
       "    </tr>\n",
       "  </thead>\n",
       "  <tbody>\n",
       "    <tr>\n",
       "      <th>0</th>\n",
       "      <td>1</td>\n",
       "      <td>005b2j4b</td>\n",
       "      <td>2</td>\n",
       "    </tr>\n",
       "    <tr>\n",
       "      <th>1</th>\n",
       "      <td>1</td>\n",
       "      <td>00fmeepz</td>\n",
       "      <td>1</td>\n",
       "    </tr>\n",
       "    <tr>\n",
       "      <th>2</th>\n",
       "      <td>1</td>\n",
       "      <td>g7dhmyyo</td>\n",
       "      <td>2</td>\n",
       "    </tr>\n",
       "    <tr>\n",
       "      <th>3</th>\n",
       "      <td>1</td>\n",
       "      <td>0194oljo</td>\n",
       "      <td>1</td>\n",
       "    </tr>\n",
       "    <tr>\n",
       "      <th>4</th>\n",
       "      <td>1</td>\n",
       "      <td>021q9884</td>\n",
       "      <td>1</td>\n",
       "    </tr>\n",
       "  </tbody>\n",
       "</table>\n",
       "</div>"
      ],
      "text/plain": [
       "   query     docid  rel\n",
       "0      1  005b2j4b    2\n",
       "1      1  00fmeepz    1\n",
       "2      1  g7dhmyyo    2\n",
       "3      1  0194oljo    1\n",
       "4      1  021q9884    1"
      ]
     },
     "execution_count": 14,
     "metadata": {},
     "output_type": "execute_result"
    }
   ],
   "source": [
    "qrel.head()"
   ]
  },
  {
   "cell_type": "code",
   "execution_count": 15,
   "metadata": {
    "id": "4AJiH6lQQHc5"
   },
   "outputs": [],
   "source": [
    "from tqdm import tqdm"
   ]
  },
  {
   "cell_type": "code",
   "execution_count": 16,
   "metadata": {},
   "outputs": [
    {
     "data": {
      "text/html": [
       "<div>\n",
       "<style scoped>\n",
       "    .dataframe tbody tr th:only-of-type {\n",
       "        vertical-align: middle;\n",
       "    }\n",
       "\n",
       "    .dataframe tbody tr th {\n",
       "        vertical-align: top;\n",
       "    }\n",
       "\n",
       "    .dataframe thead th {\n",
       "        text-align: right;\n",
       "    }\n",
       "</style>\n",
       "<table border=\"1\" class=\"dataframe\">\n",
       "  <thead>\n",
       "    <tr style=\"text-align: right;\">\n",
       "      <th></th>\n",
       "      <th>query</th>\n",
       "      <th>docid</th>\n",
       "      <th>rel</th>\n",
       "    </tr>\n",
       "  </thead>\n",
       "  <tbody>\n",
       "    <tr>\n",
       "      <th>0</th>\n",
       "      <td>1</td>\n",
       "      <td>005b2j4b</td>\n",
       "      <td>2</td>\n",
       "    </tr>\n",
       "    <tr>\n",
       "      <th>1</th>\n",
       "      <td>1</td>\n",
       "      <td>00fmeepz</td>\n",
       "      <td>1</td>\n",
       "    </tr>\n",
       "    <tr>\n",
       "      <th>2</th>\n",
       "      <td>1</td>\n",
       "      <td>g7dhmyyo</td>\n",
       "      <td>2</td>\n",
       "    </tr>\n",
       "    <tr>\n",
       "      <th>3</th>\n",
       "      <td>1</td>\n",
       "      <td>0194oljo</td>\n",
       "      <td>1</td>\n",
       "    </tr>\n",
       "    <tr>\n",
       "      <th>4</th>\n",
       "      <td>1</td>\n",
       "      <td>021q9884</td>\n",
       "      <td>1</td>\n",
       "    </tr>\n",
       "  </tbody>\n",
       "</table>\n",
       "</div>"
      ],
      "text/plain": [
       "   query     docid  rel\n",
       "0      1  005b2j4b    2\n",
       "1      1  00fmeepz    1\n",
       "2      1  g7dhmyyo    2\n",
       "3      1  0194oljo    1\n",
       "4      1  021q9884    1"
      ]
     },
     "execution_count": 16,
     "metadata": {},
     "output_type": "execute_result"
    }
   ],
   "source": [
    "qrel.head()"
   ]
  },
  {
   "cell_type": "code",
   "execution_count": 17,
   "metadata": {},
   "outputs": [],
   "source": [
    "qrel[\"q0\"] = \"q0\"\n",
    "qrel_dict = qrel.to_dict(orient=\"list\")"
   ]
  },
  {
   "cell_type": "code",
   "execution_count": 18,
   "metadata": {},
   "outputs": [
    {
     "data": {
      "text/plain": [
       "(1, '005b2j4b', 2)"
      ]
     },
     "execution_count": 18,
     "metadata": {},
     "output_type": "execute_result"
    }
   ],
   "source": [
    "qrel_dict['query'][0], qrel_dict['docid'][0], qrel_dict['rel'][0]"
   ]
  },
  {
   "cell_type": "code",
   "execution_count": 19,
   "metadata": {
    "id": "dUJuMaOKPmoZ"
   },
   "outputs": [],
   "source": [
    "# Run all queries in topics, retrive top 1k for each query\n",
    "def run_all_queries(file, topics, searcher, num_max_hits=100):\n",
    "  \"\"\"\n",
    "  A função run_all_queries é responsável por realizar todas as consultas armazenadas no dicionário topics utilizando o objeto searcher fornecido e salvar os resultados em um arquivo de texto.\n",
    "  Usada no notebook da aula 2\n",
    "\n",
    "  Parâmetros:\n",
    "\n",
    "  file: caminho do arquivo de saída onde serão salvos os resultados das consultas.\n",
    "  topics: dicionário contendo as consultas a serem executadas. Cada consulta é representada por uma chave única no dicionário. O valor correspondente a cada chave é um outro dicionário contendo as informações da consulta, como seu título e outras informações relevantes.\n",
    "  searcher: objeto do tipo Searcher que será utilizado para realizar as consultas.\n",
    "  num_max_hits: número máximo de documentos relevantes que serão retornados para cada consulta.\n",
    "  Retorno:\n",
    "\n",
    "  A função não retorna nenhum valor, mas salva os resultados das consultas no arquivo especificado em file.\n",
    "  Comentário:\n",
    "\n",
    "  A função usa a biblioteca tqdm para exibir uma barra de progresso enquanto executa as consultas.\n",
    "  O número de consultas concluídas é impresso a cada 100 consultas.\n",
    "  \"\"\"\n",
    "  print(f'Running {len(topics)} queries in total')\n",
    "  with open(file, 'w') as runfile:\n",
    "    cnt = 0\n",
    "    # for id in tqdm(topics, desc='Running Queries'):\n",
    "    for id in topics:\n",
    "        # print(f'id = {id}')\n",
    "        query = topics[id]['question']\n",
    "        # print(f'query = {query}')\n",
    "\n",
    "        hits = searcher.search(query, num_max_hits)\n",
    "        for i in range(0, len(hits)):\n",
    "            _ = runfile.write(f'{id} Q0 {hits[i].docid} {i+1} {hits[i].score:.6f} ComExpansao\\n')\n",
    "            # = runfile.write('{} Q0 {} {} {:.6f} Pyserini\\n'.format(id, hits[i].docid, i+1, hits[i].score))\n",
    "        cnt += 1\n",
    "        if cnt % 100 == 0:\n",
    "            print(f'{cnt} queries completed')\n"
   ]
  },
  {
   "attachments": {},
   "cell_type": "markdown",
   "metadata": {},
   "source": [
    "# Carregando os dados a serem indexados"
   ]
  },
  {
   "cell_type": "code",
   "execution_count": 20,
   "metadata": {},
   "outputs": [],
   "source": [
    "with open(f\"{DIRETORIO_TRABALHO}/trec-covid-corpus-sem-texto-sem-queries.pickle\", \"rb\") as f:\n",
    "  corpus_sem_texto_sem_expansao = pickle.load(f)"
   ]
  },
  {
   "cell_type": "code",
   "execution_count": 21,
   "metadata": {},
   "outputs": [],
   "source": [
    "with open(f\"{DIRETORIO_TRABALHO}/trec-covid-corpus-sem-texto.pickle\", \"rb\") as f:\n",
    "  corpus_sem_texto_com_expansao_10_queries_bleu_1990 = pickle.load(f)"
   ]
  },
  {
   "cell_type": "code",
   "execution_count": 22,
   "metadata": {},
   "outputs": [],
   "source": [
    "with open(f\"{DIRETORIO_TRABALHO}/trec-covid-corpus-com-texto-com-10queries.pickle\", \"rb\") as f:\n",
    "  corpus_com_texto_expansao_10_queries_bleu_201 = pickle.load(f)"
   ]
  },
  {
   "cell_type": "code",
   "execution_count": 23,
   "metadata": {},
   "outputs": [],
   "source": [
    "with open(f\"{DIRETORIO_TRABALHO}/trec-covid-corpus-com-texto.pickle\", \"rb\") as f:\n",
    "  corpus_com_texto_expansao_5_queries_bleu_1990 = pickle.load(f)"
   ]
  },
  {
   "attachments": {},
   "cell_type": "markdown",
   "metadata": {},
   "source": [
    "# Visualizando os dados a serem usados"
   ]
  },
  {
   "cell_type": "code",
   "execution_count": 24,
   "metadata": {},
   "outputs": [],
   "source": [
    "dict_corpus = {\n",
    "    \"corpus_com_texto_expansao_5_queries_bleu_1990\" : corpus_com_texto_expansao_5_queries_bleu_1990,\n",
    "    \"corpus_sem_texto_com_expansao_10_queries_bleu_1990\" : corpus_sem_texto_com_expansao_10_queries_bleu_1990,\n",
    "    \"corpus_com_texto_expansao_10_queries_bleu_201\" : corpus_com_texto_expansao_10_queries_bleu_201,\n",
    "    \"corpus_sem_texto_sem_expansao\" : corpus_sem_texto_sem_expansao,\n",
    "\n",
    "}"
   ]
  },
  {
   "cell_type": "code",
   "execution_count": 25,
   "metadata": {},
   "outputs": [
    {
     "name": "stdout",
     "output_type": "stream",
     "text": [
      "Visualizando quantitativos\n",
      "\n",
      "corpus_com_texto_expansao_5_queries_bleu_1990\n",
      "129192\n",
      "\n",
      "corpus_sem_texto_com_expansao_10_queries_bleu_1990\n",
      "42140\n",
      "\n",
      "corpus_com_texto_expansao_10_queries_bleu_211\n",
      "129192\n",
      "\n",
      "corpus_sem_texto_sem_expansao\n",
      "42140\n",
      "\n"
     ]
    }
   ],
   "source": [
    "print(f\"Visualizando quantitativos\")\n",
    "print('')\n",
    "for corpus in dict_corpus:\n",
    "    print(f\"{corpus}\")\n",
    "    print(len(dict_corpus[corpus]))\n",
    "    print('')"
   ]
  },
  {
   "cell_type": "code",
   "execution_count": 26,
   "metadata": {},
   "outputs": [
    {
     "name": "stdout",
     "output_type": "stream",
     "text": [
      "Visualizando 5o registro\n",
      "\n",
      "corpus_com_texto_expansao_5_queries_bleu_1990\n",
      "{'_id': 'zjufx4fo', 'title': 'Sequence requirements for RNA strand transfer during nidovirus discontinuous subgenomic RNA synthesis', 'text': 'Nidovirus subgenomic mRNAs contain a leader sequence derived from the 5′ end of the genome fused to different sequences (‘bodies’) derived from the 3′ end. Their generation involves a unique mechanism of discontinuous subgenomic RNA synthesis that resembles copy-choice RNA recombination. During this process, the nascent RNA strand is transferred from one site in the template to another, during either plus or minus strand synthesis, to yield subgenomic RNA molecules. Central to this process are transcription-regulating sequences (TRSs), which are present at both template sites and ensure the fidelity of strand transfer. Here we present results of a comprehensive co-variation mutagenesis study of equine arteritis virus TRSs, demonstrating that discontinuous RNA synthesis depends not only on base pairing between sense leader TRS and antisense body TRS, but also on the primary sequence of the body TRS. While the leader TRS merely plays a targeting role for strand transfer, the body TRS fulfils multiple functions. The sequences of mRNA leader–body junctions of TRS mutants strongly suggested that the discontinuous step occurs during minus strand synthesis.', 'metadata': {'url': 'http://europepmc.org/articles/pmc125340?pdf=render', 'pubmed_id': '11742998'}, 'texto_gerado': 'nascent synthesis definition; nascent analysis of human dna; nascent analysis of dna; nascent mRNA definition', 'qtd_texto_gerado': 4}\n",
      "\n",
      "corpus_sem_texto_com_expansao_10_queries_bleu_1990\n",
      "{'_id': 'kvztcwu2', 'title': 'Clinical Vignettes', 'text': '', 'metadata': {'url': 'https://www.ncbi.nlm.nih.gov/pmc/articles/PMC1495316/', 'pubmed_id': '11357836'}, 'texto_gerado': 'is clinicalvignettes a sign of; are clinicalvignettes treated; clinicalvignettes; are clinicalvignettes considered clinical; are clinicalvignettes; are clinical vignettes; is clinicalvignettes an important factor; are clinicalvignettes an active lifestyle; are clinicalvignettes an accident', 'qtd_texto_gerado': 9}\n",
      "\n",
      "corpus_com_texto_expansao_10_queries_bleu_211\n",
      "{'_id': 'zjufx4fo', 'title': 'Sequence requirements for RNA strand transfer during nidovirus discontinuous subgenomic RNA synthesis', 'text': 'Nidovirus subgenomic mRNAs contain a leader sequence derived from the 5′ end of the genome fused to different sequences (‘bodies’) derived from the 3′ end. Their generation involves a unique mechanism of discontinuous subgenomic RNA synthesis that resembles copy-choice RNA recombination. During this process, the nascent RNA strand is transferred from one site in the template to another, during either plus or minus strand synthesis, to yield subgenomic RNA molecules. Central to this process are transcription-regulating sequences (TRSs), which are present at both template sites and ensure the fidelity of strand transfer. Here we present results of a comprehensive co-variation mutagenesis study of equine arteritis virus TRSs, demonstrating that discontinuous RNA synthesis depends not only on base pairing between sense leader TRS and antisense body TRS, but also on the primary sequence of the body TRS. While the leader TRS merely plays a targeting role for strand transfer, the body TRS fulfils multiple functions. The sequences of mRNA leader–body junctions of TRS mutants strongly suggested that the discontinuous step occurs during minus strand synthesis.', 'metadata': {'url': 'http://europepmc.org/articles/pmc125340?pdf=render', 'pubmed_id': '11742998'}, 'texto_gerado': 'what is the genotype of nascent; __________ is a process that involves the movement of dna; what is the genotype of drs; why does nascent synthesis occur; explain the process of rs in your own words; explain the process of rsvating RNA replication; what is the genotype of a rna; explain the process by which dna is processed; what is the genotype of dna; explain the process of drs in your own words', 'qtd_texto_gerado': 10}\n",
      "\n",
      "corpus_sem_texto_sem_expansao\n",
      "{'_id': 'kvztcwu2', 'title': 'Clinical Vignettes', 'text': '', 'metadata': {'url': 'https://www.ncbi.nlm.nih.gov/pmc/articles/PMC1495316/', 'pubmed_id': '11357836'}}\n",
      "\n"
     ]
    }
   ],
   "source": [
    "print(f\"Visualizando 5o registro\")\n",
    "print('')\n",
    "for corpus in dict_corpus:\n",
    "    print(f\"{corpus}\")\n",
    "    print(dict_corpus[corpus][5])\n",
    "    print('')"
   ]
  },
  {
   "cell_type": "code",
   "execution_count": 27,
   "metadata": {},
   "outputs": [
    {
     "name": "stdout",
     "output_type": "stream",
     "text": [
      "Visualizando estatísticas\n",
      "\n",
      "corpus_com_texto_expansao_5_queries_bleu_1990\n",
      "count    129192.000000\n",
      "mean          4.072504\n",
      "std           1.317116\n",
      "min           1.000000\n",
      "25%           3.000000\n",
      "50%           5.000000\n",
      "75%           5.000000\n",
      "max           5.000000\n",
      "Name: qtd_texto_gerado, dtype: float64\n",
      "corpus_sem_texto_com_expansao_10_queries_bleu_1990\n",
      "count    42140.000000\n",
      "mean         7.191552\n",
      "std          3.028150\n",
      "min          1.000000\n",
      "25%          5.000000\n",
      "50%          8.000000\n",
      "75%         10.000000\n",
      "max         10.000000\n",
      "Name: qtd_texto_gerado, dtype: float64\n",
      "corpus_com_texto_expansao_10_queries_bleu_211\n",
      "count    129192.000000\n",
      "mean          7.433239\n",
      "std           2.886149\n",
      "min           1.000000\n",
      "25%           5.000000\n",
      "50%           9.000000\n",
      "75%          10.000000\n",
      "max          10.000000\n",
      "Name: qtd_texto_gerado, dtype: float64\n"
     ]
    }
   ],
   "source": [
    "print(f\"Visualizando estatísticas\")\n",
    "print('')\n",
    "for corpus in dict_corpus:\n",
    "    if \"qtd_texto_gerado\" in dict_corpus[corpus][0]:\n",
    "        print(f\"{corpus}\")\n",
    "        df_com_texto = pd.DataFrame(dict_corpus[corpus])['qtd_texto_gerado']\n",
    "        estatisticas = df_com_texto.describe()\n",
    "        print(estatisticas)    \n"
   ]
  },
  {
   "attachments": {},
   "cell_type": "markdown",
   "metadata": {},
   "source": [
    "# Carregando os dados para geração dos índices"
   ]
  },
  {
   "cell_type": "code",
   "execution_count": 28,
   "metadata": {},
   "outputs": [
    {
     "name": "stdout",
     "output_type": "stream",
     "text": [
      "CPU times: user 228 ms, sys: 109 ms, total: 337 ms\n",
      "Wall time: 337 ms\n"
     ]
    }
   ],
   "source": [
    "%%time\n",
    "lista_carga = {}\n",
    "for corpus in dict_corpus:\n",
    "    lista_carga[corpus] = []\n",
    "    for doc in dict_corpus[corpus]:\n",
    "        if 'texto_gerado' in doc: \n",
    "            lista_carga[corpus].append({\"id\": doc['_id'], \"contents\":f\"{doc['title']} {doc['text']} {doc['texto_gerado']}\"})\n",
    "        else:\n",
    "            lista_carga[corpus].append({\"id\": doc['_id'], \"contents\":f\"{doc['title']} \"})\n"
   ]
  },
  {
   "cell_type": "code",
   "execution_count": 29,
   "metadata": {},
   "outputs": [
    {
     "name": "stdout",
     "output_type": "stream",
     "text": [
      " tamanho lista_carga_corpus_com_texto_expansao_5_queries_bleu_1990: 129192\n",
      " tamanho lista_carga_corpus_sem_texto_com_expansao_10_queries_bleu_1990: 42140\n",
      " tamanho lista_carga_corpus_com_texto_expansao_10_queries_bleu_211: 129192\n",
      " tamanho lista_carga_corpus_sem_texto_sem_expansao: 42140\n"
     ]
    }
   ],
   "source": [
    "for corpus in dict_corpus:\n",
    "    print(f\" tamanho lista_carga_{corpus}: {len(lista_carga[corpus])}\")\n"
   ]
  },
  {
   "cell_type": "code",
   "execution_count": 30,
   "metadata": {},
   "outputs": [
    {
     "name": "stdout",
     "output_type": "stream",
     "text": [
      "\n",
      "Corpus corpus_com_texto_expansao_5_queries_bleu_1990 Carga: {'id': 'zjufx4fo', 'contents': 'Sequence requirements for RNA strand transfer during nidovirus discontinuous subgenomic RNA synthesis Nidovirus subgenomic mRNAs contain a leader sequence derived from the 5′ end of the genome fused to different sequences (‘bodies’) derived from the 3′ end. Their generation involves a unique mechanism of discontinuous subgenomic RNA synthesis that resembles copy-choice RNA recombination. During this process, the nascent RNA strand is transferred from one site in the template to another, during either plus or minus strand synthesis, to yield subgenomic RNA molecules. Central to this process are transcription-regulating sequences (TRSs), which are present at both template sites and ensure the fidelity of strand transfer. Here we present results of a comprehensive co-variation mutagenesis study of equine arteritis virus TRSs, demonstrating that discontinuous RNA synthesis depends not only on base pairing between sense leader TRS and antisense body TRS, but also on the primary sequence of the body TRS. While the leader TRS merely plays a targeting role for strand transfer, the body TRS fulfils multiple functions. The sequences of mRNA leader–body junctions of TRS mutants strongly suggested that the discontinuous step occurs during minus strand synthesis. nascent synthesis definition; nascent analysis of human dna; nascent analysis of dna; nascent mRNA definition'}\n",
      "\n",
      "Corpus corpus_sem_texto_com_expansao_10_queries_bleu_1990 Carga: {'id': 'kvztcwu2', 'contents': 'Clinical Vignettes  is clinicalvignettes a sign of; are clinicalvignettes treated; clinicalvignettes; are clinicalvignettes considered clinical; are clinicalvignettes; are clinical vignettes; is clinicalvignettes an important factor; are clinicalvignettes an active lifestyle; are clinicalvignettes an accident'}\n",
      "\n",
      "Corpus corpus_com_texto_expansao_10_queries_bleu_211 Carga: {'id': 'zjufx4fo', 'contents': 'Sequence requirements for RNA strand transfer during nidovirus discontinuous subgenomic RNA synthesis Nidovirus subgenomic mRNAs contain a leader sequence derived from the 5′ end of the genome fused to different sequences (‘bodies’) derived from the 3′ end. Their generation involves a unique mechanism of discontinuous subgenomic RNA synthesis that resembles copy-choice RNA recombination. During this process, the nascent RNA strand is transferred from one site in the template to another, during either plus or minus strand synthesis, to yield subgenomic RNA molecules. Central to this process are transcription-regulating sequences (TRSs), which are present at both template sites and ensure the fidelity of strand transfer. Here we present results of a comprehensive co-variation mutagenesis study of equine arteritis virus TRSs, demonstrating that discontinuous RNA synthesis depends not only on base pairing between sense leader TRS and antisense body TRS, but also on the primary sequence of the body TRS. While the leader TRS merely plays a targeting role for strand transfer, the body TRS fulfils multiple functions. The sequences of mRNA leader–body junctions of TRS mutants strongly suggested that the discontinuous step occurs during minus strand synthesis. what is the genotype of nascent; __________ is a process that involves the movement of dna; what is the genotype of drs; why does nascent synthesis occur; explain the process of rs in your own words; explain the process of rsvating RNA replication; what is the genotype of a rna; explain the process by which dna is processed; what is the genotype of dna; explain the process of drs in your own words'}\n",
      "\n",
      "Corpus corpus_sem_texto_sem_expansao Carga: {'id': 'kvztcwu2', 'contents': 'Clinical Vignettes '}\n"
     ]
    }
   ],
   "source": [
    "for corpus in dict_corpus:\n",
    "    print(f\"\\nCorpus {corpus} Carga: {lista_carga[corpus][5]}\")"
   ]
  },
  {
   "attachments": {},
   "cell_type": "markdown",
   "metadata": {},
   "source": [
    "# Experimentos"
   ]
  },
  {
   "cell_type": "code",
   "execution_count": 31,
   "metadata": {},
   "outputs": [],
   "source": [
    "from evaluate import load"
   ]
  },
  {
   "cell_type": "code",
   "execution_count": 32,
   "metadata": {},
   "outputs": [],
   "source": [
    "from pyserini.index import IndexReader"
   ]
  },
  {
   "cell_type": "code",
   "execution_count": 33,
   "metadata": {},
   "outputs": [],
   "source": [
    "import shutil"
   ]
  },
  {
   "cell_type": "code",
   "execution_count": 34,
   "metadata": {},
   "outputs": [],
   "source": [
    "trec_eval = load(\"trec_eval\")"
   ]
  },
  {
   "cell_type": "code",
   "execution_count": 45,
   "metadata": {},
   "outputs": [],
   "source": [
    "num_max_hits = 1000"
   ]
  },
  {
   "cell_type": "code",
   "execution_count": 36,
   "metadata": {},
   "outputs": [],
   "source": [
    "caminho_indice_trec_covid_com_expansao = f'{DIRETORIO_TRABALHO}/indexes/trec_covid_expanded'"
   ]
  },
  {
   "cell_type": "code",
   "execution_count": 37,
   "metadata": {
    "id": "zwyzd_W8gOAL"
   },
   "outputs": [],
   "source": [
    "DIRETORIO_RUN = f\"{DIRETORIO_TRABALHO}/runs\"\n",
    "CAMINHO_RUN_COM_EXPANSAO = f\"{DIRETORIO_RUN}/run-trec-covid-expanded-bm25.txt\""
   ]
  },
  {
   "cell_type": "code",
   "execution_count": 40,
   "metadata": {},
   "outputs": [],
   "source": [
    "DIRETORIO_INDICE = f\"{DIRETORIO_TRABALHO}/indexes/trec-covid-expanded-index/\"\n",
    "CAMINHO_INDICE = f\"{DIRETORIO_TRABALHO}/indexes/trec-covid-expanded-index\"\n",
    "DIRETORIO_CARDIN = f\"{DIRETORIO_TRABALHO}/cardin/\"\n",
    "CAMINHO_CARDIN = f\"{DIRETORIO_TRABALHO}/trec-covid-expanded-cardin/trec-covid-expanded.jsonl\"\n"
   ]
  },
  {
   "cell_type": "code",
   "execution_count": 41,
   "metadata": {
    "colab": {
     "base_uri": "https://localhost:8080/"
    },
    "id": "6KSZkPHbgOAL",
    "outputId": "8d021d23-b47f-4c45-9f15-8fe4b888a7e3"
   },
   "outputs": [
    {
     "name": "stdout",
     "output_type": "stream",
     "text": [
      "pasta já existia!\n",
      "CPU times: user 128 µs, sys: 40 µs, total: 168 µs\n",
      "Wall time: 293 µs\n"
     ]
    }
   ],
   "source": [
    "%%time\n",
    "if not os.path.exists(DIRETORIO_RUN):\n",
    "  os.makedirs(DIRETORIO_RUN)\n",
    "  print('pasta criada!')\n",
    "else:\n",
    "  print('pasta já existia!')\n"
   ]
  },
  {
   "cell_type": "code",
   "execution_count": 42,
   "metadata": {
    "colab": {
     "base_uri": "https://localhost:8080/"
    },
    "id": "6KSZkPHbgOAL",
    "outputId": "8d021d23-b47f-4c45-9f15-8fe4b888a7e3"
   },
   "outputs": [
    {
     "name": "stdout",
     "output_type": "stream",
     "text": [
      "pasta criada!\n",
      "CPU times: user 330 µs, sys: 105 µs, total: 435 µs\n",
      "Wall time: 334 µs\n"
     ]
    }
   ],
   "source": [
    "%%time\n",
    "if not os.path.exists(DIRETORIO_INDICE):\n",
    "  os.makedirs(DIRETORIO_INDICE)\n",
    "  print('pasta criada!')\n",
    "else:\n",
    "  print('pasta já existia!')\n"
   ]
  },
  {
   "cell_type": "code",
   "execution_count": 43,
   "metadata": {
    "colab": {
     "base_uri": "https://localhost:8080/"
    },
    "id": "6KSZkPHbgOAL",
    "outputId": "8d021d23-b47f-4c45-9f15-8fe4b888a7e3"
   },
   "outputs": [
    {
     "name": "stdout",
     "output_type": "stream",
     "text": [
      "pasta já existia!\n",
      "CPU times: user 96 µs, sys: 30 µs, total: 126 µs\n",
      "Wall time: 166 µs\n"
     ]
    }
   ],
   "source": [
    "%%time\n",
    "if not os.path.exists(DIRETORIO_CARDIN):\n",
    "  os.makedirs(DIRETORIO_CARDIN)\n",
    "  print('pasta criada!')\n",
    "else:\n",
    "  print('pasta já existia!')\n"
   ]
  },
  {
   "cell_type": "code",
   "execution_count": 44,
   "metadata": {},
   "outputs": [],
   "source": [
    "dict_experimentos = {\n",
    "    \"expansão em documentos com texto de até 5 queries (modelo com BLEU 19.9) e sem expansão em sem texto\": ['corpus_com_texto_expansao_5_queries_bleu_1990', 'corpus_sem_texto_sem_expansao'],\n",
    "    \"expansão em documentos com texto de até 5 queries (modelo com BLEU 19.9) e com expansão em sem texto\": ['corpus_com_texto_expansao_5_queries_bleu_1990', 'corpus_sem_texto_com_expansao_10_queries_bleu_1990'],\n",
    "    \"expansão em documentos com texto de até 5 queries (modelo com BLEU 19.9) e sem documentos sem texto\": ['corpus_com_texto_expansao_5_queries_bleu_1990'],\n",
    "    \"expansão em documentos com texto de até 10 queries (modelo com BLEU 20.1) e sem expansão em sem texto\": ['corpus_com_texto_expansao_10_queries_bleu_201', 'corpus_sem_texto_sem_expansao'],\n",
    "    \"expansão em documentos com texto de até 10 queries (modelo com BLEU 20.1) e com expansão em sem texto\": ['corpus_com_texto_expansao_10_queries_bleu_201', 'corpus_sem_texto_com_expansao_10_queries_bleu_1990'],\n",
    "    \"expansão em documentos com texto de até 10 queries (modelo com BLEU 20.1) e sem documentos sem texto\": ['corpus_com_texto_expansao_10_queries_bleu_201'],\n",
    "}"
   ]
  },
  {
   "cell_type": "code",
   "execution_count": 54,
   "metadata": {},
   "outputs": [
    {
     "name": "stdout",
     "output_type": "stream",
     "text": [
      "\n",
      "Experimento expansão em documentos com texto de até 5 queries (modelo com BLEU 19.9) e sem expansão em sem texto\n",
      "{'total_terms': 22975535, 'documents': 171331, 'non_empty_documents': 171331, 'unique_terms': 233874}\n",
      "Running 50 queries in total\n",
      "   query  q0     docid  rank    score       system\n",
      "0     44  Q0  xfjexm5b     1  12.8608  ComExpansao\n",
      "1     44  Q0  ihyj9fpi     2  12.4281  ComExpansao\n",
      "2     44  Q0  5cm6122n     3  11.9008  ComExpansao\n",
      "3     44  Q0  14x4uqq7     4  11.7633  ComExpansao\n",
      "4     44  Q0  zwyueevh     5  11.6887  ComExpansao\n",
      "NDCG@10: 0.6163398516906394\n",
      "\n",
      "Experimento expansão em documentos com texto de até 5 queries (modelo com BLEU 19.9) e com expansão em sem texto\n",
      "{'total_terms': 24269645, 'documents': 171332, 'non_empty_documents': 171332, 'unique_terms': 257262}\n",
      "Running 50 queries in total\n",
      "   query  q0     docid  rank    score       system\n",
      "0     44  Q0  xfjexm5b     1  12.7865  ComExpansao\n",
      "1     44  Q0  ihyj9fpi     2  12.1623  ComExpansao\n",
      "2     44  Q0  5cm6122n     3  11.8550  ComExpansao\n",
      "3     44  Q0  d6w8fu3b     4  11.5939  ComExpansao\n",
      "4     44  Q0  zwyueevh     5  11.5797  ComExpansao\n",
      "NDCG@10: 0.61741634472764\n",
      "\n",
      "Experimento expansão em documentos com texto de até 5 queries (modelo com BLEU 19.9) e sem documentos sem texto\n",
      "{'total_terms': 22597272, 'documents': 129192, 'non_empty_documents': 129192, 'unique_terms': 229471}\n",
      "Running 50 queries in total\n",
      "   query  q0     docid  rank    score       system\n",
      "0     44  Q0  xfjexm5b     1  12.7726  ComExpansao\n",
      "1     44  Q0  ihyj9fpi     2  11.9512  ComExpansao\n",
      "2     44  Q0  d6w8fu3b     3  11.7906  ComExpansao\n",
      "3     44  Q0  zwyueevh     4  11.5580  ComExpansao\n",
      "4     44  Q0  5cm6122n     5  11.5565  ComExpansao\n",
      "NDCG@10: 0.6230710941215478\n",
      "\n",
      "Experimento expansão em documentos com texto de até 10 queries (modelo com BLEU 21.1) e sem expansão em sem texto\n",
      "{'total_terms': 25102998, 'documents': 171331, 'non_empty_documents': 171331, 'unique_terms': 256804}\n",
      "Running 50 queries in total\n",
      "   query  q0     docid  rank    score       system\n",
      "0     44  Q0  ej76fsxa     1  13.2348  ComExpansao\n",
      "1     44  Q0  xfjexm5b     2  12.8864  ComExpansao\n",
      "2     44  Q0  qi1henyy     3  12.4965  ComExpansao\n",
      "3     44  Q0  zwyueevh     4  12.3822  ComExpansao\n",
      "4     44  Q0  ihyj9fpi     5  12.2304  ComExpansao\n",
      "NDCG@10: 0.6230410853328326\n",
      "\n",
      "Experimento expansão em documentos com texto de até 10 queries (modelo com BLEU 21.1) e com expansão em sem texto\n",
      "{'total_terms': 26397108, 'documents': 171332, 'non_empty_documents': 171332, 'unique_terms': 278906}\n",
      "Running 50 queries in total\n",
      "   query  q0     docid  rank    score       system\n",
      "0     44  Q0  ej76fsxa     1  13.1230  ComExpansao\n",
      "1     44  Q0  xfjexm5b     2  12.8153  ComExpansao\n",
      "2     44  Q0  qi1henyy     3  12.5510  ComExpansao\n",
      "3     44  Q0  zwyueevh     4  12.4344  ComExpansao\n",
      "4     44  Q0  ugkxxaeb     5  12.0417  ComExpansao\n",
      "NDCG@10: 0.6210492783322104\n",
      "\n",
      "Experimento expansão em documentos com texto de até 10 queries (modelo com BLEU 21.1) e sem documentos sem texto\n",
      "{'total_terms': 24724735, 'documents': 129192, 'non_empty_documents': 129192, 'unique_terms': 252425}\n",
      "Running 50 queries in total\n",
      "   query  q0     docid  rank    score       system\n",
      "0     44  Q0  ej76fsxa     1  12.7916  ComExpansao\n",
      "1     44  Q0  xfjexm5b     2  12.6044  ComExpansao\n",
      "2     44  Q0  qi1henyy     3  12.4638  ComExpansao\n",
      "3     44  Q0  zwyueevh     4  12.2188  ComExpansao\n",
      "4     44  Q0  28utunid     5  11.9387  ComExpansao\n",
      "NDCG@10: 0.6269353056093303\n",
      "Resultado final\n",
      "0.6163398516906394  -  expansão em documentos com texto de até 5 queries (modelo com BLEU 19.9) e sem expansão em sem texto\n",
      "0.61741634472764  -  expansão em documentos com texto de até 5 queries (modelo com BLEU 19.9) e com expansão em sem texto\n",
      "0.6230710941215478  -  expansão em documentos com texto de até 5 queries (modelo com BLEU 19.9) e sem documentos sem texto\n",
      "0.6230410853328326  -  expansão em documentos com texto de até 10 queries (modelo com BLEU 21.1) e sem expansão em sem texto\n",
      "0.6210492783322104  -  expansão em documentos com texto de até 10 queries (modelo com BLEU 21.1) e com expansão em sem texto\n",
      "0.6269353056093303  -  expansão em documentos com texto de até 10 queries (modelo com BLEU 21.1) e sem documentos sem texto\n"
     ]
    }
   ],
   "source": [
    "dict_resultado = {}\n",
    "\n",
    "\n",
    "for experimento in dict_experimentos:\n",
    "    # Verificar se o arquivo de índice existe e apagar \n",
    "    # Remover arquivos que serão gerados \n",
    "    if os.path.exists(DIRETORIO_INDICE):\n",
    "        shutil.rmtree(DIRETORIO_INDICE)\n",
    "    if os.path.exists(CAMINHO_RUN_COM_EXPANSAO):\n",
    "        os.remove(CAMINHO_RUN_COM_EXPANSAO)\n",
    "\n",
    "    print(f'\\nExperimento {experimento}')\n",
    "    with open(CAMINHO_CARDIN, 'w') as arquivo:\n",
    "        for corpus in dict_experimentos[experimento]:\n",
    "            for doc in lista_carga[corpus]:\n",
    "                # Converte o dicionário em uma string JSON\n",
    "                linha_json = json.dumps(doc)\n",
    "                # Escreve a linha JSON no arquivo\n",
    "                arquivo.write(f'{linha_json}\\n')\n",
    "\n",
    "    # constrói o índice;  > /dev/null 2>&1 para não gerar output\n",
    "    !python -m pyserini.index.lucene \\\n",
    "            --collection JsonCollection \\\n",
    "            --input {DIRETORIO_CARDIN} \\\n",
    "            --index {DIRETORIO_INDICE} \\\n",
    "            --generator DefaultLuceneDocumentGenerator \\\n",
    "            --threads 9 \\\n",
    "            --storePositions --storeDocvectors \\\n",
    "            --storeRaw  > /dev/null 2>&1 \n",
    "\n",
    "    # Imprimindo estatísticas do índice\n",
    "    index_reader = IndexReader(DIRETORIO_INDICE)\n",
    "    print(index_reader.stats())\n",
    "\n",
    "    #!mv indexes/trec_covid_expanded {DIRETORIO_TRABALHO}/indexes\n",
    "    # cria o mecanismo de busca\n",
    "    searcher = LuceneSearcher(DIRETORIO_INDICE)\n",
    "    searcher.set_bm25(k1=0.82, b=0.68)  \n",
    "    run_all_queries(CAMINHO_RUN_COM_EXPANSAO, topics, searcher, num_max_hits)\n",
    "    ### Calculando métricas\n",
    "    run = pd.read_csv(f\"{CAMINHO_RUN_COM_EXPANSAO}\", sep=\"\\s+\", \n",
    "                    names=[\"query\", \"q0\", \"docid\", \"rank\", \"score\", \"system\"])\n",
    "    print(run.head())\n",
    "    run = run.to_dict(orient=\"list\")\n",
    "    results = trec_eval.compute(predictions=[run], references=[qrel_dict])\n",
    "\n",
    "    # salvando métricas    \n",
    "    print(f\"NDCG@10: {results['NDCG@10']}\")\n",
    "    dict_resultado[experimento] = {\n",
    "     'ndcg@10': results['NDCG@10'], 'metrics': results}\n",
    "\n",
    "print('Resultado final')\n",
    "for experimento in dict_experimentos:\n",
    "    if experimento in dict_resultado:\n",
    "        print(dict_resultado[experimento]['ndcg@10'],' - ', experimento)"
   ]
  },
  {
   "cell_type": "code",
   "execution_count": null,
   "metadata": {},
   "outputs": [],
   "source": []
  },
  {
   "attachments": {},
   "cell_type": "markdown",
   "metadata": {},
   "source": [
    "# Extras"
   ]
  },
  {
   "attachments": {},
   "cell_type": "markdown",
   "metadata": {},
   "source": [
    "### Investigando um índice \n",
    "Dicas em https://github.com/castorini/pyserini/blob/master/docs/usage-indexreader.md "
   ]
  },
  {
   "cell_type": "code",
   "execution_count": null,
   "metadata": {},
   "outputs": [],
   "source": [
    "from pyserini.index import IndexReader\n",
    "\n",
    "# Diretório do índice\n",
    "caminho_indice = f\"{DIRETORIO_TRABALHO}/indexes/trec_covid_expanded\"\n",
    "\n",
    "# Criação do objeto IndexReader\n",
    "index_reader = IndexReader(caminho_indice)\n"
   ]
  },
  {
   "attachments": {},
   "cell_type": "markdown",
   "metadata": {},
   "source": [
    "Total de documentos"
   ]
  },
  {
   "cell_type": "code",
   "execution_count": null,
   "metadata": {},
   "outputs": [
    {
     "name": "stdout",
     "output_type": "stream",
     "text": [
      "{'total_terms': 24724735, 'documents': 129192, 'non_empty_documents': 129192, 'unique_terms': 252425}\n"
     ]
    }
   ],
   "source": [
    "\n",
    "print(index_reader.stats())\n"
   ]
  },
  {
   "cell_type": "markdown",
   "metadata": {},
   "source": [
    "Pesquisando"
   ]
  },
  {
   "cell_type": "code",
   "execution_count": null,
   "metadata": {},
   "outputs": [
    {
     "name": "stdout",
     "output_type": "stream",
     "text": [
      "term \"cities\": df=3296, cf=6082\n"
     ]
    }
   ],
   "source": [
    "term = 'cities'\n",
    "\n",
    "# Look up its document frequency (df) and collection frequency (cf).\n",
    "# Note, we use the unanalyzed form:\n",
    "df, cf = index_reader.get_term_counts(term)\n",
    "print(f'term \"{term}\": df={df}, cf={cf}')"
   ]
  },
  {
   "cell_type": "code",
   "execution_count": null,
   "metadata": {},
   "outputs": [
    {
     "name": "stdout",
     "output_type": "stream",
     "text": [
      "bm25_score_genotype: 0.0, bm25_score_genotyp:2.7530345916748047\n"
     ]
    }
   ],
   "source": [
    "# Note that the keys of get_document_vector() are already analyzed, we set analyzer to be None.\n",
    "bm25_score_genotyp = index_reader.compute_bm25_term_weight('zjufx4fo', 'genotyp', analyzer=None)\n",
    "bm25_score_genotype = index_reader.compute_bm25_term_weight('zjufx4fo', 'genotype', analyzer=None)\n",
    "print(f\"bm25_score_genotype: {bm25_score_genotype}, bm25_score_genotyp:{bm25_score_genotyp}\")"
   ]
  },
  {
   "cell_type": "code",
   "execution_count": null,
   "metadata": {},
   "outputs": [],
   "source": []
  }
 ],
 "metadata": {
  "kernelspec": {
   "display_name": "treinapython39",
   "language": "python",
   "name": "python3"
  },
  "language_info": {
   "codemirror_mode": {
    "name": "ipython",
    "version": 3
   },
   "file_extension": ".py",
   "mimetype": "text/x-python",
   "name": "python",
   "nbconvert_exporter": "python",
   "pygments_lexer": "ipython3",
   "version": "3.9.16"
  },
  "orig_nbformat": 4,
  "vscode": {
   "interpreter": {
    "hash": "e431eb1d856c426fade2a694f8536bd46c4e9c4bd47cb4afd3fb4d2c61122b03"
   }
  }
 },
 "nbformat": 4,
 "nbformat_minor": 2
}
