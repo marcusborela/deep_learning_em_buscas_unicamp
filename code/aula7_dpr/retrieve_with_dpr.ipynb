{
 "cells": [
  {
   "attachments": {},
   "cell_type": "markdown",
   "metadata": {},
   "source": [
    "# Aula6 - Doc2Query\n",
    "\n",
    "[Unicamp - IA368DD: Deep Learning aplicado a sistemas de busca.](https://www.cpg.feec.unicamp.br/cpg/lista/caderno_horario_show.php?id=1779)\n",
    "\n",
    "Autor: Marcus Vinícius Borela de Castro\n",
    "\n",
    "[Repositório no github](https://github.com/marcusborela/deep_learning_em_buscas_unicamp)\n"
   ]
  },
  {
   "cell_type": "markdown",
   "metadata": {},
   "source": [
    "## Enunciado do Exercício"
   ]
  },
  {
   "attachments": {},
   "cell_type": "markdown",
   "metadata": {},
   "source": [
    "Fazer o finetuning de um buscador denso\n",
    "\n",
    "Usar como treino o dataset \"tiny\" do MS MARCO\n",
    "https://storage.googleapis.com/unicamp-dl/ia368dd_2023s1/msmarco/msmarco_triples.train.tiny.tsv\n",
    "\n",
    "Avaliar o modelo no TREC-COVID, e comparar os resultados com o BM25 e doc2query\n",
    "\n",
    "Comparar busca \"exaustiva\" (semelhança do vetor query com todos os vetores do corpus) com a busca aproximada (Approximate Nearest Neighbor - ANN)\n",
    "\n",
    "Para a busca aproximada, usar os algoritmos existentes na biblioteca sentence-transformers (ex: hnswlib) OU implemente um você mesmo (Bonus!)\n",
    "\n",
    "Dicas:\n",
    "\n",
    "    Usar a média dos vetores da última camada (conhecido como mean pooling) do transformer para representar queries e passagens; Alternativamente, usar apenas o vetor do [CLS] da última cada.\n",
    "    Tente inicialmente uma loss fácil de implementar, como a entropia-cruzada\n",
    "    Começar o treino a partir do microsoft/MiniLM-L12-H384-uncased\n",
    "    Avaliar o pipeline usando um modelo já bem treinado: sentence-transformers/all-mpnet-base-v2\n",
    "    Comparar resultados usando semelhança de cosseno e produto escalar como funções de similaridade\n",
    "    Para checar se seu codigo de avaliação está correto, comparar o seu desempenho com o do modelo já treinado no MS MARCO:   https://huggingface.co/sentence-transformers/all-MiniLM-L12-v2; O nDCG@10 no TREC-COVID deve ser ~0.47\n",
    "    Usar a biblioteca do sentence-transformers para avaliar o modelo\n"
   ]
  },
  {
   "cell_type": "markdown",
   "metadata": {},
   "source": [
    "## Fase\n",
    "\n",
    "Utilizando DPR treinado"
   ]
  },
  {
   "attachments": {},
   "cell_type": "markdown",
   "metadata": {},
   "source": [
    "# Organizando o ambiente"
   ]
  },
  {
   "cell_type": "code",
   "execution_count": 1,
   "metadata": {},
   "outputs": [],
   "source": [
    "import pickle"
   ]
  },
  {
   "cell_type": "code",
   "execution_count": 2,
   "metadata": {},
   "outputs": [],
   "source": [
    "import os"
   ]
  },
  {
   "cell_type": "code",
   "execution_count": 3,
   "metadata": {},
   "outputs": [],
   "source": [
    "import gzip"
   ]
  },
  {
   "cell_type": "code",
   "execution_count": 4,
   "metadata": {},
   "outputs": [],
   "source": [
    "import json"
   ]
  },
  {
   "cell_type": "code",
   "execution_count": 5,
   "metadata": {},
   "outputs": [],
   "source": [
    "import pandas as pd"
   ]
  },
  {
   "cell_type": "code",
   "execution_count": 6,
   "metadata": {},
   "outputs": [],
   "source": [
    "import faiss"
   ]
  },
  {
   "cell_type": "code",
   "execution_count": 49,
   "metadata": {
    "id": "4AJiH6lQQHc5"
   },
   "outputs": [],
   "source": [
    "from tqdm import tqdm"
   ]
  },
  {
   "cell_type": "code",
   "execution_count": 40,
   "metadata": {},
   "outputs": [],
   "source": [
    "from transformers import AutoTokenizer, AutoModel\n",
    "import torch"
   ]
  },
  {
   "cell_type": "code",
   "execution_count": 133,
   "metadata": {},
   "outputs": [],
   "source": [
    "from evaluate import load"
   ]
  },
  {
   "cell_type": "code",
   "execution_count": 7,
   "metadata": {},
   "outputs": [],
   "source": [
    "DIRETORIO_TRABALHO = '/home/borela/fontes/deep_learning_em_buscas_unicamp/local/dpr'"
   ]
  },
  {
   "cell_type": "code",
   "execution_count": 8,
   "metadata": {},
   "outputs": [
    {
     "name": "stdout",
     "output_type": "stream",
     "text": [
      "pasta já existia!\n"
     ]
    }
   ],
   "source": [
    "if os.path.exists(DIRETORIO_TRABALHO):\n",
    "    print('pasta já existia!')\n",
    "else:\n",
    "    os.makedirs(DIRETORIO_TRABALHO)\n",
    "    print('pasta criada!')\n"
   ]
  },
  {
   "cell_type": "code",
   "execution_count": 9,
   "metadata": {
    "id": "zwyzd_W8gOAL"
   },
   "outputs": [],
   "source": [
    "DIRETORIO_RUN = f\"{DIRETORIO_TRABALHO}/runs\"\n",
    "CAMINHO_RUN = f\"{DIRETORIO_RUN}/run-trec-covid-bm25.txt\""
   ]
  },
  {
   "cell_type": "code",
   "execution_count": 10,
   "metadata": {},
   "outputs": [
    {
     "name": "stdout",
     "output_type": "stream",
     "text": [
      "pasta já existia!\n"
     ]
    }
   ],
   "source": [
    "if os.path.exists(DIRETORIO_RUN):\n",
    "    print('pasta já existia!')\n",
    "else:\n",
    "    os.makedirs(DIRETORIO_RUN)\n",
    "    print('pasta criada!')\n"
   ]
  },
  {
   "cell_type": "code",
   "execution_count": 11,
   "metadata": {},
   "outputs": [],
   "source": [
    "os.environ['JVM_PATH'] = '/usr/lib/jvm/java-11-openjdk-amd64/lib/server/libjvm.so'\n",
    "os.environ['JAVA_HOME'] = '/usr/lib/jvm/java-11-openjdk-amd64'"
   ]
  },
  {
   "cell_type": "code",
   "execution_count": 12,
   "metadata": {},
   "outputs": [
    {
     "name": "stderr",
     "output_type": "stream",
     "text": [
      "/home/borela/miniconda3/envs/treinapython39/lib/python3.9/site-packages/tqdm/auto.py:21: TqdmWarning: IProgress not found. Please update jupyter and ipywidgets. See https://ipywidgets.readthedocs.io/en/stable/user_install.html\n",
      "  from .autonotebook import tqdm as notebook_tqdm\n"
     ]
    }
   ],
   "source": [
    "from pyserini.search.lucene import LuceneSearcher"
   ]
  },
  {
   "cell_type": "code",
   "execution_count": 41,
   "metadata": {},
   "outputs": [],
   "source": [
    "device = torch.device('cuda:0' if torch.cuda.is_available() else 'cpu')\n",
    "  "
   ]
  },
  {
   "cell_type": "code",
   "execution_count": null,
   "metadata": {
    "id": "DKAZ8CWCAM3-"
   },
   "outputs": [],
   "source": [
    "from psutil import virtual_memory"
   ]
  },
  {
   "cell_type": "code",
   "execution_count": null,
   "metadata": {
    "id": "9XgIWvkkH-kn"
   },
   "outputs": [],
   "source": [
    "def mostra_memoria(lista_mem=['cpu']):\n",
    "  \"\"\"\n",
    "  Esta função exibe informações de memória da CPU e/ou GPU, conforme parâmetros fornecidos.\n",
    "\n",
    "  Parâmetros:\n",
    "  -----------\n",
    "  lista_mem : list, opcional\n",
    "      Lista com strings 'cpu' e/ou 'gpu'. \n",
    "      'cpu' - exibe informações de memória da CPU.\n",
    "      'gpu' - exibe informações de memória da GPU (se disponível).\n",
    "      O valor padrão é ['cpu'].\n",
    "\n",
    "  Saída:\n",
    "  -------\n",
    "  A função não retorna nada, apenas exibe as informações na tela.\n",
    "\n",
    "  Exemplo de uso:\n",
    "  ---------------\n",
    "  Para exibir informações de memória da CPU:\n",
    "      mostra_memoria(['cpu'])\n",
    "\n",
    "  Para exibir informações de memória da CPU e GPU:\n",
    "      mostra_memoria(['cpu', 'gpu'])\n",
    "  \n",
    "  Autor: Marcus Vinícius Borela de Castro\n",
    "\n",
    "  \"\"\"  \n",
    "  if 'cpu' in lista_mem:\n",
    "    vm = virtual_memory()\n",
    "    ram={}\n",
    "    ram['total']=round(vm.total / 1e9,2)\n",
    "    ram['available']=round(virtual_memory().available / 1e9,2)\n",
    "    # ram['percent']=round(virtual_memory().percent / 1e9,2)\n",
    "    ram['used']=round(virtual_memory().used / 1e9,2)\n",
    "    ram['free']=round(virtual_memory().free / 1e9,2)\n",
    "    ram['active']=round(virtual_memory().active / 1e9,2)\n",
    "    ram['inactive']=round(virtual_memory().inactive / 1e9,2)\n",
    "    ram['buffers']=round(virtual_memory().buffers / 1e9,2)\n",
    "    ram['cached']=round(virtual_memory().cached/1e9 ,2)\n",
    "    print(f\"Your runtime RAM in gb: \\n total {ram['total']}\\n available {ram['available']}\\n used {ram['used']}\\n free {ram['free']}\\n cached {ram['cached']}\\n buffers {ram['buffers']}\")\n",
    "    print('/nGPU')\n",
    "    gpu_info = !nvidia-smi\n",
    "  if 'gpu' in lista_mem:\n",
    "    gpu_info = '\\n'.join(gpu_info)\n",
    "    if gpu_info.find('failed') >= 0:\n",
    "      print('Not connected to a GPU')\n",
    "    else:\n",
    "      print(gpu_info)\n"
   ]
  },
  {
   "cell_type": "code",
   "execution_count": null,
   "metadata": {
    "colab": {
     "base_uri": "https://localhost:8080/"
    },
    "id": "3dri9iiMAvCT",
    "outputId": "53aebd5a-e29f-4c8e-d233-5221aae9f9b0"
   },
   "outputs": [
    {
     "name": "stdout",
     "output_type": "stream",
     "text": [
      "Your runtime RAM in gb: \n",
      " total 67.35\n",
      " available 54.49\n",
      " used 11.28\n",
      " free 36.91\n",
      " cached 17.01\n",
      " buffers 2.16\n",
      "/nGPU\n",
      "Sun Apr 16 12:03:01 2023       \n",
      "+-----------------------------------------------------------------------------+\n",
      "| NVIDIA-SMI 510.39.01    Driver Version: 510.39.01    CUDA Version: 11.6     |\n",
      "|-------------------------------+----------------------+----------------------+\n",
      "| GPU  Name        Persistence-M| Bus-Id        Disp.A | Volatile Uncorr. ECC |\n",
      "| Fan  Temp  Perf  Pwr:Usage/Cap|         Memory-Usage | GPU-Util  Compute M. |\n",
      "|                               |                      |               MIG M. |\n",
      "|===============================+======================+======================|\n",
      "|   0  NVIDIA GeForce ...  On   | 00000000:02:00.0 Off |                  N/A |\n",
      "| 52%   50C    P8    40W / 370W |     64MiB / 24576MiB |      0%      Default |\n",
      "|                               |                      |                  N/A |\n",
      "+-------------------------------+----------------------+----------------------+\n",
      "                                                                               \n",
      "+-----------------------------------------------------------------------------+\n",
      "| Processes:                                                                  |\n",
      "|  GPU   GI   CI        PID   Type   Process name                  GPU Memory |\n",
      "|        ID   ID                                                   Usage      |\n",
      "|=============================================================================|\n",
      "|    0   N/A  N/A      1241      G   /usr/lib/xorg/Xorg                 45MiB |\n",
      "|    0   N/A  N/A      1381      G   /usr/bin/gnome-shell               14MiB |\n",
      "+-----------------------------------------------------------------------------+\n"
     ]
    }
   ],
   "source": [
    "mostra_memoria(['cpu','gpu'])"
   ]
  },
  {
   "cell_type": "markdown",
   "metadata": {
    "id": "achvQ78sa3p3"
   },
   "source": [
    "## Fixando as seeds"
   ]
  },
  {
   "cell_type": "code",
   "execution_count": 14,
   "metadata": {
    "id": "AG9RjMb8Qlot"
   },
   "outputs": [],
   "source": [
    "import random\n",
    "import torch\n",
    "import numpy as np"
   ]
  },
  {
   "cell_type": "code",
   "execution_count": 15,
   "metadata": {
    "id": "bkETIyWGkbOf"
   },
   "outputs": [],
   "source": [
    "def inicializa_seed(num_semente:int=123):\n",
    "  \"\"\"\n",
    "  Inicializa as sementes para garantir a reprodutibilidade dos resultados do modelo.\n",
    "  Essa é uma prática recomendada, já que a geração de números aleatórios pode influenciar os resultados do modelo.\n",
    "  Além disso, a função também configura as sementes da GPU para garantir a reprodutibilidade quando se utiliza aceleração por GPU. \n",
    "  \n",
    "  Args:\n",
    "      num_semente (int): número da semente a ser utilizada para inicializar as sementes das bibliotecas.\n",
    "  \n",
    "  References:\n",
    "      http://nlp.seas.harvard.edu/2018/04/03/attention.html\n",
    "      https://github.com/CyberZHG/torch-multi-head-attention/blob/master/torch_multi_head_attention/multi_head_attention.py#L15\n",
    "  \"\"\"\n",
    "  # Define as sementes das bibliotecas random, numpy e pytorch\n",
    "  random.seed(num_semente)\n",
    "  np.random.seed(num_semente)\n",
    "  torch.manual_seed(num_semente)\n",
    "  \n",
    "  # Define as sementes da GPU\n",
    "  torch.backends.cudnn.deterministic = True\n",
    "  torch.backends.cudnn.benchmark = False\n",
    "\n",
    "  #torch.cuda.manual_seed(num_semente)\n",
    "  #Cuda algorithms\n",
    "  #torch.backends.cudnn.deterministic = True\n"
   ]
  },
  {
   "cell_type": "code",
   "execution_count": 16,
   "metadata": {
    "id": "ViMcw_kVkbOf"
   },
   "outputs": [],
   "source": [
    "num_semente=123\n",
    "inicializa_seed(num_semente)"
   ]
  },
  {
   "cell_type": "markdown",
   "metadata": {
    "id": "8v2gtkEPhA0t"
   },
   "source": [
    "## Preparando para debug e display"
   ]
  },
  {
   "cell_type": "code",
   "execution_count": 17,
   "metadata": {
    "id": "BJ6S4P5Hw4iG"
   },
   "outputs": [],
   "source": [
    "import pandas as pd"
   ]
  },
  {
   "cell_type": "code",
   "execution_count": 18,
   "metadata": {
    "colab": {
     "base_uri": "https://localhost:8080/"
    },
    "id": "kebsl1uQDFUf",
    "outputId": "4b1ed269-722b-4a2a-f1a0-908d1683cc62"
   },
   "outputs": [],
   "source": [
    "#!pip install transformers -q"
   ]
  },
  {
   "cell_type": "code",
   "execution_count": 19,
   "metadata": {
    "id": "rnR2kDS_2FgZ"
   },
   "outputs": [],
   "source": [
    "import transformers"
   ]
  },
  {
   "cell_type": "code",
   "execution_count": 20,
   "metadata": {
    "colab": {
     "base_uri": "https://localhost:8080/"
    },
    "id": "LjrlXHq1hC8n",
    "outputId": "18d94254-4bf8-4632-ef84-012727944746"
   },
   "outputs": [],
   "source": [
    "# https://zohaib.me/debugging-in-google-collab-notebook/\n",
    "# !pip install -Uqq ipdb\n",
    "import ipdb\n",
    "# %pdb off # desativa debug em exceção\n",
    "# %pdb on  # ativa debug em exceção\n",
    "# ipdb.set_trace(context=8)  para execução nesse ponto"
   ]
  },
  {
   "cell_type": "code",
   "execution_count": 21,
   "metadata": {
    "id": "wQ5pmlOHxHhk"
   },
   "outputs": [],
   "source": [
    "def config_display():\n",
    "  \"\"\"\n",
    "  Esta função configura as opções de display do Pandas.\n",
    "  \"\"\"\n",
    "\n",
    "  # Configurando formato saída Pandas\n",
    "  # define o número máximo de colunas que serão exibidas\n",
    "  pd.options.display.max_columns = None\n",
    "\n",
    "  # define a largura máxima de uma linha\n",
    "  pd.options.display.width = 1000\n",
    "\n",
    "  # define o número máximo de linhas que serão exibidas\n",
    "  pd.options.display.max_rows = 100\n",
    "\n",
    "  # define o número máximo de caracteres por coluna\n",
    "  pd.options.display.max_colwidth = 50\n",
    "\n",
    "  # se deve exibir o número de linhas e colunas de um DataFrame.\n",
    "  pd.options.display.show_dimensions = True\n",
    "\n",
    "  # número de dígitos após a vírgula decimal a serem exibidos para floats.\n",
    "  pd.options.display.precision = 7\n"
   ]
  },
  {
   "cell_type": "code",
   "execution_count": 22,
   "metadata": {
    "id": "b2tDy72ATNHs"
   },
   "outputs": [],
   "source": [
    "def config_debug():\n",
    "  \"\"\"\n",
    "  Esta função configura as opções de debug do PyTorch e dos pacotes\n",
    "  transformers e datasets.\n",
    "  \"\"\"\n",
    "\n",
    "  # Define opções de impressão de tensores para o modo científico\n",
    "  torch.set_printoptions(sci_mode=True) \n",
    "  \"\"\"\n",
    "    Significa que valores muito grandes ou muito pequenos são mostrados em notação científica.\n",
    "    Por exemplo, em vez de imprimir o número 0.0000012345 como 0.0000012345, \n",
    "    ele seria impresso como 1.2345e-06. Isso é útil em situações em que os valores dos tensores \n",
    "    envolvidos nas operações são muito grandes ou pequenos, e a notação científica permite \n",
    "    uma melhor compreensão dos números envolvidos.  \n",
    "  \"\"\"\n",
    "\n",
    "  # Habilita detecção de anomalias no autograd do PyTorch\n",
    "  torch.autograd.set_detect_anomaly(True)\n",
    "  \"\"\"\n",
    "    Permite identificar operações que podem causar problemas de estabilidade numérica, \n",
    "    como gradientes explodindo ou desaparecendo. Quando essa opção é ativada, \n",
    "    o PyTorch verifica se há operações que geram valores NaN ou infinitos nos tensores \n",
    "    envolvidos no cálculo do gradiente. Se for detectado um valor anômalo, o PyTorch \n",
    "    interrompe a execução e gera uma exceção, permitindo que o erro seja corrigido \n",
    "    antes que se torne um problema maior.\n",
    "\n",
    "    É importante notar que a detecção de anomalias pode ter um impacto significativo \n",
    "    no desempenho, especialmente em modelos grandes e complexos. Por esse motivo,\n",
    "    ela deve ser usada com cautela e apenas para depuração.\n",
    "  \"\"\"\n",
    "\n",
    "  # Configura variável de ambiente para habilitar a execução síncrona (bloqueante) das chamadas da API do CUDA.\n",
    "  os.environ['CUDA_LAUNCH_BLOCKING'] = '1'\n",
    "  \"\"\"\n",
    "    o Python aguarda o término da execução de uma chamada da API do CUDA antes de executar a próxima chamada. \n",
    "    Isso é útil para depurar erros no código que envolve operações na GPU, pois permite que o erro seja capturado \n",
    "    no momento em que ocorre, e não depois de uma sequência de operações que pode tornar a origem do erro mais difícil de determinar.\n",
    "    No entanto, é importante lembrar que esse modo de execução é significativamente mais lento do que a execução assíncrona, \n",
    "    que é o comportamento padrão do CUDA. Por isso, é recomendado utilizar esse comando apenas em situações de depuração \n",
    "    e removê-lo após a solução do problema.\n",
    "  \"\"\"\n",
    "\n",
    "  # Define o nível de verbosity do pacote transformers para info\n",
    "  # transformers.utils.logging.set_verbosity_info() \n",
    "  \n",
    "  \n",
    "  \"\"\"\n",
    "    Define o nível de detalhamento das mensagens de log geradas pela biblioteca Hugging Face Transformers \n",
    "    para o nível info. Isso significa que a biblioteca irá imprimir mensagens de log informativas sobre\n",
    "    o andamento da execução, tais como tempo de execução, tamanho de batches, etc.\n",
    "\n",
    "    Essas informações podem ser úteis para entender o que está acontecendo durante a execução da tarefa \n",
    "    e auxiliar no processo de debug. É importante notar que, em alguns casos, a quantidade de informações\n",
    "    geradas pode ser muito grande, o que pode afetar o desempenho do sistema e dificultar a visualização\n",
    "    das informações relevantes. Por isso, é importante ajustar o nível de detalhamento de acordo com a \n",
    "    necessidade de cada tarefa.\n",
    "  \n",
    "    Caso queira reduzir a quantidade de mensagens, comentar a linha acima e \n",
    "      descomentar as duas linhas abaixo, para definir o nível de verbosity como error ou warning\n",
    "  \n",
    "    transformers.utils.logging.set_verbosity_error()\n",
    "    transformers.utils.logging.set_verbosity_warning()\n",
    "  \"\"\"\n",
    "\n",
    "\n",
    "  # Define o modo verbose do xmode, que é utilizado no debug\n",
    "  # %xmode Verbose \n",
    "\n",
    "  \"\"\"\n",
    "    Comando usado no Jupyter Notebook para controlar o modo de exibição das informações de exceções.\n",
    "    O modo verbose é um modo detalhado que exibe informações adicionais ao imprimir as exceções.\n",
    "    Ele inclui as informações de pilha de chamadas completa e valores de variáveis locais e globais \n",
    "    no momento da exceção. Isso pode ser útil para depurar e encontrar a causa de exceções em seu código.\n",
    "    Ao usar %xmode Verbose, as informações de exceção serão impressas com mais detalhes e informações adicionais serão incluídas.\n",
    "\n",
    "    Caso queira desabilitar o modo verbose e utilizar o modo plain, \n",
    "    comentar a linha acima e descomentar a linha abaixo:\n",
    "    %xmode Plain\n",
    "  \"\"\"\n",
    "\n",
    "  \"\"\"\n",
    "    Dica:\n",
    "    1.  pdb (Python Debugger)\n",
    "      Quando ocorre uma exceção em uma parte do código, o programa para a execução e exibe uma mensagem de erro \n",
    "      com informações sobre a exceção, como a linha do código em que ocorreu o erro e o tipo da exceção.\n",
    "\n",
    "      Se você estiver depurando o código e quiser examinar o estado das variáveis ​​e executar outras operações \n",
    "      no momento em que a exceção ocorreu, pode usar o pdb (Python Debugger). Para isso, é preciso colocar o comando %debug \n",
    "      logo após ocorrer a exceção. Isso fará com que o programa pare na linha em que ocorreu a exceção e abra o pdb,\n",
    "      permitindo que você explore o estado das variáveis, examine a pilha de chamadas e execute outras operações para depurar o código.\n",
    "\n",
    "\n",
    "    2. ipdb\n",
    "      O ipdb é um depurador interativo para o Python que oferece recursos mais avançados do que o pdb,\n",
    "      incluindo a capacidade de navegar pelo código fonte enquanto depura.\n",
    "      \n",
    "      Você pode começar a depurar seu código inserindo o comando ipdb.set_trace() em qualquer lugar do \n",
    "      seu código onde deseja pausar a execução e começar a depurar. Quando a execução chegar nessa linha, \n",
    "      o depurador entrará em ação, permitindo que você examine o estado atual do seu programa e execute \n",
    "      comandos para investigar o comportamento.\n",
    "\n",
    "      Durante a depuração, você pode usar comandos:\n",
    "        next (para executar a próxima linha de código), \n",
    "        step (para entrar em uma função chamada na próxima linha de código) \n",
    "        continue (para continuar a execução normalmente até o próximo ponto de interrupção).\n",
    "\n",
    "      Ao contrário do pdb, o ipdb é um depurador interativo que permite navegar pelo código fonte em que\n",
    "      está trabalhando enquanto depura, permitindo que você inspecione variáveis, defina pontos de interrupção\n",
    "      adicionais e até mesmo execute expressões Python no contexto do seu programa.\n",
    "  \"\"\"\n"
   ]
  },
  {
   "cell_type": "code",
   "execution_count": 23,
   "metadata": {
    "id": "Tb4aqtcExR84"
   },
   "outputs": [],
   "source": [
    "config_display()"
   ]
  },
  {
   "cell_type": "code",
   "execution_count": 24,
   "metadata": {
    "colab": {
     "base_uri": "https://localhost:8080/"
    },
    "id": "-5Bq4043fkfh",
    "outputId": "fa8e5db1-1feb-4393-fb66-d394d1ad693c"
   },
   "outputs": [],
   "source": [
    "config_debug()"
   ]
  },
  {
   "attachments": {},
   "cell_type": "markdown",
   "metadata": {},
   "source": [
    "# Baixando o dataset para avaliação (trec-covid)"
   ]
  },
  {
   "attachments": {},
   "cell_type": "markdown",
   "metadata": {},
   "source": [
    "## Queries"
   ]
  },
  {
   "cell_type": "code",
   "execution_count": 25,
   "metadata": {},
   "outputs": [],
   "source": [
    "from pyserini.search import get_topics"
   ]
  },
  {
   "cell_type": "code",
   "execution_count": 26,
   "metadata": {},
   "outputs": [
    {
     "name": "stdout",
     "output_type": "stream",
     "text": [
      "50 queries total\n"
     ]
    }
   ],
   "source": [
    "topics = get_topics('covid-round5')\n",
    "print(f'{len(topics)} queries total')"
   ]
  },
  {
   "cell_type": "code",
   "execution_count": 42,
   "metadata": {},
   "outputs": [
    {
     "data": {
      "text/plain": [
       "{'question': 'what is known about an mRNA vaccine for the SARS-CoV-2 virus?',\n",
       " 'query': 'mRNA vaccine coronavirus',\n",
       " 'narrative': 'Looking for studies specifically focusing on mRNA vaccines for COVID-19, including how mRNA vaccines work, why they are promising, and any results from actual clinical studies.'}"
      ]
     },
     "execution_count": 42,
     "metadata": {},
     "output_type": "execute_result"
    }
   ],
   "source": [
    "topics[50]"
   ]
  },
  {
   "attachments": {},
   "cell_type": "markdown",
   "metadata": {},
   "source": [
    "## Relevância (qrel) de teste"
   ]
  },
  {
   "cell_type": "code",
   "execution_count": 43,
   "metadata": {},
   "outputs": [],
   "source": [
    "if not os.path.exists(f'{DIRETORIO_TRABALHO}/test.tsv'):\n",
    "    !wget https://huggingface.co/datasets/BeIR/trec-covid-qrels/raw/main/test.tsv\n",
    "    !mv test.tsv {DIRETORIO_TRABALHO}/"
   ]
  },
  {
   "cell_type": "code",
   "execution_count": 44,
   "metadata": {},
   "outputs": [],
   "source": [
    "qrel = pd.read_csv(f\"{DIRETORIO_TRABALHO}/test.tsv\", sep=\"\\t\", header=None, \n",
    "                   skiprows=1, names=[\"query\", \"docid\", \"rel\"])"
   ]
  },
  {
   "cell_type": "code",
   "execution_count": 45,
   "metadata": {},
   "outputs": [
    {
     "data": {
      "text/html": [
       "<div>\n",
       "<style scoped>\n",
       "    .dataframe tbody tr th:only-of-type {\n",
       "        vertical-align: middle;\n",
       "    }\n",
       "\n",
       "    .dataframe tbody tr th {\n",
       "        vertical-align: top;\n",
       "    }\n",
       "\n",
       "    .dataframe thead th {\n",
       "        text-align: right;\n",
       "    }\n",
       "</style>\n",
       "<table border=\"1\" class=\"dataframe\">\n",
       "  <thead>\n",
       "    <tr style=\"text-align: right;\">\n",
       "      <th></th>\n",
       "      <th>query</th>\n",
       "      <th>docid</th>\n",
       "      <th>rel</th>\n",
       "    </tr>\n",
       "  </thead>\n",
       "  <tbody>\n",
       "    <tr>\n",
       "      <th>0</th>\n",
       "      <td>1</td>\n",
       "      <td>005b2j4b</td>\n",
       "      <td>2</td>\n",
       "    </tr>\n",
       "    <tr>\n",
       "      <th>1</th>\n",
       "      <td>1</td>\n",
       "      <td>00fmeepz</td>\n",
       "      <td>1</td>\n",
       "    </tr>\n",
       "    <tr>\n",
       "      <th>2</th>\n",
       "      <td>1</td>\n",
       "      <td>g7dhmyyo</td>\n",
       "      <td>2</td>\n",
       "    </tr>\n",
       "    <tr>\n",
       "      <th>3</th>\n",
       "      <td>1</td>\n",
       "      <td>0194oljo</td>\n",
       "      <td>1</td>\n",
       "    </tr>\n",
       "    <tr>\n",
       "      <th>4</th>\n",
       "      <td>1</td>\n",
       "      <td>021q9884</td>\n",
       "      <td>1</td>\n",
       "    </tr>\n",
       "  </tbody>\n",
       "</table>\n",
       "<p>5 rows × 3 columns</p>\n",
       "</div>"
      ],
      "text/plain": [
       "   query     docid  rel\n",
       "0      1  005b2j4b    2\n",
       "1      1  00fmeepz    1\n",
       "2      1  g7dhmyyo    2\n",
       "3      1  0194oljo    1\n",
       "4      1  021q9884    1\n",
       "\n",
       "[5 rows x 3 columns]"
      ]
     },
     "execution_count": 45,
     "metadata": {},
     "output_type": "execute_result"
    }
   ],
   "source": [
    "qrel.head()"
   ]
  },
  {
   "cell_type": "code",
   "execution_count": 47,
   "metadata": {},
   "outputs": [
    {
     "data": {
      "text/html": [
       "<div>\n",
       "<style scoped>\n",
       "    .dataframe tbody tr th:only-of-type {\n",
       "        vertical-align: middle;\n",
       "    }\n",
       "\n",
       "    .dataframe tbody tr th {\n",
       "        vertical-align: top;\n",
       "    }\n",
       "\n",
       "    .dataframe thead th {\n",
       "        text-align: right;\n",
       "    }\n",
       "</style>\n",
       "<table border=\"1\" class=\"dataframe\">\n",
       "  <thead>\n",
       "    <tr style=\"text-align: right;\">\n",
       "      <th></th>\n",
       "      <th>query</th>\n",
       "      <th>docid</th>\n",
       "      <th>rel</th>\n",
       "    </tr>\n",
       "  </thead>\n",
       "  <tbody>\n",
       "    <tr>\n",
       "      <th>0</th>\n",
       "      <td>1</td>\n",
       "      <td>005b2j4b</td>\n",
       "      <td>2</td>\n",
       "    </tr>\n",
       "    <tr>\n",
       "      <th>1</th>\n",
       "      <td>1</td>\n",
       "      <td>00fmeepz</td>\n",
       "      <td>1</td>\n",
       "    </tr>\n",
       "    <tr>\n",
       "      <th>2</th>\n",
       "      <td>1</td>\n",
       "      <td>g7dhmyyo</td>\n",
       "      <td>2</td>\n",
       "    </tr>\n",
       "    <tr>\n",
       "      <th>3</th>\n",
       "      <td>1</td>\n",
       "      <td>0194oljo</td>\n",
       "      <td>1</td>\n",
       "    </tr>\n",
       "    <tr>\n",
       "      <th>4</th>\n",
       "      <td>1</td>\n",
       "      <td>021q9884</td>\n",
       "      <td>1</td>\n",
       "    </tr>\n",
       "  </tbody>\n",
       "</table>\n",
       "<p>5 rows × 3 columns</p>\n",
       "</div>"
      ],
      "text/plain": [
       "   query     docid  rel\n",
       "0      1  005b2j4b    2\n",
       "1      1  00fmeepz    1\n",
       "2      1  g7dhmyyo    2\n",
       "3      1  0194oljo    1\n",
       "4      1  021q9884    1\n",
       "\n",
       "[5 rows x 3 columns]"
      ]
     },
     "execution_count": 47,
     "metadata": {},
     "output_type": "execute_result"
    }
   ],
   "source": [
    "qrel.head()"
   ]
  },
  {
   "cell_type": "code",
   "execution_count": 48,
   "metadata": {},
   "outputs": [],
   "source": [
    "qrel[\"q0\"] = \"q0\"\n",
    "qrel_dict = qrel.to_dict(orient=\"list\")"
   ]
  },
  {
   "cell_type": "code",
   "execution_count": 34,
   "metadata": {},
   "outputs": [
    {
     "data": {
      "text/plain": [
       "(1, '005b2j4b', 2)"
      ]
     },
     "execution_count": 34,
     "metadata": {},
     "output_type": "execute_result"
    }
   ],
   "source": [
    "qrel_dict['query'][0], qrel_dict['docid'][0], qrel_dict['rel'][0]"
   ]
  },
  {
   "attachments": {},
   "cell_type": "markdown",
   "metadata": {},
   "source": [
    "## Documentos a serem indexados"
   ]
  },
  {
   "cell_type": "code",
   "execution_count": 35,
   "metadata": {},
   "outputs": [],
   "source": [
    "if not os.path.exists(f\"{DIRETORIO_TRABALHO}/corpus.jsonl.gz\"):\n",
    "    !wget https://huggingface.co/datasets/BeIR/trec-covid/resolve/main/corpus.jsonl.gz\n",
    "    !mv corpus.jsonl.gz {DIRETORIO_TRABALHO}"
   ]
  },
  {
   "cell_type": "code",
   "execution_count": 36,
   "metadata": {},
   "outputs": [],
   "source": [
    "# Descompacte o arquivo para a memória\n",
    "with gzip.open(f'{DIRETORIO_TRABALHO}/corpus.jsonl.gz', 'rt') as f:\n",
    "    # Leia o conteúdo do arquivo descompactado\n",
    "    corpus = [json.loads(line) for line in f]"
   ]
  },
  {
   "cell_type": "code",
   "execution_count": 50,
   "metadata": {},
   "outputs": [
    {
     "name": "stdout",
     "output_type": "stream",
     "text": [
      "<class 'list'> len(corpus): 171332 corpus[0] {'_id': 'ug7v899j', 'title': 'Clinical features of culture-proven Mycoplasma pneumoniae infections at King Abdulaziz University Hospital, Jeddah, Saudi Arabia', 'text': 'OBJECTIVE: This retrospective chart review describes the epidemiology and clinical features of 40 patients with culture-proven Mycoplasma pneumoniae infections at King Abdulaziz University Hospital, Jeddah, Saudi Arabia. METHODS: Patients with positive M. pneumoniae cultures from respiratory specimens from January 1997 through December 1998 were identified through the Microbiology records. Charts of patients were reviewed. RESULTS: 40 patients were identified, 33 (82.5%) of whom required admission. Most infections (92.5%) were community-acquired. The infection affected all age groups but was most common in infants (32.5%) and pre-school children (22.5%). It occurred year-round but was most common in the fall (35%) and spring (30%). More than three-quarters of patients (77.5%) had comorbidities. Twenty-four isolates (60%) were associated with pneumonia, 14 (35%) with upper respiratory tract infections, and 2 (5%) with bronchiolitis. Cough (82.5%), fever (75%), and malaise (58.8%) were the most common symptoms, and crepitations (60%), and wheezes (40%) were the most common signs. Most patients with pneumonia had crepitations (79.2%) but only 25% had bronchial breathing. Immunocompromised patients were more likely than non-immunocompromised patients to present with pneumonia (8/9 versus 16/31, P = 0.05). Of the 24 patients with pneumonia, 14 (58.3%) had uneventful recovery, 4 (16.7%) recovered following some complications, 3 (12.5%) died because of M pneumoniae infection, and 3 (12.5%) died due to underlying comorbidities. The 3 patients who died of M pneumoniae pneumonia had other comorbidities. CONCLUSION: our results were similar to published data except for the finding that infections were more common in infants and preschool children and that the mortality rate of pneumonia in patients with comorbidities was high.', 'metadata': {'url': 'https://www.ncbi.nlm.nih.gov/pmc/articles/PMC35282/', 'pubmed_id': '11472636'}}\n"
     ]
    }
   ],
   "source": [
    "# Exiba os dados carregados\n",
    "print(f\"{type(corpus)} len(corpus): {len(corpus)} corpus[0] {corpus[0]}\" )"
   ]
  },
  {
   "cell_type": "code",
   "execution_count": 51,
   "metadata": {},
   "outputs": [
    {
     "data": {
      "text/plain": [
       "dict_keys(['_id', 'title', 'text', 'metadata'])"
      ]
     },
     "execution_count": 51,
     "metadata": {},
     "output_type": "execute_result"
    }
   ],
   "source": [
    "corpus[0].keys()"
   ]
  },
  {
   "attachments": {},
   "cell_type": "markdown",
   "metadata": {},
   "source": [
    "# Busca para modelo já treinado all-MiniLM-L12-v2"
   ]
  },
  {
   "attachments": {},
   "cell_type": "markdown",
   "metadata": {},
   "source": [
    "## Geração dos embeddings "
   ]
  },
  {
   "attachments": {},
   "cell_type": "markdown",
   "metadata": {},
   "source": [
    "Para checar se seu codigo de avaliação está correto, comparar o seu desempenho com o do modelo já treinado no MS MARCO:   https://huggingface.co/sentence-transformers/all-MiniLM-L12-v2; O nDCG@10 no TREC-COVID deve ser ~0.47"
   ]
  },
  {
   "cell_type": "code",
   "execution_count": 52,
   "metadata": {},
   "outputs": [],
   "source": [
    "MODEL_NAME = 'sentence-transformers/all-MiniLM-L12-v2'"
   ]
  },
  {
   "cell_type": "code",
   "execution_count": 53,
   "metadata": {},
   "outputs": [],
   "source": [
    "# Load model from HuggingFace Hub\n",
    "tokenizer = AutoTokenizer.from_pretrained(MODEL_NAME)\n",
    "passages_model = AutoModel.from_pretrained(MODEL_NAME).to(device)\n",
    "topics_model = AutoModel.from_pretrained(MODEL_NAME).to(device)"
   ]
  },
  {
   "cell_type": "code",
   "execution_count": 54,
   "metadata": {},
   "outputs": [],
   "source": [
    "#Mean Pooling - Take attention mask into account for correct averaging\n",
    "def mean_pooling(model_output, attention_mask):\n",
    "    token_embeddings = model_output[0] #First element of model_output contains all token embeddings\n",
    "    input_mask_expanded = attention_mask.unsqueeze(-1).expand(token_embeddings.size()).float()\n",
    "    return torch.sum(token_embeddings * input_mask_expanded, 1) / torch.clamp(input_mask_expanded.sum(1), min=1e-9)\n"
   ]
  },
  {
   "cell_type": "code",
   "execution_count": 78,
   "metadata": {},
   "outputs": [],
   "source": [
    "def gera_embeddings(parm_model:AutoModel , parm_tokenizer:AutoTokenizer, parm_sentences:list, parm_tipo_resumo:str='cls'):\n",
    "    \"\"\"\n",
    "    Função para gerar embeddings de sentenças usando um modelo pré-treinado.\n",
    "\n",
    "    Args:\n",
    "        parm_model (AutoModel): Modelo pré-treinado para geração de embeddings.\n",
    "        parm_tokenizer (AutoTokenizer): Tokenizer associado ao modelo pré-treinado.\n",
    "        parm_sentences (list): Lista de sentenças para as quais os embeddings serão gerados.\n",
    "        parm_tipo_resumo (str, opcional): Tipo de resumo a ser aplicado nas sentenças. Pode ser 'cls' para usar o token [CLS]\n",
    "            ou 'mean' para usar a média das embeddings dos tokens. O padrão é 'cls'.\n",
    "\n",
    "    Returns:\n",
    "        embeddings (torch.Tensor): Embeddings gerados para as sentenças, como um tensor do PyTorch.\n",
    "    \"\"\"\n",
    "\n",
    "    # Tokenize sentences\n",
    "    encoded_input = parm_tokenizer(parm_sentences, padding=True, truncation=True, return_tensors='pt')\n",
    "    # Executa o tokenizador nas sentenças fornecidas, com opções de padding, truncation e retorno como tensores do PyTorch\n",
    "\n",
    "    # Move os dados para o dispositivo especificado (CPU ou GPU)\n",
    "    encoded_input = {key: value.to(device) for key, value in encoded_input.items()}\n",
    "\n",
    "    with torch.no_grad():\n",
    "        # Desativa o cálculo de gradientes para economizar memória e acelerar a inferência\n",
    "        model_output = parm_model(**encoded_input)\n",
    "        # Passa os inputs tokenizados para o modelo e obtém a saída do modelo\n",
    "\n",
    "    if parm_tipo_resumo == 'cls':\n",
    "        # Se o tipo de resumo for 'cls', retorna o embedding do token [CLS]\n",
    "        embeddings = model_output[0][:, 0, :].to('cpu').numpy()\n",
    "        # Seleciona o embedding do token [CLS], que está na primeira posição do output do modelo\n",
    "    elif parm_tipo_resumo == 'mean':\n",
    "        # Se o tipo de resumo for 'mean', realiza pooling médio nas embeddings dos tokens\n",
    "        embeddings = mean_pooling(model_output, encoded_input['attention_mask'])\n",
    "        # Chama a função mean_pooling para realizar o pooling médio, passando o output do modelo e a máscara de atenção\n",
    "        embeddings = torch.nn.functional.normalize(embeddings, p=2, dim=1).to('cpu').numpy()\n",
    "        # Normaliza as embeddings usando a norma L2 (euclidiana)\n",
    "    else:\n",
    "        # Se o tipo de resumo não for válido, levanta uma exceção\n",
    "        raise Exception(f\"parm_tipo_resumo deve ser cls ou mean, não  {parm_tipo_resumo}\")\n",
    "\n",
    "    return embeddings\n",
    "    # Retorna as embeddings geradas como um tensor do PyTorch\n"
   ]
  },
  {
   "attachments": {},
   "cell_type": "markdown",
   "metadata": {},
   "source": [
    "### Experimentos de teste de encoding"
   ]
  },
  {
   "cell_type": "code",
   "execution_count": 56,
   "metadata": {},
   "outputs": [],
   "source": [
    "sentences_test = [\"This is an example sentence\", \"Each sentence is converted\"]"
   ]
  },
  {
   "cell_type": "code",
   "execution_count": 57,
   "metadata": {},
   "outputs": [],
   "source": [
    "# Tokenize sentences\n",
    "encoded_input = tokenizer(sentences_test, padding=True, truncation=True, return_tensors='pt')"
   ]
  },
  {
   "cell_type": "code",
   "execution_count": 58,
   "metadata": {},
   "outputs": [],
   "source": [
    "# Move os dados para o dispositivo especificado (CPU ou GPU)\n",
    "encoded_input = {key: value.to(device) for key, value in encoded_input.items()}"
   ]
  },
  {
   "cell_type": "code",
   "execution_count": 59,
   "metadata": {},
   "outputs": [
    {
     "data": {
      "text/plain": [
       "{'input_ids': tensor([[ 101, 2023, 2003, 2019, 2742, 6251,  102],\n",
       "         [ 101, 2169, 6251, 2003, 4991,  102,    0]], device='cuda:0'),\n",
       " 'token_type_ids': tensor([[0, 0, 0, 0, 0, 0, 0],\n",
       "         [0, 0, 0, 0, 0, 0, 0]], device='cuda:0'),\n",
       " 'attention_mask': tensor([[1, 1, 1, 1, 1, 1, 1],\n",
       "         [1, 1, 1, 1, 1, 1, 0]], device='cuda:0')}"
      ]
     },
     "execution_count": 59,
     "metadata": {},
     "output_type": "execute_result"
    }
   ],
   "source": [
    "encoded_input"
   ]
  },
  {
   "cell_type": "code",
   "execution_count": 60,
   "metadata": {},
   "outputs": [],
   "source": [
    "# Compute token embeddings\n",
    "with torch.no_grad():\n",
    "    model_output = passages_model(**encoded_input)"
   ]
  },
  {
   "cell_type": "code",
   "execution_count": 61,
   "metadata": {},
   "outputs": [],
   "source": [
    "cls_embeddings = model_output[0][:, 0, :]\n"
   ]
  },
  {
   "cell_type": "code",
   "execution_count": 62,
   "metadata": {},
   "outputs": [
    {
     "data": {
      "text/plain": [
       "torch.Size([2, 384])"
      ]
     },
     "execution_count": 62,
     "metadata": {},
     "output_type": "execute_result"
    }
   ],
   "source": [
    "cls_embeddings.shape"
   ]
  },
  {
   "cell_type": "code",
   "execution_count": 63,
   "metadata": {},
   "outputs": [],
   "source": [
    "# Perform pooling\n",
    "mean_embeddings = mean_pooling(model_output, encoded_input['attention_mask'])"
   ]
  },
  {
   "cell_type": "code",
   "execution_count": 64,
   "metadata": {},
   "outputs": [],
   "source": [
    "# Normalize embeddings\n",
    "mean_embeddings = torch.nn.functional.normalize(mean_embeddings, p=2, dim=1)\n"
   ]
  },
  {
   "cell_type": "code",
   "execution_count": 65,
   "metadata": {},
   "outputs": [
    {
     "name": "stdout",
     "output_type": "stream",
     "text": [
      "Sentence embeddings:\n",
      "torch.Size([2, 384]) tensor([-2.0266e-04, 8.1480e-02, 3.1362e-02, 2.9206e-03, 2.6156e-02, 2.9074e-02, 7.8262e-02, -1.8042e-03,\n",
      "        1.0134e-01, -4.5171e-02], device='cuda:0') \n",
      "(...)\n",
      " tensor([3.3426e-02, -3.7150e-02, 9.1379e-02, 4.6740e-03, -1.4017e-02, 2.1975e-02, 2.3848e-02, 6.2093e-02,\n",
      "        4.9103e-02, -2.9018e-04], device='cuda:0')\n"
     ]
    }
   ],
   "source": [
    "\n",
    "print(\"Sentence embeddings:\")\n",
    "print(mean_embeddings.shape,mean_embeddings[0][:10], '\\n(...)\\n', mean_embeddings[0][-10:])\n"
   ]
  },
  {
   "cell_type": "code",
   "execution_count": 66,
   "metadata": {},
   "outputs": [
    {
     "data": {
      "text/plain": [
       "torch.Size([2, 384])"
      ]
     },
     "execution_count": 66,
     "metadata": {},
     "output_type": "execute_result"
    }
   ],
   "source": [
    "model_output[-1].shape"
   ]
  },
  {
   "cell_type": "code",
   "execution_count": 67,
   "metadata": {},
   "outputs": [
    {
     "data": {
      "text/plain": [
       "torch.Size([2, 7, 384])"
      ]
     },
     "execution_count": 67,
     "metadata": {},
     "output_type": "execute_result"
    }
   ],
   "source": [
    "model_output[0].size()"
   ]
  },
  {
   "cell_type": "code",
   "execution_count": 70,
   "metadata": {},
   "outputs": [
    {
     "data": {
      "text/plain": [
       "2"
      ]
     },
     "execution_count": 70,
     "metadata": {},
     "output_type": "execute_result"
    }
   ],
   "source": [
    "len(model_output)"
   ]
  },
  {
   "cell_type": "code",
   "execution_count": 71,
   "metadata": {},
   "outputs": [
    {
     "data": {
      "text/plain": [
       "torch.Size([2, 384])"
      ]
     },
     "execution_count": 71,
     "metadata": {},
     "output_type": "execute_result"
    }
   ],
   "source": [
    "model_output[1].shape"
   ]
  },
  {
   "attachments": {},
   "cell_type": "markdown",
   "metadata": {},
   "source": [
    "## Gerando enconding para queries"
   ]
  },
  {
   "cell_type": "code",
   "execution_count": 79,
   "metadata": {},
   "outputs": [
    {
     "name": "stdout",
     "output_type": "stream",
     "text": [
      "CPU times: user 503 ms, sys: 16 ms, total: 519 ms\n",
      "Wall time: 518 ms\n"
     ]
    }
   ],
   "source": [
    "%%time\n",
    "topics_encoded = {}\n",
    "for id, value in topics.items():\n",
    "    # print(id, value)\n",
    "    topics_encoded[id]= gera_embeddings(passages_model, tokenizer, [value['question']], 'cls')[0]"
   ]
  },
  {
   "cell_type": "code",
   "execution_count": 80,
   "metadata": {},
   "outputs": [
    {
     "data": {
      "text/plain": [
       "(50,\n",
       " array([-0.16807137, -0.04519013, -0.21228197, -0.14981315,  0.37164712,\n",
       "        -0.10712396,  0.03028835,  0.15896398,  0.19999021, -0.30677956],\n",
       "       dtype=float32))"
      ]
     },
     "execution_count": 80,
     "metadata": {},
     "output_type": "execute_result"
    }
   ],
   "source": [
    "len(topics_encoded), topics_encoded[1][:10]"
   ]
  },
  {
   "attachments": {},
   "cell_type": "markdown",
   "metadata": {},
   "source": [
    "## Gerando enconding para docs"
   ]
  },
  {
   "cell_type": "code",
   "execution_count": 81,
   "metadata": {},
   "outputs": [
    {
     "data": {
      "text/plain": [
       "dict_keys(['_id', 'title', 'text', 'metadata'])"
      ]
     },
     "execution_count": 81,
     "metadata": {},
     "output_type": "execute_result"
    }
   ],
   "source": [
    "corpus[0].keys()"
   ]
  },
  {
   "cell_type": "code",
   "execution_count": 82,
   "metadata": {},
   "outputs": [
    {
     "name": "stderr",
     "output_type": "stream",
     "text": [
      "100%|██████████| 171332/171332 [33:19<00:00, 85.67it/s]"
     ]
    },
    {
     "name": "stdout",
     "output_type": "stream",
     "text": [
      "CPU times: user 33min 22s, sys: 1.79 s, total: 33min 24s\n",
      "Wall time: 33min 19s\n"
     ]
    },
    {
     "name": "stderr",
     "output_type": "stream",
     "text": [
      "\n"
     ]
    }
   ],
   "source": [
    "%%time\n",
    "corpus_encoded = {}\n",
    "for docto in tqdm(corpus):\n",
    "    corpus_encoded[docto['_id']] = gera_embeddings(passages_model, tokenizer, [docto['title'] + '. '+ docto['text']], 'cls')[0]\n",
    "    # print(docto)\n",
    "    # break"
   ]
  },
  {
   "cell_type": "code",
   "execution_count": 83,
   "metadata": {},
   "outputs": [
    {
     "data": {
      "text/plain": [
       "171332"
      ]
     },
     "execution_count": 83,
     "metadata": {},
     "output_type": "execute_result"
    }
   ],
   "source": [
    "len(corpus_encoded)"
   ]
  },
  {
   "cell_type": "code",
   "execution_count": 84,
   "metadata": {},
   "outputs": [
    {
     "data": {
      "text/plain": [
       "array([-6.21874258e-03, -1.20662630e-01, -2.61611998e-01, -1.97607756e-01,\n",
       "        8.76287147e-02, -3.27481814e-02, -2.19035655e-01,  1.07552670e-01,\n",
       "       -4.28966321e-02,  9.19836536e-02,  5.32585103e-03,  1.73973653e-03,\n",
       "        2.96231002e-01, -2.79507518e-01,  1.46820173e-01, -8.19274411e-02,\n",
       "       -8.32051970e-03,  5.73352911e-03,  2.05598041e-01, -2.91884132e-02,\n",
       "        7.45842755e-02,  1.09343365e-01,  1.60747126e-01, -1.14155456e-01,\n",
       "        4.72229309e-02, -1.31777212e-01, -6.65777624e-02,  1.38052665e-02,\n",
       "        4.57048774e-01, -9.10129189e-01, -1.49422109e-01, -4.31542397e-02,\n",
       "        2.46372789e-01, -1.72781363e-01, -6.20418368e-03,  3.72753531e-01,\n",
       "        1.91106677e-01,  3.71161520e-01,  4.24360968e-02, -7.49465525e-02,\n",
       "        5.43528572e-02,  1.71901554e-01,  5.26305847e-02, -3.62779170e-01,\n",
       "        2.85411673e-03, -2.45256782e-01,  1.46584049e-01, -1.99391931e-01,\n",
       "       -1.75008059e-01,  1.29311651e-01,  5.74190393e-02,  1.31374868e-02,\n",
       "       -4.77273166e-02,  2.18205020e-01,  1.65385216e-01, -1.09622642e-01,\n",
       "       -6.47234470e-02, -4.46258895e-02, -1.70762137e-01,  1.49240628e-01,\n",
       "       -1.44948646e-01,  1.95529118e-01, -2.37652138e-01, -1.40304804e-01,\n",
       "       -1.10087693e-01, -2.25475311e-01,  4.05442595e-01, -3.49703021e-02,\n",
       "       -1.97392167e-03,  1.66457087e-01,  2.10112438e-01, -2.27271870e-01,\n",
       "        1.22568831e-01, -1.56948268e-02,  5.35802059e-02,  7.20196664e-02,\n",
       "       -2.55331129e-01, -2.65953124e-01,  6.62166402e-02,  2.30384156e-01,\n",
       "       -2.99368680e-01,  1.45275533e-01,  2.03137130e-01, -3.50495636e-01,\n",
       "       -2.36400682e-02,  2.11520046e-01,  1.65262252e-01, -1.04773417e-01,\n",
       "        7.45426416e-02,  4.96926308e-02, -4.29301668e-04, -6.21417677e-03,\n",
       "        5.19162677e-02, -3.68347496e-01, -2.76260793e-01, -5.49559407e-02,\n",
       "        2.04121336e-01, -1.39290199e-01,  1.85904354e-01,  3.07601929e+00,\n",
       "       -2.23311588e-01, -2.29123637e-01,  3.27106208e-01, -1.37266144e-01,\n",
       "        1.52702391e-01, -1.49971023e-01,  1.91435754e-01,  2.83561200e-02,\n",
       "       -1.57584064e-02, -1.27743751e-01,  2.11209685e-01,  1.24239683e-01,\n",
       "       -1.46026891e-02,  1.68590993e-01,  3.86479544e-03, -6.69390708e-02,\n",
       "        4.39832844e-02, -5.31808659e-02, -6.54199272e-02, -1.34002998e-01,\n",
       "       -1.40270721e-02, -9.48895663e-02,  1.67604133e-01,  1.53215379e-01,\n",
       "       -2.33335137e-01, -1.43676889e+00,  3.55022758e-01, -5.40485457e-02,\n",
       "       -1.74742907e-01,  5.81186824e-02,  2.01992497e-01,  2.36141548e-01,\n",
       "        3.12645063e-02,  1.66548312e-01,  3.44190300e-02,  1.38551727e-01,\n",
       "        5.90675399e-02, -1.53605655e-01,  1.13825679e-01,  3.44618689e-03,\n",
       "       -2.49177247e-01, -7.77986869e-02,  1.47462368e-01, -2.56316792e-02,\n",
       "        2.08183870e-01, -2.78663673e-02,  3.49887460e-01,  2.75353808e-02,\n",
       "        9.85511839e-02,  6.54750019e-02,  3.74483079e-01,  9.07698870e-02,\n",
       "       -2.02344842e-02, -8.44960511e-02,  2.51222461e-01,  6.84525892e-02,\n",
       "        1.11484468e-01, -5.76201737e-01,  1.40842229e-01,  1.17933385e-01,\n",
       "        1.06147505e-01, -4.49804664e-01, -2.51809210e-01, -3.13415378e-01,\n",
       "       -2.05384821e-01,  1.46367520e-01,  1.68691173e-01,  5.75552881e-03,\n",
       "       -1.87739288e-03, -8.19335654e-02, -2.37192109e-01,  1.70593053e-01,\n",
       "        1.51861936e-01, -8.37128013e-02, -1.48298889e-01, -1.59388520e-02,\n",
       "       -1.21230401e-01, -2.19468083e-02, -3.66985202e-02,  9.52595472e-02,\n",
       "       -1.31747201e-01,  2.73690879e-01, -1.87891737e-01, -2.32322261e-01,\n",
       "        1.79578848e-02,  1.06565624e-01, -4.69448278e-03, -2.61976328e-02,\n",
       "        2.60267437e-01, -2.83359945e-01, -3.21159624e-02,  1.87594682e-01,\n",
       "       -4.42912430e-02,  2.19142239e-04, -2.30624244e-01,  7.41803146e-04,\n",
       "        4.12471034e-02,  2.05940694e-01, -8.43644887e-02, -2.06048727e-01,\n",
       "       -2.31352717e-01,  1.86787397e-01,  1.72350973e-01,  1.48049966e-01,\n",
       "        6.75622672e-02,  1.22378739e-02,  2.97436059e-01,  1.75588205e-02,\n",
       "       -1.88944768e-02,  2.54918367e-01,  1.07315846e-01,  2.66096331e-02,\n",
       "       -2.73386359e-01, -6.30897805e-02,  1.02584675e-01,  1.32764369e-01,\n",
       "       -4.43460681e-02, -2.44657144e-01, -1.49499148e-01, -1.84851035e-01,\n",
       "       -6.35968242e-03,  2.99656898e-01, -2.02448308e-01,  9.32801023e-32,\n",
       "        2.88998663e-01,  1.25683295e-02,  1.17200449e-01, -1.10017210e-01,\n",
       "       -3.12251806e-01,  6.45070970e-02,  1.82296664e-01, -1.41996235e-01,\n",
       "       -1.84395492e-01, -2.95915633e-01, -5.54103553e-02, -1.91879496e-01,\n",
       "       -1.33773744e-01,  2.09200934e-01, -1.72647670e-01,  1.00430669e-02,\n",
       "        2.41170302e-01,  1.59657318e-02,  1.39632091e-01,  2.74706870e-01,\n",
       "        3.89087647e-02,  3.50060374e-01,  3.41164410e-01,  6.32284731e-02,\n",
       "       -5.97683825e-02,  9.95421223e-03, -3.02139483e-02,  1.97078213e-01,\n",
       "        1.09627977e-01, -3.00324149e-02,  6.94297580e-03,  3.89362365e-01,\n",
       "        1.64768957e-02,  1.52627677e-01,  2.54186895e-02,  1.58300415e-01,\n",
       "       -1.06625631e-01,  1.65884897e-01,  2.56958306e-02,  1.14364415e-01,\n",
       "        9.83282626e-02,  4.19168472e-01,  3.55482362e-02,  6.41749129e-02,\n",
       "       -4.64550927e-02,  3.76576006e-01,  8.40292126e-02,  1.87007993e-01,\n",
       "       -8.81278589e-02, -1.97465107e-01,  3.83103713e-02,  1.19966261e-01,\n",
       "       -2.27699056e-04, -3.36388469e-01, -2.27912053e-01,  9.63876545e-02,\n",
       "       -4.30853181e-02,  8.65844861e-02,  8.11574608e-02,  6.78173974e-02,\n",
       "       -1.61923841e-01,  1.25453591e-01, -8.02160874e-02,  1.78635448e-01,\n",
       "       -1.65840268e-01,  3.82097244e-01,  1.33587018e-01, -1.79260120e-01,\n",
       "        6.45244494e-02,  6.67949915e-02,  7.41515756e-02,  1.69965494e-02,\n",
       "       -1.34507969e-01, -1.52924238e-02,  2.94563115e-01, -4.87844134e-03,\n",
       "       -3.57720777e-02,  3.67920309e-01,  1.13307595e-01,  1.30676970e-01,\n",
       "        6.17128350e-02, -2.90619195e-01,  1.35010928e-01, -5.79089001e-02,\n",
       "        1.45462960e-01, -4.91456827e-03, -1.35031804e-01,  6.86877221e-02,\n",
       "       -2.35165641e-01, -2.15840146e-01,  2.92355835e-01,  6.62589595e-02,\n",
       "        6.47371560e-02,  2.73831841e-02,  9.22880173e-02, -3.70985241e-31,\n",
       "        1.94313914e-01, -1.95275605e-01,  1.44909129e-01,  4.66948226e-02,\n",
       "        9.07517672e-02, -6.75590767e-04,  1.86846241e-01,  2.10275114e-01,\n",
       "        1.37230441e-01, -1.24008328e-01, -5.32773025e-02, -7.05196410e-02,\n",
       "       -4.62485775e-02,  9.51214880e-02, -1.65596008e-01, -2.46966690e-01,\n",
       "       -1.98527053e-01,  2.34583914e-01,  8.20193410e-01, -1.00783734e-02,\n",
       "        1.93116769e-01,  4.62355912e-02, -8.46643001e-02, -2.05147505e-01,\n",
       "        1.34039059e-01,  1.21027209e-01,  1.96683094e-01, -4.57994521e-01,\n",
       "        4.79330532e-02,  2.80794650e-01,  7.44237304e-02, -2.27440685e-01,\n",
       "        2.08688840e-01, -2.50261843e-01, -4.65049088e-01, -1.09062143e-01,\n",
       "        1.82567626e-01, -1.02442317e-01, -2.15565898e-02,  2.65082568e-02,\n",
       "        2.93846875e-01,  3.55520606e-01, -1.23563722e-01, -3.95304799e-01,\n",
       "        1.65614158e-01,  1.62926018e-01, -2.92010814e-01,  2.10093497e-03,\n",
       "       -8.27212259e-02, -3.84947378e-03,  6.03107214e-02, -1.86846778e-02,\n",
       "       -2.09103212e-01,  9.26520750e-02, -1.55167639e-01,  4.30848747e-02,\n",
       "       -1.80028807e-02, -1.41330197e-01, -1.35325223e-01, -1.34597532e-02,\n",
       "       -2.03297883e-01, -1.06686905e-01, -3.15454863e-02,  2.14494541e-01],\n",
       "      dtype=float32)"
      ]
     },
     "execution_count": 84,
     "metadata": {},
     "output_type": "execute_result"
    }
   ],
   "source": [
    "corpus_encoded['ug7v899j']"
   ]
  },
  {
   "attachments": {},
   "cell_type": "markdown",
   "metadata": {},
   "source": [
    "### Salvando os dados"
   ]
  },
  {
   "cell_type": "code",
   "execution_count": 85,
   "metadata": {},
   "outputs": [],
   "source": [
    "with open(f\"{DIRETORIO_TRABALHO}/data_index_all_minilm.pickle\", 'wb') as outputFile:\n",
    "    pickle.dump({'topics_encoded': topics_encoded,\n",
    "                 'corpus_encoded': corpus_encoded}, outputFile, pickle.HIGHEST_PROTOCOL)"
   ]
  },
  {
   "cell_type": "code",
   "execution_count": 96,
   "metadata": {},
   "outputs": [
    {
     "data": {
      "text/plain": [
       "171332"
      ]
     },
     "execution_count": 96,
     "metadata": {},
     "output_type": "execute_result"
    }
   ],
   "source": [
    "len(corpus_encoded)"
   ]
  },
  {
   "attachments": {},
   "cell_type": "markdown",
   "metadata": {},
   "source": [
    "## Indexação "
   ]
  },
  {
   "attachments": {},
   "cell_type": "markdown",
   "metadata": {},
   "source": [
    "## Lendo os dados"
   ]
  },
  {
   "cell_type": "code",
   "execution_count": null,
   "metadata": {},
   "outputs": [],
   "source": [
    "with open(f\"{DIRETORIO_TRABALHO}/data_index_all_minilm.pickle\", \"rb\") as f:\n",
    "  teste = pickle.load(f)"
   ]
  },
  {
   "cell_type": "code",
   "execution_count": null,
   "metadata": {},
   "outputs": [],
   "source": [
    "topics_encoded = teste['topics_encoded']\n",
    "corpus_encoded = teste['corpus_encoded']"
   ]
  },
  {
   "cell_type": "code",
   "execution_count": 97,
   "metadata": {},
   "outputs": [],
   "source": [
    "assert len(corpus_encoded)==171332, f\"Tamanho len(corpus_encoded) deveria ser 171332 e foi {len(corpus_encoded)}\"\n",
    "assert len(topics_encoded)==50, f\"Tamanho len(topics_encoded) deveria ser 171332 e foi {len(topics_encoded)}\""
   ]
  },
  {
   "cell_type": "code",
   "execution_count": 1,
   "metadata": {},
   "outputs": [],
   "source": [
    "def gera_indice(parm_corpus_encoded:{}, parm_tipo_similaridade_indice:str='cosseno'):\n",
    "    \"\"\"\n",
    "        Ainda não implementados outros tipos de similaridade.\n",
    "        Outras métricas de similaridade suportadas pelo FAISS incluem a distância euclidiana (faiss.IndexFlatL2) e \n",
    "        a distância Manhattan (faiss.IndexFlatL1).\n",
    "        Você pode consultar a documentação oficial do FAISS para obter mais informações sobre as métricas disponíveis e como usá-las: https://github.com/facebookresearch/faiss/blob/master/docs/indexes.md#available-indexes\n",
    "    \"\"\"\n",
    "    lista_id_docto_corpus = list(parm_corpus_encoded.keys())\n",
    "    corpus_encoded_np = np.array(list(parm_corpus_encoded.values()))\n",
    "    embed_dim = parm_corpus_encoded[lista_id_docto_corpus[0]].shape[0]  # dimensão dos embeddings\n",
    "    print(f\"embed_dim: {embed_dim}\")    \n",
    "    if parm_tipo_similaridade_indice == 'cosseno':\n",
    "        #  a métrica cosseno é usada com o índice FlatIP, que é uma versão otimizada para a métrica cosseno do índice Flat, que é o índice padrão do FAISS.\n",
    "        index = faiss.IndexFlatL2(embed_dim)  # índice com métrica L2 (euclidiana)\n",
    "    else:\n",
    "        raise Exception(f\"parm_tipo_similaridade_indice deve ser cosseno, não  {parm_tipo_similaridade_indice}\")\n",
    "    index.add(corpus_encoded_np)  # adiciona os embeddings do corpus ao índice\n",
    "    return index, lista_id_docto_corpus"
   ]
  },
  {
   "cell_type": "code",
   "execution_count": 99,
   "metadata": {},
   "outputs": [
    {
     "name": "stdout",
     "output_type": "stream",
     "text": [
      "embed_dim: 384\n"
     ]
    }
   ],
   "source": [
    "indice, lista_id_docto_corpus = gera_indice(corpus_encoded, 'cosseno')\n"
   ]
  },
  {
   "cell_type": "code",
   "execution_count": 100,
   "metadata": {},
   "outputs": [
    {
     "data": {
      "text/plain": [
       "faiss.swigfaiss_avx2.IndexFlatL2"
      ]
     },
     "execution_count": 100,
     "metadata": {},
     "output_type": "execute_result"
    }
   ],
   "source": [
    "type(indice)"
   ]
  },
  {
   "cell_type": "code",
   "execution_count": 101,
   "metadata": {},
   "outputs": [
    {
     "data": {
      "text/plain": [
       "['ug7v899j', '02tnwd4m', 'ejv2xln0', '2b73a28n']"
      ]
     },
     "execution_count": 101,
     "metadata": {},
     "output_type": "execute_result"
    }
   ],
   "source": [
    "lista_id_docto_corpus[:4]"
   ]
  },
  {
   "attachments": {},
   "cell_type": "markdown",
   "metadata": {},
   "source": [
    "## Realizar buscas "
   ]
  },
  {
   "cell_type": "code",
   "execution_count": 129,
   "metadata": {},
   "outputs": [],
   "source": [
    "# Run all queries in topics, retrive top 1k for each query\n",
    "def run_all_queries_embed_index(parm_topics_encoded:{}, parm_indice_com_embeddings:faiss.swigfaiss_avx2.IndexFlatL2, parm_lista_id_docto_corpus:list, parm_num_max_hits:int=1000):\n",
    "    \"\"\"\n",
    "    A função run_all_queries é responsável por realizar todas as consultas armazenadas no dicionário topics utilizando o objeto searcher fornecido e salvar os resultados em um arquivo de texto.\n",
    "    Usada no notebook da aula 2\n",
    "\n",
    "    Parâmetros:\n",
    "\n",
    "    file: caminho do arquivo de saída onde serão salvos os resultados das consultas.\n",
    "    topics: dicionário contendo as consultas a serem executadas. Cada consulta é representada por uma chave única no dicionário. O valor correspondente a cada chave é um outro dicionário contendo as informações da consulta, como seu título e outras informações relevantes.\n",
    "    searcher: objeto do tipo Searcher que será utilizado para realizar as consultas.\n",
    "    num_max_hits: número máximo de documentos relevantes que serão retornados para cada consulta.\n",
    "    Retorno:\n",
    "\n",
    "    A função não retorna nenhum valor, mas salva os resultados das consultas no arquivo especificado em file.\n",
    "    Comentário:\n",
    "\n",
    "    A função usa a biblioteca tqdm para exibir uma barra de progresso enquanto executa as consultas.\n",
    "    O número de consultas concluídas é impresso a cada 100 consultas.\n",
    "    \"\"\"\n",
    "    topics_encoded_np = np.array(list(parm_topics_encoded.values()))\n",
    "\n",
    "    scores_result_search, index_result_search = parm_indice_com_embeddings.search(topics_encoded_np, parm_num_max_hits)  # realiza a pesquisa no índice\n",
    "\n",
    "    print(f\"Após pesquisa, scores_result_search.shape: {scores_result_search.shape}, scores_result_search[0][:10]:{scores_result_search[0][:10]} \")\n",
    "\n",
    "\n",
    "    # ajustando os ids\n",
    "\n",
    "    all_topics_results = {}\n",
    "    for ndx_query, (topic_id, doc_indices) in enumerate(zip(topics_encoded.keys(), index_result_search)):\n",
    "        doc_scores_query = scores_result_search[ndx_query]\n",
    "        topic_results = []\n",
    "        for ndx_doc, doc_ndx in enumerate(doc_indices):\n",
    "            doc_id = parm_lista_id_docto_corpus[doc_ndx]\n",
    "            doc_score = doc_scores_query[ndx_doc]\n",
    "            topic_results.append([doc_id, doc_score])\n",
    "        topic_results.sort(key=lambda x: x[1], reverse=True)\n",
    "        all_topics_results[topic_id] = topic_results\n",
    "    print(len(all_topics_results), list(all_topics_results.keys()))# , list(all_topics_results.values())[0][:10])\n",
    "    print(f\"Exemplo de um resultado: query_id== {list(all_topics_results.keys())[0]}, first_10_relevant_documents_retrieved = {list(all_topics_results.values())[0][:10]}\")\n",
    "\n",
    "\n",
    "\n",
    "\n",
    "    with open(CAMINHO_RUN, 'w') as runfile:\n",
    "        for topic_id in topics_encoded:\n",
    "            # print(topic_id)\n",
    "            for i in range(0, parm_num_max_hits):\n",
    "                _ = runfile.write(f'{topic_id} Q0 {all_topics_results[topic_id][i][0]} {i+1} {all_topics_results[topic_id][i][1]:.6f} Pesquisa\\n')\n",
    "                \n"
   ]
  },
  {
   "cell_type": "code",
   "execution_count": 130,
   "metadata": {},
   "outputs": [
    {
     "name": "stdout",
     "output_type": "stream",
     "text": [
      "Após pesquisa, scores_result_search.shape: (50, 1000), scores_result_search[0][:10]:[3.0686874 3.1987457 3.482605  3.7657661 3.9926224 4.0703087 4.1311874\n",
      " 4.42017   4.4837875 4.828064 ] \n",
      "50 [44, 45, 46, 47, 48, 49, 50, 10, 11, 12, 13, 14, 15, 16, 17, 18, 19, 1, 2, 3, 4, 5, 6, 7, 8, 9, 20, 21, 22, 23, 24, 25, 26, 27, 28, 29, 30, 31, 32, 33, 34, 35, 36, 37, 38, 39, 40, 41, 42, 43]\n",
      "Exemplo de um resultado: query_id== 44, first_10_relevant_documents_retrieved = [['rroxtmag', 13.564629], ['6qs8pvrv', 13.563751], ['wiomb5k3', 13.5636635], ['id3iu30t', 13.562904], ['5ina237p', 13.562317], ['5r3kf9wa', 13.560501], ['xfjexm5b', 13.560413], ['xb4klcub', 13.557503], ['h9hipko0', 13.552311], ['k2pha0ub', 13.551182]]\n"
     ]
    }
   ],
   "source": [
    "run_all_queries_embed_index(topics_encoded, indice, lista_id_docto_corpus, parm_num_max_hits=1000)"
   ]
  },
  {
   "cell_type": "markdown",
   "metadata": {},
   "source": [
    "## Avaliação dos resultados"
   ]
  },
  {
   "cell_type": "code",
   "execution_count": 134,
   "metadata": {},
   "outputs": [],
   "source": [
    "trec_eval = load(\"trec_eval\")"
   ]
  },
  {
   "cell_type": "code",
   "execution_count": 135,
   "metadata": {},
   "outputs": [
    {
     "name": "stdout",
     "output_type": "stream",
     "text": [
      "   query  q0     docid  rank      score    system\n",
      "0     44  Q0  rroxtmag     1  13.564629  Pesquisa\n",
      "1     44  Q0  6qs8pvrv     2  13.563751  Pesquisa\n",
      "2     44  Q0  wiomb5k3     3  13.563663  Pesquisa\n",
      "3     44  Q0  id3iu30t     4  13.562904  Pesquisa\n",
      "4     44  Q0  5ina237p     5  13.562317  Pesquisa\n",
      "\n",
      "[5 rows x 6 columns]\n",
      "NDCG@10: 0.02728446458793006\n",
      "Resultados: {'runid': 'Pesquisa', 'num_ret': 50000, 'num_rel': 24673, 'num_rel_ret': 4111, 'num_q': 50, 'map': 0.020725983829006842, 'gm_map': 0.0032868832686071886, 'bpref': 0.16421888309534055, 'Rprec': 0.05620782552194098, 'recip_rank': 0.0958358681934901, 'P@5': 0.04, 'P@10': 0.04, 'P@15': 0.04, 'P@20': 0.040999999999999995, 'P@30': 0.04333333333333333, 'P@100': 0.0426, 'P@200': 0.04540000000000001, 'P@500': 0.05316, 'P@1000': 0.08222, 'NDCG@5': 0.024541013967736877, 'NDCG@10': 0.02728446458793006, 'NDCG@15': 0.028399203726244823, 'NDCG@20': 0.03007681061382414, 'NDCG@30': 0.03231653413695874, 'NDCG@100': 0.03423262008119381, 'NDCG@200': 0.03751643049202284, 'NDCG@500': 0.05450940105337818, 'NDCG@1000': 0.13941543201332604}\n"
     ]
    }
   ],
   "source": [
    "### Calculando métricas\n",
    "run = pd.read_csv(f\"{CAMINHO_RUN}\", sep=\"\\s+\", \n",
    "                names=[\"query\", \"q0\", \"docid\", \"rank\", \"score\", \"system\"])\n",
    "print(run.head())\n",
    "run = run.to_dict(orient=\"list\")\n",
    "results = trec_eval.compute(predictions=[run], references=[qrel_dict])\n",
    "\n",
    "# salvando métricas    \n",
    "print(f\"NDCG@10: {results['NDCG@10']}\")\n",
    "print(f\"Resultados: {results}\")\n"
   ]
  },
  {
   "cell_type": "code",
   "execution_count": null,
   "metadata": {},
   "outputs": [],
   "source": []
  }
 ],
 "metadata": {
  "kernelspec": {
   "display_name": "treinapython39",
   "language": "python",
   "name": "python3"
  },
  "language_info": {
   "codemirror_mode": {
    "name": "ipython",
    "version": 3
   },
   "file_extension": ".py",
   "mimetype": "text/x-python",
   "name": "python",
   "nbconvert_exporter": "python",
   "pygments_lexer": "ipython3",
   "version": "3.9.16"
  },
  "orig_nbformat": 4,
  "vscode": {
   "interpreter": {
    "hash": "e431eb1d856c426fade2a694f8536bd46c4e9c4bd47cb4afd3fb4d2c61122b03"
   }
  }
 },
 "nbformat": 4,
 "nbformat_minor": 2
}
