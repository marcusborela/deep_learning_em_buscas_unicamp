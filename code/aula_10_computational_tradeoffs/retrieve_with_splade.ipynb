{
 "cells": [
  {
   "cell_type": "markdown",
   "metadata": {},
   "source": [
    "Experimentando pipeline splade da aula 8 no contexto da aula 10 (computational tradeoffs)"
   ]
  },
  {
   "attachments": {},
   "cell_type": "markdown",
   "metadata": {},
   "source": [
    "\n",
    "[Unicamp - IA368DD: Deep Learning aplicado a sistemas de busca.](https://www.cpg.feec.unicamp.br/cpg/lista/caderno_horario_show.php?id=1779)\n",
    "\n",
    "Autor: Marcus Vinícius Borela de Castro\n",
    "\n",
    "[Repositório no github](https://github.com/marcusborela/deep_learning_em_buscas_unicamp)\n"
   ]
  },
  {
   "attachments": {},
   "cell_type": "markdown",
   "metadata": {},
   "source": [
    "naver/splade_v2_distil (do distilbert) ou splade-cocondenser-selfdistil (do BERT-base 110M params)\n",
    "\n",
    " https://arxiv.org/pdf/2205.04733.pdf"
   ]
  },
  {
   "attachments": {},
   "cell_type": "markdown",
   "metadata": {},
   "source": [
    "# Organizando o ambiente"
   ]
  },
  {
   "cell_type": "code",
   "execution_count": 1,
   "metadata": {},
   "outputs": [],
   "source": [
    "import pickle"
   ]
  },
  {
   "cell_type": "code",
   "execution_count": 2,
   "metadata": {},
   "outputs": [],
   "source": [
    "import math"
   ]
  },
  {
   "cell_type": "code",
   "execution_count": 3,
   "metadata": {},
   "outputs": [],
   "source": [
    "import os"
   ]
  },
  {
   "cell_type": "code",
   "execution_count": 4,
   "metadata": {},
   "outputs": [],
   "source": [
    "import matplotlib.pyplot as plt"
   ]
  },
  {
   "cell_type": "code",
   "execution_count": 5,
   "metadata": {},
   "outputs": [],
   "source": [
    "import gzip"
   ]
  },
  {
   "cell_type": "code",
   "execution_count": 6,
   "metadata": {},
   "outputs": [],
   "source": [
    "import statistics\n"
   ]
  },
  {
   "cell_type": "code",
   "execution_count": 7,
   "metadata": {},
   "outputs": [],
   "source": [
    "import time"
   ]
  },
  {
   "cell_type": "code",
   "execution_count": 8,
   "metadata": {},
   "outputs": [],
   "source": [
    "import shutil"
   ]
  },
  {
   "cell_type": "code",
   "execution_count": 9,
   "metadata": {},
   "outputs": [],
   "source": [
    "import json"
   ]
  },
  {
   "cell_type": "code",
   "execution_count": 10,
   "metadata": {},
   "outputs": [],
   "source": [
    "import pandas as pd"
   ]
  },
  {
   "cell_type": "code",
   "execution_count": 11,
   "metadata": {
    "id": "4AJiH6lQQHc5"
   },
   "outputs": [],
   "source": [
    "from tqdm import tqdm"
   ]
  },
  {
   "cell_type": "code",
   "execution_count": 12,
   "metadata": {},
   "outputs": [
    {
     "name": "stderr",
     "output_type": "stream",
     "text": [
      "/home/borela/miniconda3/envs/treinapython39/lib/python3.9/site-packages/tqdm/auto.py:21: TqdmWarning: IProgress not found. Please update jupyter and ipywidgets. See https://ipywidgets.readthedocs.io/en/stable/user_install.html\n",
      "  from .autonotebook import tqdm as notebook_tqdm\n"
     ]
    }
   ],
   "source": [
    "from transformers import  BatchEncoding"
   ]
  },
  {
   "cell_type": "code",
   "execution_count": 13,
   "metadata": {},
   "outputs": [],
   "source": [
    "from torch.nn.functional import relu"
   ]
  },
  {
   "cell_type": "code",
   "execution_count": 14,
   "metadata": {},
   "outputs": [],
   "source": [
    "from transformers import BertTokenizer, BertForMaskedLM\n",
    "import torch"
   ]
  },
  {
   "cell_type": "code",
   "execution_count": 15,
   "metadata": {},
   "outputs": [],
   "source": [
    "from evaluate import load"
   ]
  },
  {
   "cell_type": "code",
   "execution_count": 16,
   "metadata": {},
   "outputs": [],
   "source": [
    "trec_eval = load(\"trec_eval\")"
   ]
  },
  {
   "cell_type": "code",
   "execution_count": 17,
   "metadata": {},
   "outputs": [],
   "source": [
    "trec_eval = load(\"trec_eval\")"
   ]
  },
  {
   "cell_type": "code",
   "execution_count": 18,
   "metadata": {},
   "outputs": [],
   "source": [
    "DIRETORIO_LOCAL = '/home/borela/fontes/deep_learning_em_buscas_unicamp/local'\n",
    "DIRETORIO_TRABALHO = F'{DIRETORIO_LOCAL}/tradeoff'\n",
    "DIRETORIO_RUN = f\"{DIRETORIO_TRABALHO}/runs\"\n",
    "DIRETORIO_TREC_COVID = F'{DIRETORIO_LOCAL}/trec_covid'"
   ]
  },
  {
   "cell_type": "code",
   "execution_count": 19,
   "metadata": {},
   "outputs": [],
   "source": [
    "CAMINHO_ARQUIVO_EXPANSAO_MAX = f\"{DIRETORIO_TRABALHO}/expansao_corpus_max.pickle\""
   ]
  },
  {
   "cell_type": "code",
   "execution_count": 20,
   "metadata": {},
   "outputs": [],
   "source": [
    "CAMINHO_ARQUIVO_EXPANSAO_MAX_SEM_SEP = f\"{DIRETORIO_TRABALHO}/expansao_corpus_max_sem_sep.pickle\""
   ]
  },
  {
   "cell_type": "code",
   "execution_count": 21,
   "metadata": {},
   "outputs": [
    {
     "name": "stdout",
     "output_type": "stream",
     "text": [
      "pasta já existia!\n"
     ]
    }
   ],
   "source": [
    "if os.path.exists(DIRETORIO_LOCAL):\n",
    "    print('pasta já existia!')\n",
    "else:\n",
    "    os.makedirs(DIRETORIO_LOCAL)\n",
    "    print('pasta criada!')\n"
   ]
  },
  {
   "cell_type": "code",
   "execution_count": 22,
   "metadata": {},
   "outputs": [
    {
     "name": "stdout",
     "output_type": "stream",
     "text": [
      "pasta já existia!\n"
     ]
    }
   ],
   "source": [
    "if os.path.exists(DIRETORIO_TRABALHO):\n",
    "    print('pasta já existia!')\n",
    "else:\n",
    "    os.makedirs(DIRETORIO_TRABALHO)\n",
    "    print('pasta criada!')\n"
   ]
  },
  {
   "cell_type": "code",
   "execution_count": 23,
   "metadata": {},
   "outputs": [
    {
     "name": "stdout",
     "output_type": "stream",
     "text": [
      "pasta já existia!\n"
     ]
    }
   ],
   "source": [
    "if os.path.exists(DIRETORIO_TREC_COVID):\n",
    "    print('pasta já existia!')\n",
    "else:\n",
    "    os.makedirs(DIRETORIO_TREC_COVID)\n",
    "    print('pasta criada!')\n"
   ]
  },
  {
   "cell_type": "code",
   "execution_count": 24,
   "metadata": {
    "id": "zwyzd_W8gOAL"
   },
   "outputs": [],
   "source": [
    "DIRETORIO_RUN = f\"{DIRETORIO_TRABALHO}/runs\"\n",
    "CAMINHO_RUN = f\"{DIRETORIO_RUN}/run-trec-covid.txt\""
   ]
  },
  {
   "cell_type": "code",
   "execution_count": 25,
   "metadata": {},
   "outputs": [
    {
     "name": "stdout",
     "output_type": "stream",
     "text": [
      "pasta já existia!\n"
     ]
    }
   ],
   "source": [
    "if os.path.exists(DIRETORIO_RUN):\n",
    "    print('pasta já existia!')\n",
    "else:\n",
    "    os.makedirs(DIRETORIO_RUN)\n",
    "    print('pasta criada!')\n"
   ]
  },
  {
   "cell_type": "code",
   "execution_count": 26,
   "metadata": {},
   "outputs": [],
   "source": [
    "device = torch.device('cuda:0' if torch.cuda.is_available() else 'cpu')\n",
    "  "
   ]
  },
  {
   "cell_type": "code",
   "execution_count": 27,
   "metadata": {
    "id": "DKAZ8CWCAM3-"
   },
   "outputs": [],
   "source": [
    "from psutil import virtual_memory"
   ]
  },
  {
   "cell_type": "code",
   "execution_count": 28,
   "metadata": {
    "id": "9XgIWvkkH-kn"
   },
   "outputs": [],
   "source": [
    "def mostra_memoria(lista_mem=['cpu']):\n",
    "  \"\"\"\n",
    "  Esta função exibe informações de memória da CPU e/ou GPU, conforme parâmetros fornecidos.\n",
    "\n",
    "  Parâmetros:\n",
    "  -----------\n",
    "  lista_mem : list, opcional\n",
    "      Lista com strings 'cpu' e/ou 'gpu'. \n",
    "      'cpu' - exibe informações de memória da CPU.\n",
    "      'gpu' - exibe informações de memória da GPU (se disponível).\n",
    "      O valor padrão é ['cpu'].\n",
    "\n",
    "  Saída:\n",
    "  -------\n",
    "  A função não retorna nada, apenas exibe as informações na tela.\n",
    "\n",
    "  Exemplo de uso:\n",
    "  ---------------\n",
    "  Para exibir informações de memória da CPU:\n",
    "      mostra_memoria(['cpu'])\n",
    "\n",
    "  Para exibir informações de memória da CPU e GPU:\n",
    "      mostra_memoria(['cpu', 'gpu'])\n",
    "  \n",
    "  Autor: Marcus Vinícius Borela de Castro\n",
    "\n",
    "  \"\"\"  \n",
    "  if 'cpu' in lista_mem:\n",
    "    vm = virtual_memory()\n",
    "    ram={}\n",
    "    ram['total']=round(vm.total / 1e9,2)\n",
    "    ram['available']=round(virtual_memory().available / 1e9,2)\n",
    "    # ram['percent']=round(virtual_memory().percent / 1e9,2)\n",
    "    ram['used']=round(virtual_memory().used / 1e9,2)\n",
    "    ram['free']=round(virtual_memory().free / 1e9,2)\n",
    "    ram['active']=round(virtual_memory().active / 1e9,2)\n",
    "    ram['inactive']=round(virtual_memory().inactive / 1e9,2)\n",
    "    ram['buffers']=round(virtual_memory().buffers / 1e9,2)\n",
    "    ram['cached']=round(virtual_memory().cached/1e9 ,2)\n",
    "    print(f\"Your runtime RAM in gb: \\n total {ram['total']}\\n available {ram['available']}\\n used {ram['used']}\\n free {ram['free']}\\n cached {ram['cached']}\\n buffers {ram['buffers']}\")\n",
    "    print('/nGPU')\n",
    "    gpu_info = !nvidia-smi\n",
    "  if 'gpu' in lista_mem:\n",
    "    gpu_info = '\\n'.join(gpu_info)\n",
    "    if gpu_info.find('failed') >= 0:\n",
    "      print('Not connected to a GPU')\n",
    "    else:\n",
    "      print(gpu_info)\n"
   ]
  },
  {
   "cell_type": "code",
   "execution_count": 29,
   "metadata": {
    "colab": {
     "base_uri": "https://localhost:8080/"
    },
    "id": "3dri9iiMAvCT",
    "outputId": "53aebd5a-e29f-4c8e-d233-5221aae9f9b0"
   },
   "outputs": [
    {
     "name": "stdout",
     "output_type": "stream",
     "text": [
      "Your runtime RAM in gb: \n",
      " total 67.35\n",
      " available 61.7\n",
      " used 4.71\n",
      " free 50.54\n",
      " cached 10.97\n",
      " buffers 1.14\n",
      "/nGPU\n",
      "Sun May 14 20:17:55 2023       \n",
      "+-----------------------------------------------------------------------------+\n",
      "| NVIDIA-SMI 525.116.03   Driver Version: 525.116.03   CUDA Version: 12.0     |\n",
      "|-------------------------------+----------------------+----------------------+\n",
      "| GPU  Name        Persistence-M| Bus-Id        Disp.A | Volatile Uncorr. ECC |\n",
      "| Fan  Temp  Perf  Pwr:Usage/Cap|         Memory-Usage | GPU-Util  Compute M. |\n",
      "|                               |                      |               MIG M. |\n",
      "|===============================+======================+======================|\n",
      "|   0  NVIDIA GeForce ...  Off  | 00000000:02:00.0 Off |                  N/A |\n",
      "|  0%   51C    P8    30W / 370W |     60MiB / 24576MiB |      0%      Default |\n",
      "|                               |                      |                  N/A |\n",
      "+-------------------------------+----------------------+----------------------+\n",
      "                                                                               \n",
      "+-----------------------------------------------------------------------------+\n",
      "| Processes:                                                                  |\n",
      "|  GPU   GI   CI        PID   Type   Process name                  GPU Memory |\n",
      "|        ID   ID                                                   Usage      |\n",
      "|=============================================================================|\n",
      "|    0   N/A  N/A      1229      G   /usr/lib/xorg/Xorg                 46MiB |\n",
      "|    0   N/A  N/A      1371      G   /usr/bin/gnome-shell                9MiB |\n",
      "+-----------------------------------------------------------------------------+\n"
     ]
    }
   ],
   "source": [
    "mostra_memoria(['cpu','gpu'])"
   ]
  },
  {
   "cell_type": "markdown",
   "metadata": {
    "id": "achvQ78sa3p3"
   },
   "source": [
    "## Fixando as seeds"
   ]
  },
  {
   "cell_type": "code",
   "execution_count": 30,
   "metadata": {
    "id": "AG9RjMb8Qlot"
   },
   "outputs": [],
   "source": [
    "import random\n",
    "import torch\n",
    "import numpy as np"
   ]
  },
  {
   "cell_type": "code",
   "execution_count": 31,
   "metadata": {
    "id": "bkETIyWGkbOf"
   },
   "outputs": [],
   "source": [
    "def inicializa_seed(num_semente:int=123):\n",
    "  \"\"\"\n",
    "  Inicializa as sementes para garantir a reprodutibilidade dos resultados do modelo.\n",
    "  Essa é uma prática recomendada, já que a geração de números aleatórios pode influenciar os resultados do modelo.\n",
    "  Além disso, a função também configura as sementes da GPU para garantir a reprodutibilidade quando se utiliza aceleração por GPU. \n",
    "  \n",
    "  Args:\n",
    "      num_semente (int): número da semente a ser utilizada para inicializar as sementes das bibliotecas.\n",
    "  \n",
    "  References:\n",
    "      http://nlp.seas.harvard.edu/2018/04/03/attention.html\n",
    "      https://github.com/CyberZHG/torch-multi-head-attention/blob/master/torch_multi_head_attention/multi_head_attention.py#L15\n",
    "  \"\"\"\n",
    "  # Define as sementes das bibliotecas random, numpy e pytorch\n",
    "  random.seed(num_semente)\n",
    "  np.random.seed(num_semente)\n",
    "  torch.manual_seed(num_semente)\n",
    "  \n",
    "  # Define as sementes da GPU\n",
    "  torch.backends.cudnn.deterministic = True\n",
    "  torch.backends.cudnn.benchmark = False\n",
    "\n",
    "  #torch.cuda.manual_seed(num_semente)\n",
    "  #Cuda algorithms\n",
    "  #torch.backends.cudnn.deterministic = True\n"
   ]
  },
  {
   "cell_type": "code",
   "execution_count": 32,
   "metadata": {
    "id": "ViMcw_kVkbOf"
   },
   "outputs": [],
   "source": [
    "num_semente=123\n",
    "inicializa_seed(num_semente)"
   ]
  },
  {
   "cell_type": "markdown",
   "metadata": {
    "id": "8v2gtkEPhA0t"
   },
   "source": [
    "## Preparando para debug e display"
   ]
  },
  {
   "cell_type": "code",
   "execution_count": 33,
   "metadata": {
    "id": "BJ6S4P5Hw4iG"
   },
   "outputs": [],
   "source": [
    "import pandas as pd"
   ]
  },
  {
   "cell_type": "code",
   "execution_count": 34,
   "metadata": {
    "id": "rnR2kDS_2FgZ"
   },
   "outputs": [],
   "source": [
    "import transformers"
   ]
  },
  {
   "cell_type": "code",
   "execution_count": 35,
   "metadata": {
    "id": "wQ5pmlOHxHhk"
   },
   "outputs": [],
   "source": [
    "def config_display():\n",
    "  \"\"\"\n",
    "  Esta função configura as opções de display do Pandas.\n",
    "  \"\"\"\n",
    "\n",
    "  # Configurando formato saída Pandas\n",
    "  # define o número máximo de colunas que serão exibidas\n",
    "  pd.options.display.max_columns = None\n",
    "\n",
    "  # define a largura máxima de uma linha\n",
    "  pd.options.display.width = 1000\n",
    "\n",
    "  # define o número máximo de linhas que serão exibidas\n",
    "  pd.options.display.max_rows = 100\n",
    "\n",
    "  # define o número máximo de caracteres por coluna\n",
    "  pd.options.display.max_colwidth = 50\n",
    "\n",
    "  # se deve exibir o número de linhas e colunas de um DataFrame.\n",
    "  pd.options.display.show_dimensions = True\n",
    "\n",
    "  # número de dígitos após a vírgula decimal a serem exibidos para floats.\n",
    "  pd.options.display.precision = 7\n"
   ]
  },
  {
   "cell_type": "code",
   "execution_count": 36,
   "metadata": {
    "id": "b2tDy72ATNHs"
   },
   "outputs": [],
   "source": [
    "def config_debug():\n",
    "  \"\"\"\n",
    "  Esta função configura as opções de debug do PyTorch e dos pacotes\n",
    "  transformers e datasets.\n",
    "  \"\"\"\n",
    "\n",
    "  # Define opções de impressão de tensores para o modo científico\n",
    "  torch.set_printoptions(sci_mode=True) \n",
    "  \"\"\"\n",
    "    Significa que valores muito grandes ou muito pequenos são mostrados em notação científica.\n",
    "    Por exemplo, em vez de imprimir o número 0.0000012345 como 0.0000012345, \n",
    "    ele seria impresso como 1.2345e-06. Isso é útil em situações em que os valores dos tensores \n",
    "    envolvidos nas operações são muito grandes ou pequenos, e a notação científica permite \n",
    "    uma melhor compreensão dos números envolvidos.  \n",
    "  \"\"\"\n",
    "\n",
    "  # Habilita detecção de anomalias no autograd do PyTorch\n",
    "  torch.autograd.set_detect_anomaly(True)\n",
    "  \"\"\"\n",
    "    Permite identificar operações que podem causar problemas de estabilidade numérica, \n",
    "    como gradientes explodindo ou desaparecendo. Quando essa opção é ativada, \n",
    "    o PyTorch verifica se há operações que geram valores NaN ou infinitos nos tensores \n",
    "    envolvidos no cálculo do gradiente. Se for detectado um valor anômalo, o PyTorch \n",
    "    interrompe a execução e gera uma exceção, permitindo que o erro seja corrigido \n",
    "    antes que se torne um problema maior.\n",
    "\n",
    "    É importante notar que a detecção de anomalias pode ter um impacto significativo \n",
    "    no desempenho, especialmente em modelos grandes e complexos. Por esse motivo,\n",
    "    ela deve ser usada com cautela e apenas para depuração.\n",
    "  \"\"\"\n",
    "\n",
    "  # Configura variável de ambiente para habilitar a execução síncrona (bloqueante) das chamadas da API do CUDA.\n",
    "  os.environ['CUDA_LAUNCH_BLOCKING'] = '1'\n",
    "  \"\"\"\n",
    "    o Python aguarda o término da execução de uma chamada da API do CUDA antes de executar a próxima chamada. \n",
    "    Isso é útil para depurar erros no código que envolve operações na GPU, pois permite que o erro seja capturado \n",
    "    no momento em que ocorre, e não depois de uma sequência de operações que pode tornar a origem do erro mais difícil de determinar.\n",
    "    No entanto, é importante lembrar que esse modo de execução é significativamente mais lento do que a execução assíncrona, \n",
    "    que é o comportamento padrão do CUDA. Por isso, é recomendado utilizar esse comando apenas em situações de depuração \n",
    "    e removê-lo após a solução do problema.\n",
    "  \"\"\"\n",
    "\n",
    "  # Define o nível de verbosity do pacote transformers para info\n",
    "  # transformers.utils.logging.set_verbosity_info() \n",
    "  \n",
    "  \n",
    "  \"\"\"\n",
    "    Define o nível de detalhamento das mensagens de log geradas pela biblioteca Hugging Face Transformers \n",
    "    para o nível info. Isso significa que a biblioteca irá imprimir mensagens de log informativas sobre\n",
    "    o andamento da execução, tais como tempo de execução, tamanho de batches, etc.\n",
    "\n",
    "    Essas informações podem ser úteis para entender o que está acontecendo durante a execução da tarefa \n",
    "    e auxiliar no processo de debug. É importante notar que, em alguns casos, a quantidade de informações\n",
    "    geradas pode ser muito grande, o que pode afetar o desempenho do sistema e dificultar a visualização\n",
    "    das informações relevantes. Por isso, é importante ajustar o nível de detalhamento de acordo com a \n",
    "    necessidade de cada tarefa.\n",
    "  \n",
    "    Caso queira reduzir a quantidade de mensagens, comentar a linha acima e \n",
    "      descomentar as duas linhas abaixo, para definir o nível de verbosity como error ou warning\n",
    "  \n",
    "    transformers.utils.logging.set_verbosity_error()\n",
    "    transformers.utils.logging.set_verbosity_warning()\n",
    "  \"\"\"\n",
    "\n",
    "\n",
    "  # Define o modo verbose do xmode, que é utilizado no debug\n",
    "  # %xmode Verbose \n",
    "\n",
    "  \"\"\"\n",
    "    Comando usado no Jupyter Notebook para controlar o modo de exibição das informações de exceções.\n",
    "    O modo verbose é um modo detalhado que exibe informações adicionais ao imprimir as exceções.\n",
    "    Ele inclui as informações de pilha de chamadas completa e valores de variáveis locais e globais \n",
    "    no momento da exceção. Isso pode ser útil para depurar e encontrar a causa de exceções em seu código.\n",
    "    Ao usar %xmode Verbose, as informações de exceção serão impressas com mais detalhes e informações adicionais serão incluídas.\n",
    "\n",
    "    Caso queira desabilitar o modo verbose e utilizar o modo plain, \n",
    "    comentar a linha acima e descomentar a linha abaixo:\n",
    "    %xmode Plain\n",
    "  \"\"\"\n",
    "\n",
    "  \"\"\"\n",
    "    Dica:\n",
    "    1.  pdb (Python Debugger)\n",
    "      Quando ocorre uma exceção em uma parte do código, o programa para a execução e exibe uma mensagem de erro \n",
    "      com informações sobre a exceção, como a linha do código em que ocorreu o erro e o tipo da exceção.\n",
    "\n",
    "      Se você estiver depurando o código e quiser examinar o estado das variáveis ​​e executar outras operações \n",
    "      no momento em que a exceção ocorreu, pode usar o pdb (Python Debugger). Para isso, é preciso colocar o comando %debug \n",
    "      logo após ocorrer a exceção. Isso fará com que o programa pare na linha em que ocorreu a exceção e abra o pdb,\n",
    "      permitindo que você explore o estado das variáveis, examine a pilha de chamadas e execute outras operações para depurar o código.\n",
    "\n",
    "\n",
    "    2. ipdb\n",
    "      O ipdb é um depurador interativo para o Python que oferece recursos mais avançados do que o pdb,\n",
    "      incluindo a capacidade de navegar pelo código fonte enquanto depura.\n",
    "      \n",
    "      Você pode começar a depurar seu código inserindo o comando ipdb.set_trace() em qualquer lugar do \n",
    "      seu código onde deseja pausar a execução e começar a depurar. Quando a execução chegar nessa linha, \n",
    "      o depurador entrará em ação, permitindo que você examine o estado atual do seu programa e execute \n",
    "      comandos para investigar o comportamento.\n",
    "\n",
    "      Durante a depuração, você pode usar comandos:\n",
    "        next (para executar a próxima linha de código), \n",
    "        step (para entrar em uma função chamada na próxima linha de código) \n",
    "        continue (para continuar a execução normalmente até o próximo ponto de interrupção).\n",
    "\n",
    "      Ao contrário do pdb, o ipdb é um depurador interativo que permite navegar pelo código fonte em que\n",
    "      está trabalhando enquanto depura, permitindo que você inspecione variáveis, defina pontos de interrupção\n",
    "      adicionais e até mesmo execute expressões Python no contexto do seu programa.\n",
    "  \"\"\"\n"
   ]
  },
  {
   "cell_type": "code",
   "execution_count": 37,
   "metadata": {
    "id": "Tb4aqtcExR84"
   },
   "outputs": [],
   "source": [
    "config_display()"
   ]
  },
  {
   "cell_type": "code",
   "execution_count": 38,
   "metadata": {
    "colab": {
     "base_uri": "https://localhost:8080/"
    },
    "id": "-5Bq4043fkfh",
    "outputId": "fa8e5db1-1feb-4393-fb66-d394d1ad693c"
   },
   "outputs": [],
   "source": [
    "config_debug()"
   ]
  },
  {
   "attachments": {},
   "cell_type": "markdown",
   "metadata": {},
   "source": [
    "# Baixando o dataset para avaliação (trec-covid)"
   ]
  },
  {
   "attachments": {},
   "cell_type": "markdown",
   "metadata": {},
   "source": [
    "## Queries"
   ]
  },
  {
   "cell_type": "code",
   "execution_count": 39,
   "metadata": {},
   "outputs": [],
   "source": [
    "os.environ['JVM_PATH'] = '/usr/lib/jvm/java-11-openjdk-amd64/lib/server/libjvm.so'\n",
    "os.environ['JAVA_HOME'] = '/usr/lib/jvm/java-11-openjdk-amd64'"
   ]
  },
  {
   "cell_type": "code",
   "execution_count": 40,
   "metadata": {},
   "outputs": [],
   "source": [
    "from pyserini.search import get_topics"
   ]
  },
  {
   "cell_type": "code",
   "execution_count": 41,
   "metadata": {},
   "outputs": [
    {
     "name": "stdout",
     "output_type": "stream",
     "text": [
      "50 queries total\n"
     ]
    }
   ],
   "source": [
    "topics = get_topics('covid-round5')\n",
    "print(f'{len(topics)} queries total')"
   ]
  },
  {
   "cell_type": "code",
   "execution_count": 42,
   "metadata": {},
   "outputs": [
    {
     "data": {
      "text/plain": [
       "{'question': 'what is known about an mRNA vaccine for the SARS-CoV-2 virus?',\n",
       " 'query': 'mRNA vaccine coronavirus',\n",
       " 'narrative': 'Looking for studies specifically focusing on mRNA vaccines for COVID-19, including how mRNA vaccines work, why they are promising, and any results from actual clinical studies.'}"
      ]
     },
     "execution_count": 42,
     "metadata": {},
     "output_type": "execute_result"
    }
   ],
   "source": [
    "topics[50]"
   ]
  },
  {
   "attachments": {},
   "cell_type": "markdown",
   "metadata": {},
   "source": [
    "## Relevância (qrel) de teste"
   ]
  },
  {
   "cell_type": "code",
   "execution_count": 43,
   "metadata": {},
   "outputs": [
    {
     "name": "stdout",
     "output_type": "stream",
     "text": [
      "Arquivo já existia\n"
     ]
    }
   ],
   "source": [
    "if not os.path.exists(f'{DIRETORIO_TREC_COVID}/test.tsv'):\n",
    "    !wget https://huggingface.co/datasets/BeIR/trec-covid-qrels/raw/main/test.tsv\n",
    "    !mv test.tsv {DIRETORIO_LOCAL}/\n",
    "else:\n",
    "    print('Arquivo já existia')"
   ]
  },
  {
   "cell_type": "code",
   "execution_count": 44,
   "metadata": {},
   "outputs": [],
   "source": [
    "qrel = pd.read_csv(f\"{DIRETORIO_TREC_COVID}/test.tsv\", sep=\"\\t\", header=None, \n",
    "                   skiprows=1, names=[\"query\", \"docid\", \"rel\"])"
   ]
  },
  {
   "cell_type": "code",
   "execution_count": 45,
   "metadata": {},
   "outputs": [
    {
     "data": {
      "text/html": [
       "<div>\n",
       "<style scoped>\n",
       "    .dataframe tbody tr th:only-of-type {\n",
       "        vertical-align: middle;\n",
       "    }\n",
       "\n",
       "    .dataframe tbody tr th {\n",
       "        vertical-align: top;\n",
       "    }\n",
       "\n",
       "    .dataframe thead th {\n",
       "        text-align: right;\n",
       "    }\n",
       "</style>\n",
       "<table border=\"1\" class=\"dataframe\">\n",
       "  <thead>\n",
       "    <tr style=\"text-align: right;\">\n",
       "      <th></th>\n",
       "      <th>query</th>\n",
       "      <th>docid</th>\n",
       "      <th>rel</th>\n",
       "    </tr>\n",
       "  </thead>\n",
       "  <tbody>\n",
       "    <tr>\n",
       "      <th>0</th>\n",
       "      <td>1</td>\n",
       "      <td>005b2j4b</td>\n",
       "      <td>2</td>\n",
       "    </tr>\n",
       "    <tr>\n",
       "      <th>1</th>\n",
       "      <td>1</td>\n",
       "      <td>00fmeepz</td>\n",
       "      <td>1</td>\n",
       "    </tr>\n",
       "    <tr>\n",
       "      <th>2</th>\n",
       "      <td>1</td>\n",
       "      <td>g7dhmyyo</td>\n",
       "      <td>2</td>\n",
       "    </tr>\n",
       "    <tr>\n",
       "      <th>3</th>\n",
       "      <td>1</td>\n",
       "      <td>0194oljo</td>\n",
       "      <td>1</td>\n",
       "    </tr>\n",
       "    <tr>\n",
       "      <th>4</th>\n",
       "      <td>1</td>\n",
       "      <td>021q9884</td>\n",
       "      <td>1</td>\n",
       "    </tr>\n",
       "  </tbody>\n",
       "</table>\n",
       "<p>5 rows × 3 columns</p>\n",
       "</div>"
      ],
      "text/plain": [
       "   query     docid  rel\n",
       "0      1  005b2j4b    2\n",
       "1      1  00fmeepz    1\n",
       "2      1  g7dhmyyo    2\n",
       "3      1  0194oljo    1\n",
       "4      1  021q9884    1\n",
       "\n",
       "[5 rows x 3 columns]"
      ]
     },
     "execution_count": 45,
     "metadata": {},
     "output_type": "execute_result"
    }
   ],
   "source": [
    "qrel.head()"
   ]
  },
  {
   "cell_type": "code",
   "execution_count": 46,
   "metadata": {},
   "outputs": [
    {
     "data": {
      "text/html": [
       "<div>\n",
       "<style scoped>\n",
       "    .dataframe tbody tr th:only-of-type {\n",
       "        vertical-align: middle;\n",
       "    }\n",
       "\n",
       "    .dataframe tbody tr th {\n",
       "        vertical-align: top;\n",
       "    }\n",
       "\n",
       "    .dataframe thead th {\n",
       "        text-align: right;\n",
       "    }\n",
       "</style>\n",
       "<table border=\"1\" class=\"dataframe\">\n",
       "  <thead>\n",
       "    <tr style=\"text-align: right;\">\n",
       "      <th></th>\n",
       "      <th>query</th>\n",
       "      <th>docid</th>\n",
       "      <th>rel</th>\n",
       "    </tr>\n",
       "  </thead>\n",
       "  <tbody>\n",
       "    <tr>\n",
       "      <th>0</th>\n",
       "      <td>1</td>\n",
       "      <td>005b2j4b</td>\n",
       "      <td>2</td>\n",
       "    </tr>\n",
       "    <tr>\n",
       "      <th>1</th>\n",
       "      <td>1</td>\n",
       "      <td>00fmeepz</td>\n",
       "      <td>1</td>\n",
       "    </tr>\n",
       "    <tr>\n",
       "      <th>2</th>\n",
       "      <td>1</td>\n",
       "      <td>g7dhmyyo</td>\n",
       "      <td>2</td>\n",
       "    </tr>\n",
       "    <tr>\n",
       "      <th>3</th>\n",
       "      <td>1</td>\n",
       "      <td>0194oljo</td>\n",
       "      <td>1</td>\n",
       "    </tr>\n",
       "    <tr>\n",
       "      <th>4</th>\n",
       "      <td>1</td>\n",
       "      <td>021q9884</td>\n",
       "      <td>1</td>\n",
       "    </tr>\n",
       "  </tbody>\n",
       "</table>\n",
       "<p>5 rows × 3 columns</p>\n",
       "</div>"
      ],
      "text/plain": [
       "   query     docid  rel\n",
       "0      1  005b2j4b    2\n",
       "1      1  00fmeepz    1\n",
       "2      1  g7dhmyyo    2\n",
       "3      1  0194oljo    1\n",
       "4      1  021q9884    1\n",
       "\n",
       "[5 rows x 3 columns]"
      ]
     },
     "execution_count": 46,
     "metadata": {},
     "output_type": "execute_result"
    }
   ],
   "source": [
    "qrel.head()"
   ]
  },
  {
   "cell_type": "code",
   "execution_count": 47,
   "metadata": {},
   "outputs": [],
   "source": [
    "qrel[\"q0\"] = \"q0\"\n",
    "qrel_dict = qrel.to_dict(orient=\"list\")"
   ]
  },
  {
   "cell_type": "code",
   "execution_count": 48,
   "metadata": {},
   "outputs": [
    {
     "data": {
      "text/plain": [
       "(1, '005b2j4b', 2)"
      ]
     },
     "execution_count": 48,
     "metadata": {},
     "output_type": "execute_result"
    }
   ],
   "source": [
    "qrel_dict['query'][0], qrel_dict['docid'][0], qrel_dict['rel'][0]"
   ]
  },
  {
   "attachments": {},
   "cell_type": "markdown",
   "metadata": {},
   "source": [
    "# Carregando modelo e tokenizador splade \n",
    "\n",
    "modelo 'naver/splade-cocondenser-ensembledistil' "
   ]
  },
  {
   "cell_type": "code",
   "execution_count": null,
   "metadata": {},
   "outputs": [],
   "source": [
    "PATH_NOME_MODELO = \"naver/splade-cocondenser-ensembledistil\""
   ]
  },
  {
   "cell_type": "code",
   "execution_count": null,
   "metadata": {},
   "outputs": [],
   "source": [
    "# Se tiver que treinar os modelos, abre\n",
    "model = BertForMaskedLM.from_pretrained(PATH_NOME_MODELO).to(device)"
   ]
  },
  {
   "cell_type": "code",
   "execution_count": null,
   "metadata": {},
   "outputs": [
    {
     "name": "stdout",
     "output_type": "stream",
     "text": [
      "BertConfig {\n",
      "  \"_name_or_path\": \"naver/splade-cocondenser-ensembledistil\",\n",
      "  \"architectures\": [\n",
      "    \"BertForMaskedLM\"\n",
      "  ],\n",
      "  \"attention_probs_dropout_prob\": 0.1,\n",
      "  \"classifier_dropout\": null,\n",
      "  \"gradient_checkpointing\": false,\n",
      "  \"hidden_act\": \"gelu\",\n",
      "  \"hidden_dropout_prob\": 0.1,\n",
      "  \"hidden_size\": 768,\n",
      "  \"initializer_range\": 0.02,\n",
      "  \"intermediate_size\": 3072,\n",
      "  \"layer_norm_eps\": 1e-12,\n",
      "  \"max_position_embeddings\": 512,\n",
      "  \"model_type\": \"bert\",\n",
      "  \"num_attention_heads\": 12,\n",
      "  \"num_hidden_layers\": 12,\n",
      "  \"pad_token_id\": 0,\n",
      "  \"position_embedding_type\": \"absolute\",\n",
      "  \"torch_dtype\": \"float32\",\n",
      "  \"transformers_version\": \"4.25.1\",\n",
      "  \"type_vocab_size\": 2,\n",
      "  \"use_cache\": true,\n",
      "  \"vocab_size\": 30522\n",
      "}\n",
      "\n"
     ]
    }
   ],
   "source": [
    "print(model.config)"
   ]
  },
  {
   "cell_type": "code",
   "execution_count": null,
   "metadata": {},
   "outputs": [],
   "source": [
    "tokenizer = BertTokenizer.from_pretrained(PATH_NOME_MODELO)"
   ]
  },
  {
   "cell_type": "code",
   "execution_count": null,
   "metadata": {},
   "outputs": [
    {
     "name": "stdout",
     "output_type": "stream",
     "text": [
      "512\n"
     ]
    }
   ],
   "source": [
    "print(tokenizer.model_max_length)"
   ]
  },
  {
   "cell_type": "code",
   "execution_count": null,
   "metadata": {},
   "outputs": [],
   "source": [
    "sentences_test = [\"He likes to eat pizza in the pizza hut.\", \"So many sentences are transformed in just a summary.\"]"
   ]
  },
  {
   "cell_type": "code",
   "execution_count": null,
   "metadata": {},
   "outputs": [],
   "source": [
    "    # Tokenize sentences\n",
    "encoded_input = tokenizer(sentences_test,\n",
    "                                add_special_tokens=True,\n",
    "                                return_special_tokens_mask=True, \n",
    "                                padding=True, \n",
    "                                truncation=True,\n",
    "                                max_length=model.config.max_position_embeddings,\n",
    "                                return_tensors='pt')"
   ]
  },
  {
   "cell_type": "code",
   "execution_count": null,
   "metadata": {},
   "outputs": [
    {
     "data": {
      "text/plain": [
       "[['he', 'likes', 'to', 'eat', 'pizza', 'in', 'the', 'pizza', 'hut', '.'],\n",
       " ['so',\n",
       "  'many',\n",
       "  'sentences',\n",
       "  'are',\n",
       "  'transformed',\n",
       "  'in',\n",
       "  'just',\n",
       "  'a',\n",
       "  'summary',\n",
       "  '.']]"
      ]
     },
     "metadata": {},
     "output_type": "display_data"
    }
   ],
   "source": [
    " # ' '.join(tokenizer.tokenize(sentences_test[0]))\n",
    "\n",
    "[tokenizer.tokenize(sentence) for sentence in sentences_test]"
   ]
  },
  {
   "attachments": {},
   "cell_type": "markdown",
   "metadata": {},
   "source": [
    "# Carregando documentos a serem indexados"
   ]
  },
  {
   "attachments": {},
   "cell_type": "markdown",
   "metadata": {},
   "source": [
    "Outra opção é acessar por load_dataset\n",
    "\n",
    "        from datasets import load_dataset\n",
    "        dataset_corpus = load_dataset(\"BeIR/trec-covid\", \"corpus\")\n",
    "        dataset_corpus"
   ]
  },
  {
   "cell_type": "code",
   "execution_count": null,
   "metadata": {},
   "outputs": [
    {
     "name": "stdout",
     "output_type": "stream",
     "text": [
      "Olá mundo Isso é um exemplo\n"
     ]
    }
   ],
   "source": [
    "import string\n",
    "\n",
    "def remove_punctuation(text):\n",
    "    translator = str.maketrans('', '', string.punctuation)\n",
    "    text_without_punctuation = text.translate(translator)\n",
    "    return text_without_punctuation\n",
    "\n",
    "# Exemplo de uso\n",
    "texto = \"Olá, mundo! Isso é um exemplo.\"\n",
    "texto_sem_pontuacao = remove_punctuation(texto)\n",
    "\n",
    "print(texto_sem_pontuacao)"
   ]
  },
  {
   "cell_type": "code",
   "execution_count": 49,
   "metadata": {},
   "outputs": [
    {
     "name": "stdout",
     "output_type": "stream",
     "text": [
      "Já existia a pasta\n"
     ]
    }
   ],
   "source": [
    "if not os.path.exists(f\"{DIRETORIO_TREC_COVID}/corpus.jsonl.gz\"):\n",
    "    !wget https://huggingface.co/datasets/BeIR/trec-covid/resolve/main/corpus.jsonl.gz\n",
    "    !mv corpus.jsonl.gz {DIRETORIO_TREC_COVID}\n",
    "    print('Baixado')\n",
    "else:\n",
    "    print('Já existia a pasta')"
   ]
  },
  {
   "cell_type": "code",
   "execution_count": 99,
   "metadata": {},
   "outputs": [],
   "source": [
    "# Descompacte o arquivo para a memória\n",
    "with gzip.open(f'{DIRETORIO_TREC_COVID}/corpus.jsonl.gz', 'rt') as f:\n",
    "    # Leia o conteúdo do arquivo descompactado\n",
    "    corpus = [json.loads(line) for line in f]"
   ]
  },
  {
   "cell_type": "code",
   "execution_count": 100,
   "metadata": {},
   "outputs": [
    {
     "name": "stdout",
     "output_type": "stream",
     "text": [
      "<class 'list'> len(corpus): 171332 corpus[0] {'_id': 'ug7v899j', 'title': 'Clinical features of culture-proven Mycoplasma pneumoniae infections at King Abdulaziz University Hospital, Jeddah, Saudi Arabia', 'text': 'OBJECTIVE: This retrospective chart review describes the epidemiology and clinical features of 40 patients with culture-proven Mycoplasma pneumoniae infections at King Abdulaziz University Hospital, Jeddah, Saudi Arabia. METHODS: Patients with positive M. pneumoniae cultures from respiratory specimens from January 1997 through December 1998 were identified through the Microbiology records. Charts of patients were reviewed. RESULTS: 40 patients were identified, 33 (82.5%) of whom required admission. Most infections (92.5%) were community-acquired. The infection affected all age groups but was most common in infants (32.5%) and pre-school children (22.5%). It occurred year-round but was most common in the fall (35%) and spring (30%). More than three-quarters of patients (77.5%) had comorbidities. Twenty-four isolates (60%) were associated with pneumonia, 14 (35%) with upper respiratory tract infections, and 2 (5%) with bronchiolitis. Cough (82.5%), fever (75%), and malaise (58.8%) were the most common symptoms, and crepitations (60%), and wheezes (40%) were the most common signs. Most patients with pneumonia had crepitations (79.2%) but only 25% had bronchial breathing. Immunocompromised patients were more likely than non-immunocompromised patients to present with pneumonia (8/9 versus 16/31, P = 0.05). Of the 24 patients with pneumonia, 14 (58.3%) had uneventful recovery, 4 (16.7%) recovered following some complications, 3 (12.5%) died because of M pneumoniae infection, and 3 (12.5%) died due to underlying comorbidities. The 3 patients who died of M pneumoniae pneumonia had other comorbidities. CONCLUSION: our results were similar to published data except for the finding that infections were more common in infants and preschool children and that the mortality rate of pneumonia in patients with comorbidities was high.', 'metadata': {'url': 'https://www.ncbi.nlm.nih.gov/pmc/articles/PMC35282/', 'pubmed_id': '11472636'}}\n"
     ]
    }
   ],
   "source": [
    "# Exiba os dados carregados\n",
    "print(f\"{type(corpus)} len(corpus): {len(corpus)} corpus[0] {corpus[0]}\" )"
   ]
  },
  {
   "attachments": {},
   "cell_type": "markdown",
   "metadata": {},
   "source": [
    "Ordenar Corpus para tornar mais ágil a inferência"
   ]
  },
  {
   "attachments": {},
   "cell_type": "markdown",
   "metadata": {},
   "source": [
    "Alterado código para salvar o texto tokenizado para carga posterior no lucene"
   ]
  },
  {
   "cell_type": "code",
   "execution_count": 158,
   "metadata": {},
   "outputs": [
    {
     "name": "stderr",
     "output_type": "stream",
     "text": [
      "100%|██████████| 171184/171184 [05:36<00:00, 508.75it/s]"
     ]
    },
    {
     "name": "stdout",
     "output_type": "stream",
     "text": [
      "CPU times: user 5min 36s, sys: 364 ms, total: 5min 36s\n",
      "Wall time: 5min 36s\n"
     ]
    },
    {
     "name": "stderr",
     "output_type": "stream",
     "text": [
      "\n"
     ]
    }
   ],
   "source": [
    "%%time\n",
    "cnt=0\n",
    "corpus_sem_vazios = []\n",
    "for docto in tqdm(corpus):\n",
    "    if ('title' in docto) and len(docto['title']) >= 5:\n",
    "        texto_usado_na_geracao_de_query = docto['title'] + '. ' + docto['text']\n",
    "    else:\n",
    "        texto_usado_na_geracao_de_query = docto['text']\n",
    "    #corpus_dict[docto['_id']] = {'text_query_generation': texto_usado_na_geracao_de_query, \n",
    "    #                             'title': docto['title'],\n",
    "    #                             'text': docto['text']}\n",
    "    docto['texto_titulo'] = texto_usado_na_geracao_de_query\n",
    "    # Excluindo textos vazios, pois splade gera tokens mesmo para textos vazios por causa dos tokens especiais\n",
    "    if len(docto['texto_titulo']) <= 10:\n",
    "        cnt += 1\n",
    "    else:\n",
    "        docto['texto_titulo'] = texto_usado_na_geracao_de_query\n",
    "        docto['texto_titulo_tokenizado'] = ' '.join(tokenizer.tokenize(remove_punctuation(texto_usado_na_geracao_de_query)))\n",
    "        corpus_sem_vazios.append(docto)\n"
   ]
  },
  {
   "cell_type": "code",
   "execution_count": 159,
   "metadata": {},
   "outputs": [
    {
     "data": {
      "text/plain": [
       "0"
      ]
     },
     "execution_count": 159,
     "metadata": {},
     "output_type": "execute_result"
    }
   ],
   "source": [
    "cnt"
   ]
  },
  {
   "cell_type": "code",
   "execution_count": 160,
   "metadata": {},
   "outputs": [],
   "source": [
    "corpus = sorted(corpus_sem_vazios, key=lambda x: len(x['texto_titulo']))"
   ]
  },
  {
   "cell_type": "code",
   "execution_count": 161,
   "metadata": {},
   "outputs": [],
   "source": [
    "del corpus_sem_vazios"
   ]
  },
  {
   "cell_type": "code",
   "execution_count": 162,
   "metadata": {},
   "outputs": [
    {
     "name": "stdout",
     "output_type": "stream",
     "text": [
      "<class 'list'> len(corpus): 171184 corpus[0] {'_id': 'u09rn09u', 'title': 'ABSTRACTS', 'text': '', 'metadata': {'url': 'https://www.ncbi.nlm.nih.gov/pmc/articles/PMC1495151/', 'pubmed_id': '11972737'}, 'texto_titulo': 'ABSTRACTS. ', 'texto_titulo_tokenizado': 'abstracts'}\n"
     ]
    }
   ],
   "source": [
    "# Exiba os dados carregados\n",
    "print(f\"{type(corpus)} len(corpus): {len(corpus)} corpus[0] {corpus[0]}\" )"
   ]
  },
  {
   "cell_type": "code",
   "execution_count": 163,
   "metadata": {},
   "outputs": [
    {
     "name": "stdout",
     "output_type": "stream",
     "text": [
      "{'_id': '0rw0qq7z', 'title': 'Strange days', 'text': '', 'metadata': {'url': '', 'pubmed_id': ''}, 'texto_titulo': 'Strange days. ', 'texto_titulo_tokenizado': 'strange days'}\n"
     ]
    }
   ],
   "source": [
    "# Exiba os dados carregados\n",
    "print(f\"{corpus[300]}\" )"
   ]
  },
  {
   "cell_type": "code",
   "execution_count": 164,
   "metadata": {},
   "outputs": [
    {
     "name": "stdout",
     "output_type": "stream",
     "text": [
      "<class 'list'> len(corpus): 171184 corpus[200] {'_id': 'na37g4ht', 'title': 'BAT RABIES.', 'text': '', 'metadata': {'url': 'https://www.ncbi.nlm.nih.gov/pubmed/24544638/', 'pubmed_id': '24544638'}, 'texto_titulo': 'BAT RABIES.. ', 'texto_titulo_tokenizado': 'bat ra ##bies'}\n"
     ]
    }
   ],
   "source": [
    "# Exiba os dados carregados\n",
    "print(f\"{type(corpus)} len(corpus): {len(corpus)} corpus[200] {corpus[200]}\" )"
   ]
  },
  {
   "cell_type": "code",
   "execution_count": 165,
   "metadata": {},
   "outputs": [
    {
     "name": "stdout",
     "output_type": "stream",
     "text": [
      "len(lista_doc_id_passage) 171184\n"
     ]
    }
   ],
   "source": [
    "lista_doc_id_passage = [doc['_id'] for doc in corpus]\n",
    "print(f\"len(lista_doc_id_passage) {len(lista_doc_id_passage)}\")"
   ]
  },
  {
   "cell_type": "code",
   "execution_count": 166,
   "metadata": {},
   "outputs": [],
   "source": [
    "corpus_dict = {}\n",
    "\n",
    "for docto in corpus:\n",
    "    corpus_dict[docto['_id']] = {'texto_titulo': docto['texto_titulo']}"
   ]
  },
  {
   "cell_type": "code",
   "execution_count": 167,
   "metadata": {},
   "outputs": [],
   "source": [
    "corpus_dict_tokenizado = {}\n",
    "\n",
    "for docto in corpus:\n",
    "    corpus_dict_tokenizado[docto['_id']] = {'texto_titulo_tokenizado': docto['texto_titulo_tokenizado']}"
   ]
  },
  {
   "cell_type": "code",
   "execution_count": 168,
   "metadata": {},
   "outputs": [
    {
     "data": {
      "text/plain": [
       "171184"
      ]
     },
     "execution_count": 168,
     "metadata": {},
     "output_type": "execute_result"
    }
   ],
   "source": [
    "len(corpus_dict)"
   ]
  },
  {
   "attachments": {},
   "cell_type": "markdown",
   "metadata": {},
   "source": [
    "tamanho original 171332"
   ]
  },
  {
   "attachments": {},
   "cell_type": "markdown",
   "metadata": {},
   "source": [
    "# Experimentos de teste de encoding"
   ]
  },
  {
   "cell_type": "code",
   "execution_count": 72,
   "metadata": {},
   "outputs": [
    {
     "name": "stdout",
     "output_type": "stream",
     "text": [
      "{'input_ids': tensor([[  101,  2002,  7777,  2000,  4521, 10733,  1999,  1996, 10733, 12570,\n",
      "          1012,   102],\n",
      "        [  101,  2061,  2116, 11746,  2024,  8590,  1999,  2074,  1037, 12654,\n",
      "          1012,   102]]), 'token_type_ids': tensor([[0, 0, 0, 0, 0, 0, 0, 0, 0, 0, 0, 0],\n",
      "        [0, 0, 0, 0, 0, 0, 0, 0, 0, 0, 0, 0]]), 'special_tokens_mask': tensor([[1, 0, 0, 0, 0, 0, 0, 0, 0, 0, 0, 1],\n",
      "        [1, 0, 0, 0, 0, 0, 0, 0, 0, 0, 0, 1]]), 'attention_mask': tensor([[1, 1, 1, 1, 1, 1, 1, 1, 1, 1, 1, 1],\n",
      "        [1, 1, 1, 1, 1, 1, 1, 1, 1, 1, 1, 1]])}\n"
     ]
    }
   ],
   "source": [
    "print(encoded_input)"
   ]
  },
  {
   "cell_type": "code",
   "execution_count": 73,
   "metadata": {},
   "outputs": [
    {
     "name": "stdout",
     "output_type": "stream",
     "text": [
      "após BatchEncoding {'input_ids': tensor([[  101,  2002,  7777,  2000,  4521, 10733,  1999,  1996, 10733, 12570,\n",
      "          1012,   102],\n",
      "        [  101,  2061,  2116, 11746,  2024,  8590,  1999,  2074,  1037, 12654,\n",
      "          1012,   102]]), 'token_type_ids': tensor([[0, 0, 0, 0, 0, 0, 0, 0, 0, 0, 0, 0],\n",
      "        [0, 0, 0, 0, 0, 0, 0, 0, 0, 0, 0, 0]]), 'special_tokens_mask': tensor([[1, 0, 0, 0, 0, 0, 0, 0, 0, 0, 0, 1],\n",
      "        [1, 0, 0, 0, 0, 0, 0, 0, 0, 0, 0, 1]]), 'attention_mask': tensor([[1, 1, 1, 1, 1, 1, 1, 1, 1, 1, 1, 1],\n",
      "        [1, 1, 1, 1, 1, 1, 1, 1, 1, 1, 1, 1]])}\n"
     ]
    }
   ],
   "source": [
    "# print(f\"padded_batch {padded_batch}\")\n",
    "encoded_input = BatchEncoding(encoded_input)\n",
    "print('após BatchEncoding',encoded_input)"
   ]
  },
  {
   "cell_type": "code",
   "execution_count": 74,
   "metadata": {},
   "outputs": [
    {
     "data": {
      "text/plain": [
       "12"
      ]
     },
     "execution_count": 74,
     "metadata": {},
     "output_type": "execute_result"
    }
   ],
   "source": [
    "encoded_input['input_ids'].shape[1]"
   ]
  },
  {
   "cell_type": "code",
   "execution_count": 75,
   "metadata": {},
   "outputs": [
    {
     "name": "stdout",
     "output_type": "stream",
     "text": [
      "{'input_ids': tensor([[  101,  2002,  7777,  2000,  4521, 10733,  1999,  1996, 10733, 12570,\n",
      "          1012,   102],\n",
      "        [  101,  2061,  2116, 11746,  2024,  8590,  1999,  2074,  1037, 12654,\n",
      "          1012,   102]]), 'token_type_ids': tensor([[0, 0, 0, 0, 0, 0, 0, 0, 0, 0, 0, 0],\n",
      "        [0, 0, 0, 0, 0, 0, 0, 0, 0, 0, 0, 0]]), 'special_tokens_mask': tensor([[1, 0, 0, 0, 0, 0, 0, 0, 0, 0, 0, 1],\n",
      "        [1, 0, 0, 0, 0, 0, 0, 0, 0, 0, 0, 1]]), 'attention_mask': tensor([[1, 1, 1, 1, 1, 1, 1, 1, 1, 1, 1, 1],\n",
      "        [1, 1, 1, 1, 1, 1, 1, 1, 1, 1, 1, 1]])}\n"
     ]
    }
   ],
   "source": [
    "# Move os dados para o dispositivo especificado (CPU ou GPU)\n",
    "encoded_input_cuda = {key: value.to(device) for key, value in encoded_input.items()}\n",
    "print(encoded_input)"
   ]
  },
  {
   "cell_type": "code",
   "execution_count": 76,
   "metadata": {},
   "outputs": [],
   "source": [
    "# Compute token embeddings\n",
    "with torch.no_grad():\n",
    "    model_output = model(**{k:v for k,v in encoded_input_cuda.items() if k != 'special_tokens_mask'})"
   ]
  },
  {
   "cell_type": "code",
   "execution_count": 77,
   "metadata": {},
   "outputs": [
    {
     "data": {
      "text/plain": [
       "odict_keys(['logits'])"
      ]
     },
     "execution_count": 77,
     "metadata": {},
     "output_type": "execute_result"
    }
   ],
   "source": [
    "model_output.keys()"
   ]
  },
  {
   "cell_type": "code",
   "execution_count": 78,
   "metadata": {},
   "outputs": [
    {
     "data": {
      "text/plain": [
       "torch.Size([2, 12, 30522])"
      ]
     },
     "execution_count": 78,
     "metadata": {},
     "output_type": "execute_result"
    }
   ],
   "source": [
    "model_output.logits.shape"
   ]
  },
  {
   "cell_type": "code",
   "execution_count": 79,
   "metadata": {},
   "outputs": [],
   "source": [
    "logits = model_output.logits.cpu()"
   ]
  },
  {
   "cell_type": "code",
   "execution_count": 80,
   "metadata": {},
   "outputs": [],
   "source": [
    "assert logits.shape[0]== len(sentences_test), f\"logits.shape[0] deveria ser igual a len(sentences_test), mas {logits.shape[0]} != {len(sentences_test)}\""
   ]
  },
  {
   "cell_type": "code",
   "execution_count": 81,
   "metadata": {},
   "outputs": [],
   "source": [
    "assert logits.shape[2]== model.config.vocab_size, f\"logits.shape[2] deveria ser igual model.config.vocab_size, mas {logits.shape[2]} != {model.config.vocab_size}  \""
   ]
  },
  {
   "cell_type": "code",
   "execution_count": 82,
   "metadata": {},
   "outputs": [],
   "source": [
    "assert logits.shape[1] ==  encoded_input['input_ids'].shape[1], f\"logits.shape[1] ==  encoded_input['input_ids'].shape[1], mas {logits.shape[1]} != {encoded_input['input_ids'].shape[1]}\""
   ]
  },
  {
   "cell_type": "code",
   "execution_count": 83,
   "metadata": {},
   "outputs": [
    {
     "data": {
      "text/plain": [
       "tensor([[[-6.3893e+00, -8.2711e+00, -7.5464e+00,  ..., -8.2343e+00, -7.9853e+00, -6.5540e+00],\n",
       "         [-1.0677e+01, -1.0912e+01, -1.0080e+01,  ..., -1.1239e+01, -1.0584e+01, -1.0340e+01],\n",
       "         [-1.4504e+01, -1.3984e+01, -1.2138e+01,  ..., -1.3341e+01, -1.2841e+01, -1.3440e+01],\n",
       "         ...,\n",
       "         [-1.1762e+01, -1.0844e+01, -9.7184e+00,  ..., -1.0512e+01, -9.5783e+00, -1.1487e+01],\n",
       "         [-2.0236e+01, -1.6708e+01, -1.5875e+01,  ..., -1.6253e+01, -1.5220e+01, -1.7133e+01],\n",
       "         [-1.8771e+01, -1.5834e+01, -1.5056e+01,  ..., -1.5429e+01, -1.4388e+01, -1.6011e+01]],\n",
       "\n",
       "        [[-6.0462e+00, -8.0102e+00, -7.5297e+00,  ..., -7.4065e+00, -7.7055e+00, -6.0488e+00],\n",
       "         [-7.0161e+00, -8.8562e+00, -8.1384e+00,  ..., -8.3108e+00, -8.6692e+00, -6.5108e+00],\n",
       "         [-9.4267e+00, -1.0151e+01, -9.3825e+00,  ..., -9.5120e+00, -9.9987e+00, -7.8468e+00],\n",
       "         ...,\n",
       "         [-2.0250e+01, -1.6809e+01, -1.7290e+01,  ..., -1.6032e+01, -1.6992e+01, -1.9700e+01],\n",
       "         [-1.8281e+01, -1.5261e+01, -1.4755e+01,  ..., -1.5178e+01, -1.3872e+01, -1.5943e+01],\n",
       "         [-1.7309e+01, -1.4686e+01, -1.4178e+01,  ..., -1.4615e+01, -1.3293e+01, -1.5177e+01]]])"
      ]
     },
     "execution_count": 83,
     "metadata": {},
     "output_type": "execute_result"
    }
   ],
   "source": [
    "logits"
   ]
  },
  {
   "cell_type": "code",
   "execution_count": 84,
   "metadata": {},
   "outputs": [],
   "source": [
    "logits_relu = relu(logits)"
   ]
  },
  {
   "cell_type": "code",
   "execution_count": 85,
   "metadata": {},
   "outputs": [
    {
     "data": {
      "text/plain": [
       "torch.Size([2, 12, 30522])"
      ]
     },
     "execution_count": 85,
     "metadata": {},
     "output_type": "execute_result"
    }
   ],
   "source": [
    "logits_relu.shape"
   ]
  },
  {
   "cell_type": "code",
   "execution_count": 86,
   "metadata": {},
   "outputs": [],
   "source": [
    "indices_nao_zero = torch.nonzero(logits_relu)"
   ]
  },
  {
   "cell_type": "code",
   "execution_count": 87,
   "metadata": {},
   "outputs": [
    {
     "data": {
      "text/plain": [
       "torch.Size([248, 3])"
      ]
     },
     "execution_count": 87,
     "metadata": {},
     "output_type": "execute_result"
    }
   ],
   "source": [
    "indices_nao_zero.shape"
   ]
  },
  {
   "cell_type": "code",
   "execution_count": 88,
   "metadata": {},
   "outputs": [
    {
     "name": "stdout",
     "output_type": "stream",
     "text": [
      "Indices não nulos para a amostra 0:\n",
      "tensor([   0,    0, 2002])\n",
      "Indices não nulos para a amostra 1:\n",
      "tensor([   0,    0, 2010])\n"
     ]
    }
   ],
   "source": [
    "for i in range(logits_relu.shape[0]):\n",
    "    indices = indices_nao_zero[i]\n",
    "    print(f\"Indices não nulos para a amostra {i}:\")\n",
    "    print(indices)"
   ]
  },
  {
   "cell_type": "code",
   "execution_count": 89,
   "metadata": {},
   "outputs": [
    {
     "name": "stdout",
     "output_type": "stream",
     "text": [
      "tensor([[   0,    0, 2002],\n",
      "        [   0,    0, 2010],\n",
      "        [   0,    0, 2032]])\n"
     ]
    }
   ],
   "source": [
    "print(indices_nao_zero[:3])"
   ]
  },
  {
   "cell_type": "code",
   "execution_count": 90,
   "metadata": {},
   "outputs": [
    {
     "name": "stdout",
     "output_type": "stream",
     "text": [
      "Valores para a parte 0: tensor([1.4559e+00, 9.9054e-01, 6.2091e-01])\n",
      "Valores para a parte 1: tensor([1.2144e+00, 2.6016e-01, 3.4094e-02])\n"
     ]
    }
   ],
   "source": [
    "\n",
    "num_splits = 2  # dividir indices_nao_zero em duas partes\n",
    "batch_size = indices_nao_zero.shape[0] // num_splits  # indices_nao_zero.shape[0]\n",
    "\n",
    "splits = torch.split(indices_nao_zero, batch_size, dim=0)\n",
    "\n",
    "for i, split in enumerate(splits):\n",
    "    # encontre os valores não-zero correspondentes em logits_relu para esta parte de indices_nao_zero\n",
    "    values = logits_relu[split[:, 0], split[:, 1], split[:, 2]]\n",
    "    print(f\"Valores para a parte {i}: {values[:3]}\")"
   ]
  },
  {
   "cell_type": "code",
   "execution_count": 91,
   "metadata": {},
   "outputs": [],
   "source": [
    "valores = logits_relu[indices_nao_zero[:, 0], indices_nao_zero[:, 1], indices_nao_zero[:, 2]]"
   ]
  },
  {
   "cell_type": "code",
   "execution_count": 92,
   "metadata": {},
   "outputs": [
    {
     "name": "stdout",
     "output_type": "stream",
     "text": [
      "torch.Size([248]) tensor([1.4559e+00, 9.9054e-01, 6.2091e-01])\n"
     ]
    }
   ],
   "source": [
    "print(valores.shape, valores[:3])"
   ]
  },
  {
   "attachments": {},
   "cell_type": "markdown",
   "metadata": {},
   "source": [
    "## Usando \"sum\""
   ]
  },
  {
   "cell_type": "code",
   "execution_count": 85,
   "metadata": {},
   "outputs": [],
   "source": [
    "wj_sum = torch.sum(torch.log(1 + relu(logits)), dim=1)"
   ]
  },
  {
   "cell_type": "code",
   "execution_count": 86,
   "metadata": {},
   "outputs": [
    {
     "data": {
      "text/plain": [
       "torch.Size([2, 30522])"
      ]
     },
     "execution_count": 86,
     "metadata": {},
     "output_type": "execute_result"
    }
   ],
   "source": [
    "wj_sum.shape"
   ]
  },
  {
   "cell_type": "code",
   "execution_count": 87,
   "metadata": {},
   "outputs": [],
   "source": [
    "wj_sum_sparse = wj_sum.to_sparse()"
   ]
  },
  {
   "cell_type": "code",
   "execution_count": 88,
   "metadata": {},
   "outputs": [
    {
     "data": {
      "text/plain": [
       "(torch.Tensor, torch.Size([2, 30522]))"
      ]
     },
     "execution_count": 88,
     "metadata": {},
     "output_type": "execute_result"
    }
   ],
   "source": [
    "type(wj_sum_sparse), wj_sum_sparse.shape"
   ]
  },
  {
   "cell_type": "code",
   "execution_count": 89,
   "metadata": {},
   "outputs": [
    {
     "data": {
      "text/plain": [
       "tensor(indices=tensor([[    0,     0,     0,     0,     0,     0,     0,     0,\n",
       "                            0,     0,     0,     0,     0,     0,     0,     0,\n",
       "                            0,     0,     0,     0,     0,     0,     0,     0,\n",
       "                            0,     0,     0,     0,     0,     0,     0,     0,\n",
       "                            0,     0,     0,     0,     0,     0,     0,     0,\n",
       "                            0,     0,     0,     0,     0,     0,     0,     0,\n",
       "                            0,     0,     0,     0,     0,     0,     0,     0,\n",
       "                            0,     0,     0,     0,     0,     0,     0,     0,\n",
       "                            0,     0,     0,     0,     0,     0,     1,     1,\n",
       "                            1,     1,     1,     1,     1,     1,     1,     1,\n",
       "                            1,     1,     1,     1,     1,     1,     1,     1,\n",
       "                            1,     1,     1,     1,     1,     1,     1,     1,\n",
       "                            1,     1,     1,     1,     1,     1,     1,     1,\n",
       "                            1,     1,     1,     1,     1,     1,     1,     1,\n",
       "                            1,     1,     1,     1,     1,     1,     1,     1,\n",
       "                            1,     1,     1],\n",
       "                       [ 1996,  1999,  2002,  2006,  2010,  2012,  2032,  2066,\n",
       "                         2079,  2123,  2215,  2252,  2283,  2359,  2365,  2370,\n",
       "                         2377,  2380,  2567,  2677,  2720,  2767,  2806,  2833,\n",
       "                         2839,  3124,  3309,  3347,  3364,  3531,  3573,  3782,\n",
       "                         3829,  3899,  3942,  4147,  4435,  4497,  4521,  4605,\n",
       "                         4666,  4669,  4713,  4825,  5404,  5440,  5470,  5542,\n",
       "                         5965,  5983,  6240,  6805,  6871,  7668,  7777,  7884,\n",
       "                         8738,  8808,  9065,  9383,  9544,  9841, 10026, 10733,\n",
       "                        11345, 11642, 12570, 15890, 18959, 19782,  1999,  2061,\n",
       "                         2062,  2074,  2116,  2205,  2261,  2338,  2411,  2466,\n",
       "                         2561,  2671,  2726,  2773,  2878,  2904,  3191,  3213,\n",
       "                         3365,  3375,  3432,  3674,  3722,  3752,  3793,  3975,\n",
       "                         4471,  4489,  4706,  4800,  4807,  5290,  5449,  5530,\n",
       "                         6251,  6310,  6412,  6796,  7063,  7065,  7680,  8553,\n",
       "                         8590,  8651,  9185,  9491, 10938, 11091, 11746, 12654,\n",
       "                        14686, 20423, 21743]]),\n",
       "       values=tensor([3.3765e-01, 6.8221e-01, 4.8495e+00, 5.0857e-02,\n",
       "                      3.3637e+00, 3.5866e-01, 1.5645e+00, 1.2889e+00,\n",
       "                      2.9630e-01, 2.5375e-01, 8.0036e-01, 1.5264e+00,\n",
       "                      1.9450e-01, 2.1403e-01, 2.0454e-01, 6.7570e-01,\n",
       "                      4.5247e-02, 1.9230e-01, 1.0644e-01, 1.8475e-01,\n",
       "                      4.3446e-02, 1.0081e-01, 6.0399e-01, 1.2967e+00,\n",
       "                      7.5185e-01, 4.8301e-01, 1.3395e+00, 9.4893e-01,\n",
       "                      3.3028e-01, 4.5783e-02, 7.9688e-02, 8.9580e-02,\n",
       "                      7.0697e-02, 3.7899e-03, 1.0442e+00, 3.2475e-01,\n",
       "                      2.6173e-02, 7.7419e-01, 4.2067e+00, 1.0101e+00,\n",
       "                      6.8446e-02, 1.4382e+00, 1.5299e-02, 5.9321e+00,\n",
       "                      1.8476e-01, 3.2477e-01, 2.1513e-01, 3.0995e-03,\n",
       "                      1.0105e-02, 1.0006e+00, 2.4887e-01, 2.7209e-01,\n",
       "                      5.6824e-01, 1.0535e-01, 1.2577e+00, 3.4756e-01,\n",
       "                      1.8002e-01, 3.2390e-02, 2.0112e-01, 9.5720e-05,\n",
       "                      5.7925e-01, 9.2031e-02, 1.7398e-01, 9.0861e+00,\n",
       "                      2.0686e+00, 5.0254e-01, 3.2271e+00, 1.0596e+00,\n",
       "                      6.9909e-02, 1.0345e-01, 6.5284e-02, 7.1823e-01,\n",
       "                      6.4278e-02, 1.3465e+00, 1.4859e+00, 2.3125e-02,\n",
       "                      1.1274e-01, 1.0177e-01, 1.8514e-01, 1.4240e+00,\n",
       "                      3.2012e-01, 7.9914e-03, 6.0099e-02, 3.3288e-01,\n",
       "                      1.9278e-01, 1.9380e-01, 1.0715e-01, 9.2200e-01,\n",
       "                      6.8181e-02, 8.9910e-01, 4.1734e-01, 4.5196e-01,\n",
       "                      3.5879e-01, 9.8448e-01, 1.7755e+00, 5.9911e-02,\n",
       "                      2.7286e-01, 7.9708e-01, 2.2653e+00, 2.6121e-01,\n",
       "                      9.2732e-03, 1.6598e-01, 2.8045e-01, 6.9186e-01,\n",
       "                      3.9869e+00, 2.5387e-01, 6.3176e-01, 9.1688e-02,\n",
       "                      2.4171e-02, 3.1174e-01, 1.1770e+00, 6.2285e-02,\n",
       "                      1.3529e+00, 1.5620e+00, 2.5692e-01, 1.1482e-01,\n",
       "                      1.6596e+00, 2.7948e-01, 1.8603e+00, 2.6564e+00,\n",
       "                      1.2008e+00, 3.0817e-01, 1.3502e-01]),\n",
       "       size=(2, 30522), nnz=123, layout=torch.sparse_coo)"
      ]
     },
     "execution_count": 89,
     "metadata": {},
     "output_type": "execute_result"
    }
   ],
   "source": [
    "wj_sum_sparse"
   ]
  },
  {
   "cell_type": "code",
   "execution_count": 280,
   "metadata": {},
   "outputs": [
    {
     "data": {
      "image/png": "[encoded data removed]",
      "text/plain": [
       "<Figure size 640x480 with 1 Axes>"
      ]
     },
     "metadata": {},
     "output_type": "display_data"
    }
   ],
   "source": [
    "# Criar o histograma\n",
    "plt.hist(values.numpy(), bins=50)\n",
    "\n",
    "# Adicionar título e rótulos aos eixos\n",
    "plt.title(\"Histograma dos valores\")\n",
    "plt.xlabel(\"Valores\")\n",
    "plt.ylabel(\"Contagem\")\n",
    "\n",
    "# Mostrar o histograma\n",
    "plt.show()"
   ]
  },
  {
   "cell_type": "code",
   "execution_count": null,
   "metadata": {},
   "outputs": [],
   "source": [
    "normalized_values = (wj_sum_sparse._values() - wj_sum_sparse._values().min()) / (wj_sum_sparse._values().max() - wj_sum_sparse._values().min())\n"
   ]
  },
  {
   "cell_type": "code",
   "execution_count": 281,
   "metadata": {},
   "outputs": [
    {
     "data": {
      "image/png": "[encoded data removed]",
      "text/plain": [
       "<Figure size 640x480 with 1 Axes>"
      ]
     },
     "metadata": {},
     "output_type": "display_data"
    }
   ],
   "source": [
    "# Criar o histograma\n",
    "plt.hist(normalized_values.numpy(), bins=50)\n",
    "\n",
    "# Adicionar título e rótulos aos eixos\n",
    "plt.title(\"Histograma dos valores\")\n",
    "plt.xlabel(\"Valores\")\n",
    "plt.ylabel(\"Contagem\")\n",
    "\n",
    "# Mostrar o histograma\n",
    "plt.show()"
   ]
  },
  {
   "cell_type": "code",
   "execution_count": 279,
   "metadata": {},
   "outputs": [
    {
     "data": {
      "text/plain": [
       "(tensor(0.), tensor(8.5426e-02), tensor(3.3906e-02), tensor(1.0000e+00))"
      ]
     },
     "execution_count": 279,
     "metadata": {},
     "output_type": "execute_result"
    }
   ],
   "source": [
    "normalized_values.min(), normalized_values.mean(), normalized_values.median(), normalized_values.max()"
   ]
  },
  {
   "cell_type": "code",
   "execution_count": 90,
   "metadata": {},
   "outputs": [
    {
     "data": {
      "text/plain": [
       "(torch.Size([123]), tensor(9.5482e+01))"
      ]
     },
     "execution_count": 90,
     "metadata": {},
     "output_type": "execute_result"
    }
   ],
   "source": [
    "wj_sum_sparse._values().shape, wj_sum_sparse._values().sum()"
   ]
  },
  {
   "attachments": {},
   "cell_type": "markdown",
   "metadata": {},
   "source": [
    "## Compreendendo tensor esparso"
   ]
  },
  {
   "cell_type": "code",
   "execution_count": 91,
   "metadata": {},
   "outputs": [
    {
     "data": {
      "text/plain": [
       "torch.Size([2, 123])"
      ]
     },
     "execution_count": 91,
     "metadata": {},
     "output_type": "execute_result"
    }
   ],
   "source": [
    "wj_sum_sparse._indices().shape\n"
   ]
  },
  {
   "cell_type": "code",
   "execution_count": 92,
   "metadata": {},
   "outputs": [
    {
     "name": "stdout",
     "output_type": "stream",
     "text": [
      "Número de subwords/tokens de entrada: 2\n"
     ]
    }
   ],
   "source": [
    "print(f\"Número de subwords/tokens de entrada: {wj_sum_sparse._indices()[0].max() + 1}\")"
   ]
  },
  {
   "cell_type": "code",
   "execution_count": 93,
   "metadata": {},
   "outputs": [
    {
     "name": "stdout",
     "output_type": "stream",
     "text": [
      "Qtd de elementos no vetor esparso: 123\n"
     ]
    }
   ],
   "source": [
    "print(f\"Qtd de elementos no vetor esparso: {wj_sum_sparse._nnz()}\")"
   ]
  },
  {
   "cell_type": "code",
   "execution_count": 94,
   "metadata": {},
   "outputs": [
    {
     "data": {
      "text/plain": [
       "(4, 2, 61044, 123)"
      ]
     },
     "execution_count": 94,
     "metadata": {},
     "output_type": "execute_result"
    }
   ],
   "source": [
    "wj_sum_sparse.element_size(), wj_sum_sparse.sparse_dim(), wj_sum_sparse.numel(), wj_sum_sparse._nnz()"
   ]
  },
  {
   "attachments": {},
   "cell_type": "markdown",
   "metadata": {},
   "source": [
    "### Visualizando economia de espaço"
   ]
  },
  {
   "cell_type": "code",
   "execution_count": 95,
   "metadata": {},
   "outputs": [],
   "source": [
    "# calcula o tamanho em bytes do tensor esparso\n",
    "mem_vetor_esparso = wj_sum_sparse.element_size() * wj_sum_sparse._nnz()  "
   ]
  },
  {
   "cell_type": "code",
   "execution_count": 96,
   "metadata": {},
   "outputs": [],
   "source": [
    "# calcula o tamanho em bytes do tensor contíguo\n",
    "mem_vetor_contiguo = wj_sum.element_size() * wj_sum.numel()  "
   ]
  },
  {
   "cell_type": "code",
   "execution_count": 97,
   "metadata": {},
   "outputs": [
    {
     "name": "stdout",
     "output_type": "stream",
     "text": [
      "Memória vetor esparso 492 x contíguo 244176 0.201%\n"
     ]
    }
   ],
   "source": [
    "print(f\"Memória vetor esparso {mem_vetor_esparso} x contíguo {mem_vetor_contiguo} {round(100*mem_vetor_esparso/mem_vetor_contiguo,3)}%\")"
   ]
  },
  {
   "cell_type": "code",
   "execution_count": 98,
   "metadata": {},
   "outputs": [],
   "source": [
    "# t = torch.tensor([[0, 0, 0, 0, 0, 0, 0, 0, 0, 0, 0, 0, 0, 0, 0, 0, 0, 0, 0, 0, 0, 0, 0, 0, 0, 0, 0, 0, 0, 0, 0, 0, 0, 1, 1, 1, 1, 1, 1, 1, 1, 1, 1, 2, 2, 2, 2, 2, 2, 2, 2, 2, 2, 2, 2, 2, 3, 3, 3, 3, 3, 3, 3, 3, 3, 3, 3, 3, 3, 3, 3, 3, 3, 3, 3, 3, 3, 3, 3, 3, 4, 4, 4, 4, 4, 4, 4, 4, 5, 5, 5, 5, 6]])\n",
    "\n",
    "unique_vals, counts = torch.unique(wj_sum_sparse._indices()[0], return_counts=True)"
   ]
  },
  {
   "cell_type": "code",
   "execution_count": 99,
   "metadata": {},
   "outputs": [],
   "source": [
    "counts_dict = {val.item(): count.item() for val, count in zip(unique_vals, counts)}\n"
   ]
  },
  {
   "cell_type": "code",
   "execution_count": 100,
   "metadata": {},
   "outputs": [
    {
     "name": "stdout",
     "output_type": "stream",
     "text": [
      "{0: 70, 1: 53}\n"
     ]
    }
   ],
   "source": [
    "print(counts_dict)"
   ]
  },
  {
   "cell_type": "code",
   "execution_count": 101,
   "metadata": {},
   "outputs": [],
   "source": [
    "values_dict = {}\n",
    "unique_indices = torch.unique(wj_sum_sparse._indices()[0])\n",
    "for idx in unique_indices:\n",
    "    values_dict[idx.item()] = wj_sum_sparse._indices()[1][wj_sum_sparse._indices()[0] == idx].tolist()\n"
   ]
  },
  {
   "cell_type": "code",
   "execution_count": 102,
   "metadata": {},
   "outputs": [
    {
     "name": "stdout",
     "output_type": "stream",
     "text": [
      "{0: [1996, 1999, 2002, 2006, 2010, 2012, 2032, 2066, 2079, 2123, 2215, 2252, 2283, 2359, 2365, 2370, 2377, 2380, 2567, 2677, 2720, 2767, 2806, 2833, 2839, 3124, 3309, 3347, 3364, 3531, 3573, 3782, 3829, 3899, 3942, 4147, 4435, 4497, 4521, 4605, 4666, 4669, 4713, 4825, 5404, 5440, 5470, 5542, 5965, 5983, 6240, 6805, 6871, 7668, 7777, 7884, 8738, 8808, 9065, 9383, 9544, 9841, 10026, 10733, 11345, 11642, 12570, 15890, 18959, 19782], 1: [1999, 2061, 2062, 2074, 2116, 2205, 2261, 2338, 2411, 2466, 2561, 2671, 2726, 2773, 2878, 2904, 3191, 3213, 3365, 3375, 3432, 3674, 3722, 3752, 3793, 3975, 4471, 4489, 4706, 4800, 4807, 5290, 5449, 5530, 6251, 6310, 6412, 6796, 7063, 7065, 7680, 8553, 8590, 8651, 9185, 9491, 10938, 11091, 11746, 12654, 14686, 20423, 21743]}\n"
     ]
    }
   ],
   "source": [
    "print(values_dict)"
   ]
  },
  {
   "cell_type": "code",
   "execution_count": 103,
   "metadata": {},
   "outputs": [
    {
     "name": "stdout",
     "output_type": "stream",
     "text": [
      "pos 0:He likes to eat pizza in the pizza hut.\n",
      "[1996, 1999, 2002, 2006, 2010, 2012, 2032, 2066, 2079, 2123, 2215, 2252, 2283, 2359, 2365, 2370, 2377, 2380, 2567, 2677, 2720, 2767, 2806, 2833, 2839, 3124, 3309, 3347, 3364, 3531, 3573, 3782, 3829, 3899, 3942, 4147, 4435, 4497, 4521, 4605, 4666, 4669, 4713, 4825, 5404, 5440, 5470, 5542, 5965, 5983, 6240, 6805, 6871, 7668, 7777, 7884, 8738, 8808, 9065, 9383, 9544, 9841, 10026, 10733, 11345, 11642, 12570, 15890, 18959, 19782]\n",
      "['the', 'in', 'he', 'on', 'his', 'at', 'him', 'like', 'do', 'don', 'want', 'club', 'party', 'wanted', 'son', 'himself', 'play', 'park', 'brother', 'mouth', 'mr', 'friend', 'style', 'food', 'character', 'guy', 'hotel', 'bar', 'actor', 'please', 'store', 'chris', 'kitchen', 'dog', 'visit', 'wearing', 'brand', 'shop', 'eat', 'bowl', 'mix', 'liked', 'factory', 'restaurant', 'beer', 'favorite', 'fan', 'cousin', 'fred', 'eating', 'meat', 'bite', 'preferred', 'cafe', 'likes', 'restaurants', 'diet', 'cheese', 'booth', 'mcdonald', 'prefer', 'dish', 'chef', 'pizza', 'pie', 'sandwich', 'hut', 'burger', 'dislike', 'snack'] \n",
      "pos 1:So many sentences are transformed in just a summary.\n",
      "[1999, 2061, 2062, 2074, 2116, 2205, 2261, 2338, 2411, 2466, 2561, 2671, 2726, 2773, 2878, 2904, 3191, 3213, 3365, 3375, 3432, 3674, 3722, 3752, 3793, 3975, 4471, 4489, 4706, 4800, 4807, 5290, 5449, 5530, 6251, 6310, 6412, 6796, 7063, 7065, 7680, 8553, 8590, 8651, 9185, 9491, 10938, 11091, 11746, 12654, 14686, 20423, 21743]\n",
      "['in', 'so', 'more', 'just', 'many', 'too', 'few', 'book', 'often', 'story', 'total', 'science', 'thomas', 'word', 'whole', 'changed', 'read', 'writer', 'numerous', 'complex', 'simply', 'multiple', 'simple', 'reading', 'text', 'split', 'message', 'difference', 'literary', 'multi', 'communication', 'reform', 'translation', 'pages', 'sentence', 'modified', 'description', 'justin', 'madison', 'rev', 'sum', '##bility', 'transformed', 'transformation', 'reflection', 'essay', 'transform', 'citation', 'sentences', 'summary', 'quote', 'paragraph', 'transforms'] \n"
     ]
    }
   ],
   "source": [
    "for pos, list_tokens in values_dict.items():\n",
    "    print(f\"pos {pos}:{sentences_test[pos]}\")\n",
    "    print(f\"{list_tokens}\")\n",
    "    print(f\"{tokenizer.convert_ids_to_tokens(list_tokens)} \")\n",
    "\n",
    "# tokenizer.convert_ids_to_tokens(wj_sparse._indices()[1])"
   ]
  },
  {
   "attachments": {},
   "cell_type": "markdown",
   "metadata": {},
   "source": [
    "## Usando \"max\""
   ]
  },
  {
   "cell_type": "code",
   "execution_count": 104,
   "metadata": {},
   "outputs": [],
   "source": [
    "wj_max, _ = torch.max(torch.log(1 + relu(logits)), dim=1)"
   ]
  },
  {
   "cell_type": "code",
   "execution_count": 105,
   "metadata": {},
   "outputs": [],
   "source": [
    "wj_max_sparse = wj_max.to_sparse()"
   ]
  },
  {
   "cell_type": "code",
   "execution_count": 106,
   "metadata": {},
   "outputs": [
    {
     "data": {
      "text/plain": [
       "torch.Size([2, 30522])"
      ]
     },
     "execution_count": 106,
     "metadata": {},
     "output_type": "execute_result"
    }
   ],
   "source": [
    "wj_max_sparse.shape"
   ]
  },
  {
   "cell_type": "code",
   "execution_count": 107,
   "metadata": {},
   "outputs": [
    {
     "name": "stdout",
     "output_type": "stream",
     "text": [
      "{0: 70, 1: 53}\n"
     ]
    }
   ],
   "source": [
    "# t = torch.tensor([[0, 0, 0, 0, 0, 0, 0, 0, 0, 0, 0, 0, 0, 0, 0, 0, 0, 0, 0, 0, 0, 0, 0, 0, 0, 0, 0, 0, 0, 0, 0, 0, 0, 1, 1, 1, 1, 1, 1, 1, 1, 1, 1, 2, 2, 2, 2, 2, 2, 2, 2, 2, 2, 2, 2, 2, 3, 3, 3, 3, 3, 3, 3, 3, 3, 3, 3, 3, 3, 3, 3, 3, 3, 3, 3, 3, 3, 3, 3, 3, 4, 4, 4, 4, 4, 4, 4, 4, 5, 5, 5, 5, 6]])\n",
    "unique_vals, counts = torch.unique(wj_max_sparse._indices()[0], return_counts=True)\n",
    "counts_dict = {val.item(): count.item() for val, count in zip(unique_vals, counts)}\n",
    "print(counts_dict)"
   ]
  },
  {
   "cell_type": "code",
   "execution_count": 108,
   "metadata": {},
   "outputs": [],
   "source": [
    "values_dict = {}\n",
    "unique_indices = torch.unique(wj_max_sparse._indices()[0])\n",
    "for idx in unique_indices:\n",
    "    values_dict[idx.item()] = wj_max_sparse._indices()[1][wj_max_sparse._indices()[0] == idx].tolist()\n"
   ]
  },
  {
   "cell_type": "code",
   "execution_count": 109,
   "metadata": {},
   "outputs": [
    {
     "name": "stdout",
     "output_type": "stream",
     "text": [
      "{0: [1996, 1999, 2002, 2006, 2010, 2012, 2032, 2066, 2079, 2123, 2215, 2252, 2283, 2359, 2365, 2370, 2377, 2380, 2567, 2677, 2720, 2767, 2806, 2833, 2839, 3124, 3309, 3347, 3364, 3531, 3573, 3782, 3829, 3899, 3942, 4147, 4435, 4497, 4521, 4605, 4666, 4669, 4713, 4825, 5404, 5440, 5470, 5542, 5965, 5983, 6240, 6805, 6871, 7668, 7777, 7884, 8738, 8808, 9065, 9383, 9544, 9841, 10026, 10733, 11345, 11642, 12570, 15890, 18959, 19782], 1: [1999, 2061, 2062, 2074, 2116, 2205, 2261, 2338, 2411, 2466, 2561, 2671, 2726, 2773, 2878, 2904, 3191, 3213, 3365, 3375, 3432, 3674, 3722, 3752, 3793, 3975, 4471, 4489, 4706, 4800, 4807, 5290, 5449, 5530, 6251, 6310, 6412, 6796, 7063, 7065, 7680, 8553, 8590, 8651, 9185, 9491, 10938, 11091, 11746, 12654, 14686, 20423, 21743]}\n"
     ]
    }
   ],
   "source": [
    "print(values_dict)"
   ]
  },
  {
   "cell_type": "code",
   "execution_count": 110,
   "metadata": {},
   "outputs": [
    {
     "name": "stdout",
     "output_type": "stream",
     "text": [
      "pos 0:He likes to eat pizza in the pizza hut.\n",
      "[1996, 1999, 2002, 2006, 2010, 2012, 2032, 2066, 2079, 2123, 2215, 2252, 2283, 2359, 2365, 2370, 2377, 2380, 2567, 2677, 2720, 2767, 2806, 2833, 2839, 3124, 3309, 3347, 3364, 3531, 3573, 3782, 3829, 3899, 3942, 4147, 4435, 4497, 4521, 4605, 4666, 4669, 4713, 4825, 5404, 5440, 5470, 5542, 5965, 5983, 6240, 6805, 6871, 7668, 7777, 7884, 8738, 8808, 9065, 9383, 9544, 9841, 10026, 10733, 11345, 11642, 12570, 15890, 18959, 19782]\n",
      "['the', 'in', 'he', 'on', 'his', 'at', 'him', 'like', 'do', 'don', 'want', 'club', 'party', 'wanted', 'son', 'himself', 'play', 'park', 'brother', 'mouth', 'mr', 'friend', 'style', 'food', 'character', 'guy', 'hotel', 'bar', 'actor', 'please', 'store', 'chris', 'kitchen', 'dog', 'visit', 'wearing', 'brand', 'shop', 'eat', 'bowl', 'mix', 'liked', 'factory', 'restaurant', 'beer', 'favorite', 'fan', 'cousin', 'fred', 'eating', 'meat', 'bite', 'preferred', 'cafe', 'likes', 'restaurants', 'diet', 'cheese', 'booth', 'mcdonald', 'prefer', 'dish', 'chef', 'pizza', 'pie', 'sandwich', 'hut', 'burger', 'dislike', 'snack'] \n",
      "pos 1:So many sentences are transformed in just a summary.\n",
      "[1999, 2061, 2062, 2074, 2116, 2205, 2261, 2338, 2411, 2466, 2561, 2671, 2726, 2773, 2878, 2904, 3191, 3213, 3365, 3375, 3432, 3674, 3722, 3752, 3793, 3975, 4471, 4489, 4706, 4800, 4807, 5290, 5449, 5530, 6251, 6310, 6412, 6796, 7063, 7065, 7680, 8553, 8590, 8651, 9185, 9491, 10938, 11091, 11746, 12654, 14686, 20423, 21743]\n",
      "['in', 'so', 'more', 'just', 'many', 'too', 'few', 'book', 'often', 'story', 'total', 'science', 'thomas', 'word', 'whole', 'changed', 'read', 'writer', 'numerous', 'complex', 'simply', 'multiple', 'simple', 'reading', 'text', 'split', 'message', 'difference', 'literary', 'multi', 'communication', 'reform', 'translation', 'pages', 'sentence', 'modified', 'description', 'justin', 'madison', 'rev', 'sum', '##bility', 'transformed', 'transformation', 'reflection', 'essay', 'transform', 'citation', 'sentences', 'summary', 'quote', 'paragraph', 'transforms'] \n"
     ]
    }
   ],
   "source": [
    "for pos, list_tokens in values_dict.items():\n",
    "    print(f\"pos {pos}:{sentences_test[pos]}\")\n",
    "    print(f\"{list_tokens}\")\n",
    "    print(f\"{tokenizer.convert_ids_to_tokens(list_tokens)} \")\n",
    "\n",
    "# tokenizer.convert_ids_to_tokens(wj_sparse._indices()[1])"
   ]
  },
  {
   "cell_type": "code",
   "execution_count": 111,
   "metadata": {},
   "outputs": [
    {
     "data": {
      "text/plain": [
       "(tensor(5.4646e+01), tensor(9.5482e+01))"
      ]
     },
     "execution_count": 111,
     "metadata": {},
     "output_type": "execute_result"
    }
   ],
   "source": [
    "wj_max_sparse._values().sum(), wj_sum_sparse._values().sum()"
   ]
  },
  {
   "attachments": {},
   "cell_type": "markdown",
   "metadata": {},
   "source": [
    "## Conclusão dos experimentos\n"
   ]
  },
  {
   "attachments": {},
   "cell_type": "markdown",
   "metadata": {},
   "source": [
    "As expansões se equivalem, seja usando max ou sum, pois as 123 tokens (após expansão) são as 123 não zeradas do logits (após relu).\n",
    "O que muda são os valores dos scores das tokens, o que pode influenciar na busca (sum:95, max:54)\n"
   ]
  },
  {
   "attachments": {},
   "cell_type": "markdown",
   "metadata": {},
   "source": [
    "# Funções auxiliares"
   ]
  },
  {
   "attachments": {},
   "cell_type": "markdown",
   "metadata": {},
   "source": [
    "## De expansão/inferência"
   ]
  },
  {
   "cell_type": "code",
   "execution_count": 138,
   "metadata": {},
   "outputs": [],
   "source": [
    "def retorna_subword_importante(\n",
    "    parm_model: BertForMaskedLM,\n",
    "    parm_tokenizer: BertTokenizer,\n",
    "    parm_sentences: list,\n",
    "    parm_ind_agg: str = 'max',\n",
    "    parm_se_usa_sep: bool = True\n",
    "  )  -> torch.sparse.FloatTensor:\n",
    "    \"\"\"\n",
    "    Retorna um tensor esparso contendo as subpalavras importantes de cada sentença fornecida.\n",
    "\n",
    "    Args:\n",
    "        parm_model (BertForMaskedLM): O modelo pré-treinado utilizado para geração de embeddings.\n",
    "        parm_tokenizer (BertTokenizer): O tokenizador associado ao modelo pré-treinado.\n",
    "        parm_sentences (list): A lista de sentenças para as quais se deseja obter as subpalavras importantes.\n",
    "        parm_ind_agg (str): O método de agregação de índices para geração do tensor esparso. As opções são:\n",
    "                                            - 'max': para agregar índices por meio do valor máximo naquela posição;\n",
    "                                            - 'sum': para agregar índices por meio da soma naquela posição.\n",
    "\n",
    "    Returns:\n",
    "        torch.sparse.FloatTensor: O tensor esparso com as subpalavras importantes de cada sentença.\n",
    "    \"\"\"\n",
    "    assert parm_ind_agg in ['max','sum'], f\"parm_ind_aggregation_method deve ser 'max' ou 'sum', mas passado {parm_ind_agg}!\"\n",
    "\n",
    "    encoded_input = parm_tokenizer(parm_sentences,\n",
    "                                    add_special_tokens=True,\n",
    "                                    return_special_tokens_mask=True, \n",
    "                                    padding=True, \n",
    "                                    truncation=True,\n",
    "                                    max_length=model.config.max_position_embeddings,\n",
    "                                    return_tensors='pt')\n",
    "\n",
    "\n",
    "\n",
    "    encoded_input = BatchEncoding(encoded_input)\n",
    "    encoded_input_cuda = {key: value.to(device) for key, value in encoded_input.items()}\n",
    "    with torch.no_grad():\n",
    "        model_output = parm_model(**{k:v for k,v in encoded_input_cuda.items() if k != 'special_tokens_mask'})\n",
    "    logits = model_output.logits    # estava movendo para a cpu aqui!\n",
    "    assert logits.shape[0]== len(parm_sentences), f\"logits.shape[0] deveria ser igual a len(sentences_test), mas {logits.shape[0]} != {len(sentences_test)}\"\n",
    "    assert logits.shape[1] ==  encoded_input['input_ids'].shape[1], f\"logits.shape[1] ==  encoded_input['input_ids'].shape[1], mas {logits.shape[1]} != {encoded_input['input_ids'].shape[1]}\"\n",
    "    assert logits.shape[2]== model.config.vocab_size, f\"logits.shape[2] deveria ser igual model.config.vocab_size, mas {logits.shape[2]} != {model.config.vocab_size}  \"\n",
    "    # print(f\"model_output.logits.shape {model_output.logits.shape}\")\n",
    "    if parm_se_usa_sep:\n",
    "        if parm_ind_agg == 'max':\n",
    "            wj, _ = torch.max(torch.log(1 + relu(logits)), dim=1)\n",
    "        elif parm_ind_agg == 'sum':\n",
    "            wj = torch.sum(torch.log(1 + relu(logits)), dim=1)\n",
    "    else:\n",
    "        if parm_ind_agg == 'max':\n",
    "            wj, _ = torch.max(torch.log(1 + relu(logits[:,1:-1,:])), dim=1)\n",
    "        elif parm_ind_agg == 'sum':\n",
    "            wj = torch.sum(torch.log(1 + relu(logits[:, 1:-1,:])), dim=1)\n",
    "\n",
    "    return wj.cpu().to_sparse()\n"
   ]
  },
  {
   "cell_type": "code",
   "execution_count": 121,
   "metadata": {},
   "outputs": [],
   "source": [
    "def retorna_tokens_expansao_dict(parm_expansao: torch.Tensor, \n",
    "                            parm_tokenizer: BertTokenizer,\n",
    "                            parm_sentences: list) -> dict:\n",
    "    \"\"\"\n",
    "    Retorna um dicionário com informações sobre as expansões de tokens para cada sentença.\n",
    "\n",
    "    Args:\n",
    "        parm_expansao (torch.Tensor): Tensor esparso com as expansões de tokens.\n",
    "        parm_tokenizer (BertTokenizer): Tokenizer associado ao modelo BERT utilizado nas expansões.\n",
    "        parm_sentences (list): Lista de sentenças utilizadas para gerar as expansões.\n",
    "\n",
    "    Returns:\n",
    "        dict: Dicionário com informações sobre as expansões de tokens para cada sentença. Cada item do dicionário\n",
    "        contém as seguintes chaves:\n",
    "        - 'text': A sentença original.\n",
    "        - 'list_tokens_expanded': Uma lista de tokens correspondente às expansões geradas para a sentença.\n",
    "    \"\"\"\n",
    "    # Verifica se o número de linhas da expansão é igual ao número de sentenças\n",
    "    assert parm_expansao.shape[0] == len(parm_sentences), f\"parm_expansao.shape[0] == len(parm_sentences), mas {parm_expansao.shape[0]} != {len(parm_sentences)}\"\n",
    "\n",
    "    # Cria um dicionário para armazenar os valores únicos presentes na expansão\n",
    "    values_dict = {}\n",
    "    # Obtém os índices únicos da expansão\n",
    "    unique_indices = torch.unique(parm_expansao._indices()[0])\n",
    "    # Para cada índice único, armazena a lista de tokens correspondente\n",
    "    for idx in unique_indices:\n",
    "        values_dict[idx.item()] = parm_expansao._indices()[1][parm_expansao._indices()[0] == idx].tolist()\n",
    "\n",
    "    # Cria um dicionário de retorno com as informações de cada sentença\n",
    "    dict_retorno = {}\n",
    "    for pos, list_tokens in values_dict.items():\n",
    "        dict_retorno[pos] = {'text': parm_sentences[pos], \n",
    "                             'list_tokens_expanded': parm_tokenizer.convert_ids_to_tokens(list_tokens)}\n",
    "    return dict_retorno\n"
   ]
  },
  {
   "cell_type": "code",
   "execution_count": 122,
   "metadata": {},
   "outputs": [],
   "source": [
    "def expande_corpus(parm_model:BertForMaskedLM,\n",
    "                   parm_tokenizer:BertTokenizer, \n",
    "                   parm_sentences:list,\n",
    "                   parm_batch_size:int=64,\n",
    "                   parm_ind_agg:str='max',\n",
    "                   parm_se_usa_sep: bool = True) -> torch.Tensor:\n",
    "    \"\"\"\n",
    "    Gera a expansão de palavras para um conjunto de documentos usando um modelo de linguagem BERT pré-treinado.\n",
    "\n",
    "    Args:\n",
    "    - parm_model: modelo BERT pré-treinado.\n",
    "    - parm_tokenizer: tokenizer associado ao modelo BERT.\n",
    "    - parm_sentences: lista contendo os documentos (em forma de string) a serem expandidos.\n",
    "    - parm_batch_size: tamanho do batch para processamento em lotes. O padrão é 64.\n",
    "    - parm_ind_agg: método de agregação de subpalavras. As opções são: 'max' (valor máximo) ou 'sum' (soma).\n",
    "    O padrão é 'max'.\n",
    "\n",
    "    Returns:\n",
    "    - torch.Tensor: matriz esparsa com a representação das subpalavras importantes para cada documento.\n",
    "    \"\"\"\n",
    "    # Comando para reduzir tempo e memória with torch.autocast(device_type='cuda', dtype=torch.float16, enabled=True):\n",
    "    # Matriz esparsa que irá armazenar as subpalavras importantes para cada documento.\n",
    "    expansoes = None  \n",
    "    # Calcula a quantidade de lotes a serem processados.\n",
    "    qtd_bloco = math.ceil(len(parm_sentences) / parm_batch_size)  \n",
    "    # Cria uma barra de progresso para acompanhar o processamento.    \n",
    "    pbar = tqdm(range(qtd_bloco))  \n",
    "    for ndx in range(qtd_bloco):\n",
    "        # Seleciona o conjunto de documentos a serem processados no lote atual.\n",
    "        lista_doctos = [docto['texto_titulo'] for docto in parm_sentences[ndx*parm_batch_size:ndx*parm_batch_size+parm_batch_size]]\n",
    "        # Chama a função que gera a expansão de subpalavras      \n",
    "        expansoes_batch = retorna_subword_importante(parm_model=parm_model, parm_tokenizer=parm_tokenizer, parm_sentences=lista_doctos, parm_ind_agg=parm_ind_agg, parm_se_usa_sep=parm_se_usa_sep)\n",
    "        # Concatena as expansões geradas no lote atual com as expansões já armazenadas na matriz esparsa.\n",
    "        if expansoes is None:\n",
    "            expansoes = expansoes_batch\n",
    "        else:\n",
    "            expansoes = torch.cat( (expansoes, expansoes_batch), dim=0)\n",
    "        # if ndx%10==0:\n",
    "        #    torch.cuda.empty_cache()\n",
    "        # Atualiza a barra de progresso.\n",
    "        pbar.update(n=1)\n",
    "        pbar.refresh()\n",
    "\n",
    "    # Exibe a mensagem indicando a quantidade de expansões geradas e retorna a matriz esparsa com as subpalavras importantes.\n",
    "    print(f\"Expansões geradas: shape {expansoes.shape}\")\n",
    "    return expansoes\n"
   ]
  },
  {
   "attachments": {},
   "cell_type": "markdown",
   "metadata": {},
   "source": [
    "## De busca"
   ]
  },
  {
   "cell_type": "code",
   "execution_count": 123,
   "metadata": {},
   "outputs": [],
   "source": [
    "def retorna_tensor_unitario_em_tokens(parm_tokenizer:BertTokenizer, parm_texto:str) -> torch.Tensor:\n",
    "    \"\"\"\n",
    "    Função que recebe um tokenizer e um parm_ e retorna um tensor com um único valor 1.0 em cada posição\n",
    "    correspondente aos tokens do texto.\n",
    "\n",
    "    :param parm_tokenizer: objeto BertTokenizer, responsável por tokenizar o texto\n",
    "    :type parm_tokenizer: BertTokenizer\n",
    "    :param texto: texto a ser tokenizado\n",
    "    :type texto: str\n",
    "    :return: tensor com um único valor 1.0 em cada posição correspondente aos tokens do texto\n",
    "    :rtype: torch.Tensor\n",
    "    \"\"\"\n",
    "    \n",
    "    assert isinstance(parm_texto, str) or ( isinstance(parm_texto, list) and  isinstance(parm_texto[0], str)   ) , f\"parm_texto deve ser str ou lista com uma string\"\n",
    "    # tokeniza o texto e obtém a lista de tokens\n",
    "    lista_tokens = parm_tokenizer(parm_texto,\n",
    "                                    add_special_tokens=False,\n",
    "                                    return_special_tokens_mask=False, \n",
    "                                    padding=False, \n",
    "                                    truncation=True,\n",
    "                                    max_length=tokenizer.max_len_single_sentence,\n",
    "                                    return_tensors='pt')['input_ids']\n",
    "    \n",
    "\n",
    "    # cria um tensor vazio com o tamanho do vocabulário\n",
    "    tensor = torch.zeros(parm_tokenizer.vocab_size, dtype=torch.float32)\n",
    "\n",
    "    # define os valores 1.0 nas posições correspondentes aos índices dos tokens na lista\n",
    "    tensor[lista_tokens] = 1.0\n",
    "\n",
    "    return tensor.squeeze()\n"
   ]
  },
  {
   "cell_type": "code",
   "execution_count": 341,
   "metadata": {},
   "outputs": [],
   "source": [
    "def run_all_queries_busca_exaustiva(parm_model:BertForMaskedLM,\n",
    "                                    parm_tokenizer:BertTokenizer, \n",
    "                                    parm_dict_queries:{},\n",
    "                                    parm_corpus_expanded, \n",
    "                                    parm_lista_doc_id_passage:list,\n",
    "                                    parm_num_max_hits:int=1000,\n",
    "                                    parm_se_query_expansion:bool=False,\n",
    "                                    parm_ind_agg_se_query_expansion:str=None,\n",
    "                                    parm_se_usa_sep_query_expansion: bool = True):\n",
    "    assert parm_ind_agg_se_query_expansion and parm_se_query_expansion or not parm_se_query_expansion, \\\n",
    "        f\"se parm_se_query_expansion {parm_se_query_expansion} for True, deve-se informar parm_ind_agg_se_query_expansion {parm_ind_agg_se_query_expansion}\"\n",
    "    tempos = []\n",
    "    with open(CAMINHO_RUN, 'w') as runfile:\n",
    "        for cnt, (query_id, value) in enumerate(parm_dict_queries.items()):\n",
    "            # print(id, value)\n",
    "            tempo_inicio = time.time()\n",
    "            if parm_se_query_expansion:\n",
    "                query_scores = retorna_subword_importante(parm_model=parm_model,\n",
    "                                                parm_tokenizer=parm_tokenizer,\n",
    "                                                parm_sentences=[value['question']], \n",
    "                                                parm_ind_agg=parm_ind_agg_se_query_expansion, parm_se_usa_sep=parm_se_usa_sep_query_expansion).to_dense().squeeze().to(device)\n",
    "            else:\n",
    "                query_scores = retorna_tensor_unitario_em_tokens(parm_tokenizer, value['question']).to(device)\n",
    "\n",
    "            # Pega os primeiros 1000 resultados\n",
    "            score = torch.matmul(parm_corpus_expanded, query_scores)\n",
    "            # Ordena\n",
    "            sorted_score, indices_score = torch.sort(score, descending=True)\n",
    "\n",
    "            # parm_num_max_hits primeiros\n",
    "            sorted_score = sorted_score[0:parm_num_max_hits]\n",
    "            indices_score = indices_score[0:parm_num_max_hits]\n",
    "\n",
    "            if cnt % 5 == 0:\n",
    "                print(f'{cnt} queries completadas')\n",
    "\n",
    "            # ids dos documentos\n",
    "            ids_docs = [parm_lista_doc_id_passage[i] for i in indices_score]\n",
    "\n",
    "            tempos.append(time.time() - tempo_inicio)\n",
    "\n",
    "            #  query  q0     docid  rank     score    descr    \n",
    "            for i, (id_doc, score) in enumerate(zip(ids_docs, sorted_score)):\n",
    "                texto_docto = f'{query_id} Q0 {id_doc} {i+1} {float(score):.6f} Pesquisa\\n'\n",
    "                _ = runfile.write(texto_docto)\n",
    "    return tempos\n",
    "                "
   ]
  },
  {
   "attachments": {},
   "cell_type": "markdown",
   "metadata": {},
   "source": [
    "## Validando função a partir dos experimentos"
   ]
  },
  {
   "cell_type": "code",
   "execution_count": 143,
   "metadata": {},
   "outputs": [],
   "source": [
    "expansao = retorna_subword_importante(model, tokenizer, sentences_test,'max')"
   ]
  },
  {
   "cell_type": "code",
   "execution_count": 144,
   "metadata": {},
   "outputs": [
    {
     "data": {
      "text/plain": [
       "(torch.Size([123]), torch.Size([123]))"
      ]
     },
     "execution_count": 144,
     "metadata": {},
     "output_type": "execute_result"
    }
   ],
   "source": [
    "expansao._values().shape, wj_max_sparse._values().shape"
   ]
  },
  {
   "cell_type": "code",
   "execution_count": 145,
   "metadata": {},
   "outputs": [
    {
     "data": {
      "text/plain": [
       "tensor([3.3765e-01, 6.8221e-01, 1.5982e+00, 5.0857e-02, 9.4812e-01, 3.5866e-01,\n",
       "        4.8299e-01, 1.1775e+00, 2.9630e-01, 1.3672e-01, 7.5528e-01, 4.6717e-01,\n",
       "        1.1937e-01, 2.1403e-01, 2.0454e-01, 2.5286e-01, 4.5247e-02, 1.0496e-01,\n",
       "        1.0644e-01, 1.6179e-01, 4.3446e-02, 1.0081e-01, 4.1281e-01, 4.8925e-01,\n",
       "        5.7536e-01, 1.9165e-01, 4.2052e-01, 3.6059e-01, 3.3028e-01, 4.5783e-02,\n",
       "        7.9688e-02, 8.9580e-02, 7.0697e-02, 3.7899e-03, 5.3535e-01, 2.8417e-01,\n",
       "        2.6173e-02, 4.0734e-01, 1.5950e+00, 2.7536e-01, 6.8446e-02, 1.3489e+00,\n",
       "        1.5299e-02, 1.1615e+00, 1.5816e-01, 3.1976e-01, 2.1513e-01, 3.0995e-03,\n",
       "        1.0105e-02, 8.8060e-01, 2.0546e-01, 7.6037e-02, 5.6824e-01, 1.0535e-01,\n",
       "        1.2577e+00, 2.2530e-01, 1.8002e-01, 3.2390e-02, 1.0712e-01, 9.5720e-05,\n",
       "        5.7925e-01, 5.3655e-02, 1.7398e-01, 2.3948e+00, 1.0933e+00, 3.1051e-01,\n",
       "        2.0591e+00, 4.5885e-01, 6.9909e-02, 1.0345e-01, 6.5284e-02, 7.1823e-01,\n",
       "        6.4278e-02, 1.3465e+00, 1.4859e+00, 2.3125e-02, 1.1274e-01, 1.0177e-01,\n",
       "        1.8514e-01, 4.4495e-01, 2.0234e-01, 7.9914e-03, 6.0099e-02, 1.6038e-01,\n",
       "        1.7059e-01, 1.9380e-01, 6.6001e-02, 3.0869e-01, 6.8181e-02, 8.9910e-01,\n",
       "        4.1734e-01, 4.5196e-01, 3.5879e-01, 3.9565e-01, 5.7059e-01, 5.9911e-02,\n",
       "        1.8197e-01, 3.0517e-01, 6.3790e-01, 2.6121e-01, 9.2732e-03, 1.6598e-01,\n",
       "        2.8045e-01, 6.9186e-01, 1.4919e+00, 2.5387e-01, 6.3176e-01, 9.1688e-02,\n",
       "        2.4171e-02, 3.1174e-01, 1.1770e+00, 6.2285e-02, 1.3529e+00, 1.5620e+00,\n",
       "        2.3288e-01, 1.1482e-01, 1.6596e+00, 2.0423e-01, 1.8603e+00, 2.4374e+00,\n",
       "        3.4356e-01, 1.5201e-01, 1.3502e-01])"
      ]
     },
     "execution_count": 145,
     "metadata": {},
     "output_type": "execute_result"
    }
   ],
   "source": [
    "expansao._values()"
   ]
  },
  {
   "cell_type": "code",
   "execution_count": 146,
   "metadata": {},
   "outputs": [
    {
     "data": {
      "text/plain": [
       "tensor([3.3765e-01, 6.8221e-01, 1.5982e+00, 5.0857e-02, 9.4812e-01, 3.5866e-01,\n",
       "        4.8299e-01, 1.1775e+00, 2.9630e-01, 1.3672e-01, 7.5528e-01, 4.6717e-01,\n",
       "        1.1937e-01, 2.1403e-01, 2.0454e-01, 2.5286e-01, 4.5247e-02, 1.0496e-01,\n",
       "        1.0644e-01, 1.6179e-01, 4.3446e-02, 1.0081e-01, 4.1281e-01, 4.8925e-01,\n",
       "        5.7536e-01, 1.9165e-01, 4.2052e-01, 3.6059e-01, 3.3028e-01, 4.5783e-02,\n",
       "        7.9688e-02, 8.9580e-02, 7.0697e-02, 3.7899e-03, 5.3535e-01, 2.8417e-01,\n",
       "        2.6173e-02, 4.0734e-01, 1.5950e+00, 2.7536e-01, 6.8446e-02, 1.3489e+00,\n",
       "        1.5299e-02, 1.1615e+00, 1.5816e-01, 3.1976e-01, 2.1513e-01, 3.0995e-03,\n",
       "        1.0105e-02, 8.8060e-01, 2.0546e-01, 7.6037e-02, 5.6824e-01, 1.0535e-01,\n",
       "        1.2577e+00, 2.2530e-01, 1.8002e-01, 3.2390e-02, 1.0712e-01, 9.5720e-05,\n",
       "        5.7925e-01, 5.3655e-02, 1.7398e-01, 2.3948e+00, 1.0933e+00, 3.1051e-01,\n",
       "        2.0591e+00, 4.5885e-01, 6.9909e-02, 1.0345e-01, 6.5284e-02, 7.1823e-01,\n",
       "        6.4278e-02, 1.3465e+00, 1.4859e+00, 2.3125e-02, 1.1274e-01, 1.0177e-01,\n",
       "        1.8514e-01, 4.4495e-01, 2.0234e-01, 7.9914e-03, 6.0099e-02, 1.6038e-01,\n",
       "        1.7059e-01, 1.9380e-01, 6.6001e-02, 3.0869e-01, 6.8181e-02, 8.9910e-01,\n",
       "        4.1734e-01, 4.5196e-01, 3.5879e-01, 3.9565e-01, 5.7059e-01, 5.9911e-02,\n",
       "        1.8197e-01, 3.0517e-01, 6.3790e-01, 2.6121e-01, 9.2732e-03, 1.6598e-01,\n",
       "        2.8045e-01, 6.9186e-01, 1.4919e+00, 2.5387e-01, 6.3176e-01, 9.1688e-02,\n",
       "        2.4171e-02, 3.1174e-01, 1.1770e+00, 6.2285e-02, 1.3529e+00, 1.5620e+00,\n",
       "        2.3288e-01, 1.1482e-01, 1.6596e+00, 2.0423e-01, 1.8603e+00, 2.4374e+00,\n",
       "        3.4356e-01, 1.5201e-01, 1.3502e-01])"
      ]
     },
     "execution_count": 146,
     "metadata": {},
     "output_type": "execute_result"
    }
   ],
   "source": [
    "wj_max_sparse._values()"
   ]
  },
  {
   "cell_type": "code",
   "execution_count": 147,
   "metadata": {},
   "outputs": [
    {
     "data": {
      "text/plain": [
       "True"
      ]
     },
     "execution_count": 147,
     "metadata": {},
     "output_type": "execute_result"
    }
   ],
   "source": [
    "torch.allclose(wj_max_sparse._values(), expansao._values(), 1e-3)"
   ]
  },
  {
   "cell_type": "code",
   "execution_count": 148,
   "metadata": {},
   "outputs": [
    {
     "name": "stdout",
     "output_type": "stream",
     "text": [
      "{0: {'text': 'He likes to eat pizza in the pizza hut.', 'list_tokens_expanded': ['the', 'in', 'he', 'on', 'his', 'at', 'him', 'like', 'do', 'don', 'want', 'club', 'party', 'wanted', 'son', 'himself', 'play', 'park', 'brother', 'mouth', 'mr', 'friend', 'style', 'food', 'character', 'guy', 'hotel', 'bar', 'actor', 'please', 'store', 'chris', 'kitchen', 'dog', 'visit', 'wearing', 'brand', 'shop', 'eat', 'bowl', 'mix', 'liked', 'factory', 'restaurant', 'beer', 'favorite', 'fan', 'cousin', 'fred', 'eating', 'meat', 'bite', 'preferred', 'cafe', 'likes', 'restaurants', 'diet', 'cheese', 'booth', 'mcdonald', 'prefer', 'dish', 'chef', 'pizza', 'pie', 'sandwich', 'hut', 'burger', 'dislike', 'snack']}, 1: {'text': 'So many sentences are transformed in just a summary.', 'list_tokens_expanded': ['in', 'so', 'more', 'just', 'many', 'too', 'few', 'book', 'often', 'story', 'total', 'science', 'thomas', 'word', 'whole', 'changed', 'read', 'writer', 'numerous', 'complex', 'simply', 'multiple', 'simple', 'reading', 'text', 'split', 'message', 'difference', 'literary', 'multi', 'communication', 'reform', 'translation', 'pages', 'sentence', 'modified', 'description', 'justin', 'madison', 'rev', 'sum', '##bility', 'transformed', 'transformation', 'reflection', 'essay', 'transform', 'citation', 'sentences', 'summary', 'quote', 'paragraph', 'transforms']}}\n"
     ]
    }
   ],
   "source": [
    "dict_retorno = retorna_tokens_expansao_dict(expansao, tokenizer,sentences_test)\n",
    "print(dict_retorno)\n"
   ]
  },
  {
   "cell_type": "code",
   "execution_count": 152,
   "metadata": {},
   "outputs": [
    {
     "name": "stdout",
     "output_type": "stream",
     "text": [
      "['the', 'in', 'he', 'on', 'his', 'at', 'him', 'like', 'do', 'don', 'want', 'club', 'party', 'wanted', 'son', 'himself', 'play', 'park', 'brother', 'mouth', 'mr', 'friend', 'style', 'food', 'character', 'guy', 'hotel', 'bar', 'actor', 'please', 'store', 'chris', 'kitchen', 'dog', 'visit', 'wearing', 'brand', 'shop', 'eat', 'bowl', 'mix', 'liked', 'factory', 'restaurant', 'beer', 'favorite', 'fan', 'cousin', 'fred', 'eating', 'meat', 'bite', 'preferred', 'cafe', 'likes', 'restaurants', 'diet', 'cheese', 'booth', 'mcdonald', 'prefer', 'dish', 'chef', 'pizza', 'pie', 'sandwich', 'hut', 'burger', 'dislike', 'snack']\n"
     ]
    }
   ],
   "source": [
    "dict_ret_zero = dict_retorno[0]['list_tokens_expanded']\n",
    "print(dict_ret_zero)"
   ]
  },
  {
   "cell_type": "code",
   "execution_count": 130,
   "metadata": {},
   "outputs": [],
   "source": [
    "expansao = retorna_subword_importante(model, tokenizer, sentences_test,'sum')"
   ]
  },
  {
   "cell_type": "code",
   "execution_count": 131,
   "metadata": {},
   "outputs": [
    {
     "data": {
      "text/plain": [
       "(torch.Size([123]), torch.Size([123]))"
      ]
     },
     "execution_count": 131,
     "metadata": {},
     "output_type": "execute_result"
    }
   ],
   "source": [
    "expansao._values().shape, wj_sum_sparse._values().shape"
   ]
  },
  {
   "cell_type": "code",
   "execution_count": 132,
   "metadata": {},
   "outputs": [
    {
     "data": {
      "text/plain": [
       "True"
      ]
     },
     "execution_count": 132,
     "metadata": {},
     "output_type": "execute_result"
    }
   ],
   "source": [
    "torch.allclose(wj_sum_sparse._values(), expansao._values(), 1e-3)"
   ]
  },
  {
   "attachments": {},
   "cell_type": "markdown",
   "metadata": {},
   "source": [
    "Sem considerar special toknes"
   ]
  },
  {
   "cell_type": "code",
   "execution_count": 154,
   "metadata": {},
   "outputs": [],
   "source": [
    "expansao = retorna_subword_importante(model, tokenizer, sentences_test,'max',parm_se_usa_sep=False)"
   ]
  },
  {
   "cell_type": "code",
   "execution_count": 155,
   "metadata": {},
   "outputs": [
    {
     "data": {
      "text/plain": [
       "(torch.Size([111]), torch.Size([123]))"
      ]
     },
     "execution_count": 155,
     "metadata": {},
     "output_type": "execute_result"
    }
   ],
   "source": [
    "expansao._values().shape, wj_max_sparse._values().shape"
   ]
  },
  {
   "cell_type": "code",
   "execution_count": 156,
   "metadata": {},
   "outputs": [
    {
     "data": {
      "text/plain": [
       "tensor([3.3765e-01, 6.8221e-01, 1.5982e+00, 5.0857e-02, 9.4812e-01, 3.5866e-01, 4.3332e-01, 1.1775e+00, 2.9630e-01,\n",
       "        1.3672e-01, 7.5528e-01, 4.6717e-01, 1.1937e-01, 2.1403e-01, 2.0454e-01, 2.5286e-01, 4.5247e-02, 1.0496e-01,\n",
       "        1.0644e-01, 1.6179e-01, 4.3446e-02, 1.0081e-01, 4.1281e-01, 4.8925e-01, 5.7536e-01, 1.5575e-01, 4.2052e-01,\n",
       "        3.6059e-01, 3.3028e-01, 4.5783e-02, 8.9580e-02, 5.3535e-01, 2.8417e-01, 2.6173e-02, 4.0734e-01, 1.5950e+00,\n",
       "        2.7536e-01, 6.8446e-02, 1.3489e+00, 1.5299e-02, 1.1615e+00, 1.5816e-01, 3.1976e-01, 2.1513e-01, 3.0995e-03,\n",
       "        1.0105e-02, 8.8060e-01, 2.0546e-01, 7.6037e-02, 5.6824e-01, 1.2577e+00, 1.2225e-01, 1.8002e-01, 9.3994e-02,\n",
       "        5.7925e-01, 3.8376e-02, 2.3948e+00, 1.0933e+00, 1.9203e-01, 2.0591e+00, 3.1836e-01, 6.9909e-02, 1.0345e-01,\n",
       "        6.5284e-02, 7.1823e-01, 6.4278e-02, 1.3465e+00, 1.4859e+00, 2.3125e-02, 1.1274e-01, 1.0177e-01, 1.8514e-01,\n",
       "        3.5824e-01, 2.0234e-01, 1.6038e-01, 1.7059e-01, 1.9380e-01, 6.6001e-02, 2.9879e-01, 6.8181e-02, 8.9910e-01,\n",
       "        4.1734e-01, 4.5196e-01, 3.5879e-01, 2.4465e-01, 5.7059e-01, 5.9911e-02, 9.0889e-02, 3.0517e-01, 6.3790e-01,\n",
       "        2.6121e-01, 1.6598e-01, 2.8045e-01, 6.9186e-01, 1.4919e+00, 2.5387e-01, 6.3176e-01, 3.1174e-01, 1.1770e+00,\n",
       "        6.2285e-02, 1.3529e+00, 1.5620e+00, 2.4038e-02, 1.1482e-01, 1.6596e+00, 2.0423e-01, 1.8603e+00, 2.4374e+00,\n",
       "        3.4356e-01, 1.5201e-01, 1.3502e-01])"
      ]
     },
     "execution_count": 156,
     "metadata": {},
     "output_type": "execute_result"
    }
   ],
   "source": [
    "expansao._values()"
   ]
  },
  {
   "cell_type": "code",
   "execution_count": 157,
   "metadata": {},
   "outputs": [
    {
     "name": "stdout",
     "output_type": "stream",
     "text": [
      "{0: {'text': 'He likes to eat pizza in the pizza hut.', 'list_tokens_expanded': ['the', 'in', 'he', 'on', 'his', 'at', 'him', 'like', 'do', 'don', 'want', 'club', 'party', 'wanted', 'son', 'himself', 'play', 'park', 'brother', 'mouth', 'mr', 'friend', 'style', 'food', 'character', 'guy', 'hotel', 'bar', 'actor', 'please', 'chris', 'visit', 'wearing', 'brand', 'shop', 'eat', 'bowl', 'mix', 'liked', 'factory', 'restaurant', 'beer', 'favorite', 'fan', 'cousin', 'fred', 'eating', 'meat', 'bite', 'preferred', 'likes', 'restaurants', 'diet', 'booth', 'prefer', 'dish', 'pizza', 'pie', 'sandwich', 'hut', 'burger', 'dislike', 'snack']}, 1: {'text': 'So many sentences are transformed in just a summary.', 'list_tokens_expanded': ['in', 'so', 'more', 'just', 'many', 'too', 'few', 'book', 'often', 'story', 'total', 'word', 'whole', 'changed', 'read', 'writer', 'numerous', 'complex', 'simply', 'multiple', 'simple', 'reading', 'text', 'split', 'message', 'difference', 'literary', 'multi', 'reform', 'translation', 'pages', 'sentence', 'modified', 'description', 'rev', 'sum', '##bility', 'transformed', 'transformation', 'reflection', 'essay', 'transform', 'citation', 'sentences', 'summary', 'quote', 'paragraph', 'transforms']}}\n"
     ]
    }
   ],
   "source": [
    "dict_retorno = retorna_tokens_expansao_dict(expansao, tokenizer,sentences_test)\n",
    "print(dict_retorno)\n"
   ]
  },
  {
   "cell_type": "code",
   "execution_count": 158,
   "metadata": {},
   "outputs": [
    {
     "name": "stdout",
     "output_type": "stream",
     "text": [
      "['the', 'in', 'he', 'on', 'his', 'at', 'him', 'like', 'do', 'don', 'want', 'club', 'party', 'wanted', 'son', 'himself', 'play', 'park', 'brother', 'mouth', 'mr', 'friend', 'style', 'food', 'character', 'guy', 'hotel', 'bar', 'actor', 'please', 'chris', 'visit', 'wearing', 'brand', 'shop', 'eat', 'bowl', 'mix', 'liked', 'factory', 'restaurant', 'beer', 'favorite', 'fan', 'cousin', 'fred', 'eating', 'meat', 'bite', 'preferred', 'likes', 'restaurants', 'diet', 'booth', 'prefer', 'dish', 'pizza', 'pie', 'sandwich', 'hut', 'burger', 'dislike', 'snack']\n"
     ]
    }
   ],
   "source": [
    "dict_ret_zero2 = dict_retorno[0]['list_tokens_expanded']\n",
    "print(dict_ret_zero2)"
   ]
  },
  {
   "attachments": {},
   "cell_type": "markdown",
   "metadata": {},
   "source": [
    "Algumas tokens não vieram!"
   ]
  },
  {
   "cell_type": "code",
   "execution_count": 160,
   "metadata": {},
   "outputs": [
    {
     "data": {
      "text/plain": [
       "['store', 'kitchen', 'dog', 'cafe', 'cheese', 'mcdonald', 'chef']"
      ]
     },
     "execution_count": 160,
     "metadata": {},
     "output_type": "execute_result"
    }
   ],
   "source": [
    "[x for x in dict_ret_zero if x not in dict_ret_zero2]"
   ]
  },
  {
   "attachments": {},
   "cell_type": "markdown",
   "metadata": {},
   "source": [
    "# Expandindo documentos"
   ]
  },
  {
   "attachments": {},
   "cell_type": "markdown",
   "metadata": {},
   "source": [
    "#### Um subconjunto para testar"
   ]
  },
  {
   "cell_type": "code",
   "execution_count": 165,
   "metadata": {},
   "outputs": [
    {
     "name": "stderr",
     "output_type": "stream",
     "text": [
      "100%|██████████| 8/8 [00:00<00:00, 28.63it/s]"
     ]
    },
    {
     "name": "stdout",
     "output_type": "stream",
     "text": [
      "Expansões geradas: shape torch.Size([512, 30522])\n",
      "CPU times: user 2.24 s, sys: 41.3 ms, total: 2.28 s\n",
      "Wall time: 281 ms\n"
     ]
    },
    {
     "name": "stderr",
     "output_type": "stream",
     "text": [
      "\n"
     ]
    }
   ],
   "source": [
    "%%time\n",
    "corpus_expanded = expande_corpus(parm_model=model,\n",
    "                   parm_tokenizer=tokenizer, \n",
    "                   parm_sentences=corpus[:512],\n",
    "                   parm_batch_size=64,\n",
    "                   parm_ind_agg='max', parm_se_usa_sep=False )"
   ]
  },
  {
   "cell_type": "code",
   "execution_count": null,
   "metadata": {},
   "outputs": [],
   "source": []
  },
  {
   "cell_type": "code",
   "execution_count": 166,
   "metadata": {},
   "outputs": [
    {
     "data": {
      "text/plain": [
       "512"
      ]
     },
     "execution_count": 166,
     "metadata": {},
     "output_type": "execute_result"
    }
   ],
   "source": [
    "len(corpus_expanded)"
   ]
  },
  {
   "cell_type": "code",
   "execution_count": 167,
   "metadata": {},
   "outputs": [],
   "source": [
    "lista_doctos = [docto['texto_titulo'] for docto in corpus[:512]]"
   ]
  },
  {
   "attachments": {},
   "cell_type": "markdown",
   "metadata": {},
   "source": [
    "Sem considerar logitos nas posições limites "
   ]
  },
  {
   "cell_type": "code",
   "execution_count": 168,
   "metadata": {},
   "outputs": [
    {
     "name": "stdout",
     "output_type": "stream",
     "text": [
      "{'text': 'ABSTRACTS. ', 'list_tokens_expanded': ['\"', '.', ':', ';', 'this', 'what', 'hand', 'science', 'thomas', 'word', 'study', 'richard', 'smith', 'collection', 'theory', 'alexander', 'alex', 'stephen', 'davis', 'philosophy', 'category', 'literary', 'ian', 'gordon', 'morgan', 'classification', 'marshall', 'austin', 'roy', 'definition', 'document', 'terry', 'greg', 'justin', 'craig', 'madison', 'owen', 'biology', 'assessment', 'holland', 'declaration', 'qualification', 'bailey', 'burke', 'raven', 'abstract', 'sherman', 'clause', 'citation', 'bart', 'marty', 'barrett', 'pearson', 'forensic', 'brenda', 'fuzzy', 'abbreviation', 'abstracts']}\n"
     ]
    }
   ],
   "source": [
    "dict_retorno = retorna_tokens_expansao_dict(corpus_expanded,\n",
    "                                       tokenizer, \n",
    "                                       lista_doctos)\n",
    "print(dict_retorno[0])"
   ]
  },
  {
   "attachments": {},
   "cell_type": "markdown",
   "metadata": {},
   "source": [
    "Considerando os logitos nas posições limites "
   ]
  },
  {
   "cell_type": "code",
   "execution_count": 164,
   "metadata": {},
   "outputs": [
    {
     "name": "stdout",
     "output_type": "stream",
     "text": [
      "{'text': 'ABSTRACTS. ', 'list_tokens_expanded': ['\"', '.', ':', ';', 'an', 'this', 'what', 'hand', 'order', 'science', 'thomas', 'word', 'study', 'dr', 'richard', 'medical', 'smith', 'collection', 'theory', 'legal', 'alexander', 'steve', 'alex', 'andrew', 'harry', 'brian', 'stephen', 'davis', 'philosophy', 'category', 'literary', 'ian', 'albert', 'gene', 'gordon', 'clark', 'morgan', 'carl', 'classification', 'ross', 'marshall', 'austin', 'fred', 'roy', 'gabriel', 'definition', 'document', 'helen', 'morris', 'description', 'terry', 'greg', 'justin', 'craig', 'madison', 'spencer', 'owen', 'reed', 'biology', 'assessment', 'regulation', 'holland', 'declaration', 'qualification', 'ellis', 'blank', 'bailey', 'edgar', 'alec', 'burke', 'raven', 'abstract', 'beck', 'sherman', 'clause', 'citation', 'dana', 'joyce', 'bart', 'avery', 'marty', 'barrett', 'pearson', 'gil', 'forensic', 'brenda', 'fuzzy', 'abbreviation', 'duane', 'abstracts']}\n"
     ]
    }
   ],
   "source": [
    "dict_retorno = retorna_tokens_expansao_dict(corpus_expanded,\n",
    "                                       tokenizer, \n",
    "                                       lista_doctos)\n",
    "print(dict_retorno[0])"
   ]
  },
  {
   "attachments": {},
   "cell_type": "markdown",
   "metadata": {},
   "source": [
    " ### Expandindo todo o corpus  \"naver/splade-cocondenser-ensembledistil\""
   ]
  },
  {
   "attachments": {},
   "cell_type": "markdown",
   "metadata": {},
   "source": [
    "Tempo para inferência/espansão:\n",
    "\n",
    "        Usando gpu para sum/max nos logitos\n",
    "        (e ordenando por tamanho de texto e batch_size 64)\n",
    "                sum: 25min\n",
    "\n",
    "\n"
   ]
  },
  {
   "attachments": {},
   "cell_type": "markdown",
   "metadata": {},
   "source": [
    "#### MAX, usando sep"
   ]
  },
  {
   "cell_type": "code",
   "execution_count": 170,
   "metadata": {},
   "outputs": [],
   "source": [
    "# Limpa o cache da memória da GPU\n",
    "torch.cuda.empty_cache()"
   ]
  },
  {
   "cell_type": "code",
   "execution_count": 171,
   "metadata": {},
   "outputs": [
    {
     "name": "stderr",
     "output_type": "stream",
     "text": [
      "100%|██████████| 2675/2675 [24:30<00:00,  1.82it/s]"
     ]
    },
    {
     "name": "stdout",
     "output_type": "stream",
     "text": [
      "Expansões geradas: shape torch.Size([171184, 30522])\n",
      "CPU times: user 1h 29min 22s, sys: 5min 28s, total: 1h 34min 50s\n",
      "Wall time: 24min 30s\n"
     ]
    },
    {
     "name": "stderr",
     "output_type": "stream",
     "text": [
      "\n"
     ]
    }
   ],
   "source": [
    "%%time\n",
    "corpus_expanded = expande_corpus(parm_model=model,\n",
    "                   parm_tokenizer=tokenizer, \n",
    "                   parm_sentences=corpus,\n",
    "                   parm_batch_size=64,\n",
    "                   parm_ind_agg='max', parm_se_usa_sep=True ) "
   ]
  },
  {
   "cell_type": "code",
   "execution_count": 229,
   "metadata": {},
   "outputs": [
    {
     "name": "stdout",
     "output_type": "stream",
     "text": [
      "Tempo para construir o índice: 1470\n"
     ]
    }
   ],
   "source": [
    "tempo_construcao_indice_splade = 24 * 60 + 30\n",
    "print(f\"Tempo para construir o índice: {tempo_construcao_indice_splade}\")"
   ]
  },
  {
   "cell_type": "code",
   "execution_count": 172,
   "metadata": {},
   "outputs": [],
   "source": [
    "with open(CAMINHO_ARQUIVO_EXPANSAO_MAX, 'wb') as outputFile:\n",
    "    pickle.dump(corpus_expanded, outputFile, pickle.HIGHEST_PROTOCOL)"
   ]
  },
  {
   "cell_type": "code",
   "execution_count": 174,
   "metadata": {},
   "outputs": [
    {
     "data": {
      "text/plain": [
       "171184"
      ]
     },
     "execution_count": 174,
     "metadata": {},
     "output_type": "execute_result"
    }
   ],
   "source": [
    "len(corpus_expanded)"
   ]
  },
  {
   "cell_type": "code",
   "execution_count": 175,
   "metadata": {},
   "outputs": [
    {
     "data": {
      "text/plain": [
       "torch.Size([171184, 30522])"
      ]
     },
     "execution_count": 175,
     "metadata": {},
     "output_type": "execute_result"
    }
   ],
   "source": [
    "corpus_expanded.shape"
   ]
  },
  {
   "attachments": {},
   "cell_type": "markdown",
   "metadata": {},
   "source": [
    "#### MAX, sem usar sep"
   ]
  },
  {
   "cell_type": "code",
   "execution_count": 176,
   "metadata": {},
   "outputs": [],
   "source": [
    "# Limpa o cache da memória da GPU\n",
    "torch.cuda.empty_cache()"
   ]
  },
  {
   "cell_type": "code",
   "execution_count": 177,
   "metadata": {},
   "outputs": [
    {
     "name": "stderr",
     "output_type": "stream",
     "text": [
      "100%|██████████| 2675/2675 [24:16<00:00,  1.84it/s]"
     ]
    },
    {
     "name": "stdout",
     "output_type": "stream",
     "text": [
      "Expansões geradas: shape torch.Size([171184, 30522])\n",
      "CPU times: user 1h 28min 57s, sys: 5min 11s, total: 1h 34min 8s\n",
      "Wall time: 24min 16s\n"
     ]
    },
    {
     "name": "stderr",
     "output_type": "stream",
     "text": [
      "\n"
     ]
    }
   ],
   "source": [
    "%%time\n",
    "corpus_expanded_sem_sep = expande_corpus(parm_model=model,\n",
    "                   parm_tokenizer=tokenizer, \n",
    "                   parm_sentences=corpus,\n",
    "                   parm_batch_size=64,\n",
    "                   parm_ind_agg='max', parm_se_usa_sep=False ) "
   ]
  },
  {
   "cell_type": "code",
   "execution_count": 228,
   "metadata": {},
   "outputs": [
    {
     "name": "stdout",
     "output_type": "stream",
     "text": [
      "Tempo para construir o índice: 1456\n"
     ]
    }
   ],
   "source": [
    "tempo_construcao_indice_splade_sem_sep = 24 * 60 + 16\n",
    "print(f\"Tempo para construir o índice: {tempo_construcao_indice_splade_sem_sep}\")"
   ]
  },
  {
   "cell_type": "code",
   "execution_count": 178,
   "metadata": {},
   "outputs": [],
   "source": [
    "with open(CAMINHO_ARQUIVO_EXPANSAO_MAX_SEM_SEP, 'wb') as outputFile:\n",
    "    pickle.dump(corpus_expanded_sem_sep, outputFile, pickle.HIGHEST_PROTOCOL)"
   ]
  },
  {
   "cell_type": "code",
   "execution_count": 179,
   "metadata": {},
   "outputs": [
    {
     "data": {
      "text/plain": [
       "171184"
      ]
     },
     "execution_count": 179,
     "metadata": {},
     "output_type": "execute_result"
    }
   ],
   "source": [
    "len(corpus_expanded_sem_sep)"
   ]
  },
  {
   "cell_type": "code",
   "execution_count": 180,
   "metadata": {},
   "outputs": [
    {
     "data": {
      "text/plain": [
       "torch.Size([171184, 30522])"
      ]
     },
     "execution_count": 180,
     "metadata": {},
     "output_type": "execute_result"
    }
   ],
   "source": [
    "corpus_expanded_sem_sep.shape"
   ]
  },
  {
   "attachments": {},
   "cell_type": "markdown",
   "metadata": {},
   "source": [
    "#### Comparando memória corpus esparso x contíguo "
   ]
  },
  {
   "cell_type": "code",
   "execution_count": 185,
   "metadata": {},
   "outputs": [],
   "source": [
    "corpus_expanded_exparse = corpus_expanded.to_sparse()"
   ]
  },
  {
   "cell_type": "code",
   "execution_count": 186,
   "metadata": {},
   "outputs": [],
   "source": [
    "# calcula o tamanho em bytes do tensor esparso\n",
    "mem_vetor_esparso = corpus_expanded_exparse.element_size() * \\\n",
    "                        corpus_expanded_exparse._nnz()  "
   ]
  },
  {
   "cell_type": "code",
   "execution_count": 187,
   "metadata": {},
   "outputs": [],
   "source": [
    "# calcula o tamanho em bytes do tensor contíguo\n",
    "mem_vetor_contiguo = corpus_expanded.element_size() * \\\n",
    "    corpus_expanded.numel()  # calcula o tamanho em bytes do tensor esparso"
   ]
  },
  {
   "cell_type": "code",
   "execution_count": 188,
   "metadata": {},
   "outputs": [
    {
     "name": "stdout",
     "output_type": "stream",
     "text": [
      "Memória vetor esparso 123765204 x contíguo 20899512192 0.592%\n"
     ]
    }
   ],
   "source": [
    "print(f\"Memória vetor esparso {mem_vetor_esparso} x contíguo {mem_vetor_contiguo} {round(100*mem_vetor_esparso/mem_vetor_contiguo,3)}%\")"
   ]
  },
  {
   "cell_type": "code",
   "execution_count": 340,
   "metadata": {},
   "outputs": [],
   "source": [
    "corpus_expanded_exparse = corpus_expanded_exparse.to(device)"
   ]
  },
  {
   "attachments": {},
   "cell_type": "markdown",
   "metadata": {},
   "source": [
    "Economia: 122 mb x 20 gb (0,587%)"
   ]
  },
  {
   "cell_type": "code",
   "execution_count": 203,
   "metadata": {},
   "outputs": [],
   "source": [
    "tamanho_em_bytes_indice_splade = mem_vetor_esparso"
   ]
  },
  {
   "cell_type": "code",
   "execution_count": 204,
   "metadata": {},
   "outputs": [
    {
     "name": "stdout",
     "output_type": "stream",
     "text": [
      "Memória ocupada pelo índice: 123765204\n"
     ]
    }
   ],
   "source": [
    "print(f\"Memória ocupada pelo índice: {tamanho_em_bytes_indice_splade}\")"
   ]
  },
  {
   "cell_type": "code",
   "execution_count": 339,
   "metadata": {},
   "outputs": [],
   "source": [
    "corpus_expanded_exparse_sem_sep = corpus_expanded_sem_sep.to_sparse().to(device)"
   ]
  },
  {
   "cell_type": "code",
   "execution_count": 226,
   "metadata": {},
   "outputs": [],
   "source": [
    "# calcula o tamanho em bytes do tensor esparso\n",
    "tamanho_em_bytes_indice_splade_sem_sep = corpus_expanded_exparse_sem_sep.element_size() * \\\n",
    "                        corpus_expanded_exparse_sem_sep._nnz()  "
   ]
  },
  {
   "cell_type": "code",
   "execution_count": 227,
   "metadata": {},
   "outputs": [
    {
     "name": "stdout",
     "output_type": "stream",
     "text": [
      "Memória ocupada pelo índice sem sep: 121051960\n"
     ]
    }
   ],
   "source": [
    "print(f\"Memória ocupada pelo índice sem sep: {tamanho_em_bytes_indice_splade_sem_sep}\")"
   ]
  },
  {
   "attachments": {},
   "cell_type": "markdown",
   "metadata": {},
   "source": [
    "# Funções de apoio - gastos computacionais"
   ]
  },
  {
   "cell_type": "code",
   "execution_count": 195,
   "metadata": {},
   "outputs": [],
   "source": [
    "def retorna_calculo_contexto (parm_resultado_pipeline: dict,\n",
    "                      parm_tipo_gpu:str='3090',\n",
    "                      ):\n",
    "    \"\"\"\n",
    "      Método para efetuar cálculos de gastos conforme\n",
    "        parm_tipo_gpu\n",
    "        parm_resultado_pipeline\n",
    "     \n",
    "    \"\"\" \n",
    "    global lista_pipeline \n",
    "    assert parm_tipo_gpu in ['3090'], f\"parm_tipo_gpu {parm_tipo_gpu} não está previsto para cálculos!\"\n",
    "\n",
    "    resultado = {}\n",
    "    for contexto in ['utilizacao_perfeita', 'utilizacao_precaria_100']:\n",
    "        avaliacao_contexto = calcula_gastos(parm_resultado_pipeline, parm_tipo_gpu, contexto)\n",
    "        resultado[contexto]= avaliacao_contexto\n",
    "    return resultado\n",
    "    \n",
    "\n",
    "\n"
   ]
  },
  {
   "cell_type": "code",
   "execution_count": 196,
   "metadata": {},
   "outputs": [],
   "source": [
    "def calcula_gastos (parm_dados: dict,\n",
    "                      parm_tipo_gpu:str='3090',\n",
    "                      parm_contexto:str='utilizacao_perfeita'):\n",
    "    \"\"\"\n",
    "        parm_dados deve ter:\n",
    "                        {'tempo_indexacao_segundo':, lista de tuplas, conforme abaixo:\n",
    "                                        [{'tipo':'gpu'/'cpu', 'valor': float, segundos}], \n",
    "                         'memoria_indice_byte_ram';, \n",
    "                         'retrieval_tempo_medio_por_query':,\n",
    "                         'se_retrieval_usa_gpu':}\n",
    "\n",
    "    \"\"\"\n",
    "    global custo_gpu_segundo, CUSTO_RAM_CPU_HORA_BYTE, CUSTO_CPU_ALOCADA_HORA, CUSTO_CPU_ALOCADA_SEGUNDO\n",
    "    lista_chave_esperada = ['tempo_indexacao_segundo','memoria_indice_byte_ram','retrieval_tempo_medio_por_query','se_retrieval_usa_gpu']\n",
    "    assert parm_tipo_gpu in ['3090'], f\"parm_tipo_gpu {parm_tipo_gpu} não está previsto para cálculos!\"\n",
    "    assert parm_contexto in ['utilizacao_perfeita', 'utilizacao_precaria_100'], f\"parm_contexto {parm_contexto} não está previsto para cálculos!\"\n",
    "    \n",
    "    for chave in lista_chave_esperada:\n",
    "        assert chave in parm_dados, f\"chave {chave} não está em parm_dados {parm_dados} para os cálculos!\"\n",
    "\n",
    "    dict_retorno = {}\n",
    "\n",
    "\n",
    "    # custo indexacao\n",
    "    custo_indexacao_tempo = 0\n",
    "\n",
    "    ## acumular custo por tempo\n",
    "    for tempo_valor in parm_dados['tempo_indexacao_segundo']:\n",
    "        if tempo_valor['tipo'] == 'cpu':\n",
    "            custo_indexacao_tempo +=  tempo_valor['valor'] * CUSTO_CPU_ALOCADA_SEGUNDO \n",
    "        elif tempo_valor['tipo'] == 'gpu':\n",
    "            custo_indexacao_tempo +=  tempo_valor['valor'] * CUSTO_CPU_ALOCADA_SEGUNDO\n",
    "        else:\n",
    "            raise Exception(f\"Tipo de tempo deveria ser cpu ou gpu e não {tempo_valor['tipo']}\")\n",
    "\n",
    "\n",
    "    # tem que deixar cpu disponível 24h\n",
    "    custo_cpu_dia = 24 * CUSTO_CPU_ALOCADA_HORA\n",
    "\n",
    "    # índice tem que ficar em memória\n",
    "    custo_memoria_dia = 24 * parm_dados['memoria_indice_byte_ram'] * CUSTO_RAM_CPU_HORA_BYTE\n",
    "\n",
    "    custo_dia = custo_memoria_dia + custo_cpu_dia\n",
    "\n",
    "    custo_gpu_dia = 0\n",
    "\n",
    "    if parm_contexto == 'utilizacao_perfeita': #(assim que terminou de processar uma query, já tem outra para ser processada)\n",
    "\n",
    "        if parm_dados['se_retrieval_usa_gpu']:\n",
    "            custo_gpu_dia = 24 * 3600 * custo_gpu_segundo[parm_tipo_gpu]\n",
    "            custo_dia += custo_gpu_dia \n",
    "            print(f\"para {parm_contexto} custo gpu dia: {custo_gpu_dia}\")\n",
    "\n",
    "        num_queries_dia = (24 * 3600) / parm_dados['retrieval_tempo_medio_por_query']\n",
    "        custo_query = round(custo_dia / num_queries_dia, 10)\n",
    "\n",
    "    elif parm_contexto == 'utilizacao_precaria_100': #(assim que terminou de processar uma query, já tem outra para ser processada)\n",
    "\n",
    "        if parm_dados['se_retrieval_usa_gpu']:\n",
    "            custo_gpu_dia = 100 * parm_dados['retrieval_tempo_medio_por_query'] * custo_gpu_segundo[parm_tipo_gpu]\n",
    "            custo_dia += custo_gpu_dia \n",
    "            print(f\"para {parm_contexto} custo gpu dia: {custo_gpu_dia}\")\n",
    "\n",
    "        num_queries_dia = 100\n",
    "        custo_query = round(custo_dia / num_queries_dia, 10)\n",
    "\n",
    "    return {'usd_query': custo_query, \n",
    "            'usd_dia': custo_dia,\n",
    "            'usd_gpu_dia': custo_gpu_dia,\n",
    "            'usd_mes': (30 * custo_dia),\n",
    "            'usd_indexacao_tempo': custo_indexacao_tempo, \n",
    "             }\n"
   ]
  },
  {
   "attachments": {},
   "cell_type": "markdown",
   "metadata": {},
   "source": [
    "Constantes de valores"
   ]
  },
  {
   "cell_type": "code",
   "execution_count": 218,
   "metadata": {},
   "outputs": [],
   "source": [
    "custo_gpu_segundo = {'3090': 6.944e-5}"
   ]
  },
  {
   "cell_type": "code",
   "execution_count": 219,
   "metadata": {},
   "outputs": [],
   "source": [
    "CUSTO_RAM_CPU_HORA_BYTE = 4.656e-12"
   ]
  },
  {
   "cell_type": "code",
   "execution_count": 220,
   "metadata": {},
   "outputs": [],
   "source": [
    "CUSTO_CPU_ALOCADA_HORA = 0.03\n",
    "\n"
   ]
  },
  {
   "cell_type": "code",
   "execution_count": 221,
   "metadata": {},
   "outputs": [
    {
     "name": "stdout",
     "output_type": "stream",
     "text": [
      "8.333333333333334e-06\n"
     ]
    }
   ],
   "source": [
    "print(CUSTO_CPU_ALOCADA_HORA / 3600)"
   ]
  },
  {
   "cell_type": "code",
   "execution_count": 222,
   "metadata": {},
   "outputs": [],
   "source": [
    "CUSTO_CPU_ALOCADA_SEGUNDO = 8.333e-6\n"
   ]
  },
  {
   "cell_type": "code",
   "execution_count": 331,
   "metadata": {},
   "outputs": [],
   "source": [
    "resultado_pipeline = {}\n",
    "avaliacao_pipeline_contexto = {}"
   ]
  },
  {
   "attachments": {},
   "cell_type": "markdown",
   "metadata": {},
   "source": [
    "# Realizando as buscas "
   ]
  },
  {
   "attachments": {},
   "cell_type": "markdown",
   "metadata": {},
   "source": [
    "## Model  \"naver/splade-cocondenser-ensembledistil\", Ind_agg = max, Expandindo queries"
   ]
  },
  {
   "cell_type": "code",
   "execution_count": null,
   "metadata": {},
   "outputs": [],
   "source": [
    "nome_modelo = \"naver/splade-cocondenser-ensembledistil\""
   ]
  },
  {
   "cell_type": "code",
   "execution_count": 332,
   "metadata": {},
   "outputs": [],
   "source": [
    "ind_agg = 'max'"
   ]
  },
  {
   "cell_type": "code",
   "execution_count": 334,
   "metadata": {},
   "outputs": [],
   "source": [
    "se_expande_query = 'S'"
   ]
  },
  {
   "attachments": {},
   "cell_type": "markdown",
   "metadata": {},
   "source": [
    "### Se usa sep = True"
   ]
  },
  {
   "cell_type": "code",
   "execution_count": 335,
   "metadata": {},
   "outputs": [],
   "source": [
    "nome_pipeline = 'splade_cocondenser_max_com_sep'"
   ]
  },
  {
   "cell_type": "code",
   "execution_count": 336,
   "metadata": {},
   "outputs": [],
   "source": [
    "resultado_execucao = {}"
   ]
  },
  {
   "cell_type": "code",
   "execution_count": 337,
   "metadata": {},
   "outputs": [],
   "source": [
    "resultado_execucao['tempo_indexacao_segundo'] = [{'tipo':'gpu', 'valor': tempo_construcao_indice_splade}]\n",
    "resultado_execucao['memoria_indice_byte_ram'] = tamanho_em_bytes_indice_splade\n",
    "resultado_execucao['se_retrieval_usa_gpu'] = True"
   ]
  },
  {
   "attachments": {},
   "cell_type": "markdown",
   "metadata": {},
   "source": [
    "Lendo os dados salvos"
   ]
  },
  {
   "cell_type": "code",
   "execution_count": null,
   "metadata": {},
   "outputs": [],
   "source": [
    "with open(CAMINHO_ARQUIVO_EXPANSAO_MAX, \"rb\") as f:\n",
    "  corpus_expanded = pickle.load(f)"
   ]
  },
  {
   "cell_type": "code",
   "execution_count": 342,
   "metadata": {},
   "outputs": [
    {
     "name": "stdout",
     "output_type": "stream",
     "text": [
      "0 queries completadas\n",
      "5 queries completadas\n",
      "10 queries completadas\n",
      "15 queries completadas\n",
      "20 queries completadas\n",
      "25 queries completadas\n",
      "30 queries completadas\n",
      "35 queries completadas\n",
      "40 queries completadas\n",
      "45 queries completadas\n",
      "CPU times: user 36.2 s, sys: 607 ms, total: 36.8 s\n",
      "Wall time: 5.75 s\n"
     ]
    }
   ],
   "source": [
    "%%time\n",
    "tempo_gasto = run_all_queries_busca_exaustiva(parm_model=model,\n",
    "                                    parm_tokenizer=tokenizer, \n",
    "                                    parm_dict_queries=topics,\n",
    "                                    parm_corpus_expanded=corpus_expanded_exparse, \n",
    "                                    parm_lista_doc_id_passage=lista_doc_id_passage,\n",
    "                                    parm_num_max_hits=1000,\n",
    "                                    parm_se_query_expansion= (se_expande_query == 'S'),\n",
    "                                    parm_ind_agg_se_query_expansion='max', parm_se_usa_sep_query_expansion=True)"
   ]
  },
  {
   "cell_type": "code",
   "execution_count": 343,
   "metadata": {},
   "outputs": [
    {
     "data": {
      "text/plain": [
       "count    50.0000000\n",
       "mean      0.1045239\n",
       "std       0.3108436\n",
       "min       0.0585434\n",
       "25%       0.0605044\n",
       "50%       0.0607921\n",
       "75%       0.0609987\n",
       "max       2.2585480\n",
       "Name: tempo_gasto, Length: 8, dtype: float64"
      ]
     },
     "execution_count": 343,
     "metadata": {},
     "output_type": "execute_result"
    }
   ],
   "source": [
    "df_tempos = pd.DataFrame({'tempo_gasto': tempo_gasto})\n",
    "df_tempos['tempo_gasto'].describe()"
   ]
  },
  {
   "cell_type": "code",
   "execution_count": 344,
   "metadata": {},
   "outputs": [],
   "source": [
    "resultado_execucao['retrieval_tempo_medio_por_query'] = round(df_tempos['tempo_gasto'].describe()['mean'],6)"
   ]
  },
  {
   "cell_type": "code",
   "execution_count": 345,
   "metadata": {},
   "outputs": [
    {
     "data": {
      "image/png": "[encoded data removed]",
      "text/plain": [
       "<Figure size 640x480 with 1 Axes>"
      ]
     },
     "metadata": {},
     "output_type": "display_data"
    }
   ],
   "source": [
    "# Calculando média e mediana\n",
    "media = df_tempos['tempo_gasto'].mean()\n",
    "mediana = df_tempos['tempo_gasto'].median()\n",
    "\n",
    "# Plotando gráfico\n",
    "fig, ax = plt.subplots()\n",
    "ax.hist(df_tempos['tempo_gasto'], bins=50, color='blue', alpha=0.5)\n",
    "ax.axvline(media, color='red', linestyle='dashed', linewidth=2, label=f'Média = {media:.2f}')\n",
    "ax.axvline(mediana, color='green', linestyle='dashed', linewidth=2, label=f'Mediana = {mediana:.2f}')\n",
    "ax.set_xlabel('Tempo (s)')\n",
    "ax.set_ylabel('Frequência')\n",
    "ax.set_title('Distribuição de Tempos de Execução')\n",
    "ax.legend()\n",
    "plt.show()"
   ]
  },
  {
   "attachments": {},
   "cell_type": "markdown",
   "metadata": {},
   "source": [
    "##### Avaliação"
   ]
  },
  {
   "cell_type": "code",
   "execution_count": 346,
   "metadata": {},
   "outputs": [
    {
     "name": "stdout",
     "output_type": "stream",
     "text": [
      "   query  q0     docid  rank      score    system\n",
      "0     44  Q0  dt2pew66     1  24.207752  Pesquisa\n",
      "1     44  Q0  xfjexm5b     2  23.524042  Pesquisa\n",
      "2     44  Q0  q0ey3wib     3  23.464104  Pesquisa\n",
      "3     44  Q0  uc37poce     4  23.422676  Pesquisa\n",
      "4     44  Q0  qi1henyy     5  23.149395  Pesquisa\n",
      "\n",
      "[5 rows x 6 columns]\n",
      "NDCG@10: 0.7214041131725701\n",
      "Resultados: {'runid': 'Pesquisa', 'num_ret': 50000, 'num_rel': 24673, 'num_rel_ret': 11291, 'num_q': 50, 'map': 0.24413788426984034, 'gm_map': 0.19642257827112053, 'bpref': 0.4029954444276047, 'Rprec': 0.3393711698806063, 'recip_rank': 0.9116666666666666, 'P@5': 0.82, 'P@10': 0.7839999999999999, 'P@15': 0.7613333333333334, 'P@20': 0.747, 'P@30': 0.708, 'P@100': 0.5700000000000001, 'P@200': 0.47839999999999994, 'P@500': 0.33052, 'P@1000': 0.22581999999999997, 'NDCG@5': 0.7543679557545698, 'NDCG@10': 0.7214041131725701, 'NDCG@15': 0.7025169944289865, 'NDCG@20': 0.6920838492489894, 'NDCG@30': 0.664219804007807, 'NDCG@100': 0.547241315970716, 'NDCG@200': 0.47636701226264355, 'NDCG@500': 0.434734073068469, 'NDCG@1000': 0.487154339769553}\n"
     ]
    }
   ],
   "source": [
    "### Calculando métricas\n",
    "run = pd.read_csv(f\"{CAMINHO_RUN}\", sep=\"\\s+\", \n",
    "                names=[\"query\", \"q0\", \"docid\", \"rank\", \"score\", \"system\"])\n",
    "print(run.head())\n",
    "run = run.to_dict(orient=\"list\")\n",
    "results = trec_eval.compute(predictions=[run], references=[qrel_dict])\n",
    "\n",
    "# salvando métricas    \n",
    "print(f\"NDCG@10: {results['NDCG@10']}\")\n",
    "print(f\"Resultados: {results}\")\n"
   ]
  },
  {
   "cell_type": "code",
   "execution_count": 347,
   "metadata": {},
   "outputs": [],
   "source": [
    "resultado_execucao['ndcg_10'] = round(100*results['NDCG@10'],2)"
   ]
  },
  {
   "cell_type": "code",
   "execution_count": 348,
   "metadata": {},
   "outputs": [
    {
     "name": "stdout",
     "output_type": "stream",
     "text": [
      "resultado_pipeline[splade_cocondenser_max_com_sep] {'tempo_indexacao_segundo': [{'tipo': 'gpu', 'valor': 1470}], 'memoria_indice_byte_ram': 123765204, 'se_retrieval_usa_gpu': True, 'retrieval_tempo_medio_por_query': 0.104524, 'ndcg_10': 72.14}\n"
     ]
    }
   ],
   "source": [
    "resultado_pipeline[nome_pipeline] = resultado_execucao\n",
    "print(f\"resultado_pipeline[{nome_pipeline}] {resultado_pipeline[nome_pipeline]}\")"
   ]
  },
  {
   "cell_type": "code",
   "execution_count": 349,
   "metadata": {},
   "outputs": [
    {
     "name": "stdout",
     "output_type": "stream",
     "text": [
      "para utilizacao_perfeita custo gpu dia: 5.999616\n",
      "para utilizacao_precaria_100 custo gpu dia: 0.0007258146560000001\n",
      "{'utilizacao_perfeita': {'usd_query': 8.1459e-06, 'usd_dia': 6.733446018955775, 'usd_gpu_dia': 5.999616, 'usd_mes': 202.00338056867326, 'usd_indexacao_tempo': 0.01224951}, 'utilizacao_precaria_100': {'usd_query': 0.0073455583, 'usd_dia': 0.7345558336117759, 'usd_gpu_dia': 0.0007258146560000001, 'usd_mes': 22.036675008353278, 'usd_indexacao_tempo': 0.01224951}}\n"
     ]
    }
   ],
   "source": [
    "avaliacao_pipeline_contexto[nome_pipeline] = retorna_calculo_contexto(resultado_execucao, parm_tipo_gpu='3090')\n",
    "print(avaliacao_pipeline_contexto[nome_pipeline] )"
   ]
  },
  {
   "attachments": {},
   "cell_type": "markdown",
   "metadata": {},
   "source": [
    "### Se usa sep = False"
   ]
  },
  {
   "cell_type": "code",
   "execution_count": 350,
   "metadata": {},
   "outputs": [],
   "source": [
    "nome_pipeline = 'splade_cocondenser_max_sem_sep'"
   ]
  },
  {
   "cell_type": "code",
   "execution_count": 351,
   "metadata": {},
   "outputs": [],
   "source": [
    "resultado_execucao = {}"
   ]
  },
  {
   "cell_type": "code",
   "execution_count": 352,
   "metadata": {},
   "outputs": [],
   "source": [
    "resultado_execucao['tempo_indexacao_segundo'] = [{'tipo':'gpu', 'valor': tempo_construcao_indice_splade_sem_sep}]\n",
    "resultado_execucao['memoria_indice_byte_ram'] = tamanho_em_bytes_indice_splade_sem_sep\n",
    "resultado_execucao['se_retrieval_usa_gpu'] = True"
   ]
  },
  {
   "attachments": {},
   "cell_type": "markdown",
   "metadata": {},
   "source": [
    "Lendo os dados salvos"
   ]
  },
  {
   "cell_type": "code",
   "execution_count": 353,
   "metadata": {},
   "outputs": [
    {
     "name": "stdout",
     "output_type": "stream",
     "text": [
      "0 queries completadas\n",
      "5 queries completadas\n",
      "10 queries completadas\n",
      "15 queries completadas\n",
      "20 queries completadas\n",
      "25 queries completadas\n",
      "30 queries completadas\n",
      "35 queries completadas\n",
      "40 queries completadas\n",
      "45 queries completadas\n",
      "CPU times: user 33.5 s, sys: 408 ms, total: 33.9 s\n",
      "Wall time: 3.42 s\n"
     ]
    }
   ],
   "source": [
    "%%time\n",
    "tempo_gasto = run_all_queries_busca_exaustiva(parm_model=model,\n",
    "                                    parm_tokenizer=tokenizer, \n",
    "                                    parm_dict_queries=topics,\n",
    "                                    parm_corpus_expanded=corpus_expanded_exparse_sem_sep, \n",
    "                                    parm_lista_doc_id_passage=lista_doc_id_passage,\n",
    "                                    parm_num_max_hits=1000,\n",
    "                                    parm_se_query_expansion= (se_expande_query == 'S'),\n",
    "                                    parm_ind_agg_se_query_expansion='max', parm_se_usa_sep_query_expansion=False)"
   ]
  },
  {
   "cell_type": "code",
   "execution_count": 354,
   "metadata": {},
   "outputs": [
    {
     "data": {
      "text/plain": [
       "count    50.0000000\n",
       "mean      0.0587976\n",
       "std       0.0027432\n",
       "min       0.0576148\n",
       "25%       0.0579582\n",
       "50%       0.0582248\n",
       "75%       0.0587448\n",
       "max       0.0772285\n",
       "Name: tempo_gasto, Length: 8, dtype: float64"
      ]
     },
     "execution_count": 354,
     "metadata": {},
     "output_type": "execute_result"
    }
   ],
   "source": [
    "df_tempos = pd.DataFrame({'tempo_gasto': tempo_gasto})\n",
    "df_tempos['tempo_gasto'].describe()"
   ]
  },
  {
   "cell_type": "code",
   "execution_count": 355,
   "metadata": {},
   "outputs": [],
   "source": [
    "resultado_execucao['retrieval_tempo_medio_por_query'] = round(df_tempos['tempo_gasto'].describe()['mean'],6)"
   ]
  },
  {
   "cell_type": "code",
   "execution_count": 356,
   "metadata": {},
   "outputs": [
    {
     "data": {
      "image/png": "[encoded data removed]",
      "text/plain": [
       "<Figure size 640x480 with 1 Axes>"
      ]
     },
     "metadata": {},
     "output_type": "display_data"
    }
   ],
   "source": [
    "# Calculando média e mediana\n",
    "media = df_tempos['tempo_gasto'].mean()\n",
    "mediana = df_tempos['tempo_gasto'].median()\n",
    "\n",
    "# Plotando gráfico\n",
    "fig, ax = plt.subplots()\n",
    "ax.hist(df_tempos['tempo_gasto'], bins=50, color='blue', alpha=0.5)\n",
    "ax.axvline(media, color='red', linestyle='dashed', linewidth=2, label=f'Média = {media:.2f}')\n",
    "ax.axvline(mediana, color='green', linestyle='dashed', linewidth=2, label=f'Mediana = {mediana:.2f}')\n",
    "ax.set_xlabel('Tempo (s)')\n",
    "ax.set_ylabel('Frequência')\n",
    "ax.set_title('Distribuição de Tempos de Execução')\n",
    "ax.legend()\n",
    "plt.show()"
   ]
  },
  {
   "attachments": {},
   "cell_type": "markdown",
   "metadata": {},
   "source": [
    "##### Avaliação"
   ]
  },
  {
   "cell_type": "code",
   "execution_count": 357,
   "metadata": {},
   "outputs": [
    {
     "name": "stdout",
     "output_type": "stream",
     "text": [
      "   query  q0     docid  rank      score    system\n",
      "0     44  Q0  dt2pew66     1  24.048674  Pesquisa\n",
      "1     44  Q0  xfjexm5b     2  23.214937  Pesquisa\n",
      "2     44  Q0  uc37poce     3  23.209030  Pesquisa\n",
      "3     44  Q0  q0ey3wib     4  23.062193  Pesquisa\n",
      "4     44  Q0  qi1henyy     5  22.952564  Pesquisa\n",
      "\n",
      "[5 rows x 6 columns]\n",
      "NDCG@10: 0.7199521526159701\n",
      "Resultados: {'runid': 'Pesquisa', 'num_ret': 50000, 'num_rel': 24673, 'num_rel_ret': 11277, 'num_q': 50, 'map': 0.24304992277486878, 'gm_map': 0.1954777095135852, 'bpref': 0.40212941998182816, 'Rprec': 0.3383449848938469, 'recip_rank': 0.9016666666666666, 'P@5': 0.82, 'P@10': 0.7859999999999999, 'P@15': 0.7626666666666666, 'P@20': 0.7429999999999999, 'P@30': 0.7053333333333334, 'P@100': 0.5706000000000001, 'P@200': 0.47729999999999995, 'P@500': 0.32988, 'P@1000': 0.22554000000000002, 'NDCG@5': 0.7531162163491788, 'NDCG@10': 0.7199521526159701, 'NDCG@15': 0.7018007373191492, 'NDCG@20': 0.6896043203797849, 'NDCG@30': 0.6613650956653551, 'NDCG@100': 0.5469070070988569, 'NDCG@200': 0.47486291008827125, 'NDCG@500': 0.433660430697946, 'NDCG@1000': 0.486013710434152}\n"
     ]
    }
   ],
   "source": [
    "### Calculando métricas\n",
    "run = pd.read_csv(f\"{CAMINHO_RUN}\", sep=\"\\s+\", \n",
    "                names=[\"query\", \"q0\", \"docid\", \"rank\", \"score\", \"system\"])\n",
    "print(run.head())\n",
    "run = run.to_dict(orient=\"list\")\n",
    "results = trec_eval.compute(predictions=[run], references=[qrel_dict])\n",
    "\n",
    "# salvando métricas    \n",
    "print(f\"NDCG@10: {results['NDCG@10']}\")\n",
    "print(f\"Resultados: {results}\")\n"
   ]
  },
  {
   "cell_type": "code",
   "execution_count": 358,
   "metadata": {},
   "outputs": [],
   "source": [
    "resultado_execucao['ndcg_10'] = round(100*results['NDCG@10'],2)"
   ]
  },
  {
   "cell_type": "code",
   "execution_count": 359,
   "metadata": {},
   "outputs": [
    {
     "name": "stdout",
     "output_type": "stream",
     "text": [
      "resultado_pipeline[splade_cocondenser_max_sem_sep] {'tempo_indexacao_segundo': [{'tipo': 'gpu', 'valor': 1456}], 'memoria_indice_byte_ram': 121051960, 'se_retrieval_usa_gpu': True, 'retrieval_tempo_medio_por_query': 0.058798, 'ndcg_10': 72.0}\n"
     ]
    }
   ],
   "source": [
    "resultado_pipeline[nome_pipeline] = resultado_execucao\n",
    "print(f\"resultado_pipeline[{nome_pipeline}] {resultado_pipeline[nome_pipeline]}\")"
   ]
  },
  {
   "cell_type": "code",
   "execution_count": 360,
   "metadata": {},
   "outputs": [
    {
     "name": "stdout",
     "output_type": "stream",
     "text": [
      "para utilizacao_perfeita custo gpu dia: 5.999616\n",
      "para utilizacao_precaria_100 custo gpu dia: 0.000408293312\n",
      "{'utilizacao_perfeita': {'usd_query': 4.5821e-06, 'usd_dia': 6.73314283021824, 'usd_gpu_dia': 5.999616, 'usd_mes': 201.9942849065472, 'usd_indexacao_tempo': 0.012132848}, 'utilizacao_precaria_100': {'usd_query': 0.0073393512, 'usd_dia': 0.7339351235302399, 'usd_gpu_dia': 0.000408293312, 'usd_mes': 22.0180537059072, 'usd_indexacao_tempo': 0.012132848}}\n"
     ]
    }
   ],
   "source": [
    "avaliacao_pipeline_contexto[nome_pipeline] = retorna_calculo_contexto(resultado_execucao, parm_tipo_gpu='3090')\n",
    "print(avaliacao_pipeline_contexto[nome_pipeline] )"
   ]
  },
  {
   "attachments": {},
   "cell_type": "markdown",
   "metadata": {},
   "source": [
    "# Usando indexação lucene "
   ]
  },
  {
   "attachments": {},
   "cell_type": "markdown",
   "metadata": {},
   "source": [
    "## Funções auxiliares"
   ]
  },
  {
   "cell_type": "code",
   "execution_count": 109,
   "metadata": {},
   "outputs": [],
   "source": [
    "def run_all_queries_lucene_splade(file, \n",
    "                           topics,\n",
    "                           searcher,\n",
    "                           parm_tokenizer, \n",
    "                           parm_se_query_expansion:bool=False,\n",
    "                           parm_ind_agg_se_query_expansion:str=None,\n",
    "                           parm_num_max_hits:int=1000):\n",
    "  \"\"\"\n",
    "  A função run_all_queries é responsável por realizar todas as consultas armazenadas no dicionário topics utilizando o objeto searcher fornecido e salvar os resultados em um arquivo de texto.\n",
    "  Usada no notebook da aula 2\n",
    "\n",
    "  Parâmetros:\n",
    "\n",
    "  file: caminho do arquivo de saída onde serão salvos os resultados das consultas.\n",
    "  topics: dicionário contendo as consultas a serem executadas. Cada consulta é representada por uma chave única no dicionário. O valor correspondente a cada chave é um outro dicionário contendo as informações da consulta, como seu título e outras informações relevantes.\n",
    "  searcher: objeto do tipo Searcher que será utilizado para realizar as consultas.\n",
    "  num_max_hits: número máximo de documentos relevantes que serão retornados para cada consulta.\n",
    "  Retorno:\n",
    "\n",
    "  A função não retorna nenhum valor, mas salva os resultados das consultas no arquivo especificado em file.\n",
    "  Comentário:\n",
    "\n",
    "  A função usa a biblioteca tqdm para exibir uma barra de progresso enquanto executa as consultas.\n",
    "  O número de consultas concluídas é impresso a cada 100 consultas.\n",
    "  \"\"\"\n",
    "  assert parm_ind_agg_se_query_expansion and parm_se_query_expansion or not parm_se_query_expansion, \\\n",
    "        f\"se parm_se_query_expansion {parm_se_query_expansion} for True, deve-se informar parm_ind_agg_se_query_expansion {parm_ind_agg_se_query_expansion}\"\n",
    "\n",
    "  print(f'Running {len(topics)} queries in total')\n",
    "\n",
    "  tempos = []\n",
    "  \n",
    "\n",
    "  with open(file, 'w') as runfile:\n",
    "    cnt = 0\n",
    "    # for id in tqdm(topics, desc='Running Queries'):\n",
    "    for id in topics:\n",
    "        # print(f'id = {id}')\n",
    "        query = topics[id]['question']\n",
    "        # print(f'query = {query}')\n",
    "\n",
    "            \n",
    "\n",
    "        if parm_se_query_expansion:\n",
    "            raise Exception('Não implementada busca lucene com expansão de query')\n",
    "            query_tokens_str = retorna_tokens_expanded_query(parm_model=parm_model,\n",
    "                                            parm_tokenizer=parm_tokenizer,\n",
    "                                            parm_sentences=[query], \n",
    "                                            parm_ind_agg=parm_ind_agg_se_query_expansion)\n",
    "        else:\n",
    "            query_tokens_str = ' '.join(parm_tokenizer.tokenize(query))\n",
    "\n",
    "        assert isinstance(query_tokens_str,str), f\"Assert com erro isinstance(query_tokens_str,'str'), pois é {type(query_tokens_str)}\"\n",
    "        # print(f\"query_tokens_str {query_tokens_str}\")\n",
    "\n",
    "        tempo_inicio = time.time()\n",
    "        hits = searcher.search(query_tokens_str, parm_num_max_hits)\n",
    "        tempos.append(time.time() - tempo_inicio)\n",
    "\n",
    "        for i in range(0, len(hits)):\n",
    "            _ = runfile.write(f'{id} Q0 {hits[i].docid} {i+1} {hits[i].score:.6f} ComExpansao\\n')\n",
    "            # = runfile.write('{} Q0 {} {} {:.6f} Pyserini\\n'.format(id, hits[i].docid, i+1, hits[i].score))\n",
    "        cnt += 1\n",
    "        if cnt % 100 == 0:\n",
    "            print(f'{cnt} queries completed')\n",
    "  return tempos\n"
   ]
  },
  {
   "cell_type": "code",
   "execution_count": 110,
   "metadata": {},
   "outputs": [
    {
     "data": {
      "text/plain": [
       "' dfsd  dfsd '"
      ]
     },
     "execution_count": 110,
     "metadata": {},
     "output_type": "execute_result"
    }
   ],
   "source": [
    "' dfsd ' * 2"
   ]
  },
  {
   "cell_type": "code",
   "execution_count": 155,
   "metadata": {},
   "outputs": [],
   "source": [
    "def retorna_tokens_texto_e_expansao_jsonl(parm_expansao: torch.Tensor, \n",
    "                            parm_tokenizer: BertTokenizer,\n",
    "                            parm_lista_doc_id_passage: list,\n",
    "                            valor_uma_ocorrencia:float=None,\n",
    "                            ) -> dict:\n",
    "    \"\"\"\n",
    "    Retorna um dicionário com informações sobre as expansões de tokens para cada sentença.\n",
    "\n",
    "    Args:\n",
    "        parm_expansao (torch.Tensor): Tensor esparso com as expansões de tokens.\n",
    "        parm_tokenizer (BertTokenizer): Tokenizer associado ao modelo BERT utilizado nas expansões.\n",
    "        parm_lista_doc_id_passage: lista de id de docs correspondendo ao tensor em parm_expansao\n",
    "    Returns:\n",
    "    {\"id\": \"kvhoa2se\", \"contents\": \"tokens dos tensores em parm_expansao\"}\n",
    "    \"\"\"\n",
    "    # Verifica se o número de linhas da expansão é igual ao número de sentenças\n",
    "    assert parm_expansao.shape[1] == parm_tokenizer.vocab_size, f\"parm_expansao.shape[1] == parm_tokenizer.vocab_size, mas {parm_expansao.shape[1]} != {parm_tokenizer.vocab_size}\"\n",
    "\n",
    "    # Cria um dicionário para armazenar os valores únicos presentes na expansão\n",
    "\n",
    "    normalized_values = (parm_expansao._values() - parm_expansao._values().min()) / (parm_expansao._values().max() - parm_expansao._values().min())\n",
    "\n",
    "    jsonl_token_expandida = []\n",
    "    # Obtém os índices únicos da expansão\n",
    "    unique_indices = torch.unique(parm_expansao._indices()[0])\n",
    "    pos_values = 0\n",
    "    # Para cada índice único, armazena a lista de tokens correspondente\n",
    "    if valor_uma_ocorrencia is None:\n",
    "        for idx in tqdm(unique_indices):\n",
    "            jsonl_token_expandida.append(\n",
    "                {\"id\": parm_lista_doc_id_passage[idx],\n",
    "                \"contents\": corpus_dict_tokenizado[parm_lista_doc_id_passage[idx]]['texto_titulo_tokenizado'] + ' ' + ' '.join(parm_tokenizer.convert_ids_to_tokens(parm_expansao._indices()[1][parm_expansao._indices()[0] == idx]))\n",
    "                }\n",
    "            )\n",
    "    else:\n",
    "        for idx in tqdm(unique_indices):\n",
    "            texto = ''\n",
    "            for token in parm_tokenizer.convert_ids_to_tokens(parm_expansao._indices()[1][parm_expansao._indices()[0] == idx]):\n",
    "                texto += (' ' + token + ' ') * math.ceil(normalized_values[pos_values] / valor_uma_ocorrencia)\n",
    "                pos_values +=  1\n",
    "            jsonl_token_expandida.append(\n",
    "                {\"id\": parm_lista_doc_id_passage[idx],\n",
    "                \"contents\":  corpus_dict_tokenizado[parm_lista_doc_id_passage[idx]]['texto_titulo_tokenizado'] + ' ' + texto\n",
    "                }\n",
    "            )\n",
    "    return jsonl_token_expandida\n"
   ]
  },
  {
   "cell_type": "code",
   "execution_count": 373,
   "metadata": {},
   "outputs": [],
   "source": [
    "def retorna_tokens_expansao_jsonl(parm_expansao: torch.Tensor, \n",
    "                            parm_tokenizer: BertTokenizer,\n",
    "                            parm_lista_doc_id_passage: list,\n",
    "                            valor_uma_ocorrencia:float=None,\n",
    "                            ) -> dict:\n",
    "    \"\"\"\n",
    "    Retorna um dicionário com informações sobre as expansões de tokens para cada sentença.\n",
    "\n",
    "    Args:\n",
    "        parm_expansao (torch.Tensor): Tensor esparso com as expansões de tokens.\n",
    "        parm_tokenizer (BertTokenizer): Tokenizer associado ao modelo BERT utilizado nas expansões.\n",
    "        parm_lista_doc_id_passage: lista de id de docs correspondendo ao tensor em parm_expansao\n",
    "    Returns:\n",
    "    {\"id\": \"kvhoa2se\", \"contents\": \"tokens dos tensores em parm_expansao\"}\n",
    "    \"\"\"\n",
    "    # Verifica se o número de linhas da expansão é igual ao número de sentenças\n",
    "    assert parm_expansao.shape[1] == parm_tokenizer.vocab_size, f\"parm_expansao.shape[1] == parm_tokenizer.vocab_size, mas {parm_expansao.shape[1]} != {parm_tokenizer.vocab_size}\"\n",
    "\n",
    "    # Cria um dicionário para armazenar os valores únicos presentes na expansão\n",
    "\n",
    "    normalized_values = (parm_expansao._values() - parm_expansao._values().min()) / (parm_expansao._values().max() - parm_expansao._values().min())\n",
    "\n",
    "    jsonl_token_expandida = []\n",
    "    # Obtém os índices únicos da expansão\n",
    "    unique_indices = torch.unique(parm_expansao._indices()[0])\n",
    "    pos_values = 0\n",
    "    # Para cada índice único, armazena a lista de tokens correspondente\n",
    "    if valor_uma_ocorrencia is None:\n",
    "        for idx in tqdm(unique_indices):\n",
    "            jsonl_token_expandida.append(\n",
    "                {\"id\": parm_lista_doc_id_passage[idx],\n",
    "                \"contents\": ' '.join(parm_tokenizer.convert_ids_to_tokens(parm_expansao._indices()[1][parm_expansao._indices()[0] == idx]))\n",
    "                }\n",
    "            )\n",
    "    else:\n",
    "        for idx in tqdm(unique_indices):\n",
    "            texto = ''\n",
    "            for token in parm_tokenizer.convert_ids_to_tokens(parm_expansao._indices()[1][parm_expansao._indices()[0] == idx]):\n",
    "                texto += (' ' + token + ' ') * math.ceil(normalized_values[pos] / valor_uma_ocorrencia)\n",
    "                pos_values +=  1\n",
    "            jsonl_token_expandida.append(\n",
    "                {\"id\": parm_lista_doc_id_passage[idx],\n",
    "                \"contents\": texto\n",
    "                }\n",
    "            )\n",
    "    return jsonl_token_expandida\n"
   ]
  },
  {
   "cell_type": "code",
   "execution_count": 114,
   "metadata": {},
   "outputs": [
    {
     "data": {
      "text/plain": [
       "'hi how are you in this february acre ##dit ##am ni ##sso ?'"
      ]
     },
     "execution_count": 114,
     "metadata": {},
     "output_type": "execute_result"
    }
   ],
   "source": [
    "' '.join(tokenizer.tokenize('hi how are you in this february acreditam nisso?'))"
   ]
  },
  {
   "cell_type": "code",
   "execution_count": 115,
   "metadata": {},
   "outputs": [],
   "source": [
    "from pyserini.index import IndexReader"
   ]
  },
  {
   "cell_type": "code",
   "execution_count": 116,
   "metadata": {},
   "outputs": [],
   "source": [
    "import json"
   ]
  },
  {
   "cell_type": "code",
   "execution_count": 117,
   "metadata": {},
   "outputs": [],
   "source": [
    "from pyserini.search.lucene import LuceneSearcher"
   ]
  },
  {
   "cell_type": "code",
   "execution_count": 118,
   "metadata": {},
   "outputs": [],
   "source": [
    "CAMINHO_CARDIN_MAX_PICKLE = f\"{DIRETORIO_TRABALHO}/cardin_corpus_max.pickle\""
   ]
  },
  {
   "cell_type": "code",
   "execution_count": 119,
   "metadata": {},
   "outputs": [],
   "source": [
    "DIRETORIO_INDICE = f\"{DIRETORIO_TRABALHO}/indexes/trec-covid-expanded-splade-index\""
   ]
  },
  {
   "cell_type": "code",
   "execution_count": 120,
   "metadata": {},
   "outputs": [
    {
     "data": {
      "text/plain": [
       "True"
      ]
     },
     "execution_count": 120,
     "metadata": {},
     "output_type": "execute_result"
    }
   ],
   "source": [
    "os.path.exists(DIRETORIO_INDICE)"
   ]
  },
  {
   "attachments": {},
   "cell_type": "markdown",
   "metadata": {},
   "source": [
    "if os.path.exists(DIRETORIO_INDICE):\n",
    "    print('pasta já existia!')\n",
    "else:\n",
    "    os.makedirs(DIRETORIO_INDICE)\n",
    "    print('pasta criada!')"
   ]
  },
  {
   "cell_type": "code",
   "execution_count": 121,
   "metadata": {},
   "outputs": [],
   "source": [
    "DIRETORIO_CARDIN_MAX = f\"{DIRETORIO_TRABALHO}/cardin_splade_max\""
   ]
  },
  {
   "cell_type": "code",
   "execution_count": 122,
   "metadata": {},
   "outputs": [
    {
     "name": "stdout",
     "output_type": "stream",
     "text": [
      "pasta já existia!\n"
     ]
    }
   ],
   "source": [
    "if os.path.exists(DIRETORIO_CARDIN_MAX):\n",
    "    print('pasta já existia!')\n",
    "else:\n",
    "    os.makedirs(DIRETORIO_CARDIN_MAX)\n",
    "    print('pasta criada!')"
   ]
  },
  {
   "cell_type": "code",
   "execution_count": 123,
   "metadata": {},
   "outputs": [],
   "source": [
    "CAMINHO_CARDIN_MAX = f\"{DIRETORIO_CARDIN_MAX}/trec-covid-splade.jsonl\"\n"
   ]
  },
  {
   "attachments": {},
   "cell_type": "markdown",
   "metadata": {},
   "source": [
    "# Testando corpus com texto tokenizado"
   ]
  },
  {
   "attachments": {},
   "cell_type": "markdown",
   "metadata": {},
   "source": [
    "## ind_aggregation = max"
   ]
  },
  {
   "cell_type": "code",
   "execution_count": 124,
   "metadata": {},
   "outputs": [],
   "source": [
    "ind_agg = 'max'"
   ]
  },
  {
   "attachments": {},
   "cell_type": "markdown",
   "metadata": {},
   "source": [
    "#### Lendo os dados salvos"
   ]
  },
  {
   "cell_type": "code",
   "execution_count": 178,
   "metadata": {},
   "outputs": [],
   "source": [
    "with open(CAMINHO_ARQUIVO_EXPANSAO_MAX, \"rb\") as f:\n",
    "  corpus_expanded = pickle.load(f).to_sparse()"
   ]
  },
  {
   "cell_type": "code",
   "execution_count": 126,
   "metadata": {},
   "outputs": [
    {
     "data": {
      "text/plain": [
       "torch.Size([171184, 30522])"
      ]
     },
     "execution_count": 126,
     "metadata": {},
     "output_type": "execute_result"
    }
   ],
   "source": [
    "corpus_expanded.shape"
   ]
  },
  {
   "cell_type": "code",
   "execution_count": 127,
   "metadata": {},
   "outputs": [
    {
     "data": {
      "text/plain": [
       "tensor(indices=tensor([[ 2023,  2563,  2773,  2888,  2966,  3656,  3659,  4074,\n",
       "                         4172,  4295,  4422,  4789,  5081,  5125,  5292,  5305,\n",
       "                         5965,  6108,  6210,  6213,  6425,  6426,  6647,  6796,\n",
       "                         7004,  7240,  7305,  7355,  7366,  7482,  7865,  7870,\n",
       "                         8761,  8764,  8925,  8985,  9820,  9895,  9999, 10178,\n",
       "                        11798, 11829, 14765, 15403, 16311, 18583, 19108, 19340,\n",
       "                        19857, 22498, 24442, 26835, 28389]]),\n",
       "       values=tensor([8.1596e-01, 3.9217e-02, 8.8719e-02, 5.2040e-01,\n",
       "                      3.6793e-01, 3.9014e-02, 9.8482e-02, 1.5676e+00,\n",
       "                      1.1148e-02, 1.0893e+00, 2.8933e-01, 3.3384e-01,\n",
       "                      3.0651e-01, 1.9354e-03, 1.2646e-01, 3.4454e-02,\n",
       "                      3.2749e-01, 1.5451e-01, 1.6557e-01, 4.3859e-02,\n",
       "                      3.0756e-01, 3.7101e-01, 4.8870e-01, 4.6626e-01,\n",
       "                      2.5939e-01, 1.2494e-01, 6.3179e-01, 5.6989e-01,\n",
       "                      2.0486e-01, 1.7790e-01, 3.2088e-01, 1.3282e-01,\n",
       "                      3.1144e-01, 1.9828e-01, 1.3980e-01, 8.3574e-01,\n",
       "                      1.2718e-02, 4.0265e-01, 1.7752e-01, 1.5297e-01,\n",
       "                      2.6460e-01, 4.6303e-01, 4.3437e-02, 1.6648e-01,\n",
       "                      8.6604e-01, 1.9750e-01, 3.2909e-01, 5.7262e-01,\n",
       "                      2.0893e+00, 4.3341e-01, 2.8326e+00, 8.1695e-01,\n",
       "                      2.0936e-01]),\n",
       "       size=(30522,), nnz=53, layout=torch.sparse_coo)"
      ]
     },
     "execution_count": 127,
     "metadata": {},
     "output_type": "execute_result"
    }
   ],
   "source": [
    "corpus_expanded[3]"
   ]
  },
  {
   "attachments": {},
   "cell_type": "markdown",
   "metadata": {},
   "source": [
    "### Gerar corpus com texto \n",
    "   \n",
    "      .. entrada: corpus_extensao 171332 x 30522\n",
    "      .. saida:   lista com 171332 textos (tokens com valor nos 30mil)\n"
   ]
  },
  {
   "attachments": {},
   "cell_type": "markdown",
   "metadata": {},
   "source": [
    "#### Um tensor pequeno para teste"
   ]
  },
  {
   "cell_type": "code",
   "execution_count": 135,
   "metadata": {},
   "outputs": [
    {
     "data": {
      "text/plain": [
       "torch.Size([171184, 30522])"
      ]
     },
     "execution_count": 135,
     "metadata": {},
     "output_type": "execute_result"
    }
   ],
   "source": [
    "corpus_expanded.shape # torch.Size([171332, 30522])"
   ]
  },
  {
   "cell_type": "code",
   "execution_count": 136,
   "metadata": {},
   "outputs": [],
   "source": [
    "corpus_expanded_min = corpus_expanded.to_dense()[1000:1003].to_sparse()"
   ]
  },
  {
   "cell_type": "code",
   "execution_count": 137,
   "metadata": {},
   "outputs": [
    {
     "data": {
      "text/plain": [
       "torch.Size([3, 30522])"
      ]
     },
     "execution_count": 137,
     "metadata": {},
     "output_type": "execute_result"
    }
   ],
   "source": [
    "corpus_expanded_min.shape"
   ]
  },
  {
   "cell_type": "code",
   "execution_count": 157,
   "metadata": {},
   "outputs": [
    {
     "data": {
      "text/plain": [
       "'imp ##fu ##ngen'"
      ]
     },
     "execution_count": 157,
     "metadata": {},
     "output_type": "execute_result"
    }
   ],
   "source": [
    "' '.join(corpus_dict_tokenizado[lista_doc_id_passage[10]]['texto_titulo_tokenizado'])"
   ]
  },
  {
   "cell_type": "code",
   "execution_count": 175,
   "metadata": {},
   "outputs": [
    {
     "name": "stderr",
     "output_type": "stream",
     "text": [
      "100%|██████████| 3/3 [00:00<00:00, 1187.96it/s]"
     ]
    },
    {
     "name": "stdout",
     "output_type": "stream",
     "text": [
      "CPU times: user 5.09 ms, sys: 32 µs, total: 5.12 ms\n",
      "Wall time: 4.64 ms\n"
     ]
    },
    {
     "name": "stderr",
     "output_type": "stream",
     "text": [
      "\n"
     ]
    }
   ],
   "source": [
    "%%time\n",
    "jsonl_cardin_com_repeticao = retorna_tokens_texto_e_expansao_jsonl(corpus_expanded_min, tokenizer, lista_doc_id_passage[1000:1003], valor_uma_ocorrencia=0.1)\n"
   ]
  },
  {
   "cell_type": "code",
   "execution_count": 171,
   "metadata": {},
   "outputs": [
    {
     "name": "stderr",
     "output_type": "stream",
     "text": [
      "100%|██████████| 3/3 [00:00<00:00, 4615.89it/s]"
     ]
    },
    {
     "name": "stdout",
     "output_type": "stream",
     "text": [
      "CPU times: user 2.48 ms, sys: 0 ns, total: 2.48 ms\n",
      "Wall time: 2.25 ms\n"
     ]
    },
    {
     "name": "stderr",
     "output_type": "stream",
     "text": [
      "\n"
     ]
    }
   ],
   "source": [
    "%%time\n",
    "jsonl_cardin_sem_repeticao = retorna_tokens_texto_e_expansao_jsonl(corpus_expanded_min, tokenizer, lista_doc_id_passage[1000:1003], valor_uma_ocorrencia=None)\n"
   ]
  },
  {
   "cell_type": "code",
   "execution_count": 174,
   "metadata": {},
   "outputs": [
    {
     "data": {
      "text/plain": [
       "{'texto_titulo_tokenizado': 'the virus hunter'}"
      ]
     },
     "execution_count": 174,
     "metadata": {},
     "output_type": "execute_result"
    }
   ],
   "source": [
    "corpus_dict_tokenizado[lista_doc_id_passage[1002]]"
   ]
  },
  {
   "cell_type": "code",
   "execution_count": 172,
   "metadata": {},
   "outputs": [
    {
     "name": "stdout",
     "output_type": "stream",
     "text": [
      "{'id': '3ij83et1', 'contents': 'the virus hunter . the he team film man series game species player god character henry japan kill movie actor champion founder murder website alex animal disease drug vampire hunter evil threat victor weapon soldier hero ghost hunting monster killer marcus perry genre witch nathan alien survival virus fake creator fisher robot infection griffin savage hunters hawk eden zombie bug survivor marty viral predator epidemic vaccine viruses parasite mosquito pathogen'}\n"
     ]
    }
   ],
   "source": [
    "print(jsonl_cardin_sem_repeticao[2])"
   ]
  },
  {
   "cell_type": "code",
   "execution_count": 176,
   "metadata": {},
   "outputs": [
    {
     "name": "stdout",
     "output_type": "stream",
     "text": [
      "{'id': '3ij83et1', 'contents': 'the virus hunter  .  the  the  the  the  he  team  film  film  man  series  game  game  game  species  species  player  player  god  character  character  character  henry  japan  kill  kill  movie  actor  actor  actor  champion  founder  murder  website  alex  alex  animal  disease  disease  drug  vampire  vampire  hunter  hunter  hunter  hunter  hunter  hunter  hunter  hunter  hunter  hunter  evil  threat  threat  victor  weapon  weapon  weapon  soldier  hero  ghost  hunting  hunting  hunting  hunting  hunting  hunting  monster  monster  killer  killer  marcus  perry  genre  genre  genre  witch  nathan  alien  survival  virus  virus  virus  virus  virus  virus  virus  virus  virus  virus  fake  creator  fisher  robot  infection  griffin  savage  savage  hunters  hunters  hunters  hunters  hawk  eden  zombie  zombie  zombie  bug  bug  survivor  marty  viral  viral  viral  viral  viral  predator  predator  epidemic  epidemic  epidemic  vaccine  viruses  viruses  viruses  viruses  viruses  viruses  viruses  parasite  mosquito  pathogen  pathogen  pathogen '}\n"
     ]
    }
   ],
   "source": [
    "print(jsonl_cardin_com_repeticao[2])"
   ]
  },
  {
   "attachments": {},
   "cell_type": "markdown",
   "metadata": {},
   "source": [
    "Antes de ter repetições\n",
    "\n",
    "{'id': '3ij83et1', 'contents': '. the he team film man series game species player god character henry japan kill movie actor champion founder murder website alex animal disease drug vampire hunter evil threat victor weapon soldier hero ghost hunting monster killer marcus perry genre witch nathan alien survival virus fake creator fisher robot infection griffin savage hunters hawk eden zombie bug survivor marty viral predator epidemic vaccine viruses parasite mosquito pathogen'}"
   ]
  },
  {
   "cell_type": "code",
   "execution_count": null,
   "metadata": {},
   "outputs": [
    {
     "name": "stdout",
     "output_type": "stream",
     "text": [
      "{'_id': '3ij83et1', 'title': 'The virus hunter.', 'text': '', 'metadata': {'url': 'https://www.ncbi.nlm.nih.gov/pubmed/14576238/', 'pubmed_id': '14576238'}, 'texto_titulo': 'The virus hunter.. '}\n"
     ]
    }
   ],
   "source": [
    "print(corpus[1002])"
   ]
  },
  {
   "attachments": {},
   "cell_type": "markdown",
   "metadata": {},
   "source": [
    "#### Rodando para todos"
   ]
  },
  {
   "cell_type": "code",
   "execution_count": 179,
   "metadata": {},
   "outputs": [],
   "source": [
    "corpus_expanded_exparse = corpus_expanded.to_sparse()"
   ]
  },
  {
   "cell_type": "code",
   "execution_count": 180,
   "metadata": {},
   "outputs": [],
   "source": [
    "normalized_values = (corpus_expanded_exparse._values() - corpus_expanded_exparse._values().min()) / (corpus_expanded_exparse._values().max() - corpus_expanded_exparse._values().min())\n"
   ]
  },
  {
   "cell_type": "code",
   "execution_count": 181,
   "metadata": {},
   "outputs": [
    {
     "data": {
      "image/png": "[encoded data removed]",
      "text/plain": [
       "<Figure size 640x480 with 1 Axes>"
      ]
     },
     "metadata": {},
     "output_type": "display_data"
    }
   ],
   "source": [
    "# Criar o histograma\n",
    "plt.hist(normalized_values.numpy(), bins=100)\n",
    "\n",
    "# Adicionar título e rótulos aos eixos\n",
    "plt.title(\"Histograma dos valores\")\n",
    "plt.xlabel(\"Valores\")\n",
    "plt.ylabel(\"Contagem\")\n",
    "\n",
    "# Mostrar o histograma\n",
    "plt.show()"
   ]
  },
  {
   "cell_type": "code",
   "execution_count": 182,
   "metadata": {},
   "outputs": [
    {
     "data": {
      "text/plain": [
       "(tensor(0.), tensor(1.7027e-01), tensor(1.3081e-01), tensor(1.0000e+00))"
      ]
     },
     "execution_count": 182,
     "metadata": {},
     "output_type": "execute_result"
    }
   ],
   "source": [
    "normalized_values.min(), normalized_values.mean(), normalized_values.median(), normalized_values.max()"
   ]
  },
  {
   "cell_type": "code",
   "execution_count": 184,
   "metadata": {},
   "outputs": [
    {
     "name": "stderr",
     "output_type": "stream",
     "text": [
      "100%|██████████| 171184/171184 [50:22<00:00, 56.63it/s]"
     ]
    },
    {
     "name": "stdout",
     "output_type": "stream",
     "text": [
      "CPU times: user 8h 22min 50s, sys: 1min 5s, total: 8h 23min 56s\n",
      "Wall time: 50min 23s\n"
     ]
    },
    {
     "name": "stderr",
     "output_type": "stream",
     "text": [
      "\n"
     ]
    }
   ],
   "source": [
    "%%time\n",
    "jsonl_cardin = retorna_tokens_texto_e_expansao_jsonl(corpus_expanded_exparse, tokenizer,\n",
    "                                             lista_doc_id_passage, valor_uma_ocorrencia=0.1)\n"
   ]
  },
  {
   "cell_type": "code",
   "execution_count": 185,
   "metadata": {},
   "outputs": [],
   "source": [
    "CAMINHO_CARDIN_MAX_TEXTO_TOKENIZADO_COM_REP = f\"{DIRETORIO_CARDIN_MAX}/trec-covid-splade-texto-token-com-rep.jsonl\""
   ]
  },
  {
   "cell_type": "code",
   "execution_count": 186,
   "metadata": {},
   "outputs": [],
   "source": [
    "CAMINHO_CARDIN_MAX_TEXTO_TOKENIZADO_COM_REP_PICKLE = f\"{DIRETORIO_TRABALHO}/cardin_corpus_max_texto_token_com_rep.pickle\""
   ]
  },
  {
   "cell_type": "code",
   "execution_count": 187,
   "metadata": {},
   "outputs": [],
   "source": [
    "with open(CAMINHO_CARDIN_MAX_TEXTO_TOKENIZADO_COM_REP_PICKLE, 'wb') as outputFile:\n",
    "    pickle.dump(jsonl_cardin, outputFile, pickle.HIGHEST_PROTOCOL)"
   ]
  },
  {
   "cell_type": "code",
   "execution_count": 188,
   "metadata": {},
   "outputs": [
    {
     "name": "stdout",
     "output_type": "stream",
     "text": [
      "Tempo para construir o índice (cpu): 3023\n"
     ]
    }
   ],
   "source": [
    "tempo_construcao_indice_splade_lucene_tokenizado_exp_com_rep =  50 * 60 + 23\n",
    "print(f\"Tempo para construir o índice (cpu): {tempo_construcao_indice_splade_lucene_tokenizado_exp_com_rep}\")"
   ]
  },
  {
   "attachments": {},
   "cell_type": "markdown",
   "metadata": {},
   "source": [
    "### Gerar índice com texto tokenizado + exp com repet sem pré-processamento\n",
    "   \n",
    "      .. entrada: 171mil textos (tokens com valor nos 30mil)\n",
    "      .. saída: índice lucene\n"
   ]
  },
  {
   "cell_type": "code",
   "execution_count": null,
   "metadata": {},
   "outputs": [],
   "source": [
    "with open(CAMINHO_CARDIN_MAX_PICKLE, \"rb\") as f:\n",
    "  jsonl_cardin = pickle.load(f)"
   ]
  },
  {
   "cell_type": "code",
   "execution_count": 189,
   "metadata": {},
   "outputs": [
    {
     "data": {
      "text/plain": [
       "('/home/borela/fontes/deep_learning_em_buscas_unicamp/local/tradeoff/cardin_splade_max',\n",
       " '/home/borela/fontes/deep_learning_em_buscas_unicamp/local/tradeoff/cardin_splade_max/trec-covid-splade-texto-token-com-rep.jsonl')"
      ]
     },
     "execution_count": 189,
     "metadata": {},
     "output_type": "execute_result"
    }
   ],
   "source": [
    "DIRETORIO_CARDIN_MAX,  CAMINHO_CARDIN_MAX_TEXTO_TOKENIZADO_COM_REP"
   ]
  },
  {
   "cell_type": "code",
   "execution_count": 190,
   "metadata": {},
   "outputs": [
    {
     "name": "stdout",
     "output_type": "stream",
     "text": [
      "CPU times: user 2.03 s, sys: 436 ms, total: 2.46 s\n",
      "Wall time: 2.47 s\n"
     ]
    }
   ],
   "source": [
    "%%time\n",
    "with open(CAMINHO_CARDIN_MAX_TEXTO_TOKENIZADO_COM_REP, 'w') as arquivo:\n",
    "    for doc in jsonl_cardin:\n",
    "        # Converte o dicionário em uma string JSON\n",
    "        linha_json = json.dumps(doc)\n",
    "        # Escreve a linha JSON no arquivo\n",
    "        arquivo.write(f'{linha_json}\\n')"
   ]
  },
  {
   "cell_type": "code",
   "execution_count": 191,
   "metadata": {},
   "outputs": [
    {
     "data": {
      "text/plain": [
       "'/home/borela/fontes/deep_learning_em_buscas_unicamp/local/tradeoff/cardin_splade_max/trec-covid-splade-texto-token-com-rep.jsonl'"
      ]
     },
     "execution_count": 191,
     "metadata": {},
     "output_type": "execute_result"
    }
   ],
   "source": [
    "CAMINHO_CARDIN_MAX_TEXTO_TOKENIZADO_COM_REP"
   ]
  },
  {
   "cell_type": "code",
   "execution_count": 195,
   "metadata": {},
   "outputs": [],
   "source": [
    "if os.path.exists(DIRETORIO_INDICE):\n",
    "    shutil.rmtree(DIRETORIO_INDICE)"
   ]
  },
  {
   "cell_type": "code",
   "execution_count": 196,
   "metadata": {},
   "outputs": [
    {
     "data": {
      "text/plain": [
       "'/home/borela/fontes/deep_learning_em_buscas_unicamp/local/tradeoff/cardin_splade_max'"
      ]
     },
     "execution_count": 196,
     "metadata": {},
     "output_type": "execute_result"
    }
   ],
   "source": [
    "DIRETORIO_CARDIN_MAX"
   ]
  },
  {
   "cell_type": "code",
   "execution_count": 217,
   "metadata": {},
   "outputs": [
    {
     "data": {
      "text/plain": [
       "'/home/borela/fontes/deep_learning_em_buscas_unicamp/local/tradeoff/cardin_splade_max'"
      ]
     },
     "execution_count": 217,
     "metadata": {},
     "output_type": "execute_result"
    }
   ],
   "source": [
    "DIRETORIO_CARDIN_MAX"
   ]
  },
  {
   "cell_type": "code",
   "execution_count": 197,
   "metadata": {},
   "outputs": [
    {
     "name": "stdout",
     "output_type": "stream",
     "text": [
      "WARNING: sun.reflect.Reflection.getCallerClass is not supported. This will impact performance.\n",
      "2023-05-14 22:28:19,026 INFO  [main] index.IndexCollection (IndexCollection.java:380) - Setting log level to INFO\n",
      "2023-05-14 22:28:19,027 INFO  [main] index.IndexCollection (IndexCollection.java:383) - Starting indexer...\n",
      "2023-05-14 22:28:19,027 INFO  [main] index.IndexCollection (IndexCollection.java:384) - ============ Loading Parameters ============\n",
      "2023-05-14 22:28:19,027 INFO  [main] index.IndexCollection (IndexCollection.java:385) - DocumentCollection path: /home/borela/fontes/deep_learning_em_buscas_unicamp/local/tradeoff/cardin_splade_max\n",
      "2023-05-14 22:28:19,027 INFO  [main] index.IndexCollection (IndexCollection.java:386) - CollectionClass: JsonCollection\n",
      "2023-05-14 22:28:19,027 INFO  [main] index.IndexCollection (IndexCollection.java:387) - Generator: DefaultLuceneDocumentGenerator\n",
      "2023-05-14 22:28:19,028 INFO  [main] index.IndexCollection (IndexCollection.java:388) - Threads: 9\n",
      "2023-05-14 22:28:19,028 INFO  [main] index.IndexCollection (IndexCollection.java:389) - Language: en\n",
      "2023-05-14 22:28:19,028 INFO  [main] index.IndexCollection (IndexCollection.java:390) - Stemmer: porter\n",
      "2023-05-14 22:28:19,028 INFO  [main] index.IndexCollection (IndexCollection.java:391) - Keep stopwords? false\n",
      "2023-05-14 22:28:19,028 INFO  [main] index.IndexCollection (IndexCollection.java:392) - Stopwords: null\n",
      "2023-05-14 22:28:19,028 INFO  [main] index.IndexCollection (IndexCollection.java:393) - Store positions? true\n",
      "2023-05-14 22:28:19,028 INFO  [main] index.IndexCollection (IndexCollection.java:394) - Store docvectors? true\n",
      "2023-05-14 22:28:19,029 INFO  [main] index.IndexCollection (IndexCollection.java:395) - Store document \"contents\" field? false\n",
      "2023-05-14 22:28:19,029 INFO  [main] index.IndexCollection (IndexCollection.java:396) - Store document \"raw\" field? true\n",
      "2023-05-14 22:28:19,029 INFO  [main] index.IndexCollection (IndexCollection.java:397) - Additional fields to index: []\n",
      "2023-05-14 22:28:19,029 INFO  [main] index.IndexCollection (IndexCollection.java:398) - Optimize (merge segments)? false\n",
      "2023-05-14 22:28:19,029 INFO  [main] index.IndexCollection (IndexCollection.java:399) - Whitelist: null\n",
      "2023-05-14 22:28:19,029 INFO  [main] index.IndexCollection (IndexCollection.java:400) - Pretokenized?: true\n",
      "2023-05-14 22:28:19,029 INFO  [main] index.IndexCollection (IndexCollection.java:401) - Index path: /home/borela/fontes/deep_learning_em_buscas_unicamp/local/tradeoff/indexes/trec-covid-expanded-splade-index\n",
      "2023-05-14 22:28:19,030 INFO  [main] index.IndexCollection (IndexCollection.java:481) - ============ Indexing Collection ============\n",
      "2023-05-14 22:28:19,104 INFO  [main] index.IndexCollection (IndexCollection.java:510) - Thread pool with 9 threads initialized.\n",
      "2023-05-14 22:28:19,104 INFO  [main] index.IndexCollection (IndexCollection.java:512) - Initializing collection in /home/borela/fontes/deep_learning_em_buscas_unicamp/local/tradeoff/cardin_splade_max\n",
      "2023-05-14 22:28:19,106 INFO  [main] index.IndexCollection (IndexCollection.java:521) - 1 file found\n",
      "2023-05-14 22:28:19,106 INFO  [main] index.IndexCollection (IndexCollection.java:522) - Starting to index...\n",
      "2023-05-14 22:28:58,780 DEBUG [pool-2-thread-1] index.IndexCollection$LocalIndexerThread (IndexCollection.java:345) - cardin_splade_max/trec-covid-splade-texto-token-com-rep.jsonl: 171184 docs added.\n",
      "2023-05-14 22:29:06,290 INFO  [main] index.IndexCollection (IndexCollection.java:578) - Indexing Complete! 171.184 documents indexed\n",
      "2023-05-14 22:29:06,290 INFO  [main] index.IndexCollection (IndexCollection.java:579) - ============ Final Counter Values ============\n",
      "2023-05-14 22:29:06,290 INFO  [main] index.IndexCollection (IndexCollection.java:580) - indexed:          171.184\n",
      "2023-05-14 22:29:06,290 INFO  [main] index.IndexCollection (IndexCollection.java:581) - unindexable:            0\n",
      "2023-05-14 22:29:06,290 INFO  [main] index.IndexCollection (IndexCollection.java:582) - empty:                  0\n",
      "2023-05-14 22:29:06,290 INFO  [main] index.IndexCollection (IndexCollection.java:583) - skipped:                0\n",
      "2023-05-14 22:29:06,291 INFO  [main] index.IndexCollection (IndexCollection.java:584) - errors:                 0\n",
      "2023-05-14 22:29:06,294 INFO  [main] index.IndexCollection (IndexCollection.java:587) - Total 171.184 documents indexed in 00:00:47\n",
      "CPU times: user 493 ms, sys: 152 ms, total: 645 ms\n",
      "Wall time: 48.8 s\n"
     ]
    }
   ],
   "source": [
    "%%time\n",
    "\"\"\"\n",
    "generator RawDocumentGenerator: sem pré-processamento\n",
    "        Quando usamos o DefaultLuceneDocumentGenerator, o processo de pré-processamento é aplicado ao texto do documento antes de ser indexado, incluindo a remoção de stopwords, aplicação de stemização, tokenização, entre outros.\n",
    "\n",
    "        Já com o RawDocumentGenerator, o texto do documento é indexado exatamente como é, sem aplicar nenhum tipo de pré-processamento. Isso significa que a indexação será mais rápida e que as consultas serão feitas diretamente no texto original, sem serem afetadas por nenhum processamento adicional.\n",
    "\n",
    "        The important indexing options to note here are --impact --pretokenized: the first tells Anserini not to encode BM25 doclengths into Lucene's norms (which is the default) and the second option says not to apply any additional tokenization on the DeepImpact tokens.\n",
    "                Fonte: https://github.com/castorini/pyserini/blob/master/docs/experiments-deepimpact.md\n",
    "\"\"\"\n",
    "!python -m pyserini.index.lucene \\\n",
    "        --collection JsonCollection \\\n",
    "        --input {DIRETORIO_CARDIN_MAX} \\\n",
    "        --index {DIRETORIO_INDICE} \\\n",
    "        --threads 9 \\\n",
    "        --storePositions --storeDocvectors \\\n",
    "        --storeRaw  \\\n",
    "        --impact --pretokenized\n",
    "        \n",
    "#> /dev/null 2>&1 "
   ]
  },
  {
   "cell_type": "code",
   "execution_count": 198,
   "metadata": {},
   "outputs": [
    {
     "name": "stdout",
     "output_type": "stream",
     "text": [
      "Tempo para construir o índice (cpu): 3071\n"
     ]
    }
   ],
   "source": [
    "tempo_construcao_indice_splade_lucene_tokenizado_exp_com_rep +=  48\n",
    "print(f\"Tempo para construir o índice (cpu): {tempo_construcao_indice_splade_lucene_tokenizado_exp_com_rep}\")"
   ]
  },
  {
   "cell_type": "code",
   "execution_count": 199,
   "metadata": {},
   "outputs": [
    {
     "name": "stdout",
     "output_type": "stream",
     "text": [
      "{'total_terms': 106079106, 'documents': 171184, 'non_empty_documents': 171184, 'unique_terms': 26801}\n"
     ]
    }
   ],
   "source": [
    "# Imprimindo estatísticas do índice\n",
    "index_reader = IndexReader(DIRETORIO_INDICE)\n",
    "print(index_reader.stats())"
   ]
  },
  {
   "cell_type": "code",
   "execution_count": 200,
   "metadata": {},
   "outputs": [],
   "source": [
    "searcher = LuceneSearcher(DIRETORIO_INDICE) # './indexes/lucene-index-msmarco-passage')\n",
    "searcher.set_bm25(k1=1.12, b=0.4)  "
   ]
  },
  {
   "cell_type": "code",
   "execution_count": 201,
   "metadata": {},
   "outputs": [],
   "source": [
    "import subprocess\n"
   ]
  },
  {
   "cell_type": "code",
   "execution_count": 202,
   "metadata": {},
   "outputs": [],
   "source": [
    "tamanho_em_bytes_indice_trecc_splade_tokenizado_exp_com_rep = int(subprocess.check_output(['du', '-b', DIRETORIO_INDICE]).split()[0])\n"
   ]
  },
  {
   "cell_type": "code",
   "execution_count": 203,
   "metadata": {},
   "outputs": [
    {
     "name": "stdout",
     "output_type": "stream",
     "text": [
      "O tamanho do índice é: 868616214 bytes\n"
     ]
    }
   ],
   "source": [
    "print(\"O tamanho do índice é:\", tamanho_em_bytes_indice_trecc_splade_tokenizado_exp_com_rep, \"bytes\")\n",
    "\n"
   ]
  },
  {
   "attachments": {},
   "cell_type": "markdown",
   "metadata": {},
   "source": [
    "### Realizar buscas para as queries"
   ]
  },
  {
   "cell_type": "markdown",
   "metadata": {},
   "source": [
    "#### Sem expansão da query"
   ]
  },
  {
   "cell_type": "code",
   "execution_count": 204,
   "metadata": {},
   "outputs": [],
   "source": [
    "nome_pipeline = 'splade_cocondenser_max_com_sep_sem_exp_query_lucene_texto_token_repete'"
   ]
  },
  {
   "cell_type": "code",
   "execution_count": 205,
   "metadata": {},
   "outputs": [],
   "source": [
    "resultado_execucao = {}"
   ]
  },
  {
   "cell_type": "code",
   "execution_count": 206,
   "metadata": {},
   "outputs": [],
   "source": [
    "resultado_execucao['tempo_indexacao_segundo'] = [{'tipo':'cpu', 'valor': tempo_construcao_indice_splade_lucene_tokenizado_exp_com_rep}]\n",
    "resultado_execucao['memoria_indice_byte_ram'] = tamanho_em_bytes_indice_trecc_splade_tokenizado_exp_com_rep\n",
    "resultado_execucao['se_retrieval_usa_gpu'] = False"
   ]
  },
  {
   "cell_type": "code",
   "execution_count": 207,
   "metadata": {},
   "outputs": [],
   "source": [
    "se_expande_query = 'N'"
   ]
  },
  {
   "cell_type": "code",
   "execution_count": 208,
   "metadata": {},
   "outputs": [
    {
     "name": "stdout",
     "output_type": "stream",
     "text": [
      "Running 50 queries in total\n"
     ]
    }
   ],
   "source": [
    "tempo_gasto = run_all_queries_lucene_splade(file=CAMINHO_RUN, \n",
    "                                     topics=topics,\n",
    "                                     searcher=searcher,\n",
    "                                     parm_tokenizer=tokenizer,\n",
    "                                     parm_se_query_expansion= (se_expande_query == 'S'),\n",
    "                                     parm_ind_agg_se_query_expansion='max',\n",
    "                                     parm_num_max_hits=1000)\n"
   ]
  },
  {
   "attachments": {},
   "cell_type": "markdown",
   "metadata": {},
   "source": [
    "### Avaliação latência"
   ]
  },
  {
   "cell_type": "code",
   "execution_count": 209,
   "metadata": {},
   "outputs": [
    {
     "data": {
      "text/plain": [
       "count    50.0000000\n",
       "mean      0.0578043\n",
       "std       0.0406180\n",
       "min       0.0420349\n",
       "25%       0.0450747\n",
       "50%       0.0499449\n",
       "75%       0.0569858\n",
       "max       0.3319662\n",
       "Name: tempo_gasto, Length: 8, dtype: float64"
      ]
     },
     "execution_count": 209,
     "metadata": {},
     "output_type": "execute_result"
    }
   ],
   "source": [
    "df_tempos = pd.DataFrame({'tempo_gasto': tempo_gasto})\n",
    "df_tempos['tempo_gasto'].describe()"
   ]
  },
  {
   "cell_type": "code",
   "execution_count": 210,
   "metadata": {},
   "outputs": [],
   "source": [
    "resultado_execucao['retrieval_tempo_medio_por_query'] = round(df_tempos['tempo_gasto'].describe()['mean'],6)"
   ]
  },
  {
   "cell_type": "code",
   "execution_count": 211,
   "metadata": {},
   "outputs": [
    {
     "data": {
      "image/png": "[encoded data removed]",
      "text/plain": [
       "<Figure size 640x480 with 1 Axes>"
      ]
     },
     "metadata": {},
     "output_type": "display_data"
    }
   ],
   "source": [
    "# Calculando média e mediana\n",
    "media = df_tempos['tempo_gasto'].mean()\n",
    "mediana = df_tempos['tempo_gasto'].median()\n",
    "\n",
    "# Plotando gráfico\n",
    "fig, ax = plt.subplots()\n",
    "ax.hist(df_tempos['tempo_gasto'], bins=50, color='blue', alpha=0.5)\n",
    "ax.axvline(media, color='red', linestyle='dashed', linewidth=2, label=f'Média = {media:.2f}')\n",
    "ax.axvline(mediana, color='green', linestyle='dashed', linewidth=2, label=f'Mediana = {mediana:.2f}')\n",
    "ax.set_xlabel('Tempo (s)')\n",
    "ax.set_ylabel('Frequência')\n",
    "ax.set_title('Distribuição de Tempos de Execução')\n",
    "ax.legend()\n",
    "plt.show()"
   ]
  },
  {
   "cell_type": "code",
   "execution_count": 215,
   "metadata": {},
   "outputs": [
    {
     "data": {
      "text/plain": [
       "'/home/borela/fontes/deep_learning_em_buscas_unicamp/local/tradeoff/runs/run-trec-covid.txt'"
      ]
     },
     "execution_count": 215,
     "metadata": {},
     "output_type": "execute_result"
    }
   ],
   "source": [
    "CAMINHO_RUN"
   ]
  },
  {
   "attachments": {},
   "cell_type": "markdown",
   "metadata": {},
   "source": [
    "##### Avaliação métricas"
   ]
  },
  {
   "cell_type": "code",
   "execution_count": 212,
   "metadata": {},
   "outputs": [
    {
     "name": "stdout",
     "output_type": "stream",
     "text": [
      "   query  q0     docid  rank      score       system\n",
      "0     44  Q0  b2yalnrx     1  16.223000  ComExpansao\n",
      "1     44  Q0  ugkxxaeb     2  14.199500  ComExpansao\n",
      "2     44  Q0  gbvyuem5     3  13.616600  ComExpansao\n",
      "3     44  Q0  e9kroam2     4  13.505800  ComExpansao\n",
      "4     44  Q0  how1mfvf     5  13.505799  ComExpansao\n",
      "\n",
      "[5 rows x 6 columns]\n",
      "NDCG@10: 0.14680575214061553\n"
     ]
    }
   ],
   "source": [
    "\n",
    "### Calculando métricas\n",
    "run = pd.read_csv(f\"{CAMINHO_RUN}\", sep=\"\\s+\", \n",
    "                names=[\"query\", \"q0\", \"docid\", \"rank\", \"score\", \"system\"])\n",
    "print(run.head())\n",
    "run = run.to_dict(orient=\"list\")\n",
    "\n",
    "results = trec_eval.compute(predictions=[run], references=[qrel_dict])\n",
    "\n",
    "# salvando métricas    \n",
    "print(f\"NDCG@10: {results['NDCG@10']}\")\n"
   ]
  },
  {
   "cell_type": "code",
   "execution_count": 213,
   "metadata": {},
   "outputs": [],
   "source": [
    "resultado_execucao['ndcg_10'] = round(100*results['NDCG@10'],2)"
   ]
  },
  {
   "attachments": {},
   "cell_type": "markdown",
   "metadata": {},
   "source": [
    "### Sem repetição de palavras"
   ]
  },
  {
   "cell_type": "code",
   "execution_count": 220,
   "metadata": {},
   "outputs": [
    {
     "name": "stderr",
     "output_type": "stream",
     "text": [
      "100%|██████████| 171184/171184 [43:45<00:00, 65.20it/s]"
     ]
    },
    {
     "name": "stdout",
     "output_type": "stream",
     "text": [
      "CPU times: user 7h 17min 5s, sys: 32.9 s, total: 7h 17min 38s\n",
      "Wall time: 43min 45s\n"
     ]
    },
    {
     "name": "stderr",
     "output_type": "stream",
     "text": [
      "\n"
     ]
    }
   ],
   "source": [
    "%%time\n",
    "jsonl_cardin_sem_rep = retorna_tokens_texto_e_expansao_jsonl(corpus_expanded_exparse, tokenizer,\n",
    "                                             lista_doc_id_passage, valor_uma_ocorrencia=None)\n"
   ]
  },
  {
   "cell_type": "code",
   "execution_count": 221,
   "metadata": {},
   "outputs": [],
   "source": [
    "CAMINHO_CARDIN_MAX_TEXTO_TOKENIZADO_SEM_REP = f\"{DIRETORIO_CARDIN_MAX}/trec-covid-splade-texto-token-sem-rep.jsonl\""
   ]
  },
  {
   "cell_type": "code",
   "execution_count": 222,
   "metadata": {},
   "outputs": [],
   "source": [
    "CAMINHO_CARDIN_MAX_TEXTO_TOKENIZADO_SEM_REP_PICKLE = f\"{DIRETORIO_TRABALHO}/cardin_corpus_max_texto_token_sem_rep.pickle\""
   ]
  },
  {
   "cell_type": "code",
   "execution_count": 223,
   "metadata": {},
   "outputs": [],
   "source": [
    "with open(CAMINHO_CARDIN_MAX_TEXTO_TOKENIZADO_SEM_REP_PICKLE, 'wb') as outputFile:\n",
    "    pickle.dump(jsonl_cardin_sem_rep, outputFile, pickle.HIGHEST_PROTOCOL)"
   ]
  },
  {
   "cell_type": "code",
   "execution_count": 224,
   "metadata": {},
   "outputs": [
    {
     "name": "stdout",
     "output_type": "stream",
     "text": [
      "CPU times: user 1.3 s, sys: 204 ms, total: 1.5 s\n",
      "Wall time: 1.5 s\n"
     ]
    }
   ],
   "source": [
    "%%time\n",
    "with open(CAMINHO_CARDIN_MAX_TEXTO_TOKENIZADO_SEM_REP, 'w') as arquivo:\n",
    "    for doc in jsonl_cardin_sem_rep:\n",
    "        # Converte o dicionário em uma string JSON\n",
    "        linha_json = json.dumps(doc)\n",
    "        # Escreve a linha JSON no arquivo\n",
    "        arquivo.write(f'{linha_json}\\n')"
   ]
  },
  {
   "cell_type": "code",
   "execution_count": 225,
   "metadata": {},
   "outputs": [
    {
     "data": {
      "text/plain": [
       "'/home/borela/fontes/deep_learning_em_buscas_unicamp/local/tradeoff/cardin_splade_max/trec-covid-splade-texto-token-sem-rep.jsonl'"
      ]
     },
     "execution_count": 225,
     "metadata": {},
     "output_type": "execute_result"
    }
   ],
   "source": [
    "CAMINHO_CARDIN_MAX_TEXTO_TOKENIZADO_SEM_REP"
   ]
  },
  {
   "cell_type": "code",
   "execution_count": 226,
   "metadata": {},
   "outputs": [],
   "source": [
    "if os.path.exists(DIRETORIO_INDICE):\n",
    "    shutil.rmtree(DIRETORIO_INDICE)"
   ]
  },
  {
   "cell_type": "code",
   "execution_count": 227,
   "metadata": {},
   "outputs": [
    {
     "name": "stdout",
     "output_type": "stream",
     "text": [
      "WARNING: sun.reflect.Reflection.getCallerClass is not supported. This will impact performance.\n",
      "2023-05-14 23:28:41,630 INFO  [main] index.IndexCollection (IndexCollection.java:380) - Setting log level to INFO\n",
      "2023-05-14 23:28:41,631 INFO  [main] index.IndexCollection (IndexCollection.java:383) - Starting indexer...\n",
      "2023-05-14 23:28:41,631 INFO  [main] index.IndexCollection (IndexCollection.java:384) - ============ Loading Parameters ============\n",
      "2023-05-14 23:28:41,631 INFO  [main] index.IndexCollection (IndexCollection.java:385) - DocumentCollection path: /home/borela/fontes/deep_learning_em_buscas_unicamp/local/tradeoff/cardin_splade_max\n",
      "2023-05-14 23:28:41,631 INFO  [main] index.IndexCollection (IndexCollection.java:386) - CollectionClass: JsonCollection\n",
      "2023-05-14 23:28:41,631 INFO  [main] index.IndexCollection (IndexCollection.java:387) - Generator: DefaultLuceneDocumentGenerator\n",
      "2023-05-14 23:28:41,631 INFO  [main] index.IndexCollection (IndexCollection.java:388) - Threads: 9\n",
      "2023-05-14 23:28:41,631 INFO  [main] index.IndexCollection (IndexCollection.java:389) - Language: en\n",
      "2023-05-14 23:28:41,631 INFO  [main] index.IndexCollection (IndexCollection.java:390) - Stemmer: porter\n",
      "2023-05-14 23:28:41,632 INFO  [main] index.IndexCollection (IndexCollection.java:391) - Keep stopwords? false\n",
      "2023-05-14 23:28:41,632 INFO  [main] index.IndexCollection (IndexCollection.java:392) - Stopwords: null\n",
      "2023-05-14 23:28:41,632 INFO  [main] index.IndexCollection (IndexCollection.java:393) - Store positions? true\n",
      "2023-05-14 23:28:41,632 INFO  [main] index.IndexCollection (IndexCollection.java:394) - Store docvectors? true\n",
      "2023-05-14 23:28:41,632 INFO  [main] index.IndexCollection (IndexCollection.java:395) - Store document \"contents\" field? false\n",
      "2023-05-14 23:28:41,632 INFO  [main] index.IndexCollection (IndexCollection.java:396) - Store document \"raw\" field? true\n",
      "2023-05-14 23:28:41,632 INFO  [main] index.IndexCollection (IndexCollection.java:397) - Additional fields to index: []\n",
      "2023-05-14 23:28:41,633 INFO  [main] index.IndexCollection (IndexCollection.java:398) - Optimize (merge segments)? false\n",
      "2023-05-14 23:28:41,633 INFO  [main] index.IndexCollection (IndexCollection.java:399) - Whitelist: null\n",
      "2023-05-14 23:28:41,633 INFO  [main] index.IndexCollection (IndexCollection.java:400) - Pretokenized?: true\n",
      "2023-05-14 23:28:41,633 INFO  [main] index.IndexCollection (IndexCollection.java:401) - Index path: /home/borela/fontes/deep_learning_em_buscas_unicamp/local/tradeoff/indexes/trec-covid-expanded-splade-index\n",
      "2023-05-14 23:28:41,634 INFO  [main] index.IndexCollection (IndexCollection.java:481) - ============ Indexing Collection ============\n",
      "2023-05-14 23:28:41,704 INFO  [main] index.IndexCollection (IndexCollection.java:510) - Thread pool with 9 threads initialized.\n",
      "2023-05-14 23:28:41,704 INFO  [main] index.IndexCollection (IndexCollection.java:512) - Initializing collection in /home/borela/fontes/deep_learning_em_buscas_unicamp/local/tradeoff/cardin_splade_max\n",
      "2023-05-14 23:28:41,705 INFO  [main] index.IndexCollection (IndexCollection.java:521) - 1 file found\n",
      "2023-05-14 23:28:41,705 INFO  [main] index.IndexCollection (IndexCollection.java:522) - Starting to index...\n",
      "2023-05-14 23:29:13,718 DEBUG [pool-2-thread-1] index.IndexCollection$LocalIndexerThread (IndexCollection.java:345) - cardin_splade_max/trec-covid-splade-texto-token-sem-rep.jsonl: 171184 docs added.\n",
      "2023-05-14 23:29:21,894 INFO  [main] index.IndexCollection (IndexCollection.java:578) - Indexing Complete! 171.184 documents indexed\n",
      "2023-05-14 23:29:21,895 INFO  [main] index.IndexCollection (IndexCollection.java:579) - ============ Final Counter Values ============\n",
      "2023-05-14 23:29:21,895 INFO  [main] index.IndexCollection (IndexCollection.java:580) - indexed:          171.184\n",
      "2023-05-14 23:29:21,896 INFO  [main] index.IndexCollection (IndexCollection.java:581) - unindexable:            0\n",
      "2023-05-14 23:29:21,896 INFO  [main] index.IndexCollection (IndexCollection.java:582) - empty:                  0\n",
      "2023-05-14 23:29:21,897 INFO  [main] index.IndexCollection (IndexCollection.java:583) - skipped:                0\n",
      "2023-05-14 23:29:21,898 INFO  [main] index.IndexCollection (IndexCollection.java:584) - errors:                 0\n",
      "2023-05-14 23:29:21,909 INFO  [main] index.IndexCollection (IndexCollection.java:587) - Total 171.184 documents indexed in 00:00:40\n",
      "CPU times: user 416 ms, sys: 188 ms, total: 604 ms\n",
      "Wall time: 41.7 s\n"
     ]
    }
   ],
   "source": [
    "%%time\n",
    "\"\"\"\n",
    "generator RawDocumentGenerator: sem pré-processamento\n",
    "        Quando usamos o DefaultLuceneDocumentGenerator, o processo de pré-processamento é aplicado ao texto do documento antes de ser indexado, incluindo a remoção de stopwords, aplicação de stemização, tokenização, entre outros.\n",
    "\n",
    "        Já com o RawDocumentGenerator, o texto do documento é indexado exatamente como é, sem aplicar nenhum tipo de pré-processamento. Isso significa que a indexação será mais rápida e que as consultas serão feitas diretamente no texto original, sem serem afetadas por nenhum processamento adicional.\n",
    "\n",
    "        The important indexing options to note here are --impact --pretokenized: the first tells Anserini not to encode BM25 doclengths into Lucene's norms (which is the default) and the second option says not to apply any additional tokenization on the DeepImpact tokens.\n",
    "                Fonte: https://github.com/castorini/pyserini/blob/master/docs/experiments-deepimpact.md\n",
    "\"\"\"\n",
    "!python -m pyserini.index.lucene \\\n",
    "        --collection JsonCollection \\\n",
    "        --input {DIRETORIO_CARDIN_MAX} \\\n",
    "        --index {DIRETORIO_INDICE} \\\n",
    "        --threads 9 \\\n",
    "        --storePositions --storeDocvectors \\\n",
    "        --storeRaw  \\\n",
    "        --impact --pretokenized\n",
    "        \n",
    "#> /dev/null 2>&1 "
   ]
  },
  {
   "cell_type": "code",
   "execution_count": 228,
   "metadata": {},
   "outputs": [
    {
     "name": "stdout",
     "output_type": "stream",
     "text": [
      "{'total_terms': 67329218, 'documents': 171184, 'non_empty_documents': 171184, 'unique_terms': 26801}\n"
     ]
    }
   ],
   "source": [
    "# Imprimindo estatísticas do índice\n",
    "index_reader = IndexReader(DIRETORIO_INDICE)\n",
    "print(index_reader.stats())"
   ]
  },
  {
   "cell_type": "code",
   "execution_count": 229,
   "metadata": {},
   "outputs": [],
   "source": [
    "searcher = LuceneSearcher(DIRETORIO_INDICE) # './indexes/lucene-index-msmarco-passage')\n",
    "searcher.set_bm25(k1=1.12, b=0.4)  "
   ]
  },
  {
   "cell_type": "code",
   "execution_count": 230,
   "metadata": {},
   "outputs": [],
   "source": [
    "se_expande_query = 'N'"
   ]
  },
  {
   "cell_type": "code",
   "execution_count": 231,
   "metadata": {},
   "outputs": [
    {
     "name": "stdout",
     "output_type": "stream",
     "text": [
      "Running 50 queries in total\n"
     ]
    }
   ],
   "source": [
    "tempo_gasto = run_all_queries_lucene_splade(file=CAMINHO_RUN, \n",
    "                                     topics=topics,\n",
    "                                     searcher=searcher,\n",
    "                                     parm_tokenizer=tokenizer,\n",
    "                                     parm_se_query_expansion= (se_expande_query == 'S'),\n",
    "                                     parm_ind_agg_se_query_expansion='max',\n",
    "                                     parm_num_max_hits=1000)\n"
   ]
  },
  {
   "attachments": {},
   "cell_type": "markdown",
   "metadata": {},
   "source": [
    "### Avaliação latência"
   ]
  },
  {
   "cell_type": "code",
   "execution_count": 232,
   "metadata": {},
   "outputs": [
    {
     "data": {
      "text/plain": [
       "count    50.0000000\n",
       "mean      0.0482048\n",
       "std       0.0073442\n",
       "min       0.0382822\n",
       "25%       0.0439157\n",
       "50%       0.0459208\n",
       "75%       0.0517323\n",
       "max       0.0818729\n",
       "Name: tempo_gasto, Length: 8, dtype: float64"
      ]
     },
     "execution_count": 232,
     "metadata": {},
     "output_type": "execute_result"
    }
   ],
   "source": [
    "df_tempos = pd.DataFrame({'tempo_gasto': tempo_gasto})\n",
    "df_tempos['tempo_gasto'].describe()"
   ]
  },
  {
   "cell_type": "code",
   "execution_count": 233,
   "metadata": {},
   "outputs": [
    {
     "data": {
      "image/png": "[encoded data removed]",
      "text/plain": [
       "<Figure size 640x480 with 1 Axes>"
      ]
     },
     "metadata": {},
     "output_type": "display_data"
    }
   ],
   "source": [
    "# Calculando média e mediana\n",
    "media = df_tempos['tempo_gasto'].mean()\n",
    "mediana = df_tempos['tempo_gasto'].median()\n",
    "\n",
    "# Plotando gráfico\n",
    "fig, ax = plt.subplots()\n",
    "ax.hist(df_tempos['tempo_gasto'], bins=50, color='blue', alpha=0.5)\n",
    "ax.axvline(media, color='red', linestyle='dashed', linewidth=2, label=f'Média = {media:.2f}')\n",
    "ax.axvline(mediana, color='green', linestyle='dashed', linewidth=2, label=f'Mediana = {mediana:.2f}')\n",
    "ax.set_xlabel('Tempo (s)')\n",
    "ax.set_ylabel('Frequência')\n",
    "ax.set_title('Distribuição de Tempos de Execução')\n",
    "ax.legend()\n",
    "plt.show()"
   ]
  },
  {
   "attachments": {},
   "cell_type": "markdown",
   "metadata": {},
   "source": [
    "##### Avaliação métricas"
   ]
  },
  {
   "cell_type": "code",
   "execution_count": 234,
   "metadata": {},
   "outputs": [
    {
     "name": "stdout",
     "output_type": "stream",
     "text": [
      "   query  q0     docid  rank      score       system\n",
      "0     44  Q0  b2yalnrx     1  14.035100  ComExpansao\n",
      "1     44  Q0  ugkxxaeb     2  13.430100  ComExpansao\n",
      "2     44  Q0  e9kroam2     3  12.773700  ComExpansao\n",
      "3     44  Q0  how1mfvf     4  12.773699  ComExpansao\n",
      "4     44  Q0  kmb6128p     5  12.773698  ComExpansao\n",
      "\n",
      "[5 rows x 6 columns]\n",
      "NDCG@10: 0.12145534236668482\n"
     ]
    }
   ],
   "source": [
    "\n",
    "### Calculando métricas\n",
    "run = pd.read_csv(f\"{CAMINHO_RUN}\", sep=\"\\s+\", \n",
    "                names=[\"query\", \"q0\", \"docid\", \"rank\", \"score\", \"system\"])\n",
    "print(run.head())\n",
    "run = run.to_dict(orient=\"list\")\n",
    "\n",
    "results = trec_eval.compute(predictions=[run], references=[qrel_dict])\n",
    "\n",
    "# salvando métricas    \n",
    "print(f\"NDCG@10: {results['NDCG@10']}\")\n"
   ]
  },
  {
   "cell_type": "code",
   "execution_count": 235,
   "metadata": {},
   "outputs": [],
   "source": [
    "resultado_execucao['ndcg_10'] = round(100*results['NDCG@10'],2)"
   ]
  },
  {
   "cell_type": "code",
   "execution_count": null,
   "metadata": {},
   "outputs": [],
   "source": []
  },
  {
   "cell_type": "code",
   "execution_count": null,
   "metadata": {},
   "outputs": [],
   "source": []
  },
  {
   "attachments": {},
   "cell_type": "markdown",
   "metadata": {},
   "source": [
    "# Testando corpus sem texto tokenizado"
   ]
  },
  {
   "attachments": {},
   "cell_type": "markdown",
   "metadata": {},
   "source": [
    "## ind_aggregation = max"
   ]
  },
  {
   "cell_type": "code",
   "execution_count": 266,
   "metadata": {},
   "outputs": [],
   "source": [
    "ind_agg = 'max'"
   ]
  },
  {
   "attachments": {},
   "cell_type": "markdown",
   "metadata": {},
   "source": [
    "#### Lendo os dados salvos"
   ]
  },
  {
   "cell_type": "code",
   "execution_count": null,
   "metadata": {},
   "outputs": [],
   "source": [
    "with open(CAMINHO_ARQUIVO_EXPANSAO_MAX, \"rb\") as f:\n",
    "  corpus_expanded = pickle.load(f).to_sparse()"
   ]
  },
  {
   "cell_type": "code",
   "execution_count": null,
   "metadata": {},
   "outputs": [
    {
     "data": {
      "text/plain": [
       "torch.Size([171332, 30522])"
      ]
     },
     "execution_count": 273,
     "metadata": {},
     "output_type": "execute_result"
    }
   ],
   "source": [
    "corpus_expanded.shape"
   ]
  },
  {
   "cell_type": "code",
   "execution_count": 267,
   "metadata": {},
   "outputs": [
    {
     "data": {
      "text/plain": [
       "tensor(indices=tensor([[ 2023,  2563,  2773,  2888,  2966,  3656,  3659,  4074,\n",
       "                         4172,  4295,  4422,  4789,  5081,  5125,  5292,  5305,\n",
       "                         5965,  6108,  6210,  6213,  6425,  6426,  6647,  6796,\n",
       "                         7004,  7240,  7305,  7355,  7366,  7482,  7865,  7870,\n",
       "                         8761,  8764,  8925,  8985,  9820,  9895,  9999, 10178,\n",
       "                        11798, 11829, 14765, 15403, 16311, 18583, 19108, 19340,\n",
       "                        19857, 22498, 24442, 26835, 28389]]),\n",
       "       values=tensor([8.1596e-01, 3.9217e-02, 8.8719e-02, 5.2040e-01,\n",
       "                      3.6793e-01, 3.9014e-02, 9.8482e-02, 1.5676e+00,\n",
       "                      1.1148e-02, 1.0893e+00, 2.8933e-01, 3.3384e-01,\n",
       "                      3.0651e-01, 1.9354e-03, 1.2646e-01, 3.4454e-02,\n",
       "                      3.2749e-01, 1.5451e-01, 1.6557e-01, 4.3859e-02,\n",
       "                      3.0756e-01, 3.7101e-01, 4.8870e-01, 4.6626e-01,\n",
       "                      2.5939e-01, 1.2494e-01, 6.3179e-01, 5.6989e-01,\n",
       "                      2.0486e-01, 1.7790e-01, 3.2088e-01, 1.3282e-01,\n",
       "                      3.1144e-01, 1.9828e-01, 1.3980e-01, 8.3574e-01,\n",
       "                      1.2718e-02, 4.0265e-01, 1.7752e-01, 1.5297e-01,\n",
       "                      2.6460e-01, 4.6303e-01, 4.3437e-02, 1.6648e-01,\n",
       "                      8.6604e-01, 1.9750e-01, 3.2909e-01, 5.7262e-01,\n",
       "                      2.0893e+00, 4.3341e-01, 2.8326e+00, 8.1695e-01,\n",
       "                      2.0936e-01]),\n",
       "       size=(30522,), nnz=53, layout=torch.sparse_coo)"
      ]
     },
     "execution_count": 267,
     "metadata": {},
     "output_type": "execute_result"
    }
   ],
   "source": [
    "corpus_expanded[3]"
   ]
  },
  {
   "attachments": {},
   "cell_type": "markdown",
   "metadata": {},
   "source": [
    "### Gerar corpus com texto \n",
    "   \n",
    "      .. entrada: corpus_extensao 171332 x 30522\n",
    "      .. saida:   lista com 171332 textos (tokens com valor nos 30mil)\n"
   ]
  },
  {
   "attachments": {},
   "cell_type": "markdown",
   "metadata": {},
   "source": [
    "#### Um tensor pequeno para teste"
   ]
  },
  {
   "cell_type": "code",
   "execution_count": 268,
   "metadata": {},
   "outputs": [
    {
     "data": {
      "text/plain": [
       "torch.Size([171184, 30522])"
      ]
     },
     "execution_count": 268,
     "metadata": {},
     "output_type": "execute_result"
    }
   ],
   "source": [
    "corpus_expanded.shape # torch.Size([171332, 30522])"
   ]
  },
  {
   "cell_type": "code",
   "execution_count": 269,
   "metadata": {},
   "outputs": [],
   "source": [
    "corpus_expanded_min = corpus_expanded.to_dense()[1000:1003].to_sparse()"
   ]
  },
  {
   "cell_type": "code",
   "execution_count": 270,
   "metadata": {},
   "outputs": [
    {
     "data": {
      "text/plain": [
       "torch.Size([3, 30522])"
      ]
     },
     "execution_count": 270,
     "metadata": {},
     "output_type": "execute_result"
    }
   ],
   "source": [
    "corpus_expanded_min.shape"
   ]
  },
  {
   "cell_type": "code",
   "execution_count": 292,
   "metadata": {},
   "outputs": [
    {
     "name": "stderr",
     "output_type": "stream",
     "text": [
      "100%|██████████| 3/3 [00:00<00:00, 1306.23it/s]"
     ]
    },
    {
     "name": "stdout",
     "output_type": "stream",
     "text": [
      "CPU times: user 4.74 ms, sys: 44 µs, total: 4.79 ms\n",
      "Wall time: 4.49 ms\n"
     ]
    },
    {
     "name": "stderr",
     "output_type": "stream",
     "text": [
      "\n"
     ]
    }
   ],
   "source": [
    "%%time\n",
    "jsonl_cardin_com_repeticao = retorna_tokens_expansao_jsonl(corpus_expanded_min, tokenizer, lista_doc_id_passage[1000:1003], valor_uma_ocorrencia=0.05)\n"
   ]
  },
  {
   "cell_type": "code",
   "execution_count": 293,
   "metadata": {},
   "outputs": [
    {
     "name": "stdout",
     "output_type": "stream",
     "text": [
      "{'id': '3ij83et1', 'contents': ' .  .  the  the  he  he  team  team  film  film  man  man  series  series  game  game  species  species  player  player  god  god  character  character  henry  henry  japan  japan  kill  kill  movie  movie  actor  actor  champion  champion  founder  founder  murder  murder  website  website  alex  alex  animal  animal  disease  disease  drug  drug  vampire  vampire  hunter  hunter  evil  evil  threat  threat  victor  victor  weapon  weapon  soldier  soldier  hero  hero  ghost  ghost  hunting  hunting  monster  monster  killer  killer  marcus  marcus  perry  perry  genre  genre  witch  witch  nathan  nathan  alien  alien  survival  survival  virus  virus  fake  fake  creator  creator  fisher  fisher  robot  robot  infection  infection  griffin  griffin  savage  savage  hunters  hunters  hawk  hawk  eden  eden  zombie  zombie  bug  bug  survivor  survivor  marty  marty  viral  viral  predator  predator  epidemic  epidemic  vaccine  vaccine  viruses  viruses  parasite  parasite  mosquito  mosquito  pathogen  pathogen '}\n"
     ]
    }
   ],
   "source": [
    "print(jsonl_cardin_com_repeticao[2])"
   ]
  },
  {
   "attachments": {},
   "cell_type": "markdown",
   "metadata": {},
   "source": [
    "Antes de ter repetições\n",
    "\n",
    "{'id': '3ij83et1', 'contents': '. the he team film man series game species player god character henry japan kill movie actor champion founder murder website alex animal disease drug vampire hunter evil threat victor weapon soldier hero ghost hunting monster killer marcus perry genre witch nathan alien survival virus fake creator fisher robot infection griffin savage hunters hawk eden zombie bug survivor marty viral predator epidemic vaccine viruses parasite mosquito pathogen'}"
   ]
  },
  {
   "cell_type": "code",
   "execution_count": 294,
   "metadata": {},
   "outputs": [
    {
     "name": "stdout",
     "output_type": "stream",
     "text": [
      "{'_id': '3ij83et1', 'title': 'The virus hunter.', 'text': '', 'metadata': {'url': 'https://www.ncbi.nlm.nih.gov/pubmed/14576238/', 'pubmed_id': '14576238'}, 'texto_titulo': 'The virus hunter.. '}\n"
     ]
    }
   ],
   "source": [
    "print(corpus[1002])"
   ]
  },
  {
   "attachments": {},
   "cell_type": "markdown",
   "metadata": {},
   "source": [
    "#### Rodando para todos"
   ]
  },
  {
   "cell_type": "code",
   "execution_count": 282,
   "metadata": {},
   "outputs": [],
   "source": [
    "normalized_values = (corpus_expanded_exparse._values() - corpus_expanded_exparse._values().min()) / (corpus_expanded_exparse._values().max() - corpus_expanded_exparse._values().min())\n"
   ]
  },
  {
   "cell_type": "code",
   "execution_count": 285,
   "metadata": {},
   "outputs": [
    {
     "data": {
      "image/png": "[encoded data removed]",
      "text/plain": [
       "<Figure size 640x480 with 1 Axes>"
      ]
     },
     "metadata": {},
     "output_type": "display_data"
    }
   ],
   "source": [
    "# Criar o histograma\n",
    "plt.hist(normalized_values.numpy(), bins=100)\n",
    "\n",
    "# Adicionar título e rótulos aos eixos\n",
    "plt.title(\"Histograma dos valores\")\n",
    "plt.xlabel(\"Valores\")\n",
    "plt.ylabel(\"Contagem\")\n",
    "\n",
    "# Mostrar o histograma\n",
    "plt.show()"
   ]
  },
  {
   "cell_type": "code",
   "execution_count": 284,
   "metadata": {},
   "outputs": [
    {
     "data": {
      "text/plain": [
       "(tensor(0.), tensor(1.7027e-01), tensor(1.3081e-01), tensor(1.0000e+00))"
      ]
     },
     "execution_count": 284,
     "metadata": {},
     "output_type": "execute_result"
    }
   ],
   "source": [
    "normalized_values.min(), normalized_values.mean(), normalized_values.median(), normalized_values.max()"
   ]
  },
  {
   "cell_type": "code",
   "execution_count": 295,
   "metadata": {},
   "outputs": [
    {
     "name": "stderr",
     "output_type": "stream",
     "text": [
      "100%|██████████| 171184/171184 [50:19<00:00, 56.68it/s]"
     ]
    },
    {
     "name": "stdout",
     "output_type": "stream",
     "text": [
      "CPU times: user 8h 22min 21s, sys: 1min 4s, total: 8h 23min 26s\n",
      "Wall time: 50min 20s\n"
     ]
    },
    {
     "name": "stderr",
     "output_type": "stream",
     "text": [
      "\n"
     ]
    }
   ],
   "source": [
    "%%time\n",
    "jsonl_cardin = retorna_tokens_expansao_jsonl(corpus_expanded.to_sparse(), tokenizer,\n",
    "                                             lista_doc_id_passage, valor_uma_ocorrencia=0.05)\n"
   ]
  },
  {
   "cell_type": "code",
   "execution_count": 296,
   "metadata": {},
   "outputs": [],
   "source": [
    "with open(CAMINHO_CARDIN_MAX_PICKLE, 'wb') as outputFile:\n",
    "    pickle.dump(jsonl_cardin, outputFile, pickle.HIGHEST_PROTOCOL)"
   ]
  },
  {
   "cell_type": "code",
   "execution_count": 298,
   "metadata": {},
   "outputs": [
    {
     "name": "stdout",
     "output_type": "stream",
     "text": [
      "Tempo para construir o índice (cpu): 3020\n"
     ]
    }
   ],
   "source": [
    "tempo_construcao_indice_splade_lucene =  50 * 60 + 20\n",
    "print(f\"Tempo para construir o índice (cpu): {tempo_construcao_indice_splade_lucene}\")"
   ]
  },
  {
   "attachments": {},
   "cell_type": "markdown",
   "metadata": {},
   "source": [
    "### Gerar índice com texto sem pré-processamento\n",
    "   \n",
    "      .. entrada: 171mil textos (tokens com valor nos 30mil)\n",
    "      .. saída: índice lucene\n"
   ]
  },
  {
   "cell_type": "code",
   "execution_count": 423,
   "metadata": {},
   "outputs": [],
   "source": [
    "with open(CAMINHO_CARDIN_MAX_PICKLE, \"rb\") as f:\n",
    "  jsonl_cardin = pickle.load(f)"
   ]
  },
  {
   "cell_type": "code",
   "execution_count": 305,
   "metadata": {},
   "outputs": [
    {
     "data": {
      "text/plain": [
       "('/home/borela/fontes/deep_learning_em_buscas_unicamp/local/tradeoff/cardin_splade_max',\n",
       " '/home/borela/fontes/deep_learning_em_buscas_unicamp/local/tradeoff/cardin_splade_max/trec-covid-splade.jsonl')"
      ]
     },
     "execution_count": 305,
     "metadata": {},
     "output_type": "execute_result"
    }
   ],
   "source": [
    "DIRETORIO_CARDIN_MAX,  CAMINHO_CARDIN_MAX"
   ]
  },
  {
   "cell_type": "code",
   "execution_count": 302,
   "metadata": {},
   "outputs": [
    {
     "name": "stdout",
     "output_type": "stream",
     "text": [
      "CPU times: user 1.55 s, sys: 340 ms, total: 1.89 s\n",
      "Wall time: 1.89 s\n"
     ]
    }
   ],
   "source": [
    "%%time\n",
    "with open(CAMINHO_CARDIN_MAX, 'w') as arquivo:\n",
    "    for doc in jsonl_cardin:\n",
    "        # Converte o dicionário em uma string JSON\n",
    "        linha_json = json.dumps(doc)\n",
    "        # Escreve a linha JSON no arquivo\n",
    "        arquivo.write(f'{linha_json}\\n')"
   ]
  },
  {
   "cell_type": "code",
   "execution_count": 303,
   "metadata": {},
   "outputs": [
    {
     "data": {
      "text/plain": [
       "'/home/borela/fontes/deep_learning_em_buscas_unicamp/local/tradeoff/cardin_splade_max/trec-covid-splade.jsonl'"
      ]
     },
     "execution_count": 303,
     "metadata": {},
     "output_type": "execute_result"
    }
   ],
   "source": [
    "CAMINHO_CARDIN_MAX"
   ]
  },
  {
   "cell_type": "code",
   "execution_count": null,
   "metadata": {},
   "outputs": [],
   "source": [
    "if os.path.exists(DIRETORIO_INDICE):\n",
    "    shutil.rmtree(DIRETORIO_INDICE)"
   ]
  },
  {
   "cell_type": "code",
   "execution_count": 310,
   "metadata": {},
   "outputs": [
    {
     "name": "stdout",
     "output_type": "stream",
     "text": [
      "WARNING: sun.reflect.Reflection.getCallerClass is not supported. This will impact performance.\n",
      "2023-05-10 00:22:45,170 INFO  [main] index.IndexCollection (IndexCollection.java:380) - Setting log level to INFO\n",
      "2023-05-10 00:22:45,171 INFO  [main] index.IndexCollection (IndexCollection.java:383) - Starting indexer...\n",
      "2023-05-10 00:22:45,171 INFO  [main] index.IndexCollection (IndexCollection.java:384) - ============ Loading Parameters ============\n",
      "2023-05-10 00:22:45,172 INFO  [main] index.IndexCollection (IndexCollection.java:385) - DocumentCollection path: /home/borela/fontes/deep_learning_em_buscas_unicamp/local/tradeoff/cardin_splade_max\n",
      "2023-05-10 00:22:45,172 INFO  [main] index.IndexCollection (IndexCollection.java:386) - CollectionClass: JsonCollection\n",
      "2023-05-10 00:22:45,172 INFO  [main] index.IndexCollection (IndexCollection.java:387) - Generator: DefaultLuceneDocumentGenerator\n",
      "2023-05-10 00:22:45,172 INFO  [main] index.IndexCollection (IndexCollection.java:388) - Threads: 9\n",
      "2023-05-10 00:22:45,172 INFO  [main] index.IndexCollection (IndexCollection.java:389) - Language: en\n",
      "2023-05-10 00:22:45,172 INFO  [main] index.IndexCollection (IndexCollection.java:390) - Stemmer: porter\n",
      "2023-05-10 00:22:45,172 INFO  [main] index.IndexCollection (IndexCollection.java:391) - Keep stopwords? false\n",
      "2023-05-10 00:22:45,173 INFO  [main] index.IndexCollection (IndexCollection.java:392) - Stopwords: null\n",
      "2023-05-10 00:22:45,173 INFO  [main] index.IndexCollection (IndexCollection.java:393) - Store positions? true\n",
      "2023-05-10 00:22:45,173 INFO  [main] index.IndexCollection (IndexCollection.java:394) - Store docvectors? true\n",
      "2023-05-10 00:22:45,173 INFO  [main] index.IndexCollection (IndexCollection.java:395) - Store document \"contents\" field? false\n",
      "2023-05-10 00:22:45,173 INFO  [main] index.IndexCollection (IndexCollection.java:396) - Store document \"raw\" field? true\n",
      "2023-05-10 00:22:45,173 INFO  [main] index.IndexCollection (IndexCollection.java:397) - Additional fields to index: []\n",
      "2023-05-10 00:22:45,173 INFO  [main] index.IndexCollection (IndexCollection.java:398) - Optimize (merge segments)? false\n",
      "2023-05-10 00:22:45,174 INFO  [main] index.IndexCollection (IndexCollection.java:399) - Whitelist: null\n",
      "2023-05-10 00:22:45,174 INFO  [main] index.IndexCollection (IndexCollection.java:400) - Pretokenized?: true\n",
      "2023-05-10 00:22:45,174 INFO  [main] index.IndexCollection (IndexCollection.java:401) - Index path: /home/borela/fontes/deep_learning_em_buscas_unicamp/local/tradeoff/indexes/trec-covid-expanded-splade-index\n",
      "2023-05-10 00:22:45,187 INFO  [main] index.IndexCollection (IndexCollection.java:481) - ============ Indexing Collection ============\n",
      "2023-05-10 00:22:45,402 INFO  [main] index.IndexCollection (IndexCollection.java:510) - Thread pool with 9 threads initialized.\n",
      "2023-05-10 00:22:45,403 INFO  [main] index.IndexCollection (IndexCollection.java:512) - Initializing collection in /home/borela/fontes/deep_learning_em_buscas_unicamp/local/tradeoff/cardin_splade_max\n",
      "2023-05-10 00:22:45,404 INFO  [main] index.IndexCollection (IndexCollection.java:521) - 1 file found\n",
      "2023-05-10 00:22:45,404 INFO  [main] index.IndexCollection (IndexCollection.java:522) - Starting to index...\n",
      "2023-05-10 00:23:11,991 DEBUG [pool-2-thread-1] index.IndexCollection$LocalIndexerThread (IndexCollection.java:345) - cardin_splade_max/trec-covid-splade.jsonl: 171184 docs added.\n",
      "2023-05-10 00:23:17,582 INFO  [main] index.IndexCollection (IndexCollection.java:578) - Indexing Complete! 171.184 documents indexed\n",
      "2023-05-10 00:23:17,582 INFO  [main] index.IndexCollection (IndexCollection.java:579) - ============ Final Counter Values ============\n",
      "2023-05-10 00:23:17,583 INFO  [main] index.IndexCollection (IndexCollection.java:580) - indexed:          171.184\n",
      "2023-05-10 00:23:17,583 INFO  [main] index.IndexCollection (IndexCollection.java:581) - unindexable:            0\n",
      "2023-05-10 00:23:17,583 INFO  [main] index.IndexCollection (IndexCollection.java:582) - empty:                  0\n",
      "2023-05-10 00:23:17,584 INFO  [main] index.IndexCollection (IndexCollection.java:583) - skipped:                0\n",
      "2023-05-10 00:23:17,584 INFO  [main] index.IndexCollection (IndexCollection.java:584) - errors:                 0\n",
      "2023-05-10 00:23:17,612 INFO  [main] index.IndexCollection (IndexCollection.java:587) - Total 171.184 documents indexed in 00:00:32\n",
      "CPU times: user 354 ms, sys: 104 ms, total: 458 ms\n",
      "Wall time: 33.9 s\n"
     ]
    }
   ],
   "source": [
    "%%time\n",
    "\"\"\"\n",
    "generator RawDocumentGenerator: sem pré-processamento\n",
    "        Quando usamos o DefaultLuceneDocumentGenerator, o processo de pré-processamento é aplicado ao texto do documento antes de ser indexado, incluindo a remoção de stopwords, aplicação de stemização, tokenização, entre outros.\n",
    "\n",
    "        Já com o RawDocumentGenerator, o texto do documento é indexado exatamente como é, sem aplicar nenhum tipo de pré-processamento. Isso significa que a indexação será mais rápida e que as consultas serão feitas diretamente no texto original, sem serem afetadas por nenhum processamento adicional.\n",
    "\n",
    "        The important indexing options to note here are --impact --pretokenized: the first tells Anserini not to encode BM25 doclengths into Lucene's norms (which is the default) and the second option says not to apply any additional tokenization on the DeepImpact tokens.\n",
    "                Fonte: https://github.com/castorini/pyserini/blob/master/docs/experiments-deepimpact.md\n",
    "\"\"\"\n",
    "!python -m pyserini.index.lucene \\\n",
    "        --collection JsonCollection \\\n",
    "        --input {DIRETORIO_CARDIN_MAX} \\\n",
    "        --index {DIRETORIO_INDICE} \\\n",
    "        --threads 9 \\\n",
    "        --storePositions --storeDocvectors \\\n",
    "        --storeRaw  \\\n",
    "        --impact --pretokenized\n",
    "        \n",
    "#> /dev/null 2>&1 "
   ]
  },
  {
   "cell_type": "code",
   "execution_count": 311,
   "metadata": {},
   "outputs": [
    {
     "name": "stdout",
     "output_type": "stream",
     "text": [
      "Tempo para construir o índice (cpu): 3053\n"
     ]
    }
   ],
   "source": [
    "tempo_construcao_indice_splade_lucene +=  33\n",
    "print(f\"Tempo para construir o índice (cpu): {tempo_construcao_indice_splade_lucene}\")"
   ]
  },
  {
   "cell_type": "code",
   "execution_count": 312,
   "metadata": {},
   "outputs": [
    {
     "name": "stdout",
     "output_type": "stream",
     "text": [
      "{'total_terms': 61882602, 'documents': 171184, 'non_empty_documents': 171184, 'unique_terms': 26245}\n"
     ]
    }
   ],
   "source": [
    "# Imprimindo estatísticas do índice\n",
    "index_reader = IndexReader(DIRETORIO_INDICE)\n",
    "print(index_reader.stats())"
   ]
  },
  {
   "cell_type": "code",
   "execution_count": 314,
   "metadata": {},
   "outputs": [],
   "source": [
    "searcher = LuceneSearcher(DIRETORIO_INDICE) # './indexes/lucene-index-msmarco-passage')\n",
    "searcher.set_bm25(k1=1.12, b=0.4)  "
   ]
  },
  {
   "cell_type": "code",
   "execution_count": 316,
   "metadata": {},
   "outputs": [],
   "source": [
    "import subprocess\n"
   ]
  },
  {
   "cell_type": "code",
   "execution_count": 317,
   "metadata": {},
   "outputs": [],
   "source": [
    "tamanho_em_bytes_indice_trecc_splade = int(subprocess.check_output(['du', '-b', DIRETORIO_INDICE]).split()[0])\n"
   ]
  },
  {
   "cell_type": "code",
   "execution_count": 318,
   "metadata": {},
   "outputs": [
    {
     "name": "stdout",
     "output_type": "stream",
     "text": [
      "O tamanho do índice é: 587578693 bytes\n"
     ]
    }
   ],
   "source": [
    "print(\"O tamanho do índice é:\", tamanho_em_bytes_indice_trecc_splade, \"bytes\")\n",
    "\n"
   ]
  },
  {
   "attachments": {},
   "cell_type": "markdown",
   "metadata": {},
   "source": [
    "### Realizar buscas para as queries"
   ]
  },
  {
   "cell_type": "markdown",
   "metadata": {},
   "source": [
    "#### Sem expansão da query"
   ]
  },
  {
   "cell_type": "code",
   "execution_count": 361,
   "metadata": {},
   "outputs": [],
   "source": [
    "nome_pipeline = 'splade_cocondenser_max_com_sep_sem_exp_query_lucene_repete'"
   ]
  },
  {
   "cell_type": "code",
   "execution_count": 362,
   "metadata": {},
   "outputs": [],
   "source": [
    "resultado_execucao = {}"
   ]
  },
  {
   "cell_type": "code",
   "execution_count": 363,
   "metadata": {},
   "outputs": [],
   "source": [
    "resultado_execucao['tempo_indexacao_segundo'] = [{'tipo':'gpu', 'valor': tempo_construcao_indice_splade}, {'tipo':'cpu', 'valor': tempo_construcao_indice_splade_lucene}]\n",
    "resultado_execucao['memoria_indice_byte_ram'] = tamanho_em_bytes_indice_trecc_splade\n",
    "resultado_execucao['se_retrieval_usa_gpu'] = False"
   ]
  },
  {
   "cell_type": "code",
   "execution_count": 364,
   "metadata": {},
   "outputs": [],
   "source": [
    "se_expande_query = 'N'"
   ]
  },
  {
   "cell_type": "code",
   "execution_count": 365,
   "metadata": {},
   "outputs": [
    {
     "name": "stdout",
     "output_type": "stream",
     "text": [
      "Running 50 queries in total\n"
     ]
    }
   ],
   "source": [
    "tempo_gasto = run_all_queries_lucene_splade(file=CAMINHO_RUN, \n",
    "                                     topics=topics,\n",
    "                                     searcher=searcher,\n",
    "                                     parm_tokenizer=tokenizer,\n",
    "                                     parm_se_query_expansion= (se_expande_query == 'S'),\n",
    "                                     parm_ind_agg_se_query_expansion='max',\n",
    "                                     parm_num_max_hits=1000)\n"
   ]
  },
  {
   "attachments": {},
   "cell_type": "markdown",
   "metadata": {},
   "source": [
    "### Avaliação latência"
   ]
  },
  {
   "cell_type": "code",
   "execution_count": 366,
   "metadata": {},
   "outputs": [
    {
     "data": {
      "text/plain": [
       "count    50.0000000\n",
       "mean      0.0401389\n",
       "std       0.0037447\n",
       "min       0.0360098\n",
       "25%       0.0374627\n",
       "50%       0.0393313\n",
       "75%       0.0415176\n",
       "max       0.0557473\n",
       "Name: tempo_gasto, Length: 8, dtype: float64"
      ]
     },
     "execution_count": 366,
     "metadata": {},
     "output_type": "execute_result"
    }
   ],
   "source": [
    "df_tempos = pd.DataFrame({'tempo_gasto': tempo_gasto})\n",
    "df_tempos['tempo_gasto'].describe()"
   ]
  },
  {
   "cell_type": "code",
   "execution_count": 367,
   "metadata": {},
   "outputs": [],
   "source": [
    "resultado_execucao['retrieval_tempo_medio_por_query'] = round(df_tempos['tempo_gasto'].describe()['mean'],6)"
   ]
  },
  {
   "cell_type": "code",
   "execution_count": 368,
   "metadata": {},
   "outputs": [
    {
     "data": {
      "image/png": "[encoded data removed]",
      "text/plain": [
       "<Figure size 640x480 with 1 Axes>"
      ]
     },
     "metadata": {},
     "output_type": "display_data"
    }
   ],
   "source": [
    "# Calculando média e mediana\n",
    "media = df_tempos['tempo_gasto'].mean()\n",
    "mediana = df_tempos['tempo_gasto'].median()\n",
    "\n",
    "# Plotando gráfico\n",
    "fig, ax = plt.subplots()\n",
    "ax.hist(df_tempos['tempo_gasto'], bins=50, color='blue', alpha=0.5)\n",
    "ax.axvline(media, color='red', linestyle='dashed', linewidth=2, label=f'Média = {media:.2f}')\n",
    "ax.axvline(mediana, color='green', linestyle='dashed', linewidth=2, label=f'Mediana = {mediana:.2f}')\n",
    "ax.set_xlabel('Tempo (s)')\n",
    "ax.set_ylabel('Frequência')\n",
    "ax.set_title('Distribuição de Tempos de Execução')\n",
    "ax.legend()\n",
    "plt.show()"
   ]
  },
  {
   "attachments": {},
   "cell_type": "markdown",
   "metadata": {},
   "source": [
    "##### Avaliação métricas"
   ]
  },
  {
   "cell_type": "code",
   "execution_count": 369,
   "metadata": {},
   "outputs": [
    {
     "name": "stdout",
     "output_type": "stream",
     "text": [
      "   query  q0     docid  rank      score       system\n",
      "0     44  Q0  b2yalnrx     1  17.224400  ComExpansao\n",
      "1     44  Q0  hwl5fsu1     2  14.098300  ComExpansao\n",
      "2     44  Q0  srkd3wh0     3  14.098299  ComExpansao\n",
      "3     44  Q0  dsmdqp2o     4  13.926200  ComExpansao\n",
      "4     44  Q0  tstx42h7     5  13.607900  ComExpansao\n",
      "\n",
      "[5 rows x 6 columns]\n",
      "NDCG@10: 0.17127746121542514\n"
     ]
    }
   ],
   "source": [
    "\n",
    "### Calculando métricas\n",
    "run = pd.read_csv(f\"{CAMINHO_RUN}\", sep=\"\\s+\", \n",
    "                names=[\"query\", \"q0\", \"docid\", \"rank\", \"score\", \"system\"])\n",
    "print(run.head())\n",
    "run = run.to_dict(orient=\"list\")\n",
    "\n",
    "results = trec_eval.compute(predictions=[run], references=[qrel_dict])\n",
    "\n",
    "# salvando métricas    \n",
    "print(f\"NDCG@10: {results['NDCG@10']}\")\n"
   ]
  },
  {
   "cell_type": "code",
   "execution_count": 370,
   "metadata": {},
   "outputs": [],
   "source": [
    "resultado_execucao['ndcg_10'] = round(100*results['NDCG@10'],2)"
   ]
  },
  {
   "cell_type": "code",
   "execution_count": 371,
   "metadata": {},
   "outputs": [
    {
     "name": "stdout",
     "output_type": "stream",
     "text": [
      "resultado_pipeline[splade_cocondenser_max_com_sep_sem_exp_query_lucene_repete] {'tempo_indexacao_segundo': [{'tipo': 'gpu', 'valor': 1470}, {'tipo': 'cpu', 'valor': 3053}], 'memoria_indice_byte_ram': 587578693, 'se_retrieval_usa_gpu': False, 'retrieval_tempo_medio_por_query': 0.040139, 'ndcg_10': 17.13}\n"
     ]
    }
   ],
   "source": [
    "resultado_pipeline[nome_pipeline] = resultado_execucao\n",
    "print(f\"resultado_pipeline[{nome_pipeline}] {resultado_pipeline[nome_pipeline]}\")"
   ]
  },
  {
   "cell_type": "code",
   "execution_count": null,
   "metadata": {},
   "outputs": [
    {
     "name": "stdout",
     "output_type": "stream",
     "text": [
      "{'utilizacao_perfeita': {'usd_query': 3.65e-07, 'usd_dia': 0.785658393470592, 'usd_gpu_dia': 0, 'usd_mes': 23.569751804117757, 'usd_indexacao_tempo': 0.037690159}, 'utilizacao_precaria_100': {'usd_query': 0.0078565839, 'usd_dia': 0.785658393470592, 'usd_gpu_dia': 0, 'usd_mes': 23.569751804117757, 'usd_indexacao_tempo': 0.037690159}}\n"
     ]
    }
   ],
   "source": [
    "avaliacao_pipeline_contexto[nome_pipeline] = retorna_calculo_contexto(resultado_execucao, parm_tipo_gpu='3090')\n",
    "print(avaliacao_pipeline_contexto[nome_pipeline] )"
   ]
  },
  {
   "attachments": {},
   "cell_type": "markdown",
   "metadata": {},
   "source": [
    "### Sem repetição de palavras"
   ]
  },
  {
   "cell_type": "code",
   "execution_count": 384,
   "metadata": {},
   "outputs": [
    {
     "name": "stderr",
     "output_type": "stream",
     "text": [
      "100%|██████████| 171184/171184 [43:55<00:00, 64.94it/s]\n"
     ]
    },
    {
     "name": "stdout",
     "output_type": "stream",
     "text": [
      "CPU times: user 7h 19min 1s, sys: 28.2 s, total: 7h 19min 30s\n",
      "Wall time: 43min 56s\n"
     ]
    }
   ],
   "source": [
    "%%time\n",
    "jsonl_cardin = retorna_tokens_expansao_jsonl(corpus_expanded.to_sparse(), tokenizer,\n",
    "                                             lista_doc_id_passage, valor_uma_ocorrencia=None)\n"
   ]
  },
  {
   "cell_type": "code",
   "execution_count": 386,
   "metadata": {},
   "outputs": [
    {
     "name": "stdout",
     "output_type": "stream",
     "text": [
      "Tempo para construir o índice (cpu): 2636\n"
     ]
    }
   ],
   "source": [
    "tempo_construcao_indice_splade_lucene =  43 * 60 + 56\n",
    "print(f\"Tempo para construir o índice (cpu): {tempo_construcao_indice_splade_lucene}\")"
   ]
  },
  {
   "attachments": {},
   "cell_type": "markdown",
   "metadata": {},
   "source": [
    "### Gerar índice com texto sem pré-processamento\n",
    "   \n",
    "      .. entrada: 171mil textos (tokens com valor nos 30mil)\n",
    "      .. saída: índice lucene\n"
   ]
  },
  {
   "cell_type": "code",
   "execution_count": null,
   "metadata": {},
   "outputs": [],
   "source": [
    "with open(CAMINHO_CARDIN_MAX_PICKLE, \"rb\") as f:\n",
    "  jsonl_cardin = pickle.load(f)"
   ]
  },
  {
   "cell_type": "code",
   "execution_count": null,
   "metadata": {},
   "outputs": [
    {
     "data": {
      "text/plain": [
       "('/home/borela/fontes/deep_learning_em_buscas_unicamp/local/tradeoff/cardin_splade_max',\n",
       " '/home/borela/fontes/deep_learning_em_buscas_unicamp/local/tradeoff/cardin_splade_max/trec-covid-splade.jsonl')"
      ]
     },
     "metadata": {},
     "output_type": "display_data"
    }
   ],
   "source": [
    "DIRETORIO_CARDIN_MAX,  CAMINHO_CARDIN_MAX"
   ]
  },
  {
   "cell_type": "code",
   "execution_count": 387,
   "metadata": {},
   "outputs": [
    {
     "data": {
      "text/plain": [
       "'/home/borela/fontes/deep_learning_em_buscas_unicamp/local/tradeoff/cardin_splade_max/trec-covid-splade.jsonl_sem_repeticao'"
      ]
     },
     "execution_count": 387,
     "metadata": {},
     "output_type": "execute_result"
    }
   ],
   "source": [
    " f\"{CAMINHO_CARDIN_MAX}-sem-repeticao\""
   ]
  },
  {
   "cell_type": "code",
   "execution_count": 388,
   "metadata": {},
   "outputs": [
    {
     "name": "stdout",
     "output_type": "stream",
     "text": [
      "CPU times: user 807 ms, sys: 192 ms, total: 999 ms\n",
      "Wall time: 1 s\n"
     ]
    }
   ],
   "source": [
    "%%time\n",
    "with open(f\"{CAMINHO_CARDIN_MAX}\", 'w') as arquivo:\n",
    "    for doc in jsonl_cardin:\n",
    "        # Converte o dicionário em uma string JSON\n",
    "        linha_json = json.dumps(doc)\n",
    "        # Escreve a linha JSON no arquivo\n",
    "        arquivo.write(f'{linha_json}\\n')"
   ]
  },
  {
   "cell_type": "code",
   "execution_count": 389,
   "metadata": {},
   "outputs": [],
   "source": [
    "if os.path.exists(DIRETORIO_INDICE):\n",
    "    shutil.rmtree(DIRETORIO_INDICE)"
   ]
  },
  {
   "cell_type": "code",
   "execution_count": 390,
   "metadata": {},
   "outputs": [
    {
     "name": "stdout",
     "output_type": "stream",
     "text": [
      "WARNING: sun.reflect.Reflection.getCallerClass is not supported. This will impact performance.\n",
      "2023-05-10 09:29:41,192 INFO  [main] index.IndexCollection (IndexCollection.java:380) - Setting log level to INFO\n",
      "2023-05-10 09:29:41,193 INFO  [main] index.IndexCollection (IndexCollection.java:383) - Starting indexer...\n",
      "2023-05-10 09:29:41,193 INFO  [main] index.IndexCollection (IndexCollection.java:384) - ============ Loading Parameters ============\n",
      "2023-05-10 09:29:41,193 INFO  [main] index.IndexCollection (IndexCollection.java:385) - DocumentCollection path: /home/borela/fontes/deep_learning_em_buscas_unicamp/local/tradeoff/cardin_splade_max\n",
      "2023-05-10 09:29:41,193 INFO  [main] index.IndexCollection (IndexCollection.java:386) - CollectionClass: JsonCollection\n",
      "2023-05-10 09:29:41,193 INFO  [main] index.IndexCollection (IndexCollection.java:387) - Generator: DefaultLuceneDocumentGenerator\n",
      "2023-05-10 09:29:41,193 INFO  [main] index.IndexCollection (IndexCollection.java:388) - Threads: 9\n",
      "2023-05-10 09:29:41,193 INFO  [main] index.IndexCollection (IndexCollection.java:389) - Language: en\n",
      "2023-05-10 09:29:41,193 INFO  [main] index.IndexCollection (IndexCollection.java:390) - Stemmer: porter\n",
      "2023-05-10 09:29:41,194 INFO  [main] index.IndexCollection (IndexCollection.java:391) - Keep stopwords? false\n",
      "2023-05-10 09:29:41,194 INFO  [main] index.IndexCollection (IndexCollection.java:392) - Stopwords: null\n",
      "2023-05-10 09:29:41,194 INFO  [main] index.IndexCollection (IndexCollection.java:393) - Store positions? true\n",
      "2023-05-10 09:29:41,194 INFO  [main] index.IndexCollection (IndexCollection.java:394) - Store docvectors? true\n",
      "2023-05-10 09:29:41,194 INFO  [main] index.IndexCollection (IndexCollection.java:395) - Store document \"contents\" field? false\n",
      "2023-05-10 09:29:41,194 INFO  [main] index.IndexCollection (IndexCollection.java:396) - Store document \"raw\" field? true\n",
      "2023-05-10 09:29:41,194 INFO  [main] index.IndexCollection (IndexCollection.java:397) - Additional fields to index: []\n",
      "2023-05-10 09:29:41,195 INFO  [main] index.IndexCollection (IndexCollection.java:398) - Optimize (merge segments)? false\n",
      "2023-05-10 09:29:41,195 INFO  [main] index.IndexCollection (IndexCollection.java:399) - Whitelist: null\n",
      "2023-05-10 09:29:41,195 INFO  [main] index.IndexCollection (IndexCollection.java:400) - Pretokenized?: true\n",
      "2023-05-10 09:29:41,195 INFO  [main] index.IndexCollection (IndexCollection.java:401) - Index path: /home/borela/fontes/deep_learning_em_buscas_unicamp/local/tradeoff/indexes/trec-covid-expanded-splade-index\n",
      "2023-05-10 09:29:41,196 INFO  [main] index.IndexCollection (IndexCollection.java:481) - ============ Indexing Collection ============\n",
      "2023-05-10 09:29:41,267 INFO  [main] index.IndexCollection (IndexCollection.java:510) - Thread pool with 9 threads initialized.\n",
      "2023-05-10 09:29:41,268 INFO  [main] index.IndexCollection (IndexCollection.java:512) - Initializing collection in /home/borela/fontes/deep_learning_em_buscas_unicamp/local/tradeoff/cardin_splade_max\n",
      "2023-05-10 09:29:41,269 INFO  [main] index.IndexCollection (IndexCollection.java:521) - 1 file found\n",
      "2023-05-10 09:29:41,269 INFO  [main] index.IndexCollection (IndexCollection.java:522) - Starting to index...\n",
      "2023-05-10 09:30:08,038 DEBUG [pool-2-thread-1] index.IndexCollection$LocalIndexerThread (IndexCollection.java:345) - cardin_splade_max/trec-covid-splade.jsonl: 171184 docs added.\n",
      "2023-05-10 09:30:13,016 INFO  [main] index.IndexCollection (IndexCollection.java:578) - Indexing Complete! 171.184 documents indexed\n",
      "2023-05-10 09:30:13,016 INFO  [main] index.IndexCollection (IndexCollection.java:579) - ============ Final Counter Values ============\n",
      "2023-05-10 09:30:13,016 INFO  [main] index.IndexCollection (IndexCollection.java:580) - indexed:          171.184\n",
      "2023-05-10 09:30:13,017 INFO  [main] index.IndexCollection (IndexCollection.java:581) - unindexable:            0\n",
      "2023-05-10 09:30:13,017 INFO  [main] index.IndexCollection (IndexCollection.java:582) - empty:                  0\n",
      "2023-05-10 09:30:13,017 INFO  [main] index.IndexCollection (IndexCollection.java:583) - skipped:                0\n",
      "2023-05-10 09:30:13,017 INFO  [main] index.IndexCollection (IndexCollection.java:584) - errors:                 0\n",
      "2023-05-10 09:30:13,021 INFO  [main] index.IndexCollection (IndexCollection.java:587) - Total 171.184 documents indexed in 00:00:31\n",
      "CPU times: user 295 ms, sys: 144 ms, total: 439 ms\n",
      "Wall time: 33.3 s\n"
     ]
    }
   ],
   "source": [
    "%%time\n",
    "\"\"\"\n",
    "generator RawDocumentGenerator: sem pré-processamento\n",
    "        Quando usamos o DefaultLuceneDocumentGenerator, o processo de pré-processamento é aplicado ao texto do documento antes de ser indexado, incluindo a remoção de stopwords, aplicação de stemização, tokenização, entre outros.\n",
    "\n",
    "        Já com o RawDocumentGenerator, o texto do documento é indexado exatamente como é, sem aplicar nenhum tipo de pré-processamento. Isso significa que a indexação será mais rápida e que as consultas serão feitas diretamente no texto original, sem serem afetadas por nenhum processamento adicional.\n",
    "\n",
    "        The important indexing options to note here are --impact --pretokenized: the first tells Anserini not to encode BM25 doclengths into Lucene's norms (which is the default) and the second option says not to apply any additional tokenization on the DeepImpact tokens.\n",
    "                Fonte: https://github.com/castorini/pyserini/blob/master/docs/experiments-deepimpact.md\n",
    "\"\"\"\n",
    "!python -m pyserini.index.lucene \\\n",
    "        --collection JsonCollection \\\n",
    "        --input {DIRETORIO_CARDIN_MAX} \\\n",
    "        --index {DIRETORIO_INDICE} \\\n",
    "        --threads 9 \\\n",
    "        --storePositions --storeDocvectors \\\n",
    "        --storeRaw  \\\n",
    "        --impact --pretokenized\n",
    "        \n",
    "#> /dev/null 2>&1 "
   ]
  },
  {
   "cell_type": "code",
   "execution_count": 391,
   "metadata": {},
   "outputs": [
    {
     "name": "stdout",
     "output_type": "stream",
     "text": [
      "Tempo para construir o índice (cpu): 2669\n"
     ]
    }
   ],
   "source": [
    "tempo_construcao_indice_splade_lucene +=  33\n",
    "print(f\"Tempo para construir o índice (cpu): {tempo_construcao_indice_splade_lucene}\")"
   ]
  },
  {
   "cell_type": "code",
   "execution_count": 392,
   "metadata": {},
   "outputs": [
    {
     "name": "stdout",
     "output_type": "stream",
     "text": [
      "{'total_terms': 61882602, 'documents': 171184, 'non_empty_documents': 171184, 'unique_terms': 26245}\n"
     ]
    }
   ],
   "source": [
    "# Imprimindo estatísticas do índice\n",
    "index_reader = IndexReader(DIRETORIO_INDICE)\n",
    "print(index_reader.stats())"
   ]
  },
  {
   "cell_type": "code",
   "execution_count": 393,
   "metadata": {},
   "outputs": [],
   "source": [
    "searcher = LuceneSearcher(DIRETORIO_INDICE) # './indexes/lucene-index-msmarco-passage')\n",
    "searcher.set_bm25(k1=1.12, b=0.4)  "
   ]
  },
  {
   "cell_type": "code",
   "execution_count": 394,
   "metadata": {},
   "outputs": [],
   "source": [
    "tamanho_em_bytes_indice_trecc_splade = int(subprocess.check_output(['du', '-b', DIRETORIO_INDICE]).split()[0])\n"
   ]
  },
  {
   "cell_type": "code",
   "execution_count": 395,
   "metadata": {},
   "outputs": [
    {
     "name": "stdout",
     "output_type": "stream",
     "text": [
      "O tamanho do índice é: 587578693 bytes\n"
     ]
    }
   ],
   "source": [
    "print(\"O tamanho do índice é:\", tamanho_em_bytes_indice_trecc_splade, \"bytes\")\n",
    "\n"
   ]
  },
  {
   "cell_type": "code",
   "execution_count": 396,
   "metadata": {},
   "outputs": [],
   "source": [
    "nome_pipeline = 'splade_max_com_sep_sem_exp_query_lucene'"
   ]
  },
  {
   "cell_type": "code",
   "execution_count": 397,
   "metadata": {},
   "outputs": [],
   "source": [
    "resultado_execucao = {}"
   ]
  },
  {
   "cell_type": "code",
   "execution_count": 398,
   "metadata": {},
   "outputs": [],
   "source": [
    "resultado_execucao['tempo_indexacao_segundo'] = [{'tipo':'gpu', 'valor': tempo_construcao_indice_splade}, {'tipo':'cpu', 'valor': tempo_construcao_indice_splade_lucene}]\n",
    "resultado_execucao['memoria_indice_byte_ram'] = tamanho_em_bytes_indice_trecc_splade\n",
    "resultado_execucao['se_retrieval_usa_gpu'] = False"
   ]
  },
  {
   "cell_type": "code",
   "execution_count": 399,
   "metadata": {},
   "outputs": [],
   "source": [
    "se_expande_query = 'N'"
   ]
  },
  {
   "cell_type": "code",
   "execution_count": 400,
   "metadata": {},
   "outputs": [
    {
     "name": "stdout",
     "output_type": "stream",
     "text": [
      "Running 50 queries in total\n"
     ]
    }
   ],
   "source": [
    "tempo_gasto = run_all_queries_lucene_splade(file=CAMINHO_RUN, \n",
    "                                     topics=topics,\n",
    "                                     searcher=searcher,\n",
    "                                     parm_tokenizer=tokenizer,\n",
    "                                     parm_se_query_expansion= (se_expande_query == 'S'),\n",
    "                                     parm_ind_agg_se_query_expansion='max',\n",
    "                                     parm_num_max_hits=1000)\n"
   ]
  },
  {
   "attachments": {},
   "cell_type": "markdown",
   "metadata": {},
   "source": [
    "### Avaliação latência"
   ]
  },
  {
   "cell_type": "code",
   "execution_count": 401,
   "metadata": {},
   "outputs": [
    {
     "data": {
      "text/plain": [
       "count    50.0000000\n",
       "mean      0.0421948\n",
       "std       0.0086744\n",
       "min       0.0357292\n",
       "25%       0.0387312\n",
       "50%       0.0399827\n",
       "75%       0.0426190\n",
       "max       0.0912654\n",
       "Name: tempo_gasto, Length: 8, dtype: float64"
      ]
     },
     "execution_count": 401,
     "metadata": {},
     "output_type": "execute_result"
    }
   ],
   "source": [
    "df_tempos = pd.DataFrame({'tempo_gasto': tempo_gasto})\n",
    "df_tempos['tempo_gasto'].describe()"
   ]
  },
  {
   "cell_type": "code",
   "execution_count": 402,
   "metadata": {},
   "outputs": [],
   "source": [
    "resultado_execucao['retrieval_tempo_medio_por_query'] = round(df_tempos['tempo_gasto'].describe()['mean'],6)"
   ]
  },
  {
   "cell_type": "code",
   "execution_count": 403,
   "metadata": {},
   "outputs": [
    {
     "data": {
      "image/png": "[encoded data removed]",
      "text/plain": [
       "<Figure size 640x480 with 1 Axes>"
      ]
     },
     "metadata": {},
     "output_type": "display_data"
    }
   ],
   "source": [
    "# Calculando média e mediana\n",
    "media = df_tempos['tempo_gasto'].mean()\n",
    "mediana = df_tempos['tempo_gasto'].median()\n",
    "\n",
    "# Plotando gráfico\n",
    "fig, ax = plt.subplots()\n",
    "ax.hist(df_tempos['tempo_gasto'], bins=50, color='blue', alpha=0.5)\n",
    "ax.axvline(media, color='red', linestyle='dashed', linewidth=2, label=f'Média = {media:.2f}')\n",
    "ax.axvline(mediana, color='green', linestyle='dashed', linewidth=2, label=f'Mediana = {mediana:.2f}')\n",
    "ax.set_xlabel('Tempo (s)')\n",
    "ax.set_ylabel('Frequência')\n",
    "ax.set_title('Distribuição de Tempos de Execução')\n",
    "ax.legend()\n",
    "plt.show()"
   ]
  },
  {
   "attachments": {},
   "cell_type": "markdown",
   "metadata": {},
   "source": [
    "##### Avaliação métricas"
   ]
  },
  {
   "cell_type": "code",
   "execution_count": 404,
   "metadata": {},
   "outputs": [
    {
     "name": "stdout",
     "output_type": "stream",
     "text": [
      "   query  q0     docid  rank      score       system\n",
      "0     44  Q0  b2yalnrx     1  17.224400  ComExpansao\n",
      "1     44  Q0  hwl5fsu1     2  14.098300  ComExpansao\n",
      "2     44  Q0  srkd3wh0     3  14.098299  ComExpansao\n",
      "3     44  Q0  dsmdqp2o     4  13.926200  ComExpansao\n",
      "4     44  Q0  tstx42h7     5  13.607900  ComExpansao\n",
      "\n",
      "[5 rows x 6 columns]\n",
      "NDCG@10: 0.17127746121542514\n"
     ]
    }
   ],
   "source": [
    "\n",
    "### Calculando métricas\n",
    "run = pd.read_csv(f\"{CAMINHO_RUN}\", sep=\"\\s+\", \n",
    "                names=[\"query\", \"q0\", \"docid\", \"rank\", \"score\", \"system\"])\n",
    "print(run.head())\n",
    "run = run.to_dict(orient=\"list\")\n",
    "\n",
    "results = trec_eval.compute(predictions=[run], references=[qrel_dict])\n",
    "\n",
    "# salvando métricas    \n",
    "print(f\"NDCG@10: {results['NDCG@10']}\")\n"
   ]
  },
  {
   "cell_type": "code",
   "execution_count": 405,
   "metadata": {},
   "outputs": [],
   "source": [
    "resultado_execucao['ndcg_10'] = round(100*results['NDCG@10'],2)"
   ]
  },
  {
   "cell_type": "code",
   "execution_count": 406,
   "metadata": {},
   "outputs": [
    {
     "name": "stdout",
     "output_type": "stream",
     "text": [
      "resultado_pipeline[splade_max_com_sep_sem_exp_query_lucene] {'tempo_indexacao_segundo': [{'tipo': 'gpu', 'valor': 1470}, {'tipo': 'cpu', 'valor': 2669}], 'memoria_indice_byte_ram': 587578693, 'se_retrieval_usa_gpu': False, 'retrieval_tempo_medio_por_query': 0.042195, 'ndcg_10': 17.13}\n"
     ]
    }
   ],
   "source": [
    "resultado_pipeline[nome_pipeline] = resultado_execucao\n",
    "print(f\"resultado_pipeline[{nome_pipeline}] {resultado_pipeline[nome_pipeline]}\")"
   ]
  },
  {
   "cell_type": "code",
   "execution_count": 407,
   "metadata": {},
   "outputs": [
    {
     "name": "stdout",
     "output_type": "stream",
     "text": [
      "{'utilizacao_perfeita': {'usd_query': 3.837e-07, 'usd_dia': 0.785658393470592, 'usd_gpu_dia': 0, 'usd_mes': 23.569751804117757, 'usd_indexacao_tempo': 0.034490287}, 'utilizacao_precaria_100': {'usd_query': 0.0078565839, 'usd_dia': 0.785658393470592, 'usd_gpu_dia': 0, 'usd_mes': 23.569751804117757, 'usd_indexacao_tempo': 0.034490287}}\n"
     ]
    }
   ],
   "source": [
    "avaliacao_pipeline_contexto[nome_pipeline] = retorna_calculo_contexto(resultado_execucao, parm_tipo_gpu='3090')\n",
    "print(avaliacao_pipeline_contexto[nome_pipeline] )"
   ]
  },
  {
   "attachments": {},
   "cell_type": "markdown",
   "metadata": {},
   "source": [
    "## Texto mais palavras geradas sem repetição "
   ]
  },
  {
   "cell_type": "code",
   "execution_count": 426,
   "metadata": {},
   "outputs": [
    {
     "name": "stdout",
     "output_type": "stream",
     "text": [
      "CPU times: user 2.04 s, sys: 699 ms, total: 2.74 s\n",
      "Wall time: 7.06 s\n"
     ]
    }
   ],
   "source": [
    "%%time\n",
    "with open(f\"{CAMINHO_CARDIN_MAX}\", 'w') as arquivo:\n",
    "    for doc in jsonl_cardin:\n",
    "        # print(corpus_dict[doc['id']])\n",
    "        doc['contents'] =  corpus_dict[doc['id']]['texto_titulo'] +  doc['contents']\n",
    "        #print(texto)\n",
    "        #print(doc)\n",
    "        #break\n",
    "        # Converte o dicionário em uma string JSON\n",
    "        linha_json = json.dumps(doc)\n",
    "        # Escreve a linha JSON no arquivo\n",
    "        arquivo.write(f'{linha_json}\\n')"
   ]
  },
  {
   "cell_type": "code",
   "execution_count": 427,
   "metadata": {},
   "outputs": [],
   "source": [
    "if os.path.exists(DIRETORIO_INDICE):\n",
    "    shutil.rmtree(DIRETORIO_INDICE)"
   ]
  },
  {
   "cell_type": "code",
   "execution_count": 428,
   "metadata": {},
   "outputs": [
    {
     "name": "stdout",
     "output_type": "stream",
     "text": [
      "WARNING: sun.reflect.Reflection.getCallerClass is not supported. This will impact performance.\n",
      "2023-05-10 09:45:07,721 INFO  [main] index.IndexCollection (IndexCollection.java:380) - Setting log level to INFO\n",
      "2023-05-10 09:45:07,722 INFO  [main] index.IndexCollection (IndexCollection.java:383) - Starting indexer...\n",
      "2023-05-10 09:45:07,722 INFO  [main] index.IndexCollection (IndexCollection.java:384) - ============ Loading Parameters ============\n",
      "2023-05-10 09:45:07,722 INFO  [main] index.IndexCollection (IndexCollection.java:385) - DocumentCollection path: /home/borela/fontes/deep_learning_em_buscas_unicamp/local/tradeoff/cardin_splade_max\n",
      "2023-05-10 09:45:07,722 INFO  [main] index.IndexCollection (IndexCollection.java:386) - CollectionClass: JsonCollection\n",
      "2023-05-10 09:45:07,723 INFO  [main] index.IndexCollection (IndexCollection.java:387) - Generator: DefaultLuceneDocumentGenerator\n",
      "2023-05-10 09:45:07,723 INFO  [main] index.IndexCollection (IndexCollection.java:388) - Threads: 9\n",
      "2023-05-10 09:45:07,723 INFO  [main] index.IndexCollection (IndexCollection.java:389) - Language: en\n",
      "2023-05-10 09:45:07,723 INFO  [main] index.IndexCollection (IndexCollection.java:390) - Stemmer: porter\n",
      "2023-05-10 09:45:07,723 INFO  [main] index.IndexCollection (IndexCollection.java:391) - Keep stopwords? false\n",
      "2023-05-10 09:45:07,723 INFO  [main] index.IndexCollection (IndexCollection.java:392) - Stopwords: null\n",
      "2023-05-10 09:45:07,724 INFO  [main] index.IndexCollection (IndexCollection.java:393) - Store positions? true\n",
      "2023-05-10 09:45:07,724 INFO  [main] index.IndexCollection (IndexCollection.java:394) - Store docvectors? true\n",
      "2023-05-10 09:45:07,724 INFO  [main] index.IndexCollection (IndexCollection.java:395) - Store document \"contents\" field? false\n",
      "2023-05-10 09:45:07,724 INFO  [main] index.IndexCollection (IndexCollection.java:396) - Store document \"raw\" field? true\n",
      "2023-05-10 09:45:07,724 INFO  [main] index.IndexCollection (IndexCollection.java:397) - Additional fields to index: []\n",
      "2023-05-10 09:45:07,724 INFO  [main] index.IndexCollection (IndexCollection.java:398) - Optimize (merge segments)? false\n",
      "2023-05-10 09:45:07,725 INFO  [main] index.IndexCollection (IndexCollection.java:399) - Whitelist: null\n",
      "2023-05-10 09:45:07,725 INFO  [main] index.IndexCollection (IndexCollection.java:400) - Pretokenized?: false\n",
      "2023-05-10 09:45:07,725 INFO  [main] index.IndexCollection (IndexCollection.java:401) - Index path: /home/borela/fontes/deep_learning_em_buscas_unicamp/local/tradeoff/indexes/trec-covid-expanded-splade-index\n",
      "2023-05-10 09:45:07,726 INFO  [main] index.IndexCollection (IndexCollection.java:481) - ============ Indexing Collection ============\n",
      "2023-05-10 09:45:07,731 INFO  [main] index.IndexCollection (IndexCollection.java:468) - Using DefaultEnglishAnalyzer\n",
      "2023-05-10 09:45:07,731 INFO  [main] index.IndexCollection (IndexCollection.java:469) - Stemmer: porter\n",
      "2023-05-10 09:45:07,732 INFO  [main] index.IndexCollection (IndexCollection.java:470) - Keep stopwords? false\n",
      "2023-05-10 09:45:07,732 INFO  [main] index.IndexCollection (IndexCollection.java:471) - Stopwords file: null\n",
      "2023-05-10 09:45:07,803 INFO  [main] index.IndexCollection (IndexCollection.java:510) - Thread pool with 9 threads initialized.\n",
      "2023-05-10 09:45:07,804 INFO  [main] index.IndexCollection (IndexCollection.java:512) - Initializing collection in /home/borela/fontes/deep_learning_em_buscas_unicamp/local/tradeoff/cardin_splade_max\n",
      "2023-05-10 09:45:07,805 INFO  [main] index.IndexCollection (IndexCollection.java:521) - 1 file found\n",
      "2023-05-10 09:45:07,805 INFO  [main] index.IndexCollection (IndexCollection.java:522) - Starting to index...\n",
      "2023-05-10 09:45:54,335 DEBUG [pool-2-thread-1] index.IndexCollection$LocalIndexerThread (IndexCollection.java:345) - cardin_splade_max/trec-covid-splade.jsonl: 171184 docs added.\n",
      "2023-05-10 09:45:58,736 INFO  [main] index.IndexCollection (IndexCollection.java:578) - Indexing Complete! 171.184 documents indexed\n",
      "2023-05-10 09:45:58,736 INFO  [main] index.IndexCollection (IndexCollection.java:579) - ============ Final Counter Values ============\n",
      "2023-05-10 09:45:58,736 INFO  [main] index.IndexCollection (IndexCollection.java:580) - indexed:          171.184\n",
      "2023-05-10 09:45:58,737 INFO  [main] index.IndexCollection (IndexCollection.java:581) - unindexable:            0\n",
      "2023-05-10 09:45:58,737 INFO  [main] index.IndexCollection (IndexCollection.java:582) - empty:                  0\n",
      "2023-05-10 09:45:58,737 INFO  [main] index.IndexCollection (IndexCollection.java:583) - skipped:                0\n",
      "2023-05-10 09:45:58,737 INFO  [main] index.IndexCollection (IndexCollection.java:584) - errors:                 0\n",
      "2023-05-10 09:45:58,741 INFO  [main] index.IndexCollection (IndexCollection.java:587) - Total 171.184 documents indexed in 00:00:51\n",
      "CPU times: user 456 ms, sys: 156 ms, total: 612 ms\n",
      "Wall time: 52.4 s\n"
     ]
    }
   ],
   "source": [
    "%%time\n",
    "\"\"\"\n",
    "generator RawDocumentGenerator: sem pré-processamento\n",
    "        Quando usamos o DefaultLuceneDocumentGenerator, o processo de pré-processamento é aplicado ao texto do documento antes de ser indexado, incluindo a remoção de stopwords, aplicação de stemização, tokenização, entre outros.\n",
    "\n",
    "        Já com o RawDocumentGenerator, o texto do documento é indexado exatamente como é, sem aplicar nenhum tipo de pré-processamento. Isso significa que a indexação será mais rápida e que as consultas serão feitas diretamente no texto original, sem serem afetadas por nenhum processamento adicional.\n",
    "\n",
    "        The important indexing options to note here are --impact --pretokenized: the first tells Anserini not to encode BM25 doclengths into Lucene's norms (which is the default) and the second option says not to apply any additional tokenization on the DeepImpact tokens.\n",
    "                Fonte: https://github.com/castorini/pyserini/blob/master/docs/experiments-deepimpact.md\n",
    "\"\"\"\n",
    "!python -m pyserini.index.lucene \\\n",
    "        --collection JsonCollection \\\n",
    "        --input {DIRETORIO_CARDIN_MAX} \\\n",
    "        --index {DIRETORIO_INDICE} \\\n",
    "        --generator DefaultLuceneDocumentGenerator \\\n",
    "        --threads 9 \\\n",
    "        --storePositions --storeDocvectors \\\n",
    "        --storeRaw  \n",
    "        \n",
    "#> /dev/null 2>&1 "
   ]
  },
  {
   "cell_type": "code",
   "execution_count": 429,
   "metadata": {},
   "outputs": [
    {
     "name": "stdout",
     "output_type": "stream",
     "text": [
      "Tempo para construir o índice (cpu): 2688\n"
     ]
    }
   ],
   "source": [
    "tempo_construcao_indice_splade_lucene +=  (52 - 33) # 33 já havia somado antes\n",
    "print(f\"Tempo para construir o índice (cpu): {tempo_construcao_indice_splade_lucene}\")"
   ]
  },
  {
   "cell_type": "code",
   "execution_count": 430,
   "metadata": {},
   "outputs": [
    {
     "name": "stdout",
     "output_type": "stream",
     "text": [
      "{'total_terms': 81391138, 'documents': 171184, 'non_empty_documents': 171184, 'unique_terms': 204958}\n"
     ]
    }
   ],
   "source": [
    "# Imprimindo estatísticas do índice\n",
    "index_reader = IndexReader(DIRETORIO_INDICE)\n",
    "print(index_reader.stats())"
   ]
  },
  {
   "cell_type": "code",
   "execution_count": 431,
   "metadata": {},
   "outputs": [],
   "source": [
    "searcher = LuceneSearcher(DIRETORIO_INDICE) # './indexes/lucene-index-msmarco-passage')\n",
    "searcher.set_bm25(k1=1.12, b=0.4)  "
   ]
  },
  {
   "cell_type": "code",
   "execution_count": 432,
   "metadata": {},
   "outputs": [],
   "source": [
    "tamanho_em_bytes_indice_trecc_splade = int(subprocess.check_output(['du', '-b', DIRETORIO_INDICE]).split()[0])\n"
   ]
  },
  {
   "cell_type": "code",
   "execution_count": 433,
   "metadata": {},
   "outputs": [
    {
     "name": "stdout",
     "output_type": "stream",
     "text": [
      "O tamanho do índice é: 784228554 bytes\n"
     ]
    }
   ],
   "source": [
    "print(\"O tamanho do índice é:\", tamanho_em_bytes_indice_trecc_splade, \"bytes\")\n",
    "\n"
   ]
  },
  {
   "cell_type": "code",
   "execution_count": 434,
   "metadata": {},
   "outputs": [],
   "source": [
    "nome_pipeline = 'splade_max_com_sep_sem_exp_query_lucene_texto_exp'"
   ]
  },
  {
   "cell_type": "code",
   "execution_count": 435,
   "metadata": {},
   "outputs": [],
   "source": [
    "resultado_execucao = {}"
   ]
  },
  {
   "cell_type": "code",
   "execution_count": 436,
   "metadata": {},
   "outputs": [],
   "source": [
    "resultado_execucao['tempo_indexacao_segundo'] = [{'tipo':'gpu', 'valor': tempo_construcao_indice_splade}, {'tipo':'cpu', 'valor': tempo_construcao_indice_splade_lucene}]\n",
    "resultado_execucao['memoria_indice_byte_ram'] = tamanho_em_bytes_indice_trecc_splade\n",
    "resultado_execucao['se_retrieval_usa_gpu'] = False"
   ]
  },
  {
   "cell_type": "code",
   "execution_count": 437,
   "metadata": {},
   "outputs": [],
   "source": [
    "se_expande_query = 'N'"
   ]
  },
  {
   "cell_type": "code",
   "execution_count": 438,
   "metadata": {},
   "outputs": [
    {
     "name": "stdout",
     "output_type": "stream",
     "text": [
      "Running 50 queries in total\n"
     ]
    }
   ],
   "source": [
    "tempo_gasto = run_all_queries_lucene_splade(file=CAMINHO_RUN, \n",
    "                                     topics=topics,\n",
    "                                     searcher=searcher,\n",
    "                                     parm_tokenizer=tokenizer,\n",
    "                                     parm_se_query_expansion= (se_expande_query == 'S'),\n",
    "                                     parm_ind_agg_se_query_expansion='max',\n",
    "                                     parm_num_max_hits=1000)\n"
   ]
  },
  {
   "attachments": {},
   "cell_type": "markdown",
   "metadata": {},
   "source": [
    "### Avaliação latência"
   ]
  },
  {
   "cell_type": "code",
   "execution_count": 439,
   "metadata": {},
   "outputs": [
    {
     "data": {
      "text/plain": [
       "count    50.0000000\n",
       "mean      0.0526775\n",
       "std       0.0076584\n",
       "min       0.0430920\n",
       "25%       0.0468504\n",
       "50%       0.0521983\n",
       "75%       0.0560415\n",
       "max       0.0846241\n",
       "Name: tempo_gasto, Length: 8, dtype: float64"
      ]
     },
     "execution_count": 439,
     "metadata": {},
     "output_type": "execute_result"
    }
   ],
   "source": [
    "df_tempos = pd.DataFrame({'tempo_gasto': tempo_gasto})\n",
    "df_tempos['tempo_gasto'].describe()"
   ]
  },
  {
   "cell_type": "code",
   "execution_count": 440,
   "metadata": {},
   "outputs": [],
   "source": [
    "resultado_execucao['retrieval_tempo_medio_por_query'] = round(df_tempos['tempo_gasto'].describe()['mean'],6)"
   ]
  },
  {
   "cell_type": "code",
   "execution_count": 441,
   "metadata": {},
   "outputs": [
    {
     "data": {
      "image/png": "[encoded data removed]",
      "text/plain": [
       "<Figure size 640x480 with 1 Axes>"
      ]
     },
     "metadata": {},
     "output_type": "display_data"
    }
   ],
   "source": [
    "# Calculando média e mediana\n",
    "media = df_tempos['tempo_gasto'].mean()\n",
    "mediana = df_tempos['tempo_gasto'].median()\n",
    "\n",
    "# Plotando gráfico\n",
    "fig, ax = plt.subplots()\n",
    "ax.hist(df_tempos['tempo_gasto'], bins=50, color='blue', alpha=0.5)\n",
    "ax.axvline(media, color='red', linestyle='dashed', linewidth=2, label=f'Média = {media:.2f}')\n",
    "ax.axvline(mediana, color='green', linestyle='dashed', linewidth=2, label=f'Mediana = {mediana:.2f}')\n",
    "ax.set_xlabel('Tempo (s)')\n",
    "ax.set_ylabel('Frequência')\n",
    "ax.set_title('Distribuição de Tempos de Execução')\n",
    "ax.legend()\n",
    "plt.show()"
   ]
  },
  {
   "attachments": {},
   "cell_type": "markdown",
   "metadata": {},
   "source": [
    "##### Avaliação métricas"
   ]
  },
  {
   "cell_type": "code",
   "execution_count": 442,
   "metadata": {},
   "outputs": [
    {
     "name": "stdout",
     "output_type": "stream",
     "text": [
      "   query  q0     docid  rank    score       system\n",
      "0     44  Q0  b2yalnrx     1  14.4799  ComExpansao\n",
      "1     44  Q0  ugkxxaeb     2  12.5132  ComExpansao\n",
      "2     44  Q0  imv1ygf6     3  11.8220  ComExpansao\n",
      "3     44  Q0  9o0sjnml     4  11.3887  ComExpansao\n",
      "4     44  Q0  yx9oa2ra     5  11.3818  ComExpansao\n",
      "\n",
      "[5 rows x 6 columns]\n",
      "NDCG@10: 0.42308970533046614\n"
     ]
    }
   ],
   "source": [
    "\n",
    "### Calculando métricas\n",
    "run = pd.read_csv(f\"{CAMINHO_RUN}\", sep=\"\\s+\", \n",
    "                names=[\"query\", \"q0\", \"docid\", \"rank\", \"score\", \"system\"])\n",
    "print(run.head())\n",
    "run = run.to_dict(orient=\"list\")\n",
    "\n",
    "results = trec_eval.compute(predictions=[run], references=[qrel_dict])\n",
    "\n",
    "# salvando métricas    \n",
    "print(f\"NDCG@10: {results['NDCG@10']}\")\n"
   ]
  },
  {
   "cell_type": "code",
   "execution_count": 443,
   "metadata": {},
   "outputs": [],
   "source": [
    "resultado_execucao['ndcg_10'] = round(100*results['NDCG@10'],2)"
   ]
  },
  {
   "cell_type": "code",
   "execution_count": 444,
   "metadata": {},
   "outputs": [
    {
     "name": "stdout",
     "output_type": "stream",
     "text": [
      "resultado_pipeline[splade_max_com_sep_sem_exp_query_lucene_texto_exp] {'tempo_indexacao_segundo': [{'tipo': 'gpu', 'valor': 1470}, {'tipo': 'cpu', 'valor': 2688}], 'memoria_indice_byte_ram': 784228554, 'se_retrieval_usa_gpu': False, 'retrieval_tempo_medio_por_query': 0.052678, 'ndcg_10': 42.31}\n"
     ]
    }
   ],
   "source": [
    "resultado_pipeline[nome_pipeline] = resultado_execucao\n",
    "print(f\"resultado_pipeline[{nome_pipeline}] {resultado_pipeline[nome_pipeline]}\")"
   ]
  },
  {
   "cell_type": "code",
   "execution_count": 445,
   "metadata": {},
   "outputs": [
    {
     "name": "stdout",
     "output_type": "stream",
     "text": [
      "{'utilizacao_perfeita': {'usd_query': 4.924e-07, 'usd_dia': 0.807632835538176, 'usd_gpu_dia': 0, 'usd_mes': 24.22898506614528, 'usd_indexacao_tempo': 0.034648614}, 'utilizacao_precaria_100': {'usd_query': 0.0080763284, 'usd_dia': 0.807632835538176, 'usd_gpu_dia': 0, 'usd_mes': 24.22898506614528, 'usd_indexacao_tempo': 0.034648614}}\n"
     ]
    }
   ],
   "source": [
    "avaliacao_pipeline_contexto[nome_pipeline] = retorna_calculo_contexto(resultado_execucao, parm_tipo_gpu='3090')\n",
    "print(avaliacao_pipeline_contexto[nome_pipeline] )"
   ]
  },
  {
   "attachments": {},
   "cell_type": "markdown",
   "metadata": {},
   "source": [
    "# EXPERIMENTAR COM RERANKING"
   ]
  },
  {
   "cell_type": "code",
   "execution_count": 461,
   "metadata": {
    "id": "AG9RjMb8Qlot"
   },
   "outputs": [],
   "source": [
    "from torch.utils.data import DataLoader"
   ]
  },
  {
   "cell_type": "code",
   "execution_count": 462,
   "metadata": {},
   "outputs": [],
   "source": [
    "from torch.utils.data import Dataset"
   ]
  },
  {
   "cell_type": "code",
   "execution_count": 463,
   "metadata": {
    "id": "ry_ieNro1kUa"
   },
   "outputs": [],
   "source": [
    "from transformers import BatchEncoding"
   ]
  },
  {
   "cell_type": "code",
   "execution_count": 464,
   "metadata": {},
   "outputs": [],
   "source": [
    "class MyDataset(Dataset):\n",
    "    \"\"\"\n",
    "      Classe para representar um dataset de texto e classes.\n",
    "    \"\"\"  \n",
    "    def __init__(self, texts: list, classes:list[int], tokenizer):\n",
    "      \"\"\"\n",
    "      Inicializa um novo objeto MyDataset.\n",
    "\n",
    "      Args:\n",
    "          texts (list): uma lista com as strings de texto. Cada elemento deve ter 2 strings.\n",
    "          classes (np.ndarray): um array com as classes de cada texto.\n",
    "          tokenizer: um objeto tokenizer do Hugging Face Transformers.\n",
    "          max_seq_length (int): o tamanho máximo da sequência a ser considerado.\n",
    "      Raises:\n",
    "          AssertionError: se os parâmetros não estiverem no formato esperado.\n",
    "      \"\"\"\n",
    "      # Verifica se os parâmetros são do tipo esperado\n",
    "      assert isinstance(texts, list), f\"Parâmetro texts deve ser do tipo list e não {type(texts)}\"\n",
    "      for row in texts:\n",
    "          assert isinstance(row, tuple) and len(row)== 2, f\"Each row in texts must have 2 elements\"\n",
    "          assert isinstance(row[0], str) and isinstance(row[1], str), f\"Each element in texts.row must be a string e não {type(row[0])}\"\n",
    "      assert isinstance(classes,np.ndarray), f'classes deve ser do tipo np.ndarray e não {type(classes)}'\n",
    "      assert isinstance(classes[0],np.int64), f'classes[0] deve ser do tipo numpy.int64 e não {type(classes[0])} '\n",
    "\n",
    "      self.texts = texts\n",
    "      self.classes = classes\n",
    "      self.tokenizer = tokenizer\n",
    "      self.max_seq_length = tokenizer.model_max_length # model.config.max_position_embeddings\n",
    "      if self.max_seq_length > 64000:\n",
    "        print(f\"Valor de self.max_seq_length  {self.max_seq_length} indica que deve ser usado outro campo do tokenizador. Assumido 512 \")\n",
    "        self.max_seq_length =  512\n",
    "      # Salvar os dados dos tensores\n",
    "      x_data_input_ids = []\n",
    "      x_data_token_type_ids = []\n",
    "      x_data_attention_masks = []\n",
    "      for text_pair in texts:\n",
    "          encoding = tokenizer.encode_plus(\n",
    "              text_pair[0],\n",
    "              text_pair[1],\n",
    "              add_special_tokens=True,\n",
    "              max_length=self.max_seq_length,\n",
    "              padding='max_length',\n",
    "              return_tensors = 'pt',\n",
    "              truncation=True,\n",
    "              return_attention_mask=True,\n",
    "              return_token_type_ids=True\n",
    "          )\n",
    "          x_data_input_ids.append(encoding['input_ids'].long())\n",
    "          x_data_token_type_ids.append(encoding['token_type_ids'].long())\n",
    "          x_data_attention_masks.append(encoding['attention_mask'].long())\n",
    "      # print(F'\\tVou converter lista para tensor;  Momento: {time.strftime(\"[%Y-%b-%d %H:%M:%S]\")}')\n",
    "      # squeeze: vai transformar um tensor de shape [2, 1, 322] em um tensor de shape [2, 322].\n",
    "\n",
    "      self.x_tensor_input_ids = torch.stack(x_data_input_ids).squeeze(1)\n",
    "      self.x_tensor_attention_masks = torch.stack(x_data_attention_masks).squeeze(1)\n",
    "      self.x_tensor_token_type_ids = torch.stack(x_data_token_type_ids).squeeze(1)\n",
    "\n",
    "    def __len__(self):\n",
    "        \"\"\"\n",
    "          Retorna o tamanho do dataset (= tamanho do array texts)\n",
    "        \"\"\"\n",
    "        return len(self.texts)\n",
    "    \n",
    "    def __getitem__(self, idx):\n",
    "        \"\"\"\n",
    "          Retorna um dicionário com os dados do texto e sua classe correspondente, em um formato que pode \n",
    "          ser usado pelo dataloader do PyTorch para alimentar um modelo de aprendizado de máquina.\n",
    "        \"\"\"\n",
    "        return {\n",
    "            'input_ids': self.x_tensor_input_ids[idx],\n",
    "            'attention_mask': self.x_tensor_attention_masks[idx],\n",
    "            'token_type_ids': self.x_tensor_token_type_ids[idx],\n",
    "            # 'labels': int(self.classes[idx])\n",
    "            'labels': torch.tensor(self.classes[idx], dtype=torch.long)            \n",
    "        }"
   ]
  },
  {
   "cell_type": "code",
   "execution_count": 482,
   "metadata": {},
   "outputs": [],
   "source": [
    "def calcula_relevancia(parm_model, parm_dataloader_reranking, parm_model_name:str):\n",
    "  # para 'cross-encoder/ms-marco-TinyBERT-L-2'\n",
    "  prob_relevancia = []\n",
    "  parm_model.eval()\n",
    "  nome_modelo = parm_model_name.lower()\n",
    "  with torch.no_grad():\n",
    "      for ndx, batch in enumerate(parm_dataloader_reranking):\n",
    "          if 'minilm' in nome_modelo:\n",
    "              logits_model = parm_model(**BatchEncoding(batch).to(device)).logits                          \n",
    "              relevantes_float = [float(t) for t in logits_model]\n",
    "          elif 'monobert' in nome_modelo:\n",
    "              logits_model = parm_model(**BatchEncoding(batch).to(device)).logits\n",
    "              probs = torch.nn.functional.softmax(logits_model, dim=1)\n",
    "              nao_relevante, relevante = zip(*probs)\n",
    "              relevantes_float = [float(t) for t in relevante]              \n",
    "          prob_relevancia.extend(relevantes_float)          \n",
    "          # prob_relevancia.append(pa.array(scores.numpy()))\n",
    "  return prob_relevancia"
   ]
  },
  {
   "cell_type": "code",
   "execution_count": 486,
   "metadata": {},
   "outputs": [],
   "source": [
    "def run_all_queries_splade_reranking(parm_model:BertForMaskedLM,\n",
    "                                    parm_tokenizer:BertTokenizer, \n",
    "                                    parm_model_ranking:AutoModelForSequenceClassification,\n",
    "                                    parm_model_ranking_name:str,\n",
    "                                    parm_tokenizer_ranking:AutoTokenizer,\n",
    "                                    parm_dict_queries:{},\n",
    "                                    parm_corpus_expanded, \n",
    "                                    parm_lista_doc_id_passage:list,\n",
    "                                    parm_num_max_hits:int=1000,\n",
    "                                    parm_se_query_expansion:bool=False,\n",
    "                                    parm_ind_agg_se_query_expansion:str=None,\n",
    "                                    parm_se_usa_sep_query_expansion: bool = True):\n",
    "    assert parm_ind_agg_se_query_expansion and parm_se_query_expansion or not parm_se_query_expansion, \\\n",
    "        f\"se parm_se_query_expansion {parm_se_query_expansion} for True, deve-se informar parm_ind_agg_se_query_expansion {parm_ind_agg_se_query_expansion}\"\n",
    "    tempos = []\n",
    "    with open(CAMINHO_RUN, 'w') as runfile:\n",
    "        for cnt, (query_id, value) in enumerate(parm_dict_queries.items()):\n",
    "            # print(id, value)\n",
    "            tempo_inicio = time.time()\n",
    "            if parm_se_query_expansion:\n",
    "                query_scores = retorna_subword_importante(parm_model=parm_model,\n",
    "                                                parm_tokenizer=parm_tokenizer,\n",
    "                                                parm_sentences=[value['question']], \n",
    "                                                parm_ind_agg=parm_ind_agg_se_query_expansion, parm_se_usa_sep=parm_se_usa_sep_query_expansion).to_dense().squeeze().to(device)\n",
    "            else:\n",
    "                query_scores = retorna_tensor_unitario_em_tokens(parm_tokenizer, value['question']).to(device)\n",
    "\n",
    "            # Pega os primeiros 1000 resultados\n",
    "            score = torch.matmul(parm_corpus_expanded, query_scores)\n",
    "            # Ordena\n",
    "            sorted_score, indices_score = torch.sort(score, descending=True)\n",
    "\n",
    "            # parm_num_max_hits primeiros\n",
    "            sorted_score = sorted_score[0:parm_num_max_hits]\n",
    "            indices_score = indices_score[0:parm_num_max_hits]\n",
    "\n",
    "            if cnt % 5 == 0:\n",
    "                print(f'{cnt} queries completadas')\n",
    "\n",
    "            # ids dos documentos\n",
    "            docids = [parm_lista_doc_id_passage[i] for i in indices_score]\n",
    "\n",
    "            pares_texto = [(value['question'], corpus_dict[docid]['texto_titulo']) for docid in docids]\n",
    "\n",
    "            # print(\"carregando dataset\")  \n",
    "            classes_dummy = np.zeros(len(docids), dtype=np.int64)\n",
    "            dataset_reranking = MyDataset(texts=pares_texto, classes=classes_dummy, tokenizer=parm_tokenizer_ranking)    \n",
    "            dataloader_reranking = DataLoader(dataset_reranking,\n",
    "                                            batch_size= 16,\n",
    "                                            shuffle=False)\n",
    "            prob_relevancia = calcula_relevancia(parm_model_ranking, dataloader_reranking, parm_model_name = parm_model_ranking_name)\n",
    "            resultado_ordenado = sorted(zip(docids, prob_relevancia), key=lambda x: x[1], reverse=True)\n",
    "            tempos.append(time.time() - tempo_inicio)\n",
    "\n",
    "            for i in range(0, len(docids)):\n",
    "                _ = runfile.write(f'{query_id} Q0 {resultado_ordenado[i][0]} {i+1} {resultado_ordenado[i][1]:.6f} Busca\\n')\n",
    "            cnt += 1\n",
    "            if cnt % 100 == 0:\n",
    "                print(f'{cnt} queries completed')\n",
    "\n",
    "\n",
    "    return tempos"
   ]
  },
  {
   "attachments": {},
   "cell_type": "markdown",
   "metadata": {
    "id": "aT7_riDtAj_8"
   },
   "source": [
    "# Reranking com miniLM (treinado no ms-marco)"
   ]
  },
  {
   "cell_type": "code",
   "execution_count": 451,
   "metadata": {},
   "outputs": [],
   "source": [
    "# Limpa o cache da memória da GPU\n",
    "torch.cuda.empty_cache()"
   ]
  },
  {
   "cell_type": "code",
   "execution_count": 449,
   "metadata": {},
   "outputs": [],
   "source": [
    "from transformers import AutoTokenizer, AutoModelForSequenceClassification"
   ]
  },
  {
   "cell_type": "code",
   "execution_count": 470,
   "metadata": {},
   "outputs": [],
   "source": [
    "# nome_modelo = 'cross-encoder/ms-marco-TinyBERT-L-2'\n",
    "nome_modelo_ranking = 'cross-encoder/ms-marco-MiniLM-L-6-v2'\n",
    "model_ranking = AutoModelForSequenceClassification.from_pretrained(nome_modelo).to(device)\n",
    "tokenizer_ranking = AutoTokenizer.from_pretrained(nome_modelo)"
   ]
  },
  {
   "cell_type": "code",
   "execution_count": 471,
   "metadata": {},
   "outputs": [
    {
     "data": {
      "text/plain": [
       "(512, 509, 512)"
      ]
     },
     "execution_count": 471,
     "metadata": {},
     "output_type": "execute_result"
    }
   ],
   "source": [
    "model.config.max_position_embeddings, tokenizer.max_len_sentences_pair, tokenizer.model_max_length"
   ]
  },
  {
   "attachments": {},
   "cell_type": "markdown",
   "metadata": {
    "id": "aT7_riDtAj_8"
   },
   "source": [
    "## bm25@100_reranking_minilm"
   ]
  },
  {
   "cell_type": "code",
   "execution_count": 512,
   "metadata": {},
   "outputs": [],
   "source": [
    "se_expande_query = 'S'"
   ]
  },
  {
   "cell_type": "code",
   "execution_count": 513,
   "metadata": {},
   "outputs": [],
   "source": [
    "nome_pipeline = 'splade@100_reranking_minilm'"
   ]
  },
  {
   "cell_type": "code",
   "execution_count": 514,
   "metadata": {},
   "outputs": [],
   "source": [
    "resultado_execucao = {}"
   ]
  },
  {
   "cell_type": "code",
   "execution_count": 515,
   "metadata": {},
   "outputs": [
    {
     "data": {
      "text/plain": [
       "(1470, 784228554)"
      ]
     },
     "execution_count": 515,
     "metadata": {},
     "output_type": "execute_result"
    }
   ],
   "source": [
    "tempo_construcao_indice_splade, tamanho_em_bytes_indice_trecc_splade"
   ]
  },
  {
   "cell_type": "code",
   "execution_count": 516,
   "metadata": {},
   "outputs": [],
   "source": [
    "resultado_execucao['tempo_indexacao_segundo'] = [{'tipo':'cpu', 'valor': tempo_construcao_indice_splade}]\n",
    "resultado_execucao['memoria_indice_byte_ram'] = tamanho_em_bytes_indice_trecc_splade\n",
    "resultado_execucao['se_retrieval_usa_gpu'] = True"
   ]
  },
  {
   "cell_type": "code",
   "execution_count": 517,
   "metadata": {},
   "outputs": [
    {
     "name": "stdout",
     "output_type": "stream",
     "text": [
      "0 queries completadas\n",
      "5 queries completadas\n",
      "10 queries completadas\n",
      "15 queries completadas\n",
      "20 queries completadas\n",
      "25 queries completadas\n",
      "30 queries completadas\n",
      "35 queries completadas\n",
      "40 queries completadas\n",
      "45 queries completadas\n",
      "CPU times: user 1min 40s, sys: 1.04 s, total: 1min 41s\n",
      "Wall time: 17.8 s\n"
     ]
    }
   ],
   "source": [
    "%%time\n",
    "tempo_gasto = run_all_queries_splade_reranking(parm_model=model,\n",
    "                                    parm_tokenizer=tokenizer, \n",
    "                                    parm_model_ranking=model_ranking,\n",
    "                                    parm_model_ranking_name=nome_modelo_ranking,\n",
    "                                    parm_tokenizer_ranking=tokenizer_ranking, \n",
    "                                    parm_dict_queries=topics,\n",
    "                                    parm_corpus_expanded=corpus_expanded_exparse, \n",
    "                                    parm_lista_doc_id_passage=lista_doc_id_passage,\n",
    "                                    parm_num_max_hits=100,\n",
    "                                    parm_se_query_expansion= (se_expande_query == 'S'),\n",
    "                                    parm_ind_agg_se_query_expansion='max', \n",
    "                                    parm_se_usa_sep_query_expansion=True)"
   ]
  },
  {
   "cell_type": "code",
   "execution_count": 518,
   "metadata": {},
   "outputs": [
    {
     "name": "stdout",
     "output_type": "stream",
     "text": [
      "Tempo médio por query 0.354909\n"
     ]
    }
   ],
   "source": [
    "df_tempos = pd.DataFrame({'tempo_gasto': tempo_gasto})\n",
    "resultado_execucao['retrieval_tempo_medio_por_query'] = round(df_tempos['tempo_gasto'].describe()['mean'],6)\n",
    "print(f\"Tempo médio por query {resultado_execucao['retrieval_tempo_medio_por_query']}\")"
   ]
  },
  {
   "cell_type": "code",
   "execution_count": 519,
   "metadata": {},
   "outputs": [
    {
     "name": "stdout",
     "output_type": "stream",
     "text": [
      "   query  q0     docid  rank     score system\n",
      "0     44  Q0  yx9oa2ra     1  7.613322  Busca\n",
      "1     44  Q0  qi1henyy     2  6.995133  Busca\n",
      "2     44  Q0  28utunid     3  6.964627  Busca\n",
      "3     44  Q0  ej76fsxa     4  6.382739  Busca\n",
      "4     44  Q0  uc37poce     5  6.346030  Busca\n",
      "\n",
      "[5 rows x 6 columns]\n"
     ]
    }
   ],
   "source": [
    "### Calculando métricas\n",
    "run = pd.read_csv(f\"{CAMINHO_RUN}\", sep=\"\\s+\", \n",
    "                names=[\"query\", \"q0\", \"docid\", \"rank\", \"score\", \"system\"])\n",
    "print(run.head())\n",
    "run = run.to_dict(orient=\"list\")"
   ]
  },
  {
   "cell_type": "code",
   "execution_count": 520,
   "metadata": {},
   "outputs": [
    {
     "name": "stdout",
     "output_type": "stream",
     "text": [
      "NDCG@10: 0.7067857765212073\n",
      "Resultados: {'runid': 'Busca', 'num_ret': 5000, 'num_rel': 24673, 'num_rel_ret': 2850, 'num_q': 50, 'map': 0.09771551161783593, 'gm_map': 0.08199619651346489, 'bpref': 0.1274160329442371, 'Rprec': 0.13118317655785894, 'recip_rank': 0.8823333333333332, 'P@5': 0.7919999999999999, 'P@10': 0.7660000000000001, 'P@15': 0.7666666666666667, 'P@20': 0.7620000000000001, 'P@30': 0.7266666666666667, 'P@100': 0.5700000000000001, 'P@200': 0.28500000000000003, 'P@500': 0.114, 'P@1000': 0.057, 'NDCG@5': 0.7273094568392318, 'NDCG@10': 0.7067857765212073, 'NDCG@15': 0.7017124874325529, 'NDCG@20': 0.6942656795518224, 'NDCG@30': 0.6703306429072416, 'NDCG@100': 0.5467578084041811, 'NDCG@200': 0.33998534006730446, 'NDCG@500': 0.22567715853008458, 'NDCG@1000': 0.21194464794056678}\n"
     ]
    }
   ],
   "source": [
    "results = trec_eval.compute(predictions=[run], references=[qrel_dict])\n",
    "# salvando métricas    \n",
    "print(f\"NDCG@10: {results['NDCG@10']}\")\n",
    "print(f\"Resultados: {results}\")"
   ]
  },
  {
   "cell_type": "code",
   "execution_count": 521,
   "metadata": {},
   "outputs": [],
   "source": [
    "resultado_execucao['ndcg_10'] = round(100*results['NDCG@10'],2)"
   ]
  },
  {
   "cell_type": "code",
   "execution_count": 522,
   "metadata": {},
   "outputs": [
    {
     "name": "stdout",
     "output_type": "stream",
     "text": [
      "{'tempo_indexacao_segundo': [{'tipo': 'cpu', 'valor': 1470}], 'memoria_indice_byte_ram': 784228554, 'se_retrieval_usa_gpu': True, 'retrieval_tempo_medio_por_query': 0.354909, 'ndcg_10': 70.68}\n"
     ]
    }
   ],
   "source": [
    "resultado_pipeline[nome_pipeline] = resultado_execucao\n",
    "print(resultado_pipeline[nome_pipeline])"
   ]
  },
  {
   "cell_type": "code",
   "execution_count": 523,
   "metadata": {},
   "outputs": [
    {
     "name": "stdout",
     "output_type": "stream",
     "text": [
      "para utilizacao_perfeita custo gpu dia: 5.999616\n",
      "para utilizacao_precaria_100 custo gpu dia: 0.0024644880959999995\n",
      "{'utilizacao_perfeita': {'usd_query': 2.79624e-05, 'usd_dia': 6.807248835538176, 'usd_gpu_dia': 5.999616, 'usd_mes': 204.21746506614528, 'usd_indexacao_tempo': 0.01224951}, 'utilizacao_precaria_100': {'usd_query': 0.0081009732, 'usd_dia': 0.810097323634176, 'usd_gpu_dia': 0.0024644880959999995, 'usd_mes': 24.30291970902528, 'usd_indexacao_tempo': 0.01224951}}\n"
     ]
    }
   ],
   "source": [
    "avaliacao_pipeline_contexto[nome_pipeline] = retorna_calculo_contexto(resultado_execucao, parm_tipo_gpu='3090')\n",
    "print(avaliacao_pipeline_contexto[nome_pipeline] )"
   ]
  },
  {
   "attachments": {},
   "cell_type": "markdown",
   "metadata": {
    "id": "aT7_riDtAj_8"
   },
   "source": [
    "## bm25@1000_reranking_minilm"
   ]
  },
  {
   "cell_type": "code",
   "execution_count": 524,
   "metadata": {},
   "outputs": [],
   "source": [
    "nome_pipeline = 'splade@500_reranking_minilm'"
   ]
  },
  {
   "cell_type": "code",
   "execution_count": 525,
   "metadata": {},
   "outputs": [],
   "source": [
    "resultado_execucao = {}"
   ]
  },
  {
   "cell_type": "code",
   "execution_count": 526,
   "metadata": {},
   "outputs": [],
   "source": [
    "resultado_execucao['tempo_indexacao_segundo'] = [{'tipo':'cpu', 'valor': tempo_construcao_indice_splade}]\n",
    "resultado_execucao['memoria_indice_byte_ram'] = tamanho_em_bytes_indice_trecc_splade\n",
    "resultado_execucao['se_retrieval_usa_gpu'] = True"
   ]
  },
  {
   "cell_type": "code",
   "execution_count": 528,
   "metadata": {},
   "outputs": [
    {
     "name": "stdout",
     "output_type": "stream",
     "text": [
      "0 queries completadas\n",
      "5 queries completadas\n",
      "10 queries completadas\n",
      "15 queries completadas\n",
      "20 queries completadas\n",
      "25 queries completadas\n",
      "30 queries completadas\n",
      "35 queries completadas\n",
      "40 queries completadas\n",
      "45 queries completadas\n",
      "CPU times: user 2min 39s, sys: 1.04 s, total: 2min 40s\n",
      "Wall time: 1min 16s\n"
     ]
    }
   ],
   "source": [
    "%%time\n",
    "tempo_gasto = run_all_queries_splade_reranking(parm_model=model,\n",
    "                                    parm_tokenizer=tokenizer, \n",
    "                                    parm_model_ranking=model_ranking,\n",
    "                                    parm_model_ranking_name=nome_modelo_ranking,\n",
    "                                    parm_tokenizer_ranking=tokenizer_ranking, \n",
    "                                    parm_dict_queries=topics,\n",
    "                                    parm_corpus_expanded=corpus_expanded_exparse_sem_sep, \n",
    "                                    parm_lista_doc_id_passage=lista_doc_id_passage,\n",
    "                                    parm_num_max_hits=500,\n",
    "                                    parm_se_query_expansion= (se_expande_query == 'S'),\n",
    "                                    parm_ind_agg_se_query_expansion='max', \n",
    "                                    parm_se_usa_sep_query_expansion=True)"
   ]
  },
  {
   "cell_type": "code",
   "execution_count": 529,
   "metadata": {},
   "outputs": [
    {
     "name": "stdout",
     "output_type": "stream",
     "text": [
      "Tempo médio por query 1.537312\n"
     ]
    }
   ],
   "source": [
    "df_tempos = pd.DataFrame({'tempo_gasto': tempo_gasto})\n",
    "resultado_execucao['retrieval_tempo_medio_por_query'] = round(df_tempos['tempo_gasto'].describe()['mean'],6)\n",
    "print(f\"Tempo médio por query {resultado_execucao['retrieval_tempo_medio_por_query']}\")"
   ]
  },
  {
   "cell_type": "code",
   "execution_count": 530,
   "metadata": {},
   "outputs": [
    {
     "name": "stdout",
     "output_type": "stream",
     "text": [
      "   query  q0     docid  rank     score system\n",
      "0     44  Q0  yx9oa2ra     1  7.613322  Busca\n",
      "1     44  Q0  qi1henyy     2  6.995133  Busca\n",
      "2     44  Q0  28utunid     3  6.964627  Busca\n",
      "3     44  Q0  ej76fsxa     4  6.382739  Busca\n",
      "4     44  Q0  uc37poce     5  6.346030  Busca\n",
      "\n",
      "[5 rows x 6 columns]\n"
     ]
    }
   ],
   "source": [
    "### Calculando métricas\n",
    "run = pd.read_csv(f\"{CAMINHO_RUN}\", sep=\"\\s+\", \n",
    "                names=[\"query\", \"q0\", \"docid\", \"rank\", \"score\", \"system\"])\n",
    "print(run.head())\n",
    "run = run.to_dict(orient=\"list\")"
   ]
  },
  {
   "cell_type": "code",
   "execution_count": 531,
   "metadata": {},
   "outputs": [
    {
     "name": "stdout",
     "output_type": "stream",
     "text": [
      "NDCG@10: 0.6925240581841691\n",
      "Resultados: {'runid': 'Busca', 'num_ret': 25000, 'num_rel': 24673, 'num_rel_ret': 8262, 'num_q': 50, 'map': 0.20365778493721376, 'gm_map': 0.16463507179003437, 'bpref': 0.31552629841042523, 'Rprec': 0.3113524383164088, 'recip_rank': 0.8756666666666666, 'P@5': 0.7719999999999999, 'P@10': 0.7500000000000001, 'P@15': 0.7466666666666667, 'P@20': 0.735, 'P@30': 0.7033333333333333, 'P@100': 0.565, 'P@200': 0.47190000000000004, 'P@500': 0.33047999999999994, 'P@1000': 0.16523999999999997, 'NDCG@5': 0.7122019196723195, 'NDCG@10': 0.6925240581841691, 'NDCG@15': 0.6807099928171456, 'NDCG@20': 0.6706580155388483, 'NDCG@30': 0.6442022392239626, 'NDCG@100': 0.534560082160271, 'NDCG@200': 0.46561159967429744, 'NDCG@500': 0.43026428773547165, 'NDCG@1000': 0.39921957178241274}\n"
     ]
    }
   ],
   "source": [
    "results = trec_eval.compute(predictions=[run], references=[qrel_dict])\n",
    "# salvando métricas    \n",
    "print(f\"NDCG@10: {results['NDCG@10']}\")\n",
    "print(f\"Resultados: {results}\")"
   ]
  },
  {
   "cell_type": "code",
   "execution_count": 532,
   "metadata": {},
   "outputs": [],
   "source": [
    "resultado_execucao['ndcg_10'] = round(100*results['NDCG@10'],2)"
   ]
  },
  {
   "cell_type": "code",
   "execution_count": 533,
   "metadata": {},
   "outputs": [
    {
     "name": "stdout",
     "output_type": "stream",
     "text": [
      "{'tempo_indexacao_segundo': [{'tipo': 'cpu', 'valor': 1470}], 'memoria_indice_byte_ram': 784228554, 'se_retrieval_usa_gpu': True, 'retrieval_tempo_medio_por_query': 1.537312, 'ndcg_10': 69.25}\n"
     ]
    }
   ],
   "source": [
    "resultado_pipeline[nome_pipeline] = resultado_execucao\n",
    "print(resultado_pipeline[nome_pipeline])"
   ]
  },
  {
   "cell_type": "code",
   "execution_count": 534,
   "metadata": {},
   "outputs": [
    {
     "name": "stdout",
     "output_type": "stream",
     "text": [
      "para utilizacao_perfeita custo gpu dia: 5.999616\n",
      "para utilizacao_precaria_100 custo gpu dia: 0.010675094528\n",
      "{'utilizacao_perfeita': {'usd_query': 0.0001211211, 'usd_dia': 6.807248835538176, 'usd_gpu_dia': 5.999616, 'usd_mes': 204.21746506614528, 'usd_indexacao_tempo': 0.01224951}, 'utilizacao_precaria_100': {'usd_query': 0.0081830793, 'usd_dia': 0.818307930066176, 'usd_gpu_dia': 0.010675094528, 'usd_mes': 24.54923790198528, 'usd_indexacao_tempo': 0.01224951}}\n"
     ]
    }
   ],
   "source": [
    "avaliacao_pipeline_contexto[nome_pipeline] = retorna_calculo_contexto(resultado_execucao, parm_tipo_gpu='3090')\n",
    "print(avaliacao_pipeline_contexto[nome_pipeline] )"
   ]
  },
  {
   "attachments": {},
   "cell_type": "markdown",
   "metadata": {},
   "source": [
    "# Salvando dados"
   ]
  },
  {
   "cell_type": "code",
   "execution_count": 535,
   "metadata": {},
   "outputs": [],
   "source": [
    "PATH_RESULTADO_PIPELINE_SPLADE = f\"{DIRETORIO_TRABALHO}/resultado_pipeline_splade.pickle\"\n",
    "PATH_AVALIACAO_CONTEXTO_PIPELINE_SPLADE = f\"{DIRETORIO_TRABALHO}/avaliacao_contexto_pipeline_splade.pickle\""
   ]
  },
  {
   "cell_type": "code",
   "execution_count": 536,
   "metadata": {},
   "outputs": [],
   "source": [
    "with open(PATH_AVALIACAO_CONTEXTO_PIPELINE_SPLADE, 'wb') as outputFile:\n",
    "    pickle.dump(avaliacao_pipeline_contexto, outputFile, pickle.HIGHEST_PROTOCOL)"
   ]
  },
  {
   "cell_type": "code",
   "execution_count": 537,
   "metadata": {},
   "outputs": [],
   "source": [
    "with open(PATH_RESULTADO_PIPELINE_SPLADE, 'wb') as outputFile:\n",
    "    pickle.dump(resultado_pipeline, outputFile, pickle.HIGHEST_PROTOCOL)"
   ]
  }
 ],
 "metadata": {
  "kernelspec": {
   "display_name": "treinapython39",
   "language": "python",
   "name": "python3"
  },
  "language_info": {
   "codemirror_mode": {
    "name": "ipython",
    "version": 3
   },
   "file_extension": ".py",
   "mimetype": "text/x-python",
   "name": "python",
   "nbconvert_exporter": "python",
   "pygments_lexer": "ipython3",
   "version": "3.9.16"
  },
  "orig_nbformat": 4,
  "vscode": {
   "interpreter": {
    "hash": "e431eb1d856c426fade2a694f8536bd46c4e9c4bd47cb4afd3fb4d2c61122b03"
   }
  }
 },
 "nbformat": 4,
 "nbformat_minor": 2
}
