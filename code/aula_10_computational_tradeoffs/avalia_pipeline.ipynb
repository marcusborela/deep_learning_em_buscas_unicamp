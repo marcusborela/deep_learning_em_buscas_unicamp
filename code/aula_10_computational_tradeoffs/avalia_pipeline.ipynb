{
 "cells": [
  {
   "attachments": {},
   "cell_type": "markdown",
   "metadata": {
    "id": "CcN_5-RDWeqV"
   },
   "source": [
    "# Aula 10 - Computational Tradeoffs\n",
    "\n",
    "[Unicamp - IA368DD: Deep Learning aplicado a sistemas de busca.](https://www.cpg.feec.unicamp.br/cpg/lista/caderno_horario_show.php?id=1779)\n",
    "\n",
    "Autor: Marcus Vinícius Borela de Castro\n",
    "\n",
    "[Repositório no github](https://github.com/marcusborela/deep_learning_em_buscas_unicamp)\n"
   ]
  },
  {
   "attachments": {},
   "cell_type": "markdown",
   "metadata": {
    "id": "VQxzYKGgMqce"
   },
   "source": [
    "# Enunciado exercício\n"
   ]
  },
  {
   "attachments": {},
   "cell_type": "markdown",
   "metadata": {},
   "source": [
    "\n",
    "Exercício desta semana: Trade-offs de eficiência e qualidade\n",
    "\n",
    "O objetivo do exercício desta semana é construir alguns pipelines de busca e analisá-los em termos das seguintes métricas:\n",
    "Qualidade dos resultados: nDCG@10;\n",
    "Latência (seg/query);\n",
    "USD por query assumindo utilização \"perfeita\": assim que terminou de processar uma query, já tem outra para ser processada;\n",
    "USD/mês para deixar o sistema rodando para poucos usuários (ex: 100 queries/dia);\n",
    "Custo de indexação em USD;\n",
    "\n",
    "Iremos avaliar os pipelines no TREC-COVID.\n",
    "A latência precisa ser menor que 2 segundos por query.\n",
    "Não assumir processamento de queries em batch.\n",
    "\n",
    "Considerar:\n",
    "1,50 USD/hora por A100 ou 0,21 USD/hora por T4 ou 0,50 USD/hora por V100\n",
    "0,03 USD/hora por CPU core\n",
    "0,005 USD/hora por GB de CPU RAM\n",
    "Dicas:\n",
    "Utilizar modelos de busca \"SOTA\" já treinados no MS MARCO como parte do pipeline, como o SPLADE distil (esparso), contriever (denso), Colbert-v2 (denso), miniLM (reranker), monoT5-3B (reranker), doc2query minus-minus (expansão de documentos + filtragem com reranqueador na etapa de indexação)\n",
    "Pode usar API's como Cohere, OpenAI Embeddings\n",
    "\n",
    "Variar parâmetros como número de documentos retornados em cada estágio. Por exemplo, BM25 retorna 1000 documentos, um modelo denso ou esparso pode franqueá-los, e passar os top 50 para o miniLM/monoT5 fazer um ranqueamento final.\n",
    "\n"
   ]
  },
  {
   "attachments": {},
   "cell_type": "markdown",
   "metadata": {},
   "source": [
    "# Organizando o ambiente"
   ]
  },
  {
   "cell_type": "markdown",
   "metadata": {},
   "source": [
    "## Importações"
   ]
  },
  {
   "cell_type": "code",
   "execution_count": 2,
   "metadata": {},
   "outputs": [],
   "source": [
    "import pandas as pd"
   ]
  },
  {
   "cell_type": "code",
   "execution_count": 3,
   "metadata": {
    "id": "4AJiH6lQQHc5"
   },
   "outputs": [],
   "source": [
    "from tqdm import tqdm"
   ]
  },
  {
   "cell_type": "code",
   "execution_count": 4,
   "metadata": {},
   "outputs": [],
   "source": [
    "import os"
   ]
  },
  {
   "cell_type": "code",
   "execution_count": 5,
   "metadata": {},
   "outputs": [],
   "source": [
    "import pickle"
   ]
  },
  {
   "cell_type": "code",
   "execution_count": 6,
   "metadata": {},
   "outputs": [],
   "source": [
    "import time"
   ]
  },
  {
   "cell_type": "code",
   "execution_count": 7,
   "metadata": {},
   "outputs": [],
   "source": [
    "import numpy as np"
   ]
  },
  {
   "cell_type": "code",
   "execution_count": 8,
   "metadata": {},
   "outputs": [],
   "source": [
    "os.environ['JVM_PATH'] = '/usr/lib/jvm/java-11-openjdk-amd64/lib/server/libjvm.so'\n",
    "os.environ['JAVA_HOME'] = '/usr/lib/jvm/java-11-openjdk-amd64'"
   ]
  },
  {
   "cell_type": "code",
   "execution_count": 9,
   "metadata": {},
   "outputs": [
    {
     "name": "stderr",
     "output_type": "stream",
     "text": [
      "/home/borela/miniconda3/envs/treinapython39/lib/python3.9/site-packages/tqdm/auto.py:21: TqdmWarning: IProgress not found. Please update jupyter and ipywidgets. See https://ipywidgets.readthedocs.io/en/stable/user_install.html\n",
      "  from .autonotebook import tqdm as notebook_tqdm\n"
     ]
    }
   ],
   "source": [
    "from pyserini.search.lucene import LuceneSearcher"
   ]
  },
  {
   "cell_type": "code",
   "execution_count": 10,
   "metadata": {},
   "outputs": [],
   "source": [
    "from evaluate import load"
   ]
  },
  {
   "cell_type": "code",
   "execution_count": 11,
   "metadata": {},
   "outputs": [],
   "source": [
    "import torch"
   ]
  },
  {
   "cell_type": "code",
   "execution_count": 12,
   "metadata": {},
   "outputs": [],
   "source": [
    "import gzip, json"
   ]
  },
  {
   "cell_type": "code",
   "execution_count": 13,
   "metadata": {
    "colab": {
     "base_uri": "https://localhost:8080/",
     "height": 1000,
     "referenced_widgets": [
      "b9687f745b78489c8d20b1b8e83a8a0c",
      "23d37e6a19cc44eb8fbbca2d532a6a7c",
      "e5b62351b5804bee903a9b40cff992df",
      "a7b0817200914363bc4804d37cedbe99",
      "a370f9920d65417c9cc3f1d7881d0923",
      "779528a697524011aa043155533eab2f",
      "0f7e722200c741348120db558964eb4b",
      "4f32d436738544418231bb9242ac66d1",
      "798f407e2f084992900952e90d0ae018",
      "8a8684e559484460b5eabaad70245441",
      "79c8028e18a744918e503d3218cf5b2c",
      "29b2a64024564bf0ad5238e5fa38e934",
      "00c0da6b84ad4100ac6bc560ba7dc4ab",
      "93dd402fe48e4936927162a39dde8147",
      "2c3deeabab2a450fb8596605fdf55d89",
      "94f25490266245b284286c8d8236c6ad",
      "0c8b23aa2672423c88624b84301e2496",
      "720cc4034b4e46c8b5abcf43fac2a7a2",
      "32ec1752eae842e58531e6e3d227767e",
      "10afa4deb9b94fecbb66211deea6137c",
      "15387ba3c44c4264be66682d9e4d8b28",
      "09ced38d656f46e1913988c55746307b",
      "be1898724fbb42e68d136cb607f84093",
      "1d0710e62acb43d7bc155a87b8c0afca",
      "d0ef69a90a4d45b6a45e2b69c7ffeed0",
      "4cc17cacd6ed43149d09f6bd50b5fc54",
      "ffb117d9a292489b90ca1f8a0bf9dfc9",
      "476dba5f604f448dabdfcf0670ff8f61",
      "e8a45538c72640529911ec6546ccfd6e",
      "9f4bad7c399343f69b38fecb4304f7a6",
      "270cf7305e364d6d9006abf50dc0b04d",
      "84605f9a0199417b881b8ca4022730ee",
      "4cdaa94bec484a82b19e2adf6f485f31",
      "7e97fba0f9fe4be899f42dbd42b5ac5a",
      "09cf49b152cb44aba8dacaf13f895901",
      "aeff355d3ed14827b1c5312a4931a9d3",
      "d444223480d44420b73ee4f1f4c40002",
      "3b1832012af647a3bddfbe28bde6c838",
      "ea8f9b6dcf054543ba8300f3b18d93ed",
      "f4cc04c7cc8a4a41aa467a6276428bc6",
      "1ee626011f7240c3ad716f82bfe2617a",
      "02b8904772b849509c011215456172a9",
      "5b85c7d845e4483d9522ad7810b56d24",
      "b2b2a003ae9743a894dbaa2d5045c465"
     ]
    },
    "id": "rsngiRh3NjDE",
    "outputId": "47e889a5-940a-48e9-cdc6-4de8162449cc"
   },
   "outputs": [],
   "source": [
    "from transformers import AutoTokenizer, AutoModelForSequenceClassification"
   ]
  },
  {
   "cell_type": "code",
   "execution_count": 14,
   "metadata": {
    "id": "AG9RjMb8Qlot"
   },
   "outputs": [],
   "source": [
    "from torch.utils.data import DataLoader"
   ]
  },
  {
   "cell_type": "code",
   "execution_count": 15,
   "metadata": {},
   "outputs": [],
   "source": [
    "from torch.utils.data import Dataset"
   ]
  },
  {
   "cell_type": "code",
   "execution_count": 16,
   "metadata": {
    "id": "ry_ieNro1kUa"
   },
   "outputs": [],
   "source": [
    "from transformers import BatchEncoding"
   ]
  },
  {
   "cell_type": "markdown",
   "metadata": {
    "id": "v19yOgi9OMjD"
   },
   "source": [
    "## Definindo paths"
   ]
  },
  {
   "cell_type": "code",
   "execution_count": 22,
   "metadata": {},
   "outputs": [],
   "source": [
    "DIRETORIO_LOCAL = '/home/borela/fontes/deep_learning_em_buscas_unicamp/local'\n",
    "DIRETORIO_TREC_COVID = F'{DIRETORIO_LOCAL}/trec_covid'\n",
    "DIRETORIO_MSMARCO = F'{DIRETORIO_LOCAL}/msmarco'\n",
    "DIRETORIO_TRABALHO = F'{DIRETORIO_LOCAL}/tradeoff'\n",
    "DIRETORIO_RUN = f\"{DIRETORIO_TRABALHO}/runs\"\n",
    "PATH_RUN_AVALIACAO = f\"{DIRETORIO_RUN}/run-trec-covid.txt\"\n",
    "PATH_RESULTADO_PIPELINE = f\"{DIRETORIO_TRABALHO}/resultado_pipeline.pickle\""
   ]
  },
  {
   "cell_type": "code",
   "execution_count": 23,
   "metadata": {},
   "outputs": [
    {
     "name": "stdout",
     "output_type": "stream",
     "text": [
      "pasta já existia!\n"
     ]
    }
   ],
   "source": [
    "if os.path.exists(DIRETORIO_LOCAL):\n",
    "    print('pasta já existia!')\n",
    "else:\n",
    "    os.makedirs(DIRETORIO_LOCAL)\n",
    "    print('pasta criada!')\n"
   ]
  },
  {
   "cell_type": "code",
   "execution_count": 24,
   "metadata": {},
   "outputs": [
    {
     "name": "stdout",
     "output_type": "stream",
     "text": [
      "pasta criada!\n"
     ]
    }
   ],
   "source": [
    "if os.path.exists(DIRETORIO_TRABALHO):\n",
    "    print('pasta já existia!')\n",
    "else:\n",
    "    os.makedirs(DIRETORIO_TRABALHO)\n",
    "    print('pasta criada!')\n"
   ]
  },
  {
   "cell_type": "code",
   "execution_count": 25,
   "metadata": {},
   "outputs": [
    {
     "name": "stdout",
     "output_type": "stream",
     "text": [
      "pasta criada!\n"
     ]
    }
   ],
   "source": [
    "if os.path.exists(DIRETORIO_RUN):\n",
    "    print('pasta já existia!')\n",
    "else:\n",
    "    os.makedirs(DIRETORIO_RUN)\n",
    "    print('pasta criada!')\n"
   ]
  },
  {
   "attachments": {},
   "cell_type": "markdown",
   "metadata": {},
   "source": [
    "## Outras inicializações"
   ]
  },
  {
   "cell_type": "code",
   "execution_count": 26,
   "metadata": {},
   "outputs": [],
   "source": [
    "device = torch.device('cuda:0' if torch.cuda.is_available() else 'cpu')"
   ]
  },
  {
   "attachments": {},
   "cell_type": "markdown",
   "metadata": {},
   "source": [
    "# Construindo o índice prebuilt trec-covid"
   ]
  },
  {
   "cell_type": "code",
   "execution_count": null,
   "metadata": {},
   "outputs": [],
   "source": [
    "tempo_inicio = time.time()\n",
    "LuceneSearcher.from_prebuilt_index('beir-v1.0.0-trec-covid.flat')\n",
    "tempo_construcao_indice_trecc_pyserine = round(time.time() - tempo_inicio, 6)"
   ]
  },
  {
   "cell_type": "code",
   "execution_count": 87,
   "metadata": {},
   "outputs": [
    {
     "name": "stdout",
     "output_type": "stream",
     "text": [
      "Tempo para construir índice TRECC com pyserini 0.003526 segundos\n"
     ]
    }
   ],
   "source": [
    "print(f\"Tempo para construir índice TRECC com pyserini {tempo_construcao_indice_trecc_pyserine} segundos\")"
   ]
  },
  {
   "cell_type": "code",
   "execution_count": null,
   "metadata": {},
   "outputs": [],
   "source": []
  },
  {
   "cell_type": "code",
   "execution_count": 28,
   "metadata": {},
   "outputs": [
    {
     "data": {
      "text/plain": [
       "'/home/borela/fontes/deep_learning_em_buscas_unicamp/code/aula_10_computational_tradeoffs'"
      ]
     },
     "execution_count": 28,
     "metadata": {},
     "output_type": "execute_result"
    }
   ],
   "source": [
    "os.getcwd()"
   ]
  },
  {
   "cell_type": "code",
   "execution_count": 29,
   "metadata": {},
   "outputs": [
    {
     "name": "stdout",
     "output_type": "stream",
     "text": [
      "lucene-index.beir-v1.0.0-trec-covid.flat.20221116.505594.57b812594b11d064a23123137ae7dade\n"
     ]
    }
   ],
   "source": [
    "!ls /home/borela/.cache/pyserini/indexes/"
   ]
  },
  {
   "cell_type": "code",
   "execution_count": 39,
   "metadata": {},
   "outputs": [],
   "source": [
    "NOME_INDICE_TRECC = os.popen('ls /home/borela/.cache/pyserini/indexes/').read()[:-1]\n",
    "PATH_INDICE_TRECC = \"/home/borela/.cache/pyserini/indexes/\" + NOME_INDICE_TRECC"
   ]
  },
  {
   "cell_type": "code",
   "execution_count": 36,
   "metadata": {},
   "outputs": [
    {
     "name": "stdout",
     "output_type": "stream",
     "text": [
      "total 4096\n",
      "drwxrwxr-x 2 borela borela 4096 nov 16 12:21 lucene-index.beir-v1.0.0-trec-covid.flat.20221116.505594.57b812594b11d064a23123137ae7dade\n"
     ]
    }
   ],
   "source": [
    "!ls  -l --block-size=1 /home/borela/.cache/pyserini/indexes/"
   ]
  },
  {
   "cell_type": "code",
   "execution_count": 31,
   "metadata": {},
   "outputs": [
    {
     "name": "stdout",
     "output_type": "stream",
     "text": [
      "lucene-index.beir-v1.0.0-trec-covid.flat.20221116.505594.57b812594b11d064a23123137ae7dade\n"
     ]
    }
   ],
   "source": [
    "print(NOME_INDICE_TRECC)"
   ]
  },
  {
   "cell_type": "code",
   "execution_count": 40,
   "metadata": {},
   "outputs": [
    {
     "name": "stdout",
     "output_type": "stream",
     "text": [
      "O tamanho do arquivo lucene-index.beir-v1.0.0-trec-covid.flat.20221116.505594.57b812594b11d064a23123137ae7dade é: 4096 bytes\n"
     ]
    }
   ],
   "source": [
    "tamanho_em_bytes_indice_trecc = os.path.getsize(PATH_INDICE_TRECC)\n",
    "print(\"O tamanho do arquivo\", NOME_INDICE_TRECC, \"é:\", tamanho_em_bytes_indice_trecc, \"bytes\")"
   ]
  },
  {
   "attachments": {},
   "cell_type": "markdown",
   "metadata": {},
   "source": [
    "O tamanho não está correto. Mas continuaremos o código deixando esse ponto pendente"
   ]
  },
  {
   "cell_type": "code",
   "execution_count": 37,
   "metadata": {},
   "outputs": [],
   "source": [
    "from pyserini.index import IndexReader\n"
   ]
  },
  {
   "cell_type": "code",
   "execution_count": 44,
   "metadata": {},
   "outputs": [
    {
     "name": "stdout",
     "output_type": "stream",
     "text": [
      "Número de documentos no índice: {'total_terms': 20822821, 'documents': 171331, 'non_empty_documents': 171331, 'unique_terms': 202648}\n"
     ]
    }
   ],
   "source": [
    "index_reader = IndexReader(PATH_INDICE_TRECC)\n",
    "num_docs = index_reader.stats()\n",
    "print(f'Número de documentos no índice: {num_docs}')"
   ]
  },
  {
   "cell_type": "code",
   "execution_count": 46,
   "metadata": {},
   "outputs": [
    {
     "data": {
      "text/plain": [
       "True"
      ]
     },
     "execution_count": 46,
     "metadata": {},
     "output_type": "execute_result"
    }
   ],
   "source": [
    "os.path.exists(PATH_INDICE_TRECC)"
   ]
  },
  {
   "attachments": {},
   "cell_type": "markdown",
   "metadata": {},
   "source": [
    "# Baixando os dados e preparando para avaliação "
   ]
  },
  {
   "attachments": {},
   "cell_type": "markdown",
   "metadata": {},
   "source": [
    "## Documentos"
   ]
  },
  {
   "cell_type": "code",
   "execution_count": 47,
   "metadata": {},
   "outputs": [
    {
     "name": "stdout",
     "output_type": "stream",
     "text": [
      "Já existia a pasta\n"
     ]
    }
   ],
   "source": [
    "if not os.path.exists(f\"{DIRETORIO_TREC_COVID}/corpus.jsonl.gz\"):\n",
    "    !wget https://huggingface.co/datasets/BeIR/trec-covid/resolve/main/corpus.jsonl.gz\n",
    "    !mv corpus.jsonl.gz {DIRETORIO_TREC_COVID}\n",
    "    print('Baixado')\n",
    "else:\n",
    "    print('Já existia a pasta')"
   ]
  },
  {
   "cell_type": "code",
   "execution_count": 48,
   "metadata": {},
   "outputs": [],
   "source": [
    "# Descompacte o arquivo para a memória\n",
    "with gzip.open(f'{DIRETORIO_TREC_COVID}/corpus.jsonl.gz', 'rt') as f:\n",
    "    # Leia o conteúdo do arquivo descompactado\n",
    "    corpus = [json.loads(line) for line in f]"
   ]
  },
  {
   "cell_type": "code",
   "execution_count": 49,
   "metadata": {},
   "outputs": [
    {
     "name": "stdout",
     "output_type": "stream",
     "text": [
      "<class 'list'> len(corpus): 171332 \n"
     ]
    }
   ],
   "source": [
    "# Exiba os dados carregados\n",
    "print(f\"{type(corpus)} len(corpus): {len(corpus)} \" )"
   ]
  },
  {
   "cell_type": "code",
   "execution_count": 52,
   "metadata": {},
   "outputs": [],
   "source": [
    "corpus_dict = {}\n",
    "\n",
    "for docto in corpus:\n",
    "    if ('title' in docto) and len(docto['title']) >= 5:\n",
    "        texto_usado_na_geracao_de_query = docto['title'] + '. ' + docto['text']\n",
    "    else:\n",
    "        texto_usado_na_geracao_de_query = docto['text']\n",
    "    corpus_dict[docto['_id']] = {'text_query_generation': texto_usado_na_geracao_de_query, \n",
    "                                 'title': docto['title'],\n",
    "                                 'text': docto['text']}"
   ]
  },
  {
   "cell_type": "code",
   "execution_count": 53,
   "metadata": {},
   "outputs": [
    {
     "name": "stdout",
     "output_type": "stream",
     "text": [
      "171332\n"
     ]
    }
   ],
   "source": [
    "print(len(corpus_dict))"
   ]
  },
  {
   "attachments": {},
   "cell_type": "markdown",
   "metadata": {},
   "source": [
    "## Queries"
   ]
  },
  {
   "cell_type": "code",
   "execution_count": 54,
   "metadata": {},
   "outputs": [],
   "source": [
    "from pyserini.search import get_topics"
   ]
  },
  {
   "cell_type": "code",
   "execution_count": 55,
   "metadata": {},
   "outputs": [
    {
     "name": "stdout",
     "output_type": "stream",
     "text": [
      "50 queries total\n"
     ]
    }
   ],
   "source": [
    "topics = get_topics('covid-round5')\n",
    "print(f'{len(topics)} queries total')"
   ]
  },
  {
   "cell_type": "code",
   "execution_count": 56,
   "metadata": {},
   "outputs": [
    {
     "data": {
      "text/plain": [
       "{'question': 'what is the origin of COVID-19',\n",
       " 'query': 'coronavirus origin',\n",
       " 'narrative': \"seeking range of information about the SARS-CoV-2 virus's origin, including its evolution, animal source, and first transmission into humans\"}"
      ]
     },
     "execution_count": 56,
     "metadata": {},
     "output_type": "execute_result"
    }
   ],
   "source": [
    "topics[1]"
   ]
  },
  {
   "attachments": {},
   "cell_type": "markdown",
   "metadata": {},
   "source": [
    "## Dados de relevância (qrel de teste)"
   ]
  },
  {
   "cell_type": "code",
   "execution_count": 57,
   "metadata": {},
   "outputs": [
    {
     "name": "stdout",
     "output_type": "stream",
     "text": [
      "Arquivo já existia\n"
     ]
    }
   ],
   "source": [
    "if not os.path.exists(f'{DIRETORIO_TREC_COVID}/test.tsv'):\n",
    "    !wget https://huggingface.co/datasets/BeIR/trec-covid-qrels/raw/main/test.tsv\n",
    "    !mv test.tsv {DIRETORIO_LOCAL}/\n",
    "else:\n",
    "    print('Arquivo já existia')"
   ]
  },
  {
   "cell_type": "code",
   "execution_count": 58,
   "metadata": {},
   "outputs": [],
   "source": [
    "qrel = pd.read_csv(f\"{DIRETORIO_TREC_COVID}/test.tsv\", sep=\"\\t\", header=None, \n",
    "                   skiprows=1, names=[\"query\", \"docid\", \"rel\"])"
   ]
  },
  {
   "cell_type": "code",
   "execution_count": 59,
   "metadata": {},
   "outputs": [
    {
     "data": {
      "text/html": [
       "<div>\n",
       "<style scoped>\n",
       "    .dataframe tbody tr th:only-of-type {\n",
       "        vertical-align: middle;\n",
       "    }\n",
       "\n",
       "    .dataframe tbody tr th {\n",
       "        vertical-align: top;\n",
       "    }\n",
       "\n",
       "    .dataframe thead th {\n",
       "        text-align: right;\n",
       "    }\n",
       "</style>\n",
       "<table border=\"1\" class=\"dataframe\">\n",
       "  <thead>\n",
       "    <tr style=\"text-align: right;\">\n",
       "      <th></th>\n",
       "      <th>query</th>\n",
       "      <th>docid</th>\n",
       "      <th>rel</th>\n",
       "    </tr>\n",
       "  </thead>\n",
       "  <tbody>\n",
       "    <tr>\n",
       "      <th>0</th>\n",
       "      <td>1</td>\n",
       "      <td>005b2j4b</td>\n",
       "      <td>2</td>\n",
       "    </tr>\n",
       "    <tr>\n",
       "      <th>1</th>\n",
       "      <td>1</td>\n",
       "      <td>00fmeepz</td>\n",
       "      <td>1</td>\n",
       "    </tr>\n",
       "    <tr>\n",
       "      <th>2</th>\n",
       "      <td>1</td>\n",
       "      <td>g7dhmyyo</td>\n",
       "      <td>2</td>\n",
       "    </tr>\n",
       "    <tr>\n",
       "      <th>3</th>\n",
       "      <td>1</td>\n",
       "      <td>0194oljo</td>\n",
       "      <td>1</td>\n",
       "    </tr>\n",
       "    <tr>\n",
       "      <th>4</th>\n",
       "      <td>1</td>\n",
       "      <td>021q9884</td>\n",
       "      <td>1</td>\n",
       "    </tr>\n",
       "  </tbody>\n",
       "</table>\n",
       "</div>"
      ],
      "text/plain": [
       "   query     docid  rel\n",
       "0      1  005b2j4b    2\n",
       "1      1  00fmeepz    1\n",
       "2      1  g7dhmyyo    2\n",
       "3      1  0194oljo    1\n",
       "4      1  021q9884    1"
      ]
     },
     "execution_count": 59,
     "metadata": {},
     "output_type": "execute_result"
    }
   ],
   "source": [
    "qrel.head()"
   ]
  },
  {
   "cell_type": "code",
   "execution_count": 60,
   "metadata": {},
   "outputs": [
    {
     "data": {
      "text/html": [
       "<div>\n",
       "<style scoped>\n",
       "    .dataframe tbody tr th:only-of-type {\n",
       "        vertical-align: middle;\n",
       "    }\n",
       "\n",
       "    .dataframe tbody tr th {\n",
       "        vertical-align: top;\n",
       "    }\n",
       "\n",
       "    .dataframe thead th {\n",
       "        text-align: right;\n",
       "    }\n",
       "</style>\n",
       "<table border=\"1\" class=\"dataframe\">\n",
       "  <thead>\n",
       "    <tr style=\"text-align: right;\">\n",
       "      <th></th>\n",
       "      <th>query</th>\n",
       "      <th>docid</th>\n",
       "      <th>rel</th>\n",
       "    </tr>\n",
       "  </thead>\n",
       "  <tbody>\n",
       "    <tr>\n",
       "      <th>0</th>\n",
       "      <td>1</td>\n",
       "      <td>005b2j4b</td>\n",
       "      <td>2</td>\n",
       "    </tr>\n",
       "    <tr>\n",
       "      <th>1</th>\n",
       "      <td>1</td>\n",
       "      <td>00fmeepz</td>\n",
       "      <td>1</td>\n",
       "    </tr>\n",
       "    <tr>\n",
       "      <th>2</th>\n",
       "      <td>1</td>\n",
       "      <td>g7dhmyyo</td>\n",
       "      <td>2</td>\n",
       "    </tr>\n",
       "    <tr>\n",
       "      <th>3</th>\n",
       "      <td>1</td>\n",
       "      <td>0194oljo</td>\n",
       "      <td>1</td>\n",
       "    </tr>\n",
       "    <tr>\n",
       "      <th>4</th>\n",
       "      <td>1</td>\n",
       "      <td>021q9884</td>\n",
       "      <td>1</td>\n",
       "    </tr>\n",
       "  </tbody>\n",
       "</table>\n",
       "</div>"
      ],
      "text/plain": [
       "   query     docid  rel\n",
       "0      1  005b2j4b    2\n",
       "1      1  00fmeepz    1\n",
       "2      1  g7dhmyyo    2\n",
       "3      1  0194oljo    1\n",
       "4      1  021q9884    1"
      ]
     },
     "execution_count": 60,
     "metadata": {},
     "output_type": "execute_result"
    }
   ],
   "source": [
    "qrel.head()"
   ]
  },
  {
   "cell_type": "code",
   "execution_count": 61,
   "metadata": {},
   "outputs": [],
   "source": [
    "qrel[\"q0\"] = \"q0\"\n",
    "qrel_dict = qrel.to_dict(orient=\"list\")"
   ]
  },
  {
   "cell_type": "code",
   "execution_count": 62,
   "metadata": {},
   "outputs": [
    {
     "data": {
      "text/plain": [
       "(1, '005b2j4b', 2)"
      ]
     },
     "execution_count": 62,
     "metadata": {},
     "output_type": "execute_result"
    }
   ],
   "source": [
    "qrel_dict['query'][0], qrel_dict['docid'][0], qrel_dict['rel'][0]"
   ]
  },
  {
   "attachments": {},
   "cell_type": "markdown",
   "metadata": {},
   "source": [
    "# Rotinas para cálculos e lógica a ser usada"
   ]
  },
  {
   "attachments": {},
   "cell_type": "markdown",
   "metadata": {},
   "source": [
    "\n",
    "Plano de ação:\n",
    "\n",
    "\n",
    "        Para cada pipeline, calcular  e salvar\n",
    "\n",
    "                indexação:\n",
    "                        tempo \n",
    "                        memória\n",
    "\n",
    "                retrieval: \n",
    "                        tempo_medio_por_query\n",
    "                        memória\n",
    "\n",
    "                resultado:\n",
    "                        ndcg@10\n",
    "        \n",
    "                Detalhes de implementação:  salvar no dict resultado_pipeline com key o nome pipeline e values outro dict:\n",
    "                        {\n",
    "                         'tempo_indexacao_segundo': lista de tuplas, conforme abaixo:\n",
    "                                        [{'tipo':'gpu'/'cpu', 'valor': float, segundos}], \n",
    "                         'memoria_indice_byte_ram'; float, em bytes\n",
    "                         'retrieval_tempo_medio_por_query': [{'tipo':'gpu'/'cpu', 'valor': float, segundos}], \n",
    "                         'se_retrieval_usa_gpu': boolean\n",
    "                         'ndcg_10': float formato 99,99}\n",
    "                \n",
    "                        sendo o tempo em segundos e memória em kbytes\n",
    "\n",
    "\n",
    "        Criar método explora_contexto que a partir dos parâmetros:\n",
    "                \n",
    "                tipo_gpu\n",
    "                        3090\n",
    "\n",
    "\n",
    "                resultado_pipeline (passo anterior)\n",
    "\n",
    "\n",
    "                calcula \n",
    "                        usd/query\n",
    "                        usd/mês\n",
    "\n",
    "                para os seguintes contextos: \n",
    "                        \"utilizacao_perfeita\" (assim que terminou de processar uma query, já tem outra para ser processada)\n",
    "                        \"utilizacao_precaria_100\" (sistema precisar rodar 24h/7h, mas apenas 100 queries/dia)\n",
    "\n",
    "\n",
    "                Detalhes de implementação: salva em um novo dict avaliacao_pipeline_contexto com key o nome do pipeline e value outro dict:\n",
    "                {<nome contexto>: \n",
    "                        {'usd_query':, \n",
    "                         'usd_mes';, }\n",
    "                }\n",
    "\n",
    "\n",
    "        Testar os seguintes pipelines:\n",
    "\n",
    "                bm25 \n",
    "                bm25@100_reranking_minilm\n",
    "                bm25@1000_reranking_minilm\n",
    "                splade\n",
    "\n",
    "                (se der tempo:)\n",
    "                bm25@100_reranking_monot5_3b\n",
    "                bm25@1000_reranking_monot5_3b\n",
    "                dpr\n",
    "\n",
    "\n",
    "                Detalhes de implementação: criar lista lista_pipeline com nomes acima\n"
   ]
  },
  {
   "attachments": {},
   "cell_type": "markdown",
   "metadata": {},
   "source": [
    "(pode usar 3090, mas estimar o custo para A100, considerar quantas vezes mais lentas: a100 tem x flops e custa Z, daí derivar o 3090)\n",
    "\n",
    "\n",
    "        Velocidade do clock: 1,40 GHz (Boost Clock 1,70 GHz)\n",
    "        Memória de vídeo (VRAM): 24 GB\n",
    "\n",
    "https://versus.com/br/nvidia-geforce-rtx-3090-vs-nvidia-tesla-t4\n",
    "\n",
    "\n",
    "\n",
    "    Por que Nvidia GeForce RTX 3090 é melhor que Nvidia Tesla T4?\n",
    "        Clock do GPU 390MHz mais rápido?\n",
    "            1395MHz vs 1005MHz\n",
    "        Desempenho 27.82 TFLOPS maior de ponto flutuante?\n",
    "            35.58 TFLOPS vs 7.76 TFLOPS\n",
    "        Taxa de píxeis 92.84 GPixel/s maior?\n",
    "            189.8 GPixel/s vs 96.96 GPixel/s\n",
    "        Mais 8GB de VRAM?\n",
    "            24GB vs 16GB\n",
    "        Velocidade efetiva do clock da memória 9500MHz maior?\n",
    "            19500MHz vs 10000MHz\n",
    "        Taxa de textura 313.6 GTexels/s maior?\n",
    "            556 GTexels/s vs 242.4 GTexels/s\n",
    "        616GB/s mais largura de banda de memória?\n",
    "            936GB/s vs 320GB/s\n",
    "        Suporta ray tracing\n"
   ]
  },
  {
   "attachments": {},
   "cell_type": "markdown",
   "metadata": {},
   "source": [
    "Memórica de cálculo de custo de GPU 3090\n",
    "\n",
    "Parâmetro de cálculo, site encontrado que tem tanto 3090 quanto uma das definidas no enunciado do exercício.\n",
    "\n",
    "\n",
    "Em [https://cloud.vast.ai](https://cloud.vast.ai/create?utm_medium=cpc&utm_target=&device=c&gad=1&gclid=Cj0KCQjwr82iBhCuARIsAO0EAZxdEU16ZYFVO9asqO5T3yMYqs1Y3WL3YbHbFIVh-8p_b4Svp9k0HLYaAgUVEALw_wcB&utm_content=633581964120&placement=&utm_group=143233570036&adposition=&utm_source=google&utm_campaign=18841339102_search) \n",
    "\n",
    "        3090  (44.1tflops/24gb) 0.20 a 0.33. \n",
    "        v100 (14.8tflops/16gb) 2.30 a 3.06 \n",
    "        a100 (19.5tflops/80gb) 1.55 a 1.8\n",
    "\n",
    "\n",
    "Considerando que no enunciado diz:\n",
    "        \n",
    "        1,50 USD/hora por A100 ou 0,21 USD/hora por T4 ou 0,50 USD/hora por V100\n",
    "\n",
    "\n",
    "Considerando a proporção de a100 para 3090 do site cloud.vast.ai: 6x\n",
    "\n",
    "Assumiremos custo de 0,25 USD/hora\n",
    "\n",
    "Mudando para segundo:\n",
    "\n",
    "Regra de 3:\n",
    "        3600 s       1s\n",
    "        0,25         x\n",
    "\n",
    "        x = 25e-2 / 3600 = 6,944...e-5\n"
   ]
  },
  {
   "cell_type": "code",
   "execution_count": 113,
   "metadata": {},
   "outputs": [
    {
     "name": "stdout",
     "output_type": "stream",
     "text": [
      "6.944444444444444e-05\n"
     ]
    }
   ],
   "source": [
    "print( 25e-2 / 3600 )"
   ]
  },
  {
   "attachments": {},
   "cell_type": "markdown",
   "metadata": {},
   "source": [
    "Algumas suposições para cálculo\n",
    "\n",
    "Para fins de cálculo de memória ram, computaremos apenas o espaço ocupado pelo índice (o fator mais diferenciável entre os pipelines), descartando ocupações em memória por outros objetos e variáveis\n"
   ]
  },
  {
   "attachments": {},
   "cell_type": "markdown",
   "metadata": {},
   "source": [
    "Outros valores definidos no enunciado - transformando\n",
    "\n",
    "        0,03 USD/hora por CPU core\n",
    "        0,005 USD/hora por GB de CPU RAM\n",
    "\n",
    "\n"
   ]
  },
  {
   "attachments": {},
   "cell_type": "markdown",
   "metadata": {},
   "source": [
    "Mudando para bytes:\n"
   ]
  },
  {
   "cell_type": "code",
   "execution_count": 67,
   "metadata": {},
   "outputs": [
    {
     "name": "stdout",
     "output_type": "stream",
     "text": [
      "4.656612873077393e-12\n"
     ]
    }
   ],
   "source": [
    "print( 0.005 / 2**30)"
   ]
  },
  {
   "attachments": {},
   "cell_type": "markdown",
   "metadata": {},
   "source": [
    "Constantes de valores"
   ]
  },
  {
   "cell_type": "code",
   "execution_count": 116,
   "metadata": {},
   "outputs": [],
   "source": [
    "custo_gpu_segundo = {'3090': 6.944e-5}"
   ]
  },
  {
   "cell_type": "code",
   "execution_count": 128,
   "metadata": {},
   "outputs": [],
   "source": [
    "CUSTO_RAM_CPU_HORA_BYTE = 4.656e-12"
   ]
  },
  {
   "cell_type": "code",
   "execution_count": 120,
   "metadata": {},
   "outputs": [],
   "source": [
    "CUSTO_CPU_ALOCADA_HORA = 0.03\n",
    "\n"
   ]
  },
  {
   "cell_type": "code",
   "execution_count": 122,
   "metadata": {},
   "outputs": [
    {
     "name": "stdout",
     "output_type": "stream",
     "text": [
      "8.333333333333334e-06\n"
     ]
    }
   ],
   "source": [
    "print(CUSTO_CPU_ALOCADA_HORA / 3600)"
   ]
  },
  {
   "cell_type": "code",
   "execution_count": 123,
   "metadata": {},
   "outputs": [],
   "source": [
    "CUSTO_CPU_ALOCADA_SEGUNDO = 8.333e-6\n"
   ]
  },
  {
   "cell_type": "markdown",
   "metadata": {},
   "source": [
    "Variáveis usadas"
   ]
  },
  {
   "cell_type": "code",
   "execution_count": null,
   "metadata": {},
   "outputs": [],
   "source": [
    "lista_pipeline = [  'bm25',\n",
    "                    'bm25@100_reranking_minilm',\n",
    "                    'bm25@1000_reranking_minilm',\n",
    "                    'bm25@100_reranking_monot5_3b',\n",
    "                    'bm25@1000_reranking_monot5_3b',\n",
    "                    'splade',\n",
    "                    'dpr']"
   ]
  },
  {
   "cell_type": "code",
   "execution_count": null,
   "metadata": {},
   "outputs": [],
   "source": [
    "resultado_pipeline = {}\n",
    "avaliacao_pipeline_contexto = {}"
   ]
  },
  {
   "attachments": {},
   "cell_type": "markdown",
   "metadata": {},
   "source": [
    "## Funções de apoio"
   ]
  },
  {
   "cell_type": "code",
   "execution_count": 114,
   "metadata": {},
   "outputs": [],
   "source": [
    "def retorna_calculo_contexto (parm_resultado_pipeline: dict,\n",
    "                      parm_tipo_gpu:str='3090',\n",
    "                      ):\n",
    "    \"\"\"\n",
    "      Método para efetuar cálculos de gastos conforme\n",
    "        parm_tipo_gpu\n",
    "        parm_resultado_pipeline\n",
    "     \n",
    "    \"\"\" \n",
    "    global lista_pipeline \n",
    "    assert parm_tipo_gpu in ['3090'], f\"parm_tipo_gpu {parm_tipo_gpu} não está previsto para cálculos!\"\n",
    "\n",
    "    resultado = {}\n",
    "    for contexto in ['utilizacao_perfeita', 'utilizacao_precaria_100']:\n",
    "        avaliacao_contexto = calcula_gastos(parm_resultado_pipeline, parm_tipo_gpu, contexto)\n",
    "        resultado[contexto]= avaliacao_contexto\n",
    "    return resultado\n",
    "    \n",
    "\n",
    "\n"
   ]
  },
  {
   "cell_type": "code",
   "execution_count": 133,
   "metadata": {},
   "outputs": [],
   "source": [
    "def calcula_gastos (parm_dados: dict,\n",
    "                      parm_tipo_gpu:str='3090',\n",
    "                      parm_contexto:str='utilizacao_perfeita'):\n",
    "    \"\"\"\n",
    "        parm_dados deve ter:\n",
    "                        {'tempo_indexacao_segundo':, lista de tuplas, conforme abaixo:\n",
    "                                        [{'tipo':'gpu'/'cpu', 'valor': float, segundos}], \n",
    "                         'memoria_indice_byte_ram';, \n",
    "                         'retrieval_tempo_medio_por_query':,\n",
    "                         'se_retrieval_usa_gpu':}\n",
    "\n",
    "    \"\"\"\n",
    "    global custo_gpu_segundo, CUSTO_RAM_CPU_HORA_BYTE, CUSTO_CPU_ALOCADA_HORA, CUSTO_CPU_ALOCADA_SEGUNDO\n",
    "    lista_chave_esperada = ['tempo_indexacao_segundo','memoria_indice_byte_ram','retrieval_tempo_medio_por_query','se_retrieval_usa_gpu']\n",
    "    assert parm_tipo_gpu in ['3090'], f\"parm_tipo_gpu {parm_tipo_gpu} não está previsto para cálculos!\"\n",
    "    assert parm_contexto in ['utilizacao_perfeita', 'utilizacao_precaria_100'], f\"parm_contexto {parm_contexto} não está previsto para cálculos!\"\n",
    "    \n",
    "    for chave in lista_chave_esperada:\n",
    "        assert chave in parm_dados, f\"chave {chave} não está em parm_dados {parm_dados} para os cálculos!\"\n",
    "\n",
    "    dict_retorno = {}\n",
    "\n",
    "\n",
    "    # custo indexacao\n",
    "    custo_indexacao_tempo = 0\n",
    "\n",
    "    ## acumular custo por tempo\n",
    "    for tempo_valor in parm_dados['tempo_indexacao_segundo']:\n",
    "        if tempo_valor['tipo'] == 'cpu':\n",
    "            custo_indexacao_tempo +=  tempo_valor['valor'] * CUSTO_CPU_ALOCADA_SEGUNDO \n",
    "        elif tempo_valor['tipo'] == 'gpu':\n",
    "            custo_indexacao_tempo +=  tempo_valor['valor'] * CUSTO_CPU_ALOCADA_SEGUNDO\n",
    "        else:\n",
    "            raise Exception(f\"Tipo de tempo deveria ser cpu ou gpu e não {tempo_valor['tipo']}\")\n",
    "\n",
    "\n",
    "    # tem que deixar cpu disponível 24h\n",
    "    custo_cpu_dia = 24 * CUSTO_CPU_ALOCADA_HORA\n",
    "\n",
    "    # índice tem que ficar em memória\n",
    "    custo_memoria_dia = 24 * parm_dados['memoria_indice_byte_ram'] * CUSTO_RAM_CPU_HORA_BYTE\n",
    "\n",
    "    custo_dia = custo_memoria_dia + custo_cpu_dia\n",
    "\n",
    "    custo_gpu_dia = 0\n",
    "\n",
    "    if parm_contexto == 'utilizacao_perfeita': #(assim que terminou de processar uma query, já tem outra para ser processada)\n",
    "\n",
    "        if parm_dados['se_retrieval_usa_gpu']:\n",
    "            custo_gpu_dia = 24 * 3600 * custo_gpu_segundo[parm_tipo_gpu]\n",
    "            custo_dia += custo_gpu_dia \n",
    "            print(f\"para {parm_contexto} custo gpu dia: {custo_gpu_dia}\")\n",
    "\n",
    "        num_queries_dia = (24 * 3600) / parm_dados['retrieval_tempo_medio_por_query']\n",
    "        custo_query = round(custo_dia / num_queries_dia, 10)\n",
    "\n",
    "    elif parm_contexto == 'utilizacao_precaria_100': #(assim que terminou de processar uma query, já tem outra para ser processada)\n",
    "\n",
    "        if parm_dados['se_retrieval_usa_gpu']:\n",
    "            custo_gpu_dia = 100 * parm_dados['retrieval_tempo_medio_por_query'] * custo_gpu_segundo[parm_tipo_gpu]\n",
    "            custo_dia += custo_gpu_dia \n",
    "            print(f\"para {parm_contexto} custo gpu dia: {custo_gpu_dia}\")\n",
    "\n",
    "        num_queries_dia = 100\n",
    "        custo_query = round(custo_dia / num_queries_dia, 10)\n",
    "\n",
    "    return {'usd_query': custo_query, \n",
    "            'usd_dia': custo_dia,\n",
    "            'usd_gpu_dia': custo_gpu_dia,\n",
    "            'usd_mes': (30 * custo_dia),\n",
    "            'usd_indexacao_tempo': custo_indexacao_tempo, \n",
    "             }\n"
   ]
  },
  {
   "attachments": {},
   "cell_type": "markdown",
   "metadata": {},
   "source": [
    "# Realiza buscas com os pipelines"
   ]
  },
  {
   "cell_type": "code",
   "execution_count": 71,
   "metadata": {},
   "outputs": [],
   "source": [
    "trec_eval = load(\"trec_eval\")"
   ]
  },
  {
   "attachments": {},
   "cell_type": "markdown",
   "metadata": {},
   "source": [
    "# Pipeline BM25"
   ]
  },
  {
   "attachments": {},
   "cell_type": "markdown",
   "metadata": {},
   "source": [
    "## Objetos de apoio"
   ]
  },
  {
   "cell_type": "code",
   "execution_count": 96,
   "metadata": {},
   "outputs": [],
   "source": [
    "nome_pipeline = 'bm25'"
   ]
  },
  {
   "cell_type": "code",
   "execution_count": 72,
   "metadata": {},
   "outputs": [],
   "source": [
    "num_max_hits = 1000"
   ]
  },
  {
   "cell_type": "code",
   "execution_count": 73,
   "metadata": {
    "id": "dUJuMaOKPmoZ"
   },
   "outputs": [],
   "source": [
    "# Run all queries in topics, retrive top 1k for each query\n",
    "def run_all_queries_bm25(file, topics, searcher, num_max_hits=100):\n",
    "  \"\"\"\n",
    "  A função run_all_queries é responsável por realizar todas as consultas armazenadas no dicionário topics utilizando o objeto searcher fornecido e salvar os resultados em um arquivo de texto.\n",
    "  Usada no notebook da aula 2\n",
    "\n",
    "  Parâmetros:\n",
    "\n",
    "  file: caminho do arquivo de saída onde serão salvos os resultados das consultas.\n",
    "  topics: dicionário contendo as consultas a serem executadas. Cada consulta é representada por uma chave única no dicionário. O valor correspondente a cada chave é um outro dicionário contendo as informações da consulta, como seu título e outras informações relevantes.\n",
    "  searcher: objeto do tipo Searcher que será utilizado para realizar as consultas.\n",
    "  num_max_hits: número máximo de documentos relevantes que serão retornados para cada consulta.\n",
    "  Retorno:\n",
    "\n",
    "  A função não retorna nenhum valor, mas salva os resultados das consultas no arquivo especificado em file.\n",
    "  Comentário:\n",
    "\n",
    "  A função usa a biblioteca tqdm para exibir uma barra de progresso enquanto executa as consultas.\n",
    "  O número de consultas concluídas é impresso a cada 100 consultas.\n",
    "  \"\"\"\n",
    "  tempos = []\n",
    "  print(f'Running {len(topics)} queries in total')\n",
    "  with open(file, 'w') as runfile:\n",
    "    cnt = 0\n",
    "    for id in tqdm(topics, desc='Running Queries'):\n",
    "        # print(f'id = {id}')\n",
    "        query = topics[id]['question']\n",
    "        # print(f'query = {query}')\n",
    "        tempo_inicio = time.time()\n",
    "        hits = searcher.search(query, num_max_hits)\n",
    "        tempos.append(time.time() - tempo_inicio)\n",
    "\n",
    "        for i in range(0, len(hits)):\n",
    "            _ = runfile.write(f'{id} Q0 {hits[i].docid} {i+1} {hits[i].score:.6f} Busca\\n')\n",
    "            # = runfile.write('{} Q0 {} {} {:.6f} Pyserini\\n'.format(id, hits[i].docid, i+1, hits[i].score))\n",
    "        cnt += 1\n",
    "        if cnt % 100 == 0:\n",
    "            print(f'{cnt} queries completed')\n",
    "  return tempos\n"
   ]
  },
  {
   "cell_type": "code",
   "execution_count": 74,
   "metadata": {},
   "outputs": [],
   "source": [
    "searcher = LuceneSearcher(PATH_INDICE_TRECC) # './indexes/lucene-index-msmarco-passage')"
   ]
  },
  {
   "attachments": {},
   "cell_type": "markdown",
   "metadata": {},
   "source": [
    "## Parâmetros k1=1.12, b=0.4"
   ]
  },
  {
   "cell_type": "code",
   "execution_count": 79,
   "metadata": {},
   "outputs": [],
   "source": [
    "resultado_execucao = {}"
   ]
  },
  {
   "cell_type": "code",
   "execution_count": 95,
   "metadata": {},
   "outputs": [],
   "source": [
    "resultado_execucao['tempo_indexacao_segundo'] = [{'tipo':'cpu', 'valor': tempo_construcao_indice_trecc_pyserine}]\n",
    "resultado_execucao['memoria_indice_byte_ram'] = tamanho_em_bytes_indice_trecc\n",
    "resultado_execucao['se_retrieval_usa_gpu'] = False"
   ]
  },
  {
   "cell_type": "code",
   "execution_count": 75,
   "metadata": {},
   "outputs": [],
   "source": [
    "searcher.set_bm25(k1=1.12, b=0.4)    # valor sugerido pelo Dr Carísio em seu grid na tarefa Doc2Query"
   ]
  },
  {
   "cell_type": "code",
   "execution_count": 77,
   "metadata": {},
   "outputs": [
    {
     "name": "stdout",
     "output_type": "stream",
     "text": [
      "Running 50 queries in total\n"
     ]
    },
    {
     "name": "stderr",
     "output_type": "stream",
     "text": [
      "Running Queries: 100%|██████████| 50/50 [00:02<00:00, 21.03it/s]\n"
     ]
    }
   ],
   "source": [
    "tempo_gasto = run_all_queries_bm25(PATH_RUN_AVALIACAO, topics, searcher, num_max_hits)"
   ]
  },
  {
   "cell_type": "code",
   "execution_count": 78,
   "metadata": {},
   "outputs": [
    {
     "data": {
      "text/plain": [
       "count    50.000000\n",
       "mean      0.046159\n",
       "std       0.021009\n",
       "min       0.033853\n",
       "25%       0.039101\n",
       "50%       0.041183\n",
       "75%       0.046580\n",
       "max       0.182469\n",
       "Name: tempo_gasto, dtype: float64"
      ]
     },
     "execution_count": 78,
     "metadata": {},
     "output_type": "execute_result"
    }
   ],
   "source": [
    "df_tempos = pd.DataFrame({'tempo_gasto': tempo_gasto})\n",
    "df_tempos['tempo_gasto'].describe()"
   ]
  },
  {
   "cell_type": "code",
   "execution_count": 81,
   "metadata": {},
   "outputs": [
    {
     "data": {
      "text/plain": [
       "0.046159"
      ]
     },
     "execution_count": 81,
     "metadata": {},
     "output_type": "execute_result"
    }
   ],
   "source": [
    "round(df_tempos['tempo_gasto'].describe()['mean'],6)"
   ]
  },
  {
   "cell_type": "code",
   "execution_count": 82,
   "metadata": {},
   "outputs": [],
   "source": [
    "resultado_execucao['retrieval_tempo_medio_por_query'] = round(df_tempos['tempo_gasto'].describe()['mean'],6)"
   ]
  },
  {
   "attachments": {},
   "cell_type": "markdown",
   "metadata": {},
   "source": [
    "### Avaliação"
   ]
  },
  {
   "cell_type": "code",
   "execution_count": 91,
   "metadata": {},
   "outputs": [
    {
     "name": "stdout",
     "output_type": "stream",
     "text": [
      "   query  q0     docid  rank      score system\n",
      "0     44  Q0  xfjexm5b     1  11.889200  Busca\n",
      "1     44  Q0  28utunid     2  10.906200  Busca\n",
      "2     44  Q0  qi1henyy     3  10.906199  Busca\n",
      "3     44  Q0  ugkxxaeb     4  10.638000  Busca\n",
      "4     44  Q0  qp77vl6h     5  10.487900  Busca\n"
     ]
    }
   ],
   "source": [
    "### Calculando métricas\n",
    "run = pd.read_csv(f\"{PATH_RUN_AVALIACAO}\", sep=\"\\s+\", \n",
    "                names=[\"query\", \"q0\", \"docid\", \"rank\", \"score\", \"system\"])\n",
    "print(run.head())\n",
    "run = run.to_dict(orient=\"list\")"
   ]
  },
  {
   "cell_type": "code",
   "execution_count": 92,
   "metadata": {},
   "outputs": [
    {
     "name": "stdout",
     "output_type": "stream",
     "text": [
      "NDCG@10: 0.6187936694210939\n",
      "Resultados: {'runid': 'Busca', 'num_ret': 50000, 'num_rel': 24673, 'num_rel_ret': 9804, 'num_q': 50, 'map': 0.19397103009765435, 'gm_map': 0.13129328791759654, 'bpref': 0.334829488236771, 'Rprec': 0.28961812585830815, 'recip_rank': 0.8518571428571429, 'P@5': 0.7080000000000001, 'P@10': 0.67, 'P@15': 0.6453333333333333, 'P@20': 0.6199999999999999, 'P@30': 0.5946666666666667, 'P@100': 0.48460000000000003, 'P@200': 0.4014000000000001, 'P@500': 0.28308, 'P@1000': 0.19608, 'NDCG@5': 0.6494195661372965, 'NDCG@10': 0.6187936694210939, 'NDCG@15': 0.5930265595572919, 'NDCG@20': 0.5686991493574204, 'NDCG@30': 0.5424134242812346, 'NDCG@100': 0.45176650622218156, 'NDCG@200': 0.39092334821357283, 'NDCG@500': 0.3643405602785105, 'NDCG@1000': 0.4143286268113492}\n"
     ]
    }
   ],
   "source": [
    "results = trec_eval.compute(predictions=[run], references=[qrel_dict])\n",
    "# salvando métricas    \n",
    "print(f\"NDCG@10: {results['NDCG@10']}\")\n",
    "print(f\"Resultados: {results}\")\n"
   ]
  },
  {
   "cell_type": "code",
   "execution_count": 93,
   "metadata": {},
   "outputs": [],
   "source": [
    "resultado_execucao['ndcg_10'] = round(100*results['NDCG@10'],2)"
   ]
  },
  {
   "cell_type": "code",
   "execution_count": 100,
   "metadata": {},
   "outputs": [],
   "source": [
    "resultado_pipeline[nome_pipeline] = resultado_execucao"
   ]
  },
  {
   "cell_type": "code",
   "execution_count": 107,
   "metadata": {},
   "outputs": [
    {
     "data": {
      "text/plain": [
       "{'retrieval_tempo_medio_por_query': 0.046159,\n",
       " 'tempo_indexacao_segundo': [{'tipo': 'cpu', 'valor': 0.003526}],\n",
       " 'ndcg_10': 61.88,\n",
       " 'memoria_indice_byte_ram': 4096,\n",
       " 'se_retrieval_usa_gpu': False}"
      ]
     },
     "execution_count": 107,
     "metadata": {},
     "output_type": "execute_result"
    }
   ],
   "source": [
    "resultado_execucao"
   ]
  },
  {
   "cell_type": "code",
   "execution_count": 101,
   "metadata": {},
   "outputs": [],
   "source": [
    "avaliacao_pipeline_contexto= {}"
   ]
  },
  {
   "cell_type": "code",
   "execution_count": 135,
   "metadata": {},
   "outputs": [
    {
     "name": "stdout",
     "output_type": "stream",
     "text": [
      "{'utilizacao_perfeita': {'usd_query': 3.847e-07, 'usd_dia': 0.720000457703424, 'usd_gpu_dia': 0, 'usd_mes': 21.60001373110272, 'usd_indexacao_tempo': 2.9382158e-08}, 'utilizacao_precaria_100': {'usd_query': 0.0072000046, 'usd_dia': 0.720000457703424, 'usd_gpu_dia': 0, 'usd_mes': 21.60001373110272, 'usd_indexacao_tempo': 2.9382158e-08}}\n"
     ]
    }
   ],
   "source": [
    "avaliacao_pipeline_contexto[nome_pipeline] = retorna_calculo_contexto(resultado_execucao, parm_tipo_gpu='3090')\n",
    "print(avaliacao_pipeline_contexto[nome_pipeline] )"
   ]
  },
  {
   "attachments": {},
   "cell_type": "markdown",
   "metadata": {
    "id": "aT7_riDtAj_8"
   },
   "source": [
    "# Preparação para reranking"
   ]
  },
  {
   "cell_type": "code",
   "execution_count": 61,
   "metadata": {
    "id": "XeakUpqJeQpz"
   },
   "outputs": [],
   "source": [
    "class MyDataset(Dataset):\n",
    "    \"\"\"\n",
    "      Classe para representar um dataset de texto e classes.\n",
    "    \"\"\"  \n",
    "    def __init__(self, texts: np.ndarray, classes:list[int], tokenizer):\n",
    "      \"\"\"\n",
    "      Inicializa um novo objeto MyDataset.\n",
    "\n",
    "      Args:\n",
    "          texts (np.ndarray): um array com as strings de texto. Cada linha deve ter 2 strings.\n",
    "          classes (np.ndarray): um array com as classes de cada texto.\n",
    "          tokenizer: um objeto tokenizer do Hugging Face Transformers.\n",
    "          max_seq_length (int): o tamanho máximo da sequência a ser considerado.\n",
    "      Raises:\n",
    "          AssertionError: se os parâmetros não estiverem no formato esperado.\n",
    "      \"\"\"\n",
    "      # Verifica se os parâmetros são do tipo esperado\n",
    "      assert isinstance(texts, np.ndarray), f\"Parâmetro texts deve ser do tipo np.ndarray e não {type(texts)}\"\n",
    "      assert texts.shape[1] == 2, \"Array must have 2 columns\"\n",
    "      for row in texts:\n",
    "          assert isinstance(row, np.ndarray) and row.shape == (2,), f\"Each row in texts must have 2 elements\"\n",
    "          assert isinstance(row[0], str) and isinstance(row[1], str), f\"Each element in texts.row must be a string e não {type(row[0])}\"\n",
    "      assert isinstance(classes,np.ndarray), f'classes deve ser do tipo np.ndarray e não {type(classes)}'\n",
    "      assert isinstance(classes[0],np.int64), f'classes[0] deve ser do tipo numpy.int64 e não {type(classes[0])} '\n",
    "\n",
    "      self.texts = texts\n",
    "      self.classes = classes\n",
    "      self.tokenizer = tokenizer\n",
    "      self.max_seq_length = tokenizer.model_max_length # model.config.max_position_embeddings\n",
    "      if self.max_seq_length > 64000:\n",
    "        print(f\"Valor de self.max_seq_length  {self.max_seq_length} indica que deve ser usado outro campo do tokenizador. Assumido 512 \")\n",
    "        self.max_seq_length =  512\n",
    "      # Salvar os dados dos tensores\n",
    "      x_data_input_ids = []\n",
    "      x_data_token_type_ids = []\n",
    "      x_data_attention_masks = []\n",
    "      for text_pair in tqdm(texts, desc='encoding text pair'):\n",
    "          encoding = tokenizer.encode_plus(\n",
    "              text_pair[0],\n",
    "              text_pair[1],\n",
    "              add_special_tokens=True,\n",
    "              max_length=self.max_seq_length,\n",
    "              padding='max_length',\n",
    "              return_tensors = 'pt',\n",
    "              truncation=True,\n",
    "              return_attention_mask=True,\n",
    "              return_token_type_ids=True\n",
    "          )\n",
    "          x_data_input_ids.append(encoding['input_ids'].long())\n",
    "          x_data_token_type_ids.append(encoding['token_type_ids'].long())\n",
    "          x_data_attention_masks.append(encoding['attention_mask'].long())\n",
    "      print(F'\\tVou converter lista para tensor;  Momento: {time.strftime(\"[%Y-%b-%d %H:%M:%S]\")}')\n",
    "      # squeeze: vai transformar um tensor de shape [2, 1, 322] em um tensor de shape [2, 322].\n",
    "\n",
    "      self.x_tensor_input_ids = torch.stack(x_data_input_ids).squeeze(1)\n",
    "      self.x_tensor_attention_masks = torch.stack(x_data_attention_masks).squeeze(1)\n",
    "      self.x_tensor_token_type_ids = torch.stack(x_data_token_type_ids).squeeze(1)\n",
    "\n",
    "    def __len__(self):\n",
    "        \"\"\"\n",
    "          Retorna o tamanho do dataset (= tamanho do array texts)\n",
    "        \"\"\"\n",
    "        return len(self.texts)\n",
    "    \n",
    "    def __getitem__(self, idx):\n",
    "        \"\"\"\n",
    "          Retorna um dicionário com os dados do texto e sua classe correspondente, em um formato que pode \n",
    "          ser usado pelo dataloader do PyTorch para alimentar um modelo de aprendizado de máquina.\n",
    "        \"\"\"\n",
    "        return {\n",
    "            'input_ids': self.x_tensor_input_ids[idx],\n",
    "            'attention_mask': self.x_tensor_attention_masks[idx],\n",
    "            'token_type_ids': self.x_tensor_token_type_ids[idx],\n",
    "            # 'labels': int(self.classes[idx])\n",
    "            'labels': torch.tensor(self.classes[idx], dtype=torch.long)            \n",
    "        }"
   ]
  },
  {
   "cell_type": "code",
   "execution_count": 62,
   "metadata": {
    "id": "RvfCt_vJ28Au"
   },
   "outputs": [],
   "source": [
    "def calcula_relevancia(parm_model, parm_dataloader_reranking):\n",
    "  # para 'cross-encoder/ms-marco-TinyBERT-L-2'\n",
    "  prob_relevancia = []\n",
    "  parm_model.eval()\n",
    "  with torch.no_grad():\n",
    "      for ndx, batch in tqdm(enumerate(parm_dataloader_reranking), total=len(parm_dataloader_reranking), mininterval=0.5, desc='dataset_reranking', disable=False):\n",
    "          logits_model = parm_model(**BatchEncoding(batch).to(device)).logits                          \n",
    "          relevantes_float = [float(t) for t in logits_model]\n",
    "          prob_relevancia.extend(relevantes_float)          \n",
    "          # prob_relevancia.append(pa.array(scores.numpy()))\n",
    "  return prob_relevancia"
   ]
  },
  {
   "cell_type": "code",
   "execution_count": 63,
   "metadata": {},
   "outputs": [],
   "source": [
    "def calcula_relevancia_minilm(parm_model, parm_dataloader_reranking):\n",
    "  prob_relevancia = []\n",
    "  parm_model.eval()\n",
    "  with torch.no_grad():\n",
    "      for ndx, batch in tqdm(enumerate(parm_dataloader_reranking), total=len(parm_dataloader_reranking), mininterval=0.5, desc='dataset_reranking', disable=False):\n",
    "          #print(\"\\nbatch['input_ids'][0]\", batch['input_ids'][0])\n",
    "          #print(\"batch['input_ids'][1]\", batch['input_ids'][1])\n",
    "          logits_model = parm_model(**BatchEncoding(batch).to(device)).logits\n",
    "          probs = torch.nn.functional.softmax(logits_model, dim=1)\n",
    "          nao_relevante, relevante = zip(*probs)\n",
    "          relevantes_float = [float(t) for t in relevante]\n",
    "          # print('logits_model', logits_model)\n",
    "          prob_relevancia.extend(relevantes_float)\n",
    "          # prob_relevancia.append(pa.array(scores.numpy()))\n",
    "          # print('probs',probs)\n",
    "          # print('relevantes_float',relevantes_float)\n",
    "          # break\n",
    "  return prob_relevancia"
   ]
  },
  {
   "cell_type": "code",
   "execution_count": 64,
   "metadata": {},
   "outputs": [
    {
     "data": {
      "text/plain": [
       "dict_keys(['query', 'q0', 'docid', 'rank', 'score', 'system'])"
      ]
     },
     "execution_count": 64,
     "metadata": {},
     "output_type": "execute_result"
    }
   ],
   "source": [
    "# aproveitamos saída do bm25 com melhor ndcg@10 testado\n",
    "run_estagio_1.keys()"
   ]
  },
  {
   "cell_type": "code",
   "execution_count": 65,
   "metadata": {},
   "outputs": [
    {
     "data": {
      "text/plain": [
       "50000"
      ]
     },
     "execution_count": 65,
     "metadata": {},
     "output_type": "execute_result"
    }
   ],
   "source": [
    "len(run_estagio_1['query'])"
   ]
  },
  {
   "cell_type": "code",
   "execution_count": 66,
   "metadata": {},
   "outputs": [
    {
     "data": {
      "text/plain": [
       "(44, 'Q0', 'xfjexm5b', 1, 11.8892, 'Busca')"
      ]
     },
     "execution_count": 66,
     "metadata": {},
     "output_type": "execute_result"
    }
   ],
   "source": [
    "run_estagio_1['query'][0], run_estagio_1['q0'][0], run_estagio_1['docid'][0], run_estagio_1['rank'][0], run_estagio_1['score'][0], run_estagio_1['system'][0]"
   ]
  },
  {
   "cell_type": "code",
   "execution_count": 67,
   "metadata": {},
   "outputs": [],
   "source": [
    "df_reranking_entrada = pd.DataFrame(run_estagio_1)"
   ]
  },
  {
   "cell_type": "code",
   "execution_count": 79,
   "metadata": {},
   "outputs": [
    {
     "data": {
      "text/plain": [
       "(50000, 8)"
      ]
     },
     "execution_count": 79,
     "metadata": {},
     "output_type": "execute_result"
    }
   ],
   "source": [
    "df_reranking_entrada.shape"
   ]
  },
  {
   "attachments": {},
   "cell_type": "markdown",
   "metadata": {},
   "source": [
    "Acrescentar o texto da query e o texto do documento"
   ]
  },
  {
   "cell_type": "code",
   "execution_count": 69,
   "metadata": {},
   "outputs": [
    {
     "data": {
      "text/plain": [
       "{'question': 'what is the origin of COVID-19',\n",
       " 'query': 'coronavirus origin',\n",
       " 'narrative': \"seeking range of information about the SARS-CoV-2 virus's origin, including its evolution, animal source, and first transmission into humans\"}"
      ]
     },
     "execution_count": 69,
     "metadata": {},
     "output_type": "execute_result"
    }
   ],
   "source": [
    "topics[1]"
   ]
  },
  {
   "cell_type": "code",
   "execution_count": 70,
   "metadata": {},
   "outputs": [],
   "source": [
    "df_reranking_entrada['query_text'] = df_reranking_entrada['query'].apply(lambda x: topics[x]['question'])"
   ]
  },
  {
   "cell_type": "code",
   "execution_count": 71,
   "metadata": {},
   "outputs": [
    {
     "data": {
      "text/html": [
       "<div>\n",
       "<style scoped>\n",
       "    .dataframe tbody tr th:only-of-type {\n",
       "        vertical-align: middle;\n",
       "    }\n",
       "\n",
       "    .dataframe tbody tr th {\n",
       "        vertical-align: top;\n",
       "    }\n",
       "\n",
       "    .dataframe thead th {\n",
       "        text-align: right;\n",
       "    }\n",
       "</style>\n",
       "<table border=\"1\" class=\"dataframe\">\n",
       "  <thead>\n",
       "    <tr style=\"text-align: right;\">\n",
       "      <th></th>\n",
       "      <th>query</th>\n",
       "      <th>q0</th>\n",
       "      <th>docid</th>\n",
       "      <th>rank</th>\n",
       "      <th>score</th>\n",
       "      <th>system</th>\n",
       "      <th>query_text</th>\n",
       "    </tr>\n",
       "  </thead>\n",
       "  <tbody>\n",
       "    <tr>\n",
       "      <th>0</th>\n",
       "      <td>44</td>\n",
       "      <td>Q0</td>\n",
       "      <td>xfjexm5b</td>\n",
       "      <td>1</td>\n",
       "      <td>11.889200</td>\n",
       "      <td>Busca</td>\n",
       "      <td>How much impact do masks have on preventing th...</td>\n",
       "    </tr>\n",
       "    <tr>\n",
       "      <th>1</th>\n",
       "      <td>44</td>\n",
       "      <td>Q0</td>\n",
       "      <td>28utunid</td>\n",
       "      <td>2</td>\n",
       "      <td>10.906200</td>\n",
       "      <td>Busca</td>\n",
       "      <td>How much impact do masks have on preventing th...</td>\n",
       "    </tr>\n",
       "    <tr>\n",
       "      <th>2</th>\n",
       "      <td>44</td>\n",
       "      <td>Q0</td>\n",
       "      <td>qi1henyy</td>\n",
       "      <td>3</td>\n",
       "      <td>10.906199</td>\n",
       "      <td>Busca</td>\n",
       "      <td>How much impact do masks have on preventing th...</td>\n",
       "    </tr>\n",
       "    <tr>\n",
       "      <th>3</th>\n",
       "      <td>44</td>\n",
       "      <td>Q0</td>\n",
       "      <td>ugkxxaeb</td>\n",
       "      <td>4</td>\n",
       "      <td>10.638000</td>\n",
       "      <td>Busca</td>\n",
       "      <td>How much impact do masks have on preventing th...</td>\n",
       "    </tr>\n",
       "    <tr>\n",
       "      <th>4</th>\n",
       "      <td>44</td>\n",
       "      <td>Q0</td>\n",
       "      <td>qp77vl6h</td>\n",
       "      <td>5</td>\n",
       "      <td>10.487900</td>\n",
       "      <td>Busca</td>\n",
       "      <td>How much impact do masks have on preventing th...</td>\n",
       "    </tr>\n",
       "  </tbody>\n",
       "</table>\n",
       "</div>"
      ],
      "text/plain": [
       "   query  q0     docid  rank      score system   \n",
       "0     44  Q0  xfjexm5b     1  11.889200  Busca  \\\n",
       "1     44  Q0  28utunid     2  10.906200  Busca   \n",
       "2     44  Q0  qi1henyy     3  10.906199  Busca   \n",
       "3     44  Q0  ugkxxaeb     4  10.638000  Busca   \n",
       "4     44  Q0  qp77vl6h     5  10.487900  Busca   \n",
       "\n",
       "                                          query_text  \n",
       "0  How much impact do masks have on preventing th...  \n",
       "1  How much impact do masks have on preventing th...  \n",
       "2  How much impact do masks have on preventing th...  \n",
       "3  How much impact do masks have on preventing th...  \n",
       "4  How much impact do masks have on preventing th...  "
      ]
     },
     "execution_count": 71,
     "metadata": {},
     "output_type": "execute_result"
    }
   ],
   "source": [
    "df_reranking_entrada.head()"
   ]
  },
  {
   "cell_type": "code",
   "execution_count": 72,
   "metadata": {},
   "outputs": [
    {
     "data": {
      "text/plain": [
       "'Impact of self-imposed prevent'"
      ]
     },
     "execution_count": 72,
     "metadata": {},
     "output_type": "execute_result"
    }
   ],
   "source": [
    "corpus_dict['xfjexm5b']['text_query_generation'][:30]"
   ]
  },
  {
   "cell_type": "code",
   "execution_count": 73,
   "metadata": {},
   "outputs": [],
   "source": [
    "df_reranking_entrada['doc_text'] = df_reranking_entrada['docid'].apply(lambda x: corpus_dict[x]['text_query_generation'])"
   ]
  },
  {
   "cell_type": "code",
   "execution_count": 74,
   "metadata": {},
   "outputs": [
    {
     "data": {
      "text/html": [
       "<div>\n",
       "<style scoped>\n",
       "    .dataframe tbody tr th:only-of-type {\n",
       "        vertical-align: middle;\n",
       "    }\n",
       "\n",
       "    .dataframe tbody tr th {\n",
       "        vertical-align: top;\n",
       "    }\n",
       "\n",
       "    .dataframe thead th {\n",
       "        text-align: right;\n",
       "    }\n",
       "</style>\n",
       "<table border=\"1\" class=\"dataframe\">\n",
       "  <thead>\n",
       "    <tr style=\"text-align: right;\">\n",
       "      <th></th>\n",
       "      <th>query</th>\n",
       "      <th>q0</th>\n",
       "      <th>docid</th>\n",
       "      <th>rank</th>\n",
       "      <th>score</th>\n",
       "      <th>system</th>\n",
       "      <th>query_text</th>\n",
       "      <th>doc_text</th>\n",
       "    </tr>\n",
       "  </thead>\n",
       "  <tbody>\n",
       "    <tr>\n",
       "      <th>0</th>\n",
       "      <td>44</td>\n",
       "      <td>Q0</td>\n",
       "      <td>xfjexm5b</td>\n",
       "      <td>1</td>\n",
       "      <td>11.889200</td>\n",
       "      <td>Busca</td>\n",
       "      <td>How much impact do masks have on preventing th...</td>\n",
       "      <td>Impact of self-imposed prevention measures and...</td>\n",
       "    </tr>\n",
       "    <tr>\n",
       "      <th>1</th>\n",
       "      <td>44</td>\n",
       "      <td>Q0</td>\n",
       "      <td>28utunid</td>\n",
       "      <td>2</td>\n",
       "      <td>10.906200</td>\n",
       "      <td>Busca</td>\n",
       "      <td>How much impact do masks have on preventing th...</td>\n",
       "      <td>To mask or not to mask: Modeling the potential...</td>\n",
       "    </tr>\n",
       "    <tr>\n",
       "      <th>2</th>\n",
       "      <td>44</td>\n",
       "      <td>Q0</td>\n",
       "      <td>qi1henyy</td>\n",
       "      <td>3</td>\n",
       "      <td>10.906199</td>\n",
       "      <td>Busca</td>\n",
       "      <td>How much impact do masks have on preventing th...</td>\n",
       "      <td>To mask or not to mask: Modeling the potential...</td>\n",
       "    </tr>\n",
       "    <tr>\n",
       "      <th>3</th>\n",
       "      <td>44</td>\n",
       "      <td>Q0</td>\n",
       "      <td>ugkxxaeb</td>\n",
       "      <td>4</td>\n",
       "      <td>10.638000</td>\n",
       "      <td>Busca</td>\n",
       "      <td>How much impact do masks have on preventing th...</td>\n",
       "      <td>Masking the general population might attenuate...</td>\n",
       "    </tr>\n",
       "    <tr>\n",
       "      <th>4</th>\n",
       "      <td>44</td>\n",
       "      <td>Q0</td>\n",
       "      <td>qp77vl6h</td>\n",
       "      <td>5</td>\n",
       "      <td>10.487900</td>\n",
       "      <td>Busca</td>\n",
       "      <td>How much impact do masks have on preventing th...</td>\n",
       "      <td>Analysis on Novel Coronavirus (COVID-19) Using...</td>\n",
       "    </tr>\n",
       "  </tbody>\n",
       "</table>\n",
       "</div>"
      ],
      "text/plain": [
       "   query  q0     docid  rank      score system   \n",
       "0     44  Q0  xfjexm5b     1  11.889200  Busca  \\\n",
       "1     44  Q0  28utunid     2  10.906200  Busca   \n",
       "2     44  Q0  qi1henyy     3  10.906199  Busca   \n",
       "3     44  Q0  ugkxxaeb     4  10.638000  Busca   \n",
       "4     44  Q0  qp77vl6h     5  10.487900  Busca   \n",
       "\n",
       "                                          query_text   \n",
       "0  How much impact do masks have on preventing th...  \\\n",
       "1  How much impact do masks have on preventing th...   \n",
       "2  How much impact do masks have on preventing th...   \n",
       "3  How much impact do masks have on preventing th...   \n",
       "4  How much impact do masks have on preventing th...   \n",
       "\n",
       "                                            doc_text  \n",
       "0  Impact of self-imposed prevention measures and...  \n",
       "1  To mask or not to mask: Modeling the potential...  \n",
       "2  To mask or not to mask: Modeling the potential...  \n",
       "3  Masking the general population might attenuate...  \n",
       "4  Analysis on Novel Coronavirus (COVID-19) Using...  "
      ]
     },
     "execution_count": 74,
     "metadata": {},
     "output_type": "execute_result"
    }
   ],
   "source": [
    "df_reranking_entrada.head()"
   ]
  },
  {
   "cell_type": "code",
   "execution_count": 75,
   "metadata": {},
   "outputs": [],
   "source": [
    "df_reranking_entrada['query_text'] = df_reranking_entrada['query_text'].astype(str)\n",
    "df_reranking_entrada['doc_text'] = df_reranking_entrada['doc_text'].astype(str)"
   ]
  },
  {
   "cell_type": "code",
   "execution_count": 80,
   "metadata": {},
   "outputs": [],
   "source": [
    "del df_reranking_entrada['system']"
   ]
  },
  {
   "cell_type": "code",
   "execution_count": 81,
   "metadata": {},
   "outputs": [],
   "source": [
    "df_reranking_entrada.rename(columns={'rank': 'rank_estagio1', 'score': 'score_estagio1'}, inplace=True)"
   ]
  },
  {
   "cell_type": "code",
   "execution_count": 82,
   "metadata": {},
   "outputs": [],
   "source": [
    "df_reranking_entrada.to_csv(f\"{DIRETORIO_TRABALHO}/df_reranking_entrada.csv\")"
   ]
  },
  {
   "attachments": {},
   "cell_type": "markdown",
   "metadata": {
    "id": "aT7_riDtAj_8"
   },
   "source": [
    "## Modelo de teste (treinado no ms-marco)"
   ]
  },
  {
   "attachments": {},
   "cell_type": "markdown",
   "metadata": {},
   "source": [
    "Vi depois que estava usando o modelo errado.\n",
    "Só descobri depois (com apoio do Carísio)...\n",
    "\n",
    "Não era para ser  cross-encoder/ms-marco-TinyBERT-L-2\n",
    "Mas sim: cross-encoder/ms-marco-MiniLM-L-6-v2\n",
    "\n",
    "Teria que reexecutar o fine-tunning novamente e experimentar os cortes de relevância"
   ]
  },
  {
   "cell_type": "code",
   "execution_count": 224,
   "metadata": {},
   "outputs": [],
   "source": [
    "# nome_modelo = 'cross-encoder/ms-marco-TinyBERT-L-2'\n",
    "nome_modelo = 'cross-encoder/ms-marco-MiniLM-L-6-v2'\n",
    "model = AutoModelForSequenceClassification.from_pretrained(nome_modelo).to(device)\n",
    "tokenizer = AutoTokenizer.from_pretrained(nome_modelo)"
   ]
  },
  {
   "cell_type": "code",
   "execution_count": null,
   "metadata": {},
   "outputs": [
    {
     "data": {
      "text/plain": [
       "(512, 509, 512)"
      ]
     },
     "metadata": {},
     "output_type": "display_data"
    }
   ],
   "source": [
    "model.config.max_position_embeddings, tokenizer.max_len_sentences_pair, tokenizer.model_max_length"
   ]
  },
  {
   "cell_type": "code",
   "execution_count": null,
   "metadata": {
    "colab": {
     "base_uri": "https://localhost:8080/"
    },
    "id": "-MT5MpOcBfCl",
    "outputId": "a153d84f-92fb-47ed-e185-612b1ece94a0"
   },
   "outputs": [
    {
     "name": "stdout",
     "output_type": "stream",
     "text": [
      "carregando dataset\n",
      "(50000,)\n"
     ]
    },
    {
     "name": "stderr",
     "output_type": "stream",
     "text": [
      "encoding text pair: 100%|██████████| 50000/50000 [00:47<00:00, 1056.78it/s]\n"
     ]
    },
    {
     "name": "stdout",
     "output_type": "stream",
     "text": [
      "\tVou converter lista para tensor;  Momento: [2023-mai-04 12:00:40]\n",
      "CPU times: user 47.7 s, sys: 168 ms, total: 47.9 s\n",
      "Wall time: 47.7 s\n"
     ]
    }
   ],
   "source": [
    "%%time\n",
    "print(\"carregando dataset\")  \n",
    "classes_dummy = np.zeros(len(df_reranking_entrada), dtype=np.int64)\n",
    "print(classes_dummy.shape)\n",
    "dataset_reranking = MyDataset(texts=df_reranking_entrada[['query_text','doc_text']].values, classes=classes_dummy, tokenizer=tokenizer)    "
   ]
  },
  {
   "cell_type": "code",
   "execution_count": null,
   "metadata": {
    "id": "K_vZwfZSBfCm"
   },
   "outputs": [],
   "source": [
    "dataloader_reranking = DataLoader(dataset_reranking,\n",
    "                                  batch_size= 4, \n",
    "                                  shuffle=False)"
   ]
  },
  {
   "cell_type": "code",
   "execution_count": null,
   "metadata": {
    "colab": {
     "base_uri": "https://localhost:8080/"
    },
    "id": "_MUHIjATfDpT",
    "outputId": "2c85289e-4b32-474c-abeb-dc58885e6d91"
   },
   "outputs": [
    {
     "name": "stderr",
     "output_type": "stream",
     "text": [
      "dataset_reranking: 100%|██████████| 12500/12500 [00:37<00:00, 330.84it/s]"
     ]
    },
    {
     "name": "stdout",
     "output_type": "stream",
     "text": [
      "CPU times: user 37.7 s, sys: 120 ms, total: 37.8 s\n",
      "Wall time: 37.8 s\n"
     ]
    },
    {
     "name": "stderr",
     "output_type": "stream",
     "text": [
      "\n"
     ]
    }
   ],
   "source": [
    "%%time\n",
    "prob_relevancia_tinybert = calcula_relevancia(model,dataloader_reranking)"
   ]
  },
  {
   "cell_type": "code",
   "execution_count": null,
   "metadata": {
    "id": "FWG_u7lgCiSs"
   },
   "outputs": [],
   "source": [
    "df_reranking_entrada['score_tinybert'] = prob_relevancia_tinybert"
   ]
  },
  {
   "cell_type": "code",
   "execution_count": null,
   "metadata": {
    "id": "IDx6t2OeCiSt"
   },
   "outputs": [],
   "source": [
    "# Agrupa os registros por id_query e ordena cada grupo pelo score_reranking\n",
    "df_reranking = df_reranking_entrada.groupby('query', group_keys=False).apply(lambda x: x.sort_values(['score_tinybert'], ascending=[False]))"
   ]
  },
  {
   "cell_type": "code",
   "execution_count": null,
   "metadata": {
    "id": "NCRcXMSFCiSt"
   },
   "outputs": [],
   "source": [
    "df_reranking['reranking'] = df_reranking.groupby('query').cumcount() + 1"
   ]
  },
  {
   "cell_type": "code",
   "execution_count": null,
   "metadata": {},
   "outputs": [
    {
     "data": {
      "text/html": [
       "<div>\n",
       "<style scoped>\n",
       "    .dataframe tbody tr th:only-of-type {\n",
       "        vertical-align: middle;\n",
       "    }\n",
       "\n",
       "    .dataframe tbody tr th {\n",
       "        vertical-align: top;\n",
       "    }\n",
       "\n",
       "    .dataframe thead th {\n",
       "        text-align: right;\n",
       "    }\n",
       "</style>\n",
       "<table border=\"1\" class=\"dataframe\">\n",
       "  <thead>\n",
       "    <tr style=\"text-align: right;\">\n",
       "      <th></th>\n",
       "      <th>query</th>\n",
       "      <th>q0</th>\n",
       "      <th>docid</th>\n",
       "      <th>rank_estagio1</th>\n",
       "      <th>score_estagio1</th>\n",
       "      <th>query_text</th>\n",
       "      <th>doc_text</th>\n",
       "      <th>score_tinybert</th>\n",
       "      <th>reranking</th>\n",
       "    </tr>\n",
       "  </thead>\n",
       "  <tbody>\n",
       "    <tr>\n",
       "      <th>5</th>\n",
       "      <td>44</td>\n",
       "      <td>Q0</td>\n",
       "      <td>ej76fsxa</td>\n",
       "      <td>6</td>\n",
       "      <td>10.013600</td>\n",
       "      <td>How much impact do masks have on preventing th...</td>\n",
       "      <td>Teach, and teach and teach: does the average c...</td>\n",
       "      <td>3.942430</td>\n",
       "      <td>1</td>\n",
       "    </tr>\n",
       "    <tr>\n",
       "      <th>87</th>\n",
       "      <td>44</td>\n",
       "      <td>Q0</td>\n",
       "      <td>1oth8r7g</td>\n",
       "      <td>88</td>\n",
       "      <td>8.159400</td>\n",
       "      <td>How much impact do masks have on preventing th...</td>\n",
       "      <td>Understanding the spreading patterns of COVID-...</td>\n",
       "      <td>3.929078</td>\n",
       "      <td>2</td>\n",
       "    </tr>\n",
       "    <tr>\n",
       "      <th>773</th>\n",
       "      <td>44</td>\n",
       "      <td>Q0</td>\n",
       "      <td>z59cvvkf</td>\n",
       "      <td>774</td>\n",
       "      <td>6.355699</td>\n",
       "      <td>How much impact do masks have on preventing th...</td>\n",
       "      <td>Environmental perspective of COVID-19. The out...</td>\n",
       "      <td>3.883955</td>\n",
       "      <td>3</td>\n",
       "    </tr>\n",
       "    <tr>\n",
       "      <th>448</th>\n",
       "      <td>44</td>\n",
       "      <td>Q0</td>\n",
       "      <td>9b6cepf4</td>\n",
       "      <td>449</td>\n",
       "      <td>6.836400</td>\n",
       "      <td>How much impact do masks have on preventing th...</td>\n",
       "      <td>Community Use Of Face Masks And COVID-19: Evid...</td>\n",
       "      <td>3.792098</td>\n",
       "      <td>4</td>\n",
       "    </tr>\n",
       "    <tr>\n",
       "      <th>772</th>\n",
       "      <td>44</td>\n",
       "      <td>Q0</td>\n",
       "      <td>j4hnldk4</td>\n",
       "      <td>773</td>\n",
       "      <td>6.355700</td>\n",
       "      <td>How much impact do masks have on preventing th...</td>\n",
       "      <td>Environmental perspective of COVID-19. Abstrac...</td>\n",
       "      <td>3.779235</td>\n",
       "      <td>5</td>\n",
       "    </tr>\n",
       "    <tr>\n",
       "      <th>...</th>\n",
       "      <td>...</td>\n",
       "      <td>...</td>\n",
       "      <td>...</td>\n",
       "      <td>...</td>\n",
       "      <td>...</td>\n",
       "      <td>...</td>\n",
       "      <td>...</td>\n",
       "      <td>...</td>\n",
       "      <td>...</td>\n",
       "    </tr>\n",
       "    <tr>\n",
       "      <th>541</th>\n",
       "      <td>44</td>\n",
       "      <td>Q0</td>\n",
       "      <td>p8jrm5df</td>\n",
       "      <td>542</td>\n",
       "      <td>6.664600</td>\n",
       "      <td>How much impact do masks have on preventing th...</td>\n",
       "      <td>Navigating the Zika panic.. The epidemics of E...</td>\n",
       "      <td>-6.976887</td>\n",
       "      <td>996</td>\n",
       "    </tr>\n",
       "    <tr>\n",
       "      <th>926</th>\n",
       "      <td>44</td>\n",
       "      <td>Q0</td>\n",
       "      <td>qdy29oym</td>\n",
       "      <td>927</td>\n",
       "      <td>6.206700</td>\n",
       "      <td>How much impact do masks have on preventing th...</td>\n",
       "      <td>Seeking Membranes: Positive-Strand RNA Virus R...</td>\n",
       "      <td>-6.994773</td>\n",
       "      <td>997</td>\n",
       "    </tr>\n",
       "    <tr>\n",
       "      <th>568</th>\n",
       "      <td>44</td>\n",
       "      <td>Q0</td>\n",
       "      <td>yajnzgd5</td>\n",
       "      <td>569</td>\n",
       "      <td>6.608700</td>\n",
       "      <td>How much impact do masks have on preventing th...</td>\n",
       "      <td>Unconscious Bias, Racism, and Trauma-Informed ...</td>\n",
       "      <td>-6.997178</td>\n",
       "      <td>998</td>\n",
       "    </tr>\n",
       "    <tr>\n",
       "      <th>158</th>\n",
       "      <td>44</td>\n",
       "      <td>Q0</td>\n",
       "      <td>gwg7vnkv</td>\n",
       "      <td>159</td>\n",
       "      <td>7.687600</td>\n",
       "      <td>How much impact do masks have on preventing th...</td>\n",
       "      <td>Scientific Opinion on an update on the present...</td>\n",
       "      <td>-6.998663</td>\n",
       "      <td>999</td>\n",
       "    </tr>\n",
       "    <tr>\n",
       "      <th>696</th>\n",
       "      <td>44</td>\n",
       "      <td>Q0</td>\n",
       "      <td>1rzcrkmt</td>\n",
       "      <td>697</td>\n",
       "      <td>6.449700</td>\n",
       "      <td>How much impact do masks have on preventing th...</td>\n",
       "      <td>Outdoor environments and human pathogens in ai...</td>\n",
       "      <td>-7.014114</td>\n",
       "      <td>1000</td>\n",
       "    </tr>\n",
       "  </tbody>\n",
       "</table>\n",
       "<p>1000 rows × 9 columns</p>\n",
       "</div>"
      ],
      "text/plain": [
       "     query  q0     docid  rank_estagio1  score_estagio1   \n",
       "5       44  Q0  ej76fsxa              6       10.013600  \\\n",
       "87      44  Q0  1oth8r7g             88        8.159400   \n",
       "773     44  Q0  z59cvvkf            774        6.355699   \n",
       "448     44  Q0  9b6cepf4            449        6.836400   \n",
       "772     44  Q0  j4hnldk4            773        6.355700   \n",
       "..     ...  ..       ...            ...             ...   \n",
       "541     44  Q0  p8jrm5df            542        6.664600   \n",
       "926     44  Q0  qdy29oym            927        6.206700   \n",
       "568     44  Q0  yajnzgd5            569        6.608700   \n",
       "158     44  Q0  gwg7vnkv            159        7.687600   \n",
       "696     44  Q0  1rzcrkmt            697        6.449700   \n",
       "\n",
       "                                            query_text   \n",
       "5    How much impact do masks have on preventing th...  \\\n",
       "87   How much impact do masks have on preventing th...   \n",
       "773  How much impact do masks have on preventing th...   \n",
       "448  How much impact do masks have on preventing th...   \n",
       "772  How much impact do masks have on preventing th...   \n",
       "..                                                 ...   \n",
       "541  How much impact do masks have on preventing th...   \n",
       "926  How much impact do masks have on preventing th...   \n",
       "568  How much impact do masks have on preventing th...   \n",
       "158  How much impact do masks have on preventing th...   \n",
       "696  How much impact do masks have on preventing th...   \n",
       "\n",
       "                                              doc_text  score_tinybert   \n",
       "5    Teach, and teach and teach: does the average c...        3.942430  \\\n",
       "87   Understanding the spreading patterns of COVID-...        3.929078   \n",
       "773  Environmental perspective of COVID-19. The out...        3.883955   \n",
       "448  Community Use Of Face Masks And COVID-19: Evid...        3.792098   \n",
       "772  Environmental perspective of COVID-19. Abstrac...        3.779235   \n",
       "..                                                 ...             ...   \n",
       "541  Navigating the Zika panic.. The epidemics of E...       -6.976887   \n",
       "926  Seeking Membranes: Positive-Strand RNA Virus R...       -6.994773   \n",
       "568  Unconscious Bias, Racism, and Trauma-Informed ...       -6.997178   \n",
       "158  Scientific Opinion on an update on the present...       -6.998663   \n",
       "696  Outdoor environments and human pathogens in ai...       -7.014114   \n",
       "\n",
       "     reranking  \n",
       "5            1  \n",
       "87           2  \n",
       "773          3  \n",
       "448          4  \n",
       "772          5  \n",
       "..         ...  \n",
       "541        996  \n",
       "926        997  \n",
       "568        998  \n",
       "158        999  \n",
       "696       1000  \n",
       "\n",
       "[1000 rows x 9 columns]"
      ]
     },
     "metadata": {},
     "output_type": "display_data"
    }
   ],
   "source": [
    "df_reranking[df_reranking['query']==44]"
   ]
  },
  {
   "attachments": {},
   "cell_type": "markdown",
   "metadata": {},
   "source": [
    "### Avaliação"
   ]
  },
  {
   "cell_type": "code",
   "execution_count": null,
   "metadata": {},
   "outputs": [],
   "source": [
    "df_reranking.rename(columns={'reranking': 'rank', 'score_tinybert':'score'}, inplace=True)"
   ]
  },
  {
   "cell_type": "code",
   "execution_count": null,
   "metadata": {},
   "outputs": [],
   "source": [
    "df_reranking['q0'] = 'q0'\n",
    "df_reranking['system'] = 'tinybert'"
   ]
  },
  {
   "cell_type": "code",
   "execution_count": null,
   "metadata": {},
   "outputs": [
    {
     "data": {
      "text/html": [
       "<div>\n",
       "<style scoped>\n",
       "    .dataframe tbody tr th:only-of-type {\n",
       "        vertical-align: middle;\n",
       "    }\n",
       "\n",
       "    .dataframe tbody tr th {\n",
       "        vertical-align: top;\n",
       "    }\n",
       "\n",
       "    .dataframe thead th {\n",
       "        text-align: right;\n",
       "    }\n",
       "</style>\n",
       "<table border=\"1\" class=\"dataframe\">\n",
       "  <thead>\n",
       "    <tr style=\"text-align: right;\">\n",
       "      <th></th>\n",
       "      <th>query</th>\n",
       "      <th>q0</th>\n",
       "      <th>docid</th>\n",
       "      <th>rank_estagio1</th>\n",
       "      <th>score_estagio1</th>\n",
       "      <th>query_text</th>\n",
       "      <th>doc_text</th>\n",
       "      <th>score</th>\n",
       "      <th>rank</th>\n",
       "      <th>system</th>\n",
       "    </tr>\n",
       "  </thead>\n",
       "  <tbody>\n",
       "    <tr>\n",
       "      <th>18393</th>\n",
       "      <td>2</td>\n",
       "      <td>q0</td>\n",
       "      <td>4grjr0h3</td>\n",
       "      <td>394</td>\n",
       "      <td>4.481100</td>\n",
       "      <td>how does the coronavirus respond to changes in...</td>\n",
       "      <td>Unified feature association networks through i...</td>\n",
       "      <td>-7.048757</td>\n",
       "      <td>996</td>\n",
       "      <td>tinybert</td>\n",
       "    </tr>\n",
       "    <tr>\n",
       "      <th>18451</th>\n",
       "      <td>2</td>\n",
       "      <td>q0</td>\n",
       "      <td>pabdj7v4</td>\n",
       "      <td>452</td>\n",
       "      <td>4.360500</td>\n",
       "      <td>how does the coronavirus respond to changes in...</td>\n",
       "      <td>Health workers' perceptions and experiences of...</td>\n",
       "      <td>-7.048936</td>\n",
       "      <td>997</td>\n",
       "      <td>tinybert</td>\n",
       "    </tr>\n",
       "    <tr>\n",
       "      <th>18430</th>\n",
       "      <td>2</td>\n",
       "      <td>q0</td>\n",
       "      <td>if4w9vg4</td>\n",
       "      <td>431</td>\n",
       "      <td>4.403200</td>\n",
       "      <td>how does the coronavirus respond to changes in...</td>\n",
       "      <td>Are your cash-flow tools recession ready?. Abs...</td>\n",
       "      <td>-7.050327</td>\n",
       "      <td>998</td>\n",
       "      <td>tinybert</td>\n",
       "    </tr>\n",
       "    <tr>\n",
       "      <th>18751</th>\n",
       "      <td>2</td>\n",
       "      <td>q0</td>\n",
       "      <td>i64q5d26</td>\n",
       "      <td>752</td>\n",
       "      <td>3.966199</td>\n",
       "      <td>how does the coronavirus respond to changes in...</td>\n",
       "      <td>On-farm biosecurity as perceived by profession...</td>\n",
       "      <td>-7.050867</td>\n",
       "      <td>999</td>\n",
       "      <td>tinybert</td>\n",
       "    </tr>\n",
       "    <tr>\n",
       "      <th>18739</th>\n",
       "      <td>2</td>\n",
       "      <td>q0</td>\n",
       "      <td>gwjgngk7</td>\n",
       "      <td>740</td>\n",
       "      <td>3.978300</td>\n",
       "      <td>how does the coronavirus respond to changes in...</td>\n",
       "      <td>Higher tourism specialization, better hotel in...</td>\n",
       "      <td>-7.058733</td>\n",
       "      <td>1000</td>\n",
       "      <td>tinybert</td>\n",
       "    </tr>\n",
       "    <tr>\n",
       "      <th>19123</th>\n",
       "      <td>3</td>\n",
       "      <td>q0</td>\n",
       "      <td>t3sjv4hv</td>\n",
       "      <td>124</td>\n",
       "      <td>7.711899</td>\n",
       "      <td>will SARS-CoV2 infected people develop immunit...</td>\n",
       "      <td>SARS-CoV-2 infection protects against rechalle...</td>\n",
       "      <td>3.426975</td>\n",
       "      <td>1</td>\n",
       "      <td>tinybert</td>\n",
       "    </tr>\n",
       "    <tr>\n",
       "      <th>19122</th>\n",
       "      <td>3</td>\n",
       "      <td>q0</td>\n",
       "      <td>car394ou</td>\n",
       "      <td>123</td>\n",
       "      <td>7.711900</td>\n",
       "      <td>will SARS-CoV2 infected people develop immunit...</td>\n",
       "      <td>SARS-CoV-2 infection protects against rechalle...</td>\n",
       "      <td>3.413507</td>\n",
       "      <td>2</td>\n",
       "      <td>tinybert</td>\n",
       "    </tr>\n",
       "    <tr>\n",
       "      <th>19092</th>\n",
       "      <td>3</td>\n",
       "      <td>q0</td>\n",
       "      <td>aed6psww</td>\n",
       "      <td>93</td>\n",
       "      <td>7.939200</td>\n",
       "      <td>will SARS-CoV2 infected people develop immunit...</td>\n",
       "      <td>A case report of possible novel coronavirus 20...</td>\n",
       "      <td>3.402295</td>\n",
       "      <td>3</td>\n",
       "      <td>tinybert</td>\n",
       "    </tr>\n",
       "    <tr>\n",
       "      <th>19010</th>\n",
       "      <td>3</td>\n",
       "      <td>q0</td>\n",
       "      <td>wfftfkam</td>\n",
       "      <td>11</td>\n",
       "      <td>9.550200</td>\n",
       "      <td>will SARS-CoV2 infected people develop immunit...</td>\n",
       "      <td>COVID‐19 is milder in children possibly due to...</td>\n",
       "      <td>3.224682</td>\n",
       "      <td>4</td>\n",
       "      <td>tinybert</td>\n",
       "    </tr>\n",
       "    <tr>\n",
       "      <th>19065</th>\n",
       "      <td>3</td>\n",
       "      <td>q0</td>\n",
       "      <td>bcqdm2b1</td>\n",
       "      <td>66</td>\n",
       "      <td>8.117100</td>\n",
       "      <td>will SARS-CoV2 infected people develop immunit...</td>\n",
       "      <td>Protective Adaptive Immunity Against Severe Ac...</td>\n",
       "      <td>2.991671</td>\n",
       "      <td>5</td>\n",
       "      <td>tinybert</td>\n",
       "    </tr>\n",
       "  </tbody>\n",
       "</table>\n",
       "</div>"
      ],
      "text/plain": [
       "       query  q0     docid  rank_estagio1  score_estagio1   \n",
       "18393      2  q0  4grjr0h3            394        4.481100  \\\n",
       "18451      2  q0  pabdj7v4            452        4.360500   \n",
       "18430      2  q0  if4w9vg4            431        4.403200   \n",
       "18751      2  q0  i64q5d26            752        3.966199   \n",
       "18739      2  q0  gwjgngk7            740        3.978300   \n",
       "19123      3  q0  t3sjv4hv            124        7.711899   \n",
       "19122      3  q0  car394ou            123        7.711900   \n",
       "19092      3  q0  aed6psww             93        7.939200   \n",
       "19010      3  q0  wfftfkam             11        9.550200   \n",
       "19065      3  q0  bcqdm2b1             66        8.117100   \n",
       "\n",
       "                                              query_text   \n",
       "18393  how does the coronavirus respond to changes in...  \\\n",
       "18451  how does the coronavirus respond to changes in...   \n",
       "18430  how does the coronavirus respond to changes in...   \n",
       "18751  how does the coronavirus respond to changes in...   \n",
       "18739  how does the coronavirus respond to changes in...   \n",
       "19123  will SARS-CoV2 infected people develop immunit...   \n",
       "19122  will SARS-CoV2 infected people develop immunit...   \n",
       "19092  will SARS-CoV2 infected people develop immunit...   \n",
       "19010  will SARS-CoV2 infected people develop immunit...   \n",
       "19065  will SARS-CoV2 infected people develop immunit...   \n",
       "\n",
       "                                                doc_text     score  rank   \n",
       "18393  Unified feature association networks through i... -7.048757   996  \\\n",
       "18451  Health workers' perceptions and experiences of... -7.048936   997   \n",
       "18430  Are your cash-flow tools recession ready?. Abs... -7.050327   998   \n",
       "18751  On-farm biosecurity as perceived by profession... -7.050867   999   \n",
       "18739  Higher tourism specialization, better hotel in... -7.058733  1000   \n",
       "19123  SARS-CoV-2 infection protects against rechalle...  3.426975     1   \n",
       "19122  SARS-CoV-2 infection protects against rechalle...  3.413507     2   \n",
       "19092  A case report of possible novel coronavirus 20...  3.402295     3   \n",
       "19010  COVID‐19 is milder in children possibly due to...  3.224682     4   \n",
       "19065  Protective Adaptive Immunity Against Severe Ac...  2.991671     5   \n",
       "\n",
       "         system  \n",
       "18393  tinybert  \n",
       "18451  tinybert  \n",
       "18430  tinybert  \n",
       "18751  tinybert  \n",
       "18739  tinybert  \n",
       "19123  tinybert  \n",
       "19122  tinybert  \n",
       "19092  tinybert  \n",
       "19010  tinybert  \n",
       "19065  tinybert  "
      ]
     },
     "metadata": {},
     "output_type": "display_data"
    }
   ],
   "source": [
    "df_reranking.iloc[1995:2005]"
   ]
  },
  {
   "cell_type": "code",
   "execution_count": null,
   "metadata": {},
   "outputs": [],
   "source": [
    "run_reranking = df_reranking[['query','q0', 'docid', 'rank', 'score', 'system' ]].to_dict(orient=\"list\")"
   ]
  },
  {
   "cell_type": "code",
   "execution_count": null,
   "metadata": {},
   "outputs": [
    {
     "data": {
      "text/plain": [
       "dict_keys(['query', 'q0', 'docid', 'rank', 'score', 'system'])"
      ]
     },
     "metadata": {},
     "output_type": "display_data"
    }
   ],
   "source": [
    "run_reranking.keys()"
   ]
  },
  {
   "cell_type": "code",
   "execution_count": null,
   "metadata": {},
   "outputs": [
    {
     "data": {
      "text/plain": [
       "(1, 'q0', 'pbj819vk', 1, 4.17462158203125, 'tinybert')"
      ]
     },
     "metadata": {},
     "output_type": "display_data"
    }
   ],
   "source": [
    "run_reranking['query'][0], run_reranking['q0'][0], run_reranking['docid'][0], run_reranking['rank'][0], run_reranking['score'][0], run_reranking['system'][0]"
   ]
  },
  {
   "cell_type": "code",
   "execution_count": null,
   "metadata": {},
   "outputs": [
    {
     "name": "stdout",
     "output_type": "stream",
     "text": [
      "NDCG@10: 0.5367637984598898\n",
      "Resultados: {'runid': 'tinybert', 'num_ret': 50000, 'num_rel': 24673, 'num_rel_ret': 9804, 'num_q': 50, 'map': 0.163296159555747, 'gm_map': 0.11172482777651789, 'bpref': 0.3436004688708574, 'Rprec': 0.2712226646580145, 'recip_rank': 0.7893571428571429, 'P@5': 0.6240000000000001, 'P@10': 0.6099999999999999, 'P@15': 0.5746666666666667, 'P@20': 0.534, 'P@30': 0.522, 'P@100': 0.4016, 'P@200': 0.34619999999999995, 'P@500': 0.26812, 'P@1000': 0.19608, 'NDCG@5': 0.5450837322710362, 'NDCG@10': 0.5367637984598898, 'NDCG@15': 0.5138097775657847, 'NDCG@20': 0.48838865129135023, 'NDCG@30': 0.4710598474915368, 'NDCG@100': 0.37673251181712836, 'NDCG@200': 0.33371232857173694, 'NDCG@500': 0.33290366745803396, 'NDCG@1000': 0.39601553171132203}\n"
     ]
    }
   ],
   "source": [
    "results = trec_eval.compute(predictions=[run_reranking], references=[qrel_dict])\n",
    "# salvando métricas    \n",
    "print(f\"NDCG@10: {results['NDCG@10']}\")\n",
    "print(f\"Resultados: {results}\")\n"
   ]
  },
  {
   "cell_type": "code",
   "execution_count": null,
   "metadata": {},
   "outputs": [],
   "source": [
    "lista_resultados.append(\n",
    "{'retriever': 'reranking_tinybert',\n",
    " 'details': 'ms-marco-TinyBERT-L-2; pretreinado no msmarco',\n",
    " \"ndcg\":round(100*results['NDCG@10'],2)})"
   ]
  },
  {
   "cell_type": "code",
   "execution_count": null,
   "metadata": {},
   "outputs": [
    {
     "data": {
      "text/plain": [
       "[{'retriever': 'bm25', 'details': 'k1=0.9, b=0.4', 'ndcg': 59.47},\n",
       " {'retriever': 'bm25', 'details': 'k1=1.12, b=0.4', 'ndcg': 61.88},\n",
       " {'retriever': 'reranking_tinybert',\n",
       "  'details': 'ms-marco-TinyBERT-L-2; pretreinado no msmarco',\n",
       "  'ndcg': 53.68}]"
      ]
     },
     "metadata": {},
     "output_type": "display_data"
    }
   ],
   "source": [
    "lista_resultados"
   ]
  },
  {
   "attachments": {},
   "cell_type": "markdown",
   "metadata": {
    "id": "aT7_riDtAj_8"
   },
   "source": [
    "## Modelo de teste (treinado no ms-marco)"
   ]
  },
  {
   "cell_type": "code",
   "execution_count": 203,
   "metadata": {},
   "outputs": [],
   "source": [
    "# nome_modelo = 'cross-encoder/ms-marco-TinyBERT-L-2'\n",
    "nome_modelo = 'cross-encoder/ms-marco-MiniLM-L-6-v2'\n",
    "model = AutoModelForSequenceClassification.from_pretrained(nome_modelo).to(device)\n",
    "tokenizer = AutoTokenizer.from_pretrained(nome_modelo)"
   ]
  },
  {
   "cell_type": "code",
   "execution_count": 204,
   "metadata": {},
   "outputs": [
    {
     "data": {
      "text/plain": [
       "(512, 509, 512)"
      ]
     },
     "execution_count": 204,
     "metadata": {},
     "output_type": "execute_result"
    }
   ],
   "source": [
    "model.config.max_position_embeddings, tokenizer.max_len_sentences_pair, tokenizer.model_max_length"
   ]
  },
  {
   "cell_type": "code",
   "execution_count": 205,
   "metadata": {
    "colab": {
     "base_uri": "https://localhost:8080/"
    },
    "id": "-MT5MpOcBfCl",
    "outputId": "a153d84f-92fb-47ed-e185-612b1ece94a0"
   },
   "outputs": [
    {
     "name": "stdout",
     "output_type": "stream",
     "text": [
      "carregando dataset\n",
      "(50000,)\n"
     ]
    },
    {
     "name": "stderr",
     "output_type": "stream",
     "text": [
      "encoding text pair: 100%|██████████| 50000/50000 [00:47<00:00, 1056.78it/s]\n"
     ]
    },
    {
     "name": "stdout",
     "output_type": "stream",
     "text": [
      "\tVou converter lista para tensor;  Momento: [2023-mai-04 12:00:40]\n",
      "CPU times: user 47.7 s, sys: 168 ms, total: 47.9 s\n",
      "Wall time: 47.7 s\n"
     ]
    }
   ],
   "source": [
    "%%time\n",
    "print(\"carregando dataset\")  \n",
    "classes_dummy = np.zeros(len(df_reranking_entrada), dtype=np.int64)\n",
    "print(classes_dummy.shape)\n",
    "dataset_reranking = MyDataset(texts=df_reranking_entrada[['query_text','doc_text']].values, classes=classes_dummy, tokenizer=tokenizer)    "
   ]
  },
  {
   "cell_type": "code",
   "execution_count": 206,
   "metadata": {
    "id": "K_vZwfZSBfCm"
   },
   "outputs": [],
   "source": [
    "dataloader_reranking = DataLoader(dataset_reranking,\n",
    "                                  batch_size= 4, \n",
    "                                  shuffle=False)"
   ]
  },
  {
   "cell_type": "code",
   "execution_count": 207,
   "metadata": {
    "colab": {
     "base_uri": "https://localhost:8080/"
    },
    "id": "_MUHIjATfDpT",
    "outputId": "2c85289e-4b32-474c-abeb-dc58885e6d91"
   },
   "outputs": [
    {
     "name": "stderr",
     "output_type": "stream",
     "text": [
      "dataset_reranking: 100%|██████████| 12500/12500 [01:45<00:00, 118.58it/s]"
     ]
    },
    {
     "name": "stdout",
     "output_type": "stream",
     "text": [
      "CPU times: user 1min 45s, sys: 62.4 ms, total: 1min 45s\n",
      "Wall time: 1min 45s\n"
     ]
    },
    {
     "name": "stderr",
     "output_type": "stream",
     "text": [
      "\n"
     ]
    }
   ],
   "source": [
    "%%time\n",
    "prob_relevancia = calcula_relevancia(model,dataloader_reranking)"
   ]
  },
  {
   "cell_type": "code",
   "execution_count": 208,
   "metadata": {
    "id": "FWG_u7lgCiSs"
   },
   "outputs": [],
   "source": [
    "df_reranking_entrada['score_crossencoder'] = prob_relevancia"
   ]
  },
  {
   "cell_type": "code",
   "execution_count": 210,
   "metadata": {
    "id": "IDx6t2OeCiSt"
   },
   "outputs": [],
   "source": [
    "# Agrupa os registros por id_query e ordena cada grupo pelo score_reranking\n",
    "df_reranking = df_reranking_entrada.groupby('query', group_keys=False).apply(lambda x: x.sort_values(['score_crossencoder'], ascending=[False]))"
   ]
  },
  {
   "cell_type": "code",
   "execution_count": 211,
   "metadata": {
    "id": "NCRcXMSFCiSt"
   },
   "outputs": [],
   "source": [
    "df_reranking['reranking'] = df_reranking.groupby('query').cumcount() + 1"
   ]
  },
  {
   "cell_type": "code",
   "execution_count": 212,
   "metadata": {},
   "outputs": [
    {
     "data": {
      "text/html": [
       "<div>\n",
       "<style scoped>\n",
       "    .dataframe tbody tr th:only-of-type {\n",
       "        vertical-align: middle;\n",
       "    }\n",
       "\n",
       "    .dataframe tbody tr th {\n",
       "        vertical-align: top;\n",
       "    }\n",
       "\n",
       "    .dataframe thead th {\n",
       "        text-align: right;\n",
       "    }\n",
       "</style>\n",
       "<table border=\"1\" class=\"dataframe\">\n",
       "  <thead>\n",
       "    <tr style=\"text-align: right;\">\n",
       "      <th></th>\n",
       "      <th>query</th>\n",
       "      <th>q0</th>\n",
       "      <th>docid</th>\n",
       "      <th>rank_estagio1</th>\n",
       "      <th>score_estagio1</th>\n",
       "      <th>query_text</th>\n",
       "      <th>doc_text</th>\n",
       "      <th>score_tinybert</th>\n",
       "      <th>score_inpars_10k_ds</th>\n",
       "      <th>score_inpars_30k_ds_msmarco</th>\n",
       "      <th>...</th>\n",
       "      <th>score_inpars_30k_ds_sem_corte_epoca_5</th>\n",
       "      <th>score_inpars_30k_ds_sem_corte_epoca_6</th>\n",
       "      <th>score_inpars_30k_ds_sem_corte_epoca_7</th>\n",
       "      <th>score_inpars_30k_ds_sem_corte_epoca_8</th>\n",
       "      <th>score_inpars_30k_ds_sem_corte_epoca_9</th>\n",
       "      <th>score_inpars_30k_ds_sem_corte_epoca_10</th>\n",
       "      <th>score_inpars_30k_ds_sem_corte_epoca_11</th>\n",
       "      <th>score_inpars_30k_ds_sem_corte_epoca_12</th>\n",
       "      <th>score_crossencoder</th>\n",
       "      <th>reranking</th>\n",
       "    </tr>\n",
       "  </thead>\n",
       "  <tbody>\n",
       "    <tr>\n",
       "      <th>573</th>\n",
       "      <td>44</td>\n",
       "      <td>Q0</td>\n",
       "      <td>yx9oa2ra</td>\n",
       "      <td>574</td>\n",
       "      <td>6.605699</td>\n",
       "      <td>How much impact do masks have on preventing th...</td>\n",
       "      <td>Face Masks Considerably Reduce Covid-19 Cases ...</td>\n",
       "      <td>3.680332</td>\n",
       "      <td>0.999373</td>\n",
       "      <td>0.999695</td>\n",
       "      <td>...</td>\n",
       "      <td>0.995093</td>\n",
       "      <td>0.997640</td>\n",
       "      <td>0.993932</td>\n",
       "      <td>0.994917</td>\n",
       "      <td>0.991623</td>\n",
       "      <td>0.998348</td>\n",
       "      <td>0.986498</td>\n",
       "      <td>0.942851</td>\n",
       "      <td>7.613322</td>\n",
       "      <td>1</td>\n",
       "    </tr>\n",
       "    <tr>\n",
       "      <th>2</th>\n",
       "      <td>44</td>\n",
       "      <td>Q0</td>\n",
       "      <td>qi1henyy</td>\n",
       "      <td>3</td>\n",
       "      <td>10.906199</td>\n",
       "      <td>How much impact do masks have on preventing th...</td>\n",
       "      <td>To mask or not to mask: Modeling the potential...</td>\n",
       "      <td>2.379816</td>\n",
       "      <td>0.999155</td>\n",
       "      <td>0.999600</td>\n",
       "      <td>...</td>\n",
       "      <td>0.994347</td>\n",
       "      <td>0.997404</td>\n",
       "      <td>0.997367</td>\n",
       "      <td>0.998464</td>\n",
       "      <td>0.998364</td>\n",
       "      <td>0.999265</td>\n",
       "      <td>0.999012</td>\n",
       "      <td>0.998679</td>\n",
       "      <td>6.995131</td>\n",
       "      <td>2</td>\n",
       "    </tr>\n",
       "    <tr>\n",
       "      <th>1</th>\n",
       "      <td>44</td>\n",
       "      <td>Q0</td>\n",
       "      <td>28utunid</td>\n",
       "      <td>2</td>\n",
       "      <td>10.906200</td>\n",
       "      <td>How much impact do masks have on preventing th...</td>\n",
       "      <td>To mask or not to mask: Modeling the potential...</td>\n",
       "      <td>2.368431</td>\n",
       "      <td>0.999172</td>\n",
       "      <td>0.999602</td>\n",
       "      <td>...</td>\n",
       "      <td>0.994451</td>\n",
       "      <td>0.997480</td>\n",
       "      <td>0.997421</td>\n",
       "      <td>0.998497</td>\n",
       "      <td>0.998472</td>\n",
       "      <td>0.999279</td>\n",
       "      <td>0.999001</td>\n",
       "      <td>0.998693</td>\n",
       "      <td>6.964627</td>\n",
       "      <td>3</td>\n",
       "    </tr>\n",
       "    <tr>\n",
       "      <th>5</th>\n",
       "      <td>44</td>\n",
       "      <td>Q0</td>\n",
       "      <td>ej76fsxa</td>\n",
       "      <td>6</td>\n",
       "      <td>10.013600</td>\n",
       "      <td>How much impact do masks have on preventing th...</td>\n",
       "      <td>Teach, and teach and teach: does the average c...</td>\n",
       "      <td>3.942430</td>\n",
       "      <td>0.999324</td>\n",
       "      <td>0.999691</td>\n",
       "      <td>...</td>\n",
       "      <td>0.995406</td>\n",
       "      <td>0.997818</td>\n",
       "      <td>0.997607</td>\n",
       "      <td>0.998286</td>\n",
       "      <td>0.998274</td>\n",
       "      <td>0.999289</td>\n",
       "      <td>0.998941</td>\n",
       "      <td>0.998075</td>\n",
       "      <td>6.382737</td>\n",
       "      <td>4</td>\n",
       "    </tr>\n",
       "    <tr>\n",
       "      <th>18</th>\n",
       "      <td>44</td>\n",
       "      <td>Q0</td>\n",
       "      <td>uc37poce</td>\n",
       "      <td>19</td>\n",
       "      <td>9.367100</td>\n",
       "      <td>How much impact do masks have on preventing th...</td>\n",
       "      <td>Impact of population mask wearing on Covid-19 ...</td>\n",
       "      <td>2.434059</td>\n",
       "      <td>0.999119</td>\n",
       "      <td>0.999586</td>\n",
       "      <td>...</td>\n",
       "      <td>0.979458</td>\n",
       "      <td>0.994037</td>\n",
       "      <td>0.970001</td>\n",
       "      <td>0.969283</td>\n",
       "      <td>0.959977</td>\n",
       "      <td>0.995657</td>\n",
       "      <td>0.811532</td>\n",
       "      <td>0.594630</td>\n",
       "      <td>6.346030</td>\n",
       "      <td>5</td>\n",
       "    </tr>\n",
       "    <tr>\n",
       "      <th>...</th>\n",
       "      <td>...</td>\n",
       "      <td>...</td>\n",
       "      <td>...</td>\n",
       "      <td>...</td>\n",
       "      <td>...</td>\n",
       "      <td>...</td>\n",
       "      <td>...</td>\n",
       "      <td>...</td>\n",
       "      <td>...</td>\n",
       "      <td>...</td>\n",
       "      <td>...</td>\n",
       "      <td>...</td>\n",
       "      <td>...</td>\n",
       "      <td>...</td>\n",
       "      <td>...</td>\n",
       "      <td>...</td>\n",
       "      <td>...</td>\n",
       "      <td>...</td>\n",
       "      <td>...</td>\n",
       "      <td>...</td>\n",
       "      <td>...</td>\n",
       "    </tr>\n",
       "    <tr>\n",
       "      <th>752</th>\n",
       "      <td>44</td>\n",
       "      <td>Q0</td>\n",
       "      <td>cguukfxd</td>\n",
       "      <td>753</td>\n",
       "      <td>6.380600</td>\n",
       "      <td>How much impact do masks have on preventing th...</td>\n",
       "      <td>Experimental Models and Emerging Hypotheses fo...</td>\n",
       "      <td>-6.649634</td>\n",
       "      <td>0.000380</td>\n",
       "      <td>0.000193</td>\n",
       "      <td>...</td>\n",
       "      <td>0.002974</td>\n",
       "      <td>0.001515</td>\n",
       "      <td>0.000998</td>\n",
       "      <td>0.000668</td>\n",
       "      <td>0.000549</td>\n",
       "      <td>0.000432</td>\n",
       "      <td>0.000339</td>\n",
       "      <td>0.000295</td>\n",
       "      <td>-11.309870</td>\n",
       "      <td>996</td>\n",
       "    </tr>\n",
       "    <tr>\n",
       "      <th>908</th>\n",
       "      <td>44</td>\n",
       "      <td>Q0</td>\n",
       "      <td>dpupzthk</td>\n",
       "      <td>909</td>\n",
       "      <td>6.220400</td>\n",
       "      <td>How much impact do masks have on preventing th...</td>\n",
       "      <td>Comfortably Numb in the Midst of the Corona Cr...</td>\n",
       "      <td>-6.583939</td>\n",
       "      <td>0.000383</td>\n",
       "      <td>0.000210</td>\n",
       "      <td>...</td>\n",
       "      <td>0.003236</td>\n",
       "      <td>0.001679</td>\n",
       "      <td>0.001158</td>\n",
       "      <td>0.000761</td>\n",
       "      <td>0.000638</td>\n",
       "      <td>0.000528</td>\n",
       "      <td>0.000383</td>\n",
       "      <td>0.000342</td>\n",
       "      <td>-11.313534</td>\n",
       "      <td>997</td>\n",
       "    </tr>\n",
       "    <tr>\n",
       "      <th>568</th>\n",
       "      <td>44</td>\n",
       "      <td>Q0</td>\n",
       "      <td>yajnzgd5</td>\n",
       "      <td>569</td>\n",
       "      <td>6.608700</td>\n",
       "      <td>How much impact do masks have on preventing th...</td>\n",
       "      <td>Unconscious Bias, Racism, and Trauma-Informed ...</td>\n",
       "      <td>-6.997178</td>\n",
       "      <td>0.000391</td>\n",
       "      <td>0.000204</td>\n",
       "      <td>...</td>\n",
       "      <td>0.003420</td>\n",
       "      <td>0.001747</td>\n",
       "      <td>0.001179</td>\n",
       "      <td>0.000767</td>\n",
       "      <td>0.000635</td>\n",
       "      <td>0.000512</td>\n",
       "      <td>0.000378</td>\n",
       "      <td>0.000337</td>\n",
       "      <td>-11.368789</td>\n",
       "      <td>998</td>\n",
       "    </tr>\n",
       "    <tr>\n",
       "      <th>584</th>\n",
       "      <td>44</td>\n",
       "      <td>Q0</td>\n",
       "      <td>6fh69mk4</td>\n",
       "      <td>585</td>\n",
       "      <td>6.592900</td>\n",
       "      <td>How much impact do masks have on preventing th...</td>\n",
       "      <td>Public Health Informatics and the Health Infor...</td>\n",
       "      <td>-6.834453</td>\n",
       "      <td>0.000386</td>\n",
       "      <td>0.000211</td>\n",
       "      <td>...</td>\n",
       "      <td>0.003256</td>\n",
       "      <td>0.001732</td>\n",
       "      <td>0.001153</td>\n",
       "      <td>0.000754</td>\n",
       "      <td>0.000633</td>\n",
       "      <td>0.000515</td>\n",
       "      <td>0.000380</td>\n",
       "      <td>0.000335</td>\n",
       "      <td>-11.370356</td>\n",
       "      <td>999</td>\n",
       "    </tr>\n",
       "    <tr>\n",
       "      <th>926</th>\n",
       "      <td>44</td>\n",
       "      <td>Q0</td>\n",
       "      <td>qdy29oym</td>\n",
       "      <td>927</td>\n",
       "      <td>6.206700</td>\n",
       "      <td>How much impact do masks have on preventing th...</td>\n",
       "      <td>Seeking Membranes: Positive-Strand RNA Virus R...</td>\n",
       "      <td>-6.994773</td>\n",
       "      <td>0.000422</td>\n",
       "      <td>0.000217</td>\n",
       "      <td>...</td>\n",
       "      <td>0.003311</td>\n",
       "      <td>0.001773</td>\n",
       "      <td>0.001173</td>\n",
       "      <td>0.000744</td>\n",
       "      <td>0.000624</td>\n",
       "      <td>0.000512</td>\n",
       "      <td>0.000387</td>\n",
       "      <td>0.000336</td>\n",
       "      <td>-11.402838</td>\n",
       "      <td>1000</td>\n",
       "    </tr>\n",
       "  </tbody>\n",
       "</table>\n",
       "<p>1000 rows × 24 columns</p>\n",
       "</div>"
      ],
      "text/plain": [
       "     query  q0     docid  rank_estagio1  score_estagio1   \n",
       "573     44  Q0  yx9oa2ra            574        6.605699  \\\n",
       "2       44  Q0  qi1henyy              3       10.906199   \n",
       "1       44  Q0  28utunid              2       10.906200   \n",
       "5       44  Q0  ej76fsxa              6       10.013600   \n",
       "18      44  Q0  uc37poce             19        9.367100   \n",
       "..     ...  ..       ...            ...             ...   \n",
       "752     44  Q0  cguukfxd            753        6.380600   \n",
       "908     44  Q0  dpupzthk            909        6.220400   \n",
       "568     44  Q0  yajnzgd5            569        6.608700   \n",
       "584     44  Q0  6fh69mk4            585        6.592900   \n",
       "926     44  Q0  qdy29oym            927        6.206700   \n",
       "\n",
       "                                            query_text   \n",
       "573  How much impact do masks have on preventing th...  \\\n",
       "2    How much impact do masks have on preventing th...   \n",
       "1    How much impact do masks have on preventing th...   \n",
       "5    How much impact do masks have on preventing th...   \n",
       "18   How much impact do masks have on preventing th...   \n",
       "..                                                 ...   \n",
       "752  How much impact do masks have on preventing th...   \n",
       "908  How much impact do masks have on preventing th...   \n",
       "568  How much impact do masks have on preventing th...   \n",
       "584  How much impact do masks have on preventing th...   \n",
       "926  How much impact do masks have on preventing th...   \n",
       "\n",
       "                                              doc_text  score_tinybert   \n",
       "573  Face Masks Considerably Reduce Covid-19 Cases ...        3.680332  \\\n",
       "2    To mask or not to mask: Modeling the potential...        2.379816   \n",
       "1    To mask or not to mask: Modeling the potential...        2.368431   \n",
       "5    Teach, and teach and teach: does the average c...        3.942430   \n",
       "18   Impact of population mask wearing on Covid-19 ...        2.434059   \n",
       "..                                                 ...             ...   \n",
       "752  Experimental Models and Emerging Hypotheses fo...       -6.649634   \n",
       "908  Comfortably Numb in the Midst of the Corona Cr...       -6.583939   \n",
       "568  Unconscious Bias, Racism, and Trauma-Informed ...       -6.997178   \n",
       "584  Public Health Informatics and the Health Infor...       -6.834453   \n",
       "926  Seeking Membranes: Positive-Strand RNA Virus R...       -6.994773   \n",
       "\n",
       "     score_inpars_10k_ds  score_inpars_30k_ds_msmarco  ...   \n",
       "573             0.999373                     0.999695  ...  \\\n",
       "2               0.999155                     0.999600  ...   \n",
       "1               0.999172                     0.999602  ...   \n",
       "5               0.999324                     0.999691  ...   \n",
       "18              0.999119                     0.999586  ...   \n",
       "..                   ...                          ...  ...   \n",
       "752             0.000380                     0.000193  ...   \n",
       "908             0.000383                     0.000210  ...   \n",
       "568             0.000391                     0.000204  ...   \n",
       "584             0.000386                     0.000211  ...   \n",
       "926             0.000422                     0.000217  ...   \n",
       "\n",
       "     score_inpars_30k_ds_sem_corte_epoca_5   \n",
       "573                               0.995093  \\\n",
       "2                                 0.994347   \n",
       "1                                 0.994451   \n",
       "5                                 0.995406   \n",
       "18                                0.979458   \n",
       "..                                     ...   \n",
       "752                               0.002974   \n",
       "908                               0.003236   \n",
       "568                               0.003420   \n",
       "584                               0.003256   \n",
       "926                               0.003311   \n",
       "\n",
       "     score_inpars_30k_ds_sem_corte_epoca_6   \n",
       "573                               0.997640  \\\n",
       "2                                 0.997404   \n",
       "1                                 0.997480   \n",
       "5                                 0.997818   \n",
       "18                                0.994037   \n",
       "..                                     ...   \n",
       "752                               0.001515   \n",
       "908                               0.001679   \n",
       "568                               0.001747   \n",
       "584                               0.001732   \n",
       "926                               0.001773   \n",
       "\n",
       "     score_inpars_30k_ds_sem_corte_epoca_7   \n",
       "573                               0.993932  \\\n",
       "2                                 0.997367   \n",
       "1                                 0.997421   \n",
       "5                                 0.997607   \n",
       "18                                0.970001   \n",
       "..                                     ...   \n",
       "752                               0.000998   \n",
       "908                               0.001158   \n",
       "568                               0.001179   \n",
       "584                               0.001153   \n",
       "926                               0.001173   \n",
       "\n",
       "     score_inpars_30k_ds_sem_corte_epoca_8   \n",
       "573                               0.994917  \\\n",
       "2                                 0.998464   \n",
       "1                                 0.998497   \n",
       "5                                 0.998286   \n",
       "18                                0.969283   \n",
       "..                                     ...   \n",
       "752                               0.000668   \n",
       "908                               0.000761   \n",
       "568                               0.000767   \n",
       "584                               0.000754   \n",
       "926                               0.000744   \n",
       "\n",
       "     score_inpars_30k_ds_sem_corte_epoca_9   \n",
       "573                               0.991623  \\\n",
       "2                                 0.998364   \n",
       "1                                 0.998472   \n",
       "5                                 0.998274   \n",
       "18                                0.959977   \n",
       "..                                     ...   \n",
       "752                               0.000549   \n",
       "908                               0.000638   \n",
       "568                               0.000635   \n",
       "584                               0.000633   \n",
       "926                               0.000624   \n",
       "\n",
       "     score_inpars_30k_ds_sem_corte_epoca_10   \n",
       "573                                0.998348  \\\n",
       "2                                  0.999265   \n",
       "1                                  0.999279   \n",
       "5                                  0.999289   \n",
       "18                                 0.995657   \n",
       "..                                      ...   \n",
       "752                                0.000432   \n",
       "908                                0.000528   \n",
       "568                                0.000512   \n",
       "584                                0.000515   \n",
       "926                                0.000512   \n",
       "\n",
       "     score_inpars_30k_ds_sem_corte_epoca_11   \n",
       "573                                0.986498  \\\n",
       "2                                  0.999012   \n",
       "1                                  0.999001   \n",
       "5                                  0.998941   \n",
       "18                                 0.811532   \n",
       "..                                      ...   \n",
       "752                                0.000339   \n",
       "908                                0.000383   \n",
       "568                                0.000378   \n",
       "584                                0.000380   \n",
       "926                                0.000387   \n",
       "\n",
       "     score_inpars_30k_ds_sem_corte_epoca_12  score_crossencoder  reranking  \n",
       "573                                0.942851            7.613322          1  \n",
       "2                                  0.998679            6.995131          2  \n",
       "1                                  0.998693            6.964627          3  \n",
       "5                                  0.998075            6.382737          4  \n",
       "18                                 0.594630            6.346030          5  \n",
       "..                                      ...                 ...        ...  \n",
       "752                                0.000295          -11.309870        996  \n",
       "908                                0.000342          -11.313534        997  \n",
       "568                                0.000337          -11.368789        998  \n",
       "584                                0.000335          -11.370356        999  \n",
       "926                                0.000336          -11.402838       1000  \n",
       "\n",
       "[1000 rows x 24 columns]"
      ]
     },
     "execution_count": 212,
     "metadata": {},
     "output_type": "execute_result"
    }
   ],
   "source": [
    "df_reranking[df_reranking['query']==44]"
   ]
  },
  {
   "attachments": {},
   "cell_type": "markdown",
   "metadata": {},
   "source": [
    "### Avaliação"
   ]
  },
  {
   "cell_type": "code",
   "execution_count": 213,
   "metadata": {},
   "outputs": [],
   "source": [
    "df_reranking.rename(columns={'reranking': 'rank', 'score_tinybert':'score'}, inplace=True)"
   ]
  },
  {
   "cell_type": "code",
   "execution_count": 215,
   "metadata": {},
   "outputs": [],
   "source": [
    "df_reranking['q0'] = 'q0'\n",
    "df_reranking['system'] = 'crossencoder'"
   ]
  },
  {
   "cell_type": "code",
   "execution_count": 216,
   "metadata": {},
   "outputs": [
    {
     "data": {
      "text/html": [
       "<div>\n",
       "<style scoped>\n",
       "    .dataframe tbody tr th:only-of-type {\n",
       "        vertical-align: middle;\n",
       "    }\n",
       "\n",
       "    .dataframe tbody tr th {\n",
       "        vertical-align: top;\n",
       "    }\n",
       "\n",
       "    .dataframe thead th {\n",
       "        text-align: right;\n",
       "    }\n",
       "</style>\n",
       "<table border=\"1\" class=\"dataframe\">\n",
       "  <thead>\n",
       "    <tr style=\"text-align: right;\">\n",
       "      <th></th>\n",
       "      <th>query</th>\n",
       "      <th>q0</th>\n",
       "      <th>docid</th>\n",
       "      <th>rank_estagio1</th>\n",
       "      <th>score_estagio1</th>\n",
       "      <th>query_text</th>\n",
       "      <th>doc_text</th>\n",
       "      <th>score</th>\n",
       "      <th>score_inpars_10k_ds</th>\n",
       "      <th>score_inpars_30k_ds_msmarco</th>\n",
       "      <th>...</th>\n",
       "      <th>score_inpars_30k_ds_sem_corte_epoca_6</th>\n",
       "      <th>score_inpars_30k_ds_sem_corte_epoca_7</th>\n",
       "      <th>score_inpars_30k_ds_sem_corte_epoca_8</th>\n",
       "      <th>score_inpars_30k_ds_sem_corte_epoca_9</th>\n",
       "      <th>score_inpars_30k_ds_sem_corte_epoca_10</th>\n",
       "      <th>score_inpars_30k_ds_sem_corte_epoca_11</th>\n",
       "      <th>score_inpars_30k_ds_sem_corte_epoca_12</th>\n",
       "      <th>score_crossencoder</th>\n",
       "      <th>rank</th>\n",
       "      <th>system</th>\n",
       "    </tr>\n",
       "  </thead>\n",
       "  <tbody>\n",
       "    <tr>\n",
       "      <th>18826</th>\n",
       "      <td>2</td>\n",
       "      <td>q0</td>\n",
       "      <td>3o90pzw7</td>\n",
       "      <td>827</td>\n",
       "      <td>3.899700</td>\n",
       "      <td>how does the coronavirus respond to changes in...</td>\n",
       "      <td>How and who does SARS kill?.</td>\n",
       "      <td>-6.956441</td>\n",
       "      <td>0.000502</td>\n",
       "      <td>0.000233</td>\n",
       "      <td>...</td>\n",
       "      <td>0.002121</td>\n",
       "      <td>0.001336</td>\n",
       "      <td>0.000847</td>\n",
       "      <td>0.000767</td>\n",
       "      <td>0.000637</td>\n",
       "      <td>0.000473</td>\n",
       "      <td>0.000388</td>\n",
       "      <td>-11.384471</td>\n",
       "      <td>996</td>\n",
       "      <td>crossencoder</td>\n",
       "    </tr>\n",
       "    <tr>\n",
       "      <th>18852</th>\n",
       "      <td>2</td>\n",
       "      <td>q0</td>\n",
       "      <td>p3xs9alx</td>\n",
       "      <td>853</td>\n",
       "      <td>3.865998</td>\n",
       "      <td>how does the coronavirus respond to changes in...</td>\n",
       "      <td>Covid-19: How does the NHS test and trace serv...</td>\n",
       "      <td>-7.022581</td>\n",
       "      <td>0.000462</td>\n",
       "      <td>0.000224</td>\n",
       "      <td>...</td>\n",
       "      <td>0.002043</td>\n",
       "      <td>0.001324</td>\n",
       "      <td>0.000852</td>\n",
       "      <td>0.000734</td>\n",
       "      <td>0.000595</td>\n",
       "      <td>0.000436</td>\n",
       "      <td>0.000372</td>\n",
       "      <td>-11.408976</td>\n",
       "      <td>997</td>\n",
       "      <td>crossencoder</td>\n",
       "    </tr>\n",
       "    <tr>\n",
       "      <th>18917</th>\n",
       "      <td>2</td>\n",
       "      <td>q0</td>\n",
       "      <td>gadhb608</td>\n",
       "      <td>918</td>\n",
       "      <td>3.816500</td>\n",
       "      <td>how does the coronavirus respond to changes in...</td>\n",
       "      <td>Ageing out of place in COVID-19 pandemic era: ...</td>\n",
       "      <td>-7.044335</td>\n",
       "      <td>0.000452</td>\n",
       "      <td>0.000214</td>\n",
       "      <td>...</td>\n",
       "      <td>0.001738</td>\n",
       "      <td>0.001136</td>\n",
       "      <td>0.000761</td>\n",
       "      <td>0.000641</td>\n",
       "      <td>0.000501</td>\n",
       "      <td>0.000373</td>\n",
       "      <td>0.000333</td>\n",
       "      <td>-11.413509</td>\n",
       "      <td>998</td>\n",
       "      <td>crossencoder</td>\n",
       "    </tr>\n",
       "    <tr>\n",
       "      <th>18918</th>\n",
       "      <td>2</td>\n",
       "      <td>q0</td>\n",
       "      <td>yorf25vg</td>\n",
       "      <td>919</td>\n",
       "      <td>3.816499</td>\n",
       "      <td>how does the coronavirus respond to changes in...</td>\n",
       "      <td>Ageing out of place in COVID-19 pandemic era: ...</td>\n",
       "      <td>-7.044335</td>\n",
       "      <td>0.000452</td>\n",
       "      <td>0.000214</td>\n",
       "      <td>...</td>\n",
       "      <td>0.001738</td>\n",
       "      <td>0.001136</td>\n",
       "      <td>0.000761</td>\n",
       "      <td>0.000641</td>\n",
       "      <td>0.000501</td>\n",
       "      <td>0.000373</td>\n",
       "      <td>0.000333</td>\n",
       "      <td>-11.413509</td>\n",
       "      <td>999</td>\n",
       "      <td>crossencoder</td>\n",
       "    </tr>\n",
       "    <tr>\n",
       "      <th>18840</th>\n",
       "      <td>2</td>\n",
       "      <td>q0</td>\n",
       "      <td>uihq7s20</td>\n",
       "      <td>841</td>\n",
       "      <td>3.874399</td>\n",
       "      <td>how does the coronavirus respond to changes in...</td>\n",
       "      <td>Covid-19: How does local lockdown work, and is...</td>\n",
       "      <td>-6.999973</td>\n",
       "      <td>0.000460</td>\n",
       "      <td>0.000228</td>\n",
       "      <td>...</td>\n",
       "      <td>0.002134</td>\n",
       "      <td>0.001417</td>\n",
       "      <td>0.000900</td>\n",
       "      <td>0.000790</td>\n",
       "      <td>0.000659</td>\n",
       "      <td>0.000486</td>\n",
       "      <td>0.000395</td>\n",
       "      <td>-11.417636</td>\n",
       "      <td>1000</td>\n",
       "      <td>crossencoder</td>\n",
       "    </tr>\n",
       "    <tr>\n",
       "      <th>19010</th>\n",
       "      <td>3</td>\n",
       "      <td>q0</td>\n",
       "      <td>wfftfkam</td>\n",
       "      <td>11</td>\n",
       "      <td>9.550200</td>\n",
       "      <td>will SARS-CoV2 infected people develop immunit...</td>\n",
       "      <td>COVID‐19 is milder in children possibly due to...</td>\n",
       "      <td>3.224682</td>\n",
       "      <td>0.999212</td>\n",
       "      <td>0.999645</td>\n",
       "      <td>...</td>\n",
       "      <td>0.609752</td>\n",
       "      <td>0.143538</td>\n",
       "      <td>0.019723</td>\n",
       "      <td>0.027640</td>\n",
       "      <td>0.186551</td>\n",
       "      <td>0.011949</td>\n",
       "      <td>0.016239</td>\n",
       "      <td>6.397130</td>\n",
       "      <td>1</td>\n",
       "      <td>crossencoder</td>\n",
       "    </tr>\n",
       "    <tr>\n",
       "      <th>19050</th>\n",
       "      <td>3</td>\n",
       "      <td>q0</td>\n",
       "      <td>01q4pu9k</td>\n",
       "      <td>51</td>\n",
       "      <td>8.422100</td>\n",
       "      <td>will SARS-CoV2 infected people develop immunit...</td>\n",
       "      <td>Cross-immunity between respiratory coronavirus...</td>\n",
       "      <td>2.302453</td>\n",
       "      <td>0.999061</td>\n",
       "      <td>0.999579</td>\n",
       "      <td>...</td>\n",
       "      <td>0.153149</td>\n",
       "      <td>0.029129</td>\n",
       "      <td>0.009840</td>\n",
       "      <td>0.014588</td>\n",
       "      <td>0.272223</td>\n",
       "      <td>0.020622</td>\n",
       "      <td>0.008335</td>\n",
       "      <td>5.199671</td>\n",
       "      <td>2</td>\n",
       "      <td>crossencoder</td>\n",
       "    </tr>\n",
       "    <tr>\n",
       "      <th>19112</th>\n",
       "      <td>3</td>\n",
       "      <td>q0</td>\n",
       "      <td>eo4ehcjv</td>\n",
       "      <td>113</td>\n",
       "      <td>7.796800</td>\n",
       "      <td>will SARS-CoV2 infected people develop immunit...</td>\n",
       "      <td>Children's vaccines do not induce cross reacti...</td>\n",
       "      <td>2.760263</td>\n",
       "      <td>0.998016</td>\n",
       "      <td>0.999466</td>\n",
       "      <td>...</td>\n",
       "      <td>0.007966</td>\n",
       "      <td>0.002760</td>\n",
       "      <td>0.001602</td>\n",
       "      <td>0.001597</td>\n",
       "      <td>0.003621</td>\n",
       "      <td>0.001022</td>\n",
       "      <td>0.000746</td>\n",
       "      <td>5.052665</td>\n",
       "      <td>3</td>\n",
       "      <td>crossencoder</td>\n",
       "    </tr>\n",
       "    <tr>\n",
       "      <th>19049</th>\n",
       "      <td>3</td>\n",
       "      <td>q0</td>\n",
       "      <td>88px7oq2</td>\n",
       "      <td>50</td>\n",
       "      <td>8.451300</td>\n",
       "      <td>will SARS-CoV2 infected people develop immunit...</td>\n",
       "      <td>T cells found in COVID-19 patients ‘bode well’...</td>\n",
       "      <td>2.846820</td>\n",
       "      <td>0.999311</td>\n",
       "      <td>0.999568</td>\n",
       "      <td>...</td>\n",
       "      <td>0.966248</td>\n",
       "      <td>0.689715</td>\n",
       "      <td>0.164695</td>\n",
       "      <td>0.055606</td>\n",
       "      <td>0.769738</td>\n",
       "      <td>0.167431</td>\n",
       "      <td>0.028111</td>\n",
       "      <td>4.658182</td>\n",
       "      <td>4</td>\n",
       "      <td>crossencoder</td>\n",
       "    </tr>\n",
       "    <tr>\n",
       "      <th>19052</th>\n",
       "      <td>3</td>\n",
       "      <td>q0</td>\n",
       "      <td>yigj0u3n</td>\n",
       "      <td>53</td>\n",
       "      <td>8.402000</td>\n",
       "      <td>will SARS-CoV2 infected people develop immunit...</td>\n",
       "      <td>Serologic cross-reactivity of SARS-CoV-2 with ...</td>\n",
       "      <td>1.779047</td>\n",
       "      <td>0.999197</td>\n",
       "      <td>0.999588</td>\n",
       "      <td>...</td>\n",
       "      <td>0.135102</td>\n",
       "      <td>0.040254</td>\n",
       "      <td>0.010508</td>\n",
       "      <td>0.014238</td>\n",
       "      <td>0.276619</td>\n",
       "      <td>0.035637</td>\n",
       "      <td>0.003949</td>\n",
       "      <td>4.585306</td>\n",
       "      <td>5</td>\n",
       "      <td>crossencoder</td>\n",
       "    </tr>\n",
       "  </tbody>\n",
       "</table>\n",
       "<p>10 rows × 25 columns</p>\n",
       "</div>"
      ],
      "text/plain": [
       "       query  q0     docid  rank_estagio1  score_estagio1   \n",
       "18826      2  q0  3o90pzw7            827        3.899700  \\\n",
       "18852      2  q0  p3xs9alx            853        3.865998   \n",
       "18917      2  q0  gadhb608            918        3.816500   \n",
       "18918      2  q0  yorf25vg            919        3.816499   \n",
       "18840      2  q0  uihq7s20            841        3.874399   \n",
       "19010      3  q0  wfftfkam             11        9.550200   \n",
       "19050      3  q0  01q4pu9k             51        8.422100   \n",
       "19112      3  q0  eo4ehcjv            113        7.796800   \n",
       "19049      3  q0  88px7oq2             50        8.451300   \n",
       "19052      3  q0  yigj0u3n             53        8.402000   \n",
       "\n",
       "                                              query_text   \n",
       "18826  how does the coronavirus respond to changes in...  \\\n",
       "18852  how does the coronavirus respond to changes in...   \n",
       "18917  how does the coronavirus respond to changes in...   \n",
       "18918  how does the coronavirus respond to changes in...   \n",
       "18840  how does the coronavirus respond to changes in...   \n",
       "19010  will SARS-CoV2 infected people develop immunit...   \n",
       "19050  will SARS-CoV2 infected people develop immunit...   \n",
       "19112  will SARS-CoV2 infected people develop immunit...   \n",
       "19049  will SARS-CoV2 infected people develop immunit...   \n",
       "19052  will SARS-CoV2 infected people develop immunit...   \n",
       "\n",
       "                                                doc_text     score   \n",
       "18826                      How and who does SARS kill?.  -6.956441  \\\n",
       "18852  Covid-19: How does the NHS test and trace serv... -7.022581   \n",
       "18917  Ageing out of place in COVID-19 pandemic era: ... -7.044335   \n",
       "18918  Ageing out of place in COVID-19 pandemic era: ... -7.044335   \n",
       "18840  Covid-19: How does local lockdown work, and is... -6.999973   \n",
       "19010  COVID‐19 is milder in children possibly due to...  3.224682   \n",
       "19050  Cross-immunity between respiratory coronavirus...  2.302453   \n",
       "19112  Children's vaccines do not induce cross reacti...  2.760263   \n",
       "19049  T cells found in COVID-19 patients ‘bode well’...  2.846820   \n",
       "19052  Serologic cross-reactivity of SARS-CoV-2 with ...  1.779047   \n",
       "\n",
       "       score_inpars_10k_ds  score_inpars_30k_ds_msmarco  ...   \n",
       "18826             0.000502                     0.000233  ...  \\\n",
       "18852             0.000462                     0.000224  ...   \n",
       "18917             0.000452                     0.000214  ...   \n",
       "18918             0.000452                     0.000214  ...   \n",
       "18840             0.000460                     0.000228  ...   \n",
       "19010             0.999212                     0.999645  ...   \n",
       "19050             0.999061                     0.999579  ...   \n",
       "19112             0.998016                     0.999466  ...   \n",
       "19049             0.999311                     0.999568  ...   \n",
       "19052             0.999197                     0.999588  ...   \n",
       "\n",
       "       score_inpars_30k_ds_sem_corte_epoca_6   \n",
       "18826                               0.002121  \\\n",
       "18852                               0.002043   \n",
       "18917                               0.001738   \n",
       "18918                               0.001738   \n",
       "18840                               0.002134   \n",
       "19010                               0.609752   \n",
       "19050                               0.153149   \n",
       "19112                               0.007966   \n",
       "19049                               0.966248   \n",
       "19052                               0.135102   \n",
       "\n",
       "       score_inpars_30k_ds_sem_corte_epoca_7   \n",
       "18826                               0.001336  \\\n",
       "18852                               0.001324   \n",
       "18917                               0.001136   \n",
       "18918                               0.001136   \n",
       "18840                               0.001417   \n",
       "19010                               0.143538   \n",
       "19050                               0.029129   \n",
       "19112                               0.002760   \n",
       "19049                               0.689715   \n",
       "19052                               0.040254   \n",
       "\n",
       "       score_inpars_30k_ds_sem_corte_epoca_8   \n",
       "18826                               0.000847  \\\n",
       "18852                               0.000852   \n",
       "18917                               0.000761   \n",
       "18918                               0.000761   \n",
       "18840                               0.000900   \n",
       "19010                               0.019723   \n",
       "19050                               0.009840   \n",
       "19112                               0.001602   \n",
       "19049                               0.164695   \n",
       "19052                               0.010508   \n",
       "\n",
       "       score_inpars_30k_ds_sem_corte_epoca_9   \n",
       "18826                               0.000767  \\\n",
       "18852                               0.000734   \n",
       "18917                               0.000641   \n",
       "18918                               0.000641   \n",
       "18840                               0.000790   \n",
       "19010                               0.027640   \n",
       "19050                               0.014588   \n",
       "19112                               0.001597   \n",
       "19049                               0.055606   \n",
       "19052                               0.014238   \n",
       "\n",
       "       score_inpars_30k_ds_sem_corte_epoca_10   \n",
       "18826                                0.000637  \\\n",
       "18852                                0.000595   \n",
       "18917                                0.000501   \n",
       "18918                                0.000501   \n",
       "18840                                0.000659   \n",
       "19010                                0.186551   \n",
       "19050                                0.272223   \n",
       "19112                                0.003621   \n",
       "19049                                0.769738   \n",
       "19052                                0.276619   \n",
       "\n",
       "       score_inpars_30k_ds_sem_corte_epoca_11   \n",
       "18826                                0.000473  \\\n",
       "18852                                0.000436   \n",
       "18917                                0.000373   \n",
       "18918                                0.000373   \n",
       "18840                                0.000486   \n",
       "19010                                0.011949   \n",
       "19050                                0.020622   \n",
       "19112                                0.001022   \n",
       "19049                                0.167431   \n",
       "19052                                0.035637   \n",
       "\n",
       "       score_inpars_30k_ds_sem_corte_epoca_12  score_crossencoder  rank   \n",
       "18826                                0.000388          -11.384471   996  \\\n",
       "18852                                0.000372          -11.408976   997   \n",
       "18917                                0.000333          -11.413509   998   \n",
       "18918                                0.000333          -11.413509   999   \n",
       "18840                                0.000395          -11.417636  1000   \n",
       "19010                                0.016239            6.397130     1   \n",
       "19050                                0.008335            5.199671     2   \n",
       "19112                                0.000746            5.052665     3   \n",
       "19049                                0.028111            4.658182     4   \n",
       "19052                                0.003949            4.585306     5   \n",
       "\n",
       "             system  \n",
       "18826  crossencoder  \n",
       "18852  crossencoder  \n",
       "18917  crossencoder  \n",
       "18918  crossencoder  \n",
       "18840  crossencoder  \n",
       "19010  crossencoder  \n",
       "19050  crossencoder  \n",
       "19112  crossencoder  \n",
       "19049  crossencoder  \n",
       "19052  crossencoder  \n",
       "\n",
       "[10 rows x 25 columns]"
      ]
     },
     "execution_count": 216,
     "metadata": {},
     "output_type": "execute_result"
    }
   ],
   "source": [
    "df_reranking.iloc[1995:2005]"
   ]
  },
  {
   "cell_type": "code",
   "execution_count": 217,
   "metadata": {},
   "outputs": [],
   "source": [
    "run_reranking = df_reranking[['query','q0', 'docid', 'rank', 'score', 'system' ]].to_dict(orient=\"list\")"
   ]
  },
  {
   "cell_type": "code",
   "execution_count": 218,
   "metadata": {},
   "outputs": [
    {
     "data": {
      "text/plain": [
       "dict_keys(['query', 'q0', 'docid', 'rank', 'score', 'system'])"
      ]
     },
     "execution_count": 218,
     "metadata": {},
     "output_type": "execute_result"
    }
   ],
   "source": [
    "run_reranking.keys()"
   ]
  },
  {
   "cell_type": "code",
   "execution_count": 219,
   "metadata": {},
   "outputs": [
    {
     "data": {
      "text/plain": [
       "(1, 'q0', '4dtk1kyh', 1, 3.247689723968506, 'crossencoder')"
      ]
     },
     "execution_count": 219,
     "metadata": {},
     "output_type": "execute_result"
    }
   ],
   "source": [
    "run_reranking['query'][0], run_reranking['q0'][0], run_reranking['docid'][0], run_reranking['rank'][0], run_reranking['score'][0], run_reranking['system'][0]"
   ]
  },
  {
   "cell_type": "code",
   "execution_count": 220,
   "metadata": {},
   "outputs": [
    {
     "name": "stdout",
     "output_type": "stream",
     "text": [
      "NDCG@10: 0.7105579989235857\n",
      "Resultados: {'runid': 'crossencoder', 'num_ret': 50000, 'num_rel': 24673, 'num_rel_ret': 9804, 'num_q': 50, 'map': 0.163296159555747, 'gm_map': 0.11172482777651789, 'bpref': 0.3436004688708574, 'Rprec': 0.2712226646580145, 'recip_rank': 0.7893571428571429, 'P@5': 0.6240000000000001, 'P@10': 0.6099999999999999, 'P@15': 0.5746666666666667, 'P@20': 0.534, 'P@30': 0.522, 'P@100': 0.4016, 'P@200': 0.34619999999999995, 'P@500': 0.26812, 'P@1000': 0.19608, 'NDCG@5': 0.7333751410627954, 'NDCG@10': 0.7105579989235857, 'NDCG@15': 0.7043120443013176, 'NDCG@20': 0.688676727336862, 'NDCG@30': 0.661634173752234, 'NDCG@100': 0.5356831304158387, 'NDCG@200': 0.4581268935321656, 'NDCG@500': 0.4049765881779686, 'NDCG@1000': 0.43258206437369084}\n"
     ]
    }
   ],
   "source": [
    "results = trec_eval.compute(predictions=[run_reranking], references=[qrel_dict])\n",
    "# salvando métricas    \n",
    "print(f\"NDCG@10: {results['NDCG@10']}\")\n",
    "print(f\"Resultados: {results}\")\n"
   ]
  },
  {
   "cell_type": "code",
   "execution_count": 221,
   "metadata": {},
   "outputs": [],
   "source": [
    "lista_resultados.append(\n",
    "{'retriever': 'crossencoder_minilm',\n",
    " 'details': 'crossencoder/ms-marco-MiniLM-L-6-v2; pretreinado no msmarco',\n",
    " \"ndcg\":round(100*results['NDCG@10'],2)})"
   ]
  },
  {
   "attachments": {},
   "cell_type": "markdown",
   "metadata": {},
   "source": [
    "## Preparando datase e dataloader para minilm"
   ]
  },
  {
   "cell_type": "code",
   "execution_count": 101,
   "metadata": {},
   "outputs": [],
   "source": [
    "tokenizer = AutoTokenizer.from_pretrained('microsoft/MiniLM-L12-H384-uncased')"
   ]
  },
  {
   "cell_type": "code",
   "execution_count": 102,
   "metadata": {
    "colab": {
     "base_uri": "https://localhost:8080/"
    },
    "id": "-MT5MpOcBfCl",
    "outputId": "a153d84f-92fb-47ed-e185-612b1ece94a0"
   },
   "outputs": [
    {
     "name": "stdout",
     "output_type": "stream",
     "text": [
      "carregando dataset\n",
      "(50000,)\n",
      "Valor de self.max_seq_length  1000000000000000019884624838656 indica que deve ser usado outro campo do tokenizador. Assumido 512 \n"
     ]
    },
    {
     "name": "stderr",
     "output_type": "stream",
     "text": [
      "encoding text pair: 100%|██████████| 50000/50000 [00:46<00:00, 1065.50it/s]\n"
     ]
    },
    {
     "name": "stdout",
     "output_type": "stream",
     "text": [
      "\tVou converter lista para tensor;  Momento: [2023-mai-03 18:39:28]\n",
      "CPU times: user 47.2 s, sys: 276 ms, total: 47.4 s\n",
      "Wall time: 47.3 s\n"
     ]
    }
   ],
   "source": [
    "%%time\n",
    "print(\"carregando dataset\")  \n",
    "classes_dummy = np.zeros(len(df_reranking_entrada), dtype=np.int64)\n",
    "print(classes_dummy.shape)\n",
    "dataset_reranking = MyDataset(texts=df_reranking_entrada[['query_text','doc_text']].values, classes=classes_dummy, tokenizer=tokenizer)    "
   ]
  },
  {
   "cell_type": "code",
   "execution_count": 103,
   "metadata": {
    "id": "K_vZwfZSBfCm"
   },
   "outputs": [],
   "source": [
    "dataloader_reranking = DataLoader(dataset_reranking,\n",
    "                                  batch_size= 4, \n",
    "                                  shuffle=False)"
   ]
  },
  {
   "attachments": {},
   "cell_type": "markdown",
   "metadata": {},
   "source": [
    "## Modelo minilm com finetune no InPars formado por dataset dos colegas e 10k próprios (v1)"
   ]
  },
  {
   "cell_type": "code",
   "execution_count": 104,
   "metadata": {},
   "outputs": [],
   "source": [
    "# inicializa o modelo como AutoModelForSequenceClassification\n",
    "path_modelo = f'{DIRETORIO_TREINO}/model_fim_treino_10k_ds.pt'\n",
    "model = AutoModelForSequenceClassification.from_pretrained(path_modelo).to(device)\n"
   ]
  },
  {
   "cell_type": "code",
   "execution_count": 105,
   "metadata": {},
   "outputs": [
    {
     "data": {
      "text/plain": [
       "(512, 1000000000000000019884624838653, 1000000000000000019884624838656)"
      ]
     },
     "execution_count": 105,
     "metadata": {},
     "output_type": "execute_result"
    }
   ],
   "source": [
    "model.config.max_position_embeddings, tokenizer.max_len_sentences_pair, tokenizer.model_max_length"
   ]
  },
  {
   "cell_type": "code",
   "execution_count": 106,
   "metadata": {},
   "outputs": [
    {
     "name": "stderr",
     "output_type": "stream",
     "text": [
      "dataset_reranking: 100%|██████████| 12500/12500 [04:27<00:00, 46.75it/s]"
     ]
    },
    {
     "name": "stdout",
     "output_type": "stream",
     "text": [
      "CPU times: user 4min 27s, sys: 108 ms, total: 4min 27s\n",
      "Wall time: 4min 27s\n"
     ]
    },
    {
     "name": "stderr",
     "output_type": "stream",
     "text": [
      "\n"
     ]
    }
   ],
   "source": [
    "%%time\n",
    "prob_relevancia_inpars_10k_ds = calcula_relevancia_minilm(model,dataloader_reranking)"
   ]
  },
  {
   "cell_type": "code",
   "execution_count": 107,
   "metadata": {},
   "outputs": [],
   "source": [
    "df_reranking_entrada['score_inpars_10k_ds'] = prob_relevancia_inpars_10k_ds"
   ]
  },
  {
   "cell_type": "code",
   "execution_count": 108,
   "metadata": {},
   "outputs": [
    {
     "data": {
      "text/html": [
       "<div>\n",
       "<style scoped>\n",
       "    .dataframe tbody tr th:only-of-type {\n",
       "        vertical-align: middle;\n",
       "    }\n",
       "\n",
       "    .dataframe tbody tr th {\n",
       "        vertical-align: top;\n",
       "    }\n",
       "\n",
       "    .dataframe thead th {\n",
       "        text-align: right;\n",
       "    }\n",
       "</style>\n",
       "<table border=\"1\" class=\"dataframe\">\n",
       "  <thead>\n",
       "    <tr style=\"text-align: right;\">\n",
       "      <th></th>\n",
       "      <th>query</th>\n",
       "      <th>q0</th>\n",
       "      <th>docid</th>\n",
       "      <th>rank_estagio1</th>\n",
       "      <th>score_estagio1</th>\n",
       "      <th>query_text</th>\n",
       "      <th>doc_text</th>\n",
       "      <th>score_tinybert</th>\n",
       "      <th>score_inpars_10k_ds</th>\n",
       "      <th>reranking</th>\n",
       "    </tr>\n",
       "  </thead>\n",
       "  <tbody>\n",
       "    <tr>\n",
       "      <th>90</th>\n",
       "      <td>44</td>\n",
       "      <td>Q0</td>\n",
       "      <td>wni08lks</td>\n",
       "      <td>91</td>\n",
       "      <td>8.1508</td>\n",
       "      <td>How much impact do masks have on preventing th...</td>\n",
       "      <td>COVID‐19: Face masks and human‐to‐human transm...</td>\n",
       "      <td>2.450861</td>\n",
       "      <td>0.999384</td>\n",
       "      <td>1</td>\n",
       "    </tr>\n",
       "    <tr>\n",
       "      <th>120</th>\n",
       "      <td>44</td>\n",
       "      <td>Q0</td>\n",
       "      <td>q0ey3wib</td>\n",
       "      <td>121</td>\n",
       "      <td>7.9099</td>\n",
       "      <td>How much impact do masks have on preventing th...</td>\n",
       "      <td>Coronavirus infection prevention by wearing ma...</td>\n",
       "      <td>2.588499</td>\n",
       "      <td>0.999383</td>\n",
       "      <td>2</td>\n",
       "    </tr>\n",
       "    <tr>\n",
       "      <th>511</th>\n",
       "      <td>44</td>\n",
       "      <td>Q0</td>\n",
       "      <td>m17j5u0y</td>\n",
       "      <td>512</td>\n",
       "      <td>6.7228</td>\n",
       "      <td>How much impact do masks have on preventing th...</td>\n",
       "      <td>The scientific rationale for the use of simple...</td>\n",
       "      <td>1.922058</td>\n",
       "      <td>0.999379</td>\n",
       "      <td>3</td>\n",
       "    </tr>\n",
       "    <tr>\n",
       "      <th>932</th>\n",
       "      <td>44</td>\n",
       "      <td>Q0</td>\n",
       "      <td>r66eulqj</td>\n",
       "      <td>933</td>\n",
       "      <td>6.1921</td>\n",
       "      <td>How much impact do masks have on preventing th...</td>\n",
       "      <td>Masks and thermometers: Paramount measures to ...</td>\n",
       "      <td>2.211510</td>\n",
       "      <td>0.999377</td>\n",
       "      <td>4</td>\n",
       "    </tr>\n",
       "    <tr>\n",
       "      <th>315</th>\n",
       "      <td>44</td>\n",
       "      <td>Q0</td>\n",
       "      <td>f4uh73j7</td>\n",
       "      <td>316</td>\n",
       "      <td>7.1306</td>\n",
       "      <td>How much impact do masks have on preventing th...</td>\n",
       "      <td>Who is wearing a mask? Gender-, age-, and loca...</td>\n",
       "      <td>2.473369</td>\n",
       "      <td>0.999376</td>\n",
       "      <td>5</td>\n",
       "    </tr>\n",
       "    <tr>\n",
       "      <th>...</th>\n",
       "      <td>...</td>\n",
       "      <td>...</td>\n",
       "      <td>...</td>\n",
       "      <td>...</td>\n",
       "      <td>...</td>\n",
       "      <td>...</td>\n",
       "      <td>...</td>\n",
       "      <td>...</td>\n",
       "      <td>...</td>\n",
       "      <td>...</td>\n",
       "    </tr>\n",
       "    <tr>\n",
       "      <th>158</th>\n",
       "      <td>44</td>\n",
       "      <td>Q0</td>\n",
       "      <td>gwg7vnkv</td>\n",
       "      <td>159</td>\n",
       "      <td>7.6876</td>\n",
       "      <td>How much impact do masks have on preventing th...</td>\n",
       "      <td>Scientific Opinion on an update on the present...</td>\n",
       "      <td>-6.998663</td>\n",
       "      <td>0.000374</td>\n",
       "      <td>996</td>\n",
       "    </tr>\n",
       "    <tr>\n",
       "      <th>68</th>\n",
       "      <td>44</td>\n",
       "      <td>Q0</td>\n",
       "      <td>zznjqdx2</td>\n",
       "      <td>69</td>\n",
       "      <td>8.3636</td>\n",
       "      <td>How much impact do masks have on preventing th...</td>\n",
       "      <td>Evaluating Protective Effects of Vaccination. ...</td>\n",
       "      <td>-6.926301</td>\n",
       "      <td>0.000373</td>\n",
       "      <td>997</td>\n",
       "    </tr>\n",
       "    <tr>\n",
       "      <th>541</th>\n",
       "      <td>44</td>\n",
       "      <td>Q0</td>\n",
       "      <td>p8jrm5df</td>\n",
       "      <td>542</td>\n",
       "      <td>6.6646</td>\n",
       "      <td>How much impact do masks have on preventing th...</td>\n",
       "      <td>Navigating the Zika panic.. The epidemics of E...</td>\n",
       "      <td>-6.976887</td>\n",
       "      <td>0.000372</td>\n",
       "      <td>998</td>\n",
       "    </tr>\n",
       "    <tr>\n",
       "      <th>590</th>\n",
       "      <td>44</td>\n",
       "      <td>Q0</td>\n",
       "      <td>1atoairy</td>\n",
       "      <td>591</td>\n",
       "      <td>6.5859</td>\n",
       "      <td>How much impact do masks have on preventing th...</td>\n",
       "      <td>Autopsy Biosafety: Recommendations for Prevent...</td>\n",
       "      <td>-6.192401</td>\n",
       "      <td>0.000372</td>\n",
       "      <td>999</td>\n",
       "    </tr>\n",
       "    <tr>\n",
       "      <th>599</th>\n",
       "      <td>44</td>\n",
       "      <td>Q0</td>\n",
       "      <td>5iwgebvp</td>\n",
       "      <td>600</td>\n",
       "      <td>6.5741</td>\n",
       "      <td>How much impact do masks have on preventing th...</td>\n",
       "      <td>Disease Protection in Sea Coast (and Inland) C...</td>\n",
       "      <td>-6.930557</td>\n",
       "      <td>0.000372</td>\n",
       "      <td>1000</td>\n",
       "    </tr>\n",
       "  </tbody>\n",
       "</table>\n",
       "<p>1000 rows × 10 columns</p>\n",
       "</div>"
      ],
      "text/plain": [
       "     query  q0     docid  rank_estagio1  score_estagio1   \n",
       "90      44  Q0  wni08lks             91          8.1508  \\\n",
       "120     44  Q0  q0ey3wib            121          7.9099   \n",
       "511     44  Q0  m17j5u0y            512          6.7228   \n",
       "932     44  Q0  r66eulqj            933          6.1921   \n",
       "315     44  Q0  f4uh73j7            316          7.1306   \n",
       "..     ...  ..       ...            ...             ...   \n",
       "158     44  Q0  gwg7vnkv            159          7.6876   \n",
       "68      44  Q0  zznjqdx2             69          8.3636   \n",
       "541     44  Q0  p8jrm5df            542          6.6646   \n",
       "590     44  Q0  1atoairy            591          6.5859   \n",
       "599     44  Q0  5iwgebvp            600          6.5741   \n",
       "\n",
       "                                            query_text   \n",
       "90   How much impact do masks have on preventing th...  \\\n",
       "120  How much impact do masks have on preventing th...   \n",
       "511  How much impact do masks have on preventing th...   \n",
       "932  How much impact do masks have on preventing th...   \n",
       "315  How much impact do masks have on preventing th...   \n",
       "..                                                 ...   \n",
       "158  How much impact do masks have on preventing th...   \n",
       "68   How much impact do masks have on preventing th...   \n",
       "541  How much impact do masks have on preventing th...   \n",
       "590  How much impact do masks have on preventing th...   \n",
       "599  How much impact do masks have on preventing th...   \n",
       "\n",
       "                                              doc_text  score_tinybert   \n",
       "90   COVID‐19: Face masks and human‐to‐human transm...        2.450861  \\\n",
       "120  Coronavirus infection prevention by wearing ma...        2.588499   \n",
       "511  The scientific rationale for the use of simple...        1.922058   \n",
       "932  Masks and thermometers: Paramount measures to ...        2.211510   \n",
       "315  Who is wearing a mask? Gender-, age-, and loca...        2.473369   \n",
       "..                                                 ...             ...   \n",
       "158  Scientific Opinion on an update on the present...       -6.998663   \n",
       "68   Evaluating Protective Effects of Vaccination. ...       -6.926301   \n",
       "541  Navigating the Zika panic.. The epidemics of E...       -6.976887   \n",
       "590  Autopsy Biosafety: Recommendations for Prevent...       -6.192401   \n",
       "599  Disease Protection in Sea Coast (and Inland) C...       -6.930557   \n",
       "\n",
       "     score_inpars_10k_ds  reranking  \n",
       "90              0.999384          1  \n",
       "120             0.999383          2  \n",
       "511             0.999379          3  \n",
       "932             0.999377          4  \n",
       "315             0.999376          5  \n",
       "..                   ...        ...  \n",
       "158             0.000374        996  \n",
       "68              0.000373        997  \n",
       "541             0.000372        998  \n",
       "590             0.000372        999  \n",
       "599             0.000372       1000  \n",
       "\n",
       "[1000 rows x 10 columns]"
      ]
     },
     "execution_count": 108,
     "metadata": {},
     "output_type": "execute_result"
    }
   ],
   "source": [
    "# Agrupa os registros por id_query e ordena cada grupo pelo score_reranking\n",
    "df_reranking = df_reranking_entrada.groupby('query', group_keys=False).apply(lambda x: x.sort_values(['score_inpars_10k_ds'], ascending=[False]))\n",
    "df_reranking['reranking'] = df_reranking.groupby('query').cumcount() + 1\n",
    "df_reranking[df_reranking['query']==44]"
   ]
  },
  {
   "cell_type": "code",
   "execution_count": 109,
   "metadata": {},
   "outputs": [
    {
     "data": {
      "text/html": [
       "<div>\n",
       "<style scoped>\n",
       "    .dataframe tbody tr th:only-of-type {\n",
       "        vertical-align: middle;\n",
       "    }\n",
       "\n",
       "    .dataframe tbody tr th {\n",
       "        vertical-align: top;\n",
       "    }\n",
       "\n",
       "    .dataframe thead th {\n",
       "        text-align: right;\n",
       "    }\n",
       "</style>\n",
       "<table border=\"1\" class=\"dataframe\">\n",
       "  <thead>\n",
       "    <tr style=\"text-align: right;\">\n",
       "      <th></th>\n",
       "      <th>query</th>\n",
       "      <th>q0</th>\n",
       "      <th>docid</th>\n",
       "      <th>rank_estagio1</th>\n",
       "      <th>score_estagio1</th>\n",
       "      <th>query_text</th>\n",
       "      <th>doc_text</th>\n",
       "      <th>score_tinybert</th>\n",
       "      <th>score</th>\n",
       "      <th>rank</th>\n",
       "      <th>system</th>\n",
       "    </tr>\n",
       "  </thead>\n",
       "  <tbody>\n",
       "    <tr>\n",
       "      <th>18833</th>\n",
       "      <td>2</td>\n",
       "      <td>q0</td>\n",
       "      <td>c0dw73gf</td>\n",
       "      <td>834</td>\n",
       "      <td>3.884500</td>\n",
       "      <td>how does the coronavirus respond to changes in...</td>\n",
       "      <td>Test, track, and trace: How is the NHSX Covid ...</td>\n",
       "      <td>-7.035064</td>\n",
       "      <td>0.000390</td>\n",
       "      <td>996</td>\n",
       "      <td>inpars_10k_ds</td>\n",
       "    </tr>\n",
       "    <tr>\n",
       "      <th>18688</th>\n",
       "      <td>2</td>\n",
       "      <td>q0</td>\n",
       "      <td>kwqnrkh2</td>\n",
       "      <td>689</td>\n",
       "      <td>4.030194</td>\n",
       "      <td>how does the coronavirus respond to changes in...</td>\n",
       "      <td>Responding to COVID-19: how an academic infect...</td>\n",
       "      <td>-6.922223</td>\n",
       "      <td>0.000390</td>\n",
       "      <td>997</td>\n",
       "      <td>inpars_10k_ds</td>\n",
       "    </tr>\n",
       "    <tr>\n",
       "      <th>18469</th>\n",
       "      <td>2</td>\n",
       "      <td>q0</td>\n",
       "      <td>twox681w</td>\n",
       "      <td>470</td>\n",
       "      <td>4.311000</td>\n",
       "      <td>how does the coronavirus respond to changes in...</td>\n",
       "      <td>Climate Change and Health: Transcending Silos ...</td>\n",
       "      <td>-6.706432</td>\n",
       "      <td>0.000385</td>\n",
       "      <td>998</td>\n",
       "      <td>inpars_10k_ds</td>\n",
       "    </tr>\n",
       "    <tr>\n",
       "      <th>18245</th>\n",
       "      <td>2</td>\n",
       "      <td>q0</td>\n",
       "      <td>vy1mu04l</td>\n",
       "      <td>246</td>\n",
       "      <td>4.827100</td>\n",
       "      <td>how does the coronavirus respond to changes in...</td>\n",
       "      <td>How will this continue? Modelling interactions...</td>\n",
       "      <td>-6.979988</td>\n",
       "      <td>0.000383</td>\n",
       "      <td>999</td>\n",
       "      <td>inpars_10k_ds</td>\n",
       "    </tr>\n",
       "    <tr>\n",
       "      <th>18379</th>\n",
       "      <td>2</td>\n",
       "      <td>q0</td>\n",
       "      <td>guevcs1y</td>\n",
       "      <td>380</td>\n",
       "      <td>4.515400</td>\n",
       "      <td>how does the coronavirus respond to changes in...</td>\n",
       "      <td>From SARS to strategic actions reframing syste...</td>\n",
       "      <td>-7.006756</td>\n",
       "      <td>0.000378</td>\n",
       "      <td>1000</td>\n",
       "      <td>inpars_10k_ds</td>\n",
       "    </tr>\n",
       "    <tr>\n",
       "      <th>19077</th>\n",
       "      <td>3</td>\n",
       "      <td>q0</td>\n",
       "      <td>tveeq4fj</td>\n",
       "      <td>78</td>\n",
       "      <td>8.048100</td>\n",
       "      <td>will SARS-CoV2 infected people develop immunit...</td>\n",
       "      <td>SARS-CoV-2 Antibody Testing – Questions to be ...</td>\n",
       "      <td>2.159944</td>\n",
       "      <td>0.999316</td>\n",
       "      <td>1</td>\n",
       "      <td>inpars_10k_ds</td>\n",
       "    </tr>\n",
       "    <tr>\n",
       "      <th>19049</th>\n",
       "      <td>3</td>\n",
       "      <td>q0</td>\n",
       "      <td>88px7oq2</td>\n",
       "      <td>50</td>\n",
       "      <td>8.451300</td>\n",
       "      <td>will SARS-CoV2 infected people develop immunit...</td>\n",
       "      <td>T cells found in COVID-19 patients ‘bode well’...</td>\n",
       "      <td>2.846820</td>\n",
       "      <td>0.999311</td>\n",
       "      <td>2</td>\n",
       "      <td>inpars_10k_ds</td>\n",
       "    </tr>\n",
       "    <tr>\n",
       "      <th>19079</th>\n",
       "      <td>3</td>\n",
       "      <td>q0</td>\n",
       "      <td>fj2rjmop</td>\n",
       "      <td>80</td>\n",
       "      <td>8.039200</td>\n",
       "      <td>will SARS-CoV2 infected people develop immunit...</td>\n",
       "      <td>Airway Memory CD4(+) T Cells Mediate Protectiv...</td>\n",
       "      <td>2.519732</td>\n",
       "      <td>0.999299</td>\n",
       "      <td>3</td>\n",
       "      <td>inpars_10k_ds</td>\n",
       "    </tr>\n",
       "    <tr>\n",
       "      <th>19070</th>\n",
       "      <td>3</td>\n",
       "      <td>q0</td>\n",
       "      <td>rsz7ch2a</td>\n",
       "      <td>71</td>\n",
       "      <td>8.087899</td>\n",
       "      <td>will SARS-CoV2 infected people develop immunit...</td>\n",
       "      <td>Protective immunity after COVID-19 has been qu...</td>\n",
       "      <td>2.064329</td>\n",
       "      <td>0.999281</td>\n",
       "      <td>4</td>\n",
       "      <td>inpars_10k_ds</td>\n",
       "    </tr>\n",
       "    <tr>\n",
       "      <th>19520</th>\n",
       "      <td>3</td>\n",
       "      <td>q0</td>\n",
       "      <td>mtq6yh25</td>\n",
       "      <td>521</td>\n",
       "      <td>6.470100</td>\n",
       "      <td>will SARS-CoV2 infected people develop immunit...</td>\n",
       "      <td>Insights on cross-species transmission of SARS...</td>\n",
       "      <td>2.425743</td>\n",
       "      <td>0.999272</td>\n",
       "      <td>5</td>\n",
       "      <td>inpars_10k_ds</td>\n",
       "    </tr>\n",
       "  </tbody>\n",
       "</table>\n",
       "</div>"
      ],
      "text/plain": [
       "       query  q0     docid  rank_estagio1  score_estagio1   \n",
       "18833      2  q0  c0dw73gf            834        3.884500  \\\n",
       "18688      2  q0  kwqnrkh2            689        4.030194   \n",
       "18469      2  q0  twox681w            470        4.311000   \n",
       "18245      2  q0  vy1mu04l            246        4.827100   \n",
       "18379      2  q0  guevcs1y            380        4.515400   \n",
       "19077      3  q0  tveeq4fj             78        8.048100   \n",
       "19049      3  q0  88px7oq2             50        8.451300   \n",
       "19079      3  q0  fj2rjmop             80        8.039200   \n",
       "19070      3  q0  rsz7ch2a             71        8.087899   \n",
       "19520      3  q0  mtq6yh25            521        6.470100   \n",
       "\n",
       "                                              query_text   \n",
       "18833  how does the coronavirus respond to changes in...  \\\n",
       "18688  how does the coronavirus respond to changes in...   \n",
       "18469  how does the coronavirus respond to changes in...   \n",
       "18245  how does the coronavirus respond to changes in...   \n",
       "18379  how does the coronavirus respond to changes in...   \n",
       "19077  will SARS-CoV2 infected people develop immunit...   \n",
       "19049  will SARS-CoV2 infected people develop immunit...   \n",
       "19079  will SARS-CoV2 infected people develop immunit...   \n",
       "19070  will SARS-CoV2 infected people develop immunit...   \n",
       "19520  will SARS-CoV2 infected people develop immunit...   \n",
       "\n",
       "                                                doc_text  score_tinybert   \n",
       "18833  Test, track, and trace: How is the NHSX Covid ...       -7.035064  \\\n",
       "18688  Responding to COVID-19: how an academic infect...       -6.922223   \n",
       "18469  Climate Change and Health: Transcending Silos ...       -6.706432   \n",
       "18245  How will this continue? Modelling interactions...       -6.979988   \n",
       "18379  From SARS to strategic actions reframing syste...       -7.006756   \n",
       "19077  SARS-CoV-2 Antibody Testing – Questions to be ...        2.159944   \n",
       "19049  T cells found in COVID-19 patients ‘bode well’...        2.846820   \n",
       "19079  Airway Memory CD4(+) T Cells Mediate Protectiv...        2.519732   \n",
       "19070  Protective immunity after COVID-19 has been qu...        2.064329   \n",
       "19520  Insights on cross-species transmission of SARS...        2.425743   \n",
       "\n",
       "          score  rank         system  \n",
       "18833  0.000390   996  inpars_10k_ds  \n",
       "18688  0.000390   997  inpars_10k_ds  \n",
       "18469  0.000385   998  inpars_10k_ds  \n",
       "18245  0.000383   999  inpars_10k_ds  \n",
       "18379  0.000378  1000  inpars_10k_ds  \n",
       "19077  0.999316     1  inpars_10k_ds  \n",
       "19049  0.999311     2  inpars_10k_ds  \n",
       "19079  0.999299     3  inpars_10k_ds  \n",
       "19070  0.999281     4  inpars_10k_ds  \n",
       "19520  0.999272     5  inpars_10k_ds  "
      ]
     },
     "execution_count": 109,
     "metadata": {},
     "output_type": "execute_result"
    }
   ],
   "source": [
    "### Avaliação\n",
    "df_reranking.rename(columns={'reranking': 'rank', 'score_inpars_10k_ds':'score'}, inplace=True)\n",
    "df_reranking['q0'] = 'q0'\n",
    "df_reranking['system'] = 'inpars_10k_ds'\n",
    "df_reranking.iloc[1995:2005]\n"
   ]
  },
  {
   "cell_type": "code",
   "execution_count": 110,
   "metadata": {},
   "outputs": [
    {
     "name": "stdout",
     "output_type": "stream",
     "text": [
      "1 q0 jowrpwbs 1 0.999416708946228 inpars_10k_ds\n"
     ]
    }
   ],
   "source": [
    "run_reranking = df_reranking[['query','q0', 'docid', 'rank', 'score', 'system' ]].to_dict(orient=\"list\")\n",
    "print(run_reranking['query'][0], run_reranking['q0'][0], run_reranking['docid'][0], run_reranking['rank'][0], run_reranking['score'][0], run_reranking['system'][0])"
   ]
  },
  {
   "cell_type": "code",
   "execution_count": 111,
   "metadata": {},
   "outputs": [
    {
     "name": "stdout",
     "output_type": "stream",
     "text": [
      "NDCG@10: 0.6209670476243648\n",
      "Resultados: {'runid': 'inpars_10k_ds', 'num_ret': 50000, 'num_rel': 24673, 'num_rel_ret': 9804, 'num_q': 50, 'map': 0.19551193783834894, 'gm_map': 0.14266272369560792, 'bpref': 0.3495297349258159, 'Rprec': 0.297070844621028, 'recip_rank': 0.8699523809523809, 'P@5': 0.708, 'P@10': 0.684, 'P@15': 0.652, 'P@20': 0.633, 'P@30': 0.5933333333333334, 'P@100': 0.47159999999999996, 'P@200': 0.4, 'P@500': 0.28628, 'P@1000': 0.19608, 'NDCG@5': 0.6377596509907975, 'NDCG@10': 0.6209670476243648, 'NDCG@15': 0.5993653829895373, 'NDCG@20': 0.5808133104518566, 'NDCG@30': 0.550441178845339, 'NDCG@100': 0.4480321076630382, 'NDCG@200': 0.394298186022022, 'NDCG@500': 0.3725742280763166, 'NDCG@1000': 0.418425291700766}\n"
     ]
    }
   ],
   "source": [
    "results = trec_eval.compute(predictions=[run_reranking], references=[qrel_dict])\n",
    "# salvando métricas    \n",
    "print(f\"NDCG@10: {results['NDCG@10']}\")\n",
    "print(f\"Resultados: {results}\")\n"
   ]
  },
  {
   "cell_type": "code",
   "execution_count": 112,
   "metadata": {},
   "outputs": [
    {
     "data": {
      "text/plain": [
       "[{'retriever': 'bm25', 'details': 'k1=0.9, b=0.4', 'ndcg': 59.47},\n",
       " {'retriever': 'bm25', 'details': 'k1=1.12, b=0.4', 'ndcg': 61.88},\n",
       " {'retriever': 'reranking_tinybert',\n",
       "  'details': 'ms-marco-TinyBERT-L-2; pretreinado no msmarco',\n",
       "  'ndcg': 53.68},\n",
       " {'retriever': 'inpars_10k_ds',\n",
       "  'details': 'minilm finetuned by InPars; 10k + dataset class',\n",
       "  'ndcg': 62.1}]"
      ]
     },
     "execution_count": 112,
     "metadata": {},
     "output_type": "execute_result"
    }
   ],
   "source": [
    "lista_resultados.append(\n",
    "{'retriever': 'inpars_10k_ds',\n",
    " 'details': 'minilm finetuned by InPars; 10k + dataset class',\n",
    " \"ndcg\":round(100*results['NDCG@10'],2)})\n",
    "lista_resultados"
   ]
  },
  {
   "attachments": {},
   "cell_type": "markdown",
   "metadata": {},
   "source": [
    "## Modelo minilm com finetune no InPars formado por dataset dos colegas, 30k próprios (v2) e msmarco"
   ]
  },
  {
   "cell_type": "code",
   "execution_count": 113,
   "metadata": {},
   "outputs": [],
   "source": [
    "# inicializa o modelo como AutoModelForSequenceClassification\n",
    "path_modelo = f'{DIRETORIO_TREINO}/model_fim_treino_30k_ds_msmarco.pt'\n",
    "model = AutoModelForSequenceClassification.from_pretrained(path_modelo).to(device)"
   ]
  },
  {
   "cell_type": "code",
   "execution_count": 114,
   "metadata": {},
   "outputs": [
    {
     "data": {
      "text/plain": [
       "(512, 1000000000000000019884624838653, 1000000000000000019884624838656)"
      ]
     },
     "execution_count": 114,
     "metadata": {},
     "output_type": "execute_result"
    }
   ],
   "source": [
    "model.config.max_position_embeddings, tokenizer.max_len_sentences_pair, tokenizer.model_max_length"
   ]
  },
  {
   "cell_type": "code",
   "execution_count": 115,
   "metadata": {},
   "outputs": [
    {
     "name": "stderr",
     "output_type": "stream",
     "text": [
      "dataset_reranking: 100%|██████████| 12500/12500 [04:30<00:00, 46.22it/s]"
     ]
    },
    {
     "name": "stdout",
     "output_type": "stream",
     "text": [
      "CPU times: user 4min 30s, sys: 128 ms, total: 4min 30s\n",
      "Wall time: 4min 30s\n"
     ]
    },
    {
     "name": "stderr",
     "output_type": "stream",
     "text": [
      "\n"
     ]
    }
   ],
   "source": [
    "%%time\n",
    "prob_relevancia_inpars_30k_ds_msmarco = calcula_relevancia_minilm(model,dataloader_reranking)"
   ]
  },
  {
   "cell_type": "code",
   "execution_count": 116,
   "metadata": {},
   "outputs": [],
   "source": [
    "df_reranking_entrada['score_inpars_30k_ds_msmarco'] = prob_relevancia_inpars_30k_ds_msmarco"
   ]
  },
  {
   "cell_type": "code",
   "execution_count": 117,
   "metadata": {},
   "outputs": [
    {
     "data": {
      "text/html": [
       "<div>\n",
       "<style scoped>\n",
       "    .dataframe tbody tr th:only-of-type {\n",
       "        vertical-align: middle;\n",
       "    }\n",
       "\n",
       "    .dataframe tbody tr th {\n",
       "        vertical-align: top;\n",
       "    }\n",
       "\n",
       "    .dataframe thead th {\n",
       "        text-align: right;\n",
       "    }\n",
       "</style>\n",
       "<table border=\"1\" class=\"dataframe\">\n",
       "  <thead>\n",
       "    <tr style=\"text-align: right;\">\n",
       "      <th></th>\n",
       "      <th>query</th>\n",
       "      <th>q0</th>\n",
       "      <th>docid</th>\n",
       "      <th>rank_estagio1</th>\n",
       "      <th>score_estagio1</th>\n",
       "      <th>query_text</th>\n",
       "      <th>doc_text</th>\n",
       "      <th>score_tinybert</th>\n",
       "      <th>score_inpars_10k_ds</th>\n",
       "      <th>score_inpars_30k_ds_msmarco</th>\n",
       "      <th>reranking</th>\n",
       "    </tr>\n",
       "  </thead>\n",
       "  <tbody>\n",
       "    <tr>\n",
       "      <th>90</th>\n",
       "      <td>44</td>\n",
       "      <td>Q0</td>\n",
       "      <td>wni08lks</td>\n",
       "      <td>91</td>\n",
       "      <td>8.150800</td>\n",
       "      <td>How much impact do masks have on preventing th...</td>\n",
       "      <td>COVID‐19: Face masks and human‐to‐human transm...</td>\n",
       "      <td>2.450861</td>\n",
       "      <td>0.999384</td>\n",
       "      <td>0.999705</td>\n",
       "      <td>1</td>\n",
       "    </tr>\n",
       "    <tr>\n",
       "      <th>120</th>\n",
       "      <td>44</td>\n",
       "      <td>Q0</td>\n",
       "      <td>q0ey3wib</td>\n",
       "      <td>121</td>\n",
       "      <td>7.909900</td>\n",
       "      <td>How much impact do masks have on preventing th...</td>\n",
       "      <td>Coronavirus infection prevention by wearing ma...</td>\n",
       "      <td>2.588499</td>\n",
       "      <td>0.999383</td>\n",
       "      <td>0.999702</td>\n",
       "      <td>2</td>\n",
       "    </tr>\n",
       "    <tr>\n",
       "      <th>22</th>\n",
       "      <td>44</td>\n",
       "      <td>Q0</td>\n",
       "      <td>tfrawa9z</td>\n",
       "      <td>23</td>\n",
       "      <td>9.314899</td>\n",
       "      <td>How much impact do masks have on preventing th...</td>\n",
       "      <td>COVID-19: emerging protective measures.. The C...</td>\n",
       "      <td>2.936950</td>\n",
       "      <td>0.999366</td>\n",
       "      <td>0.999701</td>\n",
       "      <td>3</td>\n",
       "    </tr>\n",
       "    <tr>\n",
       "      <th>21</th>\n",
       "      <td>44</td>\n",
       "      <td>Q0</td>\n",
       "      <td>qi8x5yaq</td>\n",
       "      <td>22</td>\n",
       "      <td>9.314900</td>\n",
       "      <td>How much impact do masks have on preventing th...</td>\n",
       "      <td>COVID-19: emerging protective measures. The CO...</td>\n",
       "      <td>3.049641</td>\n",
       "      <td>0.999365</td>\n",
       "      <td>0.999701</td>\n",
       "      <td>4</td>\n",
       "    </tr>\n",
       "    <tr>\n",
       "      <th>932</th>\n",
       "      <td>44</td>\n",
       "      <td>Q0</td>\n",
       "      <td>r66eulqj</td>\n",
       "      <td>933</td>\n",
       "      <td>6.192100</td>\n",
       "      <td>How much impact do masks have on preventing th...</td>\n",
       "      <td>Masks and thermometers: Paramount measures to ...</td>\n",
       "      <td>2.211510</td>\n",
       "      <td>0.999377</td>\n",
       "      <td>0.999700</td>\n",
       "      <td>5</td>\n",
       "    </tr>\n",
       "    <tr>\n",
       "      <th>...</th>\n",
       "      <td>...</td>\n",
       "      <td>...</td>\n",
       "      <td>...</td>\n",
       "      <td>...</td>\n",
       "      <td>...</td>\n",
       "      <td>...</td>\n",
       "      <td>...</td>\n",
       "      <td>...</td>\n",
       "      <td>...</td>\n",
       "      <td>...</td>\n",
       "      <td>...</td>\n",
       "    </tr>\n",
       "    <tr>\n",
       "      <th>360</th>\n",
       "      <td>44</td>\n",
       "      <td>Q0</td>\n",
       "      <td>u3y54g8l</td>\n",
       "      <td>361</td>\n",
       "      <td>6.997000</td>\n",
       "      <td>How much impact do masks have on preventing th...</td>\n",
       "      <td>Hesitance towards voluntary medical male circu...</td>\n",
       "      <td>-6.943799</td>\n",
       "      <td>0.000379</td>\n",
       "      <td>0.000197</td>\n",
       "      <td>996</td>\n",
       "    </tr>\n",
       "    <tr>\n",
       "      <th>606</th>\n",
       "      <td>44</td>\n",
       "      <td>Q0</td>\n",
       "      <td>2t3iryv5</td>\n",
       "      <td>607</td>\n",
       "      <td>6.567000</td>\n",
       "      <td>How much impact do masks have on preventing th...</td>\n",
       "      <td>Appropriate protein and specific amino acid de...</td>\n",
       "      <td>-6.595015</td>\n",
       "      <td>0.000375</td>\n",
       "      <td>0.000196</td>\n",
       "      <td>997</td>\n",
       "    </tr>\n",
       "    <tr>\n",
       "      <th>68</th>\n",
       "      <td>44</td>\n",
       "      <td>Q0</td>\n",
       "      <td>zznjqdx2</td>\n",
       "      <td>69</td>\n",
       "      <td>8.363600</td>\n",
       "      <td>How much impact do masks have on preventing th...</td>\n",
       "      <td>Evaluating Protective Effects of Vaccination. ...</td>\n",
       "      <td>-6.926301</td>\n",
       "      <td>0.000373</td>\n",
       "      <td>0.000196</td>\n",
       "      <td>998</td>\n",
       "    </tr>\n",
       "    <tr>\n",
       "      <th>649</th>\n",
       "      <td>44</td>\n",
       "      <td>Q0</td>\n",
       "      <td>kh3musfl</td>\n",
       "      <td>650</td>\n",
       "      <td>6.507099</td>\n",
       "      <td>How much impact do masks have on preventing th...</td>\n",
       "      <td>A New Coefficient of Rankings Similarity in De...</td>\n",
       "      <td>-6.864759</td>\n",
       "      <td>0.000389</td>\n",
       "      <td>0.000195</td>\n",
       "      <td>999</td>\n",
       "    </tr>\n",
       "    <tr>\n",
       "      <th>752</th>\n",
       "      <td>44</td>\n",
       "      <td>Q0</td>\n",
       "      <td>cguukfxd</td>\n",
       "      <td>753</td>\n",
       "      <td>6.380600</td>\n",
       "      <td>How much impact do masks have on preventing th...</td>\n",
       "      <td>Experimental Models and Emerging Hypotheses fo...</td>\n",
       "      <td>-6.649634</td>\n",
       "      <td>0.000380</td>\n",
       "      <td>0.000193</td>\n",
       "      <td>1000</td>\n",
       "    </tr>\n",
       "  </tbody>\n",
       "</table>\n",
       "<p>1000 rows × 11 columns</p>\n",
       "</div>"
      ],
      "text/plain": [
       "     query  q0     docid  rank_estagio1  score_estagio1   \n",
       "90      44  Q0  wni08lks             91        8.150800  \\\n",
       "120     44  Q0  q0ey3wib            121        7.909900   \n",
       "22      44  Q0  tfrawa9z             23        9.314899   \n",
       "21      44  Q0  qi8x5yaq             22        9.314900   \n",
       "932     44  Q0  r66eulqj            933        6.192100   \n",
       "..     ...  ..       ...            ...             ...   \n",
       "360     44  Q0  u3y54g8l            361        6.997000   \n",
       "606     44  Q0  2t3iryv5            607        6.567000   \n",
       "68      44  Q0  zznjqdx2             69        8.363600   \n",
       "649     44  Q0  kh3musfl            650        6.507099   \n",
       "752     44  Q0  cguukfxd            753        6.380600   \n",
       "\n",
       "                                            query_text   \n",
       "90   How much impact do masks have on preventing th...  \\\n",
       "120  How much impact do masks have on preventing th...   \n",
       "22   How much impact do masks have on preventing th...   \n",
       "21   How much impact do masks have on preventing th...   \n",
       "932  How much impact do masks have on preventing th...   \n",
       "..                                                 ...   \n",
       "360  How much impact do masks have on preventing th...   \n",
       "606  How much impact do masks have on preventing th...   \n",
       "68   How much impact do masks have on preventing th...   \n",
       "649  How much impact do masks have on preventing th...   \n",
       "752  How much impact do masks have on preventing th...   \n",
       "\n",
       "                                              doc_text  score_tinybert   \n",
       "90   COVID‐19: Face masks and human‐to‐human transm...        2.450861  \\\n",
       "120  Coronavirus infection prevention by wearing ma...        2.588499   \n",
       "22   COVID-19: emerging protective measures.. The C...        2.936950   \n",
       "21   COVID-19: emerging protective measures. The CO...        3.049641   \n",
       "932  Masks and thermometers: Paramount measures to ...        2.211510   \n",
       "..                                                 ...             ...   \n",
       "360  Hesitance towards voluntary medical male circu...       -6.943799   \n",
       "606  Appropriate protein and specific amino acid de...       -6.595015   \n",
       "68   Evaluating Protective Effects of Vaccination. ...       -6.926301   \n",
       "649  A New Coefficient of Rankings Similarity in De...       -6.864759   \n",
       "752  Experimental Models and Emerging Hypotheses fo...       -6.649634   \n",
       "\n",
       "     score_inpars_10k_ds  score_inpars_30k_ds_msmarco  reranking  \n",
       "90              0.999384                     0.999705          1  \n",
       "120             0.999383                     0.999702          2  \n",
       "22              0.999366                     0.999701          3  \n",
       "21              0.999365                     0.999701          4  \n",
       "932             0.999377                     0.999700          5  \n",
       "..                   ...                          ...        ...  \n",
       "360             0.000379                     0.000197        996  \n",
       "606             0.000375                     0.000196        997  \n",
       "68              0.000373                     0.000196        998  \n",
       "649             0.000389                     0.000195        999  \n",
       "752             0.000380                     0.000193       1000  \n",
       "\n",
       "[1000 rows x 11 columns]"
      ]
     },
     "execution_count": 117,
     "metadata": {},
     "output_type": "execute_result"
    }
   ],
   "source": [
    "# Agrupa os registros por id_query e ordena cada grupo pelo score_reranking\n",
    "df_reranking = df_reranking_entrada.groupby('query', group_keys=False).apply(lambda x: x.sort_values(['score_inpars_30k_ds_msmarco'], ascending=[False]))\n",
    "df_reranking['reranking'] = df_reranking.groupby('query').cumcount() + 1\n",
    "df_reranking[df_reranking['query']==44]"
   ]
  },
  {
   "cell_type": "code",
   "execution_count": 118,
   "metadata": {},
   "outputs": [
    {
     "data": {
      "text/html": [
       "<div>\n",
       "<style scoped>\n",
       "    .dataframe tbody tr th:only-of-type {\n",
       "        vertical-align: middle;\n",
       "    }\n",
       "\n",
       "    .dataframe tbody tr th {\n",
       "        vertical-align: top;\n",
       "    }\n",
       "\n",
       "    .dataframe thead th {\n",
       "        text-align: right;\n",
       "    }\n",
       "</style>\n",
       "<table border=\"1\" class=\"dataframe\">\n",
       "  <thead>\n",
       "    <tr style=\"text-align: right;\">\n",
       "      <th></th>\n",
       "      <th>query</th>\n",
       "      <th>q0</th>\n",
       "      <th>docid</th>\n",
       "      <th>rank_estagio1</th>\n",
       "      <th>score_estagio1</th>\n",
       "      <th>query_text</th>\n",
       "      <th>doc_text</th>\n",
       "      <th>score_tinybert</th>\n",
       "      <th>score_inpars_10k_ds</th>\n",
       "      <th>score</th>\n",
       "      <th>rank</th>\n",
       "      <th>system</th>\n",
       "    </tr>\n",
       "  </thead>\n",
       "  <tbody>\n",
       "    <tr>\n",
       "      <th>18860</th>\n",
       "      <td>2</td>\n",
       "      <td>q0</td>\n",
       "      <td>scyhqy48</td>\n",
       "      <td>861</td>\n",
       "      <td>3.853300</td>\n",
       "      <td>how does the coronavirus respond to changes in...</td>\n",
       "      <td>Nationalizing a global phenomenon: A study of ...</td>\n",
       "      <td>-6.723236</td>\n",
       "      <td>0.000433</td>\n",
       "      <td>0.000199</td>\n",
       "      <td>996</td>\n",
       "      <td>inpars_10k_ds</td>\n",
       "    </tr>\n",
       "    <tr>\n",
       "      <th>18943</th>\n",
       "      <td>2</td>\n",
       "      <td>q0</td>\n",
       "      <td>rr249wro</td>\n",
       "      <td>944</td>\n",
       "      <td>3.798599</td>\n",
       "      <td>how does the coronavirus respond to changes in...</td>\n",
       "      <td>How do agribusinesses thrive through complexit...</td>\n",
       "      <td>-7.032740</td>\n",
       "      <td>0.000428</td>\n",
       "      <td>0.000199</td>\n",
       "      <td>997</td>\n",
       "      <td>inpars_10k_ds</td>\n",
       "    </tr>\n",
       "    <tr>\n",
       "      <th>18099</th>\n",
       "      <td>2</td>\n",
       "      <td>q0</td>\n",
       "      <td>6dvxmu8k</td>\n",
       "      <td>100</td>\n",
       "      <td>5.395300</td>\n",
       "      <td>how does the coronavirus respond to changes in...</td>\n",
       "      <td>Navigating crisis from the backseat? How top m...</td>\n",
       "      <td>-7.031188</td>\n",
       "      <td>0.000396</td>\n",
       "      <td>0.000198</td>\n",
       "      <td>998</td>\n",
       "      <td>inpars_10k_ds</td>\n",
       "    </tr>\n",
       "    <tr>\n",
       "      <th>18325</th>\n",
       "      <td>2</td>\n",
       "      <td>q0</td>\n",
       "      <td>r4q9zr9q</td>\n",
       "      <td>326</td>\n",
       "      <td>4.634800</td>\n",
       "      <td>how does the coronavirus respond to changes in...</td>\n",
       "      <td>Does relational mobility vary across national ...</td>\n",
       "      <td>-7.023912</td>\n",
       "      <td>0.000432</td>\n",
       "      <td>0.000198</td>\n",
       "      <td>999</td>\n",
       "      <td>inpars_10k_ds</td>\n",
       "    </tr>\n",
       "    <tr>\n",
       "      <th>18739</th>\n",
       "      <td>2</td>\n",
       "      <td>q0</td>\n",
       "      <td>gwjgngk7</td>\n",
       "      <td>740</td>\n",
       "      <td>3.978300</td>\n",
       "      <td>how does the coronavirus respond to changes in...</td>\n",
       "      <td>Higher tourism specialization, better hotel in...</td>\n",
       "      <td>-7.058733</td>\n",
       "      <td>0.000435</td>\n",
       "      <td>0.000197</td>\n",
       "      <td>1000</td>\n",
       "      <td>inpars_10k_ds</td>\n",
       "    </tr>\n",
       "    <tr>\n",
       "      <th>19079</th>\n",
       "      <td>3</td>\n",
       "      <td>q0</td>\n",
       "      <td>fj2rjmop</td>\n",
       "      <td>80</td>\n",
       "      <td>8.039200</td>\n",
       "      <td>will SARS-CoV2 infected people develop immunit...</td>\n",
       "      <td>Airway Memory CD4(+) T Cells Mediate Protectiv...</td>\n",
       "      <td>2.519732</td>\n",
       "      <td>0.999299</td>\n",
       "      <td>0.999683</td>\n",
       "      <td>1</td>\n",
       "      <td>inpars_10k_ds</td>\n",
       "    </tr>\n",
       "    <tr>\n",
       "      <th>19070</th>\n",
       "      <td>3</td>\n",
       "      <td>q0</td>\n",
       "      <td>rsz7ch2a</td>\n",
       "      <td>71</td>\n",
       "      <td>8.087899</td>\n",
       "      <td>will SARS-CoV2 infected people develop immunit...</td>\n",
       "      <td>Protective immunity after COVID-19 has been qu...</td>\n",
       "      <td>2.064329</td>\n",
       "      <td>0.999281</td>\n",
       "      <td>0.999660</td>\n",
       "      <td>2</td>\n",
       "      <td>inpars_10k_ds</td>\n",
       "    </tr>\n",
       "    <tr>\n",
       "      <th>19069</th>\n",
       "      <td>3</td>\n",
       "      <td>q0</td>\n",
       "      <td>rs79r7kc</td>\n",
       "      <td>70</td>\n",
       "      <td>8.087900</td>\n",
       "      <td>will SARS-CoV2 infected people develop immunit...</td>\n",
       "      <td>Protective immunity after COVID-19 has been qu...</td>\n",
       "      <td>2.297011</td>\n",
       "      <td>0.999249</td>\n",
       "      <td>0.999649</td>\n",
       "      <td>3</td>\n",
       "      <td>inpars_10k_ds</td>\n",
       "    </tr>\n",
       "    <tr>\n",
       "      <th>19010</th>\n",
       "      <td>3</td>\n",
       "      <td>q0</td>\n",
       "      <td>wfftfkam</td>\n",
       "      <td>11</td>\n",
       "      <td>9.550200</td>\n",
       "      <td>will SARS-CoV2 infected people develop immunit...</td>\n",
       "      <td>COVID‐19 is milder in children possibly due to...</td>\n",
       "      <td>3.224682</td>\n",
       "      <td>0.999212</td>\n",
       "      <td>0.999645</td>\n",
       "      <td>4</td>\n",
       "      <td>inpars_10k_ds</td>\n",
       "    </tr>\n",
       "    <tr>\n",
       "      <th>19077</th>\n",
       "      <td>3</td>\n",
       "      <td>q0</td>\n",
       "      <td>tveeq4fj</td>\n",
       "      <td>78</td>\n",
       "      <td>8.048100</td>\n",
       "      <td>will SARS-CoV2 infected people develop immunit...</td>\n",
       "      <td>SARS-CoV-2 Antibody Testing – Questions to be ...</td>\n",
       "      <td>2.159944</td>\n",
       "      <td>0.999316</td>\n",
       "      <td>0.999641</td>\n",
       "      <td>5</td>\n",
       "      <td>inpars_10k_ds</td>\n",
       "    </tr>\n",
       "  </tbody>\n",
       "</table>\n",
       "</div>"
      ],
      "text/plain": [
       "       query  q0     docid  rank_estagio1  score_estagio1   \n",
       "18860      2  q0  scyhqy48            861        3.853300  \\\n",
       "18943      2  q0  rr249wro            944        3.798599   \n",
       "18099      2  q0  6dvxmu8k            100        5.395300   \n",
       "18325      2  q0  r4q9zr9q            326        4.634800   \n",
       "18739      2  q0  gwjgngk7            740        3.978300   \n",
       "19079      3  q0  fj2rjmop             80        8.039200   \n",
       "19070      3  q0  rsz7ch2a             71        8.087899   \n",
       "19069      3  q0  rs79r7kc             70        8.087900   \n",
       "19010      3  q0  wfftfkam             11        9.550200   \n",
       "19077      3  q0  tveeq4fj             78        8.048100   \n",
       "\n",
       "                                              query_text   \n",
       "18860  how does the coronavirus respond to changes in...  \\\n",
       "18943  how does the coronavirus respond to changes in...   \n",
       "18099  how does the coronavirus respond to changes in...   \n",
       "18325  how does the coronavirus respond to changes in...   \n",
       "18739  how does the coronavirus respond to changes in...   \n",
       "19079  will SARS-CoV2 infected people develop immunit...   \n",
       "19070  will SARS-CoV2 infected people develop immunit...   \n",
       "19069  will SARS-CoV2 infected people develop immunit...   \n",
       "19010  will SARS-CoV2 infected people develop immunit...   \n",
       "19077  will SARS-CoV2 infected people develop immunit...   \n",
       "\n",
       "                                                doc_text  score_tinybert   \n",
       "18860  Nationalizing a global phenomenon: A study of ...       -6.723236  \\\n",
       "18943  How do agribusinesses thrive through complexit...       -7.032740   \n",
       "18099  Navigating crisis from the backseat? How top m...       -7.031188   \n",
       "18325  Does relational mobility vary across national ...       -7.023912   \n",
       "18739  Higher tourism specialization, better hotel in...       -7.058733   \n",
       "19079  Airway Memory CD4(+) T Cells Mediate Protectiv...        2.519732   \n",
       "19070  Protective immunity after COVID-19 has been qu...        2.064329   \n",
       "19069  Protective immunity after COVID-19 has been qu...        2.297011   \n",
       "19010  COVID‐19 is milder in children possibly due to...        3.224682   \n",
       "19077  SARS-CoV-2 Antibody Testing – Questions to be ...        2.159944   \n",
       "\n",
       "       score_inpars_10k_ds     score  rank         system  \n",
       "18860             0.000433  0.000199   996  inpars_10k_ds  \n",
       "18943             0.000428  0.000199   997  inpars_10k_ds  \n",
       "18099             0.000396  0.000198   998  inpars_10k_ds  \n",
       "18325             0.000432  0.000198   999  inpars_10k_ds  \n",
       "18739             0.000435  0.000197  1000  inpars_10k_ds  \n",
       "19079             0.999299  0.999683     1  inpars_10k_ds  \n",
       "19070             0.999281  0.999660     2  inpars_10k_ds  \n",
       "19069             0.999249  0.999649     3  inpars_10k_ds  \n",
       "19010             0.999212  0.999645     4  inpars_10k_ds  \n",
       "19077             0.999316  0.999641     5  inpars_10k_ds  "
      ]
     },
     "execution_count": 118,
     "metadata": {},
     "output_type": "execute_result"
    }
   ],
   "source": [
    "### Avaliação\n",
    "df_reranking.rename(columns={'reranking': 'rank', 'score_inpars_30k_ds_msmarco':'score'}, inplace=True)\n",
    "df_reranking['q0'] = 'q0'\n",
    "df_reranking['system'] = 'inpars_10k_ds'\n",
    "df_reranking.iloc[1995:2005]\n"
   ]
  },
  {
   "cell_type": "code",
   "execution_count": 119,
   "metadata": {},
   "outputs": [
    {
     "name": "stdout",
     "output_type": "stream",
     "text": [
      "1 q0 75773gwg 1 0.9997263550758362 inpars_10k_ds\n"
     ]
    }
   ],
   "source": [
    "run_reranking = df_reranking[['query','q0', 'docid', 'rank', 'score', 'system' ]].to_dict(orient=\"list\")\n",
    "print(run_reranking['query'][0], run_reranking['q0'][0], run_reranking['docid'][0], run_reranking['rank'][0], run_reranking['score'][0], run_reranking['system'][0])"
   ]
  },
  {
   "cell_type": "code",
   "execution_count": 120,
   "metadata": {},
   "outputs": [
    {
     "name": "stdout",
     "output_type": "stream",
     "text": [
      "NDCG@10: 0.6651627422302494\n",
      "Resultados: {'runid': 'inpars_10k_ds', 'num_ret': 50000, 'num_rel': 24673, 'num_rel_ret': 9804, 'num_q': 50, 'map': 0.20821866179911475, 'gm_map': 0.15504483375949404, 'bpref': 0.35113833496340746, 'Rprec': 0.30843550267935976, 'recip_rank': 0.8916666666666667, 'P@5': 0.7519999999999999, 'P@10': 0.7119999999999999, 'P@15': 0.6786666666666664, 'P@20': 0.6719999999999999, 'P@30': 0.6426666666666666, 'P@100': 0.5106, 'P@200': 0.43239999999999995, 'P@500': 0.29784, 'P@1000': 0.19608, 'NDCG@5': 0.6978339662075492, 'NDCG@10': 0.6651627422302494, 'NDCG@15': 0.637357137269824, 'NDCG@20': 0.6270832528110168, 'NDCG@30': 0.5982809792381538, 'NDCG@100': 0.484127645256124, 'NDCG@200': 0.4253028959323632, 'NDCG@500': 0.3901019197260762, 'NDCG@1000': 0.42552912900145645}\n"
     ]
    }
   ],
   "source": [
    "results = trec_eval.compute(predictions=[run_reranking], references=[qrel_dict])\n",
    "# salvando métricas    \n",
    "print(f\"NDCG@10: {results['NDCG@10']}\")\n",
    "print(f\"Resultados: {results}\")\n"
   ]
  },
  {
   "cell_type": "code",
   "execution_count": 121,
   "metadata": {},
   "outputs": [],
   "source": [
    "lista_resultados.append(\n",
    "{'retriever': 'inpars_30k_ds_msmarco',\n",
    " 'details': 'minilm finetuned by InPars; 30k + dataset class + msmarco',\n",
    " \"ndcg\":round(100*results['NDCG@10'],2)})\n"
   ]
  },
  {
   "attachments": {},
   "cell_type": "markdown",
   "metadata": {},
   "source": [
    "## Modelo minilm com finetune no InPars formado por dataset dos colegas, 30k próprios (v2) - sem corte de exemplos negativos - Uma época"
   ]
  },
  {
   "cell_type": "code",
   "execution_count": 184,
   "metadata": {},
   "outputs": [
    {
     "name": "stdout",
     "output_type": "stream",
     "text": [
      "Calculando ndg@10 para reranking com modelo treinado em 8 épocas\n"
     ]
    },
    {
     "name": "stderr",
     "output_type": "stream",
     "text": [
      "dataset_reranking: 100%|██████████| 12500/12500 [03:25<00:00, 60.91it/s]\n"
     ]
    },
    {
     "name": "stdout",
     "output_type": "stream",
     "text": [
      "1 q0 3ll2tlzr 1 0.9991596937179565 _inpars_30k_ds_sem_corte_epoca_8\n",
      "NDCG@10: 0.6944561957287716\n",
      "Resultados: {'runid': '_inpars_30k_ds_sem_corte_epoca_8', 'num_ret': 50000, 'num_rel': 24673, 'num_rel_ret': 9804, 'num_q': 50, 'map': 0.21431159946168138, 'gm_map': 0.1624670619091805, 'bpref': 0.3524477413041672, 'Rprec': 0.3114665582962634, 'recip_rank': 0.905, 'P@5': 0.7559999999999999, 'P@10': 0.748, 'P@15': 0.716, 'P@20': 0.693, 'P@30': 0.6553333333333333, 'P@100': 0.521, 'P@200': 0.4342000000000001, 'P@500': 0.30256000000000005, 'P@1000': 0.19608, 'NDCG@5': 0.7085770412201751, 'NDCG@10': 0.6944561957287716, 'NDCG@15': 0.6651300992752145, 'NDCG@20': 0.6446412778080908, 'NDCG@30': 0.615178889677525, 'NDCG@100': 0.4969418488317055, 'NDCG@200': 0.43125983592313744, 'NDCG@500': 0.3991793831436242, 'NDCG@1000': 0.43018910374716773}\n",
      "Calculando ndg@10 para reranking com modelo treinado em 9 épocas\n"
     ]
    },
    {
     "name": "stderr",
     "output_type": "stream",
     "text": [
      "dataset_reranking: 100%|██████████| 12500/12500 [03:28<00:00, 60.02it/s]\n"
     ]
    },
    {
     "name": "stdout",
     "output_type": "stream",
     "text": [
      "1 q0 3ll2tlzr 1 0.9992803931236267 _inpars_30k_ds_sem_corte_epoca_9\n",
      "NDCG@10: 0.6735298218681867\n",
      "Resultados: {'runid': '_inpars_30k_ds_sem_corte_epoca_9', 'num_ret': 50000, 'num_rel': 24673, 'num_rel_ret': 9804, 'num_q': 50, 'map': 0.21256666912025554, 'gm_map': 0.16000944571807127, 'bpref': 0.3526293038728256, 'Rprec': 0.31313166078796895, 'recip_rank': 0.894, 'P@5': 0.7519999999999999, 'P@10': 0.73, 'P@15': 0.7133333333333333, 'P@20': 0.688, 'P@30': 0.6406666666666667, 'P@100': 0.5181999999999999, 'P@200': 0.43270000000000003, 'P@500': 0.30236, 'P@1000': 0.19608, 'NDCG@5': 0.687793698031933, 'NDCG@10': 0.6735298218681867, 'NDCG@15': 0.6563134287145707, 'NDCG@20': 0.6353136460023844, 'NDCG@30': 0.59598156055503, 'NDCG@100': 0.49165653292341127, 'NDCG@200': 0.4279076846541293, 'NDCG@500': 0.3974829878681939, 'NDCG@1000': 0.42865403558652465}\n",
      "Calculando ndg@10 para reranking com modelo treinado em 10 épocas\n"
     ]
    },
    {
     "name": "stderr",
     "output_type": "stream",
     "text": [
      "dataset_reranking: 100%|██████████| 12500/12500 [03:28<00:00, 59.96it/s]\n"
     ]
    },
    {
     "name": "stdout",
     "output_type": "stream",
     "text": [
      "1 q0 3ll2tlzr 1 0.9995110034942627 _inpars_30k_ds_sem_corte_epoca_10\n",
      "NDCG@10: 0.696153000967894\n",
      "Resultados: {'runid': '_inpars_30k_ds_sem_corte_epoca_10', 'num_ret': 50000, 'num_rel': 24673, 'num_rel_ret': 9804, 'num_q': 50, 'map': 0.21596547539032596, 'gm_map': 0.1635853540825563, 'bpref': 0.35253324070828407, 'Rprec': 0.3125214319167481, 'recip_rank': 0.9083333333333333, 'P@5': 0.76, 'P@10': 0.7519999999999999, 'P@15': 0.7199999999999999, 'P@20': 0.693, 'P@30': 0.6613333333333334, 'P@100': 0.5261999999999999, 'P@200': 0.4388, 'P@500': 0.30328, 'P@1000': 0.19608, 'NDCG@5': 0.7110470890042095, 'NDCG@10': 0.696153000967894, 'NDCG@15': 0.6663076782177972, 'NDCG@20': 0.6453125135214742, 'NDCG@30': 0.6136762489374387, 'NDCG@100': 0.4998817333420209, 'NDCG@200': 0.4354364234210009, 'NDCG@500': 0.4004441126587431, 'NDCG@1000': 0.4307996819843814}\n",
      "Calculando ndg@10 para reranking com modelo treinado em 11 épocas\n"
     ]
    },
    {
     "name": "stderr",
     "output_type": "stream",
     "text": [
      "dataset_reranking: 100%|██████████| 12500/12500 [03:28<00:00, 59.82it/s]\n"
     ]
    },
    {
     "name": "stdout",
     "output_type": "stream",
     "text": [
      "1 q0 3ll2tlzr 1 0.9995655417442322 _inpars_30k_ds_sem_corte_epoca_11\n",
      "NDCG@10: 0.6762116584706368\n",
      "Resultados: {'runid': '_inpars_30k_ds_sem_corte_epoca_11', 'num_ret': 50000, 'num_rel': 24673, 'num_rel_ret': 9804, 'num_q': 50, 'map': 0.21273284024265354, 'gm_map': 0.1607709618409436, 'bpref': 0.3522559408869649, 'Rprec': 0.31204480509152105, 'recip_rank': 0.8956666666666666, 'P@5': 0.76, 'P@10': 0.7299999999999999, 'P@15': 0.7093333333333334, 'P@20': 0.6859999999999999, 'P@30': 0.6466666666666666, 'P@100': 0.521, 'P@200': 0.43450000000000005, 'P@500': 0.30400000000000005, 'P@1000': 0.19608, 'NDCG@5': 0.6966625836558067, 'NDCG@10': 0.6762116584706368, 'NDCG@15': 0.6552626047472504, 'NDCG@20': 0.6347495015018834, 'NDCG@30': 0.6007927316890779, 'NDCG@100': 0.4941602171234058, 'NDCG@200': 0.4299885905124936, 'NDCG@500': 0.39894209151864557, 'NDCG@1000': 0.429031306257948}\n",
      "Calculando ndg@10 para reranking com modelo treinado em 12 épocas\n"
     ]
    },
    {
     "name": "stderr",
     "output_type": "stream",
     "text": [
      "dataset_reranking: 100%|██████████| 12500/12500 [03:29<00:00, 59.70it/s]\n"
     ]
    },
    {
     "name": "stdout",
     "output_type": "stream",
     "text": [
      "1 q0 3ll2tlzr 1 0.9995282888412476 _inpars_30k_ds_sem_corte_epoca_12\n",
      "NDCG@10: 0.703917668910729\n",
      "Resultados: {'runid': '_inpars_30k_ds_sem_corte_epoca_12', 'num_ret': 50000, 'num_rel': 24673, 'num_rel_ret': 9804, 'num_q': 50, 'map': 0.21404679821143827, 'gm_map': 0.16216270788110054, 'bpref': 0.3516033088264324, 'Rprec': 0.3092758267020965, 'recip_rank': 0.9106666666666666, 'P@5': 0.7959999999999999, 'P@10': 0.7559999999999999, 'P@15': 0.7226666666666666, 'P@20': 0.7, 'P@30': 0.66, 'P@100': 0.5199999999999999, 'P@200': 0.4328000000000001, 'P@500': 0.30044, 'P@1000': 0.19608, 'NDCG@5': 0.7382481835855538, 'NDCG@10': 0.703917668910729, 'NDCG@15': 0.6760312159832556, 'NDCG@20': 0.6573059369462936, 'NDCG@30': 0.6206075462393944, 'NDCG@100': 0.49976805441289335, 'NDCG@200': 0.43166249481796226, 'NDCG@500': 0.3977774232516005, 'NDCG@1000': 0.43075330015823865}\n"
     ]
    }
   ],
   "source": [
    ",# código abaix,o foi executado à medida que o modelo foi salvo!,,\n",
    "for epoca in [8,9,10,11,12]:\n",
    "    print(f\"Calculando ndg@10 para reranking com modelo treinado em {epoca} épocas\")\n",
    "    path_modelo = f'{DIRETORIO_TREINO}/model_fim_treino_epoca_{epoca}.pt'\n",
    "    model = AutoModelForSequenceClassification.from_pretrained(path_modelo).to(device)\n",
    "    sufixo = f'_inpars_30k_ds_sem_corte_epoca_{epoca}'\n",
    "    prob_relevancia = calcula_relevancia_minilm(model,dataloader_reranking)\n",
    "    df_reranking_entrada[f'score{sufixo}'] = prob_relevancia\n",
    "\n",
    "    # Agrupa os registros por id_query e ordena cada grupo pelo score_reranking\n",
    "    df_reranking = df_reranking_entrada.groupby('query', group_keys=False).apply(lambda x: x.sort_values([f'score{sufixo}'], ascending=[False]))\n",
    "    df_reranking['reranking'] = df_reranking.groupby('query').cumcount() + 1\n",
    "\n",
    "    ### Avaliação\n",
    "    df_reranking.rename(columns={'reranking': 'rank', f'score{sufixo}':'score'}, inplace=True)\n",
    "    df_reranking['q0'] = 'q0'\n",
    "    df_reranking['system'] = sufixo\n",
    "\n",
    "    run_reranking = df_reranking[['query','q0', 'docid', 'rank', 'score', 'system' ]].to_dict(orient=\"list\")\n",
    "    print(run_reranking['query'][0], run_reranking['q0'][0], run_reranking['docid'][0], run_reranking['rank'][0], run_reranking['score'][0], run_reranking['system'][0])\n",
    "    results = trec_eval.compute(predictions=[run_reranking], references=[qrel_dict])\n",
    "\n",
    "    # salvando métricas    \n",
    "    print(f\"NDCG@10: {results['NDCG@10']}\")\n",
    "    print(f\"Resultados: {results}\")\n",
    "\n",
    "    lista_resultados.append(\n",
    "    {'retriever': f'{sufixo[1:]}',\n",
    "    'details': f'minilm finetuned {sufixo[1:]}',\n",
    "    \"ndcg\":round(100*results['NDCG@10'],2)})\n"
   ]
  },
  {
   "cell_type": "code",
   "execution_count": 185,
   "metadata": {},
   "outputs": [
    {
     "data": {
      "text/plain": [
       "[{'retriever': 'bm25', 'details': 'k1=0.9, b=0.4', 'ndcg': 59.47},\n",
       " {'retriever': 'bm25', 'details': 'k1=1.12, b=0.4', 'ndcg': 61.88},\n",
       " {'retriever': 'reranking_tinybert',\n",
       "  'details': 'ms-marco-TinyBERT-L-2; pretreinado no msmarco',\n",
       "  'ndcg': 53.68},\n",
       " {'retriever': 'inpars_10k_ds',\n",
       "  'details': 'minilm finetuned by InPars; 10k + dataset class',\n",
       "  'ndcg': 62.1},\n",
       " {'retriever': 'inpars_30k_ds_msmarco',\n",
       "  'details': 'minilm finetuned by InPars; 30k + dataset class + msmarco',\n",
       "  'ndcg': 66.52},\n",
       " {'retriever': 'inpars_30k_ds_sem_corte_epoca_0',\n",
       "  'details': 'minilm finetuned inpars_30k_ds_sem_corte_epoca_1',\n",
       "  'ndcg': 28.29},\n",
       " {'retriever': 'inpars_30k_ds_sem_corte_epoca_1',\n",
       "  'details': 'minilm finetuned inpars_30k_ds_sem_corte_epoca_1',\n",
       "  'ndcg': 31.34},\n",
       " {'retriever': 'inpars_30k_ds_sem_corte_epoca_2',\n",
       "  'details': 'minilm finetuned inpars_30k_ds_sem_corte_epoca_2',\n",
       "  'ndcg': 32.45},\n",
       " {'retriever': 'inpars_30k_ds_sem_corte_epoca_3',\n",
       "  'details': 'minilm finetuned inpars_30k_ds_sem_corte_epoca_3',\n",
       "  'ndcg': 32.91},\n",
       " {'retriever': 'inpars_30k_ds_sem_corte_epoca_4',\n",
       "  'details': 'minilm finetuned inpars_30k_ds_sem_corte_epoca_4',\n",
       "  'ndcg': 59.51},\n",
       " {'retriever': 'inpars_30k_ds_sem_corte_epoca_5',\n",
       "  'details': 'minilm finetuned inpars_30k_ds_sem_corte_epoca_5',\n",
       "  'ndcg': 64.92},\n",
       " {'retriever': 'inpars_30k_ds_sem_corte_epoca_6',\n",
       "  'details': 'minilm finetuned inpars_30k_ds_sem_corte_epoca_6',\n",
       "  'ndcg': 66.66},\n",
       " {'retriever': 'inpars_30k_ds_sem_corte_epoca_7',\n",
       "  'details': 'minilm finetuned inpars_30k_ds_sem_corte_epoca_7',\n",
       "  'ndcg': 67.64},\n",
       " {'retriever': 'inpars_30k_ds_sem_corte_epoca_8',\n",
       "  'details': 'minilm finetuned inpars_30k_ds_sem_corte_epoca_8',\n",
       "  'ndcg': 69.45},\n",
       " {'retriever': 'inpars_30k_ds_sem_corte_epoca_9',\n",
       "  'details': 'minilm finetuned inpars_30k_ds_sem_corte_epoca_9',\n",
       "  'ndcg': 67.35},\n",
       " {'retriever': 'inpars_30k_ds_sem_corte_epoca_10',\n",
       "  'details': 'minilm finetuned inpars_30k_ds_sem_corte_epoca_10',\n",
       "  'ndcg': 69.62},\n",
       " {'retriever': 'inpars_30k_ds_sem_corte_epoca_11',\n",
       "  'details': 'minilm finetuned inpars_30k_ds_sem_corte_epoca_11',\n",
       "  'ndcg': 67.62},\n",
       " {'retriever': 'inpars_30k_ds_sem_corte_epoca_12',\n",
       "  'details': 'minilm finetuned inpars_30k_ds_sem_corte_epoca_12',\n",
       "  'ndcg': 70.39}]"
      ]
     },
     "execution_count": 185,
     "metadata": {},
     "output_type": "execute_result"
    }
   ],
   "source": [
    "lista_resultados"
   ]
  },
  {
   "cell_type": "code",
   "execution_count": 138,
   "metadata": {},
   "outputs": [],
   "source": [
    "import seaborn as sns\n",
    "import matplotlib.pyplot as plt\n"
   ]
  },
  {
   "cell_type": "code",
   "execution_count": 223,
   "metadata": {},
   "outputs": [
    {
     "data": {
      "image/png": "[encoded data removed]",
      "text/plain": [
       "<Figure size 1500x1000 with 1 Axes>"
      ]
     },
     "metadata": {},
     "output_type": "display_data"
    }
   ],
   "source": [
    "\n",
    "# Transforma a lista em um DataFrame\n",
    "df = pd.DataFrame(lista_resultados)\n",
    "\n",
    "# Ordena os valores de acordo com o ndcg\n",
    "df = df.sort_values(by='ndcg', ascending=True)\n",
    "\n",
    "# Plota o gráfico de barras\n",
    "fig, ax = plt.subplots(figsize=(15, 10))\n",
    "ax = df.plot(kind='bar', x='retriever', y='ndcg', rot=0, ax=ax)\n",
    "\n",
    "# Adiciona os valores de ndcg acima das barras\n",
    "for p in ax.patches:\n",
    "    ax.annotate(f\"{p.get_height():.2f}\", (p.get_x() + p.get_width() / 2., p.get_height()),\n",
    "                ha='center', va='center', fontsize=11, color='gray', xytext=(0, 8),\n",
    "                textcoords='offset points')\n",
    "# Configura os eixos e título do gráfico\n",
    "ax.set_xticklabels(df['retriever'],rotation=90)\n",
    "ax.set_title(f'Comparativo Splade ndcg@10')\n",
    "ax.set_ylabel('ndcg@10')\n",
    "ax.legend().set_visible(False)\n",
    "plt.show()\n"
   ]
  },
  {
   "cell_type": "code",
   "execution_count": 141,
   "metadata": {},
   "outputs": [
    {
     "data": {
      "text/plain": [
       "Index(['query', 'q0', 'docid', 'rank_estagio1', 'score_estagio1', 'query_text',\n",
       "       'doc_text', 'score_tinybert', 'score_inpars_10k_ds',\n",
       "       'score_inpars_30k_ds_msmarco', 'score_inpars_30k_ds_sem_corte_epoca_1'],\n",
       "      dtype='object')"
      ]
     },
     "execution_count": 141,
     "metadata": {},
     "output_type": "execute_result"
    }
   ],
   "source": [
    "df_reranking_entrada.columns"
   ]
  },
  {
   "cell_type": "code",
   "execution_count": null,
   "metadata": {},
   "outputs": [],
   "source": []
  },
  {
   "cell_type": "code",
   "execution_count": 143,
   "metadata": {},
   "outputs": [],
   "source": [
    "# Seleciona as colunas do dataframe original\n",
    "cols = ['query', 'q0', 'docid', 'rank_estagio1', 'score_estagio1', 'query_text', 'doc_text']\n",
    "\n",
    "# Cria uma lista para armazenar as linhas do novo dataframe\n",
    "new_rows = []\n",
    "\n",
    "# Itera sobre as linhas do dataframe original\n",
    "for idx, row in df_reranking.iterrows():\n",
    "    # Itera sobre as colunas que começam com \"score_\"\n",
    "    for col in df_reranking.filter(regex='^score_'):\n",
    "        # Obtém o nome do retriever a partir do nome da coluna\n",
    "        retriever = col.replace('score_', '')\n",
    "        # Cria uma nova linha com as informações da linha original e as colunas \"score\" e \"retriever\"\n",
    "        new_row = row[cols].to_dict()\n",
    "        new_row['score'] = row[col]\n",
    "        new_row['retriever'] = retriever\n",
    "        # Adiciona a nova linha à lista\n",
    "        new_rows.append(new_row)\n",
    "\n",
    "# Cria um novo dataframe com as linhas da lista\n",
    "df_new = pd.DataFrame(new_rows)\n"
   ]
  },
  {
   "cell_type": "code",
   "execution_count": 144,
   "metadata": {},
   "outputs": [
    {
     "data": {
      "text/plain": [
       "(200000, 9)"
      ]
     },
     "execution_count": 144,
     "metadata": {},
     "output_type": "execute_result"
    }
   ],
   "source": [
    "df_new.shape"
   ]
  },
  {
   "cell_type": "code",
   "execution_count": 145,
   "metadata": {},
   "outputs": [],
   "source": [
    "\n",
    "# Reordena as colunas do novo dataframe\n",
    "df_new = df_new[['query', 'q0', 'docid', 'rank_estagio1', 'score_estagio1', 'query_text', 'doc_text', 'score', 'retriever']]\n",
    "\n"
   ]
  },
  {
   "cell_type": "code",
   "execution_count": 146,
   "metadata": {},
   "outputs": [
    {
     "data": {
      "text/plain": [
       "(200000, 9)"
      ]
     },
     "execution_count": 146,
     "metadata": {},
     "output_type": "execute_result"
    }
   ],
   "source": [
    "df_new.shape"
   ]
  },
  {
   "cell_type": "code",
   "execution_count": 147,
   "metadata": {},
   "outputs": [
    {
     "data": {
      "text/html": [
       "<div>\n",
       "<style scoped>\n",
       "    .dataframe tbody tr th:only-of-type {\n",
       "        vertical-align: middle;\n",
       "    }\n",
       "\n",
       "    .dataframe tbody tr th {\n",
       "        vertical-align: top;\n",
       "    }\n",
       "\n",
       "    .dataframe thead th {\n",
       "        text-align: right;\n",
       "    }\n",
       "</style>\n",
       "<table border=\"1\" class=\"dataframe\">\n",
       "  <thead>\n",
       "    <tr style=\"text-align: right;\">\n",
       "      <th></th>\n",
       "      <th>query</th>\n",
       "      <th>q0</th>\n",
       "      <th>docid</th>\n",
       "      <th>rank_estagio1</th>\n",
       "      <th>score_estagio1</th>\n",
       "      <th>query_text</th>\n",
       "      <th>doc_text</th>\n",
       "      <th>score</th>\n",
       "      <th>retriever</th>\n",
       "    </tr>\n",
       "  </thead>\n",
       "  <tbody>\n",
       "    <tr>\n",
       "      <th>0</th>\n",
       "      <td>1</td>\n",
       "      <td>q0</td>\n",
       "      <td>jeuwaj50</td>\n",
       "      <td>226</td>\n",
       "      <td>3.895198</td>\n",
       "      <td>what is the origin of COVID-19</td>\n",
       "      <td>COVID-19—What we know and what we need to know...</td>\n",
       "      <td>3.895198</td>\n",
       "      <td>estagio1</td>\n",
       "    </tr>\n",
       "    <tr>\n",
       "      <th>1</th>\n",
       "      <td>1</td>\n",
       "      <td>q0</td>\n",
       "      <td>jeuwaj50</td>\n",
       "      <td>226</td>\n",
       "      <td>3.895198</td>\n",
       "      <td>what is the origin of COVID-19</td>\n",
       "      <td>COVID-19—What we know and what we need to know...</td>\n",
       "      <td>0.183529</td>\n",
       "      <td>tinybert</td>\n",
       "    </tr>\n",
       "    <tr>\n",
       "      <th>2</th>\n",
       "      <td>1</td>\n",
       "      <td>q0</td>\n",
       "      <td>jeuwaj50</td>\n",
       "      <td>226</td>\n",
       "      <td>3.895198</td>\n",
       "      <td>what is the origin of COVID-19</td>\n",
       "      <td>COVID-19—What we know and what we need to know...</td>\n",
       "      <td>0.999184</td>\n",
       "      <td>inpars_10k_ds</td>\n",
       "    </tr>\n",
       "    <tr>\n",
       "      <th>3</th>\n",
       "      <td>1</td>\n",
       "      <td>q0</td>\n",
       "      <td>jeuwaj50</td>\n",
       "      <td>226</td>\n",
       "      <td>3.895198</td>\n",
       "      <td>what is the origin of COVID-19</td>\n",
       "      <td>COVID-19—What we know and what we need to know...</td>\n",
       "      <td>0.998415</td>\n",
       "      <td>inpars_30k_ds_msmarco</td>\n",
       "    </tr>\n",
       "    <tr>\n",
       "      <th>4</th>\n",
       "      <td>1</td>\n",
       "      <td>q0</td>\n",
       "      <td>9puijlym</td>\n",
       "      <td>874</td>\n",
       "      <td>3.389897</td>\n",
       "      <td>what is the origin of COVID-19</td>\n",
       "      <td>What is the role of rheumatologists in the era...</td>\n",
       "      <td>3.389897</td>\n",
       "      <td>estagio1</td>\n",
       "    </tr>\n",
       "  </tbody>\n",
       "</table>\n",
       "</div>"
      ],
      "text/plain": [
       "   query  q0     docid  rank_estagio1  score_estagio1   \n",
       "0      1  q0  jeuwaj50            226        3.895198  \\\n",
       "1      1  q0  jeuwaj50            226        3.895198   \n",
       "2      1  q0  jeuwaj50            226        3.895198   \n",
       "3      1  q0  jeuwaj50            226        3.895198   \n",
       "4      1  q0  9puijlym            874        3.389897   \n",
       "\n",
       "                       query_text   \n",
       "0  what is the origin of COVID-19  \\\n",
       "1  what is the origin of COVID-19   \n",
       "2  what is the origin of COVID-19   \n",
       "3  what is the origin of COVID-19   \n",
       "4  what is the origin of COVID-19   \n",
       "\n",
       "                                            doc_text     score   \n",
       "0  COVID-19—What we know and what we need to know...  3.895198  \\\n",
       "1  COVID-19—What we know and what we need to know...  0.183529   \n",
       "2  COVID-19—What we know and what we need to know...  0.999184   \n",
       "3  COVID-19—What we know and what we need to know...  0.998415   \n",
       "4  What is the role of rheumatologists in the era...  3.389897   \n",
       "\n",
       "               retriever  \n",
       "0               estagio1  \n",
       "1               tinybert  \n",
       "2          inpars_10k_ds  \n",
       "3  inpars_30k_ds_msmarco  \n",
       "4               estagio1  "
      ]
     },
     "execution_count": 147,
     "metadata": {},
     "output_type": "execute_result"
    }
   ],
   "source": [
    "df_new.head()"
   ]
  },
  {
   "cell_type": "code",
   "execution_count": 201,
   "metadata": {},
   "outputs": [
    {
     "data": {
      "image/png": "[encoded data removed]",
      "text/plain": [
       "<Figure size 858.875x600 with 1 Axes>"
      ]
     },
     "metadata": {},
     "output_type": "display_data"
    }
   ],
   "source": [
    "g = sns.catplot(x=\"retriever\", sharex=True, y=\"score\", hue='query',\n",
    "                kind=\"box\", data=df_new[df_new['query']<=5], height=6, aspect=20/15) # row=\"CLASSE\", \n",
    "g.fig.suptitle('Faixa de valores dos scores de cada retriever')\n",
    "g.set_xticklabels(rotation=90)\n",
    "g.set_axis_labels(\"\", 'score_relevance')\n",
    "#g.fig.legend(loc='lower center', bbox_to_anchor=(0.5, -0.15), ncol=3)\n",
    "plt.tight_layout()\n",
    "plt.show()\n"
   ]
  },
  {
   "cell_type": "code",
   "execution_count": 155,
   "metadata": {},
   "outputs": [],
   "source": [
    "from sklearn.preprocessing import MinMaxScaler"
   ]
  },
  {
   "cell_type": "code",
   "execution_count": 156,
   "metadata": {},
   "outputs": [],
   "source": [
    "df_reranking_norm = df_reranking.copy()"
   ]
  },
  {
   "cell_type": "code",
   "execution_count": 165,
   "metadata": {},
   "outputs": [],
   "source": [
    "df_reranking = df_reranking_norm.copy()"
   ]
  },
  {
   "cell_type": "code",
   "execution_count": 166,
   "metadata": {},
   "outputs": [],
   "source": [
    "# Selecionar as colunas que começam com \"score_\"\n",
    "score_cols = [col for col in df_reranking.columns if col.startswith('score_')]\n",
    "\n",
    "# Normalizar as colunas selecionadas\n",
    "scaler = MinMaxScaler()\n",
    "df_reranking_norm[score_cols] = scaler.fit_transform(df_reranking[score_cols])\n"
   ]
  },
  {
   "cell_type": "code",
   "execution_count": 167,
   "metadata": {},
   "outputs": [],
   "source": [
    "# Seleciona as colunas do dataframe original\n",
    "cols = ['query', 'q0', 'docid', 'rank_estagio1', 'score_estagio1', 'query_text', 'doc_text']\n",
    "\n",
    "# Cria uma lista para armazenar as linhas do novo dataframe\n",
    "new_rows = []\n",
    "\n",
    "# Itera sobre as linhas do dataframe original\n",
    "for idx, row in df_reranking_norm.iterrows():\n",
    "    # Itera sobre as colunas que começam com \"score_\"\n",
    "    for col in df_reranking_norm.filter(regex='^score_'):\n",
    "        # Obtém o nome do retriever a partir do nome da coluna\n",
    "        retriever = col.replace('score_', '')\n",
    "        # Cria uma nova linha com as informações da linha original e as colunas \"score\" e \"retriever\"\n",
    "        new_row = row[cols].to_dict()\n",
    "        new_row['score'] = row[col]\n",
    "        new_row['retriever'] = retriever\n",
    "        # Adiciona a nova linha à lista\n",
    "        new_rows.append(new_row)\n",
    "\n",
    "# Cria um novo dataframe com as linhas da lista\n",
    "df_new_norm = pd.DataFrame(new_rows)\n"
   ]
  },
  {
   "cell_type": "code",
   "execution_count": 168,
   "metadata": {},
   "outputs": [
    {
     "data": {
      "image/png": "[encoded data removed]",
      "text/plain": [
       "<Figure size 1625.96x1000 with 1 Axes>"
      ]
     },
     "metadata": {},
     "output_type": "display_data"
    }
   ],
   "source": [
    "g = sns.catplot(x=\"query\", sharex=True, y=\"score\", hue='retriever',\n",
    "                kind=\"box\", data=df_new_norm[df_new_norm['query']<=5], height=10, aspect=20/15) # row=\"CLASSE\", \n",
    "g.fig.suptitle('TIPO_BASE x CLASSE - Visão CRITERIO')\n",
    "g.set_xticklabels(rotation=90)\n",
    "g.set_axis_labels(\"\", 'teste')\n",
    "plt.tight_layout()\n",
    "plt.show()"
   ]
  },
  {
   "cell_type": "code",
   "execution_count": null,
   "metadata": {},
   "outputs": [],
   "source": []
  },
  {
   "attachments": {},
   "cell_type": "markdown",
   "metadata": {},
   "source": [
    "Testar sem shift no exemplo negativo e para épocas 1, 2 e 3"
   ]
  },
  {
   "cell_type": "code",
   "execution_count": null,
   "metadata": {},
   "outputs": [],
   "source": [
    "df_reranking_entrada.to_csv(f\"{DIRETORIO_TRABALHO}/df_reranking.csv\")"
   ]
  },
  {
   "cell_type": "code",
   "execution_count": null,
   "metadata": {},
   "outputs": [],
   "source": [
    "with open(PATH_LISTA_RESULTADO, 'wb') as outputFile:\n",
    "    pickle.dump(lista_resultados, outputFile, pickle.HIGHEST_PROTOCOL)"
   ]
  },
  {
   "cell_type": "code",
   "execution_count": null,
   "metadata": {},
   "outputs": [],
   "source": [
    "with open(PATH_LISTA_RESULTADO, 'rb') as f:\n",
    "    lista_resultados = pickle.load(f)"
   ]
  }
 ],
 "metadata": {
  "kernelspec": {
   "display_name": "treinapython39",
   "language": "python",
   "name": "python3"
  },
  "language_info": {
   "codemirror_mode": {
    "name": "ipython",
    "version": 3
   },
   "file_extension": ".py",
   "mimetype": "text/x-python",
   "name": "python",
   "nbconvert_exporter": "python",
   "pygments_lexer": "ipython3",
   "version": "3.9.16"
  },
  "orig_nbformat": 4,
  "vscode": {
   "interpreter": {
    "hash": "e431eb1d856c426fade2a694f8536bd46c4e9c4bd47cb4afd3fb4d2c61122b03"
   }
  }
 },
 "nbformat": 4,
 "nbformat_minor": 2
}
