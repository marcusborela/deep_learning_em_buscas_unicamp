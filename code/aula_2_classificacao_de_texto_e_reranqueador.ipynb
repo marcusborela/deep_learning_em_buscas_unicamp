{
  "nbformat": 4,
  "nbformat_minor": 0,
  "metadata": {
    "colab": {
      "provenance": [],
      "collapsed_sections": [
        "CcN_5-RDWeqV",
        "VQxzYKGgMqce",
        "_hs0ZWBmeOAi",
        "17AcNhe2C4tb",
        "SBFVkGXG6Pbp",
        "5JKNuPSsn2xO"
      ],
      "machine_shape": "hm"
    },
    "kernelspec": {
      "name": "python3",
      "display_name": "Python 3"
    },
    "widgets": {
      "application/vnd.jupyter.widget-state+json": {
        "5df526cb2bdf481480806fad6348b27f": {
          "model_module": "@jupyter-widgets/controls",
          "model_name": "HBoxModel",
          "model_module_version": "1.5.0",
          "state": {
            "_dom_classes": [],
            "_model_module": "@jupyter-widgets/controls",
            "_model_module_version": "1.5.0",
            "_model_name": "HBoxModel",
            "_view_count": null,
            "_view_module": "@jupyter-widgets/controls",
            "_view_module_version": "1.5.0",
            "_view_name": "HBoxView",
            "box_style": "",
            "children": [
              "IPY_MODEL_8064c16540404293b3e4968fd0229144",
              "IPY_MODEL_c784dea266464d228470c8f146e682bb",
              "IPY_MODEL_8bb8f80668da4e708d04fe9ef7a6b183"
            ],
            "layout": "IPY_MODEL_de1be7b088d84f879d48678f142aadb6"
          }
        },
        "8064c16540404293b3e4968fd0229144": {
          "model_module": "@jupyter-widgets/controls",
          "model_name": "HTMLModel",
          "model_module_version": "1.5.0",
          "state": {
            "_dom_classes": [],
            "_model_module": "@jupyter-widgets/controls",
            "_model_module_version": "1.5.0",
            "_model_name": "HTMLModel",
            "_view_count": null,
            "_view_module": "@jupyter-widgets/controls",
            "_view_module_version": "1.5.0",
            "_view_name": "HTMLView",
            "description": "",
            "description_tooltip": null,
            "layout": "IPY_MODEL_2550930351954fdb817bcc04796bd47d",
            "placeholder": "​",
            "style": "IPY_MODEL_2aeae0a72a0f4b6f9aa625691f9f2728",
            "value": "Test: 100%"
          }
        },
        "c784dea266464d228470c8f146e682bb": {
          "model_module": "@jupyter-widgets/controls",
          "model_name": "FloatProgressModel",
          "model_module_version": "1.5.0",
          "state": {
            "_dom_classes": [],
            "_model_module": "@jupyter-widgets/controls",
            "_model_module_version": "1.5.0",
            "_model_name": "FloatProgressModel",
            "_view_count": null,
            "_view_module": "@jupyter-widgets/controls",
            "_view_module_version": "1.5.0",
            "_view_name": "ProgressView",
            "bar_style": "success",
            "description": "",
            "description_tooltip": null,
            "layout": "IPY_MODEL_20361f3bf1f24cba9bacb573433ae203",
            "max": 32,
            "min": 0,
            "orientation": "horizontal",
            "style": "IPY_MODEL_6e268abe9b4d42cfae158a0debe4746f",
            "value": 32
          }
        },
        "8bb8f80668da4e708d04fe9ef7a6b183": {
          "model_module": "@jupyter-widgets/controls",
          "model_name": "HTMLModel",
          "model_module_version": "1.5.0",
          "state": {
            "_dom_classes": [],
            "_model_module": "@jupyter-widgets/controls",
            "_model_module_version": "1.5.0",
            "_model_name": "HTMLModel",
            "_view_count": null,
            "_view_module": "@jupyter-widgets/controls",
            "_view_module_version": "1.5.0",
            "_view_name": "HTMLView",
            "description": "",
            "description_tooltip": null,
            "layout": "IPY_MODEL_4ff9ad6df59c4f0dbf923324dd0e37ce",
            "placeholder": "​",
            "style": "IPY_MODEL_ae61115e87fc4dd786a4b713d1824a3c",
            "value": " 32/32 [00:06&lt;00:00,  4.60it/s]"
          }
        },
        "de1be7b088d84f879d48678f142aadb6": {
          "model_module": "@jupyter-widgets/base",
          "model_name": "LayoutModel",
          "model_module_version": "1.2.0",
          "state": {
            "_model_module": "@jupyter-widgets/base",
            "_model_module_version": "1.2.0",
            "_model_name": "LayoutModel",
            "_view_count": null,
            "_view_module": "@jupyter-widgets/base",
            "_view_module_version": "1.2.0",
            "_view_name": "LayoutView",
            "align_content": null,
            "align_items": null,
            "align_self": null,
            "border": null,
            "bottom": null,
            "display": null,
            "flex": null,
            "flex_flow": null,
            "grid_area": null,
            "grid_auto_columns": null,
            "grid_auto_flow": null,
            "grid_auto_rows": null,
            "grid_column": null,
            "grid_gap": null,
            "grid_row": null,
            "grid_template_areas": null,
            "grid_template_columns": null,
            "grid_template_rows": null,
            "height": null,
            "justify_content": null,
            "justify_items": null,
            "left": null,
            "margin": null,
            "max_height": null,
            "max_width": null,
            "min_height": null,
            "min_width": null,
            "object_fit": null,
            "object_position": null,
            "order": null,
            "overflow": null,
            "overflow_x": null,
            "overflow_y": null,
            "padding": null,
            "right": null,
            "top": null,
            "visibility": null,
            "width": null
          }
        },
        "2550930351954fdb817bcc04796bd47d": {
          "model_module": "@jupyter-widgets/base",
          "model_name": "LayoutModel",
          "model_module_version": "1.2.0",
          "state": {
            "_model_module": "@jupyter-widgets/base",
            "_model_module_version": "1.2.0",
            "_model_name": "LayoutModel",
            "_view_count": null,
            "_view_module": "@jupyter-widgets/base",
            "_view_module_version": "1.2.0",
            "_view_name": "LayoutView",
            "align_content": null,
            "align_items": null,
            "align_self": null,
            "border": null,
            "bottom": null,
            "display": null,
            "flex": null,
            "flex_flow": null,
            "grid_area": null,
            "grid_auto_columns": null,
            "grid_auto_flow": null,
            "grid_auto_rows": null,
            "grid_column": null,
            "grid_gap": null,
            "grid_row": null,
            "grid_template_areas": null,
            "grid_template_columns": null,
            "grid_template_rows": null,
            "height": null,
            "justify_content": null,
            "justify_items": null,
            "left": null,
            "margin": null,
            "max_height": null,
            "max_width": null,
            "min_height": null,
            "min_width": null,
            "object_fit": null,
            "object_position": null,
            "order": null,
            "overflow": null,
            "overflow_x": null,
            "overflow_y": null,
            "padding": null,
            "right": null,
            "top": null,
            "visibility": null,
            "width": null
          }
        },
        "2aeae0a72a0f4b6f9aa625691f9f2728": {
          "model_module": "@jupyter-widgets/controls",
          "model_name": "DescriptionStyleModel",
          "model_module_version": "1.5.0",
          "state": {
            "_model_module": "@jupyter-widgets/controls",
            "_model_module_version": "1.5.0",
            "_model_name": "DescriptionStyleModel",
            "_view_count": null,
            "_view_module": "@jupyter-widgets/base",
            "_view_module_version": "1.2.0",
            "_view_name": "StyleView",
            "description_width": ""
          }
        },
        "20361f3bf1f24cba9bacb573433ae203": {
          "model_module": "@jupyter-widgets/base",
          "model_name": "LayoutModel",
          "model_module_version": "1.2.0",
          "state": {
            "_model_module": "@jupyter-widgets/base",
            "_model_module_version": "1.2.0",
            "_model_name": "LayoutModel",
            "_view_count": null,
            "_view_module": "@jupyter-widgets/base",
            "_view_module_version": "1.2.0",
            "_view_name": "LayoutView",
            "align_content": null,
            "align_items": null,
            "align_self": null,
            "border": null,
            "bottom": null,
            "display": null,
            "flex": null,
            "flex_flow": null,
            "grid_area": null,
            "grid_auto_columns": null,
            "grid_auto_flow": null,
            "grid_auto_rows": null,
            "grid_column": null,
            "grid_gap": null,
            "grid_row": null,
            "grid_template_areas": null,
            "grid_template_columns": null,
            "grid_template_rows": null,
            "height": null,
            "justify_content": null,
            "justify_items": null,
            "left": null,
            "margin": null,
            "max_height": null,
            "max_width": null,
            "min_height": null,
            "min_width": null,
            "object_fit": null,
            "object_position": null,
            "order": null,
            "overflow": null,
            "overflow_x": null,
            "overflow_y": null,
            "padding": null,
            "right": null,
            "top": null,
            "visibility": null,
            "width": null
          }
        },
        "6e268abe9b4d42cfae158a0debe4746f": {
          "model_module": "@jupyter-widgets/controls",
          "model_name": "ProgressStyleModel",
          "model_module_version": "1.5.0",
          "state": {
            "_model_module": "@jupyter-widgets/controls",
            "_model_module_version": "1.5.0",
            "_model_name": "ProgressStyleModel",
            "_view_count": null,
            "_view_module": "@jupyter-widgets/base",
            "_view_module_version": "1.2.0",
            "_view_name": "StyleView",
            "bar_color": null,
            "description_width": ""
          }
        },
        "4ff9ad6df59c4f0dbf923324dd0e37ce": {
          "model_module": "@jupyter-widgets/base",
          "model_name": "LayoutModel",
          "model_module_version": "1.2.0",
          "state": {
            "_model_module": "@jupyter-widgets/base",
            "_model_module_version": "1.2.0",
            "_model_name": "LayoutModel",
            "_view_count": null,
            "_view_module": "@jupyter-widgets/base",
            "_view_module_version": "1.2.0",
            "_view_name": "LayoutView",
            "align_content": null,
            "align_items": null,
            "align_self": null,
            "border": null,
            "bottom": null,
            "display": null,
            "flex": null,
            "flex_flow": null,
            "grid_area": null,
            "grid_auto_columns": null,
            "grid_auto_flow": null,
            "grid_auto_rows": null,
            "grid_column": null,
            "grid_gap": null,
            "grid_row": null,
            "grid_template_areas": null,
            "grid_template_columns": null,
            "grid_template_rows": null,
            "height": null,
            "justify_content": null,
            "justify_items": null,
            "left": null,
            "margin": null,
            "max_height": null,
            "max_width": null,
            "min_height": null,
            "min_width": null,
            "object_fit": null,
            "object_position": null,
            "order": null,
            "overflow": null,
            "overflow_x": null,
            "overflow_y": null,
            "padding": null,
            "right": null,
            "top": null,
            "visibility": null,
            "width": null
          }
        },
        "ae61115e87fc4dd786a4b713d1824a3c": {
          "model_module": "@jupyter-widgets/controls",
          "model_name": "DescriptionStyleModel",
          "model_module_version": "1.5.0",
          "state": {
            "_model_module": "@jupyter-widgets/controls",
            "_model_module_version": "1.5.0",
            "_model_name": "DescriptionStyleModel",
            "_view_count": null,
            "_view_module": "@jupyter-widgets/base",
            "_view_module_version": "1.2.0",
            "_view_name": "StyleView",
            "description_width": ""
          }
        },
        "a8b5c7be4c95478a9607b5a7a4739765": {
          "model_module": "@jupyter-widgets/controls",
          "model_name": "HBoxModel",
          "model_module_version": "1.5.0",
          "state": {
            "_dom_classes": [],
            "_model_module": "@jupyter-widgets/controls",
            "_model_module_version": "1.5.0",
            "_model_name": "HBoxModel",
            "_view_count": null,
            "_view_module": "@jupyter-widgets/controls",
            "_view_module_version": "1.5.0",
            "_view_name": "HBoxView",
            "box_style": "",
            "children": [
              "IPY_MODEL_29b1910df1104e34ac00484e7e65272e",
              "IPY_MODEL_96e667cab3114886b9cbe071e9b7529d",
              "IPY_MODEL_64d8bd81751d4873a39996cd68c24cef"
            ],
            "layout": "IPY_MODEL_92e7c478191e4dc89fd73223e9532ba2"
          }
        },
        "29b1910df1104e34ac00484e7e65272e": {
          "model_module": "@jupyter-widgets/controls",
          "model_name": "HTMLModel",
          "model_module_version": "1.5.0",
          "state": {
            "_dom_classes": [],
            "_model_module": "@jupyter-widgets/controls",
            "_model_module_version": "1.5.0",
            "_model_name": "HTMLModel",
            "_view_count": null,
            "_view_module": "@jupyter-widgets/controls",
            "_view_module_version": "1.5.0",
            "_view_name": "HTMLView",
            "description": "",
            "description_tooltip": null,
            "layout": "IPY_MODEL_2fe662db1df54c848612cf5c367aeaf8",
            "placeholder": "​",
            "style": "IPY_MODEL_d0da6606d6ca48de970999a88ca20b43",
            "value": "Downloading: 100%"
          }
        },
        "96e667cab3114886b9cbe071e9b7529d": {
          "model_module": "@jupyter-widgets/controls",
          "model_name": "FloatProgressModel",
          "model_module_version": "1.5.0",
          "state": {
            "_dom_classes": [],
            "_model_module": "@jupyter-widgets/controls",
            "_model_module_version": "1.5.0",
            "_model_name": "FloatProgressModel",
            "_view_count": null,
            "_view_module": "@jupyter-widgets/controls",
            "_view_module_version": "1.5.0",
            "_view_name": "ProgressView",
            "bar_style": "success",
            "description": "",
            "description_tooltip": null,
            "layout": "IPY_MODEL_243e74004bd944de846f14667614de11",
            "max": 385,
            "min": 0,
            "orientation": "horizontal",
            "style": "IPY_MODEL_221f35b984194b5dbd8bbee439011071",
            "value": 385
          }
        },
        "64d8bd81751d4873a39996cd68c24cef": {
          "model_module": "@jupyter-widgets/controls",
          "model_name": "HTMLModel",
          "model_module_version": "1.5.0",
          "state": {
            "_dom_classes": [],
            "_model_module": "@jupyter-widgets/controls",
            "_model_module_version": "1.5.0",
            "_model_name": "HTMLModel",
            "_view_count": null,
            "_view_module": "@jupyter-widgets/controls",
            "_view_module_version": "1.5.0",
            "_view_name": "HTMLView",
            "description": "",
            "description_tooltip": null,
            "layout": "IPY_MODEL_6aee7a5f0f844aa2aac22c012f9c1ba8",
            "placeholder": "​",
            "style": "IPY_MODEL_8a53ef042d934b59867119807e448a9f",
            "value": " 385/385 [00:00&lt;00:00, 19.8kB/s]"
          }
        },
        "92e7c478191e4dc89fd73223e9532ba2": {
          "model_module": "@jupyter-widgets/base",
          "model_name": "LayoutModel",
          "model_module_version": "1.2.0",
          "state": {
            "_model_module": "@jupyter-widgets/base",
            "_model_module_version": "1.2.0",
            "_model_name": "LayoutModel",
            "_view_count": null,
            "_view_module": "@jupyter-widgets/base",
            "_view_module_version": "1.2.0",
            "_view_name": "LayoutView",
            "align_content": null,
            "align_items": null,
            "align_self": null,
            "border": null,
            "bottom": null,
            "display": null,
            "flex": null,
            "flex_flow": null,
            "grid_area": null,
            "grid_auto_columns": null,
            "grid_auto_flow": null,
            "grid_auto_rows": null,
            "grid_column": null,
            "grid_gap": null,
            "grid_row": null,
            "grid_template_areas": null,
            "grid_template_columns": null,
            "grid_template_rows": null,
            "height": null,
            "justify_content": null,
            "justify_items": null,
            "left": null,
            "margin": null,
            "max_height": null,
            "max_width": null,
            "min_height": null,
            "min_width": null,
            "object_fit": null,
            "object_position": null,
            "order": null,
            "overflow": null,
            "overflow_x": null,
            "overflow_y": null,
            "padding": null,
            "right": null,
            "top": null,
            "visibility": null,
            "width": null
          }
        },
        "2fe662db1df54c848612cf5c367aeaf8": {
          "model_module": "@jupyter-widgets/base",
          "model_name": "LayoutModel",
          "model_module_version": "1.2.0",
          "state": {
            "_model_module": "@jupyter-widgets/base",
            "_model_module_version": "1.2.0",
            "_model_name": "LayoutModel",
            "_view_count": null,
            "_view_module": "@jupyter-widgets/base",
            "_view_module_version": "1.2.0",
            "_view_name": "LayoutView",
            "align_content": null,
            "align_items": null,
            "align_self": null,
            "border": null,
            "bottom": null,
            "display": null,
            "flex": null,
            "flex_flow": null,
            "grid_area": null,
            "grid_auto_columns": null,
            "grid_auto_flow": null,
            "grid_auto_rows": null,
            "grid_column": null,
            "grid_gap": null,
            "grid_row": null,
            "grid_template_areas": null,
            "grid_template_columns": null,
            "grid_template_rows": null,
            "height": null,
            "justify_content": null,
            "justify_items": null,
            "left": null,
            "margin": null,
            "max_height": null,
            "max_width": null,
            "min_height": null,
            "min_width": null,
            "object_fit": null,
            "object_position": null,
            "order": null,
            "overflow": null,
            "overflow_x": null,
            "overflow_y": null,
            "padding": null,
            "right": null,
            "top": null,
            "visibility": null,
            "width": null
          }
        },
        "d0da6606d6ca48de970999a88ca20b43": {
          "model_module": "@jupyter-widgets/controls",
          "model_name": "DescriptionStyleModel",
          "model_module_version": "1.5.0",
          "state": {
            "_model_module": "@jupyter-widgets/controls",
            "_model_module_version": "1.5.0",
            "_model_name": "DescriptionStyleModel",
            "_view_count": null,
            "_view_module": "@jupyter-widgets/base",
            "_view_module_version": "1.2.0",
            "_view_name": "StyleView",
            "description_width": ""
          }
        },
        "243e74004bd944de846f14667614de11": {
          "model_module": "@jupyter-widgets/base",
          "model_name": "LayoutModel",
          "model_module_version": "1.2.0",
          "state": {
            "_model_module": "@jupyter-widgets/base",
            "_model_module_version": "1.2.0",
            "_model_name": "LayoutModel",
            "_view_count": null,
            "_view_module": "@jupyter-widgets/base",
            "_view_module_version": "1.2.0",
            "_view_name": "LayoutView",
            "align_content": null,
            "align_items": null,
            "align_self": null,
            "border": null,
            "bottom": null,
            "display": null,
            "flex": null,
            "flex_flow": null,
            "grid_area": null,
            "grid_auto_columns": null,
            "grid_auto_flow": null,
            "grid_auto_rows": null,
            "grid_column": null,
            "grid_gap": null,
            "grid_row": null,
            "grid_template_areas": null,
            "grid_template_columns": null,
            "grid_template_rows": null,
            "height": null,
            "justify_content": null,
            "justify_items": null,
            "left": null,
            "margin": null,
            "max_height": null,
            "max_width": null,
            "min_height": null,
            "min_width": null,
            "object_fit": null,
            "object_position": null,
            "order": null,
            "overflow": null,
            "overflow_x": null,
            "overflow_y": null,
            "padding": null,
            "right": null,
            "top": null,
            "visibility": null,
            "width": null
          }
        },
        "221f35b984194b5dbd8bbee439011071": {
          "model_module": "@jupyter-widgets/controls",
          "model_name": "ProgressStyleModel",
          "model_module_version": "1.5.0",
          "state": {
            "_model_module": "@jupyter-widgets/controls",
            "_model_module_version": "1.5.0",
            "_model_name": "ProgressStyleModel",
            "_view_count": null,
            "_view_module": "@jupyter-widgets/base",
            "_view_module_version": "1.2.0",
            "_view_name": "StyleView",
            "bar_color": null,
            "description_width": ""
          }
        },
        "6aee7a5f0f844aa2aac22c012f9c1ba8": {
          "model_module": "@jupyter-widgets/base",
          "model_name": "LayoutModel",
          "model_module_version": "1.2.0",
          "state": {
            "_model_module": "@jupyter-widgets/base",
            "_model_module_version": "1.2.0",
            "_model_name": "LayoutModel",
            "_view_count": null,
            "_view_module": "@jupyter-widgets/base",
            "_view_module_version": "1.2.0",
            "_view_name": "LayoutView",
            "align_content": null,
            "align_items": null,
            "align_self": null,
            "border": null,
            "bottom": null,
            "display": null,
            "flex": null,
            "flex_flow": null,
            "grid_area": null,
            "grid_auto_columns": null,
            "grid_auto_flow": null,
            "grid_auto_rows": null,
            "grid_column": null,
            "grid_gap": null,
            "grid_row": null,
            "grid_template_areas": null,
            "grid_template_columns": null,
            "grid_template_rows": null,
            "height": null,
            "justify_content": null,
            "justify_items": null,
            "left": null,
            "margin": null,
            "max_height": null,
            "max_width": null,
            "min_height": null,
            "min_width": null,
            "object_fit": null,
            "object_position": null,
            "order": null,
            "overflow": null,
            "overflow_x": null,
            "overflow_y": null,
            "padding": null,
            "right": null,
            "top": null,
            "visibility": null,
            "width": null
          }
        },
        "8a53ef042d934b59867119807e448a9f": {
          "model_module": "@jupyter-widgets/controls",
          "model_name": "DescriptionStyleModel",
          "model_module_version": "1.5.0",
          "state": {
            "_model_module": "@jupyter-widgets/controls",
            "_model_module_version": "1.5.0",
            "_model_name": "DescriptionStyleModel",
            "_view_count": null,
            "_view_module": "@jupyter-widgets/base",
            "_view_module_version": "1.2.0",
            "_view_name": "StyleView",
            "description_width": ""
          }
        },
        "d680c98bae0f4af8a58e0e1fd9c8bcb3": {
          "model_module": "@jupyter-widgets/controls",
          "model_name": "HBoxModel",
          "model_module_version": "1.5.0",
          "state": {
            "_dom_classes": [],
            "_model_module": "@jupyter-widgets/controls",
            "_model_module_version": "1.5.0",
            "_model_name": "HBoxModel",
            "_view_count": null,
            "_view_module": "@jupyter-widgets/controls",
            "_view_module_version": "1.5.0",
            "_view_name": "HBoxView",
            "box_style": "",
            "children": [
              "IPY_MODEL_7fd53f7a0eda4093835df6ec625a23b4",
              "IPY_MODEL_212bd7339d1d4ec7b56f10484770ed42",
              "IPY_MODEL_11dad5b33ad641c3be7d373703da1f57"
            ],
            "layout": "IPY_MODEL_078a9af4c091417a873bac41c1ed75df"
          }
        },
        "7fd53f7a0eda4093835df6ec625a23b4": {
          "model_module": "@jupyter-widgets/controls",
          "model_name": "HTMLModel",
          "model_module_version": "1.5.0",
          "state": {
            "_dom_classes": [],
            "_model_module": "@jupyter-widgets/controls",
            "_model_module_version": "1.5.0",
            "_model_name": "HTMLModel",
            "_view_count": null,
            "_view_module": "@jupyter-widgets/controls",
            "_view_module_version": "1.5.0",
            "_view_name": "HTMLView",
            "description": "",
            "description_tooltip": null,
            "layout": "IPY_MODEL_d12540f8090d467b9982a248812766ef",
            "placeholder": "​",
            "style": "IPY_MODEL_7b58e1e0e3624480965929b73cdc66fa",
            "value": "Downloading: 100%"
          }
        },
        "212bd7339d1d4ec7b56f10484770ed42": {
          "model_module": "@jupyter-widgets/controls",
          "model_name": "FloatProgressModel",
          "model_module_version": "1.5.0",
          "state": {
            "_dom_classes": [],
            "_model_module": "@jupyter-widgets/controls",
            "_model_module_version": "1.5.0",
            "_model_name": "FloatProgressModel",
            "_view_count": null,
            "_view_module": "@jupyter-widgets/controls",
            "_view_module_version": "1.5.0",
            "_view_name": "ProgressView",
            "bar_style": "success",
            "description": "",
            "description_tooltip": null,
            "layout": "IPY_MODEL_49cb44b2f421408b87085441bd7ab9b3",
            "max": 231508,
            "min": 0,
            "orientation": "horizontal",
            "style": "IPY_MODEL_b56f9c68334e4ef6b33c429e14637a05",
            "value": 231508
          }
        },
        "11dad5b33ad641c3be7d373703da1f57": {
          "model_module": "@jupyter-widgets/controls",
          "model_name": "HTMLModel",
          "model_module_version": "1.5.0",
          "state": {
            "_dom_classes": [],
            "_model_module": "@jupyter-widgets/controls",
            "_model_module_version": "1.5.0",
            "_model_name": "HTMLModel",
            "_view_count": null,
            "_view_module": "@jupyter-widgets/controls",
            "_view_module_version": "1.5.0",
            "_view_name": "HTMLView",
            "description": "",
            "description_tooltip": null,
            "layout": "IPY_MODEL_7d9464f08d0d40909f137fa8f8de4fad",
            "placeholder": "​",
            "style": "IPY_MODEL_89f88227aeb147de94175b2cec32947a",
            "value": " 232k/232k [00:00&lt;00:00, 284kB/s]"
          }
        },
        "078a9af4c091417a873bac41c1ed75df": {
          "model_module": "@jupyter-widgets/base",
          "model_name": "LayoutModel",
          "model_module_version": "1.2.0",
          "state": {
            "_model_module": "@jupyter-widgets/base",
            "_model_module_version": "1.2.0",
            "_model_name": "LayoutModel",
            "_view_count": null,
            "_view_module": "@jupyter-widgets/base",
            "_view_module_version": "1.2.0",
            "_view_name": "LayoutView",
            "align_content": null,
            "align_items": null,
            "align_self": null,
            "border": null,
            "bottom": null,
            "display": null,
            "flex": null,
            "flex_flow": null,
            "grid_area": null,
            "grid_auto_columns": null,
            "grid_auto_flow": null,
            "grid_auto_rows": null,
            "grid_column": null,
            "grid_gap": null,
            "grid_row": null,
            "grid_template_areas": null,
            "grid_template_columns": null,
            "grid_template_rows": null,
            "height": null,
            "justify_content": null,
            "justify_items": null,
            "left": null,
            "margin": null,
            "max_height": null,
            "max_width": null,
            "min_height": null,
            "min_width": null,
            "object_fit": null,
            "object_position": null,
            "order": null,
            "overflow": null,
            "overflow_x": null,
            "overflow_y": null,
            "padding": null,
            "right": null,
            "top": null,
            "visibility": null,
            "width": null
          }
        },
        "d12540f8090d467b9982a248812766ef": {
          "model_module": "@jupyter-widgets/base",
          "model_name": "LayoutModel",
          "model_module_version": "1.2.0",
          "state": {
            "_model_module": "@jupyter-widgets/base",
            "_model_module_version": "1.2.0",
            "_model_name": "LayoutModel",
            "_view_count": null,
            "_view_module": "@jupyter-widgets/base",
            "_view_module_version": "1.2.0",
            "_view_name": "LayoutView",
            "align_content": null,
            "align_items": null,
            "align_self": null,
            "border": null,
            "bottom": null,
            "display": null,
            "flex": null,
            "flex_flow": null,
            "grid_area": null,
            "grid_auto_columns": null,
            "grid_auto_flow": null,
            "grid_auto_rows": null,
            "grid_column": null,
            "grid_gap": null,
            "grid_row": null,
            "grid_template_areas": null,
            "grid_template_columns": null,
            "grid_template_rows": null,
            "height": null,
            "justify_content": null,
            "justify_items": null,
            "left": null,
            "margin": null,
            "max_height": null,
            "max_width": null,
            "min_height": null,
            "min_width": null,
            "object_fit": null,
            "object_position": null,
            "order": null,
            "overflow": null,
            "overflow_x": null,
            "overflow_y": null,
            "padding": null,
            "right": null,
            "top": null,
            "visibility": null,
            "width": null
          }
        },
        "7b58e1e0e3624480965929b73cdc66fa": {
          "model_module": "@jupyter-widgets/controls",
          "model_name": "DescriptionStyleModel",
          "model_module_version": "1.5.0",
          "state": {
            "_model_module": "@jupyter-widgets/controls",
            "_model_module_version": "1.5.0",
            "_model_name": "DescriptionStyleModel",
            "_view_count": null,
            "_view_module": "@jupyter-widgets/base",
            "_view_module_version": "1.2.0",
            "_view_name": "StyleView",
            "description_width": ""
          }
        },
        "49cb44b2f421408b87085441bd7ab9b3": {
          "model_module": "@jupyter-widgets/base",
          "model_name": "LayoutModel",
          "model_module_version": "1.2.0",
          "state": {
            "_model_module": "@jupyter-widgets/base",
            "_model_module_version": "1.2.0",
            "_model_name": "LayoutModel",
            "_view_count": null,
            "_view_module": "@jupyter-widgets/base",
            "_view_module_version": "1.2.0",
            "_view_name": "LayoutView",
            "align_content": null,
            "align_items": null,
            "align_self": null,
            "border": null,
            "bottom": null,
            "display": null,
            "flex": null,
            "flex_flow": null,
            "grid_area": null,
            "grid_auto_columns": null,
            "grid_auto_flow": null,
            "grid_auto_rows": null,
            "grid_column": null,
            "grid_gap": null,
            "grid_row": null,
            "grid_template_areas": null,
            "grid_template_columns": null,
            "grid_template_rows": null,
            "height": null,
            "justify_content": null,
            "justify_items": null,
            "left": null,
            "margin": null,
            "max_height": null,
            "max_width": null,
            "min_height": null,
            "min_width": null,
            "object_fit": null,
            "object_position": null,
            "order": null,
            "overflow": null,
            "overflow_x": null,
            "overflow_y": null,
            "padding": null,
            "right": null,
            "top": null,
            "visibility": null,
            "width": null
          }
        },
        "b56f9c68334e4ef6b33c429e14637a05": {
          "model_module": "@jupyter-widgets/controls",
          "model_name": "ProgressStyleModel",
          "model_module_version": "1.5.0",
          "state": {
            "_model_module": "@jupyter-widgets/controls",
            "_model_module_version": "1.5.0",
            "_model_name": "ProgressStyleModel",
            "_view_count": null,
            "_view_module": "@jupyter-widgets/base",
            "_view_module_version": "1.2.0",
            "_view_name": "StyleView",
            "bar_color": null,
            "description_width": ""
          }
        },
        "7d9464f08d0d40909f137fa8f8de4fad": {
          "model_module": "@jupyter-widgets/base",
          "model_name": "LayoutModel",
          "model_module_version": "1.2.0",
          "state": {
            "_model_module": "@jupyter-widgets/base",
            "_model_module_version": "1.2.0",
            "_model_name": "LayoutModel",
            "_view_count": null,
            "_view_module": "@jupyter-widgets/base",
            "_view_module_version": "1.2.0",
            "_view_name": "LayoutView",
            "align_content": null,
            "align_items": null,
            "align_self": null,
            "border": null,
            "bottom": null,
            "display": null,
            "flex": null,
            "flex_flow": null,
            "grid_area": null,
            "grid_auto_columns": null,
            "grid_auto_flow": null,
            "grid_auto_rows": null,
            "grid_column": null,
            "grid_gap": null,
            "grid_row": null,
            "grid_template_areas": null,
            "grid_template_columns": null,
            "grid_template_rows": null,
            "height": null,
            "justify_content": null,
            "justify_items": null,
            "left": null,
            "margin": null,
            "max_height": null,
            "max_width": null,
            "min_height": null,
            "min_width": null,
            "object_fit": null,
            "object_position": null,
            "order": null,
            "overflow": null,
            "overflow_x": null,
            "overflow_y": null,
            "padding": null,
            "right": null,
            "top": null,
            "visibility": null,
            "width": null
          }
        },
        "89f88227aeb147de94175b2cec32947a": {
          "model_module": "@jupyter-widgets/controls",
          "model_name": "DescriptionStyleModel",
          "model_module_version": "1.5.0",
          "state": {
            "_model_module": "@jupyter-widgets/controls",
            "_model_module_version": "1.5.0",
            "_model_name": "DescriptionStyleModel",
            "_view_count": null,
            "_view_module": "@jupyter-widgets/base",
            "_view_module_version": "1.2.0",
            "_view_name": "StyleView",
            "description_width": ""
          }
        },
        "2a8d539e1f0f433fb63234c718baa205": {
          "model_module": "@jupyter-widgets/controls",
          "model_name": "HBoxModel",
          "model_module_version": "1.5.0",
          "state": {
            "_dom_classes": [],
            "_model_module": "@jupyter-widgets/controls",
            "_model_module_version": "1.5.0",
            "_model_name": "HBoxModel",
            "_view_count": null,
            "_view_module": "@jupyter-widgets/controls",
            "_view_module_version": "1.5.0",
            "_view_name": "HBoxView",
            "box_style": "",
            "children": [
              "IPY_MODEL_a6c26f5c983146a7b83fcbe1395784f5",
              "IPY_MODEL_03a9f58f62c24e878bd497e313a35144",
              "IPY_MODEL_969623362af64ffbbe26b4d8348ee2d2"
            ],
            "layout": "IPY_MODEL_00684db246e44c7dbfa1b2fcdc3d35a3"
          }
        },
        "a6c26f5c983146a7b83fcbe1395784f5": {
          "model_module": "@jupyter-widgets/controls",
          "model_name": "HTMLModel",
          "model_module_version": "1.5.0",
          "state": {
            "_dom_classes": [],
            "_model_module": "@jupyter-widgets/controls",
            "_model_module_version": "1.5.0",
            "_model_name": "HTMLModel",
            "_view_count": null,
            "_view_module": "@jupyter-widgets/controls",
            "_view_module_version": "1.5.0",
            "_view_name": "HTMLView",
            "description": "",
            "description_tooltip": null,
            "layout": "IPY_MODEL_0878ff601a534ff78eaa8cfaf6c7d96b",
            "placeholder": "​",
            "style": "IPY_MODEL_e30e4cad6f4f48bcb5885ea4244b772e",
            "value": "Downloading: 100%"
          }
        },
        "03a9f58f62c24e878bd497e313a35144": {
          "model_module": "@jupyter-widgets/controls",
          "model_name": "FloatProgressModel",
          "model_module_version": "1.5.0",
          "state": {
            "_dom_classes": [],
            "_model_module": "@jupyter-widgets/controls",
            "_model_module_version": "1.5.0",
            "_model_name": "FloatProgressModel",
            "_view_count": null,
            "_view_module": "@jupyter-widgets/controls",
            "_view_module_version": "1.5.0",
            "_view_name": "ProgressView",
            "bar_style": "success",
            "description": "",
            "description_tooltip": null,
            "layout": "IPY_MODEL_4a7f0ac99b4f4f4fb2641a53694fa311",
            "max": 112,
            "min": 0,
            "orientation": "horizontal",
            "style": "IPY_MODEL_b524e1bc0da04637831b76da6479725d",
            "value": 112
          }
        },
        "969623362af64ffbbe26b4d8348ee2d2": {
          "model_module": "@jupyter-widgets/controls",
          "model_name": "HTMLModel",
          "model_module_version": "1.5.0",
          "state": {
            "_dom_classes": [],
            "_model_module": "@jupyter-widgets/controls",
            "_model_module_version": "1.5.0",
            "_model_name": "HTMLModel",
            "_view_count": null,
            "_view_module": "@jupyter-widgets/controls",
            "_view_module_version": "1.5.0",
            "_view_name": "HTMLView",
            "description": "",
            "description_tooltip": null,
            "layout": "IPY_MODEL_2fa064d366a143c894b32b0c33e02ac7",
            "placeholder": "​",
            "style": "IPY_MODEL_ab03bf4d845d456e916205a8b6650bdc",
            "value": " 112/112 [00:00&lt;00:00, 8.97kB/s]"
          }
        },
        "00684db246e44c7dbfa1b2fcdc3d35a3": {
          "model_module": "@jupyter-widgets/base",
          "model_name": "LayoutModel",
          "model_module_version": "1.2.0",
          "state": {
            "_model_module": "@jupyter-widgets/base",
            "_model_module_version": "1.2.0",
            "_model_name": "LayoutModel",
            "_view_count": null,
            "_view_module": "@jupyter-widgets/base",
            "_view_module_version": "1.2.0",
            "_view_name": "LayoutView",
            "align_content": null,
            "align_items": null,
            "align_self": null,
            "border": null,
            "bottom": null,
            "display": null,
            "flex": null,
            "flex_flow": null,
            "grid_area": null,
            "grid_auto_columns": null,
            "grid_auto_flow": null,
            "grid_auto_rows": null,
            "grid_column": null,
            "grid_gap": null,
            "grid_row": null,
            "grid_template_areas": null,
            "grid_template_columns": null,
            "grid_template_rows": null,
            "height": null,
            "justify_content": null,
            "justify_items": null,
            "left": null,
            "margin": null,
            "max_height": null,
            "max_width": null,
            "min_height": null,
            "min_width": null,
            "object_fit": null,
            "object_position": null,
            "order": null,
            "overflow": null,
            "overflow_x": null,
            "overflow_y": null,
            "padding": null,
            "right": null,
            "top": null,
            "visibility": null,
            "width": null
          }
        },
        "0878ff601a534ff78eaa8cfaf6c7d96b": {
          "model_module": "@jupyter-widgets/base",
          "model_name": "LayoutModel",
          "model_module_version": "1.2.0",
          "state": {
            "_model_module": "@jupyter-widgets/base",
            "_model_module_version": "1.2.0",
            "_model_name": "LayoutModel",
            "_view_count": null,
            "_view_module": "@jupyter-widgets/base",
            "_view_module_version": "1.2.0",
            "_view_name": "LayoutView",
            "align_content": null,
            "align_items": null,
            "align_self": null,
            "border": null,
            "bottom": null,
            "display": null,
            "flex": null,
            "flex_flow": null,
            "grid_area": null,
            "grid_auto_columns": null,
            "grid_auto_flow": null,
            "grid_auto_rows": null,
            "grid_column": null,
            "grid_gap": null,
            "grid_row": null,
            "grid_template_areas": null,
            "grid_template_columns": null,
            "grid_template_rows": null,
            "height": null,
            "justify_content": null,
            "justify_items": null,
            "left": null,
            "margin": null,
            "max_height": null,
            "max_width": null,
            "min_height": null,
            "min_width": null,
            "object_fit": null,
            "object_position": null,
            "order": null,
            "overflow": null,
            "overflow_x": null,
            "overflow_y": null,
            "padding": null,
            "right": null,
            "top": null,
            "visibility": null,
            "width": null
          }
        },
        "e30e4cad6f4f48bcb5885ea4244b772e": {
          "model_module": "@jupyter-widgets/controls",
          "model_name": "DescriptionStyleModel",
          "model_module_version": "1.5.0",
          "state": {
            "_model_module": "@jupyter-widgets/controls",
            "_model_module_version": "1.5.0",
            "_model_name": "DescriptionStyleModel",
            "_view_count": null,
            "_view_module": "@jupyter-widgets/base",
            "_view_module_version": "1.2.0",
            "_view_name": "StyleView",
            "description_width": ""
          }
        },
        "4a7f0ac99b4f4f4fb2641a53694fa311": {
          "model_module": "@jupyter-widgets/base",
          "model_name": "LayoutModel",
          "model_module_version": "1.2.0",
          "state": {
            "_model_module": "@jupyter-widgets/base",
            "_model_module_version": "1.2.0",
            "_model_name": "LayoutModel",
            "_view_count": null,
            "_view_module": "@jupyter-widgets/base",
            "_view_module_version": "1.2.0",
            "_view_name": "LayoutView",
            "align_content": null,
            "align_items": null,
            "align_self": null,
            "border": null,
            "bottom": null,
            "display": null,
            "flex": null,
            "flex_flow": null,
            "grid_area": null,
            "grid_auto_columns": null,
            "grid_auto_flow": null,
            "grid_auto_rows": null,
            "grid_column": null,
            "grid_gap": null,
            "grid_row": null,
            "grid_template_areas": null,
            "grid_template_columns": null,
            "grid_template_rows": null,
            "height": null,
            "justify_content": null,
            "justify_items": null,
            "left": null,
            "margin": null,
            "max_height": null,
            "max_width": null,
            "min_height": null,
            "min_width": null,
            "object_fit": null,
            "object_position": null,
            "order": null,
            "overflow": null,
            "overflow_x": null,
            "overflow_y": null,
            "padding": null,
            "right": null,
            "top": null,
            "visibility": null,
            "width": null
          }
        },
        "b524e1bc0da04637831b76da6479725d": {
          "model_module": "@jupyter-widgets/controls",
          "model_name": "ProgressStyleModel",
          "model_module_version": "1.5.0",
          "state": {
            "_model_module": "@jupyter-widgets/controls",
            "_model_module_version": "1.5.0",
            "_model_name": "ProgressStyleModel",
            "_view_count": null,
            "_view_module": "@jupyter-widgets/base",
            "_view_module_version": "1.2.0",
            "_view_name": "StyleView",
            "bar_color": null,
            "description_width": ""
          }
        },
        "2fa064d366a143c894b32b0c33e02ac7": {
          "model_module": "@jupyter-widgets/base",
          "model_name": "LayoutModel",
          "model_module_version": "1.2.0",
          "state": {
            "_model_module": "@jupyter-widgets/base",
            "_model_module_version": "1.2.0",
            "_model_name": "LayoutModel",
            "_view_count": null,
            "_view_module": "@jupyter-widgets/base",
            "_view_module_version": "1.2.0",
            "_view_name": "LayoutView",
            "align_content": null,
            "align_items": null,
            "align_self": null,
            "border": null,
            "bottom": null,
            "display": null,
            "flex": null,
            "flex_flow": null,
            "grid_area": null,
            "grid_auto_columns": null,
            "grid_auto_flow": null,
            "grid_auto_rows": null,
            "grid_column": null,
            "grid_gap": null,
            "grid_row": null,
            "grid_template_areas": null,
            "grid_template_columns": null,
            "grid_template_rows": null,
            "height": null,
            "justify_content": null,
            "justify_items": null,
            "left": null,
            "margin": null,
            "max_height": null,
            "max_width": null,
            "min_height": null,
            "min_width": null,
            "object_fit": null,
            "object_position": null,
            "order": null,
            "overflow": null,
            "overflow_x": null,
            "overflow_y": null,
            "padding": null,
            "right": null,
            "top": null,
            "visibility": null,
            "width": null
          }
        },
        "ab03bf4d845d456e916205a8b6650bdc": {
          "model_module": "@jupyter-widgets/controls",
          "model_name": "DescriptionStyleModel",
          "model_module_version": "1.5.0",
          "state": {
            "_model_module": "@jupyter-widgets/controls",
            "_model_module_version": "1.5.0",
            "_model_name": "DescriptionStyleModel",
            "_view_count": null,
            "_view_module": "@jupyter-widgets/base",
            "_view_module_version": "1.2.0",
            "_view_name": "StyleView",
            "description_width": ""
          }
        },
        "900c5b2ded1b4a53b48f8d4c9b62ba42": {
          "model_module": "@jupyter-widgets/controls",
          "model_name": "HBoxModel",
          "model_module_version": "1.5.0",
          "state": {
            "_dom_classes": [],
            "_model_module": "@jupyter-widgets/controls",
            "_model_module_version": "1.5.0",
            "_model_name": "HBoxModel",
            "_view_count": null,
            "_view_module": "@jupyter-widgets/controls",
            "_view_module_version": "1.5.0",
            "_view_name": "HBoxView",
            "box_style": "",
            "children": [
              "IPY_MODEL_138e877f94b14309a6f6e995e142d91d",
              "IPY_MODEL_3a65725f27bc451cb28b0c706403e26e",
              "IPY_MODEL_ee83543552c241f2b024a007034d7066"
            ],
            "layout": "IPY_MODEL_df370bd8d5d84d859b622dbb1257049e"
          }
        },
        "138e877f94b14309a6f6e995e142d91d": {
          "model_module": "@jupyter-widgets/controls",
          "model_name": "HTMLModel",
          "model_module_version": "1.5.0",
          "state": {
            "_dom_classes": [],
            "_model_module": "@jupyter-widgets/controls",
            "_model_module_version": "1.5.0",
            "_model_name": "HTMLModel",
            "_view_count": null,
            "_view_module": "@jupyter-widgets/controls",
            "_view_module_version": "1.5.0",
            "_view_name": "HTMLView",
            "description": "",
            "description_tooltip": null,
            "layout": "IPY_MODEL_3067d896726742ba84eb988e6a7d5afd",
            "placeholder": "​",
            "style": "IPY_MODEL_93a50baecb0d47c99f3e199b26c3f0e7",
            "value": "Downloading: 100%"
          }
        },
        "3a65725f27bc451cb28b0c706403e26e": {
          "model_module": "@jupyter-widgets/controls",
          "model_name": "FloatProgressModel",
          "model_module_version": "1.5.0",
          "state": {
            "_dom_classes": [],
            "_model_module": "@jupyter-widgets/controls",
            "_model_module_version": "1.5.0",
            "_model_name": "FloatProgressModel",
            "_view_count": null,
            "_view_module": "@jupyter-widgets/controls",
            "_view_module_version": "1.5.0",
            "_view_name": "ProgressView",
            "bar_style": "success",
            "description": "",
            "description_tooltip": null,
            "layout": "IPY_MODEL_d3f63804415242aea3db324cdee47298",
            "max": 2,
            "min": 0,
            "orientation": "horizontal",
            "style": "IPY_MODEL_d143b6d205a04e1183c4551bca0d4a04",
            "value": 2
          }
        },
        "ee83543552c241f2b024a007034d7066": {
          "model_module": "@jupyter-widgets/controls",
          "model_name": "HTMLModel",
          "model_module_version": "1.5.0",
          "state": {
            "_dom_classes": [],
            "_model_module": "@jupyter-widgets/controls",
            "_model_module_version": "1.5.0",
            "_model_name": "HTMLModel",
            "_view_count": null,
            "_view_module": "@jupyter-widgets/controls",
            "_view_module_version": "1.5.0",
            "_view_name": "HTMLView",
            "description": "",
            "description_tooltip": null,
            "layout": "IPY_MODEL_3a8a09192f0547b694a29229ed703b61",
            "placeholder": "​",
            "style": "IPY_MODEL_fd05dd1078f04a6cad79e1fa58ed66d0",
            "value": " 2.00/2.00 [00:00&lt;00:00, 135B/s]"
          }
        },
        "df370bd8d5d84d859b622dbb1257049e": {
          "model_module": "@jupyter-widgets/base",
          "model_name": "LayoutModel",
          "model_module_version": "1.2.0",
          "state": {
            "_model_module": "@jupyter-widgets/base",
            "_model_module_version": "1.2.0",
            "_model_name": "LayoutModel",
            "_view_count": null,
            "_view_module": "@jupyter-widgets/base",
            "_view_module_version": "1.2.0",
            "_view_name": "LayoutView",
            "align_content": null,
            "align_items": null,
            "align_self": null,
            "border": null,
            "bottom": null,
            "display": null,
            "flex": null,
            "flex_flow": null,
            "grid_area": null,
            "grid_auto_columns": null,
            "grid_auto_flow": null,
            "grid_auto_rows": null,
            "grid_column": null,
            "grid_gap": null,
            "grid_row": null,
            "grid_template_areas": null,
            "grid_template_columns": null,
            "grid_template_rows": null,
            "height": null,
            "justify_content": null,
            "justify_items": null,
            "left": null,
            "margin": null,
            "max_height": null,
            "max_width": null,
            "min_height": null,
            "min_width": null,
            "object_fit": null,
            "object_position": null,
            "order": null,
            "overflow": null,
            "overflow_x": null,
            "overflow_y": null,
            "padding": null,
            "right": null,
            "top": null,
            "visibility": null,
            "width": null
          }
        },
        "3067d896726742ba84eb988e6a7d5afd": {
          "model_module": "@jupyter-widgets/base",
          "model_name": "LayoutModel",
          "model_module_version": "1.2.0",
          "state": {
            "_model_module": "@jupyter-widgets/base",
            "_model_module_version": "1.2.0",
            "_model_name": "LayoutModel",
            "_view_count": null,
            "_view_module": "@jupyter-widgets/base",
            "_view_module_version": "1.2.0",
            "_view_name": "LayoutView",
            "align_content": null,
            "align_items": null,
            "align_self": null,
            "border": null,
            "bottom": null,
            "display": null,
            "flex": null,
            "flex_flow": null,
            "grid_area": null,
            "grid_auto_columns": null,
            "grid_auto_flow": null,
            "grid_auto_rows": null,
            "grid_column": null,
            "grid_gap": null,
            "grid_row": null,
            "grid_template_areas": null,
            "grid_template_columns": null,
            "grid_template_rows": null,
            "height": null,
            "justify_content": null,
            "justify_items": null,
            "left": null,
            "margin": null,
            "max_height": null,
            "max_width": null,
            "min_height": null,
            "min_width": null,
            "object_fit": null,
            "object_position": null,
            "order": null,
            "overflow": null,
            "overflow_x": null,
            "overflow_y": null,
            "padding": null,
            "right": null,
            "top": null,
            "visibility": null,
            "width": null
          }
        },
        "93a50baecb0d47c99f3e199b26c3f0e7": {
          "model_module": "@jupyter-widgets/controls",
          "model_name": "DescriptionStyleModel",
          "model_module_version": "1.5.0",
          "state": {
            "_model_module": "@jupyter-widgets/controls",
            "_model_module_version": "1.5.0",
            "_model_name": "DescriptionStyleModel",
            "_view_count": null,
            "_view_module": "@jupyter-widgets/base",
            "_view_module_version": "1.2.0",
            "_view_name": "StyleView",
            "description_width": ""
          }
        },
        "d3f63804415242aea3db324cdee47298": {
          "model_module": "@jupyter-widgets/base",
          "model_name": "LayoutModel",
          "model_module_version": "1.2.0",
          "state": {
            "_model_module": "@jupyter-widgets/base",
            "_model_module_version": "1.2.0",
            "_model_name": "LayoutModel",
            "_view_count": null,
            "_view_module": "@jupyter-widgets/base",
            "_view_module_version": "1.2.0",
            "_view_name": "LayoutView",
            "align_content": null,
            "align_items": null,
            "align_self": null,
            "border": null,
            "bottom": null,
            "display": null,
            "flex": null,
            "flex_flow": null,
            "grid_area": null,
            "grid_auto_columns": null,
            "grid_auto_flow": null,
            "grid_auto_rows": null,
            "grid_column": null,
            "grid_gap": null,
            "grid_row": null,
            "grid_template_areas": null,
            "grid_template_columns": null,
            "grid_template_rows": null,
            "height": null,
            "justify_content": null,
            "justify_items": null,
            "left": null,
            "margin": null,
            "max_height": null,
            "max_width": null,
            "min_height": null,
            "min_width": null,
            "object_fit": null,
            "object_position": null,
            "order": null,
            "overflow": null,
            "overflow_x": null,
            "overflow_y": null,
            "padding": null,
            "right": null,
            "top": null,
            "visibility": null,
            "width": null
          }
        },
        "d143b6d205a04e1183c4551bca0d4a04": {
          "model_module": "@jupyter-widgets/controls",
          "model_name": "ProgressStyleModel",
          "model_module_version": "1.5.0",
          "state": {
            "_model_module": "@jupyter-widgets/controls",
            "_model_module_version": "1.5.0",
            "_model_name": "ProgressStyleModel",
            "_view_count": null,
            "_view_module": "@jupyter-widgets/base",
            "_view_module_version": "1.2.0",
            "_view_name": "StyleView",
            "bar_color": null,
            "description_width": ""
          }
        },
        "3a8a09192f0547b694a29229ed703b61": {
          "model_module": "@jupyter-widgets/base",
          "model_name": "LayoutModel",
          "model_module_version": "1.2.0",
          "state": {
            "_model_module": "@jupyter-widgets/base",
            "_model_module_version": "1.2.0",
            "_model_name": "LayoutModel",
            "_view_count": null,
            "_view_module": "@jupyter-widgets/base",
            "_view_module_version": "1.2.0",
            "_view_name": "LayoutView",
            "align_content": null,
            "align_items": null,
            "align_self": null,
            "border": null,
            "bottom": null,
            "display": null,
            "flex": null,
            "flex_flow": null,
            "grid_area": null,
            "grid_auto_columns": null,
            "grid_auto_flow": null,
            "grid_auto_rows": null,
            "grid_column": null,
            "grid_gap": null,
            "grid_row": null,
            "grid_template_areas": null,
            "grid_template_columns": null,
            "grid_template_rows": null,
            "height": null,
            "justify_content": null,
            "justify_items": null,
            "left": null,
            "margin": null,
            "max_height": null,
            "max_width": null,
            "min_height": null,
            "min_width": null,
            "object_fit": null,
            "object_position": null,
            "order": null,
            "overflow": null,
            "overflow_x": null,
            "overflow_y": null,
            "padding": null,
            "right": null,
            "top": null,
            "visibility": null,
            "width": null
          }
        },
        "fd05dd1078f04a6cad79e1fa58ed66d0": {
          "model_module": "@jupyter-widgets/controls",
          "model_name": "DescriptionStyleModel",
          "model_module_version": "1.5.0",
          "state": {
            "_model_module": "@jupyter-widgets/controls",
            "_model_module_version": "1.5.0",
            "_model_name": "DescriptionStyleModel",
            "_view_count": null,
            "_view_module": "@jupyter-widgets/base",
            "_view_module_version": "1.2.0",
            "_view_name": "StyleView",
            "description_width": ""
          }
        },
        "a5457e90eec34e9a8b16e13753874eb7": {
          "model_module": "@jupyter-widgets/controls",
          "model_name": "HBoxModel",
          "model_module_version": "1.5.0",
          "state": {
            "_dom_classes": [],
            "_model_module": "@jupyter-widgets/controls",
            "_model_module_version": "1.5.0",
            "_model_name": "HBoxModel",
            "_view_count": null,
            "_view_module": "@jupyter-widgets/controls",
            "_view_module_version": "1.5.0",
            "_view_name": "HBoxView",
            "box_style": "",
            "children": [
              "IPY_MODEL_05d3e3736c364e47af429ee9066af474",
              "IPY_MODEL_0f4c5eafbb4b4d289934e7c90d722b9f",
              "IPY_MODEL_0685ffd2f8804f0c92af0345e17a5fb9"
            ],
            "layout": "IPY_MODEL_df4035681c4d48de98468e06961251df"
          }
        },
        "05d3e3736c364e47af429ee9066af474": {
          "model_module": "@jupyter-widgets/controls",
          "model_name": "HTMLModel",
          "model_module_version": "1.5.0",
          "state": {
            "_dom_classes": [],
            "_model_module": "@jupyter-widgets/controls",
            "_model_module_version": "1.5.0",
            "_model_name": "HTMLModel",
            "_view_count": null,
            "_view_module": "@jupyter-widgets/controls",
            "_view_module_version": "1.5.0",
            "_view_name": "HTMLView",
            "description": "",
            "description_tooltip": null,
            "layout": "IPY_MODEL_3abebd4f32264247a3c4389fa0ecaf34",
            "placeholder": "​",
            "style": "IPY_MODEL_94f8b51655174ed68921a42b2d49656e",
            "value": "Downloading: 100%"
          }
        },
        "0f4c5eafbb4b4d289934e7c90d722b9f": {
          "model_module": "@jupyter-widgets/controls",
          "model_name": "FloatProgressModel",
          "model_module_version": "1.5.0",
          "state": {
            "_dom_classes": [],
            "_model_module": "@jupyter-widgets/controls",
            "_model_module_version": "1.5.0",
            "_model_name": "FloatProgressModel",
            "_view_count": null,
            "_view_module": "@jupyter-widgets/controls",
            "_view_module_version": "1.5.0",
            "_view_name": "ProgressView",
            "bar_style": "success",
            "description": "",
            "description_tooltip": null,
            "layout": "IPY_MODEL_d5be4545a47e4d6390f34577a1aa62fc",
            "max": 133483028,
            "min": 0,
            "orientation": "horizontal",
            "style": "IPY_MODEL_2821ff63af644a369b3769054f605c57",
            "value": 133483028
          }
        },
        "0685ffd2f8804f0c92af0345e17a5fb9": {
          "model_module": "@jupyter-widgets/controls",
          "model_name": "HTMLModel",
          "model_module_version": "1.5.0",
          "state": {
            "_dom_classes": [],
            "_model_module": "@jupyter-widgets/controls",
            "_model_module_version": "1.5.0",
            "_model_name": "HTMLModel",
            "_view_count": null,
            "_view_module": "@jupyter-widgets/controls",
            "_view_module_version": "1.5.0",
            "_view_name": "HTMLView",
            "description": "",
            "description_tooltip": null,
            "layout": "IPY_MODEL_65059aab3e914e59b143a3d116c91ec8",
            "placeholder": "​",
            "style": "IPY_MODEL_b135eb690c1447108c7d19a156ecf32d",
            "value": " 133M/133M [00:07&lt;00:00, 22.9MB/s]"
          }
        },
        "df4035681c4d48de98468e06961251df": {
          "model_module": "@jupyter-widgets/base",
          "model_name": "LayoutModel",
          "model_module_version": "1.2.0",
          "state": {
            "_model_module": "@jupyter-widgets/base",
            "_model_module_version": "1.2.0",
            "_model_name": "LayoutModel",
            "_view_count": null,
            "_view_module": "@jupyter-widgets/base",
            "_view_module_version": "1.2.0",
            "_view_name": "LayoutView",
            "align_content": null,
            "align_items": null,
            "align_self": null,
            "border": null,
            "bottom": null,
            "display": null,
            "flex": null,
            "flex_flow": null,
            "grid_area": null,
            "grid_auto_columns": null,
            "grid_auto_flow": null,
            "grid_auto_rows": null,
            "grid_column": null,
            "grid_gap": null,
            "grid_row": null,
            "grid_template_areas": null,
            "grid_template_columns": null,
            "grid_template_rows": null,
            "height": null,
            "justify_content": null,
            "justify_items": null,
            "left": null,
            "margin": null,
            "max_height": null,
            "max_width": null,
            "min_height": null,
            "min_width": null,
            "object_fit": null,
            "object_position": null,
            "order": null,
            "overflow": null,
            "overflow_x": null,
            "overflow_y": null,
            "padding": null,
            "right": null,
            "top": null,
            "visibility": null,
            "width": null
          }
        },
        "3abebd4f32264247a3c4389fa0ecaf34": {
          "model_module": "@jupyter-widgets/base",
          "model_name": "LayoutModel",
          "model_module_version": "1.2.0",
          "state": {
            "_model_module": "@jupyter-widgets/base",
            "_model_module_version": "1.2.0",
            "_model_name": "LayoutModel",
            "_view_count": null,
            "_view_module": "@jupyter-widgets/base",
            "_view_module_version": "1.2.0",
            "_view_name": "LayoutView",
            "align_content": null,
            "align_items": null,
            "align_self": null,
            "border": null,
            "bottom": null,
            "display": null,
            "flex": null,
            "flex_flow": null,
            "grid_area": null,
            "grid_auto_columns": null,
            "grid_auto_flow": null,
            "grid_auto_rows": null,
            "grid_column": null,
            "grid_gap": null,
            "grid_row": null,
            "grid_template_areas": null,
            "grid_template_columns": null,
            "grid_template_rows": null,
            "height": null,
            "justify_content": null,
            "justify_items": null,
            "left": null,
            "margin": null,
            "max_height": null,
            "max_width": null,
            "min_height": null,
            "min_width": null,
            "object_fit": null,
            "object_position": null,
            "order": null,
            "overflow": null,
            "overflow_x": null,
            "overflow_y": null,
            "padding": null,
            "right": null,
            "top": null,
            "visibility": null,
            "width": null
          }
        },
        "94f8b51655174ed68921a42b2d49656e": {
          "model_module": "@jupyter-widgets/controls",
          "model_name": "DescriptionStyleModel",
          "model_module_version": "1.5.0",
          "state": {
            "_model_module": "@jupyter-widgets/controls",
            "_model_module_version": "1.5.0",
            "_model_name": "DescriptionStyleModel",
            "_view_count": null,
            "_view_module": "@jupyter-widgets/base",
            "_view_module_version": "1.2.0",
            "_view_name": "StyleView",
            "description_width": ""
          }
        },
        "d5be4545a47e4d6390f34577a1aa62fc": {
          "model_module": "@jupyter-widgets/base",
          "model_name": "LayoutModel",
          "model_module_version": "1.2.0",
          "state": {
            "_model_module": "@jupyter-widgets/base",
            "_model_module_version": "1.2.0",
            "_model_name": "LayoutModel",
            "_view_count": null,
            "_view_module": "@jupyter-widgets/base",
            "_view_module_version": "1.2.0",
            "_view_name": "LayoutView",
            "align_content": null,
            "align_items": null,
            "align_self": null,
            "border": null,
            "bottom": null,
            "display": null,
            "flex": null,
            "flex_flow": null,
            "grid_area": null,
            "grid_auto_columns": null,
            "grid_auto_flow": null,
            "grid_auto_rows": null,
            "grid_column": null,
            "grid_gap": null,
            "grid_row": null,
            "grid_template_areas": null,
            "grid_template_columns": null,
            "grid_template_rows": null,
            "height": null,
            "justify_content": null,
            "justify_items": null,
            "left": null,
            "margin": null,
            "max_height": null,
            "max_width": null,
            "min_height": null,
            "min_width": null,
            "object_fit": null,
            "object_position": null,
            "order": null,
            "overflow": null,
            "overflow_x": null,
            "overflow_y": null,
            "padding": null,
            "right": null,
            "top": null,
            "visibility": null,
            "width": null
          }
        },
        "2821ff63af644a369b3769054f605c57": {
          "model_module": "@jupyter-widgets/controls",
          "model_name": "ProgressStyleModel",
          "model_module_version": "1.5.0",
          "state": {
            "_model_module": "@jupyter-widgets/controls",
            "_model_module_version": "1.5.0",
            "_model_name": "ProgressStyleModel",
            "_view_count": null,
            "_view_module": "@jupyter-widgets/base",
            "_view_module_version": "1.2.0",
            "_view_name": "StyleView",
            "bar_color": null,
            "description_width": ""
          }
        },
        "65059aab3e914e59b143a3d116c91ec8": {
          "model_module": "@jupyter-widgets/base",
          "model_name": "LayoutModel",
          "model_module_version": "1.2.0",
          "state": {
            "_model_module": "@jupyter-widgets/base",
            "_model_module_version": "1.2.0",
            "_model_name": "LayoutModel",
            "_view_count": null,
            "_view_module": "@jupyter-widgets/base",
            "_view_module_version": "1.2.0",
            "_view_name": "LayoutView",
            "align_content": null,
            "align_items": null,
            "align_self": null,
            "border": null,
            "bottom": null,
            "display": null,
            "flex": null,
            "flex_flow": null,
            "grid_area": null,
            "grid_auto_columns": null,
            "grid_auto_flow": null,
            "grid_auto_rows": null,
            "grid_column": null,
            "grid_gap": null,
            "grid_row": null,
            "grid_template_areas": null,
            "grid_template_columns": null,
            "grid_template_rows": null,
            "height": null,
            "justify_content": null,
            "justify_items": null,
            "left": null,
            "margin": null,
            "max_height": null,
            "max_width": null,
            "min_height": null,
            "min_width": null,
            "object_fit": null,
            "object_position": null,
            "order": null,
            "overflow": null,
            "overflow_x": null,
            "overflow_y": null,
            "padding": null,
            "right": null,
            "top": null,
            "visibility": null,
            "width": null
          }
        },
        "b135eb690c1447108c7d19a156ecf32d": {
          "model_module": "@jupyter-widgets/controls",
          "model_name": "DescriptionStyleModel",
          "model_module_version": "1.5.0",
          "state": {
            "_model_module": "@jupyter-widgets/controls",
            "_model_module_version": "1.5.0",
            "_model_name": "DescriptionStyleModel",
            "_view_count": null,
            "_view_module": "@jupyter-widgets/base",
            "_view_module_version": "1.2.0",
            "_view_name": "StyleView",
            "description_width": ""
          }
        }
      }
    },
    "accelerator": "GPU",
    "gpuClass": "standard"
  },
  "cells": [
    {
      "cell_type": "markdown",
      "metadata": {
        "id": "CcN_5-RDWeqV"
      },
      "source": [
        "# Classificação de Texto e Reranqueadores\n",
        "\n",
        "Desenvolvimento de um buscador Simples: Booleano, TF-IDF, BM25\n",
        "\n",
        "Tópicos abordados: Indexação, Bag-of-Words, TF-IDF, BM25\n",
        "\n",
        "Aula 1 - [Unicamp - IA368DD: Deep Learning aplicado a sistemas de busca.](https://www.cpg.feec.unicamp.br/cpg/lista/caderno_horario_show.php?id=1779)\n",
        "\n",
        "Autor: Marcus Vinícius Borela de Castro\n",
        "\n",
        "[Repositório no github](https://github.com/marcusborela/deep_learning_em_buscas_unicamp)\n",
        "\n",
        "[Link para chat de apoio com WebChatGPT](https://github.com/marcusborela/deep_learning_em_buscas_unicamp/blob/main/chat/CG%20uso%20aula_2_classificacao_de_texto_e_reranqueador.md)"
      ]
    },
    {
      "cell_type": "markdown",
      "metadata": {
        "id": "ti1aFWTVgejM"
      },
      "source": [
        "[![Open In Colab latest github version](https://colab.research.google.com/assets/colab-badge.svg)](https://colab.research.google.com/github/marcusborela/deep_learning_em_buscas_unicamp/blob/main/code/aula_2_classificacao_de_texto_e_reranqueador.ipynb) [Open In Colab latest github version]"
      ]
    },
    {
      "cell_type": "markdown",
      "metadata": {
        "id": "VQxzYKGgMqce"
      },
      "source": [
        "# Enunciado exercício\n",
        "\n",
        "Aula 2 - Notebook: Classificação de Texto e Reranqueadores\n",
        "\n",
        "Data de entrega: 15 de mar., 23:59\n",
        "\n",
        "Reranqueamento usando um modelo estilo-BERT com o treinamento no dataset do MS MARCO e avaliação no TREC-DL 2020\n",
        "\n",
        "\n",
        "O treinamento é igual ao de um classificador binário, que será feito por vocês.\n",
        "\n",
        "\n",
        "O que muda é a forma de avaliação: reranqueadores precisam ser alimentados com documentos candidatos (ex: trazidos pelo BM25 - exercício aula 1)\n",
        "\n",
        "\n",
        "Sugestões:\n",
        "1. usar este dataset reduzido do MS MARCO como treinamento, com 10k triplas (query, passagem relevante, passagem não-relevante):\n",
        "https://storage.googleapis.com/unicamp-dl/ia368dd_2023s1/msmarco/msmarco_triples.train.tiny.tsv\n",
        "\n",
        "\n",
        "2. usar miniLM (modelo BERT pequeno, 5x mais rapido) para começar o finetuning: https://huggingface.co/nreimers/MiniLM-L6-H384-uncased pois oferece um bom compromisso entre qualidade e velocidade.\n",
        "\n",
        "\n",
        "3. usar este notebook como base\n",
        "Análise de sentimentos (dataset IMDB) usando um modelo estilo BERT: https://colab.research.google.com/drive/10etP7Lb915EC-uEuf1IKC8DYkyg_om6-?usp=sharing\n",
        "\n",
        "\n",
        "4. para debug: usar este minilm para ver se consegue ndcg ~0.70: https://huggingface.co/cross-encoder/ms-marco-MiniLM-L-6-v2Sugestão: fazer overfit em um batch: treinar por 200 epocas um unico batch, e ver se consegue loss=0, e acuracia=100%, ou ndcg=1\n",
        "\n"
      ]
    },
    {
      "cell_type": "markdown",
      "source": [
        "# Organizando o ambiente"
      ],
      "metadata": {
        "id": "BmRLgbyi_Dvg"
      }
    },
    {
      "cell_type": "code",
      "source": [
        "gpu_info = !nvidia-smi\n",
        "gpu_info = '\\n'.join(gpu_info)\n",
        "if gpu_info.find('failed') >= 0:\n",
        "  print('Not connected to a GPU')\n",
        "else:\n",
        "  print(gpu_info)"
      ],
      "metadata": {
        "colab": {
          "base_uri": "https://localhost:8080/"
        },
        "id": "Ns_pq59lAHke",
        "outputId": "61e06197-0b76-4d33-eec6-eb4d69ad745d"
      },
      "execution_count": null,
      "outputs": [
        {
          "output_type": "stream",
          "name": "stdout",
          "text": [
            "Sun Mar 12 20:23:08 2023       \n",
            "+-----------------------------------------------------------------------------+\n",
            "| NVIDIA-SMI 525.85.12    Driver Version: 525.85.12    CUDA Version: 12.0     |\n",
            "|-------------------------------+----------------------+----------------------+\n",
            "| GPU  Name        Persistence-M| Bus-Id        Disp.A | Volatile Uncorr. ECC |\n",
            "| Fan  Temp  Perf  Pwr:Usage/Cap|         Memory-Usage | GPU-Util  Compute M. |\n",
            "|                               |                      |               MIG M. |\n",
            "|===============================+======================+======================|\n",
            "|   0  Tesla T4            Off  | 00000000:00:04.0 Off |                    0 |\n",
            "| N/A   42C    P0    26W /  70W |      0MiB / 15360MiB |      0%      Default |\n",
            "|                               |                      |                  N/A |\n",
            "+-------------------------------+----------------------+----------------------+\n",
            "                                                                               \n",
            "+-----------------------------------------------------------------------------+\n",
            "| Processes:                                                                  |\n",
            "|  GPU   GI   CI        PID   Type   Process name                  GPU Memory |\n",
            "|        ID   ID                                                   Usage      |\n",
            "|=============================================================================|\n",
            "|  No running processes found                                                 |\n",
            "+-----------------------------------------------------------------------------+\n"
          ]
        }
      ]
    },
    {
      "cell_type": "code",
      "source": [
        "from psutil import virtual_memory\n"
      ],
      "metadata": {
        "id": "DKAZ8CWCAM3-"
      },
      "execution_count": null,
      "outputs": []
    },
    {
      "cell_type": "code",
      "source": [
        "def mostra_memoria(lista_mem=['cpu']):\n",
        "  \"\"\"\n",
        "  Esta função exibe informações de memória da CPU e/ou GPU, conforme parâmetros fornecidos.\n",
        "\n",
        "  Parâmetros:\n",
        "  -----------\n",
        "  lista_mem : list, opcional\n",
        "      Lista com strings 'cpu' e/ou 'gpu'. \n",
        "      'cpu' - exibe informações de memória da CPU.\n",
        "      'gpu' - exibe informações de memória da GPU (se disponível).\n",
        "      O valor padrão é ['cpu'].\n",
        "\n",
        "  Saída:\n",
        "  -------\n",
        "  A função não retorna nada, apenas exibe as informações na tela.\n",
        "\n",
        "  Exemplo de uso:\n",
        "  ---------------\n",
        "  Para exibir informações de memória da CPU:\n",
        "      mostra_memoria(['cpu'])\n",
        "\n",
        "  Para exibir informações de memória da CPU e GPU:\n",
        "      mostra_memoria(['cpu', 'gpu'])\n",
        "  \n",
        "  Autor: Marcus Vinícius Borela de Castro\n",
        "\n",
        "  \"\"\"  \n",
        "  if 'cpu' in lista_mem:\n",
        "    vm = virtual_memory()\n",
        "    ram={}\n",
        "    ram['total']=round(vm.total / 1e9,2)\n",
        "    ram['available']=round(virtual_memory().available / 1e9,2)\n",
        "    # ram['percent']=round(virtual_memory().percent / 1e9,2)\n",
        "    ram['used']=round(virtual_memory().used / 1e9,2)\n",
        "    ram['free']=round(virtual_memory().free / 1e9,2)\n",
        "    ram['active']=round(virtual_memory().active / 1e9,2)\n",
        "    ram['inactive']=round(virtual_memory().inactive / 1e9,2)\n",
        "    ram['buffers']=round(virtual_memory().buffers / 1e9,2)\n",
        "    ram['cached']=round(virtual_memory().cached/1e9 ,2)\n",
        "    print(f\"Your runtime RAM in gb: \\n total {ram['total']}\\n available {ram['available']}\\n used {ram['used']}\\n free {ram['free']}\\n cached {ram['cached']}\\n buffers {ram['buffers']}\")\n",
        "    print('/nGPU')\n",
        "    gpu_info = !nvidia-smi\n",
        "  if 'gpu' in lista_mem:\n",
        "    gpu_info = '\\n'.join(gpu_info)\n",
        "    if gpu_info.find('failed') >= 0:\n",
        "      print('Not connected to a GPU')\n",
        "    else:\n",
        "      print(gpu_info)\n"
      ],
      "metadata": {
        "id": "9XgIWvkkH-kn"
      },
      "execution_count": null,
      "outputs": []
    },
    {
      "cell_type": "code",
      "source": [
        "mostra_memoria(['cpu'])"
      ],
      "metadata": {
        "colab": {
          "base_uri": "https://localhost:8080/"
        },
        "id": "3dri9iiMAvCT",
        "outputId": "77a4c731-eba3-4ec1-b3ab-a2cead569762"
      },
      "execution_count": null,
      "outputs": [
        {
          "output_type": "stream",
          "name": "stdout",
          "text": [
            "Your runtime RAM in gb: \n",
            " total 27.33\n",
            " available 26.14\n",
            " used 0.79\n",
            " free 10.24\n",
            " cached 15.83\n",
            " buffers 0.47\n",
            "/nGPU\n"
          ]
        }
      ]
    },
    {
      "cell_type": "markdown",
      "source": [
        "### Vinculando pasta do google drive para salvar dados"
      ],
      "metadata": {
        "id": "r9xRdgUGMPgh"
      }
    },
    {
      "cell_type": "code",
      "source": [
        "import os"
      ],
      "metadata": {
        "id": "IsJiN6H8K6pe"
      },
      "execution_count": null,
      "outputs": []
    },
    {
      "cell_type": "code",
      "source": [
        "from google.colab import drive\n",
        "drive.mount('/content/drive')"
      ],
      "metadata": {
        "id": "ae-Iy2oz_9os",
        "outputId": "ccfec3a4-e682-40dd-cf86-07137f2fd06f",
        "colab": {
          "base_uri": "https://localhost:8080/"
        }
      },
      "execution_count": null,
      "outputs": [
        {
          "output_type": "stream",
          "name": "stdout",
          "text": [
            "Drive already mounted at /content/drive; to attempt to forcibly remount, call drive.mount(\"/content/drive\", force_remount=True).\n"
          ]
        }
      ]
    },
    {
      "cell_type": "code",
      "source": [
        "current_dir = os.getcwd()\n",
        "print(\"Current directory:\", current_dir)"
      ],
      "metadata": {
        "id": "7GYGL4MV_yhQ",
        "outputId": "bac45b9f-f2ca-4e0d-f514-ae7948ce5205",
        "colab": {
          "base_uri": "https://localhost:8080/"
        }
      },
      "execution_count": null,
      "outputs": [
        {
          "output_type": "stream",
          "name": "stdout",
          "text": [
            "Current directory: /content\n"
          ]
        }
      ]
    },
    {
      "cell_type": "markdown",
      "source": [
        "## Controle de estágio de execução do caderno\n",
        "\n",
        "O desenvolvimento passa por fases: estagio_1, dados, treino, estagio_2, completo\n",
        "\n",
        "A ideia é bypassar algumas execuções se não estiver na fase atual do projeto.\n",
        "\n",
        "lista_fase_atual "
      ],
      "metadata": {
        "id": "h-PITYlDaJYF"
      }
    },
    {
      "cell_type": "code",
      "source": [
        "# lista_estado_atual = ['estagio_1', 'dados', 'treino', 'estagio_2']\n",
        "lista_estado_atual = ['dados']"
      ],
      "metadata": {
        "id": "ukuG3WAMndbP"
      },
      "execution_count": null,
      "outputs": []
    },
    {
      "cell_type": "markdown",
      "metadata": {
        "id": "achvQ78sa3p3"
      },
      "source": [
        "## Fixando as seeds"
      ]
    },
    {
      "cell_type": "code",
      "source": [
        "import random\n",
        "import torch\n",
        "import torch.nn.functional as F\n",
        "import numpy as np"
      ],
      "metadata": {
        "id": "AG9RjMb8Qlot"
      },
      "execution_count": null,
      "outputs": []
    },
    {
      "cell_type": "code",
      "execution_count": null,
      "metadata": {
        "id": "bkETIyWGkbOf"
      },
      "outputs": [],
      "source": [
        "def inicializa_seed(num_semente:int=123):\n",
        "  \"\"\"\n",
        "  Inicializa as sementes para garantir a reprodutibilidade dos resultados do modelo.\n",
        "  Essa é uma prática recomendada, já que a geração de números aleatórios pode influenciar os resultados do modelo.\n",
        "  Além disso, a função também configura as sementes da GPU para garantir a reprodutibilidade quando se utiliza aceleração por GPU. \n",
        "  \n",
        "  Args:\n",
        "      num_semente (int): número da semente a ser utilizada para inicializar as sementes das bibliotecas.\n",
        "  \n",
        "  References:\n",
        "      http://nlp.seas.harvard.edu/2018/04/03/attention.html\n",
        "      https://github.com/CyberZHG/torch-multi-head-attention/blob/master/torch_multi_head_attention/multi_head_attention.py#L15\n",
        "  \n",
        "  Autor: Marcus Vinícius Borela de Castro\n",
        "  \"\"\"\n",
        "  # Define as sementes das bibliotecas random, numpy e pytorch\n",
        "  random.seed(num_semente)\n",
        "  np.random.seed(num_semente)\n",
        "  torch.manual_seed(num_semente)\n",
        "  \n",
        "  # Define as sementes da GPU\n",
        "  torch.backends.cudnn.deterministic = True\n",
        "  torch.backends.cudnn.benchmark = False\n",
        "\n",
        "  #torch.cuda.manual_seed(num_semente)\n",
        "  #Cuda algorithms\n",
        "  #torch.backends.cudnn.deterministic = True\n"
      ]
    },
    {
      "cell_type": "code",
      "execution_count": null,
      "metadata": {
        "id": "ViMcw_kVkbOf"
      },
      "outputs": [],
      "source": [
        "num_semente=123\n",
        "inicializa_seed(num_semente)"
      ]
    },
    {
      "cell_type": "markdown",
      "metadata": {
        "id": "hABkY5GRtH9H"
      },
      "source": [
        "## Definindo Hiperparâmetros iniciais"
      ]
    },
    {
      "cell_type": "code",
      "execution_count": null,
      "metadata": {
        "id": "6OOO6ogjtG3Y"
      },
      "outputs": [],
      "source": [
        "def inicia_hparam()->dict:\n",
        "  # Inicialização dos parâmetros\n",
        "  hparam = {}\n",
        "  hparam[\"num_workers_dataloader\"] = 0\n",
        "  hparam[\"device\"] = torch.device('cuda:0' if torch.cuda.is_available() else 'cpu')\n",
        "  if torch.cuda.is_available(): print(torch. cuda. get_device_name(hparam[\"device\"]))    \n",
        "  return hparam"
      ]
    },
    {
      "cell_type": "code",
      "execution_count": null,
      "metadata": {
        "colab": {
          "base_uri": "https://localhost:8080/"
        },
        "id": "MkTH4FkstTFn",
        "outputId": "706d81ab-aacf-40e8-ccd7-bd51a5ad2417"
      },
      "outputs": [
        {
          "output_type": "stream",
          "name": "stdout",
          "text": [
            "Tesla T4\n"
          ]
        }
      ],
      "source": [
        "hparam=inicia_hparam()"
      ]
    },
    {
      "cell_type": "markdown",
      "metadata": {
        "id": "8v2gtkEPhA0t"
      },
      "source": [
        "## Preparando para debug e display"
      ]
    },
    {
      "cell_type": "code",
      "source": [
        "import pandas as pd"
      ],
      "metadata": {
        "id": "BJ6S4P5Hw4iG"
      },
      "execution_count": null,
      "outputs": []
    },
    {
      "cell_type": "code",
      "source": [
        "mostra_memoria(('cpu','gpu'))"
      ],
      "metadata": {
        "colab": {
          "base_uri": "https://localhost:8080/"
        },
        "id": "8Rk4ytk_QVXs",
        "outputId": "8a107706-3cfa-4ac9-f352-51db64adb1bc"
      },
      "execution_count": null,
      "outputs": [
        {
          "output_type": "stream",
          "name": "stdout",
          "text": [
            "Your runtime RAM in gb: \n",
            " total 27.33\n",
            " available 25.68\n",
            " used 1.25\n",
            " free 9.78\n",
            " cached 15.83\n",
            " buffers 0.47\n",
            "/nGPU\n",
            "Sun Mar 12 20:23:21 2023       \n",
            "+-----------------------------------------------------------------------------+\n",
            "| NVIDIA-SMI 525.85.12    Driver Version: 525.85.12    CUDA Version: 12.0     |\n",
            "|-------------------------------+----------------------+----------------------+\n",
            "| GPU  Name        Persistence-M| Bus-Id        Disp.A | Volatile Uncorr. ECC |\n",
            "| Fan  Temp  Perf  Pwr:Usage/Cap|         Memory-Usage | GPU-Util  Compute M. |\n",
            "|                               |                      |               MIG M. |\n",
            "|===============================+======================+======================|\n",
            "|   0  Tesla T4            Off  | 00000000:00:04.0 Off |                    0 |\n",
            "| N/A   43C    P0    27W /  70W |      3MiB / 15360MiB |      0%      Default |\n",
            "|                               |                      |                  N/A |\n",
            "+-------------------------------+----------------------+----------------------+\n",
            "                                                                               \n",
            "+-----------------------------------------------------------------------------+\n",
            "| Processes:                                                                  |\n",
            "|  GPU   GI   CI        PID   Type   Process name                  GPU Memory |\n",
            "|        ID   ID                                                   Usage      |\n",
            "|=============================================================================|\n",
            "|  No running processes found                                                 |\n",
            "+-----------------------------------------------------------------------------+\n"
          ]
        }
      ]
    },
    {
      "cell_type": "code",
      "source": [
        "!pip install transformers -q"
      ],
      "metadata": {
        "id": "kebsl1uQDFUf"
      },
      "execution_count": null,
      "outputs": []
    },
    {
      "cell_type": "code",
      "source": [
        "import transformers"
      ],
      "metadata": {
        "id": "rnR2kDS_2FgZ"
      },
      "execution_count": null,
      "outputs": []
    },
    {
      "cell_type": "code",
      "source": [
        "mostra_memoria(('cpu','gpu'))"
      ],
      "metadata": {
        "colab": {
          "base_uri": "https://localhost:8080/"
        },
        "id": "DaUCMGdD2vkX",
        "outputId": "0ff274a8-576b-4389-d41d-7d86aa390463"
      },
      "execution_count": null,
      "outputs": [
        {
          "output_type": "stream",
          "name": "stdout",
          "text": [
            "Your runtime RAM in gb: \n",
            " total 27.33\n",
            " available 25.98\n",
            " used 0.95\n",
            " free 10.07\n",
            " cached 15.83\n",
            " buffers 0.47\n",
            "/nGPU\n",
            "Sun Mar 12 20:23:31 2023       \n",
            "+-----------------------------------------------------------------------------+\n",
            "| NVIDIA-SMI 525.85.12    Driver Version: 525.85.12    CUDA Version: 12.0     |\n",
            "|-------------------------------+----------------------+----------------------+\n",
            "| GPU  Name        Persistence-M| Bus-Id        Disp.A | Volatile Uncorr. ECC |\n",
            "| Fan  Temp  Perf  Pwr:Usage/Cap|         Memory-Usage | GPU-Util  Compute M. |\n",
            "|                               |                      |               MIG M. |\n",
            "|===============================+======================+======================|\n",
            "|   0  Tesla T4            Off  | 00000000:00:04.0 Off |                    0 |\n",
            "| N/A   42C    P8    10W /  70W |      3MiB / 15360MiB |      0%      Default |\n",
            "|                               |                      |                  N/A |\n",
            "+-------------------------------+----------------------+----------------------+\n",
            "                                                                               \n",
            "+-----------------------------------------------------------------------------+\n",
            "| Processes:                                                                  |\n",
            "|  GPU   GI   CI        PID   Type   Process name                  GPU Memory |\n",
            "|        ID   ID                                                   Usage      |\n",
            "|=============================================================================|\n",
            "|  No running processes found                                                 |\n",
            "+-----------------------------------------------------------------------------+\n"
          ]
        }
      ]
    },
    {
      "cell_type": "markdown",
      "metadata": {
        "id": "4ZEqQ7mKg5fs"
      },
      "source": [
        "https://zohaib.me/debugging-in-google-collab-notebook/"
      ]
    },
    {
      "cell_type": "code",
      "execution_count": null,
      "metadata": {
        "id": "LjrlXHq1hC8n"
      },
      "outputs": [],
      "source": [
        "!pip install -Uqq ipdb\n",
        "import ipdb\n",
        "# %pdb off # desativa debug em exceção\n",
        "# %pdb on  # ativa debug em exceção\n",
        "# ipdb.set_trace(context=8)  para execução nesse ponto"
      ]
    },
    {
      "cell_type": "code",
      "source": [
        "def config_display():\n",
        "  \"\"\"\n",
        "  Esta função configura as opções de display do Pandas.\n",
        "\n",
        "  Autor: Marcus Vinícius Borela de Castro\n",
        "  \"\"\"\n",
        "\n",
        "  # Configurando formato saída Pandas\n",
        "  # define o número máximo de colunas que serão exibidas\n",
        "  pd.options.display.max_columns = None\n",
        "\n",
        "  # define a largura máxima de uma linha\n",
        "  pd.options.display.width = 1000\n",
        "\n",
        "  # define o número máximo de linhas que serão exibidas\n",
        "  pd.options.display.max_rows = 10\n",
        "\n",
        "  # define o número máximo de caracteres por coluna\n",
        "  pd.options.display.max_colwidth = 50\n",
        "\n",
        "  # se deve exibir o número de linhas e colunas de um DataFrame.\n",
        "  pd.options.display.show_dimensions = True\n",
        "\n",
        "  # número de dígitos após a vírgula decimal a serem exibidos para floats.\n",
        "  pd.options.display.precision = 2\n"
      ],
      "metadata": {
        "id": "wQ5pmlOHxHhk"
      },
      "execution_count": null,
      "outputs": []
    },
    {
      "cell_type": "code",
      "source": [
        "def config_debug():\n",
        "  \"\"\"\n",
        "  Esta função configura as opções de debug do PyTorch e dos pacotes\n",
        "  transformers e datasets.\n",
        "\n",
        "  Autor: Marcus Vinícius Borela de Castro\n",
        "  \"\"\"\n",
        "\n",
        "  # Define opções de impressão de tensores para o modo científico\n",
        "  torch.set_printoptions(sci_mode=True) \n",
        "  \"\"\"\n",
        "    Significa que valores muito grandes ou muito pequenos são mostrados em notação científica.\n",
        "    Por exemplo, em vez de imprimir o número 0.0000012345 como 0.0000012345, \n",
        "    ele seria impresso como 1.2345e-06. Isso é útil em situações em que os valores dos tensores \n",
        "    envolvidos nas operações são muito grandes ou pequenos, e a notação científica permite \n",
        "    uma melhor compreensão dos números envolvidos.  \n",
        "  \"\"\"\n",
        "\n",
        "  # Habilita detecção de anomalias no autograd do PyTorch\n",
        "  torch.autograd.set_detect_anomaly(True)\n",
        "  \"\"\"\n",
        "    Permite identificar operações que podem causar problemas de estabilidade numérica, \n",
        "    como gradientes explodindo ou desaparecendo. Quando essa opção é ativada, \n",
        "    o PyTorch verifica se há operações que geram valores NaN ou infinitos nos tensores \n",
        "    envolvidos no cálculo do gradiente. Se for detectado um valor anômalo, o PyTorch \n",
        "    interrompe a execução e gera uma exceção, permitindo que o erro seja corrigido \n",
        "    antes que se torne um problema maior.\n",
        "\n",
        "    É importante notar que a detecção de anomalias pode ter um impacto significativo \n",
        "    no desempenho, especialmente em modelos grandes e complexos. Por esse motivo,\n",
        "    ela deve ser usada com cautela e apenas para depuração.\n",
        "  \"\"\"\n",
        "\n",
        "  # Configura variável de ambiente para habilitar a execução síncrona (bloqueante) das chamadas da API do CUDA.\n",
        "  os.environ['CUDA_LAUNCH_BLOCKING'] = '1'\n",
        "  \"\"\"\n",
        "    o Python aguarda o término da execução de uma chamada da API do CUDA antes de executar a próxima chamada. \n",
        "    Isso é útil para depurar erros no código que envolve operações na GPU, pois permite que o erro seja capturado \n",
        "    no momento em que ocorre, e não depois de uma sequência de operações que pode tornar a origem do erro mais difícil de determinar.\n",
        "    No entanto, é importante lembrar que esse modo de execução é significativamente mais lento do que a execução assíncrona, \n",
        "    que é o comportamento padrão do CUDA. Por isso, é recomendado utilizar esse comando apenas em situações de depuração \n",
        "    e removê-lo após a solução do problema.\n",
        "  \"\"\"\n",
        "\n",
        "  # Define o nível de verbosity do pacote transformers para info\n",
        "  transformers.utils.logging.set_verbosity_info() \n",
        "  \n",
        "  \n",
        "  \"\"\"\n",
        "    Define o nível de detalhamento das mensagens de log geradas pela biblioteca Hugging Face Transformers \n",
        "    para o nível info. Isso significa que a biblioteca irá imprimir mensagens de log informativas sobre\n",
        "    o andamento da execução, tais como tempo de execução, tamanho de batches, etc.\n",
        "\n",
        "    Essas informações podem ser úteis para entender o que está acontecendo durante a execução da tarefa \n",
        "    e auxiliar no processo de debug. É importante notar que, em alguns casos, a quantidade de informações\n",
        "    geradas pode ser muito grande, o que pode afetar o desempenho do sistema e dificultar a visualização\n",
        "    das informações relevantes. Por isso, é importante ajustar o nível de detalhamento de acordo com a \n",
        "    necessidade de cada tarefa.\n",
        "  \n",
        "    Caso queira reduzir a quantidade de mensagens, comentar a linha acima e \n",
        "      descomentar as duas linhas abaixo, para definir o nível de verbosity como error ou warning\n",
        "  \n",
        "    transformers.utils.logging.set_verbosity_error()\n",
        "    transformers.utils.logging.set_verbosity_warning()\n",
        "  \"\"\"\n",
        "\n",
        "\n",
        "  # Define o modo verbose do xmode, que é utilizado no debug\n",
        "  %xmode Verbose \n",
        "\n",
        "  \"\"\"\n",
        "    Comando usado no Jupyter Notebook para controlar o modo de exibição das informações de exceções.\n",
        "    O modo verbose é um modo detalhado que exibe informações adicionais ao imprimir as exceções.\n",
        "    Ele inclui as informações de pilha de chamadas completa e valores de variáveis locais e globais \n",
        "    no momento da exceção. Isso pode ser útil para depurar e encontrar a causa de exceções em seu código.\n",
        "    Ao usar %xmode Verbose, as informações de exceção serão impressas com mais detalhes e informações adicionais serão incluídas.\n",
        "\n",
        "    Caso queira desabilitar o modo verbose e utilizar o modo plain, \n",
        "    comentar a linha acima e descomentar a linha abaixo:\n",
        "    %xmode Plain\n",
        "  \"\"\"\n",
        "\n",
        "  \"\"\"\n",
        "    Dica:\n",
        "    1.  pdb (Python Debugger)\n",
        "      Quando ocorre uma exceção em uma parte do código, o programa para a execução e exibe uma mensagem de erro \n",
        "      com informações sobre a exceção, como a linha do código em que ocorreu o erro e o tipo da exceção.\n",
        "\n",
        "      Se você estiver depurando o código e quiser examinar o estado das variáveis ​​e executar outras operações \n",
        "      no momento em que a exceção ocorreu, pode usar o pdb (Python Debugger). Para isso, é preciso colocar o comando %debug \n",
        "      logo após ocorrer a exceção. Isso fará com que o programa pare na linha em que ocorreu a exceção e abra o pdb,\n",
        "      permitindo que você explore o estado das variáveis, examine a pilha de chamadas e execute outras operações para depurar o código.\n",
        "\n",
        "\n",
        "    2. ipdb\n",
        "      O ipdb é um depurador interativo para o Python que oferece recursos mais avançados do que o pdb,\n",
        "      incluindo a capacidade de navegar pelo código fonte enquanto depura.\n",
        "      \n",
        "      Você pode começar a depurar seu código inserindo o comando ipdb.set_trace() em qualquer lugar do \n",
        "      seu código onde deseja pausar a execução e começar a depurar. Quando a execução chegar nessa linha, \n",
        "      o depurador entrará em ação, permitindo que você examine o estado atual do seu programa e execute \n",
        "      comandos para investigar o comportamento.\n",
        "\n",
        "      Durante a depuração, você pode usar comandos:\n",
        "        next (para executar a próxima linha de código), \n",
        "        step (para entrar em uma função chamada na próxima linha de código) \n",
        "        continue (para continuar a execução normalmente até o próximo ponto de interrupção).\n",
        "\n",
        "      Ao contrário do pdb, o ipdb é um depurador interativo que permite navegar pelo código fonte em que\n",
        "      está trabalhando enquanto depura, permitindo que você inspecione variáveis, defina pontos de interrupção\n",
        "      adicionais e até mesmo execute expressões Python no contexto do seu programa.\n",
        "  \"\"\"\n"
      ],
      "metadata": {
        "id": "b2tDy72ATNHs"
      },
      "execution_count": null,
      "outputs": []
    },
    {
      "cell_type": "code",
      "source": [
        "config_display()"
      ],
      "metadata": {
        "id": "Tb4aqtcExR84"
      },
      "execution_count": null,
      "outputs": []
    },
    {
      "cell_type": "code",
      "execution_count": null,
      "metadata": {
        "id": "-5Bq4043fkfh",
        "colab": {
          "base_uri": "https://localhost:8080/"
        },
        "outputId": "1609f9a4-b692-4a0d-9a5b-3b2401648b76"
      },
      "outputs": [
        {
          "output_type": "stream",
          "name": "stdout",
          "text": [
            "Exception reporting mode: Verbose\n"
          ]
        }
      ],
      "source": [
        "config_debug()"
      ]
    },
    {
      "cell_type": "markdown",
      "metadata": {
        "id": "7wEkY_g7kgp-"
      },
      "source": [
        "## Rastro (neptune.ai)\n",
        "\n",
        "Gerado rastro da execução no Neptune (detalhes no artigo [Rastro-DM: Mineração de Dados com Rastro](https://revista.tcu.gov.br/ojs/index.php/RTCU/article/view/1664))\n"
      ]
    },
    {
      "cell_type": "markdown",
      "metadata": {
        "id": "anygzoSagczS"
      },
      "source": [
        "### Importação de libraries para Rastro"
      ]
    },
    {
      "cell_type": "code",
      "source": [
        "!pip install neptune-client"
      ],
      "metadata": {
        "colab": {
          "base_uri": "https://localhost:8080/"
        },
        "id": "alyRE86Id40N",
        "outputId": "73c9038e-3eff-422a-dfbb-9164c09c546b"
      },
      "execution_count": null,
      "outputs": [
        {
          "output_type": "stream",
          "name": "stdout",
          "text": [
            "Looking in indexes: https://pypi.org/simple, https://us-python.pkg.dev/colab-wheels/public/simple/\n",
            "Requirement already satisfied: neptune-client in /usr/local/lib/python3.9/dist-packages (1.0.2)\n",
            "Requirement already satisfied: six>=1.12.0 in /usr/local/lib/python3.9/dist-packages (from neptune-client) (1.15.0)\n",
            "Requirement already satisfied: Pillow>=1.1.6 in /usr/local/lib/python3.9/dist-packages (from neptune-client) (8.4.0)\n",
            "Requirement already satisfied: future>=0.17.1 in /usr/local/lib/python3.9/dist-packages (from neptune-client) (0.18.3)\n",
            "Requirement already satisfied: packaging in /usr/local/lib/python3.9/dist-packages (from neptune-client) (23.0)\n",
            "Requirement already satisfied: oauthlib>=2.1.0 in /usr/local/lib/python3.9/dist-packages (from neptune-client) (3.2.2)\n",
            "Requirement already satisfied: websocket-client!=1.0.0,>=0.35.0 in /usr/local/lib/python3.9/dist-packages (from neptune-client) (1.5.1)\n",
            "Requirement already satisfied: pandas in /usr/local/lib/python3.9/dist-packages (from neptune-client) (1.5.3)\n",
            "Requirement already satisfied: PyJWT in /usr/local/lib/python3.9/dist-packages (from neptune-client) (2.6.0)\n",
            "Requirement already satisfied: click>=7.0 in /usr/local/lib/python3.9/dist-packages (from neptune-client) (8.1.3)\n",
            "Requirement already satisfied: urllib3 in /usr/local/lib/python3.9/dist-packages (from neptune-client) (1.26.14)\n",
            "Requirement already satisfied: psutil in /usr/local/lib/python3.9/dist-packages (from neptune-client) (5.4.8)\n",
            "Requirement already satisfied: bravado<12.0.0,>=11.0.0 in /usr/local/lib/python3.9/dist-packages (from neptune-client) (11.0.3)\n",
            "Requirement already satisfied: requests>=2.20.0 in /usr/local/lib/python3.9/dist-packages (from neptune-client) (2.25.1)\n",
            "Requirement already satisfied: boto3>=1.16.0 in /usr/local/lib/python3.9/dist-packages (from neptune-client) (1.26.89)\n",
            "Requirement already satisfied: GitPython>=2.0.8 in /usr/local/lib/python3.9/dist-packages (from neptune-client) (3.1.31)\n",
            "Requirement already satisfied: swagger-spec-validator>=2.7.4 in /usr/local/lib/python3.9/dist-packages (from neptune-client) (3.0.3)\n",
            "Requirement already satisfied: requests-oauthlib>=1.0.0 in /usr/local/lib/python3.9/dist-packages (from neptune-client) (1.3.1)\n",
            "Requirement already satisfied: s3transfer<0.7.0,>=0.6.0 in /usr/local/lib/python3.9/dist-packages (from boto3>=1.16.0->neptune-client) (0.6.0)\n",
            "Requirement already satisfied: jmespath<2.0.0,>=0.7.1 in /usr/local/lib/python3.9/dist-packages (from boto3>=1.16.0->neptune-client) (1.0.1)\n",
            "Requirement already satisfied: botocore<1.30.0,>=1.29.89 in /usr/local/lib/python3.9/dist-packages (from boto3>=1.16.0->neptune-client) (1.29.89)\n",
            "Requirement already satisfied: pyyaml in /usr/local/lib/python3.9/dist-packages (from bravado<12.0.0,>=11.0.0->neptune-client) (6.0)\n",
            "Requirement already satisfied: python-dateutil in /usr/local/lib/python3.9/dist-packages (from bravado<12.0.0,>=11.0.0->neptune-client) (2.8.2)\n",
            "Requirement already satisfied: simplejson in /usr/local/lib/python3.9/dist-packages (from bravado<12.0.0,>=11.0.0->neptune-client) (3.18.3)\n",
            "Requirement already satisfied: monotonic in /usr/local/lib/python3.9/dist-packages (from bravado<12.0.0,>=11.0.0->neptune-client) (1.6)\n",
            "Requirement already satisfied: msgpack in /usr/local/lib/python3.9/dist-packages (from bravado<12.0.0,>=11.0.0->neptune-client) (1.0.4)\n",
            "Requirement already satisfied: bravado-core>=5.16.1 in /usr/local/lib/python3.9/dist-packages (from bravado<12.0.0,>=11.0.0->neptune-client) (5.17.1)\n",
            "Requirement already satisfied: typing-extensions in /usr/local/lib/python3.9/dist-packages (from bravado<12.0.0,>=11.0.0->neptune-client) (4.5.0)\n",
            "Requirement already satisfied: gitdb<5,>=4.0.1 in /usr/local/lib/python3.9/dist-packages (from GitPython>=2.0.8->neptune-client) (4.0.10)\n",
            "Requirement already satisfied: certifi>=2017.4.17 in /usr/local/lib/python3.9/dist-packages (from requests>=2.20.0->neptune-client) (2022.12.7)\n",
            "Requirement already satisfied: idna<3,>=2.5 in /usr/local/lib/python3.9/dist-packages (from requests>=2.20.0->neptune-client) (2.10)\n",
            "Requirement already satisfied: chardet<5,>=3.0.2 in /usr/local/lib/python3.9/dist-packages (from requests>=2.20.0->neptune-client) (4.0.0)\n",
            "Requirement already satisfied: jsonschema in /usr/local/lib/python3.9/dist-packages (from swagger-spec-validator>=2.7.4->neptune-client) (4.3.3)\n",
            "Requirement already satisfied: numpy>=1.20.3 in /usr/local/lib/python3.9/dist-packages (from pandas->neptune-client) (1.22.4)\n",
            "Requirement already satisfied: pytz>=2020.1 in /usr/local/lib/python3.9/dist-packages (from pandas->neptune-client) (2022.7.1)\n",
            "Requirement already satisfied: jsonref in /usr/local/lib/python3.9/dist-packages (from bravado-core>=5.16.1->bravado<12.0.0,>=11.0.0->neptune-client) (1.1.0)\n",
            "Requirement already satisfied: smmap<6,>=3.0.1 in /usr/local/lib/python3.9/dist-packages (from gitdb<5,>=4.0.1->GitPython>=2.0.8->neptune-client) (5.0.0)\n",
            "Requirement already satisfied: attrs>=17.4.0 in /usr/local/lib/python3.9/dist-packages (from jsonschema->swagger-spec-validator>=2.7.4->neptune-client) (22.2.0)\n",
            "Requirement already satisfied: pyrsistent!=0.17.0,!=0.17.1,!=0.17.2,>=0.14.0 in /usr/local/lib/python3.9/dist-packages (from jsonschema->swagger-spec-validator>=2.7.4->neptune-client) (0.19.3)\n",
            "Requirement already satisfied: rfc3987 in /usr/local/lib/python3.9/dist-packages (from jsonschema->swagger-spec-validator>=2.7.4->neptune-client) (1.3.8)\n",
            "Requirement already satisfied: uri-template in /usr/local/lib/python3.9/dist-packages (from jsonschema->swagger-spec-validator>=2.7.4->neptune-client) (1.2.0)\n",
            "Requirement already satisfied: jsonpointer>1.13 in /usr/local/lib/python3.9/dist-packages (from jsonschema->swagger-spec-validator>=2.7.4->neptune-client) (2.3)\n",
            "Requirement already satisfied: isoduration in /usr/local/lib/python3.9/dist-packages (from jsonschema->swagger-spec-validator>=2.7.4->neptune-client) (20.11.0)\n",
            "Requirement already satisfied: webcolors>=1.11 in /usr/local/lib/python3.9/dist-packages (from jsonschema->swagger-spec-validator>=2.7.4->neptune-client) (1.12)\n",
            "Requirement already satisfied: fqdn in /usr/local/lib/python3.9/dist-packages (from jsonschema->swagger-spec-validator>=2.7.4->neptune-client) (1.5.1)\n",
            "Requirement already satisfied: rfc3339-validator in /usr/local/lib/python3.9/dist-packages (from jsonschema->swagger-spec-validator>=2.7.4->neptune-client) (0.1.4)\n",
            "Requirement already satisfied: arrow>=0.15.0 in /usr/local/lib/python3.9/dist-packages (from isoduration->jsonschema->swagger-spec-validator>=2.7.4->neptune-client) (1.2.3)\n"
          ]
        }
      ]
    },
    {
      "cell_type": "code",
      "source": [
        "import neptune.new as neptune  "
      ],
      "metadata": {
        "colab": {
          "base_uri": "https://localhost:8080/"
        },
        "id": "M63geOdvd2kt",
        "outputId": "2e404200-8a1f-43df-d714-eaef80329617"
      },
      "execution_count": null,
      "outputs": [
        {
          "output_type": "stream",
          "name": "stderr",
          "text": [
            "/usr/local/lib/python3.9/dist-packages/neptune/internal/backends/hosted_client.py:48: NeptuneDeprecationWarning: The 'neptune-client' package has been deprecated and will be removed in the future. Install the 'neptune' package instead. For more, see https://docs.neptune.ai/setup/upgrading/\n",
            "  from neptune.version import version as neptune_client_version\n",
            "<ipython-input-25-6dad83189a2e>:1: NeptuneDeprecationWarning: You're importing the Neptune client library via the deprecated `neptune.new` module, which will be removed in a future release. Import directly from `neptune` instead.\n",
            "  import neptune.new as neptune\n"
          ]
        }
      ]
    },
    {
      "cell_type": "code",
      "source": [
        "!pip install torchviz"
      ],
      "metadata": {
        "colab": {
          "base_uri": "https://localhost:8080/"
        },
        "id": "1ncf5Ncupk4f",
        "outputId": "f606cdd3-4f08-4f82-adfd-b4815d775175"
      },
      "execution_count": null,
      "outputs": [
        {
          "output_type": "stream",
          "name": "stdout",
          "text": [
            "Looking in indexes: https://pypi.org/simple, https://us-python.pkg.dev/colab-wheels/public/simple/\n",
            "Requirement already satisfied: torchviz in /usr/local/lib/python3.9/dist-packages (0.0.2)\n",
            "Requirement already satisfied: torch in /usr/local/lib/python3.9/dist-packages (from torchviz) (1.13.1+cu116)\n",
            "Requirement already satisfied: graphviz in /usr/local/lib/python3.9/dist-packages (from torchviz) (0.10.1)\n",
            "Requirement already satisfied: typing-extensions in /usr/local/lib/python3.9/dist-packages (from torch->torchviz) (4.5.0)\n"
          ]
        }
      ]
    },
    {
      "cell_type": "code",
      "source": [
        "from torchviz import make_dot "
      ],
      "metadata": {
        "id": "7cQvuqrppnIZ"
      },
      "execution_count": null,
      "outputs": []
    },
    {
      "cell_type": "code",
      "execution_count": null,
      "metadata": {
        "id": "DotwpZ4JdmsZ"
      },
      "outputs": [],
      "source": [
        "import getpass\n",
        "import copy\n",
        "import time\n",
        "import re\n",
        "import tempfile"
      ]
    },
    {
      "cell_type": "markdown",
      "metadata": {
        "id": "V2glxk01UfDk"
      },
      "source": [
        "### Código Rastro\n",
        "\n",
        "Busca implementar o rastro proposto em [Rastro-DM: Mineração de Dados com Rastro](https://revista.tcu.gov.br/ojs/index.php/RTCU/article/view/1664), autores Marcus Vinícius Borela de Castro e Remis Balaniuk, com o apoio da [solução Neptune](https://app.neptune.ai/)\n",
        "\n"
      ]
    },
    {
      "cell_type": "code",
      "execution_count": null,
      "metadata": {
        "id": "Q-iQwMPiLXO3"
      },
      "outputs": [],
      "source": [
        "def converte_optimizer_state_dict(parm_optimizer)-> dict:\n",
        "  \"\"\"\n",
        "    Recebe um objeto \"parm_optimizer\" que é do tipo \"torch.optim.Optimizer\" e retorna um dicionário \n",
        "    com informações sobre o otimizador.\n",
        "\n",
        "    O dicionário de retorno é gerado a partir do estado do otimizador que é extraído da propriedade\n",
        "    \"state_dict()\" do objeto \"parm_optimizer\", seu primeiro grupo de parâmetros do otimizador.\n",
        "  \"\"\"\n",
        "  # return str(hparam['optimizer'])\n",
        "  return parm_optimizer.state_dict()['param_groups'][0]"
      ]
    },
    {
      "cell_type": "markdown",
      "source": [
        "def gera_tag_rastro_experiencia_treino(parm_aula: str, hparam: dict) -> str:\n",
        "    \"\"\"\n",
        "    Gera uma string formatada com informações de hiperparâmetros para ser usada como tag de rastro de experiência de treino.\n",
        "\n",
        "    Args:\n",
        "        parm_aula (str): Nome da aula que está sendo treinada.\n",
        "        hparam (dict): Dicionário contendo os hiperparâmetros utilizados no treinamento.\n",
        "\n",
        "    Returns:\n",
        "        str: String formatada com as informações de hiperparâmetros.\n",
        "\n",
        "    Uso: \n",
        "\n",
        "    hparam['lista_tag_rastro_experiencia_treino'] =        gera_tag_rastro_experiencia_treino(parm_aula='aula7', hparam=hparam)\n",
        "    \"\"\"\n",
        "    # Inicializa uma lista vazia para armazenar as tags\n",
        "    lista_tag = []\n",
        "    \n",
        "    # Lista com as chaves dos hiperparâmetros que serão utilizados\n",
        "    lista_chaves = ['embed_dim', 'dim_feedforward', 'ind_activation_function', 'batch_size', 'learning_rate', 'weight_decay', 'amsgrad', 'decrease_factor_lr', 'max_examples', 'eval_every_steps']\n",
        "    \n",
        "    # Itera pelas chaves da lista e cria uma string com a chave e o valor correspondente em hparam,\n",
        "    # adicionando essa string à lista_tag\n",
        "    for chave in lista_chaves:\n",
        "        tag = f\"{chave} {hparam[chave]}\"\n",
        "        lista_tag.append(tag)\n",
        "    \n",
        "    # Concatena a lista de tags em uma única string, separando cada tag por '|',\n",
        "    # e adicionando o nome da aula como prefixo\n",
        "    tag_formatada = f\"{parm_aula}|\" + \"|\".join(lista_tag)\n",
        "    \n",
        "    return tag_formatada\n",
        "\n",
        "\n"
      ],
      "metadata": {
        "id": "TOrNttzncJ7f"
      }
    },
    {
      "cell_type": "code",
      "execution_count": null,
      "metadata": {
        "id": "GwnX3SrGfq4Z"
      },
      "outputs": [],
      "source": [
        "class NeptuneRastroRun():\n",
        "    \"\"\"\n",
        "      Classe para geração de rastro de experimento utilizando a ferramenta Neptune.\n",
        "\n",
        "      Busca implementar o rastro proposto em [Rastro-DM: Mineração de Dados com Rastro](https://revista.tcu.gov.br/ojs/index.php/RTCU/article/view/1664),\n",
        "      autores Marcus Vinícius Borela de Castro e Remis Balaniuk, com o apoio da [solução Neptune](https://app.neptune.ai/)\n",
        "\n",
        "\n",
        "      Attributes:\n",
        "      -----------\n",
        "      se_geracao_rastro : bool\n",
        "          Indica se deve ser gerado rastro de experimento. \n",
        "      neptune_project : str\n",
        "          Nome do projeto criado no Neptune. \n",
        "      tag_contexto_rastro : str\n",
        "          Nome da tag utilizada para identificar o experimento.\n",
        "      neptune_api_token : str\n",
        "          Token utilizado para autenticação na API do Neptune. \n",
        "      run_neptune : object\n",
        "          Objeto que representa o experimento no Neptune.\n",
        "      device : str\n",
        "          Dispositivo utilizado para o treinamento do modelo.\n",
        "      tmpDir : str\n",
        "        Diretório temporário utilizado para salvar gráfico do modelo.          \n",
        "    \"\"\"\n",
        "    se_geracao_rastro = True \n",
        "    neptune_project = \"\"\n",
        "    tag_contexto_rastro = \"\"\n",
        "    neptune_api_token = \"\"\n",
        "\n",
        "    def __init__(self, parm_params:dict,  parm_lista_tag:list = None):\n",
        "      \"\"\"\n",
        "        Método construtor da classe NeptuneRastroRun.\n",
        "        \n",
        "        Args:\n",
        "        - parm_params: dicionário contendo os parâmetros do modelo.\n",
        "        - parm_lista_tag: lista contendo tags adicionais para o experimento.\n",
        "      \"\"\"      \n",
        "      # print(f\"NeptuneRastroRun.init: se_geracao_rastro {self.__class__.se_geracao_rastro} parm_params `{parm_params} \")\n",
        "      if self.__class__.se_geracao_rastro:      \n",
        "        self.run_neptune = neptune.init(project=self.__class__.neptune_project, api_token=self.__class__.neptune_api_token, capture_hardware_metrics=True)\n",
        "        self.run_neptune['sys/name'] = self.__class__.tag_contexto_rastro\n",
        "        vparams = copy.deepcopy(parm_params)\n",
        "        if \"optimizer\" in vparams:\n",
        "          vparams[\"optimizer\"] = converte_optimizer_state_dict(vparams[\"optimizer\"])\n",
        "        if 'criterion'  in vparams:\n",
        "          vparams[\"criterion\"] = str(vparams[\"criterion\"])\n",
        "        if 'scheduler'  in vparams:\n",
        "          vparams[\"scheduler\"] = str(type(vparams[\"scheduler\"]))\n",
        "        if 'device' in vparams:\n",
        "          vparams['device'] = str(vparams[\"device\"])\n",
        "        self.device = vparams[\"device\"]\n",
        "        for tag in parm_lista_tag:\n",
        "          self.run_neptune['sys/tags'].add(tag)\n",
        "        self.run_neptune['parameters'] = vparams\n",
        "        # self.tmpDir = tempfile.mkdtemp()\n",
        "\n",
        "    @property\n",
        "    def run():\n",
        "      \"\"\"\n",
        "      Retorna a instância do objeto run_neptune.\n",
        "      \"\"\"      \n",
        "      return self.run_neptune\n",
        "\n",
        "    @classmethod\n",
        "    def ativa_geracao_rastro(cls):\n",
        "      \"\"\"\n",
        "      Ativa a geração de rastro.\n",
        "      \"\"\"      \n",
        "      cls.se_geracao_rastro = True      \n",
        "\n",
        "    @classmethod\n",
        "    def def_contexto(cls):\n",
        "      \"\"\"\n",
        "      Define o contexto para a geração de rastro.\n",
        "      \"\"\"      \n",
        "      cls.se_geracao_rastro = True      \n",
        "\n",
        "    @classmethod\n",
        "    def desativa_geracao_rastro(cls):\n",
        "      \"\"\"\n",
        "      Desativa a geração de rastro.\n",
        "      \"\"\"      \n",
        "      cls.se_geracao_rastro = False      \n",
        "\n",
        "    @classmethod\n",
        "    def retorna_status_geracao_rastro(cls):\n",
        "      \"\"\"\n",
        "        Retorna o status da geração de rastro.\n",
        "        \n",
        "        Returns:\n",
        "        - True se a geração de rastro está ativada, False caso contrário.\n",
        "      \"\"\"      \n",
        "      return cls.se_geracao_rastro      \n",
        "\n",
        "    @classmethod\n",
        "    def retorna_tag_contexto_rastro(cls):\n",
        "      \"\"\"\n",
        "        Retorna a tag do contexto de rastro.\n",
        "      \"\"\"      \n",
        "      return cls.tag_contexto_rastro \n",
        "\n",
        "    @classmethod\n",
        "    def inicia_contexto(cls, neptune_project, tag_contexto_rastro, neptune_api_token):\n",
        "      \"\"\"\n",
        "      Inicia o contexto de execução no Neptune.\n",
        "\n",
        "      Args:\n",
        "          neptune_project (str): Nome do projeto no Neptune.\n",
        "          tag_contexto_rastro (str): Tag que identifica o contexto de execução no Neptune.\n",
        "          neptune_api_token (str): Token de acesso à API do Neptune.\n",
        "\n",
        "      Raises:\n",
        "          AssertionError: Caso a tag_contexto_rastro possua um ponto (.), \n",
        "            o que pode gerar erros na gravação de arquivo.\n",
        "      \"\"\"      \n",
        "      assert '.' not in tag_contexto_rastro, \"NeptuneRastroRun.init(): tag_contexto_rastro não pode possuir ponto, pois será usado para gravar nome de arquivo\"      \n",
        "      cls.neptune_api_token = neptune_api_token\n",
        "      cls.tag_contexto_rastro = tag_contexto_rastro\n",
        "      cls.neptune_project = neptune_project\n",
        "\n",
        "    def salva_metrica(self, parm_metricas={}):\n",
        "      \"\"\"\n",
        "        Salva as métricas no Neptune Run caso a geração de rastro esteja ativa.\n",
        "\n",
        "        Parameters\n",
        "        ----------\n",
        "        parm_metricas: dict\n",
        "            Dicionário contendo as métricas a serem salvas. As chaves devem ser os nomes das métricas e os valores devem ser\n",
        "            os valores das métricas.\n",
        "      \"\"\"\n",
        "      #print(f\"NeptuneRastroRun.salva_metrica: se_geracao_rastro {self.__class__.se_geracao_rastro} parm_metricas:{parm_metricas} \")\n",
        "      if self.__class__.se_geracao_rastro:\n",
        "        for metrica, valor in parm_metricas.items(): \n",
        "          self.run_neptune[metrica].log(valor)\n",
        " \n",
        "    def gera_grafico_modelo(self, loader_train, model):\n",
        "      \"\"\"\n",
        "        Gera um gráfico do modelo e o envia para o Neptune. \n",
        "        Para gerar o gráfico, um forward pass é realizado em um batch de exemplos \n",
        "        de treino e o resultado é renderizado como um gráfico de nós conectados. \n",
        "        O gráfico é salvo em um arquivo .png e enviado para o Neptune como um arquivo anexo.\n",
        "\n",
        "        Args:\n",
        "            loader_train (torch.utils.data.DataLoader): DataLoader do conjunto de treinamento.\n",
        "            model (torch.nn.Module): Modelo a ser visualizado.\n",
        "        \n",
        "        Pendente:\n",
        "          Evolui para usar from io import StringIO (buffer = io.StringIO()) ao invés de tempdir \n",
        "      \"\"\"      \n",
        "      if self.__class__.se_geracao_rastro: \n",
        "        # efetuar um forward \n",
        "        \"\"\"\n",
        "        se dataloader devolver x e y:\n",
        "        \"\"\"\n",
        "        x_, y_ = next(iter(loader_train))\n",
        "        x_ = x_.to(self.device)\n",
        "        outputs = model(x_)\n",
        "        \"\"\"\n",
        "        # se dataloader devolver dict:\n",
        "        dados_ = next(iter(loader_train))\n",
        "        outputs = model(dados_['x'].to(self.device))\n",
        "        #outputs = model(x_['input_ids'].to(self.device), x_['attention_mask'].to(self.device))\n",
        "        \"\"\"\n",
        "        nome_arquivo = os.path.join(self.tmpDir, \"modelo \"+ self.__class__.tag_contexto_rastro + time.strftime(\"%Y-%b-%d %H:%M:%S\"))\n",
        "        make_dot(outputs, params=dict(model.named_parameters()), show_attrs=True, show_saved=True).render(nome_arquivo, format=\"png\")\n",
        "        self.run_neptune[\"parameters/model_graph\"].upload(nome_arquivo+'.png')\n",
        "        self.run_neptune['parameters/model'] = re.sub('<bound method Module.state_dict of ', '',str(model.state_dict))      \n",
        "\n",
        "\n",
        "\n",
        "    def stop(self):\n",
        "      \"\"\"\n",
        "        Para a execução do objeto Neptune. Todos os experimentos do Neptune são sincronizados com o servidor, e nenhum outro \n",
        "        experimento poderá ser adicionado a este objeto após a chamada a este método.\n",
        "      \"\"\"\n",
        "      if self.__class__.se_geracao_rastro:         \n",
        "        self.run_neptune.stop()\n"
      ]
    },
    {
      "cell_type": "markdown",
      "metadata": {
        "id": "O488oyu5l8kC"
      },
      "source": [
        "### Definindo parâmetros para o rastro\n",
        "\n"
      ]
    },
    {
      "cell_type": "code",
      "execution_count": null,
      "metadata": {
        "colab": {
          "base_uri": "https://localhost:8080/"
        },
        "id": "zY4Hjvp1wR9k",
        "outputId": "c7d5e16d-57ba-419d-8f1c-7b70c68f2a47"
      },
      "outputs": [
        {
          "name": "stdout",
          "output_type": "stream",
          "text": [
            "Informe NEPTUNE_API_TOKEN··········\n"
          ]
        }
      ],
      "source": [
        "NeptuneRastroRun.inicia_contexto('marcusborela/IA386DD', 'Aula 2 - classificador de texto como reranqueador',   getpass.getpass('Informe NEPTUNE_API_TOKEN'))\n",
        "#NeptuneRastroRun.desativa_geracao_rastro()"
      ]
    },
    {
      "cell_type": "markdown",
      "source": [
        "## Configurando Pyserini"
      ],
      "metadata": {
        "id": "T0GF6NqznpBk"
      }
    },
    {
      "cell_type": "markdown",
      "source": [
        "### Instalações de libraries"
      ],
      "metadata": {
        "id": "Y5MRuHo8md3Z"
      }
    },
    {
      "cell_type": "code",
      "source": [
        "!pip install git+https://github.com/castorini/pygaggle.git"
      ],
      "metadata": {
        "id": "N2af9dTbmPff",
        "outputId": "0f33524c-e31a-421e-97b2-46c6f18cd7e3",
        "colab": {
          "base_uri": "https://localhost:8080/"
        }
      },
      "execution_count": null,
      "outputs": [
        {
          "output_type": "stream",
          "name": "stdout",
          "text": [
            "Looking in indexes: https://pypi.org/simple, https://us-python.pkg.dev/colab-wheels/public/simple/\n",
            "Collecting git+https://github.com/castorini/pygaggle.git\n",
            "  Cloning https://github.com/castorini/pygaggle.git to /tmp/pip-req-build-02opmy4j\n",
            "  Running command git clone --filter=blob:none --quiet https://github.com/castorini/pygaggle.git /tmp/pip-req-build-02opmy4j\n",
            "  Resolved https://github.com/castorini/pygaggle.git to commit c285f6084684367dd07b608ef19c2722b5b0637e\n",
            "  Running command git submodule update --init --recursive -q\n",
            "  Preparing metadata (setup.py) ... \u001b[?25l\u001b[?25hdone\n",
            "Requirement already satisfied: coloredlogs==14.0 in /usr/local/lib/python3.9/dist-packages (from pygaggle==0.0.3.1) (14.0)\n",
            "Requirement already satisfied: numpy>=1.18 in /usr/local/lib/python3.9/dist-packages (from pygaggle==0.0.3.1) (1.22.4)\n",
            "Requirement already satisfied: pydantic==1.7.4 in /usr/local/lib/python3.9/dist-packages (from pygaggle==0.0.3.1) (1.7.4)\n",
            "Requirement already satisfied: pyserini>=0.16.0 in /usr/local/lib/python3.9/dist-packages (from pygaggle==0.0.3.1) (0.20.0)\n",
            "Requirement already satisfied: scikit-learn==0.24.2 in /usr/local/lib/python3.9/dist-packages (from pygaggle==0.0.3.1) (0.24.2)\n",
            "Requirement already satisfied: scipy==1.5.4 in /usr/local/lib/python3.9/dist-packages (from pygaggle==0.0.3.1) (1.5.4)\n",
            "Requirement already satisfied: spacy>=3.2.1 in /usr/local/lib/python3.9/dist-packages (from pygaggle==0.0.3.1) (3.4.4)\n",
            "Requirement already satisfied: tensorboard==2.7.0 in /usr/local/lib/python3.9/dist-packages (from pygaggle==0.0.3.1) (2.7.0)\n",
            "Requirement already satisfied: tensorflow==2.7.0 in /usr/local/lib/python3.9/dist-packages (from pygaggle==0.0.3.1) (2.7.0)\n",
            "Requirement already satisfied: tokenizers==0.10.2 in /usr/local/lib/python3.9/dist-packages (from pygaggle==0.0.3.1) (0.10.2)\n",
            "Requirement already satisfied: tqdm==4.56.0 in /usr/local/lib/python3.9/dist-packages (from pygaggle==0.0.3.1) (4.56.0)\n",
            "Requirement already satisfied: transformers==4.6.1 in /usr/local/lib/python3.9/dist-packages (from pygaggle==0.0.3.1) (4.6.1)\n",
            "Requirement already satisfied: sentencepiece==0.1.95 in /usr/local/lib/python3.9/dist-packages (from pygaggle==0.0.3.1) (0.1.95)\n",
            "Requirement already satisfied: sentence_transformers==2.0.0 in /usr/local/lib/python3.9/dist-packages (from pygaggle==0.0.3.1) (2.0.0)\n",
            "Requirement already satisfied: torch>=1.8.1 in /usr/local/lib/python3.9/dist-packages (from pygaggle==0.0.3.1) (1.13.1+cu116)\n",
            "Requirement already satisfied: humanfriendly>=7.1 in /usr/local/lib/python3.9/dist-packages (from coloredlogs==14.0->pygaggle==0.0.3.1) (10.0)\n",
            "Requirement already satisfied: threadpoolctl>=2.0.0 in /usr/local/lib/python3.9/dist-packages (from scikit-learn==0.24.2->pygaggle==0.0.3.1) (3.1.0)\n",
            "Requirement already satisfied: joblib>=0.11 in /usr/local/lib/python3.9/dist-packages (from scikit-learn==0.24.2->pygaggle==0.0.3.1) (1.2.0)\n",
            "Requirement already satisfied: torchvision in /usr/local/lib/python3.9/dist-packages (from sentence_transformers==2.0.0->pygaggle==0.0.3.1) (0.14.1+cu116)\n",
            "Requirement already satisfied: huggingface-hub in /usr/local/lib/python3.9/dist-packages (from sentence_transformers==2.0.0->pygaggle==0.0.3.1) (0.0.8)\n",
            "Requirement already satisfied: nltk in /usr/local/lib/python3.9/dist-packages (from sentence_transformers==2.0.0->pygaggle==0.0.3.1) (3.7)\n",
            "Requirement already satisfied: grpcio>=1.24.3 in /usr/local/lib/python3.9/dist-packages (from tensorboard==2.7.0->pygaggle==0.0.3.1) (1.51.3)\n",
            "Requirement already satisfied: google-auth<3,>=1.6.3 in /usr/local/lib/python3.9/dist-packages (from tensorboard==2.7.0->pygaggle==0.0.3.1) (2.16.2)\n",
            "Requirement already satisfied: werkzeug>=0.11.15 in /usr/local/lib/python3.9/dist-packages (from tensorboard==2.7.0->pygaggle==0.0.3.1) (2.2.3)\n",
            "Requirement already satisfied: wheel>=0.26 in /usr/local/lib/python3.9/dist-packages (from tensorboard==2.7.0->pygaggle==0.0.3.1) (0.38.4)\n",
            "Requirement already satisfied: requests<3,>=2.21.0 in /usr/local/lib/python3.9/dist-packages (from tensorboard==2.7.0->pygaggle==0.0.3.1) (2.25.1)\n",
            "Requirement already satisfied: markdown>=2.6.8 in /usr/local/lib/python3.9/dist-packages (from tensorboard==2.7.0->pygaggle==0.0.3.1) (3.4.1)\n",
            "Requirement already satisfied: setuptools>=41.0.0 in /usr/local/lib/python3.9/dist-packages (from tensorboard==2.7.0->pygaggle==0.0.3.1) (57.4.0)\n",
            "Requirement already satisfied: tensorboard-plugin-wit>=1.6.0 in /usr/local/lib/python3.9/dist-packages (from tensorboard==2.7.0->pygaggle==0.0.3.1) (1.8.1)\n",
            "Requirement already satisfied: protobuf>=3.6.0 in /usr/local/lib/python3.9/dist-packages (from tensorboard==2.7.0->pygaggle==0.0.3.1) (3.19.6)\n",
            "Requirement already satisfied: google-auth-oauthlib<0.5,>=0.4.1 in /usr/local/lib/python3.9/dist-packages (from tensorboard==2.7.0->pygaggle==0.0.3.1) (0.4.6)\n",
            "Requirement already satisfied: absl-py>=0.4 in /usr/local/lib/python3.9/dist-packages (from tensorboard==2.7.0->pygaggle==0.0.3.1) (1.4.0)\n",
            "Requirement already satisfied: tensorboard-data-server<0.7.0,>=0.6.0 in /usr/local/lib/python3.9/dist-packages (from tensorboard==2.7.0->pygaggle==0.0.3.1) (0.6.1)\n",
            "Requirement already satisfied: opt-einsum>=2.3.2 in /usr/local/lib/python3.9/dist-packages (from tensorflow==2.7.0->pygaggle==0.0.3.1) (3.3.0)\n",
            "Requirement already satisfied: tensorflow-io-gcs-filesystem>=0.21.0 in /usr/local/lib/python3.9/dist-packages (from tensorflow==2.7.0->pygaggle==0.0.3.1) (0.31.0)\n",
            "Requirement already satisfied: astunparse>=1.6.0 in /usr/local/lib/python3.9/dist-packages (from tensorflow==2.7.0->pygaggle==0.0.3.1) (1.6.3)\n",
            "Requirement already satisfied: gast<0.5.0,>=0.2.1 in /usr/local/lib/python3.9/dist-packages (from tensorflow==2.7.0->pygaggle==0.0.3.1) (0.4.0)\n",
            "Requirement already satisfied: google-pasta>=0.1.1 in /usr/local/lib/python3.9/dist-packages (from tensorflow==2.7.0->pygaggle==0.0.3.1) (0.2.0)\n",
            "Requirement already satisfied: flatbuffers<3.0,>=1.12 in /usr/local/lib/python3.9/dist-packages (from tensorflow==2.7.0->pygaggle==0.0.3.1) (2.0.7)\n",
            "Requirement already satisfied: keras<2.8,>=2.7.0rc0 in /usr/local/lib/python3.9/dist-packages (from tensorflow==2.7.0->pygaggle==0.0.3.1) (2.7.0)\n",
            "Requirement already satisfied: typing-extensions>=3.6.6 in /usr/local/lib/python3.9/dist-packages (from tensorflow==2.7.0->pygaggle==0.0.3.1) (4.5.0)\n",
            "Requirement already satisfied: six>=1.12.0 in /usr/local/lib/python3.9/dist-packages (from tensorflow==2.7.0->pygaggle==0.0.3.1) (1.15.0)\n",
            "Requirement already satisfied: keras-preprocessing>=1.1.1 in /usr/local/lib/python3.9/dist-packages (from tensorflow==2.7.0->pygaggle==0.0.3.1) (1.1.2)\n",
            "Requirement already satisfied: wrapt>=1.11.0 in /usr/local/lib/python3.9/dist-packages (from tensorflow==2.7.0->pygaggle==0.0.3.1) (1.15.0)\n",
            "Requirement already satisfied: h5py>=2.9.0 in /usr/local/lib/python3.9/dist-packages (from tensorflow==2.7.0->pygaggle==0.0.3.1) (3.1.0)\n",
            "Requirement already satisfied: termcolor>=1.1.0 in /usr/local/lib/python3.9/dist-packages (from tensorflow==2.7.0->pygaggle==0.0.3.1) (2.2.0)\n",
            "Requirement already satisfied: tensorflow-estimator<2.8,~=2.7.0rc0 in /usr/local/lib/python3.9/dist-packages (from tensorflow==2.7.0->pygaggle==0.0.3.1) (2.7.0)\n",
            "Requirement already satisfied: libclang>=9.0.1 in /usr/local/lib/python3.9/dist-packages (from tensorflow==2.7.0->pygaggle==0.0.3.1) (15.0.6.1)\n",
            "Requirement already satisfied: packaging in /usr/local/lib/python3.9/dist-packages (from transformers==4.6.1->pygaggle==0.0.3.1) (23.0)\n",
            "Requirement already satisfied: sacremoses in /usr/local/lib/python3.9/dist-packages (from transformers==4.6.1->pygaggle==0.0.3.1) (0.0.53)\n",
            "Requirement already satisfied: filelock in /usr/local/lib/python3.9/dist-packages (from transformers==4.6.1->pygaggle==0.0.3.1) (3.9.0)\n",
            "Requirement already satisfied: regex!=2019.12.17 in /usr/local/lib/python3.9/dist-packages (from transformers==4.6.1->pygaggle==0.0.3.1) (2022.6.2)\n",
            "Requirement already satisfied: Cython>=0.29.21 in /usr/local/lib/python3.9/dist-packages (from pyserini>=0.16.0->pygaggle==0.0.3.1) (0.29.33)\n",
            "Requirement already satisfied: nmslib>=2.1.1 in /usr/local/lib/python3.9/dist-packages (from pyserini>=0.16.0->pygaggle==0.0.3.1) (2.1.1)\n",
            "Requirement already satisfied: onnxruntime>=1.8.1 in /usr/local/lib/python3.9/dist-packages (from pyserini>=0.16.0->pygaggle==0.0.3.1) (1.14.1)\n",
            "Requirement already satisfied: lightgbm>=3.3.2 in /usr/local/lib/python3.9/dist-packages (from pyserini>=0.16.0->pygaggle==0.0.3.1) (3.3.5)\n",
            "Requirement already satisfied: pandas>=1.4.0 in /usr/local/lib/python3.9/dist-packages (from pyserini>=0.16.0->pygaggle==0.0.3.1) (1.5.3)\n",
            "Requirement already satisfied: pyjnius>=1.4.0 in /usr/local/lib/python3.9/dist-packages (from pyserini>=0.16.0->pygaggle==0.0.3.1) (1.4.2)\n",
            "Requirement already satisfied: typer<0.8.0,>=0.3.0 in /usr/local/lib/python3.9/dist-packages (from spacy>=3.2.1->pygaggle==0.0.3.1) (0.7.0)\n",
            "Requirement already satisfied: catalogue<2.1.0,>=2.0.6 in /usr/local/lib/python3.9/dist-packages (from spacy>=3.2.1->pygaggle==0.0.3.1) (2.0.8)\n",
            "Requirement already satisfied: langcodes<4.0.0,>=3.2.0 in /usr/local/lib/python3.9/dist-packages (from spacy>=3.2.1->pygaggle==0.0.3.1) (3.3.0)\n",
            "Requirement already satisfied: wasabi<1.1.0,>=0.9.1 in /usr/local/lib/python3.9/dist-packages (from spacy>=3.2.1->pygaggle==0.0.3.1) (0.10.1)\n",
            "Requirement already satisfied: cymem<2.1.0,>=2.0.2 in /usr/local/lib/python3.9/dist-packages (from spacy>=3.2.1->pygaggle==0.0.3.1) (2.0.7)\n",
            "Requirement already satisfied: preshed<3.1.0,>=3.0.2 in /usr/local/lib/python3.9/dist-packages (from spacy>=3.2.1->pygaggle==0.0.3.1) (3.0.8)\n",
            "Requirement already satisfied: spacy-legacy<3.1.0,>=3.0.10 in /usr/local/lib/python3.9/dist-packages (from spacy>=3.2.1->pygaggle==0.0.3.1) (3.0.12)\n",
            "Requirement already satisfied: spacy-loggers<2.0.0,>=1.0.0 in /usr/local/lib/python3.9/dist-packages (from spacy>=3.2.1->pygaggle==0.0.3.1) (1.0.4)\n",
            "Requirement already satisfied: srsly<3.0.0,>=2.4.3 in /usr/local/lib/python3.9/dist-packages (from spacy>=3.2.1->pygaggle==0.0.3.1) (2.4.6)\n",
            "Requirement already satisfied: pathy>=0.3.5 in /usr/local/lib/python3.9/dist-packages (from spacy>=3.2.1->pygaggle==0.0.3.1) (0.10.1)\n",
            "Requirement already satisfied: murmurhash<1.1.0,>=0.28.0 in /usr/local/lib/python3.9/dist-packages (from spacy>=3.2.1->pygaggle==0.0.3.1) (1.0.9)\n",
            "Requirement already satisfied: smart-open<7.0.0,>=5.2.1 in /usr/local/lib/python3.9/dist-packages (from spacy>=3.2.1->pygaggle==0.0.3.1) (6.3.0)\n",
            "Requirement already satisfied: thinc<8.2.0,>=8.1.0 in /usr/local/lib/python3.9/dist-packages (from spacy>=3.2.1->pygaggle==0.0.3.1) (8.1.8)\n",
            "Requirement already satisfied: jinja2 in /usr/local/lib/python3.9/dist-packages (from spacy>=3.2.1->pygaggle==0.0.3.1) (3.1.2)\n",
            "Requirement already satisfied: pyasn1-modules>=0.2.1 in /usr/local/lib/python3.9/dist-packages (from google-auth<3,>=1.6.3->tensorboard==2.7.0->pygaggle==0.0.3.1) (0.2.8)\n",
            "Requirement already satisfied: rsa<5,>=3.1.4 in /usr/local/lib/python3.9/dist-packages (from google-auth<3,>=1.6.3->tensorboard==2.7.0->pygaggle==0.0.3.1) (4.9)\n",
            "Requirement already satisfied: cachetools<6.0,>=2.0.0 in /usr/local/lib/python3.9/dist-packages (from google-auth<3,>=1.6.3->tensorboard==2.7.0->pygaggle==0.0.3.1) (5.3.0)\n",
            "Requirement already satisfied: requests-oauthlib>=0.7.0 in /usr/local/lib/python3.9/dist-packages (from google-auth-oauthlib<0.5,>=0.4.1->tensorboard==2.7.0->pygaggle==0.0.3.1) (1.3.1)\n",
            "Requirement already satisfied: importlib-metadata>=4.4 in /usr/local/lib/python3.9/dist-packages (from markdown>=2.6.8->tensorboard==2.7.0->pygaggle==0.0.3.1) (6.0.0)\n",
            "Requirement already satisfied: pybind11<2.6.2 in /usr/local/lib/python3.9/dist-packages (from nmslib>=2.1.1->pyserini>=0.16.0->pygaggle==0.0.3.1) (2.6.1)\n",
            "Requirement already satisfied: psutil in /usr/local/lib/python3.9/dist-packages (from nmslib>=2.1.1->pyserini>=0.16.0->pygaggle==0.0.3.1) (5.4.8)\n",
            "Requirement already satisfied: sympy in /usr/local/lib/python3.9/dist-packages (from onnxruntime>=1.8.1->pyserini>=0.16.0->pygaggle==0.0.3.1) (1.7.1)\n",
            "Requirement already satisfied: pytz>=2020.1 in /usr/local/lib/python3.9/dist-packages (from pandas>=1.4.0->pyserini>=0.16.0->pygaggle==0.0.3.1) (2022.7.1)\n",
            "Requirement already satisfied: python-dateutil>=2.8.1 in /usr/local/lib/python3.9/dist-packages (from pandas>=1.4.0->pyserini>=0.16.0->pygaggle==0.0.3.1) (2.8.2)\n",
            "Requirement already satisfied: certifi>=2017.4.17 in /usr/local/lib/python3.9/dist-packages (from requests<3,>=2.21.0->tensorboard==2.7.0->pygaggle==0.0.3.1) (2022.12.7)\n",
            "Requirement already satisfied: urllib3<1.27,>=1.21.1 in /usr/local/lib/python3.9/dist-packages (from requests<3,>=2.21.0->tensorboard==2.7.0->pygaggle==0.0.3.1) (1.26.14)\n",
            "Requirement already satisfied: idna<3,>=2.5 in /usr/local/lib/python3.9/dist-packages (from requests<3,>=2.21.0->tensorboard==2.7.0->pygaggle==0.0.3.1) (2.10)\n",
            "Requirement already satisfied: chardet<5,>=3.0.2 in /usr/local/lib/python3.9/dist-packages (from requests<3,>=2.21.0->tensorboard==2.7.0->pygaggle==0.0.3.1) (4.0.0)\n",
            "Requirement already satisfied: confection<1.0.0,>=0.0.1 in /usr/local/lib/python3.9/dist-packages (from thinc<8.2.0,>=8.1.0->spacy>=3.2.1->pygaggle==0.0.3.1) (0.0.4)\n",
            "Requirement already satisfied: blis<0.8.0,>=0.7.8 in /usr/local/lib/python3.9/dist-packages (from thinc<8.2.0,>=8.1.0->spacy>=3.2.1->pygaggle==0.0.3.1) (0.7.9)\n",
            "Requirement already satisfied: click<9.0.0,>=7.1.1 in /usr/local/lib/python3.9/dist-packages (from typer<0.8.0,>=0.3.0->spacy>=3.2.1->pygaggle==0.0.3.1) (8.1.3)\n",
            "Requirement already satisfied: MarkupSafe>=2.1.1 in /usr/local/lib/python3.9/dist-packages (from werkzeug>=0.11.15->tensorboard==2.7.0->pygaggle==0.0.3.1) (2.1.2)\n",
            "Requirement already satisfied: pillow!=8.3.*,>=5.3.0 in /usr/local/lib/python3.9/dist-packages (from torchvision->sentence_transformers==2.0.0->pygaggle==0.0.3.1) (8.4.0)\n",
            "Requirement already satisfied: zipp>=0.5 in /usr/local/lib/python3.9/dist-packages (from importlib-metadata>=4.4->markdown>=2.6.8->tensorboard==2.7.0->pygaggle==0.0.3.1) (3.15.0)\n",
            "Requirement already satisfied: pyasn1<0.5.0,>=0.4.6 in /usr/local/lib/python3.9/dist-packages (from pyasn1-modules>=0.2.1->google-auth<3,>=1.6.3->tensorboard==2.7.0->pygaggle==0.0.3.1) (0.4.8)\n",
            "Requirement already satisfied: oauthlib>=3.0.0 in /usr/local/lib/python3.9/dist-packages (from requests-oauthlib>=0.7.0->google-auth-oauthlib<0.5,>=0.4.1->tensorboard==2.7.0->pygaggle==0.0.3.1) (3.2.2)\n",
            "Requirement already satisfied: mpmath>=0.19 in /usr/local/lib/python3.9/dist-packages (from sympy->onnxruntime>=1.8.1->pyserini>=0.16.0->pygaggle==0.0.3.1) (1.2.1)\n"
          ]
        }
      ]
    },
    {
      "cell_type": "code",
      "source": [
        "!pip install pyserini"
      ],
      "metadata": {
        "id": "WTTVf-nYmc0w",
        "outputId": "e16ac013-48a4-43c9-fa26-5344fe99cf54",
        "colab": {
          "base_uri": "https://localhost:8080/"
        }
      },
      "execution_count": null,
      "outputs": [
        {
          "output_type": "stream",
          "name": "stdout",
          "text": [
            "Looking in indexes: https://pypi.org/simple, https://us-python.pkg.dev/colab-wheels/public/simple/\n",
            "Requirement already satisfied: pyserini in /usr/local/lib/python3.9/dist-packages (0.20.0)\n",
            "Requirement already satisfied: numpy>=1.18.1 in /usr/local/lib/python3.9/dist-packages (from pyserini) (1.22.4)\n",
            "Requirement already satisfied: pandas>=1.4.0 in /usr/local/lib/python3.9/dist-packages (from pyserini) (1.5.3)\n",
            "Requirement already satisfied: scikit-learn>=0.22.1 in /usr/local/lib/python3.9/dist-packages (from pyserini) (0.24.2)\n",
            "Requirement already satisfied: Cython>=0.29.21 in /usr/local/lib/python3.9/dist-packages (from pyserini) (0.29.33)\n",
            "Requirement already satisfied: scipy>=1.4.1 in /usr/local/lib/python3.9/dist-packages (from pyserini) (1.5.4)\n",
            "Requirement already satisfied: nmslib>=2.1.1 in /usr/local/lib/python3.9/dist-packages (from pyserini) (2.1.1)\n",
            "Requirement already satisfied: lightgbm>=3.3.2 in /usr/local/lib/python3.9/dist-packages (from pyserini) (3.3.5)\n",
            "Requirement already satisfied: spacy>=3.2.1 in /usr/local/lib/python3.9/dist-packages (from pyserini) (3.4.4)\n",
            "Requirement already satisfied: pyjnius>=1.4.0 in /usr/local/lib/python3.9/dist-packages (from pyserini) (1.4.2)\n",
            "Requirement already satisfied: onnxruntime>=1.8.1 in /usr/local/lib/python3.9/dist-packages (from pyserini) (1.14.1)\n",
            "Requirement already satisfied: tqdm in /usr/local/lib/python3.9/dist-packages (from pyserini) (4.56.0)\n",
            "Requirement already satisfied: sentencepiece>=0.1.95 in /usr/local/lib/python3.9/dist-packages (from pyserini) (0.1.95)\n",
            "Requirement already satisfied: transformers>=4.6.0 in /usr/local/lib/python3.9/dist-packages (from pyserini) (4.6.1)\n",
            "Requirement already satisfied: wheel in /usr/local/lib/python3.9/dist-packages (from lightgbm>=3.3.2->pyserini) (0.38.4)\n",
            "Requirement already satisfied: psutil in /usr/local/lib/python3.9/dist-packages (from nmslib>=2.1.1->pyserini) (5.4.8)\n",
            "Requirement already satisfied: pybind11<2.6.2 in /usr/local/lib/python3.9/dist-packages (from nmslib>=2.1.1->pyserini) (2.6.1)\n",
            "Requirement already satisfied: protobuf in /usr/local/lib/python3.9/dist-packages (from onnxruntime>=1.8.1->pyserini) (3.19.6)\n",
            "Requirement already satisfied: sympy in /usr/local/lib/python3.9/dist-packages (from onnxruntime>=1.8.1->pyserini) (1.7.1)\n",
            "Requirement already satisfied: flatbuffers in /usr/local/lib/python3.9/dist-packages (from onnxruntime>=1.8.1->pyserini) (2.0.7)\n",
            "Requirement already satisfied: packaging in /usr/local/lib/python3.9/dist-packages (from onnxruntime>=1.8.1->pyserini) (23.0)\n",
            "Requirement already satisfied: coloredlogs in /usr/local/lib/python3.9/dist-packages (from onnxruntime>=1.8.1->pyserini) (14.0)\n",
            "Requirement already satisfied: python-dateutil>=2.8.1 in /usr/local/lib/python3.9/dist-packages (from pandas>=1.4.0->pyserini) (2.8.2)\n",
            "Requirement already satisfied: pytz>=2020.1 in /usr/local/lib/python3.9/dist-packages (from pandas>=1.4.0->pyserini) (2022.7.1)\n",
            "Requirement already satisfied: six>=1.7.0 in /usr/local/lib/python3.9/dist-packages (from pyjnius>=1.4.0->pyserini) (1.15.0)\n",
            "Requirement already satisfied: threadpoolctl>=2.0.0 in /usr/local/lib/python3.9/dist-packages (from scikit-learn>=0.22.1->pyserini) (3.1.0)\n",
            "Requirement already satisfied: joblib>=0.11 in /usr/local/lib/python3.9/dist-packages (from scikit-learn>=0.22.1->pyserini) (1.2.0)\n",
            "Requirement already satisfied: srsly<3.0.0,>=2.4.3 in /usr/local/lib/python3.9/dist-packages (from spacy>=3.2.1->pyserini) (2.4.6)\n",
            "Requirement already satisfied: smart-open<7.0.0,>=5.2.1 in /usr/local/lib/python3.9/dist-packages (from spacy>=3.2.1->pyserini) (6.3.0)\n",
            "Requirement already satisfied: spacy-loggers<2.0.0,>=1.0.0 in /usr/local/lib/python3.9/dist-packages (from spacy>=3.2.1->pyserini) (1.0.4)\n",
            "Requirement already satisfied: cymem<2.1.0,>=2.0.2 in /usr/local/lib/python3.9/dist-packages (from spacy>=3.2.1->pyserini) (2.0.7)\n",
            "Requirement already satisfied: requests<3.0.0,>=2.13.0 in /usr/local/lib/python3.9/dist-packages (from spacy>=3.2.1->pyserini) (2.25.1)\n",
            "Requirement already satisfied: langcodes<4.0.0,>=3.2.0 in /usr/local/lib/python3.9/dist-packages (from spacy>=3.2.1->pyserini) (3.3.0)\n",
            "Requirement already satisfied: wasabi<1.1.0,>=0.9.1 in /usr/local/lib/python3.9/dist-packages (from spacy>=3.2.1->pyserini) (0.10.1)\n",
            "Requirement already satisfied: murmurhash<1.1.0,>=0.28.0 in /usr/local/lib/python3.9/dist-packages (from spacy>=3.2.1->pyserini) (1.0.9)\n",
            "Requirement already satisfied: setuptools in /usr/local/lib/python3.9/dist-packages (from spacy>=3.2.1->pyserini) (57.4.0)\n",
            "Requirement already satisfied: jinja2 in /usr/local/lib/python3.9/dist-packages (from spacy>=3.2.1->pyserini) (3.1.2)\n",
            "Requirement already satisfied: pydantic!=1.8,!=1.8.1,<1.11.0,>=1.7.4 in /usr/local/lib/python3.9/dist-packages (from spacy>=3.2.1->pyserini) (1.7.4)\n",
            "Requirement already satisfied: thinc<8.2.0,>=8.1.0 in /usr/local/lib/python3.9/dist-packages (from spacy>=3.2.1->pyserini) (8.1.8)\n",
            "Requirement already satisfied: pathy>=0.3.5 in /usr/local/lib/python3.9/dist-packages (from spacy>=3.2.1->pyserini) (0.10.1)\n",
            "Requirement already satisfied: typer<0.8.0,>=0.3.0 in /usr/local/lib/python3.9/dist-packages (from spacy>=3.2.1->pyserini) (0.7.0)\n",
            "Requirement already satisfied: catalogue<2.1.0,>=2.0.6 in /usr/local/lib/python3.9/dist-packages (from spacy>=3.2.1->pyserini) (2.0.8)\n",
            "Requirement already satisfied: spacy-legacy<3.1.0,>=3.0.10 in /usr/local/lib/python3.9/dist-packages (from spacy>=3.2.1->pyserini) (3.0.12)\n",
            "Requirement already satisfied: preshed<3.1.0,>=3.0.2 in /usr/local/lib/python3.9/dist-packages (from spacy>=3.2.1->pyserini) (3.0.8)\n",
            "Requirement already satisfied: tokenizers<0.11,>=0.10.1 in /usr/local/lib/python3.9/dist-packages (from transformers>=4.6.0->pyserini) (0.10.2)\n",
            "Requirement already satisfied: filelock in /usr/local/lib/python3.9/dist-packages (from transformers>=4.6.0->pyserini) (3.9.0)\n",
            "Requirement already satisfied: huggingface-hub==0.0.8 in /usr/local/lib/python3.9/dist-packages (from transformers>=4.6.0->pyserini) (0.0.8)\n",
            "Requirement already satisfied: sacremoses in /usr/local/lib/python3.9/dist-packages (from transformers>=4.6.0->pyserini) (0.0.53)\n",
            "Requirement already satisfied: regex!=2019.12.17 in /usr/local/lib/python3.9/dist-packages (from transformers>=4.6.0->pyserini) (2022.6.2)\n",
            "Requirement already satisfied: urllib3<1.27,>=1.21.1 in /usr/local/lib/python3.9/dist-packages (from requests<3.0.0,>=2.13.0->spacy>=3.2.1->pyserini) (1.26.14)\n",
            "Requirement already satisfied: idna<3,>=2.5 in /usr/local/lib/python3.9/dist-packages (from requests<3.0.0,>=2.13.0->spacy>=3.2.1->pyserini) (2.10)\n",
            "Requirement already satisfied: certifi>=2017.4.17 in /usr/local/lib/python3.9/dist-packages (from requests<3.0.0,>=2.13.0->spacy>=3.2.1->pyserini) (2022.12.7)\n",
            "Requirement already satisfied: chardet<5,>=3.0.2 in /usr/local/lib/python3.9/dist-packages (from requests<3.0.0,>=2.13.0->spacy>=3.2.1->pyserini) (4.0.0)\n",
            "Requirement already satisfied: blis<0.8.0,>=0.7.8 in /usr/local/lib/python3.9/dist-packages (from thinc<8.2.0,>=8.1.0->spacy>=3.2.1->pyserini) (0.7.9)\n",
            "Requirement already satisfied: confection<1.0.0,>=0.0.1 in /usr/local/lib/python3.9/dist-packages (from thinc<8.2.0,>=8.1.0->spacy>=3.2.1->pyserini) (0.0.4)\n",
            "Requirement already satisfied: click<9.0.0,>=7.1.1 in /usr/local/lib/python3.9/dist-packages (from typer<0.8.0,>=0.3.0->spacy>=3.2.1->pyserini) (8.1.3)\n",
            "Requirement already satisfied: humanfriendly>=7.1 in /usr/local/lib/python3.9/dist-packages (from coloredlogs->onnxruntime>=1.8.1->pyserini) (10.0)\n",
            "Requirement already satisfied: MarkupSafe>=2.0 in /usr/local/lib/python3.9/dist-packages (from jinja2->spacy>=3.2.1->pyserini) (2.1.2)\n",
            "Requirement already satisfied: mpmath>=0.19 in /usr/local/lib/python3.9/dist-packages (from sympy->onnxruntime>=1.8.1->pyserini) (1.2.1)\n"
          ]
        }
      ]
    },
    {
      "cell_type": "code",
      "source": [
        "!pip install faiss-cpu -q"
      ],
      "metadata": {
        "id": "F3U_q5n1n_BW"
      },
      "execution_count": null,
      "outputs": []
    },
    {
      "cell_type": "markdown",
      "source": [
        "### Baixando o repositório do pyserini para usara seus scripts"
      ],
      "metadata": {
        "id": "iMp1ME6UK8vi"
      }
    },
    {
      "cell_type": "code",
      "source": [
        "path_pyserini = '/content/drive/MyDrive/treinamento/202301_IA368DD/code/pyserini'\n",
        "path_pyserini_tools = path_pyserini + '/pyserini-master/anserini-tools-master'\n",
        "path_pyserini_eval = path_pyserini + '/pyserini-master/pyserini/eval'"
      ],
      "metadata": {
        "id": "aGyBaf54LwCp"
      },
      "execution_count": null,
      "outputs": []
    },
    {
      "cell_type": "code",
      "source": [
        "if not os.path.exists(path_pyserini):\n",
        "    os.makedirs(path_pyserini)\n",
        "    print('pasta criada')\n",
        "    !wget -q https://github.com/castorini/pyserini/archive/refs/heads/master.zip -O pyserini.zip \n",
        "    !unzip -q pyserini.zip -d  {path_pyserini}\n",
        "    # Baixando tools que é um atalho para https://github.com/castorini/anserini-tools\n",
        "    !wget -q https://github.com/castorini/anserini-tools/archive/refs/heads/master.zip -O anserini-tools.zip \n",
        "    !unzip -q anserini-tools.zip -d  {path_pyserini}\n"
      ],
      "metadata": {
        "id": "vVBzuIuVMCqK"
      },
      "execution_count": null,
      "outputs": []
    },
    {
      "cell_type": "code",
      "source": [
        "path_pyserini = path_pyserini + '/pyserini-master'"
      ],
      "metadata": {
        "id": "wD6XUMH80aZI"
      },
      "execution_count": null,
      "outputs": []
    },
    {
      "cell_type": "code",
      "source": [
        " assert os.path.exists(path_pyserini), f\"Pasta {path_pyserini} não criada!\""
      ],
      "metadata": {
        "id": "CLHh0Nh8PW2E"
      },
      "execution_count": null,
      "outputs": []
    },
    {
      "cell_type": "code",
      "source": [
        " assert os.path.exists(path_pyserini_tools), f\"Pasta {path_pyserini_tools} não criada!\""
      ],
      "metadata": {
        "id": "30pi-eYwQ4zo"
      },
      "execution_count": null,
      "outputs": []
    },
    {
      "cell_type": "code",
      "source": [
        " assert os.path.exists(path_pyserini_eval), f\"Pasta {path_pyserini_eval} não criada!\""
      ],
      "metadata": {
        "id": "kF1v31OuUzpM"
      },
      "execution_count": null,
      "outputs": []
    },
    {
      "cell_type": "markdown",
      "source": [
        "# Carga dos dados da TREC 2020 usando pyserini"
      ],
      "metadata": {
        "id": "MBfxPDhaFq5W"
      }
    },
    {
      "cell_type": "markdown",
      "source": [
        "### Obtendo dados dos documentos a partir do pyserini\n",
        "\n",
        "\n",
        "[Dicas aqui](https://github.com/castorini/pyserini/blob/master/docs/experiments-msmarco-passage.md)"
      ],
      "metadata": {
        "id": "hGPQPU38MbZc"
      }
    },
    {
      "cell_type": "code",
      "source": [
        "path_data = '/content/drive/MyDrive/treinamento/202301_IA368DD/collections/msmarco-passage'"
      ],
      "metadata": {
        "id": "2WGHMsGcB7Ep"
      },
      "execution_count": null,
      "outputs": []
    },
    {
      "cell_type": "code",
      "source": [
        "%%time\n",
        "if not os.path.exists(path_data):\n",
        "  os.makedirs(path_data)\n",
        "  print('pasta criada')\n",
        "  !wget https://msmarco.blob.core.windows.net/msmarcoranking/collectionandqueries.tar.gz -P {path_data}\n",
        "  !tar xvfz {path_data}/collectionandqueries.tar.gz -C {path_data}\n",
        "  os.remove(f'{path_data}/collectionandqueries.tar.gz')\n",
        "  print(\"Dados carregados!\")\n",
        "else:\n",
        "  print(\"Dados já existiam!\")    "
      ],
      "metadata": {
        "id": "tDb6qDbsA38j",
        "colab": {
          "base_uri": "https://localhost:8080/"
        },
        "outputId": "32054e37-4786-4f5e-c110-2650dbf6ad12"
      },
      "execution_count": null,
      "outputs": [
        {
          "output_type": "stream",
          "name": "stdout",
          "text": [
            "Dados já existiam!\n",
            "CPU times: user 628 µs, sys: 220 µs, total: 848 µs\n",
            "Wall time: 610 µs\n"
          ]
        }
      ]
    },
    {
      "cell_type": "code",
      "source": [
        "assert os.path.exists(path_data), f\"Pasta {path_data} não criada!\""
      ],
      "metadata": {
        "id": "B5g4HhyAPx-4"
      },
      "execution_count": null,
      "outputs": []
    },
    {
      "cell_type": "markdown",
      "source": [
        "Passo anterior gera os seguintes arquivos:\n",
        "\n",
        "* collection.tsv\n",
        "* qrels.dev.small.tsv\n",
        "* qrels.train.tsv\n",
        "* queries.dev.small.tsv\n",
        "* queries.dev.tsv\n",
        "* queries.eval.small.tsv\n",
        "* queries.eval.tsv\n",
        "* queries.train.tsv"
      ],
      "metadata": {
        "id": "VzPgONt7ERjz"
      }
    },
    {
      "cell_type": "code",
      "source": [
        "%%time\n",
        "if not os.path.exists(f'{path_data}/collection_jsonl'):\n",
        "  !python {path_pyserini_tools}/tools/scripts/msmarco/convert_collection_to_jsonl.py \\\n",
        "  --collection-path {path_data}/collection.tsv \\\n",
        "  --output-folder {path_data}/collection_jsonl\n",
        "  print(\"Dados carregados!\")\n",
        "else:\n",
        "  print(\"Dados já existiam!\")    "
      ],
      "metadata": {
        "id": "3Cf9nEQS_iWs",
        "outputId": "ef8c39a7-5b17-4bb1-eb12-dc4294f92b6e",
        "colab": {
          "base_uri": "https://localhost:8080/"
        }
      },
      "execution_count": null,
      "outputs": [
        {
          "output_type": "stream",
          "name": "stdout",
          "text": [
            "Dados já existiam!\n",
            "CPU times: user 1.54 ms, sys: 0 ns, total: 1.54 ms\n",
            "Wall time: 5.55 ms\n"
          ]
        }
      ]
    },
    {
      "cell_type": "code",
      "source": [
        "assert os.path.exists(f'{path_data}/collection_jsonl'), f\"Pasta {path_data}/collection_jsonl não criada!\""
      ],
      "metadata": {
        "id": "XWbCv1UAP3yc"
      },
      "execution_count": null,
      "outputs": []
    },
    {
      "cell_type": "markdown",
      "source": [
        "The above script should generate 9 jsonl files in collections/msmarco-passage/collection_jsonl, each with 1M lines (except for the last one, which should have 841,823 lines)."
      ],
      "metadata": {
        "id": "u4snYshcDmXI"
      }
    },
    {
      "cell_type": "markdown",
      "source": [
        "### Loading data in dicts\n",
        "\n",
        "The 6980 queries in the development set are already stored in the repo. Let's take a peek:"
      ],
      "metadata": {
        "id": "sTn273M0FTTH"
      }
    },
    {
      "cell_type": "code",
      "source": [
        "!head {path_pyserini_tools}/topics-and-qrels/topics.msmarco-passage.dev-subset.txt"
      ],
      "metadata": {
        "id": "t-WOE8VZPfzf",
        "outputId": "aa6b88d5-ea27-40e4-f325-8bae02fa9bdb",
        "colab": {
          "base_uri": "https://localhost:8080/"
        }
      },
      "execution_count": null,
      "outputs": [
        {
          "output_type": "stream",
          "name": "stdout",
          "text": [
            "1048585\twhat is paula deen's brother\n",
            "2\t Androgen receptor define\n",
            "524332\ttreating tension headaches without medication\n",
            "1048642\twhat is paranoid sc\n",
            "524447\ttreatment of varicose veins in legs\n",
            "786674\twhat is prime rate in canada\n",
            "1048876\twho plays young dr mallard on ncis\n",
            "1048917\twhat is operating system misconfiguration\n",
            "786786\twhat is priority pass\n",
            "524699\ttricare service number\n"
          ]
        }
      ]
    },
    {
      "cell_type": "code",
      "source": [
        "!head {path_pyserini_tools}/topics-and-qrels/topics.dl20.txt"
      ],
      "metadata": {
        "colab": {
          "base_uri": "https://localhost:8080/"
        },
        "id": "418Ih9pyiABT",
        "outputId": "c6d8dc8f-c082-480e-dc22-797189bde5fb"
      },
      "execution_count": null,
      "outputs": [
        {
          "output_type": "stream",
          "name": "stdout",
          "text": [
            "1030303\twho is aziz hashim\r\n",
            "1037496\twho is rep scalise?\r\n",
            "1043135\twho killed nicholas ii of russia\r\n",
            "1045109\twho owns barnhart crane\r\n",
            "1049519\twho said no one can make you feel inferior\r\n",
            "1051399\twho sings monk theme song\r\n",
            "1056416\twho was the highest career passer  rating in the nfl\r\n",
            "1064670\twhy do hunters pattern their shotguns?\r\n",
            "1065636\twhy do some places on my scalp feel sore\r\n",
            "1071750\twhy is pete rose banned from hall of fame\r\n"
          ]
        }
      ]
    },
    {
      "cell_type": "code",
      "source": [
        "!head {path_data}/qrels.dev.small.trec"
      ],
      "metadata": {
        "colab": {
          "base_uri": "https://localhost:8080/"
        },
        "id": "gxlsspHzRu0o",
        "outputId": "0c86af49-4326-46b9-ce15-2e0c509f8b59"
      },
      "execution_count": null,
      "outputs": [
        {
          "output_type": "stream",
          "name": "stdout",
          "text": [
            "300674 0 7067032 1\n",
            "125705 0 7067056 1\n",
            "94798 0 7067181 1\n",
            "9083 0 7067274 1\n",
            "174249 0 7067348 1\n",
            "320792 0 7067677 1\n",
            "1090270 0 7067796 1\n",
            "1101279 0 7067891 1\n",
            "201376 0 7068066 1\n",
            "54544 0 7068203 1\n"
          ]
        }
      ]
    },
    {
      "cell_type": "code",
      "source": [
        "!head {path_pyserini_tools}/topics-and-qrels/qrels.dl20-passage.txt"
      ],
      "metadata": {
        "colab": {
          "base_uri": "https://localhost:8080/"
        },
        "id": "AoeVZrqXbGZo",
        "outputId": "a7c60b28-7788-4945-b6e6-f5a6b9ab7bb4"
      },
      "execution_count": null,
      "outputs": [
        {
          "output_type": "stream",
          "name": "stdout",
          "text": [
            "23849 0 1020327 2\n",
            "23849 0 1034183 3\n",
            "23849 0 1120730 0\n",
            "23849 0 1139571 1\n",
            "23849 0 1143724 0\n",
            "23849 0 1147202 0\n",
            "23849 0 1150311 0\n",
            "23849 0 1158886 2\n",
            "23849 0 1175024 1\n",
            "23849 0 1201385 0\n"
          ]
        }
      ]
    },
    {
      "cell_type": "markdown",
      "source": [
        "Each line contains a tab-delimited (query id, query) pair. Conveniently, Pyserini already knows how to load and iterate through these pairs. We can now perform retrieval using these queries:"
      ],
      "metadata": {
        "id": "-9XSzW8uHtic"
      }
    },
    {
      "cell_type": "markdown",
      "source": [
        "#### Carregando qrels (relevância por query)\n",
        "\n",
        "##### Carregando usando get_qrels"
      ],
      "metadata": {
        "id": "pw6AV1W3osR5"
      }
    },
    {
      "cell_type": "code",
      "source": [
        "from pyserini.search import get_qrels"
      ],
      "metadata": {
        "id": "FSq2Y3xavsFr"
      },
      "execution_count": null,
      "outputs": []
    },
    {
      "cell_type": "code",
      "source": [
        "qrels = get_qrels('dl20-passage')"
      ],
      "metadata": {
        "id": "CR6PwgD2vv0Y"
      },
      "execution_count": null,
      "outputs": []
    },
    {
      "cell_type": "code",
      "source": [
        "len(qrels)"
      ],
      "metadata": {
        "colab": {
          "base_uri": "https://localhost:8080/"
        },
        "id": "htSknV23wOuX",
        "outputId": "b8dc483c-2bce-4c08-b1f5-44ef0c954832"
      },
      "execution_count": null,
      "outputs": [
        {
          "output_type": "execute_result",
          "data": {
            "text/plain": [
              "54"
            ]
          },
          "metadata": {},
          "execution_count": 54
        }
      ]
    },
    {
      "cell_type": "code",
      "source": [
        "list(qrels.items())[0]"
      ],
      "metadata": {
        "colab": {
          "base_uri": "https://localhost:8080/"
        },
        "id": "oriPlWVulBFe",
        "outputId": "aa3d6b4c-9dd9-4538-913d-8c5e890b464e"
      },
      "execution_count": null,
      "outputs": [
        {
          "output_type": "execute_result",
          "data": {
            "text/plain": [
              "(23849,\n",
              " {1020327: '2',\n",
              "  1034183: '3',\n",
              "  1120730: '0',\n",
              "  1139571: '1',\n",
              "  1143724: '0',\n",
              "  1147202: '0',\n",
              "  1150311: '0',\n",
              "  1158886: '2',\n",
              "  1175024: '1',\n",
              "  1201385: '0',\n",
              "  1215556: '0',\n",
              "  1220759: '0',\n",
              "  1221770: '0',\n",
              "  1333480: '1',\n",
              "  1381453: '2',\n",
              "  1414114: '2',\n",
              "  1414115: '0',\n",
              "  1414120: '2',\n",
              "  1449780: '0',\n",
              "  146754: '0',\n",
              "  1493231: '0',\n",
              "  1532701: '0',\n",
              "  1535484: '0',\n",
              "  1605854: '1',\n",
              "  1605857: '1',\n",
              "  1622747: '1',\n",
              "  17118: '0',\n",
              "  17122: '0',\n",
              "  1714915: '0',\n",
              "  1714917: '1',\n",
              "  1724687: '0',\n",
              "  172488: '0',\n",
              "  178252: '0',\n",
              "  182049: '0',\n",
              "  1827512: '1',\n",
              "  1844627: '0',\n",
              "  188190: '0',\n",
              "  188246: '1',\n",
              "  1944730: '0',\n",
              "  2003292: '0',\n",
              "  2017213: '0',\n",
              "  2203364: '0',\n",
              "  2209883: '0',\n",
              "  2318793: '0',\n",
              "  2339898: '1',\n",
              "  2373852: '0',\n",
              "  2397072: '0',\n",
              "  2423771: '0',\n",
              "  2516458: '0',\n",
              "  2585563: '0',\n",
              "  2593928: '0',\n",
              "  2607127: '3',\n",
              "  2607128: '1',\n",
              "  2607129: '2',\n",
              "  2607130: '2',\n",
              "  2607131: '2',\n",
              "  2607132: '3',\n",
              "  2607134: '0',\n",
              "  2647769: '3',\n",
              "  2674124: '0',\n",
              "  2766280: '0',\n",
              "  282421: '0',\n",
              "  2838462: '3',\n",
              "  2880479: '0',\n",
              "  2934343: '0',\n",
              "  293608: '0',\n",
              "  293753: '0',\n",
              "  3008750: '1',\n",
              "  310272: '0',\n",
              "  3104533: '0',\n",
              "  3113002: '0',\n",
              "  314300: '0',\n",
              "  3185119: '1',\n",
              "  3341056: '0',\n",
              "  3342089: '0',\n",
              "  3374884: '0',\n",
              "  3376500: '0',\n",
              "  3678109: '0',\n",
              "  3687776: '0',\n",
              "  3698649: '0',\n",
              "  3799370: '0',\n",
              "  3878669: '1',\n",
              "  3978767: '2',\n",
              "  3978774: '1',\n",
              "  4016311: '2',\n",
              "  4016314: '1',\n",
              "  4016317: '3',\n",
              "  4065323: '1',\n",
              "  4091550: '0',\n",
              "  4091551: '0',\n",
              "  4104777: '0',\n",
              "  4138534: '2',\n",
              "  4188880: '1',\n",
              "  4281690: '1',\n",
              "  4344309: '1',\n",
              "  4348282: '0',\n",
              "  436721: '0',\n",
              "  4387499: '0',\n",
              "  441893: '0',\n",
              "  4482145: '0',\n",
              "  4527137: '0',\n",
              "  4556932: '3',\n",
              "  4556933: '3',\n",
              "  4556936: '0',\n",
              "  4556938: '0',\n",
              "  4556941: '0',\n",
              "  45662: '1',\n",
              "  4576574: '0',\n",
              "  4577479: '0',\n",
              "  4672905: '0',\n",
              "  4804092: '0',\n",
              "  4834498: '0',\n",
              "  4908953: '1',\n",
              "  4908957: '1',\n",
              "  4951252: '0',\n",
              "  5315510: '0',\n",
              "  5340997: '1',\n",
              "  5365059: '0',\n",
              "  5367780: '0',\n",
              "  542113: '0',\n",
              "  5529682: '0',\n",
              "  5597936: '1',\n",
              "  5633221: '0',\n",
              "  5740854: '2',\n",
              "  5740859: '1',\n",
              "  5809666: '0',\n",
              "  5824000: '0',\n",
              "  5835858: '0',\n",
              "  5862666: '0',\n",
              "  587451: '3',\n",
              "  5888570: '3',\n",
              "  590924: '0',\n",
              "  590926: '3',\n",
              "  590927: '1',\n",
              "  590929: '2',\n",
              "  5913890: '2',\n",
              "  5979591: '0',\n",
              "  599695: '0',\n",
              "  6037300: '0',\n",
              "  6180228: '2',\n",
              "  6264715: '3',\n",
              "  6277578: '1',\n",
              "  6338425: '0',\n",
              "  639564: '0',\n",
              "  640767: '3',\n",
              "  640772: '3',\n",
              "  640775: '0',\n",
              "  6493523: '0',\n",
              "  6515917: '1',\n",
              "  653142: '0',\n",
              "  6543413: '1',\n",
              "  6602616: '1',\n",
              "  6622147: '0',\n",
              "  6667419: '0',\n",
              "  6688736: '0',\n",
              "  6688737: '2',\n",
              "  6688738: '1',\n",
              "  6688739: '0',\n",
              "  6688741: '1',\n",
              "  6688742: '2',\n",
              "  6688743: '1',\n",
              "  6705133: '1',\n",
              "  67500: '0',\n",
              "  6803015: '1',\n",
              "  6970103: '0',\n",
              "  7008458: '1',\n",
              "  7014217: '0',\n",
              "  7039665: '2',\n",
              "  7039668: '0',\n",
              "  7098341: '1',\n",
              "  7119957: '0',\n",
              "  7153659: '0',\n",
              "  7186713: '3',\n",
              "  723681: '1',\n",
              "  7300641: '1',\n",
              "  7395195: '1',\n",
              "  7526373: '0',\n",
              "  7624167: '0',\n",
              "  7624168: '3',\n",
              "  7752628: '0',\n",
              "  7845081: '3',\n",
              "  7896999: '1',\n",
              "  7907569: '0',\n",
              "  794785: '0',\n",
              "  7987538: '2',\n",
              "  7987541: '2',\n",
              "  7987542: '3',\n",
              "  7991033: '0',\n",
              "  8010558: '2',\n",
              "  8010559: '2',\n",
              "  8010560: '3',\n",
              "  8010561: '3',\n",
              "  8010562: '3',\n",
              "  8010564: '1',\n",
              "  8010566: '1',\n",
              "  8017141: '2',\n",
              "  8052286: '1',\n",
              "  8059826: '1',\n",
              "  8133127: '0',\n",
              "  8135871: '0',\n",
              "  8140319: '0',\n",
              "  8163080: '0',\n",
              "  8177749: '1',\n",
              "  8246990: '1',\n",
              "  8336161: '2',\n",
              "  836559: '2',\n",
              "  8379423: '1',\n",
              "  8420441: '0',\n",
              "  8466750: '0',\n",
              "  8534117: '1',\n",
              "  8547803: '0',\n",
              "  8707726: '0',\n",
              "  8737814: '0',\n",
              "  958491: '0',\n",
              "  958495: '1',\n",
              "  970243: '0',\n",
              "  970247: '0'})"
            ]
          },
          "metadata": {},
          "execution_count": 55
        }
      ]
    },
    {
      "cell_type": "markdown",
      "source": [
        "#### Carregando queries\n",
        "\n",
        "##### Carregando usando get_topics"
      ],
      "metadata": {
        "id": "4qiloI8loxJ2"
      }
    },
    {
      "cell_type": "code",
      "source": [
        "from pyserini.search import get_topics"
      ],
      "metadata": {
        "id": "Ipt1M8UBoSiP"
      },
      "execution_count": null,
      "outputs": []
    },
    {
      "cell_type": "code",
      "source": [
        "topics = get_topics('dl20')\n",
        "print(f'{len(topics)} queries total')"
      ],
      "metadata": {
        "colab": {
          "base_uri": "https://localhost:8080/"
        },
        "id": "Ei_BuJtsoTjm",
        "outputId": "70185f73-6d19-442a-8289-6ee4fbdbecc0"
      },
      "execution_count": null,
      "outputs": [
        {
          "output_type": "stream",
          "name": "stdout",
          "text": [
            "200 queries total\n"
          ]
        }
      ]
    },
    {
      "cell_type": "code",
      "source": [
        "len(topics), list(topics.items())[0]"
      ],
      "metadata": {
        "colab": {
          "base_uri": "https://localhost:8080/"
        },
        "id": "4m7xTZe-oVNF",
        "outputId": "4302ba9c-a5cb-4844-a8d9-32ebf2873194"
      },
      "execution_count": null,
      "outputs": [
        {
          "output_type": "execute_result",
          "data": {
            "text/plain": [
              "(200, (735922, {'title': 'what is crimp oil'}))"
            ]
          },
          "metadata": {},
          "execution_count": 58
        }
      ]
    },
    {
      "cell_type": "markdown",
      "source": [
        "Deixando apenas queries com relevância"
      ],
      "metadata": {
        "id": "JDqkcXALfrBq"
      }
    },
    {
      "cell_type": "code",
      "source": [
        "topics = {key:value for key, value in topics.items() if key in qrels}"
      ],
      "metadata": {
        "id": "dpNEkfpzfhej"
      },
      "execution_count": null,
      "outputs": []
    },
    {
      "cell_type": "code",
      "source": [
        "len(topics), list(topics.items())[0]"
      ],
      "metadata": {
        "colab": {
          "base_uri": "https://localhost:8080/"
        },
        "id": "JBOv-3pzfudk",
        "outputId": "54223c52-e4d0-4d61-d261-c9e32aea586b"
      },
      "execution_count": null,
      "outputs": [
        {
          "output_type": "execute_result",
          "data": {
            "text/plain": [
              "(54, (23849, {'title': 'are naturalization records public information'}))"
            ]
          },
          "metadata": {},
          "execution_count": 60
        }
      ]
    },
    {
      "cell_type": "markdown",
      "source": [
        "# Executando 1o estágio: exact match com BM25"
      ],
      "metadata": {
        "id": "c-EQ6_F2VktR"
      }
    },
    {
      "cell_type": "code",
      "source": [
        "num_max_hits = 1000"
      ],
      "metadata": {
        "id": "NSvo8UOug2j6"
      },
      "execution_count": null,
      "outputs": []
    },
    {
      "cell_type": "markdown",
      "source": [
        "#### Com código para retornar o score do bm25"
      ],
      "metadata": {
        "id": "waqMpGVHPVoi"
      }
    },
    {
      "cell_type": "code",
      "source": [
        "from tqdm import tqdm"
      ],
      "metadata": {
        "id": "4AJiH6lQQHc5"
      },
      "execution_count": null,
      "outputs": []
    },
    {
      "cell_type": "code",
      "source": [
        "# Run all queries in topics, retrive top 1k for each query\n",
        "def run_all_queries(file, topics, searcher, num_max_hits=100):\n",
        "  \"\"\"\n",
        "  A função run_all_queries é responsável por realizar todas as consultas armazenadas no dicionário topics utilizando o objeto searcher fornecido e salvar os resultados em um arquivo de texto.\n",
        "\n",
        "  Parâmetros:\n",
        "\n",
        "  file: caminho do arquivo de saída onde serão salvos os resultados das consultas.\n",
        "  topics: dicionário contendo as consultas a serem executadas. Cada consulta é representada por uma chave única no dicionário. O valor correspondente a cada chave é um outro dicionário contendo as informações da consulta, como seu título e outras informações relevantes.\n",
        "  searcher: objeto do tipo Searcher que será utilizado para realizar as consultas.\n",
        "  num_max_hits: número máximo de documentos relevantes que serão retornados para cada consulta.\n",
        "  Retorno:\n",
        "\n",
        "  A função não retorna nenhum valor, mas salva os resultados das consultas no arquivo especificado em file.\n",
        "  Comentário:\n",
        "\n",
        "  A função usa a biblioteca tqdm para exibir uma barra de progresso enquanto executa as consultas.\n",
        "  O número de consultas concluídas é impresso a cada 100 consultas.\n",
        "  \"\"\"\n",
        "  print(f'Running {len(topics)} queries in total')\n",
        "  with open(file, 'w') as runfile:\n",
        "      cnt = 0\n",
        "      for id in tqdm(topics, desc='Running Queries'):\n",
        "          query = topics[id]['title']\n",
        "          hits = searcher.search(query, num_max_hits)\n",
        "          for i in range(0, len(hits)):\n",
        "              _ = runfile.write(f'{id} Q0 {hits[i].docid} {i+1} {hits[i].score:.6f} Etapa_EM\\n')\n",
        "              # = runfile.write('{} Q0 {} {} {:.6f} Pyserini\\n'.format(id, hits[i].docid, i+1, hits[i].score))\n",
        "          cnt += 1\n",
        "          if cnt % 100 == 0:\n",
        "              print(f'{cnt} queries completed')"
      ],
      "metadata": {
        "id": "dUJuMaOKPmoZ"
      },
      "execution_count": null,
      "outputs": []
    },
    {
      "cell_type": "code",
      "source": [
        "path_run = path_data + '/runs'\n",
        "path_run_estagio1 = path_run + '/run-msmarco-passage-bm25-estagio1.txt'"
      ],
      "metadata": {
        "id": "zwyzd_W8gOAL"
      },
      "execution_count": null,
      "outputs": []
    },
    {
      "cell_type": "code",
      "source": [
        "path_run, path_run_estagio1"
      ],
      "metadata": {
        "colab": {
          "base_uri": "https://localhost:8080/"
        },
        "id": "AAjYClsNjHoi",
        "outputId": "09be60d4-9b9e-448f-a28f-4d926f5cf071"
      },
      "execution_count": null,
      "outputs": [
        {
          "output_type": "execute_result",
          "data": {
            "text/plain": [
              "('/content/drive/MyDrive/treinamento/202301_IA368DD/collections/msmarco-passage/runs',\n",
              " '/content/drive/MyDrive/treinamento/202301_IA368DD/collections/msmarco-passage/runs/run-msmarco-passage-bm25-estagio1.txt')"
            ]
          },
          "metadata": {},
          "execution_count": 65
        }
      ]
    },
    {
      "cell_type": "code",
      "source": [
        "%%time\n",
        "if not os.path.exists(path_run):\n",
        "  os.makedirs(path_run)\n",
        "  print('pasta criada!')\n",
        "else:\n",
        "  print('pasta já existia!')\n"
      ],
      "metadata": {
        "colab": {
          "base_uri": "https://localhost:8080/"
        },
        "outputId": "47456606-cf76-4d56-81c6-acee39e3f5c4",
        "id": "6KSZkPHbgOAL"
      },
      "execution_count": null,
      "outputs": [
        {
          "output_type": "stream",
          "name": "stdout",
          "text": [
            "pasta já existia!\n",
            "CPU times: user 713 µs, sys: 21 µs, total: 734 µs\n",
            "Wall time: 915 µs\n"
          ]
        }
      ]
    },
    {
      "cell_type": "code",
      "source": [
        "if not os.path.exists(path_run_estagio1):\n",
        "  # roda 1o estágio de busca por bm25\n",
        "  # code from https://colab.research.google.com/github/castorini/anserini-notebooks/blob/master/pyserini_msmarco_passage_demo.ipynb\n",
        "  from pyserini.search import SimpleSearcher\n",
        "  from pyserini.search.lucene import LuceneSearcher\n",
        "\n",
        "\n",
        "  # Indexando Trec 2020 Collection using Pyserini\n",
        "  !python -m pyserini.index.lucene \\\n",
        "    --collection JsonCollection \\\n",
        "    --input {path_data}/collection_jsonl \\\n",
        "    --index indexes/lucene-index-msmarco-passage \\\n",
        "    --generator DefaultLuceneDocumentGenerator \\\n",
        "    --threads 9 \\\n",
        "    --storePositions --storeDocvectors --storeRaw\n",
        "\n",
        "  # realizando busca e salvando dados do estágio 1\n",
        "  searcher = LuceneSearcher('./indexes/lucene-index-msmarco-passage')\n",
        "  searcher.set_bm25(k1=0.82, b=0.68)  \n",
        "  run_all_queries(path_run_estagio1, topics, searcher, num_max_hits)\n",
        "  \n",
        "  print(\"Dados estágio 1 (bm25) carregados!\")\n",
        "else:\n",
        "  print(\"Dados estágio 1 (bm25) já existiam!\")    "
      ],
      "metadata": {
        "colab": {
          "base_uri": "https://localhost:8080/"
        },
        "id": "aFrh5kiXjKg0",
        "outputId": "8c1399eb-a61d-4e63-a8c4-59f8e03b1d5f"
      },
      "execution_count": null,
      "outputs": [
        {
          "output_type": "stream",
          "name": "stdout",
          "text": [
            "Dados estágio 1 (bm25) já existiam!\n"
          ]
        }
      ]
    },
    {
      "cell_type": "code",
      "source": [
        "assert os.path.exists(path_run_estagio1), f\"Pasta {path_run_estagio1} não criada!\""
      ],
      "metadata": {
        "id": "x37emunogOAL"
      },
      "execution_count": null,
      "outputs": []
    },
    {
      "cell_type": "code",
      "source": [
        "!head {path_run_estagio1}"
      ],
      "metadata": {
        "id": "bkpqRcVwneUh",
        "colab": {
          "base_uri": "https://localhost:8080/"
        },
        "outputId": "eb0385a9-612a-4958-c5b0-35ed7176bc7a"
      },
      "execution_count": null,
      "outputs": [
        {
          "output_type": "stream",
          "name": "stdout",
          "text": [
            "23849 Q0 4348282 1 10.738400 Etapa_EM\n",
            "23849 Q0 2674124 2 10.426600 Etapa_EM\n",
            "23849 Q0 542113 3 9.687200 Etapa_EM\n",
            "23849 Q0 8246990 4 9.641500 Etapa_EM\n",
            "23849 Q0 8133127 5 9.566500 Etapa_EM\n",
            "23849 Q0 2647769 6 9.547200 Etapa_EM\n",
            "23849 Q0 2017213 7 9.504800 Etapa_EM\n",
            "23849 Q0 7119957 8 9.500700 Etapa_EM\n",
            "23849 Q0 964148 9 9.476800 Etapa_EM\n",
            "23849 Q0 436721 10 9.464000 Etapa_EM\n"
          ]
        }
      ]
    },
    {
      "cell_type": "markdown",
      "source": [
        "##### Eval"
      ],
      "metadata": {
        "id": "BJAEtyT_e5wv"
      }
    },
    {
      "cell_type": "code",
      "source": [
        "!python -m pyserini.eval.trec_eval -c -m ndcg_cut.10 -mrecall.1000 -mmap -l 2 'dl20-passage' {path_run_estagio1}"
      ],
      "metadata": {
        "colab": {
          "base_uri": "https://localhost:8080/"
        },
        "id": "lw_7OL1XuwxN",
        "outputId": "e9063357-0eb2-4130-bca9-bba15f41e0ba"
      },
      "execution_count": null,
      "outputs": [
        {
          "output_type": "stream",
          "name": "stdout",
          "text": [
            "Downloading https://search.maven.org/remotecontent?filepath=uk/ac/gla/dcs/terrierteam/jtreceval/0.0.5/jtreceval-0.0.5-jar-with-dependencies.jar to /root/.cache/pyserini/eval/jtreceval-0.0.5-jar-with-dependencies.jar...\n",
            "jtreceval-0.0.5-jar-with-dependencies.jar: 1.79MB [00:01, 946kB/s]                 \n",
            "Running command: ['java', '-jar', '/root/.cache/pyserini/eval/jtreceval-0.0.5-jar-with-dependencies.jar', '-c', '-m', 'ndcg_cut.10', '-mrecall.1000', '-mmap', '-l', '2', '/root/.cache/pyserini/topics-and-qrels/qrels.dl20-passage.txt', '/content/drive/MyDrive/treinamento/202301_IA368DD/collections/msmarco-passage/runs/run-msmarco-passage-bm25-estagio1.txt']\n",
            "Results:\n",
            "map                   \tall\t0.2876\n",
            "recall_1000           \tall\t0.8031\n",
            "ndcg_cut_10           \tall\t0.4876\n"
          ]
        }
      ]
    },
    {
      "cell_type": "markdown",
      "metadata": {
        "id": "LZ80hHaftwUd"
      },
      "source": [
        "# Treinamento do ranqueador\n",
        "\n",
        "Fonte: https://colab.research.google.com/drive/10etP7Lb915EC-uEuf1IKC8DYkyg_om6-?usp=sharing\n",
        "\n",
        "In this notebook, we will finetuned and evaluate a BERT-based model on a document classification task.\n",
        "\n",
        "Our dataset will be a smaller version of the IMDB Sentiment Analysis dataset.\n",
        "\n",
        "To finetune and evaluate faster, we will be using [miniLM](https://huggingface.co/microsoft/MiniLM-L12-H384-uncased), which is small BERT-like model distilled from a larger one."
      ]
    },
    {
      "cell_type": "markdown",
      "metadata": {
        "id": "CXFdJz2KVeQw"
      },
      "source": [
        "## Preparando dados de treinamento\n"
      ]
    },
    {
      "cell_type": "markdown",
      "source": [
        "### Carga dos dados"
      ],
      "metadata": {
        "id": "W13Q69XIxdPc"
      }
    },
    {
      "cell_type": "code",
      "source": [
        "path_data_train = path_data + '/train'\n",
        "path_data_train"
      ],
      "metadata": {
        "colab": {
          "base_uri": "https://localhost:8080/",
          "height": 36
        },
        "id": "2_KYzw0S66eR",
        "outputId": "e41b6116-e2d3-4e10-c21d-69feaf4576be"
      },
      "execution_count": null,
      "outputs": [
        {
          "output_type": "execute_result",
          "data": {
            "text/plain": [
              "'/content/drive/MyDrive/treinamento/202301_IA368DD/collections/msmarco-passage/train'"
            ],
            "application/vnd.google.colaboratory.intrinsic+json": {
              "type": "string"
            }
          },
          "metadata": {},
          "execution_count": 70
        }
      ]
    },
    {
      "cell_type": "code",
      "source": [
        "%%time\n",
        "if not os.path.exists(path_data_train):\n",
        "  os.makedirs(path_data_train)\n",
        "  print(f'{path_data_train} pasta criada!')\n",
        "else:\n",
        "  print(f'{path_data_train} pasta já existia!')"
      ],
      "metadata": {
        "colab": {
          "base_uri": "https://localhost:8080/"
        },
        "id": "RBD909R38DlP",
        "outputId": "22d71d5a-c03e-4890-c35c-f89aec691ac2"
      },
      "execution_count": null,
      "outputs": [
        {
          "output_type": "stream",
          "name": "stdout",
          "text": [
            "/content/drive/MyDrive/treinamento/202301_IA368DD/collections/msmarco-passage/train pasta já existia!\n",
            "CPU times: user 1.52 ms, sys: 0 ns, total: 1.52 ms\n",
            "Wall time: 1.99 ms\n"
          ]
        }
      ]
    },
    {
      "cell_type": "code",
      "source": [
        "assert os.path.exists(path_data_train), f\"Path {path_data_train} não existe!\""
      ],
      "metadata": {
        "id": "2mJclLeEsFwS"
      },
      "execution_count": null,
      "outputs": []
    },
    {
      "cell_type": "code",
      "source": [
        "if not os.path.exists(path_data_train+'/msmarco_triples.train.tiny.tsv'):\n",
        "  !wget -P {path_data_train} https://storage.googleapis.com/unicamp-dl/ia368dd_2023s1/msmarco/msmarco_triples.train.tiny.tsv  \n",
        "  print(f'arquivo baixado!')"
      ],
      "metadata": {
        "id": "hKE1qwkG_m2Q"
      },
      "execution_count": null,
      "outputs": []
    },
    {
      "cell_type": "code",
      "source": [
        "assert os.path.exists(path_data_train+'/msmarco_triples.train.tiny.tsv'), f\"Path {path_data_train+'/msmarco_triples.train.tiny.tsv'} não existe!\""
      ],
      "metadata": {
        "id": "E-mynCXQsPpz"
      },
      "execution_count": null,
      "outputs": []
    },
    {
      "cell_type": "code",
      "source": [
        "!head -n 2 {path_data_train+'/msmarco_triples.train.tiny.tsv'}"
      ],
      "metadata": {
        "colab": {
          "base_uri": "https://localhost:8080/"
        },
        "id": "7lGK99gS_8Qh",
        "outputId": "b209b539-5356-4b2f-94da-0fb220e4c348"
      },
      "execution_count": null,
      "outputs": [
        {
          "output_type": "stream",
          "name": "stdout",
          "text": [
            "is a little caffeine ok during pregnancy\tWe donât know a lot about the effects of caffeine during pregnancy on you and your baby. So itâs best to limit the amount you get each day. If youâre pregnant, limit caffeine to 200 milligrams each day. This is about the amount in 1Â½ 8-ounce cups of coffee or one 12-ounce cup of coffee.\tIt is generally safe for pregnant women to eat chocolate because studies have shown to prove certain benefits of eating chocolate during pregnancy. However, pregnant women should ensure their caffeine intake is below 200 mg per day.\n",
            "what fruit is native to australia\tPassiflora herbertiana. A rare passion fruit native to Australia. Fruits are green-skinned, white fleshed, with an unknown edible rating. Some sources list the fruit as edible, sweet and tasty, while others list the fruits as being bitter and inedible.assiflora herbertiana. A rare passion fruit native to Australia. Fruits are green-skinned, white fleshed, with an unknown edible rating. Some sources list the fruit as edible, sweet and tasty, while others list the fruits as being bitter and inedible.\tThe kola nut is the fruit of the kola tree, a genus (Cola) of trees that are native to the tropical rainforests of Africa.\n"
          ]
        }
      ]
    },
    {
      "cell_type": "code",
      "source": [
        "df = pd.read_csv(path_data_train+'/msmarco_triples.train.tiny.tsv', sep='\\t', header=None)"
      ],
      "metadata": {
        "id": "9Dv1sjfrPnJO"
      },
      "execution_count": null,
      "outputs": []
    },
    {
      "cell_type": "code",
      "source": [
        "df.columns = ['query', 'positive', 'negative']"
      ],
      "metadata": {
        "id": "LqdOpg5kQD9Q"
      },
      "execution_count": null,
      "outputs": []
    },
    {
      "cell_type": "code",
      "source": [
        "df.head()"
      ],
      "metadata": {
        "colab": {
          "base_uri": "https://localhost:8080/",
          "height": 236
        },
        "id": "igtPldcHPwCS",
        "outputId": "66e9f95a-ff8d-4404-feb0-c2202821a816"
      },
      "execution_count": null,
      "outputs": [
        {
          "output_type": "execute_result",
          "data": {
            "text/plain": [
              "                                            query                                           positive                                           negative\n",
              "0        is a little caffeine ok during pregnancy  We donât know a lot about the effects of caf...  It is generally safe for pregnant women to eat...\n",
              "1               what fruit is native to australia  Passiflora herbertiana. A rare passion fruit n...  The kola nut is the fruit of the kola tree, a ...\n",
              "2              how large is the canadian military  The Canadian Armed Forces. 1  The first large-...  The Canadian Physician Health Institute (CPHI)...\n",
              "3                            types of fruit trees  Cherry. Cherry trees are found throughout the ...  The kola nut is the fruit of the kola tree, a ...\n",
              "4  how many calories a day are lost breastfeeding  Not only is breastfeeding better for the baby,...  However, you still need some niacin each day; ...\n",
              "\n",
              "[5 rows x 3 columns]"
            ],
            "text/html": [
              "\n",
              "  <div id=\"df-1929e804-e386-4f37-a995-eb90e0c025f3\">\n",
              "    <div class=\"colab-df-container\">\n",
              "      <div>\n",
              "<style scoped>\n",
              "    .dataframe tbody tr th:only-of-type {\n",
              "        vertical-align: middle;\n",
              "    }\n",
              "\n",
              "    .dataframe tbody tr th {\n",
              "        vertical-align: top;\n",
              "    }\n",
              "\n",
              "    .dataframe thead th {\n",
              "        text-align: right;\n",
              "    }\n",
              "</style>\n",
              "<table border=\"1\" class=\"dataframe\">\n",
              "  <thead>\n",
              "    <tr style=\"text-align: right;\">\n",
              "      <th></th>\n",
              "      <th>query</th>\n",
              "      <th>positive</th>\n",
              "      <th>negative</th>\n",
              "    </tr>\n",
              "  </thead>\n",
              "  <tbody>\n",
              "    <tr>\n",
              "      <th>0</th>\n",
              "      <td>is a little caffeine ok during pregnancy</td>\n",
              "      <td>We donât know a lot about the effects of caf...</td>\n",
              "      <td>It is generally safe for pregnant women to eat...</td>\n",
              "    </tr>\n",
              "    <tr>\n",
              "      <th>1</th>\n",
              "      <td>what fruit is native to australia</td>\n",
              "      <td>Passiflora herbertiana. A rare passion fruit n...</td>\n",
              "      <td>The kola nut is the fruit of the kola tree, a ...</td>\n",
              "    </tr>\n",
              "    <tr>\n",
              "      <th>2</th>\n",
              "      <td>how large is the canadian military</td>\n",
              "      <td>The Canadian Armed Forces. 1  The first large-...</td>\n",
              "      <td>The Canadian Physician Health Institute (CPHI)...</td>\n",
              "    </tr>\n",
              "    <tr>\n",
              "      <th>3</th>\n",
              "      <td>types of fruit trees</td>\n",
              "      <td>Cherry. Cherry trees are found throughout the ...</td>\n",
              "      <td>The kola nut is the fruit of the kola tree, a ...</td>\n",
              "    </tr>\n",
              "    <tr>\n",
              "      <th>4</th>\n",
              "      <td>how many calories a day are lost breastfeeding</td>\n",
              "      <td>Not only is breastfeeding better for the baby,...</td>\n",
              "      <td>However, you still need some niacin each day; ...</td>\n",
              "    </tr>\n",
              "  </tbody>\n",
              "</table>\n",
              "<p>5 rows × 3 columns</p>\n",
              "</div>\n",
              "      <button class=\"colab-df-convert\" onclick=\"convertToInteractive('df-1929e804-e386-4f37-a995-eb90e0c025f3')\"\n",
              "              title=\"Convert this dataframe to an interactive table.\"\n",
              "              style=\"display:none;\">\n",
              "        \n",
              "  <svg xmlns=\"http://www.w3.org/2000/svg\" height=\"24px\"viewBox=\"0 0 24 24\"\n",
              "       width=\"24px\">\n",
              "    <path d=\"M0 0h24v24H0V0z\" fill=\"none\"/>\n",
              "    <path d=\"M18.56 5.44l.94 2.06.94-2.06 2.06-.94-2.06-.94-.94-2.06-.94 2.06-2.06.94zm-11 1L8.5 8.5l.94-2.06 2.06-.94-2.06-.94L8.5 2.5l-.94 2.06-2.06.94zm10 10l.94 2.06.94-2.06 2.06-.94-2.06-.94-.94-2.06-.94 2.06-2.06.94z\"/><path d=\"M17.41 7.96l-1.37-1.37c-.4-.4-.92-.59-1.43-.59-.52 0-1.04.2-1.43.59L10.3 9.45l-7.72 7.72c-.78.78-.78 2.05 0 2.83L4 21.41c.39.39.9.59 1.41.59.51 0 1.02-.2 1.41-.59l7.78-7.78 2.81-2.81c.8-.78.8-2.07 0-2.86zM5.41 20L4 18.59l7.72-7.72 1.47 1.35L5.41 20z\"/>\n",
              "  </svg>\n",
              "      </button>\n",
              "      \n",
              "  <style>\n",
              "    .colab-df-container {\n",
              "      display:flex;\n",
              "      flex-wrap:wrap;\n",
              "      gap: 12px;\n",
              "    }\n",
              "\n",
              "    .colab-df-convert {\n",
              "      background-color: #E8F0FE;\n",
              "      border: none;\n",
              "      border-radius: 50%;\n",
              "      cursor: pointer;\n",
              "      display: none;\n",
              "      fill: #1967D2;\n",
              "      height: 32px;\n",
              "      padding: 0 0 0 0;\n",
              "      width: 32px;\n",
              "    }\n",
              "\n",
              "    .colab-df-convert:hover {\n",
              "      background-color: #E2EBFA;\n",
              "      box-shadow: 0px 1px 2px rgba(60, 64, 67, 0.3), 0px 1px 3px 1px rgba(60, 64, 67, 0.15);\n",
              "      fill: #174EA6;\n",
              "    }\n",
              "\n",
              "    [theme=dark] .colab-df-convert {\n",
              "      background-color: #3B4455;\n",
              "      fill: #D2E3FC;\n",
              "    }\n",
              "\n",
              "    [theme=dark] .colab-df-convert:hover {\n",
              "      background-color: #434B5C;\n",
              "      box-shadow: 0px 1px 3px 1px rgba(0, 0, 0, 0.15);\n",
              "      filter: drop-shadow(0px 1px 2px rgba(0, 0, 0, 0.3));\n",
              "      fill: #FFFFFF;\n",
              "    }\n",
              "  </style>\n",
              "\n",
              "      <script>\n",
              "        const buttonEl =\n",
              "          document.querySelector('#df-1929e804-e386-4f37-a995-eb90e0c025f3 button.colab-df-convert');\n",
              "        buttonEl.style.display =\n",
              "          google.colab.kernel.accessAllowed ? 'block' : 'none';\n",
              "\n",
              "        async function convertToInteractive(key) {\n",
              "          const element = document.querySelector('#df-1929e804-e386-4f37-a995-eb90e0c025f3');\n",
              "          const dataTable =\n",
              "            await google.colab.kernel.invokeFunction('convertToInteractive',\n",
              "                                                     [key], {});\n",
              "          if (!dataTable) return;\n",
              "\n",
              "          const docLinkHtml = 'Like what you see? Visit the ' +\n",
              "            '<a target=\"_blank\" href=https://colab.research.google.com/notebooks/data_table.ipynb>data table notebook</a>'\n",
              "            + ' to learn more about interactive tables.';\n",
              "          element.innerHTML = '';\n",
              "          dataTable['output_type'] = 'display_data';\n",
              "          await google.colab.output.renderOutput(dataTable, element);\n",
              "          const docLink = document.createElement('div');\n",
              "          docLink.innerHTML = docLinkHtml;\n",
              "          element.appendChild(docLink);\n",
              "        }\n",
              "      </script>\n",
              "    </div>\n",
              "  </div>\n",
              "  "
            ]
          },
          "metadata": {},
          "execution_count": 78
        }
      ]
    },
    {
      "cell_type": "code",
      "source": [
        "df.dtypes\n"
      ],
      "metadata": {
        "colab": {
          "base_uri": "https://localhost:8080/"
        },
        "id": "ua7i1BCTRTGx",
        "outputId": "ee180c9b-4135-4c08-db8a-a4eabd9b28d2"
      },
      "execution_count": null,
      "outputs": [
        {
          "output_type": "execute_result",
          "data": {
            "text/plain": [
              "query       object\n",
              "positive    object\n",
              "negative    object\n",
              "Length: 3, dtype: object"
            ]
          },
          "metadata": {},
          "execution_count": 79
        }
      ]
    },
    {
      "cell_type": "markdown",
      "source": [
        "Verificando correção do arquivo!"
      ],
      "metadata": {
        "id": "bQ3S90BBTrKJ"
      }
    },
    {
      "cell_type": "code",
      "source": [
        "print(df.isnull().sum())"
      ],
      "metadata": {
        "colab": {
          "base_uri": "https://localhost:8080/"
        },
        "id": "Qm7ss2BfTlOu",
        "outputId": "c03bdf98-def2-450f-dcb4-48d0fcaf3144"
      },
      "execution_count": null,
      "outputs": [
        {
          "output_type": "stream",
          "name": "stdout",
          "text": [
            "query       0\n",
            "positive    0\n",
            "negative    0\n",
            "Length: 3, dtype: int64\n"
          ]
        }
      ]
    },
    {
      "cell_type": "markdown",
      "source": [
        "### Tratando qualidade dos dados"
      ],
      "metadata": {
        "id": "5yy7AivWxiCb"
      }
    },
    {
      "cell_type": "markdown",
      "source": [
        "#### Ajustando o texto no dataframe"
      ],
      "metadata": {
        "id": "sm0zUCrfS6NK"
      }
    },
    {
      "cell_type": "code",
      "source": [
        "df['query']=df['query'].astype(str)\n",
        "df['positive']=df['positive'].astype(str)\n",
        "df['negative']=df['negative'].astype(str)"
      ],
      "metadata": {
        "id": "HKwyHfD9RuuP"
      },
      "execution_count": null,
      "outputs": []
    },
    {
      "cell_type": "code",
      "source": [
        "x = 'We donât know a lot about the effects'\n",
        "#x = x.encode('utf-8').decode('unicode_escape')\n",
        "x = x.replace('â', '\\'')\n",
        "print(x)"
      ],
      "metadata": {
        "colab": {
          "base_uri": "https://localhost:8080/"
        },
        "id": "07cWwKnHtKUs",
        "outputId": "f767a698-bd86-4d13-a22c-7a4d5c78b15c"
      },
      "execution_count": null,
      "outputs": [
        {
          "output_type": "stream",
          "name": "stdout",
          "text": [
            "We don't know a lot about the effects\n"
          ]
        }
      ]
    },
    {
      "cell_type": "code",
      "source": [
        "df['query'] = df['query'].apply(lambda x: x.replace('â', '\\''))\n",
        "df['positive'] = df['positive'].apply(lambda x: x.replace('â', '\\''))\n",
        "df['negative'] = df['negative'].apply(lambda x: x.replace('â', '\\''))\n"
      ],
      "metadata": {
        "id": "Lg0b1wj0SEsY"
      },
      "execution_count": null,
      "outputs": []
    },
    {
      "cell_type": "code",
      "source": [
        "df.shape"
      ],
      "metadata": {
        "colab": {
          "base_uri": "https://localhost:8080/"
        },
        "id": "FfSKca4vQ8Ds",
        "outputId": "cc994d5e-0e92-4d00-85ea-82a1445ef29f"
      },
      "execution_count": null,
      "outputs": [
        {
          "output_type": "execute_result",
          "data": {
            "text/plain": [
              "(11000, 3)"
            ]
          },
          "metadata": {},
          "execution_count": 84
        }
      ]
    },
    {
      "cell_type": "code",
      "source": [
        "df.head(3)"
      ],
      "metadata": {
        "colab": {
          "base_uri": "https://localhost:8080/",
          "height": 173
        },
        "id": "a1al-ALzRotm",
        "outputId": "3e518d50-7070-4e01-9287-b92aaf19a4ac"
      },
      "execution_count": null,
      "outputs": [
        {
          "output_type": "execute_result",
          "data": {
            "text/plain": [
              "                                      query                                           positive                                           negative\n",
              "0  is a little caffeine ok during pregnancy  We don't know a lot about the effects of caffe...  It is generally safe for pregnant women to eat...\n",
              "1         what fruit is native to australia  Passiflora herbertiana. A rare passion fruit n...  The kola nut is the fruit of the kola tree, a ...\n",
              "2        how large is the canadian military  The Canadian Armed Forces. 1  The first large-...  The Canadian Physician Health Institute (CPHI)...\n",
              "\n",
              "[3 rows x 3 columns]"
            ],
            "text/html": [
              "\n",
              "  <div id=\"df-e1fe4691-a215-4fdc-86b3-bde7a589ea31\">\n",
              "    <div class=\"colab-df-container\">\n",
              "      <div>\n",
              "<style scoped>\n",
              "    .dataframe tbody tr th:only-of-type {\n",
              "        vertical-align: middle;\n",
              "    }\n",
              "\n",
              "    .dataframe tbody tr th {\n",
              "        vertical-align: top;\n",
              "    }\n",
              "\n",
              "    .dataframe thead th {\n",
              "        text-align: right;\n",
              "    }\n",
              "</style>\n",
              "<table border=\"1\" class=\"dataframe\">\n",
              "  <thead>\n",
              "    <tr style=\"text-align: right;\">\n",
              "      <th></th>\n",
              "      <th>query</th>\n",
              "      <th>positive</th>\n",
              "      <th>negative</th>\n",
              "    </tr>\n",
              "  </thead>\n",
              "  <tbody>\n",
              "    <tr>\n",
              "      <th>0</th>\n",
              "      <td>is a little caffeine ok during pregnancy</td>\n",
              "      <td>We don't know a lot about the effects of caffe...</td>\n",
              "      <td>It is generally safe for pregnant women to eat...</td>\n",
              "    </tr>\n",
              "    <tr>\n",
              "      <th>1</th>\n",
              "      <td>what fruit is native to australia</td>\n",
              "      <td>Passiflora herbertiana. A rare passion fruit n...</td>\n",
              "      <td>The kola nut is the fruit of the kola tree, a ...</td>\n",
              "    </tr>\n",
              "    <tr>\n",
              "      <th>2</th>\n",
              "      <td>how large is the canadian military</td>\n",
              "      <td>The Canadian Armed Forces. 1  The first large-...</td>\n",
              "      <td>The Canadian Physician Health Institute (CPHI)...</td>\n",
              "    </tr>\n",
              "  </tbody>\n",
              "</table>\n",
              "<p>3 rows × 3 columns</p>\n",
              "</div>\n",
              "      <button class=\"colab-df-convert\" onclick=\"convertToInteractive('df-e1fe4691-a215-4fdc-86b3-bde7a589ea31')\"\n",
              "              title=\"Convert this dataframe to an interactive table.\"\n",
              "              style=\"display:none;\">\n",
              "        \n",
              "  <svg xmlns=\"http://www.w3.org/2000/svg\" height=\"24px\"viewBox=\"0 0 24 24\"\n",
              "       width=\"24px\">\n",
              "    <path d=\"M0 0h24v24H0V0z\" fill=\"none\"/>\n",
              "    <path d=\"M18.56 5.44l.94 2.06.94-2.06 2.06-.94-2.06-.94-.94-2.06-.94 2.06-2.06.94zm-11 1L8.5 8.5l.94-2.06 2.06-.94-2.06-.94L8.5 2.5l-.94 2.06-2.06.94zm10 10l.94 2.06.94-2.06 2.06-.94-2.06-.94-.94-2.06-.94 2.06-2.06.94z\"/><path d=\"M17.41 7.96l-1.37-1.37c-.4-.4-.92-.59-1.43-.59-.52 0-1.04.2-1.43.59L10.3 9.45l-7.72 7.72c-.78.78-.78 2.05 0 2.83L4 21.41c.39.39.9.59 1.41.59.51 0 1.02-.2 1.41-.59l7.78-7.78 2.81-2.81c.8-.78.8-2.07 0-2.86zM5.41 20L4 18.59l7.72-7.72 1.47 1.35L5.41 20z\"/>\n",
              "  </svg>\n",
              "      </button>\n",
              "      \n",
              "  <style>\n",
              "    .colab-df-container {\n",
              "      display:flex;\n",
              "      flex-wrap:wrap;\n",
              "      gap: 12px;\n",
              "    }\n",
              "\n",
              "    .colab-df-convert {\n",
              "      background-color: #E8F0FE;\n",
              "      border: none;\n",
              "      border-radius: 50%;\n",
              "      cursor: pointer;\n",
              "      display: none;\n",
              "      fill: #1967D2;\n",
              "      height: 32px;\n",
              "      padding: 0 0 0 0;\n",
              "      width: 32px;\n",
              "    }\n",
              "\n",
              "    .colab-df-convert:hover {\n",
              "      background-color: #E2EBFA;\n",
              "      box-shadow: 0px 1px 2px rgba(60, 64, 67, 0.3), 0px 1px 3px 1px rgba(60, 64, 67, 0.15);\n",
              "      fill: #174EA6;\n",
              "    }\n",
              "\n",
              "    [theme=dark] .colab-df-convert {\n",
              "      background-color: #3B4455;\n",
              "      fill: #D2E3FC;\n",
              "    }\n",
              "\n",
              "    [theme=dark] .colab-df-convert:hover {\n",
              "      background-color: #434B5C;\n",
              "      box-shadow: 0px 1px 3px 1px rgba(0, 0, 0, 0.15);\n",
              "      filter: drop-shadow(0px 1px 2px rgba(0, 0, 0, 0.3));\n",
              "      fill: #FFFFFF;\n",
              "    }\n",
              "  </style>\n",
              "\n",
              "      <script>\n",
              "        const buttonEl =\n",
              "          document.querySelector('#df-e1fe4691-a215-4fdc-86b3-bde7a589ea31 button.colab-df-convert');\n",
              "        buttonEl.style.display =\n",
              "          google.colab.kernel.accessAllowed ? 'block' : 'none';\n",
              "\n",
              "        async function convertToInteractive(key) {\n",
              "          const element = document.querySelector('#df-e1fe4691-a215-4fdc-86b3-bde7a589ea31');\n",
              "          const dataTable =\n",
              "            await google.colab.kernel.invokeFunction('convertToInteractive',\n",
              "                                                     [key], {});\n",
              "          if (!dataTable) return;\n",
              "\n",
              "          const docLinkHtml = 'Like what you see? Visit the ' +\n",
              "            '<a target=\"_blank\" href=https://colab.research.google.com/notebooks/data_table.ipynb>data table notebook</a>'\n",
              "            + ' to learn more about interactive tables.';\n",
              "          element.innerHTML = '';\n",
              "          dataTable['output_type'] = 'display_data';\n",
              "          await google.colab.output.renderOutput(dataTable, element);\n",
              "          const docLink = document.createElement('div');\n",
              "          docLink.innerHTML = docLinkHtml;\n",
              "          element.appendChild(docLink);\n",
              "        }\n",
              "      </script>\n",
              "    </div>\n",
              "  </div>\n",
              "  "
            ]
          },
          "metadata": {},
          "execution_count": 85
        }
      ]
    },
    {
      "cell_type": "code",
      "source": [
        "df['positive'].iloc[0]"
      ],
      "metadata": {
        "colab": {
          "base_uri": "https://localhost:8080/",
          "height": 53
        },
        "id": "hQ6oOfZ70yjz",
        "outputId": "f0fa0ae6-14fa-4d7f-fd45-5d20c7383611"
      },
      "execution_count": null,
      "outputs": [
        {
          "output_type": "execute_result",
          "data": {
            "text/plain": [
              "\"We don't know a lot about the effects of caffeine during pregnancy on you and your baby. So it's best to limit the amount you get each day. If you're pregnant, limit caffeine to 200 milligrams each day. This is about the amount in 1Â½ 8-ounce cups of coffee or one 12-ounce cup of coffee.\""
            ],
            "application/vnd.google.colaboratory.intrinsic+json": {
              "type": "string"
            }
          },
          "metadata": {},
          "execution_count": 86
        }
      ]
    },
    {
      "cell_type": "code",
      "source": [],
      "metadata": {
        "id": "kpJ8NQ711BDo"
      },
      "execution_count": null,
      "outputs": []
    },
    {
      "cell_type": "markdown",
      "source": [
        "Código abaixo não funcionou. A evoluir (se der tempo)!\n",
        "\n",
        "import unicodedata\n",
        "\n",
        "x = '1Â½ 8-ounce cups of coffee'\n",
        "\n",
        "x = unicodedata.normalize(\"NFKD\", x)  # Normaliza a string\n",
        "\n",
        "print(x)\n",
        "\n",
        "s = re.sub(r'(\\d+)[\\u00C2\\u00A0]([\\u2150-\\u215E\\u2189])', r'\\1\\2', x, flags=re.UNICODE)\n",
        "print(s)  # \"1½ 8-ounce cups of coffee\""
      ],
      "metadata": {
        "id": "j4-arwgA3oRf"
      }
    },
    {
      "cell_type": "markdown",
      "source": [
        "#### Verificando média de tamanho (em palavras, não em tokens)"
      ],
      "metadata": {
        "id": "ZvAci0iUiA7g"
      }
    },
    {
      "cell_type": "code",
      "source": [
        "df.applymap(len).mean()"
      ],
      "metadata": {
        "colab": {
          "base_uri": "https://localhost:8080/"
        },
        "id": "724bm6gyhQTX",
        "outputId": "08d2b4a7-8edb-44fb-927e-b7f9a2f92767"
      },
      "execution_count": null,
      "outputs": [
        {
          "output_type": "execute_result",
          "data": {
            "text/plain": [
              "query        34.23\n",
              "positive    353.50\n",
              "negative    340.20\n",
              "Length: 3, dtype: float64"
            ]
          },
          "metadata": {},
          "execution_count": 87
        }
      ]
    },
    {
      "cell_type": "markdown",
      "source": [
        "### Divisão em treino e validação (de forma estratificada)"
      ],
      "metadata": {
        "id": "tfTzMCRdXP5s"
      }
    },
    {
      "cell_type": "code",
      "source": [
        "df_data = pd.DataFrame()"
      ],
      "metadata": {
        "id": "K1ofJ30vU9BN"
      },
      "execution_count": null,
      "outputs": []
    },
    {
      "cell_type": "code",
      "source": [
        "df_data['query']=df['query']\n",
        "df_data['passage']=df['positive']\n",
        "df_data['classe']=1\n"
      ],
      "metadata": {
        "id": "8q465MNZUQg4"
      },
      "execution_count": null,
      "outputs": []
    },
    {
      "cell_type": "code",
      "source": [
        "df[['query','negative']].assign(classe=0).head(3)"
      ],
      "metadata": {
        "id": "HR4o0MqYtdO4",
        "outputId": "ec9e2f3c-d4b1-4500-b468-f81fca1fd7d5",
        "colab": {
          "base_uri": "https://localhost:8080/",
          "height": 173
        }
      },
      "execution_count": null,
      "outputs": [
        {
          "output_type": "execute_result",
          "data": {
            "text/plain": [
              "                                      query                                           negative  classe\n",
              "0  is a little caffeine ok during pregnancy  It is generally safe for pregnant women to eat...       0\n",
              "1         what fruit is native to australia  The kola nut is the fruit of the kola tree, a ...       0\n",
              "2        how large is the canadian military  The Canadian Physician Health Institute (CPHI)...       0\n",
              "\n",
              "[3 rows x 3 columns]"
            ],
            "text/html": [
              "\n",
              "  <div id=\"df-51205474-9810-4f21-924f-1b9eab8d2922\">\n",
              "    <div class=\"colab-df-container\">\n",
              "      <div>\n",
              "<style scoped>\n",
              "    .dataframe tbody tr th:only-of-type {\n",
              "        vertical-align: middle;\n",
              "    }\n",
              "\n",
              "    .dataframe tbody tr th {\n",
              "        vertical-align: top;\n",
              "    }\n",
              "\n",
              "    .dataframe thead th {\n",
              "        text-align: right;\n",
              "    }\n",
              "</style>\n",
              "<table border=\"1\" class=\"dataframe\">\n",
              "  <thead>\n",
              "    <tr style=\"text-align: right;\">\n",
              "      <th></th>\n",
              "      <th>query</th>\n",
              "      <th>negative</th>\n",
              "      <th>classe</th>\n",
              "    </tr>\n",
              "  </thead>\n",
              "  <tbody>\n",
              "    <tr>\n",
              "      <th>0</th>\n",
              "      <td>is a little caffeine ok during pregnancy</td>\n",
              "      <td>It is generally safe for pregnant women to eat...</td>\n",
              "      <td>0</td>\n",
              "    </tr>\n",
              "    <tr>\n",
              "      <th>1</th>\n",
              "      <td>what fruit is native to australia</td>\n",
              "      <td>The kola nut is the fruit of the kola tree, a ...</td>\n",
              "      <td>0</td>\n",
              "    </tr>\n",
              "    <tr>\n",
              "      <th>2</th>\n",
              "      <td>how large is the canadian military</td>\n",
              "      <td>The Canadian Physician Health Institute (CPHI)...</td>\n",
              "      <td>0</td>\n",
              "    </tr>\n",
              "  </tbody>\n",
              "</table>\n",
              "<p>3 rows × 3 columns</p>\n",
              "</div>\n",
              "      <button class=\"colab-df-convert\" onclick=\"convertToInteractive('df-51205474-9810-4f21-924f-1b9eab8d2922')\"\n",
              "              title=\"Convert this dataframe to an interactive table.\"\n",
              "              style=\"display:none;\">\n",
              "        \n",
              "  <svg xmlns=\"http://www.w3.org/2000/svg\" height=\"24px\"viewBox=\"0 0 24 24\"\n",
              "       width=\"24px\">\n",
              "    <path d=\"M0 0h24v24H0V0z\" fill=\"none\"/>\n",
              "    <path d=\"M18.56 5.44l.94 2.06.94-2.06 2.06-.94-2.06-.94-.94-2.06-.94 2.06-2.06.94zm-11 1L8.5 8.5l.94-2.06 2.06-.94-2.06-.94L8.5 2.5l-.94 2.06-2.06.94zm10 10l.94 2.06.94-2.06 2.06-.94-2.06-.94-.94-2.06-.94 2.06-2.06.94z\"/><path d=\"M17.41 7.96l-1.37-1.37c-.4-.4-.92-.59-1.43-.59-.52 0-1.04.2-1.43.59L10.3 9.45l-7.72 7.72c-.78.78-.78 2.05 0 2.83L4 21.41c.39.39.9.59 1.41.59.51 0 1.02-.2 1.41-.59l7.78-7.78 2.81-2.81c.8-.78.8-2.07 0-2.86zM5.41 20L4 18.59l7.72-7.72 1.47 1.35L5.41 20z\"/>\n",
              "  </svg>\n",
              "      </button>\n",
              "      \n",
              "  <style>\n",
              "    .colab-df-container {\n",
              "      display:flex;\n",
              "      flex-wrap:wrap;\n",
              "      gap: 12px;\n",
              "    }\n",
              "\n",
              "    .colab-df-convert {\n",
              "      background-color: #E8F0FE;\n",
              "      border: none;\n",
              "      border-radius: 50%;\n",
              "      cursor: pointer;\n",
              "      display: none;\n",
              "      fill: #1967D2;\n",
              "      height: 32px;\n",
              "      padding: 0 0 0 0;\n",
              "      width: 32px;\n",
              "    }\n",
              "\n",
              "    .colab-df-convert:hover {\n",
              "      background-color: #E2EBFA;\n",
              "      box-shadow: 0px 1px 2px rgba(60, 64, 67, 0.3), 0px 1px 3px 1px rgba(60, 64, 67, 0.15);\n",
              "      fill: #174EA6;\n",
              "    }\n",
              "\n",
              "    [theme=dark] .colab-df-convert {\n",
              "      background-color: #3B4455;\n",
              "      fill: #D2E3FC;\n",
              "    }\n",
              "\n",
              "    [theme=dark] .colab-df-convert:hover {\n",
              "      background-color: #434B5C;\n",
              "      box-shadow: 0px 1px 3px 1px rgba(0, 0, 0, 0.15);\n",
              "      filter: drop-shadow(0px 1px 2px rgba(0, 0, 0, 0.3));\n",
              "      fill: #FFFFFF;\n",
              "    }\n",
              "  </style>\n",
              "\n",
              "      <script>\n",
              "        const buttonEl =\n",
              "          document.querySelector('#df-51205474-9810-4f21-924f-1b9eab8d2922 button.colab-df-convert');\n",
              "        buttonEl.style.display =\n",
              "          google.colab.kernel.accessAllowed ? 'block' : 'none';\n",
              "\n",
              "        async function convertToInteractive(key) {\n",
              "          const element = document.querySelector('#df-51205474-9810-4f21-924f-1b9eab8d2922');\n",
              "          const dataTable =\n",
              "            await google.colab.kernel.invokeFunction('convertToInteractive',\n",
              "                                                     [key], {});\n",
              "          if (!dataTable) return;\n",
              "\n",
              "          const docLinkHtml = 'Like what you see? Visit the ' +\n",
              "            '<a target=\"_blank\" href=https://colab.research.google.com/notebooks/data_table.ipynb>data table notebook</a>'\n",
              "            + ' to learn more about interactive tables.';\n",
              "          element.innerHTML = '';\n",
              "          dataTable['output_type'] = 'display_data';\n",
              "          await google.colab.output.renderOutput(dataTable, element);\n",
              "          const docLink = document.createElement('div');\n",
              "          docLink.innerHTML = docLinkHtml;\n",
              "          element.appendChild(docLink);\n",
              "        }\n",
              "      </script>\n",
              "    </div>\n",
              "  </div>\n",
              "  "
            ]
          },
          "metadata": {},
          "execution_count": 90
        }
      ]
    },
    {
      "cell_type": "code",
      "source": [
        "df_data = df_data.append(df[['query','negative']].rename(columns={'negative': 'passage'}).assign(classe=0), ignore_index=True)"
      ],
      "metadata": {
        "colab": {
          "base_uri": "https://localhost:8080/"
        },
        "id": "B15ilkySUQdf",
        "outputId": "43e28237-a39d-4f9a-d18b-182a7ce086a3"
      },
      "execution_count": null,
      "outputs": [
        {
          "output_type": "stream",
          "name": "stderr",
          "text": [
            "<ipython-input-91-05336a35200b>:1: FutureWarning: The frame.append method is deprecated and will be removed from pandas in a future version. Use pandas.concat instead.\n",
            "  df_data = df_data.append(df[['query','negative']].rename(columns={'negative': 'passage'}).assign(classe=0), ignore_index=True)\n"
          ]
        }
      ]
    },
    {
      "cell_type": "code",
      "source": [
        "df_data.shape"
      ],
      "metadata": {
        "colab": {
          "base_uri": "https://localhost:8080/"
        },
        "id": "cZN_dlJtUQK-",
        "outputId": "5afc844c-600d-4787-cec0-729fba17416b"
      },
      "execution_count": null,
      "outputs": [
        {
          "output_type": "execute_result",
          "data": {
            "text/plain": [
              "(22000, 3)"
            ]
          },
          "metadata": {},
          "execution_count": 92
        }
      ]
    },
    {
      "cell_type": "code",
      "source": [
        "assert df_data.shape[0] == 22000, f'Erro no df_data.shape[0]. Deveria ser 22000 e é {df_data.shape[0]}'"
      ],
      "metadata": {
        "id": "y1vlsMpxhqJw"
      },
      "execution_count": null,
      "outputs": []
    },
    {
      "cell_type": "code",
      "source": [
        "df_data.head(3), df_data.tail(3)"
      ],
      "metadata": {
        "colab": {
          "base_uri": "https://localhost:8080/"
        },
        "id": "lY-HlsLJWrnJ",
        "outputId": "a79a4e43-d6af-4338-f00e-48b82fa20243"
      },
      "execution_count": null,
      "outputs": [
        {
          "output_type": "execute_result",
          "data": {
            "text/plain": [
              "(                                      query                                            passage  classe\n",
              " 0  is a little caffeine ok during pregnancy  We don't know a lot about the effects of caffe...       1\n",
              " 1         what fruit is native to australia  Passiflora herbertiana. A rare passion fruit n...       1\n",
              " 2        how large is the canadian military  The Canadian Armed Forces. 1  The first large-...       1\n",
              " \n",
              " [3 rows x 3 columns],\n",
              "                                                  query                                            passage  classe\n",
              " 21997              deloitte consulting or phone number  Virtual phone numbers are convenient for both ...       0\n",
              " 21998  how many hours a day to work to get lunch in ,a  1 Levaquin can be taken at any time of the day...       0\n",
              " 21999   what theatre company did shakespeare invest in  The Globe Theatre was constructed in 1599, out...       0\n",
              " \n",
              " [3 rows x 3 columns])"
            ]
          },
          "metadata": {},
          "execution_count": 95
        }
      ]
    },
    {
      "cell_type": "code",
      "source": [
        "from sklearn.model_selection import train_test_split"
      ],
      "metadata": {
        "id": "nbpIb5ADXUOF"
      },
      "execution_count": null,
      "outputs": []
    },
    {
      "cell_type": "code",
      "source": [
        "hparam['percent_test_size'] = .15 #@param [.10, .15, .20] {type:'raw'}"
      ],
      "metadata": {
        "id": "-Hhsa8DCaytA"
      },
      "execution_count": null,
      "outputs": []
    },
    {
      "cell_type": "code",
      "source": [
        "df_data[['query','passage']]"
      ],
      "metadata": {
        "colab": {
          "base_uri": "https://localhost:8080/",
          "height": 424
        },
        "id": "lU8yYt-EySgo",
        "outputId": "07f64f2d-d905-4fb0-ce5e-b89dd04adc1e"
      },
      "execution_count": null,
      "outputs": [
        {
          "output_type": "execute_result",
          "data": {
            "text/plain": [
              "                                                 query                                            passage\n",
              "0             is a little caffeine ok during pregnancy  We don't know a lot about the effects of caffe...\n",
              "1                    what fruit is native to australia  Passiflora herbertiana. A rare passion fruit n...\n",
              "2                   how large is the canadian military  The Canadian Armed Forces. 1  The first large-...\n",
              "3                                 types of fruit trees  Cherry. Cherry trees are found throughout the ...\n",
              "4       how many calories a day are lost breastfeeding  Not only is breastfeeding better for the baby,...\n",
              "...                                                ...                                                ...\n",
              "21995                       where is maramal in skyrim  One type of character isn't necessarily better...\n",
              "21996        which is a basic unit of a sugar molecule  According to Merriam-Webster and the Online Et...\n",
              "21997              deloitte consulting or phone number  Virtual phone numbers are convenient for both ...\n",
              "21998  how many hours a day to work to get lunch in ,a  1 Levaquin can be taken at any time of the day...\n",
              "21999   what theatre company did shakespeare invest in  The Globe Theatre was constructed in 1599, out...\n",
              "\n",
              "[22000 rows x 2 columns]"
            ],
            "text/html": [
              "\n",
              "  <div id=\"df-add0f3f0-1a36-4e7f-8b0c-64532955115c\">\n",
              "    <div class=\"colab-df-container\">\n",
              "      <div>\n",
              "<style scoped>\n",
              "    .dataframe tbody tr th:only-of-type {\n",
              "        vertical-align: middle;\n",
              "    }\n",
              "\n",
              "    .dataframe tbody tr th {\n",
              "        vertical-align: top;\n",
              "    }\n",
              "\n",
              "    .dataframe thead th {\n",
              "        text-align: right;\n",
              "    }\n",
              "</style>\n",
              "<table border=\"1\" class=\"dataframe\">\n",
              "  <thead>\n",
              "    <tr style=\"text-align: right;\">\n",
              "      <th></th>\n",
              "      <th>query</th>\n",
              "      <th>passage</th>\n",
              "    </tr>\n",
              "  </thead>\n",
              "  <tbody>\n",
              "    <tr>\n",
              "      <th>0</th>\n",
              "      <td>is a little caffeine ok during pregnancy</td>\n",
              "      <td>We don't know a lot about the effects of caffe...</td>\n",
              "    </tr>\n",
              "    <tr>\n",
              "      <th>1</th>\n",
              "      <td>what fruit is native to australia</td>\n",
              "      <td>Passiflora herbertiana. A rare passion fruit n...</td>\n",
              "    </tr>\n",
              "    <tr>\n",
              "      <th>2</th>\n",
              "      <td>how large is the canadian military</td>\n",
              "      <td>The Canadian Armed Forces. 1  The first large-...</td>\n",
              "    </tr>\n",
              "    <tr>\n",
              "      <th>3</th>\n",
              "      <td>types of fruit trees</td>\n",
              "      <td>Cherry. Cherry trees are found throughout the ...</td>\n",
              "    </tr>\n",
              "    <tr>\n",
              "      <th>4</th>\n",
              "      <td>how many calories a day are lost breastfeeding</td>\n",
              "      <td>Not only is breastfeeding better for the baby,...</td>\n",
              "    </tr>\n",
              "    <tr>\n",
              "      <th>...</th>\n",
              "      <td>...</td>\n",
              "      <td>...</td>\n",
              "    </tr>\n",
              "    <tr>\n",
              "      <th>21995</th>\n",
              "      <td>where is maramal in skyrim</td>\n",
              "      <td>One type of character isn't necessarily better...</td>\n",
              "    </tr>\n",
              "    <tr>\n",
              "      <th>21996</th>\n",
              "      <td>which is a basic unit of a sugar molecule</td>\n",
              "      <td>According to Merriam-Webster and the Online Et...</td>\n",
              "    </tr>\n",
              "    <tr>\n",
              "      <th>21997</th>\n",
              "      <td>deloitte consulting or phone number</td>\n",
              "      <td>Virtual phone numbers are convenient for both ...</td>\n",
              "    </tr>\n",
              "    <tr>\n",
              "      <th>21998</th>\n",
              "      <td>how many hours a day to work to get lunch in ,a</td>\n",
              "      <td>1 Levaquin can be taken at any time of the day...</td>\n",
              "    </tr>\n",
              "    <tr>\n",
              "      <th>21999</th>\n",
              "      <td>what theatre company did shakespeare invest in</td>\n",
              "      <td>The Globe Theatre was constructed in 1599, out...</td>\n",
              "    </tr>\n",
              "  </tbody>\n",
              "</table>\n",
              "<p>22000 rows × 2 columns</p>\n",
              "</div>\n",
              "      <button class=\"colab-df-convert\" onclick=\"convertToInteractive('df-add0f3f0-1a36-4e7f-8b0c-64532955115c')\"\n",
              "              title=\"Convert this dataframe to an interactive table.\"\n",
              "              style=\"display:none;\">\n",
              "        \n",
              "  <svg xmlns=\"http://www.w3.org/2000/svg\" height=\"24px\"viewBox=\"0 0 24 24\"\n",
              "       width=\"24px\">\n",
              "    <path d=\"M0 0h24v24H0V0z\" fill=\"none\"/>\n",
              "    <path d=\"M18.56 5.44l.94 2.06.94-2.06 2.06-.94-2.06-.94-.94-2.06-.94 2.06-2.06.94zm-11 1L8.5 8.5l.94-2.06 2.06-.94-2.06-.94L8.5 2.5l-.94 2.06-2.06.94zm10 10l.94 2.06.94-2.06 2.06-.94-2.06-.94-.94-2.06-.94 2.06-2.06.94z\"/><path d=\"M17.41 7.96l-1.37-1.37c-.4-.4-.92-.59-1.43-.59-.52 0-1.04.2-1.43.59L10.3 9.45l-7.72 7.72c-.78.78-.78 2.05 0 2.83L4 21.41c.39.39.9.59 1.41.59.51 0 1.02-.2 1.41-.59l7.78-7.78 2.81-2.81c.8-.78.8-2.07 0-2.86zM5.41 20L4 18.59l7.72-7.72 1.47 1.35L5.41 20z\"/>\n",
              "  </svg>\n",
              "      </button>\n",
              "      \n",
              "  <style>\n",
              "    .colab-df-container {\n",
              "      display:flex;\n",
              "      flex-wrap:wrap;\n",
              "      gap: 12px;\n",
              "    }\n",
              "\n",
              "    .colab-df-convert {\n",
              "      background-color: #E8F0FE;\n",
              "      border: none;\n",
              "      border-radius: 50%;\n",
              "      cursor: pointer;\n",
              "      display: none;\n",
              "      fill: #1967D2;\n",
              "      height: 32px;\n",
              "      padding: 0 0 0 0;\n",
              "      width: 32px;\n",
              "    }\n",
              "\n",
              "    .colab-df-convert:hover {\n",
              "      background-color: #E2EBFA;\n",
              "      box-shadow: 0px 1px 2px rgba(60, 64, 67, 0.3), 0px 1px 3px 1px rgba(60, 64, 67, 0.15);\n",
              "      fill: #174EA6;\n",
              "    }\n",
              "\n",
              "    [theme=dark] .colab-df-convert {\n",
              "      background-color: #3B4455;\n",
              "      fill: #D2E3FC;\n",
              "    }\n",
              "\n",
              "    [theme=dark] .colab-df-convert:hover {\n",
              "      background-color: #434B5C;\n",
              "      box-shadow: 0px 1px 3px 1px rgba(0, 0, 0, 0.15);\n",
              "      filter: drop-shadow(0px 1px 2px rgba(0, 0, 0, 0.3));\n",
              "      fill: #FFFFFF;\n",
              "    }\n",
              "  </style>\n",
              "\n",
              "      <script>\n",
              "        const buttonEl =\n",
              "          document.querySelector('#df-add0f3f0-1a36-4e7f-8b0c-64532955115c button.colab-df-convert');\n",
              "        buttonEl.style.display =\n",
              "          google.colab.kernel.accessAllowed ? 'block' : 'none';\n",
              "\n",
              "        async function convertToInteractive(key) {\n",
              "          const element = document.querySelector('#df-add0f3f0-1a36-4e7f-8b0c-64532955115c');\n",
              "          const dataTable =\n",
              "            await google.colab.kernel.invokeFunction('convertToInteractive',\n",
              "                                                     [key], {});\n",
              "          if (!dataTable) return;\n",
              "\n",
              "          const docLinkHtml = 'Like what you see? Visit the ' +\n",
              "            '<a target=\"_blank\" href=https://colab.research.google.com/notebooks/data_table.ipynb>data table notebook</a>'\n",
              "            + ' to learn more about interactive tables.';\n",
              "          element.innerHTML = '';\n",
              "          dataTable['output_type'] = 'display_data';\n",
              "          await google.colab.output.renderOutput(dataTable, element);\n",
              "          const docLink = document.createElement('div');\n",
              "          docLink.innerHTML = docLinkHtml;\n",
              "          element.appendChild(docLink);\n",
              "        }\n",
              "      </script>\n",
              "    </div>\n",
              "  </div>\n",
              "  "
            ]
          },
          "metadata": {},
          "execution_count": 98
        }
      ]
    },
    {
      "cell_type": "code",
      "source": [
        "df_data[['query','passage']].values"
      ],
      "metadata": {
        "colab": {
          "base_uri": "https://localhost:8080/"
        },
        "id": "JqzjVi8nyTyf",
        "outputId": "f6317083-d314-41c3-d819-7be105926324"
      },
      "execution_count": null,
      "outputs": [
        {
          "output_type": "execute_result",
          "data": {
            "text/plain": [
              "array([['is a little caffeine ok during pregnancy',\n",
              "        \"We don't know a lot about the effects of caffeine during pregnancy on you and your baby. So it's best to limit the amount you get each day. If you're pregnant, limit caffeine to 200 milligrams each day. This is about the amount in 1Â½ 8-ounce cups of coffee or one 12-ounce cup of coffee.\"],\n",
              "       ['what fruit is native to australia',\n",
              "        'Passiflora herbertiana. A rare passion fruit native to Australia. Fruits are green-skinned, white fleshed, with an unknown edible rating. Some sources list the fruit as edible, sweet and tasty, while others list the fruits as being bitter and inedible.assiflora herbertiana. A rare passion fruit native to Australia. Fruits are green-skinned, white fleshed, with an unknown edible rating. Some sources list the fruit as edible, sweet and tasty, while others list the fruits as being bitter and inedible.'],\n",
              "       ['how large is the canadian military',\n",
              "        \"The Canadian Armed Forces. 1  The first large-scale Canadian peacekeeping mission started in Egypt on November 24, 1956. 2  There are approximately 65,000 Regular Force and 25,000 reservist members in the Canadian military. 3  In Canada, August 9 is designated as National Peacekeepers' Day.\"],\n",
              "       ...,\n",
              "       ['deloitte consulting or phone number',\n",
              "        'Virtual phone numbers are convenient for both you and your callers. Your virtual phone from Malaysia number will be a local number, so no matter where you or your office is located, you can be accessible at local call rates. When someone dials your virtual phone number, your ring-to number will ring.'],\n",
              "       ['how many hours a day to work to get lunch in ,a',\n",
              "        '1 Levaquin can be taken at any time of the day; however, be sure to take it at the same time each day (to make sure there is approximately 24 hours between doses).  For the medication to work properly, it must be taken as prescribed. Levaquin will not work if you stop taking it too soon.'],\n",
              "       ['what theatre company did shakespeare invest in',\n",
              "        \"The Globe Theatre was constructed in 1599, out of timber taken from the Theatre. It stood next to the Rose, on the south side of the Thames, and was the most elaborate and attractive theatre yet built.he Globe was the primary home of Shakespeare's acting company beginning in late 1599, and it is a possibility that As You Like It was written especially for the occasion. On June 29, 1613, during a performance of Henry VIII, a misfired canon ball set the Globe's thatched roof on fire and the whole theatre was consumed.\"]],\n",
              "      dtype=object)"
            ]
          },
          "metadata": {},
          "execution_count": 99
        }
      ]
    },
    {
      "cell_type": "code",
      "source": [
        "X_train, X_valid, Y_train, Y_valid = train_test_split(df_data[['query','passage']].values, df_data['classe'].values, test_size=hparam['percent_test_size'], stratify=df_data['classe'].values, random_state=num_semente)"
      ],
      "metadata": {
        "id": "ZGO8xU6BXasq"
      },
      "execution_count": null,
      "outputs": []
    },
    {
      "cell_type": "code",
      "source": [
        "X_train.shape, type(X_valid), type(Y_valid), X_valid.shape, Y_valid.shape"
      ],
      "metadata": {
        "colab": {
          "base_uri": "https://localhost:8080/"
        },
        "id": "JdqAE4tiXao0",
        "outputId": "d1b4fe28-214a-4fd2-c383-565e06fdf14a"
      },
      "execution_count": null,
      "outputs": [
        {
          "output_type": "execute_result",
          "data": {
            "text/plain": [
              "((18700, 2), numpy.ndarray, numpy.ndarray, (3300, 2), (3300,))"
            ]
          },
          "metadata": {},
          "execution_count": 101
        }
      ]
    },
    {
      "cell_type": "code",
      "source": [
        "print(np.unique(Y_train, return_counts=True), '\\n', np.unique(Y_valid, return_counts=True))"
      ],
      "metadata": {
        "colab": {
          "base_uri": "https://localhost:8080/"
        },
        "id": "bT1MHfqrXakV",
        "outputId": "d4f82665-164a-4eeb-88bb-b26ee6dbab63"
      },
      "execution_count": null,
      "outputs": [
        {
          "output_type": "stream",
          "name": "stdout",
          "text": [
            "(array([0, 1]), array([9350, 9350])) \n",
            " (array([0, 1]), array([1650, 1650]))\n"
          ]
        }
      ]
    },
    {
      "cell_type": "code",
      "source": [
        "X_train[:2]"
      ],
      "metadata": {
        "colab": {
          "base_uri": "https://localhost:8080/"
        },
        "id": "y98qMz4W8mnA",
        "outputId": "6a01401c-e1d6-4da0-8057-c2017fb25789"
      },
      "execution_count": null,
      "outputs": [
        {
          "output_type": "execute_result",
          "data": {
            "text/plain": [
              "array([['who is nucky thompson based on',\n",
              "        'Nolan Lyons (1884) Marc Pickering (1897) Enoch Malachi Nucky Thompson, played by Steve Buscemi, is the protagonist of the series Boardwalk Empire. He is very loosely based on the real New Jersey politician Enoch L. Johnson (1883-1968), who was in control of Atlantic City for two decades, between 1911 and 1931.'],\n",
              "       ['can i bury paper money',\n",
              "        \"They keep your tax return once filed and do NOT return the return to you. Are you asking about your refund? YOU had the problem which resulted in denial of efiling. Paper returns always take longer to process. I just got my federal refund for a paper return filed 4/15 and the state refund hasn't come yet. It takes as long as it takes, and there is nothing you can do about it, venting and ranting won't change anything. The state is out of money, so I don't expect anything anytime soon.\"]],\n",
              "      dtype=object)"
            ]
          },
          "metadata": {},
          "execution_count": 103
        }
      ]
    },
    {
      "cell_type": "code",
      "source": [
        "Y_train[:2]"
      ],
      "metadata": {
        "colab": {
          "base_uri": "https://localhost:8080/"
        },
        "id": "VqljfEA59zxz",
        "outputId": "1d855e17-9a01-4a32-e9fc-383b8721a299"
      },
      "execution_count": null,
      "outputs": [
        {
          "output_type": "execute_result",
          "data": {
            "text/plain": [
              "array([1, 0])"
            ]
          },
          "metadata": {},
          "execution_count": 104
        }
      ]
    },
    {
      "cell_type": "markdown",
      "source": [
        "### Computing input lengths - experimentando o tokenizador"
      ],
      "metadata": {
        "id": "lnhoAgvR1wCH"
      }
    },
    {
      "cell_type": "code",
      "source": [
        "const_nome_modelo = 'microsoft/MiniLM-L12-H384-uncased'"
      ],
      "metadata": {
        "id": "5-_sS1FAcIO5"
      },
      "execution_count": null,
      "outputs": []
    },
    {
      "cell_type": "code",
      "source": [
        "from transformers import AutoTokenizer, AutoModelForSequenceClassification\n",
        "tokenizer = AutoTokenizer.from_pretrained(const_nome_modelo)"
      ],
      "metadata": {
        "colab": {
          "base_uri": "https://localhost:8080/",
          "height": 842,
          "referenced_widgets": [
            "a8b5c7be4c95478a9607b5a7a4739765",
            "29b1910df1104e34ac00484e7e65272e",
            "96e667cab3114886b9cbe071e9b7529d",
            "64d8bd81751d4873a39996cd68c24cef",
            "92e7c478191e4dc89fd73223e9532ba2",
            "2fe662db1df54c848612cf5c367aeaf8",
            "d0da6606d6ca48de970999a88ca20b43",
            "243e74004bd944de846f14667614de11",
            "221f35b984194b5dbd8bbee439011071",
            "6aee7a5f0f844aa2aac22c012f9c1ba8",
            "8a53ef042d934b59867119807e448a9f",
            "d680c98bae0f4af8a58e0e1fd9c8bcb3",
            "7fd53f7a0eda4093835df6ec625a23b4",
            "212bd7339d1d4ec7b56f10484770ed42",
            "11dad5b33ad641c3be7d373703da1f57",
            "078a9af4c091417a873bac41c1ed75df",
            "d12540f8090d467b9982a248812766ef",
            "7b58e1e0e3624480965929b73cdc66fa",
            "49cb44b2f421408b87085441bd7ab9b3",
            "b56f9c68334e4ef6b33c429e14637a05",
            "7d9464f08d0d40909f137fa8f8de4fad",
            "89f88227aeb147de94175b2cec32947a",
            "2a8d539e1f0f433fb63234c718baa205",
            "a6c26f5c983146a7b83fcbe1395784f5",
            "03a9f58f62c24e878bd497e313a35144",
            "969623362af64ffbbe26b4d8348ee2d2",
            "00684db246e44c7dbfa1b2fcdc3d35a3",
            "0878ff601a534ff78eaa8cfaf6c7d96b",
            "e30e4cad6f4f48bcb5885ea4244b772e",
            "4a7f0ac99b4f4f4fb2641a53694fa311",
            "b524e1bc0da04637831b76da6479725d",
            "2fa064d366a143c894b32b0c33e02ac7",
            "ab03bf4d845d456e916205a8b6650bdc",
            "900c5b2ded1b4a53b48f8d4c9b62ba42",
            "138e877f94b14309a6f6e995e142d91d",
            "3a65725f27bc451cb28b0c706403e26e",
            "ee83543552c241f2b024a007034d7066",
            "df370bd8d5d84d859b622dbb1257049e",
            "3067d896726742ba84eb988e6a7d5afd",
            "93a50baecb0d47c99f3e199b26c3f0e7",
            "d3f63804415242aea3db324cdee47298",
            "d143b6d205a04e1183c4551bca0d4a04",
            "3a8a09192f0547b694a29229ed703b61",
            "fd05dd1078f04a6cad79e1fa58ed66d0"
          ]
        },
        "id": "rsngiRh3NjDE",
        "outputId": "8f6cb06b-5422-4ea0-df97-dc0931df1ccd"
      },
      "execution_count": null,
      "outputs": [
        {
          "output_type": "stream",
          "name": "stderr",
          "text": [
            "https://huggingface.co/microsoft/MiniLM-L12-H384-uncased/resolve/main/config.json not found in cache or force_download set to True, downloading to /root/.cache/huggingface/transformers/tmp37zwm3ng\n"
          ]
        },
        {
          "output_type": "display_data",
          "data": {
            "text/plain": [
              "Downloading:   0%|          | 0.00/385 [00:00<?, ?B/s]"
            ],
            "application/vnd.jupyter.widget-view+json": {
              "version_major": 2,
              "version_minor": 0,
              "model_id": "a8b5c7be4c95478a9607b5a7a4739765"
            }
          },
          "metadata": {}
        },
        {
          "output_type": "stream",
          "name": "stderr",
          "text": [
            "storing https://huggingface.co/microsoft/MiniLM-L12-H384-uncased/resolve/main/config.json in cache at /root/.cache/huggingface/transformers/ceb753d3f27a8c0d09184f35884666cda91b8ae610cd2a54d89793ac7663f1f9.13815020fd994b27db9974c0ce0ec4c47dfac6c8f11bf1a35a0a06d5b165665a\n",
            "creating metadata file for /root/.cache/huggingface/transformers/ceb753d3f27a8c0d09184f35884666cda91b8ae610cd2a54d89793ac7663f1f9.13815020fd994b27db9974c0ce0ec4c47dfac6c8f11bf1a35a0a06d5b165665a\n",
            "loading configuration file https://huggingface.co/microsoft/MiniLM-L12-H384-uncased/resolve/main/config.json from cache at /root/.cache/huggingface/transformers/ceb753d3f27a8c0d09184f35884666cda91b8ae610cd2a54d89793ac7663f1f9.13815020fd994b27db9974c0ce0ec4c47dfac6c8f11bf1a35a0a06d5b165665a\n",
            "Model config BertConfig {\n",
            "  \"attention_probs_dropout_prob\": 0.1,\n",
            "  \"gradient_checkpointing\": false,\n",
            "  \"hidden_act\": \"gelu\",\n",
            "  \"hidden_dropout_prob\": 0.1,\n",
            "  \"hidden_size\": 384,\n",
            "  \"initializer_range\": 0.02,\n",
            "  \"intermediate_size\": 1536,\n",
            "  \"layer_norm_eps\": 1e-12,\n",
            "  \"max_position_embeddings\": 512,\n",
            "  \"model_type\": \"bert\",\n",
            "  \"num_attention_heads\": 12,\n",
            "  \"num_hidden_layers\": 12,\n",
            "  \"pad_token_id\": 0,\n",
            "  \"position_embedding_type\": \"absolute\",\n",
            "  \"transformers_version\": \"4.6.1\",\n",
            "  \"type_vocab_size\": 2,\n",
            "  \"use_cache\": true,\n",
            "  \"vocab_size\": 30522\n",
            "}\n",
            "\n",
            "https://huggingface.co/microsoft/MiniLM-L12-H384-uncased/resolve/main/vocab.txt not found in cache or force_download set to True, downloading to /root/.cache/huggingface/transformers/tmpp91w58g5\n"
          ]
        },
        {
          "output_type": "display_data",
          "data": {
            "text/plain": [
              "Downloading:   0%|          | 0.00/232k [00:00<?, ?B/s]"
            ],
            "application/vnd.jupyter.widget-view+json": {
              "version_major": 2,
              "version_minor": 0,
              "model_id": "d680c98bae0f4af8a58e0e1fd9c8bcb3"
            }
          },
          "metadata": {}
        },
        {
          "output_type": "stream",
          "name": "stderr",
          "text": [
            "storing https://huggingface.co/microsoft/MiniLM-L12-H384-uncased/resolve/main/vocab.txt in cache at /root/.cache/huggingface/transformers/49c302ee103bf6737d0877cfbd658563cf4bbc4b7914363ca419ce8a3d8a4c51.d789d64ebfe299b0e416afc4a169632f903f693095b4629a7ea271d5a0cf2c99\n",
            "creating metadata file for /root/.cache/huggingface/transformers/49c302ee103bf6737d0877cfbd658563cf4bbc4b7914363ca419ce8a3d8a4c51.d789d64ebfe299b0e416afc4a169632f903f693095b4629a7ea271d5a0cf2c99\n",
            "https://huggingface.co/microsoft/MiniLM-L12-H384-uncased/resolve/main/special_tokens_map.json not found in cache or force_download set to True, downloading to /root/.cache/huggingface/transformers/tmp7j1goq44\n"
          ]
        },
        {
          "output_type": "display_data",
          "data": {
            "text/plain": [
              "Downloading:   0%|          | 0.00/112 [00:00<?, ?B/s]"
            ],
            "application/vnd.jupyter.widget-view+json": {
              "version_major": 2,
              "version_minor": 0,
              "model_id": "2a8d539e1f0f433fb63234c718baa205"
            }
          },
          "metadata": {}
        },
        {
          "output_type": "stream",
          "name": "stderr",
          "text": [
            "storing https://huggingface.co/microsoft/MiniLM-L12-H384-uncased/resolve/main/special_tokens_map.json in cache at /root/.cache/huggingface/transformers/1e5909e4dfaa904617797ed35a6105a23daa56cbefca48fef329f772584699fb.dd8bd9bfd3664b530ea4e645105f557769387b3da9f79bdb55ed556bdd80611d\n",
            "creating metadata file for /root/.cache/huggingface/transformers/1e5909e4dfaa904617797ed35a6105a23daa56cbefca48fef329f772584699fb.dd8bd9bfd3664b530ea4e645105f557769387b3da9f79bdb55ed556bdd80611d\n",
            "https://huggingface.co/microsoft/MiniLM-L12-H384-uncased/resolve/main/tokenizer_config.json not found in cache or force_download set to True, downloading to /root/.cache/huggingface/transformers/tmp1di6sq3y\n"
          ]
        },
        {
          "output_type": "display_data",
          "data": {
            "text/plain": [
              "Downloading:   0%|          | 0.00/2.00 [00:00<?, ?B/s]"
            ],
            "application/vnd.jupyter.widget-view+json": {
              "version_major": 2,
              "version_minor": 0,
              "model_id": "900c5b2ded1b4a53b48f8d4c9b62ba42"
            }
          },
          "metadata": {}
        },
        {
          "output_type": "stream",
          "name": "stderr",
          "text": [
            "storing https://huggingface.co/microsoft/MiniLM-L12-H384-uncased/resolve/main/tokenizer_config.json in cache at /root/.cache/huggingface/transformers/29039dfe8c131360348e9f5ebecd464478cec7576c9af532b55ddcf9d4ec8d1e.5cc6e825eb228a7a5cfd27cb4d7151e97a79fb962b31aaf1813aa102e746584b\n",
            "creating metadata file for /root/.cache/huggingface/transformers/29039dfe8c131360348e9f5ebecd464478cec7576c9af532b55ddcf9d4ec8d1e.5cc6e825eb228a7a5cfd27cb4d7151e97a79fb962b31aaf1813aa102e746584b\n",
            "loading file https://huggingface.co/microsoft/MiniLM-L12-H384-uncased/resolve/main/vocab.txt from cache at /root/.cache/huggingface/transformers/49c302ee103bf6737d0877cfbd658563cf4bbc4b7914363ca419ce8a3d8a4c51.d789d64ebfe299b0e416afc4a169632f903f693095b4629a7ea271d5a0cf2c99\n",
            "loading file https://huggingface.co/microsoft/MiniLM-L12-H384-uncased/resolve/main/tokenizer.json from cache at None\n",
            "loading file https://huggingface.co/microsoft/MiniLM-L12-H384-uncased/resolve/main/added_tokens.json from cache at None\n",
            "loading file https://huggingface.co/microsoft/MiniLM-L12-H384-uncased/resolve/main/special_tokens_map.json from cache at /root/.cache/huggingface/transformers/1e5909e4dfaa904617797ed35a6105a23daa56cbefca48fef329f772584699fb.dd8bd9bfd3664b530ea4e645105f557769387b3da9f79bdb55ed556bdd80611d\n",
            "loading file https://huggingface.co/microsoft/MiniLM-L12-H384-uncased/resolve/main/tokenizer_config.json from cache at /root/.cache/huggingface/transformers/29039dfe8c131360348e9f5ebecd464478cec7576c9af532b55ddcf9d4ec8d1e.5cc6e825eb228a7a5cfd27cb4d7151e97a79fb962b31aaf1813aa102e746584b\n"
          ]
        }
      ]
    },
    {
      "cell_type": "code",
      "source": [
        "mostra_memoria(['cpu','gpu'])"
      ],
      "metadata": {
        "colab": {
          "base_uri": "https://localhost:8080/"
        },
        "id": "xqHpWcGzd9Nc",
        "outputId": "73e890b8-5b57-41e4-cf30-2fc56709e2ea"
      },
      "execution_count": null,
      "outputs": [
        {
          "output_type": "stream",
          "name": "stdout",
          "text": [
            "Your runtime RAM in gb: \n",
            " total 27.33\n",
            " available 24.99\n",
            " used 1.94\n",
            " free 9.02\n",
            " cached 15.9\n",
            " buffers 0.47\n",
            "/nGPU\n",
            "Sun Mar 12 20:32:02 2023       \n",
            "+-----------------------------------------------------------------------------+\n",
            "| NVIDIA-SMI 525.85.12    Driver Version: 525.85.12    CUDA Version: 12.0     |\n",
            "|-------------------------------+----------------------+----------------------+\n",
            "| GPU  Name        Persistence-M| Bus-Id        Disp.A | Volatile Uncorr. ECC |\n",
            "| Fan  Temp  Perf  Pwr:Usage/Cap|         Memory-Usage | GPU-Util  Compute M. |\n",
            "|                               |                      |               MIG M. |\n",
            "|===============================+======================+======================|\n",
            "|   0  Tesla T4            Off  | 00000000:00:04.0 Off |                    0 |\n",
            "| N/A   37C    P8     9W /  70W |      3MiB / 15360MiB |      0%      Default |\n",
            "|                               |                      |                  N/A |\n",
            "+-------------------------------+----------------------+----------------------+\n",
            "                                                                               \n",
            "+-----------------------------------------------------------------------------+\n",
            "| Processes:                                                                  |\n",
            "|  GPU   GI   CI        PID   Type   Process name                  GPU Memory |\n",
            "|        ID   ID                                                   Usage      |\n",
            "|=============================================================================|\n",
            "|  No running processes found                                                 |\n",
            "+-----------------------------------------------------------------------------+\n"
          ]
        }
      ]
    },
    {
      "cell_type": "code",
      "source": [
        "tokenizer.pad_token_id,tokenizer.cls_token_id,tokenizer.sep_token_id"
      ],
      "metadata": {
        "colab": {
          "base_uri": "https://localhost:8080/"
        },
        "id": "7L0L55t6kehj",
        "outputId": "9363f816-d4fd-4b25-9df5-9032e6a13e8f"
      },
      "execution_count": null,
      "outputs": [
        {
          "output_type": "execute_result",
          "data": {
            "text/plain": [
              "(0, 101, 102)"
            ]
          },
          "metadata": {},
          "execution_count": 108
        }
      ]
    },
    {
      "cell_type": "code",
      "source": [
        "x='x, it is just a test!'\n",
        "y='y, it is just a continuation!'"
      ],
      "metadata": {
        "id": "6jbz_kpbkFw2"
      },
      "execution_count": null,
      "outputs": []
    },
    {
      "cell_type": "code",
      "source": [
        "tokenizer(x,y)['input_ids']"
      ],
      "metadata": {
        "colab": {
          "base_uri": "https://localhost:8080/"
        },
        "id": "VfNd5cqkkCKH",
        "outputId": "322a1a6c-63fa-4821-ee25-1f2f9e94cba6"
      },
      "execution_count": null,
      "outputs": [
        {
          "output_type": "execute_result",
          "data": {
            "text/plain": [
              "[101,\n",
              " 1060,\n",
              " 1010,\n",
              " 2009,\n",
              " 2003,\n",
              " 2074,\n",
              " 1037,\n",
              " 3231,\n",
              " 999,\n",
              " 102,\n",
              " 1061,\n",
              " 1010,\n",
              " 2009,\n",
              " 2003,\n",
              " 2074,\n",
              " 1037,\n",
              " 13633,\n",
              " 999,\n",
              " 102]"
            ]
          },
          "metadata": {},
          "execution_count": 110
        }
      ]
    },
    {
      "cell_type": "code",
      "source": [
        "tokenizer.encode_plus(x,y)['input_ids']"
      ],
      "metadata": {
        "colab": {
          "base_uri": "https://localhost:8080/"
        },
        "id": "qTqMh2S36uhN",
        "outputId": "0ed841df-05d4-45ce-d159-a3454b2afb31"
      },
      "execution_count": null,
      "outputs": [
        {
          "output_type": "execute_result",
          "data": {
            "text/plain": [
              "[101,\n",
              " 1060,\n",
              " 1010,\n",
              " 2009,\n",
              " 2003,\n",
              " 2074,\n",
              " 1037,\n",
              " 3231,\n",
              " 999,\n",
              " 102,\n",
              " 1061,\n",
              " 1010,\n",
              " 2009,\n",
              " 2003,\n",
              " 2074,\n",
              " 1037,\n",
              " 13633,\n",
              " 999,\n",
              " 102]"
            ]
          },
          "metadata": {},
          "execution_count": 111
        }
      ]
    },
    {
      "cell_type": "code",
      "source": [
        "df_tokenizado = df.applymap(lambda x: tokenizer(x)['input_ids'])"
      ],
      "metadata": {
        "id": "UnxAH2xFjbMV"
      },
      "execution_count": null,
      "outputs": []
    },
    {
      "cell_type": "code",
      "source": [
        "df_tokenizado.head()"
      ],
      "metadata": {
        "colab": {
          "base_uri": "https://localhost:8080/",
          "height": 236
        },
        "id": "FkBddAx2jbBO",
        "outputId": "498d8796-aa1b-496c-cb66-bb37797715ef"
      },
      "execution_count": null,
      "outputs": [
        {
          "output_type": "execute_result",
          "data": {
            "text/plain": [
              "                                               query                                           positive                                           negative\n",
              "0  [101, 2003, 1037, 2210, 24689, 7959, 3170, 792...  [101, 2057, 2123, 1005, 1056, 2113, 1037, 2843...  [101, 2009, 2003, 3227, 3647, 2005, 6875, 2308...\n",
              "1     [101, 2054, 5909, 2003, 3128, 2000, 2660, 102]  [101, 3413, 10128, 10626, 2050, 7253, 11410, 1...  [101, 1996, 12849, 2721, 17490, 2003, 1996, 59...\n",
              "2     [101, 2129, 2312, 2003, 1996, 3010, 2510, 102]  [101, 1996, 3010, 4273, 2749, 1012, 1015, 1996...  [101, 1996, 3010, 7522, 2740, 2820, 1006, 1813...\n",
              "3                 [101, 4127, 1997, 5909, 3628, 102]  [101, 9115, 1012, 9115, 3628, 2024, 2179, 2802...  [101, 1996, 12849, 2721, 17490, 2003, 1996, 59...\n",
              "4  [101, 2129, 2116, 10250, 18909, 1037, 2154, 20...  [101, 2025, 2069, 2003, 7388, 7959, 17819, 248...  [101, 2174, 1010, 2017, 2145, 2342, 2070, 9152...\n",
              "\n",
              "[5 rows x 3 columns]"
            ],
            "text/html": [
              "\n",
              "  <div id=\"df-a34ecb1d-6783-44d5-ae7a-b16f2db7b519\">\n",
              "    <div class=\"colab-df-container\">\n",
              "      <div>\n",
              "<style scoped>\n",
              "    .dataframe tbody tr th:only-of-type {\n",
              "        vertical-align: middle;\n",
              "    }\n",
              "\n",
              "    .dataframe tbody tr th {\n",
              "        vertical-align: top;\n",
              "    }\n",
              "\n",
              "    .dataframe thead th {\n",
              "        text-align: right;\n",
              "    }\n",
              "</style>\n",
              "<table border=\"1\" class=\"dataframe\">\n",
              "  <thead>\n",
              "    <tr style=\"text-align: right;\">\n",
              "      <th></th>\n",
              "      <th>query</th>\n",
              "      <th>positive</th>\n",
              "      <th>negative</th>\n",
              "    </tr>\n",
              "  </thead>\n",
              "  <tbody>\n",
              "    <tr>\n",
              "      <th>0</th>\n",
              "      <td>[101, 2003, 1037, 2210, 24689, 7959, 3170, 792...</td>\n",
              "      <td>[101, 2057, 2123, 1005, 1056, 2113, 1037, 2843...</td>\n",
              "      <td>[101, 2009, 2003, 3227, 3647, 2005, 6875, 2308...</td>\n",
              "    </tr>\n",
              "    <tr>\n",
              "      <th>1</th>\n",
              "      <td>[101, 2054, 5909, 2003, 3128, 2000, 2660, 102]</td>\n",
              "      <td>[101, 3413, 10128, 10626, 2050, 7253, 11410, 1...</td>\n",
              "      <td>[101, 1996, 12849, 2721, 17490, 2003, 1996, 59...</td>\n",
              "    </tr>\n",
              "    <tr>\n",
              "      <th>2</th>\n",
              "      <td>[101, 2129, 2312, 2003, 1996, 3010, 2510, 102]</td>\n",
              "      <td>[101, 1996, 3010, 4273, 2749, 1012, 1015, 1996...</td>\n",
              "      <td>[101, 1996, 3010, 7522, 2740, 2820, 1006, 1813...</td>\n",
              "    </tr>\n",
              "    <tr>\n",
              "      <th>3</th>\n",
              "      <td>[101, 4127, 1997, 5909, 3628, 102]</td>\n",
              "      <td>[101, 9115, 1012, 9115, 3628, 2024, 2179, 2802...</td>\n",
              "      <td>[101, 1996, 12849, 2721, 17490, 2003, 1996, 59...</td>\n",
              "    </tr>\n",
              "    <tr>\n",
              "      <th>4</th>\n",
              "      <td>[101, 2129, 2116, 10250, 18909, 1037, 2154, 20...</td>\n",
              "      <td>[101, 2025, 2069, 2003, 7388, 7959, 17819, 248...</td>\n",
              "      <td>[101, 2174, 1010, 2017, 2145, 2342, 2070, 9152...</td>\n",
              "    </tr>\n",
              "  </tbody>\n",
              "</table>\n",
              "<p>5 rows × 3 columns</p>\n",
              "</div>\n",
              "      <button class=\"colab-df-convert\" onclick=\"convertToInteractive('df-a34ecb1d-6783-44d5-ae7a-b16f2db7b519')\"\n",
              "              title=\"Convert this dataframe to an interactive table.\"\n",
              "              style=\"display:none;\">\n",
              "        \n",
              "  <svg xmlns=\"http://www.w3.org/2000/svg\" height=\"24px\"viewBox=\"0 0 24 24\"\n",
              "       width=\"24px\">\n",
              "    <path d=\"M0 0h24v24H0V0z\" fill=\"none\"/>\n",
              "    <path d=\"M18.56 5.44l.94 2.06.94-2.06 2.06-.94-2.06-.94-.94-2.06-.94 2.06-2.06.94zm-11 1L8.5 8.5l.94-2.06 2.06-.94-2.06-.94L8.5 2.5l-.94 2.06-2.06.94zm10 10l.94 2.06.94-2.06 2.06-.94-2.06-.94-.94-2.06-.94 2.06-2.06.94z\"/><path d=\"M17.41 7.96l-1.37-1.37c-.4-.4-.92-.59-1.43-.59-.52 0-1.04.2-1.43.59L10.3 9.45l-7.72 7.72c-.78.78-.78 2.05 0 2.83L4 21.41c.39.39.9.59 1.41.59.51 0 1.02-.2 1.41-.59l7.78-7.78 2.81-2.81c.8-.78.8-2.07 0-2.86zM5.41 20L4 18.59l7.72-7.72 1.47 1.35L5.41 20z\"/>\n",
              "  </svg>\n",
              "      </button>\n",
              "      \n",
              "  <style>\n",
              "    .colab-df-container {\n",
              "      display:flex;\n",
              "      flex-wrap:wrap;\n",
              "      gap: 12px;\n",
              "    }\n",
              "\n",
              "    .colab-df-convert {\n",
              "      background-color: #E8F0FE;\n",
              "      border: none;\n",
              "      border-radius: 50%;\n",
              "      cursor: pointer;\n",
              "      display: none;\n",
              "      fill: #1967D2;\n",
              "      height: 32px;\n",
              "      padding: 0 0 0 0;\n",
              "      width: 32px;\n",
              "    }\n",
              "\n",
              "    .colab-df-convert:hover {\n",
              "      background-color: #E2EBFA;\n",
              "      box-shadow: 0px 1px 2px rgba(60, 64, 67, 0.3), 0px 1px 3px 1px rgba(60, 64, 67, 0.15);\n",
              "      fill: #174EA6;\n",
              "    }\n",
              "\n",
              "    [theme=dark] .colab-df-convert {\n",
              "      background-color: #3B4455;\n",
              "      fill: #D2E3FC;\n",
              "    }\n",
              "\n",
              "    [theme=dark] .colab-df-convert:hover {\n",
              "      background-color: #434B5C;\n",
              "      box-shadow: 0px 1px 3px 1px rgba(0, 0, 0, 0.15);\n",
              "      filter: drop-shadow(0px 1px 2px rgba(0, 0, 0, 0.3));\n",
              "      fill: #FFFFFF;\n",
              "    }\n",
              "  </style>\n",
              "\n",
              "      <script>\n",
              "        const buttonEl =\n",
              "          document.querySelector('#df-a34ecb1d-6783-44d5-ae7a-b16f2db7b519 button.colab-df-convert');\n",
              "        buttonEl.style.display =\n",
              "          google.colab.kernel.accessAllowed ? 'block' : 'none';\n",
              "\n",
              "        async function convertToInteractive(key) {\n",
              "          const element = document.querySelector('#df-a34ecb1d-6783-44d5-ae7a-b16f2db7b519');\n",
              "          const dataTable =\n",
              "            await google.colab.kernel.invokeFunction('convertToInteractive',\n",
              "                                                     [key], {});\n",
              "          if (!dataTable) return;\n",
              "\n",
              "          const docLinkHtml = 'Like what you see? Visit the ' +\n",
              "            '<a target=\"_blank\" href=https://colab.research.google.com/notebooks/data_table.ipynb>data table notebook</a>'\n",
              "            + ' to learn more about interactive tables.';\n",
              "          element.innerHTML = '';\n",
              "          dataTable['output_type'] = 'display_data';\n",
              "          await google.colab.output.renderOutput(dataTable, element);\n",
              "          const docLink = document.createElement('div');\n",
              "          docLink.innerHTML = docLinkHtml;\n",
              "          element.appendChild(docLink);\n",
              "        }\n",
              "      </script>\n",
              "    </div>\n",
              "  </div>\n",
              "  "
            ]
          },
          "metadata": {},
          "execution_count": 113
        }
      ]
    },
    {
      "cell_type": "code",
      "source": [
        "print('max:', '\\n', df_tokenizado.applymap(len).max(), '\\n','mean:', '\\n', df_tokenizado.applymap(len).mean(), '\\n', 'std:', '\\n', df_tokenizado.applymap(len).std())"
      ],
      "metadata": {
        "colab": {
          "base_uri": "https://localhost:8080/"
        },
        "id": "C4Gp-yOik3zH",
        "outputId": "411237c2-aca0-4554-dceb-53017e8917c7"
      },
      "execution_count": null,
      "outputs": [
        {
          "output_type": "stream",
          "name": "stdout",
          "text": [
            "max: \n",
            " query        43\n",
            "positive    280\n",
            "negative    249\n",
            "Length: 3, dtype: int64 \n",
            " mean: \n",
            " query        9.10\n",
            "positive    80.88\n",
            "negative    77.52\n",
            "Length: 3, dtype: float64 \n",
            " std: \n",
            " query        2.85\n",
            "positive    32.58\n",
            "negative    31.12\n",
            "Length: 3, dtype: float64\n"
          ]
        }
      ]
    },
    {
      "cell_type": "markdown",
      "source": [
        "Logo: max_seq_length pode ser 322 (43 + 280 - 1 [sep comum aos 2])"
      ],
      "metadata": {
        "id": "FuvrxS5Ek76R"
      }
    },
    {
      "cell_type": "markdown",
      "source": [
        "Definindo o prefixo de nome do arquivo "
      ],
      "metadata": {
        "id": "M3T6XZiw6ah7"
      }
    },
    {
      "cell_type": "code",
      "source": [
        "path_aula = '/content/drive/MyDrive/treinamento/202301_IA368DD/aula2/'\n",
        "if not os.path.exists(path_aula):\n",
        "  os.makedirs(path_aula)\n",
        "  print(f'{path_aula} pasta criada!')\n",
        "else: \n",
        "  print(f'{path_aula} pasta já existia!')\n",
        "  "
      ],
      "metadata": {
        "colab": {
          "base_uri": "https://localhost:8080/"
        },
        "id": "jNBiIjGBdbJN",
        "outputId": "01ddf198-aa07-41b8-a256-1709b9d36934"
      },
      "execution_count": null,
      "outputs": [
        {
          "output_type": "stream",
          "name": "stdout",
          "text": [
            "/content/drive/MyDrive/treinamento/202301_IA368DD/aula2/ pasta já existia!\n"
          ]
        }
      ]
    },
    {
      "cell_type": "markdown",
      "source": [
        "### Definindo parâmetros e informações para o rastro (hparam)"
      ],
      "metadata": {
        "id": "NMWN6z3PY2dw"
      }
    },
    {
      "cell_type": "code",
      "source": [
        "# visto que \"max_position_embeddings\": 512 em https://huggingface.co/microsoft/MiniLM-L12-H384-uncased/blob/main/config.json\n",
        "hparam['max_seq_length'] = 322  #@param {type:\"slider\", min:100, max:512, step:1} \n",
        "hparam['num_sentenca_train'] = X_train.shape[0]\n",
        "hparam['num_sentenca_valid'] = X_valid.shape[0]\n",
        "hparam['num_epochs'] = 3  #@param {type:\"slider\", min:1, max:100, step:1} \n",
        "hparam['model_name'] = const_nome_modelo\n",
        "hparam['vocab_size']= tokenizer.vocab_size"
      ],
      "metadata": {
        "id": "qNtjJwDQYz65"
      },
      "execution_count": null,
      "outputs": []
    },
    {
      "cell_type": "code",
      "source": [
        "infixo_nome= 'rerank_max_seq_'+ str(hparam['max_seq_length'])+'_text_'\n",
        "path_treino = path_aula + infixo_nome\n",
        "print(path_treino)"
      ],
      "metadata": {
        "colab": {
          "base_uri": "https://localhost:8080/"
        },
        "id": "9v5T3Q5nimZy",
        "outputId": "ae99148a-bb33-45b9-86a1-b334d5218ac9"
      },
      "execution_count": null,
      "outputs": [
        {
          "output_type": "stream",
          "name": "stdout",
          "text": [
            "/content/drive/MyDrive/treinamento/202301_IA368DD/aula2/rerank_max_seq_322_text_\n"
          ]
        }
      ]
    },
    {
      "cell_type": "markdown",
      "source": [
        "### Criando código para o Dataset"
      ],
      "metadata": {
        "id": "_hs0ZWBmeOAi"
      }
    },
    {
      "cell_type": "code",
      "source": [
        "class MyDataset():\n",
        "    \"\"\"\n",
        "      Classe para representar um dataset de texto e classes.\n",
        "    \"\"\"  \n",
        "    def __init__(self, texts: np.ndarray, classes:list[int], tokenizer, max_seq_length: int, parm_device:torch.device):\n",
        "      \"\"\"\n",
        "      Inicializa um novo objeto MyDataset.\n",
        "\n",
        "      Args:\n",
        "          texts (np.ndarray): um array com as strings de texto. Cada linha deve ter 2 strings.\n",
        "          classes (np.ndarray): um array com as classes de cada texto.\n",
        "          tokenizer: um objeto tokenizer do Hugging Face Transformers.\n",
        "          max_seq_length (int): o tamanho máximo da sequência a ser considerado.\n",
        "          parm_device: indica se é para salvar os tensores na CPU ou na GPU\n",
        "      Raises:\n",
        "          AssertionError: se os parâmetros não estiverem no formato esperado.\n",
        "      \"\"\"\n",
        "      # Verifica se os parâmetros são do tipo esperado\n",
        "      assert isinstance(texts, np.ndarray), f\"Parâmetro texts deve ser do tipo np.ndarray e não {type(texts)}\"\n",
        "      assert texts.shape[1] == 2, \"Array must have 2 columns\"\n",
        "      for row in texts:\n",
        "          assert isinstance(row, np.ndarray) and row.shape == (2,), f\"Each row in texts must have 2 elements\"\n",
        "          assert isinstance(row[0], str) and isinstance(row[1], str), f\"Each element in texts.row must be a string e não {type(row[0])}\"\n",
        "      assert isinstance(classes,np.ndarray), f'classes deve ser do tipo np.ndarray e não {type(classes)}'\n",
        "      assert isinstance(classes[0],np.int64), f'classes[0] deve ser do tipo numpy.int64 e não {type(classe[0])} '\n",
        "      assert isinstance(max_seq_length, int), f'max_seq_length deve ser do tipo int e não {type(max_seq_length)}'\n",
        "      assert max_seq_length > 100, f'max_seq_length deve ser maior do que 100'\n",
        "      assert isinstance(parm_device, torch.device), f'parm_device deve ser do tipo torch.device e não {type(parm_device)}'\n",
        "\n",
        "      self.texts = texts\n",
        "      self.classes = classes\n",
        "      self.tokenizer = tokenizer\n",
        "      self.max_seq_length = max_seq_length\n",
        "      self.device = parm_device\n",
        "\n",
        "      # Salvar os dados dos tensores\n",
        "      x_data_input_ids = []\n",
        "      x_data_attention_masks = []\n",
        "      for text_pair in tqdm(texts, desc='encoding text pair'):\n",
        "          encoding = tokenizer.encode_plus(\n",
        "              text_pair[0],\n",
        "              text_pair[1],\n",
        "              add_special_tokens=True,\n",
        "              max_length=self.max_seq_length,\n",
        "              padding='max_length',\n",
        "              return_tensors = 'pt',\n",
        "              truncation=True,\n",
        "              return_attention_mask=True,\n",
        "              return_token_type_ids=True\n",
        "          )\n",
        "          x_data_input_ids.append(encoding['input_ids'].long())\n",
        "          x_data_attention_masks.append(encoding['attention_mask'].long())\n",
        "      print(F'\\tVou converter lista para tensor;  Momento: {time.strftime(\"[%Y-%b-%d %H:%M:%S]\")}')\n",
        "      self.x_tensor_input_ids = torch.stack(x_data_input_ids).to(self.device)\n",
        "      self.x_tensor_attention_masks = torch.stack(x_data_attention_masks).to(self.device)\n",
        "\n",
        "    def __len__(self):\n",
        "        \"\"\"\n",
        "          Retorna o tamanho do dataset (= tamanho do array texts)\n",
        "        \"\"\"\n",
        "        return len(self.texts)\n",
        "    \n",
        "    def __getitem__(self, idx):\n",
        "        \"\"\"\n",
        "          Retorna um dicionário com os dados do texto e sua classe correspondente, em um formato que pode \n",
        "          ser usado pelo dataloader do PyTorch para alimentar um modelo de aprendizado de máquina.\n",
        "        \"\"\"\n",
        "        return {\n",
        "            'input_ids': self.x_tensor_input_ids[idx],\n",
        "            'attention_mask': self.x_tensor_attention_masks[idx],\n",
        "            'label': int(self.classes[idx])\n",
        "        }"
      ],
      "metadata": {
        "id": "XeakUpqJeQpz"
      },
      "execution_count": null,
      "outputs": []
    },
    {
      "cell_type": "markdown",
      "source": [
        "#### Testando o MyDataset e o Dataloader"
      ],
      "metadata": {
        "id": "17AcNhe2C4tb"
      }
    },
    {
      "cell_type": "code",
      "source": [
        "from torch.utils.data import DataLoader"
      ],
      "metadata": {
        "id": "1I2n6puOGgPX"
      },
      "execution_count": null,
      "outputs": []
    },
    {
      "cell_type": "code",
      "source": [
        "# Cria dados fictícios\n",
        "texts = np.array([['This is the first text', 'This is the second text'],\n",
        "                  ['This is text 2.1', 'This is text 2.2'],\n",
        "                  ['This is text 3.1', 'This is text 3.2'],\n",
        "                  ['This is text 4.1', 'This is text 4.2'],\n",
        "                  ['This is text 5.1', 'This is text 5.2'],\n",
        "                  ['This is text 6.1', 'This is text 6.2'],\n",
        "                  ['This is text 7.1', 'This is text 7.2']])\n",
        "classes = np.array([1, 0, 1, 0, 1, 0, 1])\n"
      ],
      "metadata": {
        "id": "_tNkc8kmC8ie"
      },
      "execution_count": null,
      "outputs": []
    },
    {
      "cell_type": "code",
      "source": [
        "# Cria um objeto da classe MyDataset\n",
        "dummy_dataset = MyDataset(texts=texts, classes=classes, tokenizer=tokenizer, max_seq_length=hparam['max_seq_length'], parm_device=hparam['device'])"
      ],
      "metadata": {
        "colab": {
          "base_uri": "https://localhost:8080/"
        },
        "id": "IbaCMoKRDy20",
        "outputId": "a8e68e2b-7a32-4475-8921-a51096ff9add"
      },
      "execution_count": null,
      "outputs": [
        {
          "output_type": "stream",
          "name": "stderr",
          "text": [
            "encoding text pair: 100%|██████████| 7/7 [00:00<00:00, 197.61it/s]\n"
          ]
        },
        {
          "output_type": "stream",
          "name": "stdout",
          "text": [
            "\tVou converter lista para tensor;  Momento: [2023-Mar-12 20:42:00]\n"
          ]
        }
      ]
    },
    {
      "cell_type": "code",
      "source": [
        "# Testa o método __len__()\n",
        "assert len(dummy_dataset) == 7\n",
        "\n",
        "# Testa o método __getitem__()\n",
        "sample = dummy_dataset[0]\n",
        "assert set(sample.keys()) == {'input_ids', 'attention_mask', 'label'}\n",
        "assert isinstance(sample['input_ids'], torch.Tensor)\n",
        "assert sample['input_ids'].shape == (1, hparam['max_seq_length'])\n",
        "assert isinstance(sample['attention_mask'], torch.Tensor)\n",
        "assert sample['attention_mask'].shape == (1, hparam['max_seq_length'])\n",
        "assert isinstance(sample['label'], int)"
      ],
      "metadata": {
        "id": "xFNuWyMYDz7v"
      },
      "execution_count": null,
      "outputs": []
    },
    {
      "cell_type": "code",
      "source": [
        "print(sample)"
      ],
      "metadata": {
        "colab": {
          "base_uri": "https://localhost:8080/"
        },
        "id": "D9ng05CvFu1t",
        "outputId": "bac81adf-24c0-444a-f464-5499fcb310d0"
      },
      "execution_count": null,
      "outputs": [
        {
          "output_type": "stream",
          "name": "stdout",
          "text": [
            "{'input_ids': tensor([[ 101, 2023, 2003, 1996, 2034, 3793,  102, 2023, 2003, 1996, 2117, 3793,\n",
            "          102,    0,    0,    0,    0,    0,    0,    0,    0,    0,    0,    0,\n",
            "            0,    0,    0,    0,    0,    0,    0,    0,    0,    0,    0,    0,\n",
            "            0,    0,    0,    0,    0,    0,    0,    0,    0,    0,    0,    0,\n",
            "            0,    0,    0,    0,    0,    0,    0,    0,    0,    0,    0,    0,\n",
            "            0,    0,    0,    0,    0,    0,    0,    0,    0,    0,    0,    0,\n",
            "            0,    0,    0,    0,    0,    0,    0,    0,    0,    0,    0,    0,\n",
            "            0,    0,    0,    0,    0,    0,    0,    0,    0,    0,    0,    0,\n",
            "            0,    0,    0,    0,    0,    0,    0,    0,    0,    0,    0,    0,\n",
            "            0,    0,    0,    0,    0,    0,    0,    0,    0,    0,    0,    0,\n",
            "            0,    0,    0,    0,    0,    0,    0,    0,    0,    0,    0,    0,\n",
            "            0,    0,    0,    0,    0,    0,    0,    0,    0,    0,    0,    0,\n",
            "            0,    0,    0,    0,    0,    0,    0,    0,    0,    0,    0,    0,\n",
            "            0,    0,    0,    0,    0,    0,    0,    0,    0,    0,    0,    0,\n",
            "            0,    0,    0,    0,    0,    0,    0,    0,    0,    0,    0,    0,\n",
            "            0,    0,    0,    0,    0,    0,    0,    0,    0,    0,    0,    0,\n",
            "            0,    0,    0,    0,    0,    0,    0,    0,    0,    0,    0,    0,\n",
            "            0,    0,    0,    0,    0,    0,    0,    0,    0,    0,    0,    0,\n",
            "            0,    0,    0,    0,    0,    0,    0,    0,    0,    0,    0,    0,\n",
            "            0,    0,    0,    0,    0,    0,    0,    0,    0,    0,    0,    0,\n",
            "            0,    0,    0,    0,    0,    0,    0,    0,    0,    0,    0,    0,\n",
            "            0,    0,    0,    0,    0,    0,    0,    0,    0,    0,    0,    0,\n",
            "            0,    0,    0,    0,    0,    0,    0,    0,    0,    0,    0,    0,\n",
            "            0,    0,    0,    0,    0,    0,    0,    0,    0,    0,    0,    0,\n",
            "            0,    0,    0,    0,    0,    0,    0,    0,    0,    0,    0,    0,\n",
            "            0,    0,    0,    0,    0,    0,    0,    0,    0,    0,    0,    0,\n",
            "            0,    0,    0,    0,    0,    0,    0,    0,    0,    0]],\n",
            "       device='cuda:0'), 'attention_mask': tensor([[1, 1, 1, 1, 1, 1, 1, 1, 1, 1, 1, 1, 1, 0, 0, 0, 0, 0, 0, 0, 0, 0, 0, 0,\n",
            "         0, 0, 0, 0, 0, 0, 0, 0, 0, 0, 0, 0, 0, 0, 0, 0, 0, 0, 0, 0, 0, 0, 0, 0,\n",
            "         0, 0, 0, 0, 0, 0, 0, 0, 0, 0, 0, 0, 0, 0, 0, 0, 0, 0, 0, 0, 0, 0, 0, 0,\n",
            "         0, 0, 0, 0, 0, 0, 0, 0, 0, 0, 0, 0, 0, 0, 0, 0, 0, 0, 0, 0, 0, 0, 0, 0,\n",
            "         0, 0, 0, 0, 0, 0, 0, 0, 0, 0, 0, 0, 0, 0, 0, 0, 0, 0, 0, 0, 0, 0, 0, 0,\n",
            "         0, 0, 0, 0, 0, 0, 0, 0, 0, 0, 0, 0, 0, 0, 0, 0, 0, 0, 0, 0, 0, 0, 0, 0,\n",
            "         0, 0, 0, 0, 0, 0, 0, 0, 0, 0, 0, 0, 0, 0, 0, 0, 0, 0, 0, 0, 0, 0, 0, 0,\n",
            "         0, 0, 0, 0, 0, 0, 0, 0, 0, 0, 0, 0, 0, 0, 0, 0, 0, 0, 0, 0, 0, 0, 0, 0,\n",
            "         0, 0, 0, 0, 0, 0, 0, 0, 0, 0, 0, 0, 0, 0, 0, 0, 0, 0, 0, 0, 0, 0, 0, 0,\n",
            "         0, 0, 0, 0, 0, 0, 0, 0, 0, 0, 0, 0, 0, 0, 0, 0, 0, 0, 0, 0, 0, 0, 0, 0,\n",
            "         0, 0, 0, 0, 0, 0, 0, 0, 0, 0, 0, 0, 0, 0, 0, 0, 0, 0, 0, 0, 0, 0, 0, 0,\n",
            "         0, 0, 0, 0, 0, 0, 0, 0, 0, 0, 0, 0, 0, 0, 0, 0, 0, 0, 0, 0, 0, 0, 0, 0,\n",
            "         0, 0, 0, 0, 0, 0, 0, 0, 0, 0, 0, 0, 0, 0, 0, 0, 0, 0, 0, 0, 0, 0, 0, 0,\n",
            "         0, 0, 0, 0, 0, 0, 0, 0, 0, 0]], device='cuda:0'), 'label': 1}\n"
          ]
        }
      ]
    },
    {
      "cell_type": "code",
      "source": [
        "dummy_loader = DataLoader(dummy_dataset, batch_size=2, shuffle=False, num_workers=hparam['num_workers_dataloader'] )"
      ],
      "metadata": {
        "id": "5INVpV1RGuau"
      },
      "execution_count": null,
      "outputs": []
    },
    {
      "cell_type": "code",
      "source": [
        "mostra_memoria(['cpu','gpu'])"
      ],
      "metadata": {
        "colab": {
          "base_uri": "https://localhost:8080/"
        },
        "id": "bTaEmFP4WC2b",
        "outputId": "c4064fde-b081-411b-e85c-261bbce04319"
      },
      "execution_count": null,
      "outputs": [
        {
          "output_type": "stream",
          "name": "stdout",
          "text": [
            "Your runtime RAM in gb: \n",
            " total 27.33\n",
            " available 23.13\n",
            " used 3.79\n",
            " free 6.47\n",
            " cached 16.59\n",
            " buffers 0.47\n",
            "/nGPU\n",
            "Sun Mar 12 20:42:08 2023       \n",
            "+-----------------------------------------------------------------------------+\n",
            "| NVIDIA-SMI 525.85.12    Driver Version: 525.85.12    CUDA Version: 12.0     |\n",
            "|-------------------------------+----------------------+----------------------+\n",
            "| GPU  Name        Persistence-M| Bus-Id        Disp.A | Volatile Uncorr. ECC |\n",
            "| Fan  Temp  Perf  Pwr:Usage/Cap|         Memory-Usage | GPU-Util  Compute M. |\n",
            "|                               |                      |               MIG M. |\n",
            "|===============================+======================+======================|\n",
            "|   0  Tesla T4            Off  | 00000000:00:04.0 Off |                    0 |\n",
            "| N/A   40C    P0    27W /  70W |    789MiB / 15360MiB |      0%      Default |\n",
            "|                               |                      |                  N/A |\n",
            "+-------------------------------+----------------------+----------------------+\n",
            "                                                                               \n",
            "+-----------------------------------------------------------------------------+\n",
            "| Processes:                                                                  |\n",
            "|  GPU   GI   CI        PID   Type   Process name                  GPU Memory |\n",
            "|        ID   ID                                                   Usage      |\n",
            "|=============================================================================|\n",
            "+-----------------------------------------------------------------------------+\n"
          ]
        }
      ]
    },
    {
      "cell_type": "code",
      "source": [
        "first_batch = next(iter(dummy_loader))"
      ],
      "metadata": {
        "id": "TeyvxkA3G93w"
      },
      "execution_count": null,
      "outputs": []
    },
    {
      "cell_type": "code",
      "source": [
        "first_batch"
      ],
      "metadata": {
        "colab": {
          "base_uri": "https://localhost:8080/"
        },
        "id": "CRdGtm3_G9lv",
        "outputId": "b0274ce2-0eb9-46bf-9bfe-a0a42cf72724"
      },
      "execution_count": null,
      "outputs": [
        {
          "output_type": "execute_result",
          "data": {
            "text/plain": [
              "{'input_ids': tensor([[[ 101, 2023, 2003, 1996, 2034, 3793,  102, 2023, 2003, 1996, 2117,\n",
              "           3793,  102,    0,    0,    0,    0,    0,    0,    0,    0,    0,\n",
              "              0,    0,    0,    0,    0,    0,    0,    0,    0,    0,    0,\n",
              "              0,    0,    0,    0,    0,    0,    0,    0,    0,    0,    0,\n",
              "              0,    0,    0,    0,    0,    0,    0,    0,    0,    0,    0,\n",
              "              0,    0,    0,    0,    0,    0,    0,    0,    0,    0,    0,\n",
              "              0,    0,    0,    0,    0,    0,    0,    0,    0,    0,    0,\n",
              "              0,    0,    0,    0,    0,    0,    0,    0,    0,    0,    0,\n",
              "              0,    0,    0,    0,    0,    0,    0,    0,    0,    0,    0,\n",
              "              0,    0,    0,    0,    0,    0,    0,    0,    0,    0,    0,\n",
              "              0,    0,    0,    0,    0,    0,    0,    0,    0,    0,    0,\n",
              "              0,    0,    0,    0,    0,    0,    0,    0,    0,    0,    0,\n",
              "              0,    0,    0,    0,    0,    0,    0,    0,    0,    0,    0,\n",
              "              0,    0,    0,    0,    0,    0,    0,    0,    0,    0,    0,\n",
              "              0,    0,    0,    0,    0,    0,    0,    0,    0,    0,    0,\n",
              "              0,    0,    0,    0,    0,    0,    0,    0,    0,    0,    0,\n",
              "              0,    0,    0,    0,    0,    0,    0,    0,    0,    0,    0,\n",
              "              0,    0,    0,    0,    0,    0,    0,    0,    0,    0,    0,\n",
              "              0,    0,    0,    0,    0,    0,    0,    0,    0,    0,    0,\n",
              "              0,    0,    0,    0,    0,    0,    0,    0,    0,    0,    0,\n",
              "              0,    0,    0,    0,    0,    0,    0,    0,    0,    0,    0,\n",
              "              0,    0,    0,    0,    0,    0,    0,    0,    0,    0,    0,\n",
              "              0,    0,    0,    0,    0,    0,    0,    0,    0,    0,    0,\n",
              "              0,    0,    0,    0,    0,    0,    0,    0,    0,    0,    0,\n",
              "              0,    0,    0,    0,    0,    0,    0,    0,    0,    0,    0,\n",
              "              0,    0,    0,    0,    0,    0,    0,    0,    0,    0,    0,\n",
              "              0,    0,    0,    0,    0,    0,    0,    0,    0,    0,    0,\n",
              "              0,    0,    0,    0,    0,    0,    0,    0,    0,    0,    0,\n",
              "              0,    0,    0,    0,    0,    0,    0,    0,    0,    0,    0,\n",
              "              0,    0,    0]],\n",
              " \n",
              "         [[ 101, 2023, 2003, 3793, 1016, 1012, 1015,  102, 2023, 2003, 3793,\n",
              "           1016, 1012, 1016,  102,    0,    0,    0,    0,    0,    0,    0,\n",
              "              0,    0,    0,    0,    0,    0,    0,    0,    0,    0,    0,\n",
              "              0,    0,    0,    0,    0,    0,    0,    0,    0,    0,    0,\n",
              "              0,    0,    0,    0,    0,    0,    0,    0,    0,    0,    0,\n",
              "              0,    0,    0,    0,    0,    0,    0,    0,    0,    0,    0,\n",
              "              0,    0,    0,    0,    0,    0,    0,    0,    0,    0,    0,\n",
              "              0,    0,    0,    0,    0,    0,    0,    0,    0,    0,    0,\n",
              "              0,    0,    0,    0,    0,    0,    0,    0,    0,    0,    0,\n",
              "              0,    0,    0,    0,    0,    0,    0,    0,    0,    0,    0,\n",
              "              0,    0,    0,    0,    0,    0,    0,    0,    0,    0,    0,\n",
              "              0,    0,    0,    0,    0,    0,    0,    0,    0,    0,    0,\n",
              "              0,    0,    0,    0,    0,    0,    0,    0,    0,    0,    0,\n",
              "              0,    0,    0,    0,    0,    0,    0,    0,    0,    0,    0,\n",
              "              0,    0,    0,    0,    0,    0,    0,    0,    0,    0,    0,\n",
              "              0,    0,    0,    0,    0,    0,    0,    0,    0,    0,    0,\n",
              "              0,    0,    0,    0,    0,    0,    0,    0,    0,    0,    0,\n",
              "              0,    0,    0,    0,    0,    0,    0,    0,    0,    0,    0,\n",
              "              0,    0,    0,    0,    0,    0,    0,    0,    0,    0,    0,\n",
              "              0,    0,    0,    0,    0,    0,    0,    0,    0,    0,    0,\n",
              "              0,    0,    0,    0,    0,    0,    0,    0,    0,    0,    0,\n",
              "              0,    0,    0,    0,    0,    0,    0,    0,    0,    0,    0,\n",
              "              0,    0,    0,    0,    0,    0,    0,    0,    0,    0,    0,\n",
              "              0,    0,    0,    0,    0,    0,    0,    0,    0,    0,    0,\n",
              "              0,    0,    0,    0,    0,    0,    0,    0,    0,    0,    0,\n",
              "              0,    0,    0,    0,    0,    0,    0,    0,    0,    0,    0,\n",
              "              0,    0,    0,    0,    0,    0,    0,    0,    0,    0,    0,\n",
              "              0,    0,    0,    0,    0,    0,    0,    0,    0,    0,    0,\n",
              "              0,    0,    0,    0,    0,    0,    0,    0,    0,    0,    0,\n",
              "              0,    0,    0]]], device='cuda:0'),\n",
              " 'attention_mask': tensor([[[1, 1, 1, 1, 1, 1, 1, 1, 1, 1, 1, 1, 1, 0, 0, 0, 0, 0, 0, 0, 0, 0, 0,\n",
              "           0, 0, 0, 0, 0, 0, 0, 0, 0, 0, 0, 0, 0, 0, 0, 0, 0, 0, 0, 0, 0, 0, 0,\n",
              "           0, 0, 0, 0, 0, 0, 0, 0, 0, 0, 0, 0, 0, 0, 0, 0, 0, 0, 0, 0, 0, 0, 0,\n",
              "           0, 0, 0, 0, 0, 0, 0, 0, 0, 0, 0, 0, 0, 0, 0, 0, 0, 0, 0, 0, 0, 0, 0,\n",
              "           0, 0, 0, 0, 0, 0, 0, 0, 0, 0, 0, 0, 0, 0, 0, 0, 0, 0, 0, 0, 0, 0, 0,\n",
              "           0, 0, 0, 0, 0, 0, 0, 0, 0, 0, 0, 0, 0, 0, 0, 0, 0, 0, 0, 0, 0, 0, 0,\n",
              "           0, 0, 0, 0, 0, 0, 0, 0, 0, 0, 0, 0, 0, 0, 0, 0, 0, 0, 0, 0, 0, 0, 0,\n",
              "           0, 0, 0, 0, 0, 0, 0, 0, 0, 0, 0, 0, 0, 0, 0, 0, 0, 0, 0, 0, 0, 0, 0,\n",
              "           0, 0, 0, 0, 0, 0, 0, 0, 0, 0, 0, 0, 0, 0, 0, 0, 0, 0, 0, 0, 0, 0, 0,\n",
              "           0, 0, 0, 0, 0, 0, 0, 0, 0, 0, 0, 0, 0, 0, 0, 0, 0, 0, 0, 0, 0, 0, 0,\n",
              "           0, 0, 0, 0, 0, 0, 0, 0, 0, 0, 0, 0, 0, 0, 0, 0, 0, 0, 0, 0, 0, 0, 0,\n",
              "           0, 0, 0, 0, 0, 0, 0, 0, 0, 0, 0, 0, 0, 0, 0, 0, 0, 0, 0, 0, 0, 0, 0,\n",
              "           0, 0, 0, 0, 0, 0, 0, 0, 0, 0, 0, 0, 0, 0, 0, 0, 0, 0, 0, 0, 0, 0, 0,\n",
              "           0, 0, 0, 0, 0, 0, 0, 0, 0, 0, 0, 0, 0, 0, 0, 0, 0, 0, 0, 0, 0, 0, 0]],\n",
              " \n",
              "         [[1, 1, 1, 1, 1, 1, 1, 1, 1, 1, 1, 1, 1, 1, 1, 0, 0, 0, 0, 0, 0, 0, 0,\n",
              "           0, 0, 0, 0, 0, 0, 0, 0, 0, 0, 0, 0, 0, 0, 0, 0, 0, 0, 0, 0, 0, 0, 0,\n",
              "           0, 0, 0, 0, 0, 0, 0, 0, 0, 0, 0, 0, 0, 0, 0, 0, 0, 0, 0, 0, 0, 0, 0,\n",
              "           0, 0, 0, 0, 0, 0, 0, 0, 0, 0, 0, 0, 0, 0, 0, 0, 0, 0, 0, 0, 0, 0, 0,\n",
              "           0, 0, 0, 0, 0, 0, 0, 0, 0, 0, 0, 0, 0, 0, 0, 0, 0, 0, 0, 0, 0, 0, 0,\n",
              "           0, 0, 0, 0, 0, 0, 0, 0, 0, 0, 0, 0, 0, 0, 0, 0, 0, 0, 0, 0, 0, 0, 0,\n",
              "           0, 0, 0, 0, 0, 0, 0, 0, 0, 0, 0, 0, 0, 0, 0, 0, 0, 0, 0, 0, 0, 0, 0,\n",
              "           0, 0, 0, 0, 0, 0, 0, 0, 0, 0, 0, 0, 0, 0, 0, 0, 0, 0, 0, 0, 0, 0, 0,\n",
              "           0, 0, 0, 0, 0, 0, 0, 0, 0, 0, 0, 0, 0, 0, 0, 0, 0, 0, 0, 0, 0, 0, 0,\n",
              "           0, 0, 0, 0, 0, 0, 0, 0, 0, 0, 0, 0, 0, 0, 0, 0, 0, 0, 0, 0, 0, 0, 0,\n",
              "           0, 0, 0, 0, 0, 0, 0, 0, 0, 0, 0, 0, 0, 0, 0, 0, 0, 0, 0, 0, 0, 0, 0,\n",
              "           0, 0, 0, 0, 0, 0, 0, 0, 0, 0, 0, 0, 0, 0, 0, 0, 0, 0, 0, 0, 0, 0, 0,\n",
              "           0, 0, 0, 0, 0, 0, 0, 0, 0, 0, 0, 0, 0, 0, 0, 0, 0, 0, 0, 0, 0, 0, 0,\n",
              "           0, 0, 0, 0, 0, 0, 0, 0, 0, 0, 0, 0, 0, 0, 0, 0, 0, 0, 0, 0, 0, 0, 0]]],\n",
              "        device='cuda:0'),\n",
              " 'label': tensor([1, 0])}"
            ]
          },
          "metadata": {},
          "execution_count": 129
        }
      ]
    },
    {
      "cell_type": "markdown",
      "source": [
        "Confirmando efeito do parâmetro shuffle em DataLoader"
      ],
      "metadata": {
        "id": "Jm53nP5pKW44"
      }
    },
    {
      "cell_type": "code",
      "source": [
        "dummy_loader = DataLoader(dummy_dataset, batch_size=2, shuffle=False, num_workers=hparam['num_workers_dataloader'])\n",
        "for ndx, epoch in tqdm(enumerate(range(hparam['num_epochs'])), desc='Epochs'):\n",
        "  for batch in dummy_loader:\n",
        "    print(batch['label'])\n",
        "  print(f\"Fim época {ndx}\")\n"
      ],
      "metadata": {
        "colab": {
          "base_uri": "https://localhost:8080/"
        },
        "id": "SCy-mUJDIiGj",
        "outputId": "87bc5c3e-47b2-4edd-b7bf-0cba75289e44"
      },
      "execution_count": null,
      "outputs": [
        {
          "output_type": "stream",
          "name": "stderr",
          "text": [
            "Epochs: 3it [00:00, 302.44it/s]"
          ]
        },
        {
          "output_type": "stream",
          "name": "stdout",
          "text": [
            "tensor([1, 0])\n",
            "tensor([1, 0])\n",
            "tensor([1, 0])\n",
            "tensor([1])\n",
            "Fim época 0\n",
            "tensor([1, 0])\n",
            "tensor([1, 0])\n",
            "tensor([1, 0])\n",
            "tensor([1])\n",
            "Fim época 1\n",
            "tensor([1, 0])\n",
            "tensor([1, 0])\n",
            "tensor([1, 0])\n",
            "tensor([1])\n",
            "Fim época 2\n"
          ]
        },
        {
          "output_type": "stream",
          "name": "stderr",
          "text": [
            "\n"
          ]
        }
      ]
    },
    {
      "cell_type": "code",
      "source": [
        "dummy_loader = DataLoader(dummy_dataset, batch_size=2, shuffle=True, num_workers=hparam['num_workers_dataloader'])\n",
        "for ndx, epoch in tqdm(enumerate(range(hparam['num_epochs'])), desc='Epochs'):\n",
        "  for batch in dummy_loader:\n",
        "    print(batch['label'])\n",
        "  print(f\"Fim época {ndx}\")"
      ],
      "metadata": {
        "colab": {
          "base_uri": "https://localhost:8080/"
        },
        "id": "7sq54U35KGTI",
        "outputId": "915333b6-559e-49f2-eb1d-62e12196b9ca"
      },
      "execution_count": null,
      "outputs": [
        {
          "output_type": "stream",
          "name": "stderr",
          "text": [
            "Epochs: 3it [00:00, 279.73it/s]"
          ]
        },
        {
          "output_type": "stream",
          "name": "stdout",
          "text": [
            "tensor([0, 1])\n",
            "tensor([1, 1])\n",
            "tensor([0, 1])\n",
            "tensor([0])\n",
            "Fim época 0\n",
            "tensor([0, 1])\n",
            "tensor([1, 0])\n",
            "tensor([0, 1])\n",
            "tensor([1])\n",
            "Fim época 1\n",
            "tensor([0, 1])\n",
            "tensor([1, 0])\n",
            "tensor([1, 0])\n",
            "tensor([1])\n",
            "Fim época 2\n"
          ]
        },
        {
          "output_type": "stream",
          "name": "stderr",
          "text": [
            "\n"
          ]
        }
      ]
    },
    {
      "cell_type": "markdown",
      "metadata": {
        "id": "0Giyi5Rv_NIm"
      },
      "source": [
        "### Carregando o Dataset e os Dataloaders\n"
      ]
    },
    {
      "cell_type": "code",
      "source": [
        "#@title Boolean fields\n",
        "datasets_carregados_previamente = True #@param {type:\"boolean\"}\n",
        "\n",
        "print(datasets_carregados_previamente)"
      ],
      "metadata": {
        "colab": {
          "base_uri": "https://localhost:8080/"
        },
        "id": "SiYX859Zk4UC",
        "outputId": "2be0d88f-1dde-43f5-917d-376bb4b4556c"
      },
      "execution_count": 145,
      "outputs": [
        {
          "output_type": "stream",
          "name": "stdout",
          "text": [
            "True\n"
          ]
        }
      ]
    },
    {
      "cell_type": "code",
      "source": [
        "import io"
      ],
      "metadata": {
        "id": "3lkqaQ6lo9Mi"
      },
      "execution_count": 142,
      "outputs": []
    },
    {
      "cell_type": "code",
      "source": [
        "if datasets_carregados_previamente:\n",
        "  with open(path_treino+'dataset_valid_len_'+str(hparam['num_sentenca_valid'])+'.pt','rb') as f:\n",
        "    buffer = io.BytesIO(f.read())\n",
        "  dataset_valid = torch.load(buffer)\n",
        "  with open(path_treino+'dataset_train_len_'+str(hparam['num_sentenca_train'])+'.pt','rb') as f:\n",
        "    buffer = io.BytesIO(f.read())\n",
        "  dataset_train = torch.load(buffer)\n",
        "  print('Datasets carregados')   "
      ],
      "metadata": {
        "colab": {
          "base_uri": "https://localhost:8080/"
        },
        "id": "R7vbgBcyoLh2",
        "outputId": "b9e14a5e-ae72-4bcf-c362-c27dade4b00d"
      },
      "execution_count": 147,
      "outputs": [
        {
          "output_type": "stream",
          "name": "stdout",
          "text": [
            "Datasets carregados\n"
          ]
        }
      ]
    },
    {
      "cell_type": "code",
      "source": [
        "%%time\n",
        "if not datasets_carregados_previamente:\n",
        "  print(\"carregando valid_dataset\")  \n",
        "  dataset_valid = MyDataset(texts=X_valid, classes=Y_valid, tokenizer=tokenizer, max_seq_length=hparam['max_seq_length'], parm_device=hparam['device'])\n",
        "  torch.save(dataset_valid, path_treino+'dataset_valid_len_'+str(hparam['num_sentenca_valid'])+'.pt')"
      ],
      "metadata": {
        "colab": {
          "base_uri": "https://localhost:8080/"
        },
        "id": "Cx7EP3ygZccm",
        "outputId": "66cc4241-fee3-4f91-8e23-ea2f57f4571b"
      },
      "execution_count": null,
      "outputs": [
        {
          "output_type": "stream",
          "name": "stderr",
          "text": [
            "encoding text pair: 100%|██████████| 3300/3300 [00:01<00:00, 1971.15it/s]"
          ]
        },
        {
          "output_type": "stream",
          "name": "stdout",
          "text": [
            "\tVou converter lista para tensor;  Momento: [2023-Mar-12 20:43:25]\n",
            "CPU times: user 1.71 s, sys: 6.87 ms, total: 1.72 s\n",
            "Wall time: 1.7 s\n"
          ]
        },
        {
          "output_type": "stream",
          "name": "stderr",
          "text": [
            "\n"
          ]
        }
      ]
    },
    {
      "cell_type": "code",
      "source": [
        "%%time\n",
        "if not datasets_carregados_previamente:\n",
        "  print(\"carregando train_dataset\")  \n",
        "  dataset_train = MyDataset(texts=X_train, classes=Y_train, tokenizer=tokenizer, max_seq_length=hparam['max_seq_length'], parm_device=hparam['device'])\n",
        "  torch.save(dataset_train, path_treino+'dataset_train_len_'+str(hparam['num_sentenca_train'])+'.pt')"
      ],
      "metadata": {
        "id": "nV90U0jDllgQ"
      },
      "execution_count": null,
      "outputs": []
    },
    {
      "cell_type": "code",
      "source": [],
      "metadata": {
        "id": "k2V180VQlHg0"
      },
      "execution_count": null,
      "outputs": []
    },
    {
      "cell_type": "code",
      "source": [
        "dataloader_train = DataLoader(dataset_train, batch_size=32, shuffle=True)\n",
        "dataloader_valid = DataLoader(dataset_valid, batch_size=32, shuffle=False)"
      ],
      "metadata": {
        "id": "ZVmbQFB7W96V"
      },
      "execution_count": 148,
      "outputs": []
    },
    {
      "cell_type": "markdown",
      "source": [
        "## Finetuning"
      ],
      "metadata": {
        "id": "tCiefXKDtV3l"
      }
    },
    {
      "cell_type": "code",
      "source": [
        "def count_parameters(model):\n",
        "    \"\"\"\n",
        "    Conta o número de parâmetros treináveis em um modelo PyTorch.\n",
        "\n",
        "    Args:\n",
        "        model (torch.nn.Module): O modelo PyTorch a ser avaliado.\n",
        "\n",
        "    Returns:\n",
        "        int: O número de parâmetros treináveis do modelo.\n",
        "\n",
        "    \"\"\"\n",
        "    # Retorna a soma do número de elementos em cada tensor de parâmetro que requer gradiente.\n",
        "    # A propriedade \"requires_grad\" é definida como True para todos os tensores de parâmetro que \n",
        "    # precisam ser treinados, enquanto que para aqueles que não precisam, ela é definida como False.\n",
        "    return sum(p.numel() for p in model.parameters() if p.requires_grad)"
      ],
      "metadata": {
        "id": "ch7FNPEXdyD5"
      },
      "execution_count": 149,
      "outputs": []
    },
    {
      "cell_type": "code",
      "source": [
        "# We first define the evaluation function to measure accuracy and loss\n",
        "def evaluate(model, dataloader, set_name):\n",
        "    losses = []\n",
        "    correct = 0\n",
        "    model.eval()\n",
        "    with torch.no_grad():\n",
        "        for batch in tqdm(dataloader, mininterval=0.5, desc=set_name, disable=False):\n",
        "            outputs = model(**batch.to(device))\n",
        "            loss_val = outputs.loss\n",
        "            losses.append(loss_val.cpu().item())\n",
        "            preds = outputs.logits.argmax(dim=1)\n",
        "            correct += (preds == batch['labels']).sum().item()\n",
        "\n",
        "    print(f'{set_name} loss: {mean(losses):0.3f}; {set_name} accuracy: {correct / len(dataloader.dataset):0.3f}')"
      ],
      "metadata": {
        "id": "E2V21tzWAUQW"
      },
      "execution_count": 150,
      "outputs": []
    },
    {
      "cell_type": "code",
      "source": [
        "from torch import nn\n",
        "from torch import optim\n",
        "from tqdm.auto import tqdm\n",
        "from transformers import get_linear_schedule_with_warmup"
      ],
      "metadata": {
        "id": "H1P8TKmCWblx"
      },
      "execution_count": 151,
      "outputs": []
    },
    {
      "cell_type": "code",
      "source": [
        "model = AutoModelForSequenceClassification.from_pretrained(hparam['model_name'], num_labels=2).to(hparam['device'])"
      ],
      "metadata": {
        "colab": {
          "base_uri": "https://localhost:8080/",
          "height": 590,
          "referenced_widgets": [
            "a5457e90eec34e9a8b16e13753874eb7",
            "05d3e3736c364e47af429ee9066af474",
            "0f4c5eafbb4b4d289934e7c90d722b9f",
            "0685ffd2f8804f0c92af0345e17a5fb9",
            "df4035681c4d48de98468e06961251df",
            "3abebd4f32264247a3c4389fa0ecaf34",
            "94f8b51655174ed68921a42b2d49656e",
            "d5be4545a47e4d6390f34577a1aa62fc",
            "2821ff63af644a369b3769054f605c57",
            "65059aab3e914e59b143a3d116c91ec8",
            "b135eb690c1447108c7d19a156ecf32d"
          ]
        },
        "id": "JDSbEIgTeFnS",
        "outputId": "6332917a-5d51-4adb-f676-f875755f4f33"
      },
      "execution_count": 152,
      "outputs": [
        {
          "output_type": "stream",
          "name": "stderr",
          "text": [
            "loading configuration file https://huggingface.co/microsoft/MiniLM-L12-H384-uncased/resolve/main/config.json from cache at /root/.cache/huggingface/transformers/ceb753d3f27a8c0d09184f35884666cda91b8ae610cd2a54d89793ac7663f1f9.13815020fd994b27db9974c0ce0ec4c47dfac6c8f11bf1a35a0a06d5b165665a\n",
            "Model config BertConfig {\n",
            "  \"attention_probs_dropout_prob\": 0.1,\n",
            "  \"gradient_checkpointing\": false,\n",
            "  \"hidden_act\": \"gelu\",\n",
            "  \"hidden_dropout_prob\": 0.1,\n",
            "  \"hidden_size\": 384,\n",
            "  \"initializer_range\": 0.02,\n",
            "  \"intermediate_size\": 1536,\n",
            "  \"layer_norm_eps\": 1e-12,\n",
            "  \"max_position_embeddings\": 512,\n",
            "  \"model_type\": \"bert\",\n",
            "  \"num_attention_heads\": 12,\n",
            "  \"num_hidden_layers\": 12,\n",
            "  \"pad_token_id\": 0,\n",
            "  \"position_embedding_type\": \"absolute\",\n",
            "  \"transformers_version\": \"4.6.1\",\n",
            "  \"type_vocab_size\": 2,\n",
            "  \"use_cache\": true,\n",
            "  \"vocab_size\": 30522\n",
            "}\n",
            "\n",
            "https://huggingface.co/microsoft/MiniLM-L12-H384-uncased/resolve/main/pytorch_model.bin not found in cache or force_download set to True, downloading to /root/.cache/huggingface/transformers/tmpt6b1m6tn\n"
          ]
        },
        {
          "output_type": "display_data",
          "data": {
            "text/plain": [
              "Downloading:   0%|          | 0.00/133M [00:00<?, ?B/s]"
            ],
            "application/vnd.jupyter.widget-view+json": {
              "version_major": 2,
              "version_minor": 0,
              "model_id": "a5457e90eec34e9a8b16e13753874eb7"
            }
          },
          "metadata": {}
        },
        {
          "output_type": "stream",
          "name": "stderr",
          "text": [
            "storing https://huggingface.co/microsoft/MiniLM-L12-H384-uncased/resolve/main/pytorch_model.bin in cache at /root/.cache/huggingface/transformers/b774244369e464de2c660477b70bae7c3223fa7250aa1c8fc0b0f037ed58418a.087808d17814e241e9352c5ce0fea1a7d05e5b0f020d44b42b5f05922e96c923\n",
            "creating metadata file for /root/.cache/huggingface/transformers/b774244369e464de2c660477b70bae7c3223fa7250aa1c8fc0b0f037ed58418a.087808d17814e241e9352c5ce0fea1a7d05e5b0f020d44b42b5f05922e96c923\n",
            "loading weights file https://huggingface.co/microsoft/MiniLM-L12-H384-uncased/resolve/main/pytorch_model.bin from cache at /root/.cache/huggingface/transformers/b774244369e464de2c660477b70bae7c3223fa7250aa1c8fc0b0f037ed58418a.087808d17814e241e9352c5ce0fea1a7d05e5b0f020d44b42b5f05922e96c923\n",
            "All model checkpoint weights were used when initializing BertForSequenceClassification.\n",
            "\n",
            "Some weights of BertForSequenceClassification were not initialized from the model checkpoint at microsoft/MiniLM-L12-H384-uncased and are newly initialized: ['classifier.bias', 'classifier.weight']\n",
            "You should probably TRAIN this model on a down-stream task to be able to use it for predictions and inference.\n"
          ]
        }
      ]
    },
    {
      "cell_type": "markdown",
      "source": [
        "Depois tentar definir:hparam[ hparam['dim_feedforward']=256"
      ],
      "metadata": {
        "id": "iW5oCtCQe8GP"
      }
    },
    {
      "cell_type": "code",
      "source": [
        "count_parameters(model)"
      ],
      "metadata": {
        "colab": {
          "base_uri": "https://localhost:8080/"
        },
        "id": "0jcFMDnJqadI",
        "outputId": "6bcd7ad6-ba23-4bcd-8147-0d5784685fb6"
      },
      "execution_count": 153,
      "outputs": [
        {
          "output_type": "execute_result",
          "data": {
            "text/plain": [
              "33360770"
            ]
          },
          "metadata": {},
          "execution_count": 153
        }
      ]
    },
    {
      "cell_type": "code",
      "source": [
        "hparam['learning_rate']=1e-4 # 3e-5 # 1e-3\n",
        "hparam['num_params'] = count_parameters(model)\n",
        "print(f\"Number of model parameters: {hparam['num_params']}\")\n",
        "hparam['num_training_steps'] = hparam['num_epochs'] * len(dataloader_train)\n",
        "hparam['amsgrad']=False\n",
        "hparam['weight_decay'] = 1e-4"
      ],
      "metadata": {
        "id": "zcFPmU98fT2m",
        "colab": {
          "base_uri": "https://localhost:8080/"
        },
        "outputId": "245faed4-c434-428f-c77d-da0a7df5bdeb"
      },
      "execution_count": 155,
      "outputs": [
        {
          "output_type": "stream",
          "name": "stdout",
          "text": [
            "Number of model parameters: 33360770\n"
          ]
        }
      ]
    },
    {
      "cell_type": "markdown",
      "source": [
        "#PAREI AQUI"
      ],
      "metadata": {
        "id": "qzEC4YK2ruV9"
      }
    },
    {
      "cell_type": "code",
      "source": [
        "hparam['optimizer'] = torch.optim.Adam(model.params, lr=hparam['learning_rate'], weight_decay= hparam['weight_decay'], amsgrad=hparam['amsgrad'])"
      ],
      "metadata": {
        "id": "bnbzyzJbcmUv",
        "colab": {
          "base_uri": "https://localhost:8080/",
          "height": 1000
        },
        "outputId": "f03ba9f5-04ae-4b32-beb8-8c160766bac0"
      },
      "execution_count": 157,
      "outputs": [
        {
          "output_type": "error",
          "ename": "AttributeError",
          "evalue": "ignored",
          "traceback": [
            "\u001b[0;31m---------------------------------------------------------------------------\u001b[0m",
            "\u001b[0;31mAttributeError\u001b[0m                            Traceback (most recent call last)",
            "Cell \u001b[0;32mIn[157], line 1\u001b[0m\n\u001b[0;32m----> 1\u001b[0m hparam[\u001b[38;5;124m'\u001b[39m\u001b[38;5;124moptimizer\u001b[39m\u001b[38;5;124m'\u001b[39m] \u001b[38;5;241m=\u001b[39m torch\u001b[38;5;241m.\u001b[39moptim\u001b[38;5;241m.\u001b[39mAdam(\u001b[43mmodel\u001b[49m\u001b[38;5;241;43m.\u001b[39;49m\u001b[43mparams\u001b[49m, lr\u001b[38;5;241m=\u001b[39mhparam[\u001b[38;5;124m'\u001b[39m\u001b[38;5;124mlearning_rate\u001b[39m\u001b[38;5;124m'\u001b[39m], weight_decay\u001b[38;5;241m=\u001b[39m hparam[\u001b[38;5;124m'\u001b[39m\u001b[38;5;124mweight_decay\u001b[39m\u001b[38;5;124m'\u001b[39m], amsgrad\u001b[38;5;241m=\u001b[39mhparam[\u001b[38;5;124m'\u001b[39m\u001b[38;5;124mamsgrad\u001b[39m\u001b[38;5;124m'\u001b[39m])\n        hparam \u001b[0;34m= {'num_workers_dataloader': 0, 'device': device(type='cuda', index=0), 'percent_test_size': 0.15, 'max_seq_length': 322, 'num_sentenca_train': 18700, 'num_sentenca_valid': 3300, 'num_epochs': 3, 'model_name': 'microsoft/MiniLM-L12-H384-uncased', 'vocab_size': 30522, 'learning_rate': 0.0001, 'num_params': 33360770, 'num_training_steps': 1755, 'amsgrad': False, 'weight_decay': 0.0001}\u001b[0m\u001b[0;34m\n        \u001b[0mtorch.optim \u001b[0;34m= <module 'torch.optim' from '/usr/local/lib/python3.9/dist-packages/torch/optim/__init__.py'>\u001b[0m\u001b[0;34m\n        \u001b[0mmodel \u001b[0;34m= BertForSequenceClassification(\n  (bert): BertModel(\n    (embeddings): BertEmbeddings(\n      (word_embeddings): Embedding(30522, 384, padding_idx=0)\n      (position_embeddings): Embedding(512, 384)\n      (token_type_embeddings): Embedding(2, 384)\n      (LayerNorm): LayerNorm((384,), eps=1e-12, elementwise_affine=True)\n      (dropout): Dropout(p=0.1, inplace=False)\n    )\n    (encoder): BertEncoder(\n      (layer): ModuleList(\n        (0): BertLayer(\n          (attention): BertAttention(\n            (self): BertSelfAttention(\n              (query): Linear(in_features=384, out_features=384, bias=True)\n              (key): Linear(in_features=384, out_features=384, bias=True)\n              (value): Linear(in_features=384, out_features=384, bias=True)\n              (dropout): Dropout(p=0.1, inplace=False)\n            )\n            (output): BertSelfOutput(\n              (dense): Linear(in_features=384, out_features=384, bias=True)\n              (LayerNorm): LayerNorm((384,), eps=1e-12, elementwise_affine=True)\n              (dropout): Dropout(p=0.1, inplace=False)\n            )\n          )\n          (intermediate): BertIntermediate(\n            (dense): Linear(in_features=384, out_features=1536, bias=True)\n          )\n          (output): BertOutput(\n            (dense): Linear(in_features=1536, out_features=384, bias=True)\n            (LayerNorm): LayerNorm((384,), eps=1e-12, elementwise_affine=True)\n            (dropout): Dropout(p=0.1, inplace=False)\n          )\n        )\n        (1): BertLayer(\n          (attention): BertAttention(\n            (self): BertSelfAttention(\n              (query): Linear(in_features=384, out_features=384, bias=True)\n              (key): Linear(in_features=384, out_features=384, bias=True)\n              (value): Linear(in_features=384, out_features=384, bias=True)\n              (dropout): Dropout(p=0.1, inplace=False)\n            )\n            (output): BertSelfOutput(\n              (dense): Linear(in_features=384, out_features=384, bias=True)\n              (LayerNorm): LayerNorm((384,), eps=1e-12, elementwise_affine=True)\n              (dropout): Dropout(p=0.1, inplace=False)\n            )\n          )\n          (intermediate): BertIntermediate(\n            (dense): Linear(in_features=384, out_features=1536, bias=True)\n          )\n          (output): BertOutput(\n            (dense): Linear(in_features=1536, out_features=384, bias=True)\n            (LayerNorm): LayerNorm((384,), eps=1e-12, elementwise_affine=True)\n            (dropout): Dropout(p=0.1, inplace=False)\n          )\n        )\n        (2): BertLayer(\n          (attention): BertAttention(\n            (self): BertSelfAttention(\n              (query): Linear(in_features=384, out_features=384, bias=True)\n              (key): Linear(in_features=384, out_features=384, bias=True)\n              (value): Linear(in_features=384, out_features=384, bias=True)\n              (dropout): Dropout(p=0.1, inplace=False)\n            )\n            (output): BertSelfOutput(\n              (dense): Linear(in_features=384, out_features=384, bias=True)\n              (LayerNorm): LayerNorm((384,), eps=1e-12, elementwise_affine=True)\n              (dropout): Dropout(p=0.1, inplace=False)\n            )\n          )\n          (intermediate): BertIntermediate(\n            (dense): Linear(in_features=384, out_features=1536, bias=True)\n          )\n          (output): BertOutput(\n            (dense): Linear(in_features=1536, out_features=384, bias=True)\n            (LayerNorm): LayerNorm((384,), eps=1e-12, elementwise_affine=True)\n            (dropout): Dropout(p=0.1, inplace=False)\n          )\n        )\n        (3): BertLayer(\n          (attention): BertAttention(\n            (self): BertSelfAttention(\n              (query): Linear(in_features=384, out_features=384, bias=True)\n              (key): Linear(in_features=384, out_features=384, bias=True)\n              (value): Linear(in_features=384, out_features=384, bias=True)\n              (dropout): Dropout(p=0.1, inplace=False)\n            )\n            (output): BertSelfOutput(\n              (dense): Linear(in_features=384, out_features=384, bias=True)\n              (LayerNorm): LayerNorm((384,), eps=1e-12, elementwise_affine=True)\n              (dropout): Dropout(p=0.1, inplace=False)\n            )\n          )\n          (intermediate): BertIntermediate(\n            (dense): Linear(in_features=384, out_features=1536, bias=True)\n          )\n          (output): BertOutput(\n            (dense): Linear(in_features=1536, out_features=384, bias=True)\n            (LayerNorm): LayerNorm((384,), eps=1e-12, elementwise_affine=True)\n            (dropout): Dropout(p=0.1, inplace=False)\n          )\n        )\n        (4): BertLayer(\n          (attention): BertAttention(\n            (self): BertSelfAttention(\n              (query): Linear(in_features=384, out_features=384, bias=True)\n              (key): Linear(in_features=384, out_features=384, bias=True)\n              (value): Linear(in_features=384, out_features=384, bias=True)\n              (dropout): Dropout(p=0.1, inplace=False)\n            )\n            (output): BertSelfOutput(\n              (dense): Linear(in_features=384, out_features=384, bias=True)\n              (LayerNorm): LayerNorm((384,), eps=1e-12, elementwise_affine=True)\n              (dropout): Dropout(p=0.1, inplace=False)\n            )\n          )\n          (intermediate): BertIntermediate(\n            (dense): Linear(in_features=384, out_features=1536, bias=True)\n          )\n          (output): BertOutput(\n            (dense): Linear(in_features=1536, out_features=384, bias=True)\n            (LayerNorm): LayerNorm((384,), eps=1e-12, elementwise_affine=True)\n            (dropout): Dropout(p=0.1, inplace=False)\n          )\n        )\n        (5): BertLayer(\n          (attention): BertAttention(\n            (self): BertSelfAttention(\n              (query): Linear(in_features=384, out_features=384, bias=True)\n              (key): Linear(in_features=384, out_features=384, bias=True)\n              (value): Linear(in_features=384, out_features=384, bias=True)\n              (dropout): Dropout(p=0.1, inplace=False)\n            )\n            (output): BertSelfOutput(\n              (dense): Linear(in_features=384, out_features=384, bias=True)\n              (LayerNorm): LayerNorm((384,), eps=1e-12, elementwise_affine=True)\n              (dropout): Dropout(p=0.1, inplace=False)\n            )\n          )\n          (intermediate): BertIntermediate(\n            (dense): Linear(in_features=384, out_features=1536, bias=True)\n          )\n          (output): BertOutput(\n            (dense): Linear(in_features=1536, out_features=384, bias=True)\n            (LayerNorm): LayerNorm((384,), eps=1e-12, elementwise_affine=True)\n            (dropout): Dropout(p=0.1, inplace=False)\n          )\n        )\n        (6): BertLayer(\n          (attention): BertAttention(\n            (self): BertSelfAttention(\n              (query): Linear(in_features=384, out_features=384, bias=True)\n              (key): Linear(in_features=384, out_features=384, bias=True)\n              (value): Linear(in_features=384, out_features=384, bias=True)\n              (dropout): Dropout(p=0.1, inplace=False)\n            )\n            (output): BertSelfOutput(\n              (dense): Linear(in_features=384, out_features=384, bias=True)\n              (LayerNorm): LayerNorm((384,), eps=1e-12, elementwise_affine=True)\n              (dropout): Dropout(p=0.1, inplace=False)\n            )\n          )\n          (intermediate): BertIntermediate(\n            (dense): Linear(in_features=384, out_features=1536, bias=True)\n          )\n          (output): BertOutput(\n            (dense): Linear(in_features=1536, out_features=384, bias=True)\n            (LayerNorm): LayerNorm((384,), eps=1e-12, elementwise_affine=True)\n            (dropout): Dropout(p=0.1, inplace=False)\n          )\n        )\n        (7): BertLayer(\n          (attention): BertAttention(\n            (self): BertSelfAttention(\n              (query): Linear(in_features=384, out_features=384, bias=True)\n              (key): Linear(in_features=384, out_features=384, bias=True)\n              (value): Linear(in_features=384, out_features=384, bias=True)\n              (dropout): Dropout(p=0.1, inplace=False)\n            )\n            (output): BertSelfOutput(\n              (dense): Linear(in_features=384, out_features=384, bias=True)\n              (LayerNorm): LayerNorm((384,), eps=1e-12, elementwise_affine=True)\n              (dropout): Dropout(p=0.1, inplace=False)\n            )\n          )\n          (intermediate): BertIntermediate(\n            (dense): Linear(in_features=384, out_features=1536, bias=True)\n          )\n          (output): BertOutput(\n            (dense): Linear(in_features=1536, out_features=384, bias=True)\n            (LayerNorm): LayerNorm((384,), eps=1e-12, elementwise_affine=True)\n            (dropout): Dropout(p=0.1, inplace=False)\n          )\n        )\n        (8): BertLayer(\n          (attention): BertAttention(\n            (self): BertSelfAttention(\n              (query): Linear(in_features=384, out_features=384, bias=True)\n              (key): Linear(in_features=384, out_features=384, bias=True)\n              (value): Linear(in_features=384, out_features=384, bias=True)\n              (dropout): Dropout(p=0.1, inplace=False)\n            )\n            (output): BertSelfOutput(\n              (dense): Linear(in_features=384, out_features=384, bias=True)\n              (LayerNorm): LayerNorm((384,), eps=1e-12, elementwise_affine=True)\n              (dropout): Dropout(p=0.1, inplace=False)\n            )\n          )\n          (intermediate): BertIntermediate(\n            (dense): Linear(in_features=384, out_features=1536, bias=True)\n          )\n          (output): BertOutput(\n            (dense): Linear(in_features=1536, out_features=384, bias=True)\n            (LayerNorm): LayerNorm((384,), eps=1e-12, elementwise_affine=True)\n            (dropout): Dropout(p=0.1, inplace=False)\n          )\n        )\n        (9): BertLayer(\n          (attention): BertAttention(\n            (self): BertSelfAttention(\n              (query): Linear(in_features=384, out_features=384, bias=True)\n              (key): Linear(in_features=384, out_features=384, bias=True)\n              (value): Linear(in_features=384, out_features=384, bias=True)\n              (dropout): Dropout(p=0.1, inplace=False)\n            )\n            (output): BertSelfOutput(\n              (dense): Linear(in_features=384, out_features=384, bias=True)\n              (LayerNorm): LayerNorm((384,), eps=1e-12, elementwise_affine=True)\n              (dropout): Dropout(p=0.1, inplace=False)\n            )\n          )\n          (intermediate): BertIntermediate(\n            (dense): Linear(in_features=384, out_features=1536, bias=True)\n          )\n          (output): BertOutput(\n            (dense): Linear(in_features=1536, out_features=384, bias=True)\n            (LayerNorm): LayerNorm((384,), eps=1e-12, elementwise_affine=True)\n            (dropout): Dropout(p=0.1, inplace=False)\n          )\n        )\n        (10): BertLayer(\n          (attention): BertAttention(\n            (self): BertSelfAttention(\n              (query): Linear(in_features=384, out_features=384, bias=True)\n              (key): Linear(in_features=384, out_features=384, bias=True)\n              (value): Linear(in_features=384, out_features=384, bias=True)\n              (dropout): Dropout(p=0.1, inplace=False)\n            )\n            (output): BertSelfOutput(\n              (dense): Linear(in_features=384, out_features=384, bias=True)\n              (LayerNorm): LayerNorm((384,), eps=1e-12, elementwise_affine=True)\n              (dropout): Dropout(p=0.1, inplace=False)\n            )\n          )\n          (intermediate): BertIntermediate(\n            (dense): Linear(in_features=384, out_features=1536, bias=True)\n          )\n          (output): BertOutput(\n            (dense): Linear(in_features=1536, out_features=384, bias=True)\n            (LayerNorm): LayerNorm((384,), eps=1e-12, elementwise_affine=True)\n            (dropout): Dropout(p=0.1, inplace=False)\n          )\n        )\n        (11): BertLayer(\n          (attention): BertAttention(\n            (self): BertSelfAttention(\n              (query): Linear(in_features=384, out_features=384, bias=True)\n              (key): Linear(in_features=384, out_features=384, bias=True)\n              (value): Linear(in_features=384, out_features=384, bias=True)\n              (dropout): Dropout(p=0.1, inplace=False)\n            )\n            (output): BertSelfOutput(\n              (dense): Linear(in_features=384, out_features=384, bias=True)\n              (LayerNorm): LayerNorm((384,), eps=1e-12, elementwise_affine=True)\n              (dropout): Dropout(p=0.1, inplace=False)\n            )\n          )\n          (intermediate): BertIntermediate(\n            (dense): Linear(in_features=384, out_features=1536, bias=True)\n          )\n          (output): BertOutput(\n            (dense): Linear(in_features=1536, out_features=384, bias=True)\n            (LayerNorm): LayerNorm((384,), eps=1e-12, elementwise_affine=True)\n            (dropout): Dropout(p=0.1, inplace=False)\n          )\n        )\n      )\n    )\n    (pooler): BertPooler(\n      (dense): Linear(in_features=384, out_features=384, bias=True)\n      (activation): Tanh()\n    )\n  )\n  (dropout): Dropout(p=0.1, inplace=False)\n  (classifier): Linear(in_features=384, out_features=2, bias=True)\n)\u001b[0m\u001b[0;34m\n        \u001b[0mhparam['learning_rate'] \u001b[0;34m= 0.0001\u001b[0m\u001b[0;34m\n        \u001b[0mhparam['weight_decay'] \u001b[0;34m= 0.0001\u001b[0m\u001b[0;34m\n        \u001b[0mhparam['amsgrad'] \u001b[0;34m= False\u001b[0m\n",
            "File \u001b[0;32m/usr/local/lib/python3.9/dist-packages/torch/nn/modules/module.py:1269\u001b[0m, in \u001b[0;36mModule.__getattr__\u001b[0;34m(self=BertForSequenceClassification(\n  (bert): BertMod...ear(in_features=384, out_features=2, bias=True)\n), name='params')\u001b[0m\n\u001b[1;32m   1267\u001b[0m     \u001b[38;5;28;01mif\u001b[39;00m name \u001b[38;5;129;01min\u001b[39;00m modules:\n\u001b[1;32m   1268\u001b[0m         \u001b[38;5;28;01mreturn\u001b[39;00m modules[name]\n\u001b[0;32m-> 1269\u001b[0m \u001b[38;5;28;01mraise\u001b[39;00m \u001b[38;5;167;01mAttributeError\u001b[39;00m(\u001b[38;5;124m\"\u001b[39m\u001b[38;5;124m'\u001b[39m\u001b[38;5;132;01m{}\u001b[39;00m\u001b[38;5;124m'\u001b[39m\u001b[38;5;124m object has no attribute \u001b[39m\u001b[38;5;124m'\u001b[39m\u001b[38;5;132;01m{}\u001b[39;00m\u001b[38;5;124m'\u001b[39m\u001b[38;5;124m\"\u001b[39m\u001b[38;5;241m.\u001b[39mformat(\n        self \u001b[0;34m= BertForSequenceClassification(\n  (bert): BertModel(\n    (embeddings): BertEmbeddings(\n      (word_embeddings): Embedding(30522, 384, padding_idx=0)\n      (position_embeddings): Embedding(512, 384)\n      (token_type_embeddings): Embedding(2, 384)\n      (LayerNorm): LayerNorm((384,), eps=1e-12, elementwise_affine=True)\n      (dropout): Dropout(p=0.1, inplace=False)\n    )\n    (encoder): BertEncoder(\n      (layer): ModuleList(\n        (0): BertLayer(\n          (attention): BertAttention(\n            (self): BertSelfAttention(\n              (query): Linear(in_features=384, out_features=384, bias=True)\n              (key): Linear(in_features=384, out_features=384, bias=True)\n              (value): Linear(in_features=384, out_features=384, bias=True)\n              (dropout): Dropout(p=0.1, inplace=False)\n            )\n            (output): BertSelfOutput(\n              (dense): Linear(in_features=384, out_features=384, bias=True)\n              (LayerNorm): LayerNorm((384,), eps=1e-12, elementwise_affine=True)\n              (dropout): Dropout(p=0.1, inplace=False)\n            )\n          )\n          (intermediate): BertIntermediate(\n            (dense): Linear(in_features=384, out_features=1536, bias=True)\n          )\n          (output): BertOutput(\n            (dense): Linear(in_features=1536, out_features=384, bias=True)\n            (LayerNorm): LayerNorm((384,), eps=1e-12, elementwise_affine=True)\n            (dropout): Dropout(p=0.1, inplace=False)\n          )\n        )\n        (1): BertLayer(\n          (attention): BertAttention(\n            (self): BertSelfAttention(\n              (query): Linear(in_features=384, out_features=384, bias=True)\n              (key): Linear(in_features=384, out_features=384, bias=True)\n              (value): Linear(in_features=384, out_features=384, bias=True)\n              (dropout): Dropout(p=0.1, inplace=False)\n            )\n            (output): BertSelfOutput(\n              (dense): Linear(in_features=384, out_features=384, bias=True)\n              (LayerNorm): LayerNorm((384,), eps=1e-12, elementwise_affine=True)\n              (dropout): Dropout(p=0.1, inplace=False)\n            )\n          )\n          (intermediate): BertIntermediate(\n            (dense): Linear(in_features=384, out_features=1536, bias=True)\n          )\n          (output): BertOutput(\n            (dense): Linear(in_features=1536, out_features=384, bias=True)\n            (LayerNorm): LayerNorm((384,), eps=1e-12, elementwise_affine=True)\n            (dropout): Dropout(p=0.1, inplace=False)\n          )\n        )\n        (2): BertLayer(\n          (attention): BertAttention(\n            (self): BertSelfAttention(\n              (query): Linear(in_features=384, out_features=384, bias=True)\n              (key): Linear(in_features=384, out_features=384, bias=True)\n              (value): Linear(in_features=384, out_features=384, bias=True)\n              (dropout): Dropout(p=0.1, inplace=False)\n            )\n            (output): BertSelfOutput(\n              (dense): Linear(in_features=384, out_features=384, bias=True)\n              (LayerNorm): LayerNorm((384,), eps=1e-12, elementwise_affine=True)\n              (dropout): Dropout(p=0.1, inplace=False)\n            )\n          )\n          (intermediate): BertIntermediate(\n            (dense): Linear(in_features=384, out_features=1536, bias=True)\n          )\n          (output): BertOutput(\n            (dense): Linear(in_features=1536, out_features=384, bias=True)\n            (LayerNorm): LayerNorm((384,), eps=1e-12, elementwise_affine=True)\n            (dropout): Dropout(p=0.1, inplace=False)\n          )\n        )\n        (3): BertLayer(\n          (attention): BertAttention(\n            (self): BertSelfAttention(\n              (query): Linear(in_features=384, out_features=384, bias=True)\n              (key): Linear(in_features=384, out_features=384, bias=True)\n              (value): Linear(in_features=384, out_features=384, bias=True)\n              (dropout): Dropout(p=0.1, inplace=False)\n            )\n            (output): BertSelfOutput(\n              (dense): Linear(in_features=384, out_features=384, bias=True)\n              (LayerNorm): LayerNorm((384,), eps=1e-12, elementwise_affine=True)\n              (dropout): Dropout(p=0.1, inplace=False)\n            )\n          )\n          (intermediate): BertIntermediate(\n            (dense): Linear(in_features=384, out_features=1536, bias=True)\n          )\n          (output): BertOutput(\n            (dense): Linear(in_features=1536, out_features=384, bias=True)\n            (LayerNorm): LayerNorm((384,), eps=1e-12, elementwise_affine=True)\n            (dropout): Dropout(p=0.1, inplace=False)\n          )\n        )\n        (4): BertLayer(\n          (attention): BertAttention(\n            (self): BertSelfAttention(\n              (query): Linear(in_features=384, out_features=384, bias=True)\n              (key): Linear(in_features=384, out_features=384, bias=True)\n              (value): Linear(in_features=384, out_features=384, bias=True)\n              (dropout): Dropout(p=0.1, inplace=False)\n            )\n            (output): BertSelfOutput(\n              (dense): Linear(in_features=384, out_features=384, bias=True)\n              (LayerNorm): LayerNorm((384,), eps=1e-12, elementwise_affine=True)\n              (dropout): Dropout(p=0.1, inplace=False)\n            )\n          )\n          (intermediate): BertIntermediate(\n            (dense): Linear(in_features=384, out_features=1536, bias=True)\n          )\n          (output): BertOutput(\n            (dense): Linear(in_features=1536, out_features=384, bias=True)\n            (LayerNorm): LayerNorm((384,), eps=1e-12, elementwise_affine=True)\n            (dropout): Dropout(p=0.1, inplace=False)\n          )\n        )\n        (5): BertLayer(\n          (attention): BertAttention(\n            (self): BertSelfAttention(\n              (query): Linear(in_features=384, out_features=384, bias=True)\n              (key): Linear(in_features=384, out_features=384, bias=True)\n              (value): Linear(in_features=384, out_features=384, bias=True)\n              (dropout): Dropout(p=0.1, inplace=False)\n            )\n            (output): BertSelfOutput(\n              (dense): Linear(in_features=384, out_features=384, bias=True)\n              (LayerNorm): LayerNorm((384,), eps=1e-12, elementwise_affine=True)\n              (dropout): Dropout(p=0.1, inplace=False)\n            )\n          )\n          (intermediate): BertIntermediate(\n            (dense): Linear(in_features=384, out_features=1536, bias=True)\n          )\n          (output): BertOutput(\n            (dense): Linear(in_features=1536, out_features=384, bias=True)\n            (LayerNorm): LayerNorm((384,), eps=1e-12, elementwise_affine=True)\n            (dropout): Dropout(p=0.1, inplace=False)\n          )\n        )\n        (6): BertLayer(\n          (attention): BertAttention(\n            (self): BertSelfAttention(\n              (query): Linear(in_features=384, out_features=384, bias=True)\n              (key): Linear(in_features=384, out_features=384, bias=True)\n              (value): Linear(in_features=384, out_features=384, bias=True)\n              (dropout): Dropout(p=0.1, inplace=False)\n            )\n            (output): BertSelfOutput(\n              (dense): Linear(in_features=384, out_features=384, bias=True)\n              (LayerNorm): LayerNorm((384,), eps=1e-12, elementwise_affine=True)\n              (dropout): Dropout(p=0.1, inplace=False)\n            )\n          )\n          (intermediate): BertIntermediate(\n            (dense): Linear(in_features=384, out_features=1536, bias=True)\n          )\n          (output): BertOutput(\n            (dense): Linear(in_features=1536, out_features=384, bias=True)\n            (LayerNorm): LayerNorm((384,), eps=1e-12, elementwise_affine=True)\n            (dropout): Dropout(p=0.1, inplace=False)\n          )\n        )\n        (7): BertLayer(\n          (attention): BertAttention(\n            (self): BertSelfAttention(\n              (query): Linear(in_features=384, out_features=384, bias=True)\n              (key): Linear(in_features=384, out_features=384, bias=True)\n              (value): Linear(in_features=384, out_features=384, bias=True)\n              (dropout): Dropout(p=0.1, inplace=False)\n            )\n            (output): BertSelfOutput(\n              (dense): Linear(in_features=384, out_features=384, bias=True)\n              (LayerNorm): LayerNorm((384,), eps=1e-12, elementwise_affine=True)\n              (dropout): Dropout(p=0.1, inplace=False)\n            )\n          )\n          (intermediate): BertIntermediate(\n            (dense): Linear(in_features=384, out_features=1536, bias=True)\n          )\n          (output): BertOutput(\n            (dense): Linear(in_features=1536, out_features=384, bias=True)\n            (LayerNorm): LayerNorm((384,), eps=1e-12, elementwise_affine=True)\n            (dropout): Dropout(p=0.1, inplace=False)\n          )\n        )\n        (8): BertLayer(\n          (attention): BertAttention(\n            (self): BertSelfAttention(\n              (query): Linear(in_features=384, out_features=384, bias=True)\n              (key): Linear(in_features=384, out_features=384, bias=True)\n              (value): Linear(in_features=384, out_features=384, bias=True)\n              (dropout): Dropout(p=0.1, inplace=False)\n            )\n            (output): BertSelfOutput(\n              (dense): Linear(in_features=384, out_features=384, bias=True)\n              (LayerNorm): LayerNorm((384,), eps=1e-12, elementwise_affine=True)\n              (dropout): Dropout(p=0.1, inplace=False)\n            )\n          )\n          (intermediate): BertIntermediate(\n            (dense): Linear(in_features=384, out_features=1536, bias=True)\n          )\n          (output): BertOutput(\n            (dense): Linear(in_features=1536, out_features=384, bias=True)\n            (LayerNorm): LayerNorm((384,), eps=1e-12, elementwise_affine=True)\n            (dropout): Dropout(p=0.1, inplace=False)\n          )\n        )\n        (9): BertLayer(\n          (attention): BertAttention(\n            (self): BertSelfAttention(\n              (query): Linear(in_features=384, out_features=384, bias=True)\n              (key): Linear(in_features=384, out_features=384, bias=True)\n              (value): Linear(in_features=384, out_features=384, bias=True)\n              (dropout): Dropout(p=0.1, inplace=False)\n            )\n            (output): BertSelfOutput(\n              (dense): Linear(in_features=384, out_features=384, bias=True)\n              (LayerNorm): LayerNorm((384,), eps=1e-12, elementwise_affine=True)\n              (dropout): Dropout(p=0.1, inplace=False)\n            )\n          )\n          (intermediate): BertIntermediate(\n            (dense): Linear(in_features=384, out_features=1536, bias=True)\n          )\n          (output): BertOutput(\n            (dense): Linear(in_features=1536, out_features=384, bias=True)\n            (LayerNorm): LayerNorm((384,), eps=1e-12, elementwise_affine=True)\n            (dropout): Dropout(p=0.1, inplace=False)\n          )\n        )\n        (10): BertLayer(\n          (attention): BertAttention(\n            (self): BertSelfAttention(\n              (query): Linear(in_features=384, out_features=384, bias=True)\n              (key): Linear(in_features=384, out_features=384, bias=True)\n              (value): Linear(in_features=384, out_features=384, bias=True)\n              (dropout): Dropout(p=0.1, inplace=False)\n            )\n            (output): BertSelfOutput(\n              (dense): Linear(in_features=384, out_features=384, bias=True)\n              (LayerNorm): LayerNorm((384,), eps=1e-12, elementwise_affine=True)\n              (dropout): Dropout(p=0.1, inplace=False)\n            )\n          )\n          (intermediate): BertIntermediate(\n            (dense): Linear(in_features=384, out_features=1536, bias=True)\n          )\n          (output): BertOutput(\n            (dense): Linear(in_features=1536, out_features=384, bias=True)\n            (LayerNorm): LayerNorm((384,), eps=1e-12, elementwise_affine=True)\n            (dropout): Dropout(p=0.1, inplace=False)\n          )\n        )\n        (11): BertLayer(\n          (attention): BertAttention(\n            (self): BertSelfAttention(\n              (query): Linear(in_features=384, out_features=384, bias=True)\n              (key): Linear(in_features=384, out_features=384, bias=True)\n              (value): Linear(in_features=384, out_features=384, bias=True)\n              (dropout): Dropout(p=0.1, inplace=False)\n            )\n            (output): BertSelfOutput(\n              (dense): Linear(in_features=384, out_features=384, bias=True)\n              (LayerNorm): LayerNorm((384,), eps=1e-12, elementwise_affine=True)\n              (dropout): Dropout(p=0.1, inplace=False)\n            )\n          )\n          (intermediate): BertIntermediate(\n            (dense): Linear(in_features=384, out_features=1536, bias=True)\n          )\n          (output): BertOutput(\n            (dense): Linear(in_features=1536, out_features=384, bias=True)\n            (LayerNorm): LayerNorm((384,), eps=1e-12, elementwise_affine=True)\n            (dropout): Dropout(p=0.1, inplace=False)\n          )\n        )\n      )\n    )\n    (pooler): BertPooler(\n      (dense): Linear(in_features=384, out_features=384, bias=True)\n      (activation): Tanh()\n    )\n  )\n  (dropout): Dropout(p=0.1, inplace=False)\n  (classifier): Linear(in_features=384, out_features=2, bias=True)\n)\u001b[0m\u001b[0;34m\n        \u001b[0mname \u001b[0;34m= 'params'\u001b[0m\u001b[0;34m\n        \u001b[0mtype(self) \u001b[0;34m= <class 'transformers.models.bert.modeling_bert.BertForSequenceClassification'>\u001b[0m\n\u001b[1;32m   1270\u001b[0m     \u001b[38;5;28mtype\u001b[39m(\u001b[38;5;28mself\u001b[39m)\u001b[38;5;241m.\u001b[39m\u001b[38;5;18m__name__\u001b[39m, name))\n",
            "\u001b[0;31mAttributeError\u001b[0m: 'BertForSequenceClassification' object has no attribute 'params'"
          ]
        }
      ]
    },
    {
      "cell_type": "code",
      "source": [
        "hparam['scheduler'] = get_linear_schedule_with_warmup(hparam['optimizer'], num_warmup_steps, hparam['num_training_steps'])\n",
        "\n"
      ],
      "metadata": {
        "id": "6IiX_lnmrTJC"
      },
      "execution_count": null,
      "outputs": []
    },
    {
      "cell_type": "markdown",
      "source": [
        "## Evaluating on the test set"
      ],
      "metadata": {
        "id": "SBFVkGXG6Pbp"
      }
    },
    {
      "cell_type": "code",
      "source": [
        "evaluate(model=model, dataloader=dataloader_test, set_name='Test')"
      ],
      "metadata": {
        "colab": {
          "base_uri": "https://localhost:8080/",
          "height": 66,
          "referenced_widgets": [
            "5df526cb2bdf481480806fad6348b27f",
            "8064c16540404293b3e4968fd0229144",
            "c784dea266464d228470c8f146e682bb",
            "8bb8f80668da4e708d04fe9ef7a6b183",
            "de1be7b088d84f879d48678f142aadb6",
            "2550930351954fdb817bcc04796bd47d",
            "2aeae0a72a0f4b6f9aa625691f9f2728",
            "20361f3bf1f24cba9bacb573433ae203",
            "6e268abe9b4d42cfae158a0debe4746f",
            "4ff9ad6df59c4f0dbf923324dd0e37ce",
            "ae61115e87fc4dd786a4b713d1824a3c"
          ]
        },
        "id": "Sd3VKiG0tkzC",
        "outputId": "2e1f2555-4db2-414c-c496-cd1995f65ff9"
      },
      "execution_count": null,
      "outputs": [
        {
          "output_type": "display_data",
          "data": {
            "text/plain": [
              "Test:   0%|          | 0/32 [00:00<?, ?it/s]"
            ],
            "application/vnd.jupyter.widget-view+json": {
              "version_major": 2,
              "version_minor": 0,
              "model_id": "5df526cb2bdf481480806fad6348b27f"
            }
          },
          "metadata": {}
        },
        {
          "output_type": "stream",
          "name": "stdout",
          "text": [
            "Test loss: 0.331; Test accuracy: 0.872\n"
          ]
        }
      ]
    },
    {
      "cell_type": "markdown",
      "source": [
        "# Reranking a partir da saída do BM25"
      ],
      "metadata": {
        "id": "5JKNuPSsn2xO"
      }
    },
    {
      "cell_type": "code",
      "source": [],
      "metadata": {
        "id": "zV7oabDnn6UP"
      },
      "execution_count": null,
      "outputs": []
    }
  ]
}