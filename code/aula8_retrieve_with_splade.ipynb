{
 "cells": [
  {
   "attachments": {},
   "cell_type": "markdown",
   "metadata": {},
   "source": [
    "# Aula 8 - SPLADE\n",
    "\n",
    "[Unicamp - IA368DD: Deep Learning aplicado a sistemas de busca.](https://www.cpg.feec.unicamp.br/cpg/lista/caderno_horario_show.php?id=1779)\n",
    "\n",
    "Autor: Marcus Vinícius Borela de Castro\n",
    "\n",
    "[Repositório no github](https://github.com/marcusborela/deep_learning_em_buscas_unicamp)\n"
   ]
  },
  {
   "cell_type": "markdown",
   "metadata": {},
   "source": [
    "## Enunciado do Exercício"
   ]
  },
  {
   "attachments": {},
   "cell_type": "markdown",
   "metadata": {},
   "source": [
    "Implementar a fase de indexação e buscas de um modelo sparso\n",
    "\n",
    "Usar este modelo SPLADE já treinado naver/splade_v2_distil (do distilbert) ou splade-cocondenser-selfdistil (do BERT-base 110M params). Mais informações sobre os modelos estão neste artigo: https://arxiv.org/pdf/2205.04733.pdf\n",
    "Não é necessário treinar o modelo\n",
    "Avaliar nDCG@10 no TREC-COVID e comparar resultados com o BM25 e buscador denso da semana passada\n",
    "\n",
    "A dificuldade do exercício está em implementar a função de busca e ranqueamento usada pelo SPLADE. A implementação deve ser codificada e usar implementação do SPLADE apenas para comparação. A implementação do índice invertido é apenas um \"dicionário python\".\n",
    "\n",
    "Fazer a comparação dos seus resultados com a busca \"original\" do SPLADE.\n",
    "Medir latência (s/query)\n",
    "\n"
   ]
  },
  {
   "attachments": {},
   "cell_type": "markdown",
   "metadata": {},
   "source": [
    "# Organizando o ambiente"
   ]
  },
  {
   "cell_type": "code",
   "execution_count": 1,
   "metadata": {},
   "outputs": [],
   "source": [
    "import pickle"
   ]
  },
  {
   "cell_type": "code",
   "execution_count": 2,
   "metadata": {},
   "outputs": [],
   "source": [
    "import math"
   ]
  },
  {
   "cell_type": "code",
   "execution_count": 3,
   "metadata": {},
   "outputs": [],
   "source": [
    "import os"
   ]
  },
  {
   "cell_type": "code",
   "execution_count": 4,
   "metadata": {},
   "outputs": [],
   "source": [
    "import matplotlib.pyplot as plt"
   ]
  },
  {
   "cell_type": "code",
   "execution_count": 5,
   "metadata": {},
   "outputs": [],
   "source": [
    "import gzip"
   ]
  },
  {
   "cell_type": "code",
   "execution_count": 6,
   "metadata": {},
   "outputs": [],
   "source": [
    "import statistics\n"
   ]
  },
  {
   "cell_type": "code",
   "execution_count": 7,
   "metadata": {},
   "outputs": [],
   "source": [
    "import time"
   ]
  },
  {
   "cell_type": "code",
   "execution_count": 8,
   "metadata": {},
   "outputs": [],
   "source": [
    "import json"
   ]
  },
  {
   "cell_type": "code",
   "execution_count": 9,
   "metadata": {},
   "outputs": [],
   "source": [
    "import pandas as pd"
   ]
  },
  {
   "cell_type": "code",
   "execution_count": 10,
   "metadata": {
    "id": "4AJiH6lQQHc5"
   },
   "outputs": [],
   "source": [
    "from tqdm import tqdm"
   ]
  },
  {
   "cell_type": "code",
   "execution_count": 11,
   "metadata": {},
   "outputs": [
    {
     "name": "stderr",
     "output_type": "stream",
     "text": [
      "/home/borela/miniconda3/envs/treinapython39/lib/python3.9/site-packages/tqdm/auto.py:21: TqdmWarning: IProgress not found. Please update jupyter and ipywidgets. See https://ipywidgets.readthedocs.io/en/stable/user_install.html\n",
      "  from .autonotebook import tqdm as notebook_tqdm\n"
     ]
    }
   ],
   "source": [
    "from transformers import  BatchEncoding"
   ]
  },
  {
   "cell_type": "code",
   "execution_count": 12,
   "metadata": {},
   "outputs": [],
   "source": [
    "from torch.nn.functional import relu"
   ]
  },
  {
   "cell_type": "code",
   "execution_count": 13,
   "metadata": {},
   "outputs": [],
   "source": [
    "from transformers import BertTokenizer, BertForMaskedLM\n",
    "import torch"
   ]
  },
  {
   "cell_type": "code",
   "execution_count": 14,
   "metadata": {},
   "outputs": [],
   "source": [
    "from evaluate import load"
   ]
  },
  {
   "cell_type": "code",
   "execution_count": 15,
   "metadata": {},
   "outputs": [],
   "source": [
    "DIRETORIO_LOCAL = '/home/borela/fontes/deep_learning_em_buscas_unicamp/local'\n",
    "DIRETORIO_TRABALHO = F'{DIRETORIO_LOCAL}/splade'\n",
    "DIRETORIO_TREC_COVID = F'{DIRETORIO_LOCAL}/trec_covid'"
   ]
  },
  {
   "cell_type": "code",
   "execution_count": 141,
   "metadata": {},
   "outputs": [],
   "source": [
    "CAMINHO_ARQUIVO_EXPANSAO_MAX = f\"{DIRETORIO_TRABALHO}/expansao_corpus_max.pickle\"\n",
    "CAMINHO_ARQUIVO_EXPANSAO_SUM = f\"{DIRETORIO_TRABALHO}/expansao_corpus_sum.pickle\""
   ]
  },
  {
   "cell_type": "code",
   "execution_count": 16,
   "metadata": {},
   "outputs": [
    {
     "name": "stdout",
     "output_type": "stream",
     "text": [
      "pasta já existia!\n"
     ]
    }
   ],
   "source": [
    "if os.path.exists(DIRETORIO_LOCAL):\n",
    "    print('pasta já existia!')\n",
    "else:\n",
    "    os.makedirs(DIRETORIO_LOCAL)\n",
    "    print('pasta criada!')\n"
   ]
  },
  {
   "cell_type": "code",
   "execution_count": 17,
   "metadata": {},
   "outputs": [
    {
     "name": "stdout",
     "output_type": "stream",
     "text": [
      "pasta já existia!\n"
     ]
    }
   ],
   "source": [
    "if os.path.exists(DIRETORIO_TRABALHO):\n",
    "    print('pasta já existia!')\n",
    "else:\n",
    "    os.makedirs(DIRETORIO_TRABALHO)\n",
    "    print('pasta criada!')\n"
   ]
  },
  {
   "cell_type": "code",
   "execution_count": 18,
   "metadata": {},
   "outputs": [
    {
     "name": "stdout",
     "output_type": "stream",
     "text": [
      "pasta já existia!\n"
     ]
    }
   ],
   "source": [
    "if os.path.exists(DIRETORIO_TREC_COVID):\n",
    "    print('pasta já existia!')\n",
    "else:\n",
    "    os.makedirs(DIRETORIO_TREC_COVID)\n",
    "    print('pasta criada!')\n"
   ]
  },
  {
   "cell_type": "code",
   "execution_count": 19,
   "metadata": {
    "id": "zwyzd_W8gOAL"
   },
   "outputs": [],
   "source": [
    "DIRETORIO_RUN = f\"{DIRETORIO_TRABALHO}/runs\"\n",
    "CAMINHO_RUN = f\"{DIRETORIO_RUN}/run-trec-covid-bm25.txt\""
   ]
  },
  {
   "cell_type": "code",
   "execution_count": 20,
   "metadata": {},
   "outputs": [
    {
     "name": "stdout",
     "output_type": "stream",
     "text": [
      "pasta já existia!\n"
     ]
    }
   ],
   "source": [
    "if os.path.exists(DIRETORIO_RUN):\n",
    "    print('pasta já existia!')\n",
    "else:\n",
    "    os.makedirs(DIRETORIO_RUN)\n",
    "    print('pasta criada!')\n"
   ]
  },
  {
   "cell_type": "code",
   "execution_count": 21,
   "metadata": {},
   "outputs": [],
   "source": [
    "device = torch.device('cuda:0' if torch.cuda.is_available() else 'cpu')\n",
    "  "
   ]
  },
  {
   "cell_type": "code",
   "execution_count": 22,
   "metadata": {
    "id": "DKAZ8CWCAM3-"
   },
   "outputs": [],
   "source": [
    "from psutil import virtual_memory"
   ]
  },
  {
   "cell_type": "code",
   "execution_count": 23,
   "metadata": {
    "id": "9XgIWvkkH-kn"
   },
   "outputs": [],
   "source": [
    "def mostra_memoria(lista_mem=['cpu']):\n",
    "  \"\"\"\n",
    "  Esta função exibe informações de memória da CPU e/ou GPU, conforme parâmetros fornecidos.\n",
    "\n",
    "  Parâmetros:\n",
    "  -----------\n",
    "  lista_mem : list, opcional\n",
    "      Lista com strings 'cpu' e/ou 'gpu'. \n",
    "      'cpu' - exibe informações de memória da CPU.\n",
    "      'gpu' - exibe informações de memória da GPU (se disponível).\n",
    "      O valor padrão é ['cpu'].\n",
    "\n",
    "  Saída:\n",
    "  -------\n",
    "  A função não retorna nada, apenas exibe as informações na tela.\n",
    "\n",
    "  Exemplo de uso:\n",
    "  ---------------\n",
    "  Para exibir informações de memória da CPU:\n",
    "      mostra_memoria(['cpu'])\n",
    "\n",
    "  Para exibir informações de memória da CPU e GPU:\n",
    "      mostra_memoria(['cpu', 'gpu'])\n",
    "  \n",
    "  Autor: Marcus Vinícius Borela de Castro\n",
    "\n",
    "  \"\"\"  \n",
    "  if 'cpu' in lista_mem:\n",
    "    vm = virtual_memory()\n",
    "    ram={}\n",
    "    ram['total']=round(vm.total / 1e9,2)\n",
    "    ram['available']=round(virtual_memory().available / 1e9,2)\n",
    "    # ram['percent']=round(virtual_memory().percent / 1e9,2)\n",
    "    ram['used']=round(virtual_memory().used / 1e9,2)\n",
    "    ram['free']=round(virtual_memory().free / 1e9,2)\n",
    "    ram['active']=round(virtual_memory().active / 1e9,2)\n",
    "    ram['inactive']=round(virtual_memory().inactive / 1e9,2)\n",
    "    ram['buffers']=round(virtual_memory().buffers / 1e9,2)\n",
    "    ram['cached']=round(virtual_memory().cached/1e9 ,2)\n",
    "    print(f\"Your runtime RAM in gb: \\n total {ram['total']}\\n available {ram['available']}\\n used {ram['used']}\\n free {ram['free']}\\n cached {ram['cached']}\\n buffers {ram['buffers']}\")\n",
    "    print('/nGPU')\n",
    "    gpu_info = !nvidia-smi\n",
    "  if 'gpu' in lista_mem:\n",
    "    gpu_info = '\\n'.join(gpu_info)\n",
    "    if gpu_info.find('failed') >= 0:\n",
    "      print('Not connected to a GPU')\n",
    "    else:\n",
    "      print(gpu_info)\n"
   ]
  },
  {
   "cell_type": "code",
   "execution_count": 24,
   "metadata": {
    "colab": {
     "base_uri": "https://localhost:8080/"
    },
    "id": "3dri9iiMAvCT",
    "outputId": "53aebd5a-e29f-4c8e-d233-5221aae9f9b0"
   },
   "outputs": [
    {
     "name": "stdout",
     "output_type": "stream",
     "text": [
      "Your runtime RAM in gb: \n",
      " total 67.35\n",
      " available 54.78\n",
      " used 11.33\n",
      " free 43.65\n",
      " cached 10.78\n",
      " buffers 1.59\n",
      "/nGPU\n",
      "Tue Apr 25 16:18:57 2023       \n",
      "+-----------------------------------------------------------------------------+\n",
      "| NVIDIA-SMI 510.39.01    Driver Version: 510.39.01    CUDA Version: 11.6     |\n",
      "|-------------------------------+----------------------+----------------------+\n",
      "| GPU  Name        Persistence-M| Bus-Id        Disp.A | Volatile Uncorr. ECC |\n",
      "| Fan  Temp  Perf  Pwr:Usage/Cap|         Memory-Usage | GPU-Util  Compute M. |\n",
      "|                               |                      |               MIG M. |\n",
      "|===============================+======================+======================|\n",
      "|   0  NVIDIA GeForce ...  On   | 00000000:02:00.0 Off |                  N/A |\n",
      "| 55%   49C    P8    29W / 370W |     60MiB / 24576MiB |      0%      Default |\n",
      "|                               |                      |                  N/A |\n",
      "+-------------------------------+----------------------+----------------------+\n",
      "                                                                               \n",
      "+-----------------------------------------------------------------------------+\n",
      "| Processes:                                                                  |\n",
      "|  GPU   GI   CI        PID   Type   Process name                  GPU Memory |\n",
      "|        ID   ID                                                   Usage      |\n",
      "|=============================================================================|\n",
      "|    0   N/A  N/A      1245      G   /usr/lib/xorg/Xorg                 46MiB |\n",
      "|    0   N/A  N/A      1384      G   /usr/bin/gnome-shell                9MiB |\n",
      "+-----------------------------------------------------------------------------+\n"
     ]
    }
   ],
   "source": [
    "mostra_memoria(['cpu','gpu'])"
   ]
  },
  {
   "cell_type": "markdown",
   "metadata": {
    "id": "achvQ78sa3p3"
   },
   "source": [
    "## Fixando as seeds"
   ]
  },
  {
   "cell_type": "code",
   "execution_count": 25,
   "metadata": {
    "id": "AG9RjMb8Qlot"
   },
   "outputs": [],
   "source": [
    "import random\n",
    "import torch\n",
    "import numpy as np"
   ]
  },
  {
   "cell_type": "code",
   "execution_count": 26,
   "metadata": {
    "id": "bkETIyWGkbOf"
   },
   "outputs": [],
   "source": [
    "def inicializa_seed(num_semente:int=123):\n",
    "  \"\"\"\n",
    "  Inicializa as sementes para garantir a reprodutibilidade dos resultados do modelo.\n",
    "  Essa é uma prática recomendada, já que a geração de números aleatórios pode influenciar os resultados do modelo.\n",
    "  Além disso, a função também configura as sementes da GPU para garantir a reprodutibilidade quando se utiliza aceleração por GPU. \n",
    "  \n",
    "  Args:\n",
    "      num_semente (int): número da semente a ser utilizada para inicializar as sementes das bibliotecas.\n",
    "  \n",
    "  References:\n",
    "      http://nlp.seas.harvard.edu/2018/04/03/attention.html\n",
    "      https://github.com/CyberZHG/torch-multi-head-attention/blob/master/torch_multi_head_attention/multi_head_attention.py#L15\n",
    "  \"\"\"\n",
    "  # Define as sementes das bibliotecas random, numpy e pytorch\n",
    "  random.seed(num_semente)\n",
    "  np.random.seed(num_semente)\n",
    "  torch.manual_seed(num_semente)\n",
    "  \n",
    "  # Define as sementes da GPU\n",
    "  torch.backends.cudnn.deterministic = True\n",
    "  torch.backends.cudnn.benchmark = False\n",
    "\n",
    "  #torch.cuda.manual_seed(num_semente)\n",
    "  #Cuda algorithms\n",
    "  #torch.backends.cudnn.deterministic = True\n"
   ]
  },
  {
   "cell_type": "code",
   "execution_count": 27,
   "metadata": {
    "id": "ViMcw_kVkbOf"
   },
   "outputs": [],
   "source": [
    "num_semente=123\n",
    "inicializa_seed(num_semente)"
   ]
  },
  {
   "cell_type": "markdown",
   "metadata": {
    "id": "8v2gtkEPhA0t"
   },
   "source": [
    "## Preparando para debug e display"
   ]
  },
  {
   "cell_type": "code",
   "execution_count": 28,
   "metadata": {
    "id": "BJ6S4P5Hw4iG"
   },
   "outputs": [],
   "source": [
    "import pandas as pd"
   ]
  },
  {
   "cell_type": "code",
   "execution_count": 29,
   "metadata": {
    "id": "rnR2kDS_2FgZ"
   },
   "outputs": [],
   "source": [
    "import transformers"
   ]
  },
  {
   "cell_type": "code",
   "execution_count": 30,
   "metadata": {
    "colab": {
     "base_uri": "https://localhost:8080/"
    },
    "id": "LjrlXHq1hC8n",
    "outputId": "18d94254-4bf8-4632-ef84-012727944746"
   },
   "outputs": [],
   "source": [
    "# https://zohaib.me/debugging-in-google-collab-notebook/\n",
    "# !pip install -Uqq ipdb\n",
    "import ipdb\n",
    "# %pdb off # desativa debug em exceção\n",
    "# %pdb on  # ativa debug em exceção\n",
    "# ipdb.set_trace(context=8)  para execução nesse ponto"
   ]
  },
  {
   "cell_type": "code",
   "execution_count": 31,
   "metadata": {
    "id": "wQ5pmlOHxHhk"
   },
   "outputs": [],
   "source": [
    "def config_display():\n",
    "  \"\"\"\n",
    "  Esta função configura as opções de display do Pandas.\n",
    "  \"\"\"\n",
    "\n",
    "  # Configurando formato saída Pandas\n",
    "  # define o número máximo de colunas que serão exibidas\n",
    "  pd.options.display.max_columns = None\n",
    "\n",
    "  # define a largura máxima de uma linha\n",
    "  pd.options.display.width = 1000\n",
    "\n",
    "  # define o número máximo de linhas que serão exibidas\n",
    "  pd.options.display.max_rows = 100\n",
    "\n",
    "  # define o número máximo de caracteres por coluna\n",
    "  pd.options.display.max_colwidth = 50\n",
    "\n",
    "  # se deve exibir o número de linhas e colunas de um DataFrame.\n",
    "  pd.options.display.show_dimensions = True\n",
    "\n",
    "  # número de dígitos após a vírgula decimal a serem exibidos para floats.\n",
    "  pd.options.display.precision = 7\n"
   ]
  },
  {
   "cell_type": "code",
   "execution_count": 32,
   "metadata": {
    "id": "b2tDy72ATNHs"
   },
   "outputs": [],
   "source": [
    "def config_debug():\n",
    "  \"\"\"\n",
    "  Esta função configura as opções de debug do PyTorch e dos pacotes\n",
    "  transformers e datasets.\n",
    "  \"\"\"\n",
    "\n",
    "  # Define opções de impressão de tensores para o modo científico\n",
    "  torch.set_printoptions(sci_mode=True) \n",
    "  \"\"\"\n",
    "    Significa que valores muito grandes ou muito pequenos são mostrados em notação científica.\n",
    "    Por exemplo, em vez de imprimir o número 0.0000012345 como 0.0000012345, \n",
    "    ele seria impresso como 1.2345e-06. Isso é útil em situações em que os valores dos tensores \n",
    "    envolvidos nas operações são muito grandes ou pequenos, e a notação científica permite \n",
    "    uma melhor compreensão dos números envolvidos.  \n",
    "  \"\"\"\n",
    "\n",
    "  # Habilita detecção de anomalias no autograd do PyTorch\n",
    "  torch.autograd.set_detect_anomaly(True)\n",
    "  \"\"\"\n",
    "    Permite identificar operações que podem causar problemas de estabilidade numérica, \n",
    "    como gradientes explodindo ou desaparecendo. Quando essa opção é ativada, \n",
    "    o PyTorch verifica se há operações que geram valores NaN ou infinitos nos tensores \n",
    "    envolvidos no cálculo do gradiente. Se for detectado um valor anômalo, o PyTorch \n",
    "    interrompe a execução e gera uma exceção, permitindo que o erro seja corrigido \n",
    "    antes que se torne um problema maior.\n",
    "\n",
    "    É importante notar que a detecção de anomalias pode ter um impacto significativo \n",
    "    no desempenho, especialmente em modelos grandes e complexos. Por esse motivo,\n",
    "    ela deve ser usada com cautela e apenas para depuração.\n",
    "  \"\"\"\n",
    "\n",
    "  # Configura variável de ambiente para habilitar a execução síncrona (bloqueante) das chamadas da API do CUDA.\n",
    "  os.environ['CUDA_LAUNCH_BLOCKING'] = '1'\n",
    "  \"\"\"\n",
    "    o Python aguarda o término da execução de uma chamada da API do CUDA antes de executar a próxima chamada. \n",
    "    Isso é útil para depurar erros no código que envolve operações na GPU, pois permite que o erro seja capturado \n",
    "    no momento em que ocorre, e não depois de uma sequência de operações que pode tornar a origem do erro mais difícil de determinar.\n",
    "    No entanto, é importante lembrar que esse modo de execução é significativamente mais lento do que a execução assíncrona, \n",
    "    que é o comportamento padrão do CUDA. Por isso, é recomendado utilizar esse comando apenas em situações de depuração \n",
    "    e removê-lo após a solução do problema.\n",
    "  \"\"\"\n",
    "\n",
    "  # Define o nível de verbosity do pacote transformers para info\n",
    "  # transformers.utils.logging.set_verbosity_info() \n",
    "  \n",
    "  \n",
    "  \"\"\"\n",
    "    Define o nível de detalhamento das mensagens de log geradas pela biblioteca Hugging Face Transformers \n",
    "    para o nível info. Isso significa que a biblioteca irá imprimir mensagens de log informativas sobre\n",
    "    o andamento da execução, tais como tempo de execução, tamanho de batches, etc.\n",
    "\n",
    "    Essas informações podem ser úteis para entender o que está acontecendo durante a execução da tarefa \n",
    "    e auxiliar no processo de debug. É importante notar que, em alguns casos, a quantidade de informações\n",
    "    geradas pode ser muito grande, o que pode afetar o desempenho do sistema e dificultar a visualização\n",
    "    das informações relevantes. Por isso, é importante ajustar o nível de detalhamento de acordo com a \n",
    "    necessidade de cada tarefa.\n",
    "  \n",
    "    Caso queira reduzir a quantidade de mensagens, comentar a linha acima e \n",
    "      descomentar as duas linhas abaixo, para definir o nível de verbosity como error ou warning\n",
    "  \n",
    "    transformers.utils.logging.set_verbosity_error()\n",
    "    transformers.utils.logging.set_verbosity_warning()\n",
    "  \"\"\"\n",
    "\n",
    "\n",
    "  # Define o modo verbose do xmode, que é utilizado no debug\n",
    "  # %xmode Verbose \n",
    "\n",
    "  \"\"\"\n",
    "    Comando usado no Jupyter Notebook para controlar o modo de exibição das informações de exceções.\n",
    "    O modo verbose é um modo detalhado que exibe informações adicionais ao imprimir as exceções.\n",
    "    Ele inclui as informações de pilha de chamadas completa e valores de variáveis locais e globais \n",
    "    no momento da exceção. Isso pode ser útil para depurar e encontrar a causa de exceções em seu código.\n",
    "    Ao usar %xmode Verbose, as informações de exceção serão impressas com mais detalhes e informações adicionais serão incluídas.\n",
    "\n",
    "    Caso queira desabilitar o modo verbose e utilizar o modo plain, \n",
    "    comentar a linha acima e descomentar a linha abaixo:\n",
    "    %xmode Plain\n",
    "  \"\"\"\n",
    "\n",
    "  \"\"\"\n",
    "    Dica:\n",
    "    1.  pdb (Python Debugger)\n",
    "      Quando ocorre uma exceção em uma parte do código, o programa para a execução e exibe uma mensagem de erro \n",
    "      com informações sobre a exceção, como a linha do código em que ocorreu o erro e o tipo da exceção.\n",
    "\n",
    "      Se você estiver depurando o código e quiser examinar o estado das variáveis ​​e executar outras operações \n",
    "      no momento em que a exceção ocorreu, pode usar o pdb (Python Debugger). Para isso, é preciso colocar o comando %debug \n",
    "      logo após ocorrer a exceção. Isso fará com que o programa pare na linha em que ocorreu a exceção e abra o pdb,\n",
    "      permitindo que você explore o estado das variáveis, examine a pilha de chamadas e execute outras operações para depurar o código.\n",
    "\n",
    "\n",
    "    2. ipdb\n",
    "      O ipdb é um depurador interativo para o Python que oferece recursos mais avançados do que o pdb,\n",
    "      incluindo a capacidade de navegar pelo código fonte enquanto depura.\n",
    "      \n",
    "      Você pode começar a depurar seu código inserindo o comando ipdb.set_trace() em qualquer lugar do \n",
    "      seu código onde deseja pausar a execução e começar a depurar. Quando a execução chegar nessa linha, \n",
    "      o depurador entrará em ação, permitindo que você examine o estado atual do seu programa e execute \n",
    "      comandos para investigar o comportamento.\n",
    "\n",
    "      Durante a depuração, você pode usar comandos:\n",
    "        next (para executar a próxima linha de código), \n",
    "        step (para entrar em uma função chamada na próxima linha de código) \n",
    "        continue (para continuar a execução normalmente até o próximo ponto de interrupção).\n",
    "\n",
    "      Ao contrário do pdb, o ipdb é um depurador interativo que permite navegar pelo código fonte em que\n",
    "      está trabalhando enquanto depura, permitindo que você inspecione variáveis, defina pontos de interrupção\n",
    "      adicionais e até mesmo execute expressões Python no contexto do seu programa.\n",
    "  \"\"\"\n"
   ]
  },
  {
   "cell_type": "code",
   "execution_count": 33,
   "metadata": {
    "id": "Tb4aqtcExR84"
   },
   "outputs": [],
   "source": [
    "config_display()"
   ]
  },
  {
   "cell_type": "code",
   "execution_count": 34,
   "metadata": {
    "colab": {
     "base_uri": "https://localhost:8080/"
    },
    "id": "-5Bq4043fkfh",
    "outputId": "fa8e5db1-1feb-4393-fb66-d394d1ad693c"
   },
   "outputs": [],
   "source": [
    "config_debug()"
   ]
  },
  {
   "attachments": {},
   "cell_type": "markdown",
   "metadata": {},
   "source": [
    "# Baixando o dataset para avaliação (trec-covid)"
   ]
  },
  {
   "attachments": {},
   "cell_type": "markdown",
   "metadata": {},
   "source": [
    "## Queries"
   ]
  },
  {
   "cell_type": "code",
   "execution_count": 35,
   "metadata": {},
   "outputs": [],
   "source": [
    "os.environ['JVM_PATH'] = '/usr/lib/jvm/java-11-openjdk-amd64/lib/server/libjvm.so'\n",
    "os.environ['JAVA_HOME'] = '/usr/lib/jvm/java-11-openjdk-amd64'"
   ]
  },
  {
   "cell_type": "code",
   "execution_count": 36,
   "metadata": {},
   "outputs": [],
   "source": [
    "from pyserini.search import get_topics"
   ]
  },
  {
   "cell_type": "code",
   "execution_count": 37,
   "metadata": {},
   "outputs": [
    {
     "name": "stdout",
     "output_type": "stream",
     "text": [
      "50 queries total\n"
     ]
    }
   ],
   "source": [
    "topics = get_topics('covid-round5')\n",
    "print(f'{len(topics)} queries total')"
   ]
  },
  {
   "cell_type": "code",
   "execution_count": 38,
   "metadata": {},
   "outputs": [
    {
     "data": {
      "text/plain": [
       "{'question': 'what is known about an mRNA vaccine for the SARS-CoV-2 virus?',\n",
       " 'query': 'mRNA vaccine coronavirus',\n",
       " 'narrative': 'Looking for studies specifically focusing on mRNA vaccines for COVID-19, including how mRNA vaccines work, why they are promising, and any results from actual clinical studies.'}"
      ]
     },
     "execution_count": 38,
     "metadata": {},
     "output_type": "execute_result"
    }
   ],
   "source": [
    "topics[50]"
   ]
  },
  {
   "attachments": {},
   "cell_type": "markdown",
   "metadata": {},
   "source": [
    "## Relevância (qrel) de teste"
   ]
  },
  {
   "cell_type": "code",
   "execution_count": 39,
   "metadata": {},
   "outputs": [
    {
     "name": "stdout",
     "output_type": "stream",
     "text": [
      "Arquivo já existia\n"
     ]
    }
   ],
   "source": [
    "if not os.path.exists(f'{DIRETORIO_TREC_COVID}/test.tsv'):\n",
    "    !wget https://huggingface.co/datasets/BeIR/trec-covid-qrels/raw/main/test.tsv\n",
    "    !mv test.tsv {DIRETORIO_LOCAL}/\n",
    "else:\n",
    "    print('Arquivo já existia')"
   ]
  },
  {
   "cell_type": "code",
   "execution_count": 40,
   "metadata": {},
   "outputs": [],
   "source": [
    "qrel = pd.read_csv(f\"{DIRETORIO_TREC_COVID}/test.tsv\", sep=\"\\t\", header=None, \n",
    "                   skiprows=1, names=[\"query\", \"docid\", \"rel\"])"
   ]
  },
  {
   "cell_type": "code",
   "execution_count": 41,
   "metadata": {},
   "outputs": [
    {
     "data": {
      "text/html": [
       "<div>\n",
       "<style scoped>\n",
       "    .dataframe tbody tr th:only-of-type {\n",
       "        vertical-align: middle;\n",
       "    }\n",
       "\n",
       "    .dataframe tbody tr th {\n",
       "        vertical-align: top;\n",
       "    }\n",
       "\n",
       "    .dataframe thead th {\n",
       "        text-align: right;\n",
       "    }\n",
       "</style>\n",
       "<table border=\"1\" class=\"dataframe\">\n",
       "  <thead>\n",
       "    <tr style=\"text-align: right;\">\n",
       "      <th></th>\n",
       "      <th>query</th>\n",
       "      <th>docid</th>\n",
       "      <th>rel</th>\n",
       "    </tr>\n",
       "  </thead>\n",
       "  <tbody>\n",
       "    <tr>\n",
       "      <th>0</th>\n",
       "      <td>1</td>\n",
       "      <td>005b2j4b</td>\n",
       "      <td>2</td>\n",
       "    </tr>\n",
       "    <tr>\n",
       "      <th>1</th>\n",
       "      <td>1</td>\n",
       "      <td>00fmeepz</td>\n",
       "      <td>1</td>\n",
       "    </tr>\n",
       "    <tr>\n",
       "      <th>2</th>\n",
       "      <td>1</td>\n",
       "      <td>g7dhmyyo</td>\n",
       "      <td>2</td>\n",
       "    </tr>\n",
       "    <tr>\n",
       "      <th>3</th>\n",
       "      <td>1</td>\n",
       "      <td>0194oljo</td>\n",
       "      <td>1</td>\n",
       "    </tr>\n",
       "    <tr>\n",
       "      <th>4</th>\n",
       "      <td>1</td>\n",
       "      <td>021q9884</td>\n",
       "      <td>1</td>\n",
       "    </tr>\n",
       "  </tbody>\n",
       "</table>\n",
       "<p>5 rows × 3 columns</p>\n",
       "</div>"
      ],
      "text/plain": [
       "   query     docid  rel\n",
       "0      1  005b2j4b    2\n",
       "1      1  00fmeepz    1\n",
       "2      1  g7dhmyyo    2\n",
       "3      1  0194oljo    1\n",
       "4      1  021q9884    1\n",
       "\n",
       "[5 rows x 3 columns]"
      ]
     },
     "execution_count": 41,
     "metadata": {},
     "output_type": "execute_result"
    }
   ],
   "source": [
    "qrel.head()"
   ]
  },
  {
   "cell_type": "code",
   "execution_count": 42,
   "metadata": {},
   "outputs": [
    {
     "data": {
      "text/html": [
       "<div>\n",
       "<style scoped>\n",
       "    .dataframe tbody tr th:only-of-type {\n",
       "        vertical-align: middle;\n",
       "    }\n",
       "\n",
       "    .dataframe tbody tr th {\n",
       "        vertical-align: top;\n",
       "    }\n",
       "\n",
       "    .dataframe thead th {\n",
       "        text-align: right;\n",
       "    }\n",
       "</style>\n",
       "<table border=\"1\" class=\"dataframe\">\n",
       "  <thead>\n",
       "    <tr style=\"text-align: right;\">\n",
       "      <th></th>\n",
       "      <th>query</th>\n",
       "      <th>docid</th>\n",
       "      <th>rel</th>\n",
       "    </tr>\n",
       "  </thead>\n",
       "  <tbody>\n",
       "    <tr>\n",
       "      <th>0</th>\n",
       "      <td>1</td>\n",
       "      <td>005b2j4b</td>\n",
       "      <td>2</td>\n",
       "    </tr>\n",
       "    <tr>\n",
       "      <th>1</th>\n",
       "      <td>1</td>\n",
       "      <td>00fmeepz</td>\n",
       "      <td>1</td>\n",
       "    </tr>\n",
       "    <tr>\n",
       "      <th>2</th>\n",
       "      <td>1</td>\n",
       "      <td>g7dhmyyo</td>\n",
       "      <td>2</td>\n",
       "    </tr>\n",
       "    <tr>\n",
       "      <th>3</th>\n",
       "      <td>1</td>\n",
       "      <td>0194oljo</td>\n",
       "      <td>1</td>\n",
       "    </tr>\n",
       "    <tr>\n",
       "      <th>4</th>\n",
       "      <td>1</td>\n",
       "      <td>021q9884</td>\n",
       "      <td>1</td>\n",
       "    </tr>\n",
       "  </tbody>\n",
       "</table>\n",
       "<p>5 rows × 3 columns</p>\n",
       "</div>"
      ],
      "text/plain": [
       "   query     docid  rel\n",
       "0      1  005b2j4b    2\n",
       "1      1  00fmeepz    1\n",
       "2      1  g7dhmyyo    2\n",
       "3      1  0194oljo    1\n",
       "4      1  021q9884    1\n",
       "\n",
       "[5 rows x 3 columns]"
      ]
     },
     "execution_count": 42,
     "metadata": {},
     "output_type": "execute_result"
    }
   ],
   "source": [
    "qrel.head()"
   ]
  },
  {
   "cell_type": "code",
   "execution_count": 43,
   "metadata": {},
   "outputs": [],
   "source": [
    "qrel[\"q0\"] = \"q0\"\n",
    "qrel_dict = qrel.to_dict(orient=\"list\")"
   ]
  },
  {
   "cell_type": "code",
   "execution_count": 44,
   "metadata": {},
   "outputs": [
    {
     "data": {
      "text/plain": [
       "(1, '005b2j4b', 2)"
      ]
     },
     "execution_count": 44,
     "metadata": {},
     "output_type": "execute_result"
    }
   ],
   "source": [
    "qrel_dict['query'][0], qrel_dict['docid'][0], qrel_dict['rel'][0]"
   ]
  },
  {
   "attachments": {},
   "cell_type": "markdown",
   "metadata": {},
   "source": [
    "## Documentos a serem indexados"
   ]
  },
  {
   "attachments": {},
   "cell_type": "markdown",
   "metadata": {},
   "source": [
    "Outra opção é acessar por load_dataset\n",
    "\n",
    "        from datasets import load_dataset\n",
    "        dataset_corpus = load_dataset(\"BeIR/trec-covid\", \"corpus\")\n",
    "        dataset_corpus"
   ]
  },
  {
   "cell_type": "code",
   "execution_count": 45,
   "metadata": {},
   "outputs": [
    {
     "name": "stdout",
     "output_type": "stream",
     "text": [
      "Já existia a pasta\n"
     ]
    }
   ],
   "source": [
    "if not os.path.exists(f\"{DIRETORIO_TREC_COVID}/corpus.jsonl.gz\"):\n",
    "    !wget https://huggingface.co/datasets/BeIR/trec-covid/resolve/main/corpus.jsonl.gz\n",
    "    !mv corpus.jsonl.gz {DIRETORIO_TREC_COVID}\n",
    "    print('Baixado')\n",
    "else:\n",
    "    print('Já existia a pasta')"
   ]
  },
  {
   "cell_type": "code",
   "execution_count": 46,
   "metadata": {},
   "outputs": [],
   "source": [
    "# Descompacte o arquivo para a memória\n",
    "with gzip.open(f'{DIRETORIO_TREC_COVID}/corpus.jsonl.gz', 'rt') as f:\n",
    "    # Leia o conteúdo do arquivo descompactado\n",
    "    corpus = [json.loads(line) for line in f]"
   ]
  },
  {
   "cell_type": "code",
   "execution_count": 47,
   "metadata": {},
   "outputs": [
    {
     "name": "stdout",
     "output_type": "stream",
     "text": [
      "<class 'list'> len(corpus): 171332 corpus[0] {'_id': 'ug7v899j', 'title': 'Clinical features of culture-proven Mycoplasma pneumoniae infections at King Abdulaziz University Hospital, Jeddah, Saudi Arabia', 'text': 'OBJECTIVE: This retrospective chart review describes the epidemiology and clinical features of 40 patients with culture-proven Mycoplasma pneumoniae infections at King Abdulaziz University Hospital, Jeddah, Saudi Arabia. METHODS: Patients with positive M. pneumoniae cultures from respiratory specimens from January 1997 through December 1998 were identified through the Microbiology records. Charts of patients were reviewed. RESULTS: 40 patients were identified, 33 (82.5%) of whom required admission. Most infections (92.5%) were community-acquired. The infection affected all age groups but was most common in infants (32.5%) and pre-school children (22.5%). It occurred year-round but was most common in the fall (35%) and spring (30%). More than three-quarters of patients (77.5%) had comorbidities. Twenty-four isolates (60%) were associated with pneumonia, 14 (35%) with upper respiratory tract infections, and 2 (5%) with bronchiolitis. Cough (82.5%), fever (75%), and malaise (58.8%) were the most common symptoms, and crepitations (60%), and wheezes (40%) were the most common signs. Most patients with pneumonia had crepitations (79.2%) but only 25% had bronchial breathing. Immunocompromised patients were more likely than non-immunocompromised patients to present with pneumonia (8/9 versus 16/31, P = 0.05). Of the 24 patients with pneumonia, 14 (58.3%) had uneventful recovery, 4 (16.7%) recovered following some complications, 3 (12.5%) died because of M pneumoniae infection, and 3 (12.5%) died due to underlying comorbidities. The 3 patients who died of M pneumoniae pneumonia had other comorbidities. CONCLUSION: our results were similar to published data except for the finding that infections were more common in infants and preschool children and that the mortality rate of pneumonia in patients with comorbidities was high.', 'metadata': {'url': 'https://www.ncbi.nlm.nih.gov/pmc/articles/PMC35282/', 'pubmed_id': '11472636'}}\n"
     ]
    }
   ],
   "source": [
    "# Exiba os dados carregados\n",
    "print(f\"{type(corpus)} len(corpus): {len(corpus)} corpus[0] {corpus[0]}\" )"
   ]
  },
  {
   "attachments": {},
   "cell_type": "markdown",
   "metadata": {},
   "source": [
    "Ordenar Corpus para tornar mais ágil a inferência"
   ]
  },
  {
   "cell_type": "code",
   "execution_count": 48,
   "metadata": {},
   "outputs": [],
   "source": [
    "corpus = sorted(corpus, key=lambda x: len(x['title'] + ' ' + x['text']))"
   ]
  },
  {
   "cell_type": "code",
   "execution_count": 49,
   "metadata": {},
   "outputs": [
    {
     "name": "stdout",
     "output_type": "stream",
     "text": [
      "<class 'list'> len(corpus): 171332 corpus[0] {'_id': 'ivoyalxq', 'title': '', 'text': '', 'metadata': {'url': 'https://doi.org/10.1701/3347.33191; https://www.ncbi.nlm.nih.gov/pubmed/32319450/', 'pubmed_id': '32319450'}}\n"
     ]
    }
   ],
   "source": [
    "# Exiba os dados carregados\n",
    "print(f\"{type(corpus)} len(corpus): {len(corpus)} corpus[0] {corpus[0]}\" )"
   ]
  },
  {
   "cell_type": "code",
   "execution_count": 50,
   "metadata": {},
   "outputs": [
    {
     "name": "stdout",
     "output_type": "stream",
     "text": [
      "len(lista_doc_id_passage) 171332\n"
     ]
    }
   ],
   "source": [
    "lista_doc_id_passage = [doc['_id'] for doc in corpus]\n",
    "print(f\"len(lista_doc_id_passage) {len(lista_doc_id_passage)}\")"
   ]
  },
  {
   "attachments": {},
   "cell_type": "markdown",
   "metadata": {},
   "source": [
    "# Experimentos de teste de encoding"
   ]
  },
  {
   "attachments": {},
   "cell_type": "markdown",
   "metadata": {},
   "source": [
    "## Com modelo 'naver/splade-cocondenser-ensembledistil' "
   ]
  },
  {
   "cell_type": "code",
   "execution_count": 51,
   "metadata": {},
   "outputs": [],
   "source": [
    "PATH_NOME_MODELO = \"naver/splade-cocondenser-ensembledistil\""
   ]
  },
  {
   "cell_type": "code",
   "execution_count": 52,
   "metadata": {},
   "outputs": [],
   "source": [
    "# Se tiver que treinar os modelos, abre\n",
    "model = BertForMaskedLM.from_pretrained(PATH_NOME_MODELO).to(device)"
   ]
  },
  {
   "cell_type": "code",
   "execution_count": 53,
   "metadata": {},
   "outputs": [
    {
     "name": "stdout",
     "output_type": "stream",
     "text": [
      "BertConfig {\n",
      "  \"_name_or_path\": \"naver/splade-cocondenser-ensembledistil\",\n",
      "  \"architectures\": [\n",
      "    \"BertForMaskedLM\"\n",
      "  ],\n",
      "  \"attention_probs_dropout_prob\": 0.1,\n",
      "  \"classifier_dropout\": null,\n",
      "  \"gradient_checkpointing\": false,\n",
      "  \"hidden_act\": \"gelu\",\n",
      "  \"hidden_dropout_prob\": 0.1,\n",
      "  \"hidden_size\": 768,\n",
      "  \"initializer_range\": 0.02,\n",
      "  \"intermediate_size\": 3072,\n",
      "  \"layer_norm_eps\": 1e-12,\n",
      "  \"max_position_embeddings\": 512,\n",
      "  \"model_type\": \"bert\",\n",
      "  \"num_attention_heads\": 12,\n",
      "  \"num_hidden_layers\": 12,\n",
      "  \"pad_token_id\": 0,\n",
      "  \"position_embedding_type\": \"absolute\",\n",
      "  \"torch_dtype\": \"float32\",\n",
      "  \"transformers_version\": \"4.27.4\",\n",
      "  \"type_vocab_size\": 2,\n",
      "  \"use_cache\": true,\n",
      "  \"vocab_size\": 30522\n",
      "}\n",
      "\n"
     ]
    }
   ],
   "source": [
    "print(model.config)"
   ]
  },
  {
   "cell_type": "code",
   "execution_count": 54,
   "metadata": {},
   "outputs": [],
   "source": [
    "tokenizer = BertTokenizer.from_pretrained(PATH_NOME_MODELO)"
   ]
  },
  {
   "cell_type": "code",
   "execution_count": 55,
   "metadata": {},
   "outputs": [
    {
     "name": "stdout",
     "output_type": "stream",
     "text": [
      "512\n"
     ]
    }
   ],
   "source": [
    "print(tokenizer.model_max_length)"
   ]
  },
  {
   "cell_type": "code",
   "execution_count": 56,
   "metadata": {},
   "outputs": [],
   "source": [
    "sentences_test = [\"He likes to eat pizza in the pizza hut.\", \"So many sentences are transformed in just a summary.\"]"
   ]
  },
  {
   "cell_type": "code",
   "execution_count": 57,
   "metadata": {},
   "outputs": [],
   "source": [
    "    # Tokenize sentences\n",
    "encoded_input = tokenizer(sentences_test,\n",
    "                                add_special_tokens=True,\n",
    "                                return_special_tokens_mask=True, \n",
    "                                padding=True, \n",
    "                                truncation=True,\n",
    "                                max_length=model.config.max_position_embeddings,\n",
    "                                return_tensors='pt')"
   ]
  },
  {
   "cell_type": "code",
   "execution_count": 58,
   "metadata": {},
   "outputs": [
    {
     "name": "stdout",
     "output_type": "stream",
     "text": [
      "{'input_ids': tensor([[  101,  2002,  7777,  2000,  4521, 10733,  1999,  1996, 10733, 12570,\n",
      "          1012,   102],\n",
      "        [  101,  2061,  2116, 11746,  2024,  8590,  1999,  2074,  1037, 12654,\n",
      "          1012,   102]]), 'token_type_ids': tensor([[0, 0, 0, 0, 0, 0, 0, 0, 0, 0, 0, 0],\n",
      "        [0, 0, 0, 0, 0, 0, 0, 0, 0, 0, 0, 0]]), 'special_tokens_mask': tensor([[1, 0, 0, 0, 0, 0, 0, 0, 0, 0, 0, 1],\n",
      "        [1, 0, 0, 0, 0, 0, 0, 0, 0, 0, 0, 1]]), 'attention_mask': tensor([[1, 1, 1, 1, 1, 1, 1, 1, 1, 1, 1, 1],\n",
      "        [1, 1, 1, 1, 1, 1, 1, 1, 1, 1, 1, 1]])}\n"
     ]
    }
   ],
   "source": [
    "print(encoded_input)"
   ]
  },
  {
   "cell_type": "code",
   "execution_count": 59,
   "metadata": {},
   "outputs": [
    {
     "name": "stdout",
     "output_type": "stream",
     "text": [
      "após BatchEncoding {'input_ids': tensor([[  101,  2002,  7777,  2000,  4521, 10733,  1999,  1996, 10733, 12570,\n",
      "          1012,   102],\n",
      "        [  101,  2061,  2116, 11746,  2024,  8590,  1999,  2074,  1037, 12654,\n",
      "          1012,   102]]), 'token_type_ids': tensor([[0, 0, 0, 0, 0, 0, 0, 0, 0, 0, 0, 0],\n",
      "        [0, 0, 0, 0, 0, 0, 0, 0, 0, 0, 0, 0]]), 'special_tokens_mask': tensor([[1, 0, 0, 0, 0, 0, 0, 0, 0, 0, 0, 1],\n",
      "        [1, 0, 0, 0, 0, 0, 0, 0, 0, 0, 0, 1]]), 'attention_mask': tensor([[1, 1, 1, 1, 1, 1, 1, 1, 1, 1, 1, 1],\n",
      "        [1, 1, 1, 1, 1, 1, 1, 1, 1, 1, 1, 1]])}\n"
     ]
    }
   ],
   "source": [
    "# print(f\"padded_batch {padded_batch}\")\n",
    "encoded_input = BatchEncoding(encoded_input)\n",
    "print('após BatchEncoding',encoded_input)"
   ]
  },
  {
   "cell_type": "code",
   "execution_count": 60,
   "metadata": {},
   "outputs": [
    {
     "data": {
      "text/plain": [
       "12"
      ]
     },
     "execution_count": 60,
     "metadata": {},
     "output_type": "execute_result"
    }
   ],
   "source": [
    "encoded_input['input_ids'].shape[1]"
   ]
  },
  {
   "cell_type": "code",
   "execution_count": 61,
   "metadata": {},
   "outputs": [
    {
     "name": "stdout",
     "output_type": "stream",
     "text": [
      "{'input_ids': tensor([[  101,  2002,  7777,  2000,  4521, 10733,  1999,  1996, 10733, 12570,\n",
      "          1012,   102],\n",
      "        [  101,  2061,  2116, 11746,  2024,  8590,  1999,  2074,  1037, 12654,\n",
      "          1012,   102]]), 'token_type_ids': tensor([[0, 0, 0, 0, 0, 0, 0, 0, 0, 0, 0, 0],\n",
      "        [0, 0, 0, 0, 0, 0, 0, 0, 0, 0, 0, 0]]), 'special_tokens_mask': tensor([[1, 0, 0, 0, 0, 0, 0, 0, 0, 0, 0, 1],\n",
      "        [1, 0, 0, 0, 0, 0, 0, 0, 0, 0, 0, 1]]), 'attention_mask': tensor([[1, 1, 1, 1, 1, 1, 1, 1, 1, 1, 1, 1],\n",
      "        [1, 1, 1, 1, 1, 1, 1, 1, 1, 1, 1, 1]])}\n"
     ]
    }
   ],
   "source": [
    "# Move os dados para o dispositivo especificado (CPU ou GPU)\n",
    "encoded_input_cuda = {key: value.to(device) for key, value in encoded_input.items()}\n",
    "print(encoded_input)"
   ]
  },
  {
   "cell_type": "code",
   "execution_count": 62,
   "metadata": {},
   "outputs": [],
   "source": [
    "# Compute token embeddings\n",
    "with torch.no_grad():\n",
    "    model_output = model(**{k:v for k,v in encoded_input_cuda.items() if k != 'special_tokens_mask'})"
   ]
  },
  {
   "cell_type": "code",
   "execution_count": 63,
   "metadata": {},
   "outputs": [
    {
     "data": {
      "text/plain": [
       "odict_keys(['logits'])"
      ]
     },
     "execution_count": 63,
     "metadata": {},
     "output_type": "execute_result"
    }
   ],
   "source": [
    "model_output.keys()"
   ]
  },
  {
   "cell_type": "code",
   "execution_count": 64,
   "metadata": {},
   "outputs": [
    {
     "data": {
      "text/plain": [
       "torch.Size([2, 12, 30522])"
      ]
     },
     "execution_count": 64,
     "metadata": {},
     "output_type": "execute_result"
    }
   ],
   "source": [
    "model_output.logits.shape"
   ]
  },
  {
   "cell_type": "code",
   "execution_count": 65,
   "metadata": {},
   "outputs": [],
   "source": [
    "logits = model_output.logits.cpu()"
   ]
  },
  {
   "cell_type": "code",
   "execution_count": 66,
   "metadata": {},
   "outputs": [],
   "source": [
    "assert logits.shape[0]== len(sentences_test), f\"logits.shape[0] deveria ser igual a len(sentences_test), mas {logits.shape[0]} != {len(sentences_test)}\""
   ]
  },
  {
   "cell_type": "code",
   "execution_count": 67,
   "metadata": {},
   "outputs": [],
   "source": [
    "assert logits.shape[2]== model.config.vocab_size, f\"logits.shape[2] deveria ser igual model.config.vocab_size, mas {logits.shape[2]} != {model.config.vocab_size}  \""
   ]
  },
  {
   "cell_type": "code",
   "execution_count": 68,
   "metadata": {},
   "outputs": [],
   "source": [
    "assert logits.shape[1] ==  encoded_input['input_ids'].shape[1], f\"logits.shape[1] ==  encoded_input['input_ids'].shape[1], mas {logits.shape[1]} != {encoded_input['input_ids'].shape[1]}\""
   ]
  },
  {
   "cell_type": "code",
   "execution_count": 69,
   "metadata": {},
   "outputs": [
    {
     "data": {
      "text/plain": [
       "tensor([[[-6.3893e+00, -8.2711e+00, -7.5464e+00,  ..., -8.2343e+00, -7.9853e+00, -6.5540e+00],\n",
       "         [-1.0677e+01, -1.0912e+01, -1.0080e+01,  ..., -1.1239e+01, -1.0584e+01, -1.0340e+01],\n",
       "         [-1.4504e+01, -1.3984e+01, -1.2138e+01,  ..., -1.3341e+01, -1.2841e+01, -1.3440e+01],\n",
       "         ...,\n",
       "         [-1.1762e+01, -1.0844e+01, -9.7184e+00,  ..., -1.0512e+01, -9.5783e+00, -1.1487e+01],\n",
       "         [-2.0236e+01, -1.6708e+01, -1.5875e+01,  ..., -1.6253e+01, -1.5220e+01, -1.7133e+01],\n",
       "         [-1.8771e+01, -1.5834e+01, -1.5056e+01,  ..., -1.5429e+01, -1.4388e+01, -1.6011e+01]],\n",
       "\n",
       "        [[-6.0462e+00, -8.0102e+00, -7.5297e+00,  ..., -7.4065e+00, -7.7055e+00, -6.0488e+00],\n",
       "         [-7.0161e+00, -8.8562e+00, -8.1384e+00,  ..., -8.3108e+00, -8.6692e+00, -6.5108e+00],\n",
       "         [-9.4267e+00, -1.0151e+01, -9.3825e+00,  ..., -9.5120e+00, -9.9987e+00, -7.8468e+00],\n",
       "         ...,\n",
       "         [-2.0250e+01, -1.6809e+01, -1.7290e+01,  ..., -1.6032e+01, -1.6992e+01, -1.9700e+01],\n",
       "         [-1.8281e+01, -1.5261e+01, -1.4755e+01,  ..., -1.5178e+01, -1.3872e+01, -1.5943e+01],\n",
       "         [-1.7309e+01, -1.4686e+01, -1.4178e+01,  ..., -1.4615e+01, -1.3293e+01, -1.5177e+01]]])"
      ]
     },
     "execution_count": 69,
     "metadata": {},
     "output_type": "execute_result"
    }
   ],
   "source": [
    "logits"
   ]
  },
  {
   "cell_type": "code",
   "execution_count": 70,
   "metadata": {},
   "outputs": [],
   "source": [
    "logits_relu = relu(logits)"
   ]
  },
  {
   "cell_type": "code",
   "execution_count": 71,
   "metadata": {},
   "outputs": [
    {
     "data": {
      "text/plain": [
       "torch.Size([2, 12, 30522])"
      ]
     },
     "execution_count": 71,
     "metadata": {},
     "output_type": "execute_result"
    }
   ],
   "source": [
    "logits_relu.shape"
   ]
  },
  {
   "cell_type": "code",
   "execution_count": 72,
   "metadata": {},
   "outputs": [],
   "source": [
    "indices_nao_zero = torch.nonzero(logits_relu)"
   ]
  },
  {
   "cell_type": "code",
   "execution_count": 73,
   "metadata": {},
   "outputs": [
    {
     "data": {
      "text/plain": [
       "torch.Size([248, 3])"
      ]
     },
     "execution_count": 73,
     "metadata": {},
     "output_type": "execute_result"
    }
   ],
   "source": [
    "indices_nao_zero.shape"
   ]
  },
  {
   "cell_type": "code",
   "execution_count": 74,
   "metadata": {},
   "outputs": [
    {
     "name": "stdout",
     "output_type": "stream",
     "text": [
      "Indices não nulos para a amostra 0:\n",
      "tensor([   0,    0, 2002])\n",
      "Indices não nulos para a amostra 1:\n",
      "tensor([   0,    0, 2010])\n"
     ]
    }
   ],
   "source": [
    "for i in range(logits_relu.shape[0]):\n",
    "    indices = indices_nao_zero[i]\n",
    "    print(f\"Indices não nulos para a amostra {i}:\")\n",
    "    print(indices)"
   ]
  },
  {
   "cell_type": "code",
   "execution_count": 75,
   "metadata": {},
   "outputs": [
    {
     "name": "stdout",
     "output_type": "stream",
     "text": [
      "tensor([[   0,    0, 2002],\n",
      "        [   0,    0, 2010],\n",
      "        [   0,    0, 2032]])\n"
     ]
    }
   ],
   "source": [
    "print(indices_nao_zero[:3])"
   ]
  },
  {
   "cell_type": "code",
   "execution_count": 76,
   "metadata": {},
   "outputs": [
    {
     "name": "stdout",
     "output_type": "stream",
     "text": [
      "Valores para a parte 0: tensor([1.4559e+00, 9.9054e-01, 6.2091e-01])\n",
      "Valores para a parte 1: tensor([1.2144e+00, 2.6016e-01, 3.4094e-02])\n"
     ]
    }
   ],
   "source": [
    "\n",
    "num_splits = 2  # dividir indices_nao_zero em duas partes\n",
    "batch_size = indices_nao_zero.shape[0] // num_splits  # indices_nao_zero.shape[0]\n",
    "\n",
    "splits = torch.split(indices_nao_zero, batch_size, dim=0)\n",
    "\n",
    "for i, split in enumerate(splits):\n",
    "    # encontre os valores não-zero correspondentes em logits_relu para esta parte de indices_nao_zero\n",
    "    values = logits_relu[split[:, 0], split[:, 1], split[:, 2]]\n",
    "    print(f\"Valores para a parte {i}: {values[:3]}\")"
   ]
  },
  {
   "cell_type": "code",
   "execution_count": 77,
   "metadata": {},
   "outputs": [],
   "source": [
    "valores = logits_relu[indices_nao_zero[:, 0], indices_nao_zero[:, 1], indices_nao_zero[:, 2]]"
   ]
  },
  {
   "cell_type": "code",
   "execution_count": 78,
   "metadata": {},
   "outputs": [
    {
     "name": "stdout",
     "output_type": "stream",
     "text": [
      "torch.Size([248]) tensor([1.4559e+00, 9.9054e-01, 6.2091e-01])\n"
     ]
    }
   ],
   "source": [
    "print(valores.shape, valores[:3])"
   ]
  },
  {
   "attachments": {},
   "cell_type": "markdown",
   "metadata": {},
   "source": [
    "## Usando \"sum\""
   ]
  },
  {
   "cell_type": "code",
   "execution_count": 79,
   "metadata": {},
   "outputs": [],
   "source": [
    "wj_sum = torch.sum(torch.log(1 + relu(logits)), dim=1)"
   ]
  },
  {
   "cell_type": "code",
   "execution_count": 80,
   "metadata": {},
   "outputs": [
    {
     "data": {
      "text/plain": [
       "torch.Size([2, 30522])"
      ]
     },
     "execution_count": 80,
     "metadata": {},
     "output_type": "execute_result"
    }
   ],
   "source": [
    "wj_sum.shape"
   ]
  },
  {
   "cell_type": "code",
   "execution_count": 81,
   "metadata": {},
   "outputs": [],
   "source": [
    "wj_sum_sparse = wj_sum.to_sparse()"
   ]
  },
  {
   "cell_type": "code",
   "execution_count": 82,
   "metadata": {},
   "outputs": [
    {
     "data": {
      "text/plain": [
       "(torch.Tensor, torch.Size([2, 30522]))"
      ]
     },
     "execution_count": 82,
     "metadata": {},
     "output_type": "execute_result"
    }
   ],
   "source": [
    "type(wj_sum_sparse), wj_sum_sparse.shape"
   ]
  },
  {
   "cell_type": "code",
   "execution_count": 83,
   "metadata": {},
   "outputs": [
    {
     "data": {
      "text/plain": [
       "tensor(indices=tensor([[    0,     0,     0,     0,     0,     0,     0,     0,\n",
       "                            0,     0,     0,     0,     0,     0,     0,     0,\n",
       "                            0,     0,     0,     0,     0,     0,     0,     0,\n",
       "                            0,     0,     0,     0,     0,     0,     0,     0,\n",
       "                            0,     0,     0,     0,     0,     0,     0,     0,\n",
       "                            0,     0,     0,     0,     0,     0,     0,     0,\n",
       "                            0,     0,     0,     0,     0,     0,     0,     0,\n",
       "                            0,     0,     0,     0,     0,     0,     0,     0,\n",
       "                            0,     0,     0,     0,     0,     0,     1,     1,\n",
       "                            1,     1,     1,     1,     1,     1,     1,     1,\n",
       "                            1,     1,     1,     1,     1,     1,     1,     1,\n",
       "                            1,     1,     1,     1,     1,     1,     1,     1,\n",
       "                            1,     1,     1,     1,     1,     1,     1,     1,\n",
       "                            1,     1,     1,     1,     1,     1,     1,     1,\n",
       "                            1,     1,     1,     1,     1,     1,     1,     1,\n",
       "                            1,     1,     1],\n",
       "                       [ 1996,  1999,  2002,  2006,  2010,  2012,  2032,  2066,\n",
       "                         2079,  2123,  2215,  2252,  2283,  2359,  2365,  2370,\n",
       "                         2377,  2380,  2567,  2677,  2720,  2767,  2806,  2833,\n",
       "                         2839,  3124,  3309,  3347,  3364,  3531,  3573,  3782,\n",
       "                         3829,  3899,  3942,  4147,  4435,  4497,  4521,  4605,\n",
       "                         4666,  4669,  4713,  4825,  5404,  5440,  5470,  5542,\n",
       "                         5965,  5983,  6240,  6805,  6871,  7668,  7777,  7884,\n",
       "                         8738,  8808,  9065,  9383,  9544,  9841, 10026, 10733,\n",
       "                        11345, 11642, 12570, 15890, 18959, 19782,  1999,  2061,\n",
       "                         2062,  2074,  2116,  2205,  2261,  2338,  2411,  2466,\n",
       "                         2561,  2671,  2726,  2773,  2878,  2904,  3191,  3213,\n",
       "                         3365,  3375,  3432,  3674,  3722,  3752,  3793,  3975,\n",
       "                         4471,  4489,  4706,  4800,  4807,  5290,  5449,  5530,\n",
       "                         6251,  6310,  6412,  6796,  7063,  7065,  7680,  8553,\n",
       "                         8590,  8651,  9185,  9491, 10938, 11091, 11746, 12654,\n",
       "                        14686, 20423, 21743]]),\n",
       "       values=tensor([3.3765e-01, 6.8221e-01, 4.8495e+00, 5.0857e-02,\n",
       "                      3.3637e+00, 3.5866e-01, 1.5645e+00, 1.2889e+00,\n",
       "                      2.9630e-01, 2.5375e-01, 8.0036e-01, 1.5264e+00,\n",
       "                      1.9450e-01, 2.1403e-01, 2.0454e-01, 6.7570e-01,\n",
       "                      4.5247e-02, 1.9230e-01, 1.0644e-01, 1.8475e-01,\n",
       "                      4.3446e-02, 1.0081e-01, 6.0399e-01, 1.2967e+00,\n",
       "                      7.5185e-01, 4.8301e-01, 1.3395e+00, 9.4893e-01,\n",
       "                      3.3028e-01, 4.5783e-02, 7.9688e-02, 8.9580e-02,\n",
       "                      7.0697e-02, 3.7899e-03, 1.0442e+00, 3.2475e-01,\n",
       "                      2.6173e-02, 7.7419e-01, 4.2067e+00, 1.0101e+00,\n",
       "                      6.8446e-02, 1.4382e+00, 1.5299e-02, 5.9321e+00,\n",
       "                      1.8476e-01, 3.2477e-01, 2.1513e-01, 3.0995e-03,\n",
       "                      1.0105e-02, 1.0006e+00, 2.4887e-01, 2.7209e-01,\n",
       "                      5.6824e-01, 1.0535e-01, 1.2577e+00, 3.4756e-01,\n",
       "                      1.8002e-01, 3.2390e-02, 2.0112e-01, 9.5720e-05,\n",
       "                      5.7925e-01, 9.2031e-02, 1.7398e-01, 9.0861e+00,\n",
       "                      2.0686e+00, 5.0254e-01, 3.2271e+00, 1.0596e+00,\n",
       "                      6.9909e-02, 1.0345e-01, 6.5284e-02, 7.1823e-01,\n",
       "                      6.4278e-02, 1.3465e+00, 1.4859e+00, 2.3125e-02,\n",
       "                      1.1274e-01, 1.0177e-01, 1.8514e-01, 1.4240e+00,\n",
       "                      3.2012e-01, 7.9914e-03, 6.0099e-02, 3.3288e-01,\n",
       "                      1.9278e-01, 1.9380e-01, 1.0715e-01, 9.2200e-01,\n",
       "                      6.8181e-02, 8.9910e-01, 4.1734e-01, 4.5196e-01,\n",
       "                      3.5879e-01, 9.8448e-01, 1.7755e+00, 5.9911e-02,\n",
       "                      2.7286e-01, 7.9708e-01, 2.2653e+00, 2.6121e-01,\n",
       "                      9.2732e-03, 1.6598e-01, 2.8045e-01, 6.9186e-01,\n",
       "                      3.9869e+00, 2.5387e-01, 6.3176e-01, 9.1688e-02,\n",
       "                      2.4171e-02, 3.1174e-01, 1.1770e+00, 6.2285e-02,\n",
       "                      1.3529e+00, 1.5620e+00, 2.5692e-01, 1.1482e-01,\n",
       "                      1.6596e+00, 2.7948e-01, 1.8603e+00, 2.6564e+00,\n",
       "                      1.2008e+00, 3.0817e-01, 1.3502e-01]),\n",
       "       size=(2, 30522), nnz=123, layout=torch.sparse_coo)"
      ]
     },
     "execution_count": 83,
     "metadata": {},
     "output_type": "execute_result"
    }
   ],
   "source": [
    "wj_sum_sparse"
   ]
  },
  {
   "cell_type": "code",
   "execution_count": 84,
   "metadata": {},
   "outputs": [
    {
     "data": {
      "text/plain": [
       "(torch.Size([123]), tensor(9.5482e+01))"
      ]
     },
     "execution_count": 84,
     "metadata": {},
     "output_type": "execute_result"
    }
   ],
   "source": [
    "wj_sum_sparse._values().shape, wj_sum_sparse._values().sum()"
   ]
  },
  {
   "attachments": {},
   "cell_type": "markdown",
   "metadata": {},
   "source": [
    "## Compreendendo tensor esparso"
   ]
  },
  {
   "cell_type": "code",
   "execution_count": 85,
   "metadata": {},
   "outputs": [
    {
     "data": {
      "text/plain": [
       "torch.Size([2, 123])"
      ]
     },
     "execution_count": 85,
     "metadata": {},
     "output_type": "execute_result"
    }
   ],
   "source": [
    "wj_sum_sparse._indices().shape\n"
   ]
  },
  {
   "cell_type": "code",
   "execution_count": 86,
   "metadata": {},
   "outputs": [
    {
     "name": "stdout",
     "output_type": "stream",
     "text": [
      "Número de subwords/tokens de entrada: 2\n"
     ]
    }
   ],
   "source": [
    "print(f\"Número de subwords/tokens de entrada: {wj_sum_sparse._indices()[0].max() + 1}\")"
   ]
  },
  {
   "cell_type": "code",
   "execution_count": 87,
   "metadata": {},
   "outputs": [
    {
     "name": "stdout",
     "output_type": "stream",
     "text": [
      "Qtd de elementos no vetor esparso: 123\n"
     ]
    }
   ],
   "source": [
    "print(f\"Qtd de elementos no vetor esparso: {wj_sum_sparse._nnz()}\")"
   ]
  },
  {
   "cell_type": "code",
   "execution_count": 88,
   "metadata": {},
   "outputs": [
    {
     "data": {
      "text/plain": [
       "(4, 2, 61044, 123)"
      ]
     },
     "execution_count": 88,
     "metadata": {},
     "output_type": "execute_result"
    }
   ],
   "source": [
    "wj_sum_sparse.element_size(), wj_sum_sparse.sparse_dim(), wj_sum_sparse.numel(), wj_sum_sparse._nnz()"
   ]
  },
  {
   "attachments": {},
   "cell_type": "markdown",
   "metadata": {},
   "source": [
    "### Visualizando economia de espaço"
   ]
  },
  {
   "cell_type": "code",
   "execution_count": 89,
   "metadata": {},
   "outputs": [],
   "source": [
    "mem_vetor_esparso = wj_sum_sparse.element_size() * wj_sum_sparse._nnz()  # calcula o tamanho em bytes do tensor esparso"
   ]
  },
  {
   "cell_type": "code",
   "execution_count": 90,
   "metadata": {},
   "outputs": [],
   "source": [
    "mem_vetor_contiguo = wj_sum.element_size() * wj_sum.numel()  # calcula o tamanho em bytes do tensor esparso"
   ]
  },
  {
   "cell_type": "code",
   "execution_count": 91,
   "metadata": {},
   "outputs": [
    {
     "name": "stdout",
     "output_type": "stream",
     "text": [
      "Memória vetor esparso 492 x contíguo 244176 0.201%\n"
     ]
    }
   ],
   "source": [
    "print(f\"Memória vetor esparso {mem_vetor_esparso} x contíguo {mem_vetor_contiguo} {round(100*mem_vetor_esparso/mem_vetor_contiguo,3)}%\")"
   ]
  },
  {
   "cell_type": "code",
   "execution_count": 92,
   "metadata": {},
   "outputs": [],
   "source": [
    "# t = torch.tensor([[0, 0, 0, 0, 0, 0, 0, 0, 0, 0, 0, 0, 0, 0, 0, 0, 0, 0, 0, 0, 0, 0, 0, 0, 0, 0, 0, 0, 0, 0, 0, 0, 0, 1, 1, 1, 1, 1, 1, 1, 1, 1, 1, 2, 2, 2, 2, 2, 2, 2, 2, 2, 2, 2, 2, 2, 3, 3, 3, 3, 3, 3, 3, 3, 3, 3, 3, 3, 3, 3, 3, 3, 3, 3, 3, 3, 3, 3, 3, 3, 4, 4, 4, 4, 4, 4, 4, 4, 5, 5, 5, 5, 6]])\n",
    "\n",
    "unique_vals, counts = torch.unique(wj_sum_sparse._indices()[0], return_counts=True)"
   ]
  },
  {
   "cell_type": "code",
   "execution_count": 93,
   "metadata": {},
   "outputs": [],
   "source": [
    "counts_dict = {val.item(): count.item() for val, count in zip(unique_vals, counts)}\n"
   ]
  },
  {
   "cell_type": "code",
   "execution_count": 94,
   "metadata": {},
   "outputs": [
    {
     "name": "stdout",
     "output_type": "stream",
     "text": [
      "{0: 70, 1: 53}\n"
     ]
    }
   ],
   "source": [
    "print(counts_dict)"
   ]
  },
  {
   "cell_type": "code",
   "execution_count": 95,
   "metadata": {},
   "outputs": [],
   "source": [
    "values_dict = {}\n",
    "unique_indices = torch.unique(wj_sum_sparse._indices()[0])\n",
    "for idx in unique_indices:\n",
    "    values_dict[idx.item()] = wj_sum_sparse._indices()[1][wj_sum_sparse._indices()[0] == idx].tolist()\n"
   ]
  },
  {
   "cell_type": "code",
   "execution_count": 96,
   "metadata": {},
   "outputs": [
    {
     "name": "stdout",
     "output_type": "stream",
     "text": [
      "{0: [1996, 1999, 2002, 2006, 2010, 2012, 2032, 2066, 2079, 2123, 2215, 2252, 2283, 2359, 2365, 2370, 2377, 2380, 2567, 2677, 2720, 2767, 2806, 2833, 2839, 3124, 3309, 3347, 3364, 3531, 3573, 3782, 3829, 3899, 3942, 4147, 4435, 4497, 4521, 4605, 4666, 4669, 4713, 4825, 5404, 5440, 5470, 5542, 5965, 5983, 6240, 6805, 6871, 7668, 7777, 7884, 8738, 8808, 9065, 9383, 9544, 9841, 10026, 10733, 11345, 11642, 12570, 15890, 18959, 19782], 1: [1999, 2061, 2062, 2074, 2116, 2205, 2261, 2338, 2411, 2466, 2561, 2671, 2726, 2773, 2878, 2904, 3191, 3213, 3365, 3375, 3432, 3674, 3722, 3752, 3793, 3975, 4471, 4489, 4706, 4800, 4807, 5290, 5449, 5530, 6251, 6310, 6412, 6796, 7063, 7065, 7680, 8553, 8590, 8651, 9185, 9491, 10938, 11091, 11746, 12654, 14686, 20423, 21743]}\n"
     ]
    }
   ],
   "source": [
    "print(values_dict)"
   ]
  },
  {
   "cell_type": "code",
   "execution_count": 97,
   "metadata": {},
   "outputs": [
    {
     "name": "stdout",
     "output_type": "stream",
     "text": [
      "pos 0:He likes to eat pizza in the pizza hut.\n",
      "[1996, 1999, 2002, 2006, 2010, 2012, 2032, 2066, 2079, 2123, 2215, 2252, 2283, 2359, 2365, 2370, 2377, 2380, 2567, 2677, 2720, 2767, 2806, 2833, 2839, 3124, 3309, 3347, 3364, 3531, 3573, 3782, 3829, 3899, 3942, 4147, 4435, 4497, 4521, 4605, 4666, 4669, 4713, 4825, 5404, 5440, 5470, 5542, 5965, 5983, 6240, 6805, 6871, 7668, 7777, 7884, 8738, 8808, 9065, 9383, 9544, 9841, 10026, 10733, 11345, 11642, 12570, 15890, 18959, 19782]\n",
      "['the', 'in', 'he', 'on', 'his', 'at', 'him', 'like', 'do', 'don', 'want', 'club', 'party', 'wanted', 'son', 'himself', 'play', 'park', 'brother', 'mouth', 'mr', 'friend', 'style', 'food', 'character', 'guy', 'hotel', 'bar', 'actor', 'please', 'store', 'chris', 'kitchen', 'dog', 'visit', 'wearing', 'brand', 'shop', 'eat', 'bowl', 'mix', 'liked', 'factory', 'restaurant', 'beer', 'favorite', 'fan', 'cousin', 'fred', 'eating', 'meat', 'bite', 'preferred', 'cafe', 'likes', 'restaurants', 'diet', 'cheese', 'booth', 'mcdonald', 'prefer', 'dish', 'chef', 'pizza', 'pie', 'sandwich', 'hut', 'burger', 'dislike', 'snack'] \n",
      "pos 1:So many sentences are transformed in just a summary.\n",
      "[1999, 2061, 2062, 2074, 2116, 2205, 2261, 2338, 2411, 2466, 2561, 2671, 2726, 2773, 2878, 2904, 3191, 3213, 3365, 3375, 3432, 3674, 3722, 3752, 3793, 3975, 4471, 4489, 4706, 4800, 4807, 5290, 5449, 5530, 6251, 6310, 6412, 6796, 7063, 7065, 7680, 8553, 8590, 8651, 9185, 9491, 10938, 11091, 11746, 12654, 14686, 20423, 21743]\n",
      "['in', 'so', 'more', 'just', 'many', 'too', 'few', 'book', 'often', 'story', 'total', 'science', 'thomas', 'word', 'whole', 'changed', 'read', 'writer', 'numerous', 'complex', 'simply', 'multiple', 'simple', 'reading', 'text', 'split', 'message', 'difference', 'literary', 'multi', 'communication', 'reform', 'translation', 'pages', 'sentence', 'modified', 'description', 'justin', 'madison', 'rev', 'sum', '##bility', 'transformed', 'transformation', 'reflection', 'essay', 'transform', 'citation', 'sentences', 'summary', 'quote', 'paragraph', 'transforms'] \n"
     ]
    }
   ],
   "source": [
    "for pos, list_tokens in values_dict.items():\n",
    "    print(f\"pos {pos}:{sentences_test[pos]}\")\n",
    "    print(f\"{list_tokens}\")\n",
    "    print(f\"{tokenizer.convert_ids_to_tokens(list_tokens)} \")\n",
    "\n",
    "# tokenizer.convert_ids_to_tokens(wj_sparse._indices()[1])"
   ]
  },
  {
   "attachments": {},
   "cell_type": "markdown",
   "metadata": {},
   "source": [
    "## Usando \"max\""
   ]
  },
  {
   "cell_type": "code",
   "execution_count": 98,
   "metadata": {},
   "outputs": [],
   "source": [
    "wj_max, _ = torch.max(torch.log(1 + relu(logits)), dim=1)"
   ]
  },
  {
   "cell_type": "code",
   "execution_count": 99,
   "metadata": {},
   "outputs": [],
   "source": [
    "wj_max_sparse = wj_max.to_sparse()"
   ]
  },
  {
   "cell_type": "code",
   "execution_count": 100,
   "metadata": {},
   "outputs": [
    {
     "data": {
      "text/plain": [
       "torch.Size([2, 30522])"
      ]
     },
     "execution_count": 100,
     "metadata": {},
     "output_type": "execute_result"
    }
   ],
   "source": [
    "wj_max_sparse.shape"
   ]
  },
  {
   "cell_type": "code",
   "execution_count": 101,
   "metadata": {},
   "outputs": [
    {
     "name": "stdout",
     "output_type": "stream",
     "text": [
      "{0: 70, 1: 53}\n"
     ]
    }
   ],
   "source": [
    "# t = torch.tensor([[0, 0, 0, 0, 0, 0, 0, 0, 0, 0, 0, 0, 0, 0, 0, 0, 0, 0, 0, 0, 0, 0, 0, 0, 0, 0, 0, 0, 0, 0, 0, 0, 0, 1, 1, 1, 1, 1, 1, 1, 1, 1, 1, 2, 2, 2, 2, 2, 2, 2, 2, 2, 2, 2, 2, 2, 3, 3, 3, 3, 3, 3, 3, 3, 3, 3, 3, 3, 3, 3, 3, 3, 3, 3, 3, 3, 3, 3, 3, 3, 4, 4, 4, 4, 4, 4, 4, 4, 5, 5, 5, 5, 6]])\n",
    "unique_vals, counts = torch.unique(wj_max_sparse._indices()[0], return_counts=True)\n",
    "counts_dict = {val.item(): count.item() for val, count in zip(unique_vals, counts)}\n",
    "print(counts_dict)"
   ]
  },
  {
   "cell_type": "code",
   "execution_count": 102,
   "metadata": {},
   "outputs": [],
   "source": [
    "values_dict = {}\n",
    "unique_indices = torch.unique(wj_max_sparse._indices()[0])\n",
    "for idx in unique_indices:\n",
    "    values_dict[idx.item()] = wj_max_sparse._indices()[1][wj_max_sparse._indices()[0] == idx].tolist()\n"
   ]
  },
  {
   "cell_type": "code",
   "execution_count": 103,
   "metadata": {},
   "outputs": [
    {
     "name": "stdout",
     "output_type": "stream",
     "text": [
      "{0: [1996, 1999, 2002, 2006, 2010, 2012, 2032, 2066, 2079, 2123, 2215, 2252, 2283, 2359, 2365, 2370, 2377, 2380, 2567, 2677, 2720, 2767, 2806, 2833, 2839, 3124, 3309, 3347, 3364, 3531, 3573, 3782, 3829, 3899, 3942, 4147, 4435, 4497, 4521, 4605, 4666, 4669, 4713, 4825, 5404, 5440, 5470, 5542, 5965, 5983, 6240, 6805, 6871, 7668, 7777, 7884, 8738, 8808, 9065, 9383, 9544, 9841, 10026, 10733, 11345, 11642, 12570, 15890, 18959, 19782], 1: [1999, 2061, 2062, 2074, 2116, 2205, 2261, 2338, 2411, 2466, 2561, 2671, 2726, 2773, 2878, 2904, 3191, 3213, 3365, 3375, 3432, 3674, 3722, 3752, 3793, 3975, 4471, 4489, 4706, 4800, 4807, 5290, 5449, 5530, 6251, 6310, 6412, 6796, 7063, 7065, 7680, 8553, 8590, 8651, 9185, 9491, 10938, 11091, 11746, 12654, 14686, 20423, 21743]}\n"
     ]
    }
   ],
   "source": [
    "print(values_dict)"
   ]
  },
  {
   "cell_type": "code",
   "execution_count": 104,
   "metadata": {},
   "outputs": [
    {
     "name": "stdout",
     "output_type": "stream",
     "text": [
      "pos 0:He likes to eat pizza in the pizza hut.\n",
      "[1996, 1999, 2002, 2006, 2010, 2012, 2032, 2066, 2079, 2123, 2215, 2252, 2283, 2359, 2365, 2370, 2377, 2380, 2567, 2677, 2720, 2767, 2806, 2833, 2839, 3124, 3309, 3347, 3364, 3531, 3573, 3782, 3829, 3899, 3942, 4147, 4435, 4497, 4521, 4605, 4666, 4669, 4713, 4825, 5404, 5440, 5470, 5542, 5965, 5983, 6240, 6805, 6871, 7668, 7777, 7884, 8738, 8808, 9065, 9383, 9544, 9841, 10026, 10733, 11345, 11642, 12570, 15890, 18959, 19782]\n",
      "['the', 'in', 'he', 'on', 'his', 'at', 'him', 'like', 'do', 'don', 'want', 'club', 'party', 'wanted', 'son', 'himself', 'play', 'park', 'brother', 'mouth', 'mr', 'friend', 'style', 'food', 'character', 'guy', 'hotel', 'bar', 'actor', 'please', 'store', 'chris', 'kitchen', 'dog', 'visit', 'wearing', 'brand', 'shop', 'eat', 'bowl', 'mix', 'liked', 'factory', 'restaurant', 'beer', 'favorite', 'fan', 'cousin', 'fred', 'eating', 'meat', 'bite', 'preferred', 'cafe', 'likes', 'restaurants', 'diet', 'cheese', 'booth', 'mcdonald', 'prefer', 'dish', 'chef', 'pizza', 'pie', 'sandwich', 'hut', 'burger', 'dislike', 'snack'] \n",
      "pos 1:So many sentences are transformed in just a summary.\n",
      "[1999, 2061, 2062, 2074, 2116, 2205, 2261, 2338, 2411, 2466, 2561, 2671, 2726, 2773, 2878, 2904, 3191, 3213, 3365, 3375, 3432, 3674, 3722, 3752, 3793, 3975, 4471, 4489, 4706, 4800, 4807, 5290, 5449, 5530, 6251, 6310, 6412, 6796, 7063, 7065, 7680, 8553, 8590, 8651, 9185, 9491, 10938, 11091, 11746, 12654, 14686, 20423, 21743]\n",
      "['in', 'so', 'more', 'just', 'many', 'too', 'few', 'book', 'often', 'story', 'total', 'science', 'thomas', 'word', 'whole', 'changed', 'read', 'writer', 'numerous', 'complex', 'simply', 'multiple', 'simple', 'reading', 'text', 'split', 'message', 'difference', 'literary', 'multi', 'communication', 'reform', 'translation', 'pages', 'sentence', 'modified', 'description', 'justin', 'madison', 'rev', 'sum', '##bility', 'transformed', 'transformation', 'reflection', 'essay', 'transform', 'citation', 'sentences', 'summary', 'quote', 'paragraph', 'transforms'] \n"
     ]
    }
   ],
   "source": [
    "for pos, list_tokens in values_dict.items():\n",
    "    print(f\"pos {pos}:{sentences_test[pos]}\")\n",
    "    print(f\"{list_tokens}\")\n",
    "    print(f\"{tokenizer.convert_ids_to_tokens(list_tokens)} \")\n",
    "\n",
    "# tokenizer.convert_ids_to_tokens(wj_sparse._indices()[1])"
   ]
  },
  {
   "cell_type": "code",
   "execution_count": 105,
   "metadata": {},
   "outputs": [
    {
     "data": {
      "text/plain": [
       "(tensor(5.4646e+01), tensor(9.5482e+01))"
      ]
     },
     "execution_count": 105,
     "metadata": {},
     "output_type": "execute_result"
    }
   ],
   "source": [
    "wj_max_sparse._values().sum(), wj_sum_sparse._values().sum()"
   ]
  },
  {
   "attachments": {},
   "cell_type": "markdown",
   "metadata": {},
   "source": [
    "## Conclusão dos experimentos\n"
   ]
  },
  {
   "attachments": {},
   "cell_type": "markdown",
   "metadata": {},
   "source": [
    "As expansões se equivalem, seja usando max ou sum, pois as 123 tokens (após expansão) são as 123 não zeradas do logits (após relu).\n",
    "O que muda são os valores dos scores das tokens, o que pode influenciar na busca (sum:95, max:54)\n"
   ]
  },
  {
   "attachments": {},
   "cell_type": "markdown",
   "metadata": {},
   "source": [
    "# Funções auxiliares"
   ]
  },
  {
   "attachments": {},
   "cell_type": "markdown",
   "metadata": {},
   "source": [
    "## De expansão/inferência"
   ]
  },
  {
   "cell_type": "code",
   "execution_count": 106,
   "metadata": {},
   "outputs": [],
   "source": [
    "def retorna_subword_importante(\n",
    "    parm_model: BertForMaskedLM,\n",
    "    parm_tokenizer: BertTokenizer,\n",
    "    parm_sentences: list,\n",
    "    parm_ind_agg: str = 'max'\n",
    "  )  -> torch.sparse.FloatTensor:\n",
    "    \"\"\"\n",
    "    Retorna um tensor esparso contendo as subpalavras importantes de cada sentença fornecida.\n",
    "\n",
    "    Args:\n",
    "        parm_model (BertForMaskedLM): O modelo pré-treinado utilizado para geração de embeddings.\n",
    "        parm_tokenizer (BertTokenizer): O tokenizador associado ao modelo pré-treinado.\n",
    "        parm_sentences (list): A lista de sentenças para as quais se deseja obter as subpalavras importantes.\n",
    "        parm_ind_agg (str): O método de agregação de índices para geração do tensor esparso. As opções são:\n",
    "                                            - 'max': para agregar índices por meio do valor máximo naquela posição;\n",
    "                                            - 'sum': para agregar índices por meio da soma naquela posição.\n",
    "\n",
    "    Returns:\n",
    "        torch.sparse.FloatTensor: O tensor esparso com as subpalavras importantes de cada sentença.\n",
    "    \"\"\"\n",
    "    encoded_input = parm_tokenizer(parm_sentences,\n",
    "                                    add_special_tokens=True,\n",
    "                                    return_special_tokens_mask=True, \n",
    "                                    padding=True, \n",
    "                                    truncation=True,\n",
    "                                    max_length=model.config.max_position_embeddings,\n",
    "                                    return_tensors='pt')\n",
    "\n",
    "\n",
    "\n",
    "    encoded_input = BatchEncoding(encoded_input)\n",
    "    encoded_input_cuda = {key: value.to(device) for key, value in encoded_input.items()}\n",
    "    with torch.no_grad():\n",
    "        model_output = parm_model(**{k:v for k,v in encoded_input_cuda.items() if k != 'special_tokens_mask'})\n",
    "    logits = model_output.logits    # estava movendo para a cpu aqui!\n",
    "    assert logits.shape[0]== len(parm_sentences), f\"logits.shape[0] deveria ser igual a len(sentences_test), mas {logits.shape[0]} != {len(sentences_test)}\"\n",
    "    assert logits.shape[2]== model.config.vocab_size, f\"logits.shape[2] deveria ser igual model.config.vocab_size, mas {logits.shape[2]} != {model.config.vocab_size}  \"\n",
    "    assert logits.shape[1] ==  encoded_input['input_ids'].shape[1], f\"logits.shape[1] ==  encoded_input['input_ids'].shape[1], mas {logits.shape[1]} != {encoded_input['input_ids'].shape[1]}\"\n",
    "    # print(f\"model_output.logits.shape {model_output.logits.shape}\")\n",
    "    if parm_ind_agg == 'max':\n",
    "        wj, _ = torch.max(torch.log(1 + relu(logits)), dim=1)\n",
    "    elif parm_ind_agg == 'sum':\n",
    "        wj = torch.sum(torch.log(1 + relu(logits)), dim=1)\n",
    "    else:\n",
    "        raise Exception(f\"parm_ind_aggregation_method deve ser 'max' ou 'sum', mas passado {parm_ind_aggregation_method}!\")\n",
    "    \n",
    "    return wj.cpu().to_sparse()\n"
   ]
  },
  {
   "cell_type": "code",
   "execution_count": 107,
   "metadata": {},
   "outputs": [],
   "source": [
    "def retorna_tokens_expansao(parm_expansao: torch.Tensor, \n",
    "                            parm_tokenizer: BertTokenizer,\n",
    "                            parm_sentences: list) -> dict:\n",
    "    \"\"\"\n",
    "    Retorna um dicionário com informações sobre as expansões de tokens para cada sentença.\n",
    "\n",
    "    Args:\n",
    "        parm_expansao (torch.Tensor): Tensor esparso com as expansões de tokens.\n",
    "        parm_tokenizer (BertTokenizer): Tokenizer associado ao modelo BERT utilizado nas expansões.\n",
    "        parm_sentences (list): Lista de sentenças utilizadas para gerar as expansões.\n",
    "\n",
    "    Returns:\n",
    "        dict: Dicionário com informações sobre as expansões de tokens para cada sentença. Cada item do dicionário\n",
    "        contém as seguintes chaves:\n",
    "        - 'text': A sentença original.\n",
    "        - 'list_tokens_expanded': Uma lista de tokens correspondente às expansões geradas para a sentença.\n",
    "    \"\"\"\n",
    "    # Verifica se o número de linhas da expansão é igual ao número de sentenças\n",
    "    assert parm_expansao.shape[0] == len(parm_sentences), f\"parm_expansao.shape[0] == len(parm_sentences), mas {parm_expansao.shape[0]} != {len(parm_sentences)}\"\n",
    "\n",
    "    # Cria um dicionário para armazenar os valores únicos presentes na expansão\n",
    "    values_dict = {}\n",
    "    # Obtém os índices únicos da expansão\n",
    "    unique_indices = torch.unique(parm_expansao._indices()[0])\n",
    "    # Para cada índice único, armazena a lista de tokens correspondente\n",
    "    for idx in unique_indices:\n",
    "        values_dict[idx.item()] = parm_expansao._indices()[1][parm_expansao._indices()[0] == idx].tolist()\n",
    "\n",
    "    # Cria um dicionário de retorno com as informações de cada sentença\n",
    "    dict_retorno = {}\n",
    "    for pos, list_tokens in values_dict.items():\n",
    "        dict_retorno[pos] = {'text': parm_sentences[pos], \n",
    "                             'list_tokens_expanded': parm_tokenizer.convert_ids_to_tokens(list_tokens)}\n",
    "    return dict_retorno\n"
   ]
  },
  {
   "cell_type": "code",
   "execution_count": 108,
   "metadata": {},
   "outputs": [],
   "source": [
    "def expande_corpus(parm_model:BertForMaskedLM,\n",
    "                   parm_tokenizer:BertTokenizer, \n",
    "                   parm_sentences:list,\n",
    "                   parm_batch_size:int=64,\n",
    "                   parm_ind_agg:str='max') -> torch.Tensor:\n",
    "    \"\"\"\n",
    "    Gera a expansão de palavras para um conjunto de documentos usando um modelo de linguagem BERT pré-treinado.\n",
    "\n",
    "    Args:\n",
    "    - parm_model: modelo BERT pré-treinado.\n",
    "    - parm_tokenizer: tokenizer associado ao modelo BERT.\n",
    "    - parm_sentences: lista contendo os documentos (em forma de string) a serem expandidos.\n",
    "    - parm_batch_size: tamanho do batch para processamento em lotes. O padrão é 64.\n",
    "    - parm_ind_agg: método de agregação de subpalavras. As opções são: 'max' (valor máximo) ou 'sum' (soma).\n",
    "    O padrão é 'max'.\n",
    "\n",
    "    Returns:\n",
    "    - torch.Tensor: matriz esparsa com a representação das subpalavras importantes para cada documento.\n",
    "    \"\"\"\n",
    "    # Comando para reduzir tempo e memória with torch.autocast(device_type='cuda', dtype=torch.float16, enabled=True):\n",
    "    # Matriz esparsa que irá armazenar as subpalavras importantes para cada documento.\n",
    "    expansoes = None  \n",
    "    # Calcula a quantidade de lotes a serem processados.\n",
    "    qtd_bloco = math.ceil(len(parm_sentences) / parm_batch_size)  \n",
    "    # Cria uma barra de progresso para acompanhar o processamento.    \n",
    "    pbar = tqdm(range(qtd_bloco))  \n",
    "    for ndx in range(qtd_bloco):\n",
    "        # Seleciona o conjunto de documentos a serem processados no lote atual.\n",
    "        lista_doctos = [docto['title'] + ' ' + docto['text'] for docto in parm_sentences[ndx*parm_batch_size:ndx*parm_batch_size+parm_batch_size]]\n",
    "        # Chama a função que gera a expansão de subpalavras      \n",
    "        expansoes_batch = retorna_subword_importante(parm_model=parm_model, parm_tokenizer=parm_tokenizer, parm_sentences=lista_doctos, parm_ind_agg=parm_ind_agg)\n",
    "        # Concatena as expansões geradas no lote atual com as expansões já armazenadas na matriz esparsa.\n",
    "        if expansoes is None:\n",
    "            expansoes = expansoes_batch\n",
    "        else:\n",
    "            expansoes = torch.cat( (expansoes, expansoes_batch), dim=0)\n",
    "        if ndx%10==0:\n",
    "            torch.cuda.empty_cache()\n",
    "        # Atualiza a barra de progresso.\n",
    "        pbar.update(n=1)\n",
    "        pbar.refresh()\n",
    "\n",
    "    # Exibe a mensagem indicando a quantidade de expansões geradas e retorna a matriz esparsa com as subpalavras importantes.\n",
    "    print(f\"Expansões geradas: shape {expansoes.shape}\")\n",
    "    return expansoes\n"
   ]
  },
  {
   "attachments": {},
   "cell_type": "markdown",
   "metadata": {},
   "source": [
    "## De busca"
   ]
  },
  {
   "cell_type": "code",
   "execution_count": 109,
   "metadata": {},
   "outputs": [],
   "source": [
    "def retorna_tensor_unitario_em_tokens(parm_tokenizer:BertTokenizer, parm_texto:str) -> torch.Tensor:\n",
    "    \"\"\"\n",
    "    Função que recebe um tokenizer e um parm_ e retorna um tensor com um único valor 1.0 em cada posição\n",
    "    correspondente aos tokens do texto.\n",
    "\n",
    "    :param parm_tokenizer: objeto BertTokenizer, responsável por tokenizar o texto\n",
    "    :type parm_tokenizer: BertTokenizer\n",
    "    :param texto: texto a ser tokenizado\n",
    "    :type texto: str\n",
    "    :return: tensor com um único valor 1.0 em cada posição correspondente aos tokens do texto\n",
    "    :rtype: torch.Tensor\n",
    "    \"\"\"\n",
    "    \n",
    "    assert isinstance(parm_texto, str) or ( isinstance(parm_texto, list) and  isinstance(parm_texto[0], str)   ) , f\"parm_texto deve ser str ou lista com uma string\"\n",
    "    # tokeniza o texto e obtém a lista de tokens\n",
    "    lista_tokens = parm_tokenizer(parm_texto,\n",
    "                                    add_special_tokens=False,\n",
    "                                    return_special_tokens_mask=False, \n",
    "                                    padding=False, \n",
    "                                    truncation=True,\n",
    "                                    max_length=tokenizer.max_len_single_sentence,\n",
    "                                    return_tensors='pt')['input_ids']\n",
    "    \n",
    "\n",
    "    # cria um tensor vazio com o tamanho do vocabulário\n",
    "    tensor = torch.zeros(parm_tokenizer.vocab_size, dtype=torch.float32)\n",
    "\n",
    "    # define os valores 1.0 nas posições correspondentes aos índices dos tokens na lista\n",
    "    tensor[lista_tokens] = 1.0\n",
    "\n",
    "    return tensor.squeeze()\n"
   ]
  },
  {
   "cell_type": "code",
   "execution_count": 110,
   "metadata": {},
   "outputs": [],
   "source": [
    "def run_all_queries_busca_exaustiva(parm_model:BertForMaskedLM,\n",
    "                                    parm_tokenizer:BertTokenizer, \n",
    "                                    parm_dict_queries:{},\n",
    "                                    parm_corpus_expanded, \n",
    "                                    parm_lista_doc_id_passage:list,\n",
    "                                    parm_num_max_hits:int=1000,\n",
    "                                    parm_se_query_expansion:bool=False,\n",
    "                                    parm_ind_agg_se_query_expansion:str=None):\n",
    "    assert parm_ind_agg_se_query_expansion and parm_se_query_expansion or not parm_se_query_expansion, \\\n",
    "        f\"se parm_se_query_expansion {parm_se_query_expansion} for True, deve-se informar parm_ind_agg_se_query_expansion {parm_ind_agg_se_query_expansion}\"\n",
    "    tempos = []\n",
    "    with open(CAMINHO_RUN, 'w') as runfile:\n",
    "        for cnt, (query_id, value) in enumerate(parm_dict_queries.items()):\n",
    "            # print(id, value)\n",
    "            tempo_inicio = time.time()\n",
    "            if parm_se_query_expansion:\n",
    "                query_scores = retorna_subword_importante(parm_model=parm_model,\n",
    "                                                parm_tokenizer=parm_tokenizer,\n",
    "                                                parm_sentences=[value['question']], \n",
    "                                                parm_ind_agg=parm_ind_agg_se_query_expansion).to_dense().squeeze()\n",
    "            else:\n",
    "                query_scores = retorna_tensor_unitario_em_tokens(parm_tokenizer, value['question'])\n",
    "\n",
    "            # Pega os primeiros 1000 resultados\n",
    "            score = torch.matmul(parm_corpus_expanded, query_scores)\n",
    "            # Ordena\n",
    "            sorted_score, indices_score = torch.sort(score, descending=True)\n",
    "\n",
    "            # parm_num_max_hits primeiros\n",
    "            sorted_score = sorted_score[0:parm_num_max_hits]\n",
    "            indices_score = indices_score[0:parm_num_max_hits]\n",
    "\n",
    "            if cnt % 5 == 0:\n",
    "                print(f'{cnt} queries completadas')\n",
    "\n",
    "            # ids dos documentos\n",
    "            ids_docs = [parm_lista_doc_id_passage[i] for i in indices_score]\n",
    "\n",
    "            tempos.append(time.time() - tempo_inicio)\n",
    "\n",
    "            #  query  q0     docid  rank     score    descr    \n",
    "            for i, (id_doc, score) in enumerate(zip(ids_docs, sorted_score)):\n",
    "                texto_docto = f'{query_id} Q0 {id_doc} {i+1} {float(score):.6f} Pesquisa\\n'\n",
    "                _ = runfile.write(texto_docto)\n",
    "    return tempos\n",
    "                "
   ]
  },
  {
   "attachments": {},
   "cell_type": "markdown",
   "metadata": {},
   "source": [
    "## Validando função a partir dos experimentos"
   ]
  },
  {
   "cell_type": "code",
   "execution_count": 111,
   "metadata": {},
   "outputs": [],
   "source": [
    "expansao = retorna_subword_importante(model, tokenizer, sentences_test,'max')"
   ]
  },
  {
   "cell_type": "code",
   "execution_count": 112,
   "metadata": {},
   "outputs": [
    {
     "data": {
      "text/plain": [
       "(torch.Size([123]), torch.Size([123]))"
      ]
     },
     "execution_count": 112,
     "metadata": {},
     "output_type": "execute_result"
    }
   ],
   "source": [
    "expansao._values().shape, wj_max_sparse._values().shape"
   ]
  },
  {
   "cell_type": "code",
   "execution_count": 113,
   "metadata": {},
   "outputs": [
    {
     "data": {
      "text/plain": [
       "tensor([3.3765e-01, 6.8221e-01, 1.5982e+00, 5.0857e-02, 9.4812e-01, 3.5866e-01,\n",
       "        4.8299e-01, 1.1775e+00, 2.9630e-01, 1.3672e-01, 7.5528e-01, 4.6717e-01,\n",
       "        1.1937e-01, 2.1403e-01, 2.0454e-01, 2.5286e-01, 4.5247e-02, 1.0496e-01,\n",
       "        1.0644e-01, 1.6179e-01, 4.3446e-02, 1.0081e-01, 4.1281e-01, 4.8925e-01,\n",
       "        5.7536e-01, 1.9165e-01, 4.2052e-01, 3.6059e-01, 3.3028e-01, 4.5783e-02,\n",
       "        7.9688e-02, 8.9580e-02, 7.0697e-02, 3.7899e-03, 5.3535e-01, 2.8417e-01,\n",
       "        2.6173e-02, 4.0734e-01, 1.5950e+00, 2.7536e-01, 6.8446e-02, 1.3489e+00,\n",
       "        1.5299e-02, 1.1615e+00, 1.5816e-01, 3.1976e-01, 2.1513e-01, 3.0995e-03,\n",
       "        1.0105e-02, 8.8060e-01, 2.0546e-01, 7.6037e-02, 5.6824e-01, 1.0535e-01,\n",
       "        1.2577e+00, 2.2530e-01, 1.8002e-01, 3.2390e-02, 1.0712e-01, 9.5720e-05,\n",
       "        5.7925e-01, 5.3655e-02, 1.7398e-01, 2.3948e+00, 1.0933e+00, 3.1051e-01,\n",
       "        2.0591e+00, 4.5885e-01, 6.9909e-02, 1.0345e-01, 6.5284e-02, 7.1823e-01,\n",
       "        6.4278e-02, 1.3465e+00, 1.4859e+00, 2.3125e-02, 1.1274e-01, 1.0177e-01,\n",
       "        1.8514e-01, 4.4495e-01, 2.0234e-01, 7.9914e-03, 6.0099e-02, 1.6038e-01,\n",
       "        1.7059e-01, 1.9380e-01, 6.6001e-02, 3.0869e-01, 6.8181e-02, 8.9910e-01,\n",
       "        4.1734e-01, 4.5196e-01, 3.5879e-01, 3.9565e-01, 5.7059e-01, 5.9911e-02,\n",
       "        1.8197e-01, 3.0517e-01, 6.3790e-01, 2.6121e-01, 9.2732e-03, 1.6598e-01,\n",
       "        2.8045e-01, 6.9186e-01, 1.4919e+00, 2.5387e-01, 6.3176e-01, 9.1688e-02,\n",
       "        2.4171e-02, 3.1174e-01, 1.1770e+00, 6.2285e-02, 1.3529e+00, 1.5620e+00,\n",
       "        2.3288e-01, 1.1482e-01, 1.6596e+00, 2.0423e-01, 1.8603e+00, 2.4374e+00,\n",
       "        3.4356e-01, 1.5201e-01, 1.3502e-01])"
      ]
     },
     "execution_count": 113,
     "metadata": {},
     "output_type": "execute_result"
    }
   ],
   "source": [
    "expansao._values()"
   ]
  },
  {
   "cell_type": "code",
   "execution_count": 114,
   "metadata": {},
   "outputs": [
    {
     "data": {
      "text/plain": [
       "tensor([3.3765e-01, 6.8221e-01, 1.5982e+00, 5.0857e-02, 9.4812e-01, 3.5866e-01,\n",
       "        4.8299e-01, 1.1775e+00, 2.9630e-01, 1.3672e-01, 7.5528e-01, 4.6717e-01,\n",
       "        1.1937e-01, 2.1403e-01, 2.0454e-01, 2.5286e-01, 4.5247e-02, 1.0496e-01,\n",
       "        1.0644e-01, 1.6179e-01, 4.3446e-02, 1.0081e-01, 4.1281e-01, 4.8925e-01,\n",
       "        5.7536e-01, 1.9165e-01, 4.2052e-01, 3.6059e-01, 3.3028e-01, 4.5783e-02,\n",
       "        7.9688e-02, 8.9580e-02, 7.0697e-02, 3.7899e-03, 5.3535e-01, 2.8417e-01,\n",
       "        2.6173e-02, 4.0734e-01, 1.5950e+00, 2.7536e-01, 6.8446e-02, 1.3489e+00,\n",
       "        1.5299e-02, 1.1615e+00, 1.5816e-01, 3.1976e-01, 2.1513e-01, 3.0995e-03,\n",
       "        1.0105e-02, 8.8060e-01, 2.0546e-01, 7.6037e-02, 5.6824e-01, 1.0535e-01,\n",
       "        1.2577e+00, 2.2530e-01, 1.8002e-01, 3.2390e-02, 1.0712e-01, 9.5720e-05,\n",
       "        5.7925e-01, 5.3655e-02, 1.7398e-01, 2.3948e+00, 1.0933e+00, 3.1051e-01,\n",
       "        2.0591e+00, 4.5885e-01, 6.9909e-02, 1.0345e-01, 6.5284e-02, 7.1823e-01,\n",
       "        6.4278e-02, 1.3465e+00, 1.4859e+00, 2.3125e-02, 1.1274e-01, 1.0177e-01,\n",
       "        1.8514e-01, 4.4495e-01, 2.0234e-01, 7.9914e-03, 6.0099e-02, 1.6038e-01,\n",
       "        1.7059e-01, 1.9380e-01, 6.6001e-02, 3.0869e-01, 6.8181e-02, 8.9910e-01,\n",
       "        4.1734e-01, 4.5196e-01, 3.5879e-01, 3.9565e-01, 5.7059e-01, 5.9911e-02,\n",
       "        1.8197e-01, 3.0517e-01, 6.3790e-01, 2.6121e-01, 9.2732e-03, 1.6598e-01,\n",
       "        2.8045e-01, 6.9186e-01, 1.4919e+00, 2.5387e-01, 6.3176e-01, 9.1688e-02,\n",
       "        2.4171e-02, 3.1174e-01, 1.1770e+00, 6.2285e-02, 1.3529e+00, 1.5620e+00,\n",
       "        2.3288e-01, 1.1482e-01, 1.6596e+00, 2.0423e-01, 1.8603e+00, 2.4374e+00,\n",
       "        3.4356e-01, 1.5201e-01, 1.3502e-01])"
      ]
     },
     "execution_count": 114,
     "metadata": {},
     "output_type": "execute_result"
    }
   ],
   "source": [
    "wj_max_sparse._values()"
   ]
  },
  {
   "cell_type": "code",
   "execution_count": 115,
   "metadata": {},
   "outputs": [
    {
     "data": {
      "text/plain": [
       "True"
      ]
     },
     "execution_count": 115,
     "metadata": {},
     "output_type": "execute_result"
    }
   ],
   "source": [
    "torch.allclose(wj_max_sparse._values(), expansao._values(), 1e-3)"
   ]
  },
  {
   "cell_type": "code",
   "execution_count": 116,
   "metadata": {},
   "outputs": [],
   "source": [
    "expansao = retorna_subword_importante(model, tokenizer, sentences_test,'sum')"
   ]
  },
  {
   "cell_type": "code",
   "execution_count": 117,
   "metadata": {},
   "outputs": [
    {
     "data": {
      "text/plain": [
       "(torch.Size([123]), torch.Size([123]))"
      ]
     },
     "execution_count": 117,
     "metadata": {},
     "output_type": "execute_result"
    }
   ],
   "source": [
    "expansao._values().shape, wj_sum_sparse._values().shape"
   ]
  },
  {
   "cell_type": "code",
   "execution_count": 118,
   "metadata": {},
   "outputs": [
    {
     "data": {
      "text/plain": [
       "True"
      ]
     },
     "execution_count": 118,
     "metadata": {},
     "output_type": "execute_result"
    }
   ],
   "source": [
    "torch.allclose(wj_sum_sparse._values(), expansao._values(), 1e-3)"
   ]
  },
  {
   "cell_type": "code",
   "execution_count": 119,
   "metadata": {},
   "outputs": [
    {
     "name": "stdout",
     "output_type": "stream",
     "text": [
      "{0: {'text': 'He likes to eat pizza in the pizza hut.', 'list_tokens_expanded': ['the', 'in', 'he', 'on', 'his', 'at', 'him', 'like', 'do', 'don', 'want', 'club', 'party', 'wanted', 'son', 'himself', 'play', 'park', 'brother', 'mouth', 'mr', 'friend', 'style', 'food', 'character', 'guy', 'hotel', 'bar', 'actor', 'please', 'store', 'chris', 'kitchen', 'dog', 'visit', 'wearing', 'brand', 'shop', 'eat', 'bowl', 'mix', 'liked', 'factory', 'restaurant', 'beer', 'favorite', 'fan', 'cousin', 'fred', 'eating', 'meat', 'bite', 'preferred', 'cafe', 'likes', 'restaurants', 'diet', 'cheese', 'booth', 'mcdonald', 'prefer', 'dish', 'chef', 'pizza', 'pie', 'sandwich', 'hut', 'burger', 'dislike', 'snack']}, 1: {'text': 'So many sentences are transformed in just a summary.', 'list_tokens_expanded': ['in', 'so', 'more', 'just', 'many', 'too', 'few', 'book', 'often', 'story', 'total', 'science', 'thomas', 'word', 'whole', 'changed', 'read', 'writer', 'numerous', 'complex', 'simply', 'multiple', 'simple', 'reading', 'text', 'split', 'message', 'difference', 'literary', 'multi', 'communication', 'reform', 'translation', 'pages', 'sentence', 'modified', 'description', 'justin', 'madison', 'rev', 'sum', '##bility', 'transformed', 'transformation', 'reflection', 'essay', 'transform', 'citation', 'sentences', 'summary', 'quote', 'paragraph', 'transforms']}}\n"
     ]
    }
   ],
   "source": [
    "dict_retorno = retorna_tokens_expansao(expansao, tokenizer,sentences_test)\n",
    "print(dict_retorno)\n"
   ]
  },
  {
   "attachments": {},
   "cell_type": "markdown",
   "metadata": {},
   "source": [
    "# Expandindo documentos"
   ]
  },
  {
   "attachments": {},
   "cell_type": "markdown",
   "metadata": {},
   "source": [
    "#### Um subconjunto para testar"
   ]
  },
  {
   "cell_type": "code",
   "execution_count": 165,
   "metadata": {},
   "outputs": [
    {
     "name": "stderr",
     "output_type": "stream",
     "text": [
      "100%|██████████| 16/16 [00:01<00:00, 11.20it/s]\n"
     ]
    },
    {
     "name": "stdout",
     "output_type": "stream",
     "text": [
      "Expansões geradas: shape torch.Size([1024, 30522])\n",
      "CPU times: user 12.1 s, sys: 1.78 s, total: 13.9 s\n",
      "Wall time: 1.43 s\n"
     ]
    }
   ],
   "source": [
    "%%time\n",
    "corpus_expanded = expande_corpus(parm_model=model,\n",
    "                   parm_tokenizer=tokenizer, \n",
    "                   parm_sentences=corpus[:1024],\n",
    "                   parm_batch_size=64,\n",
    "                   parm_ind_agg='max')"
   ]
  },
  {
   "cell_type": "code",
   "execution_count": 166,
   "metadata": {},
   "outputs": [
    {
     "data": {
      "text/plain": [
       "1024"
      ]
     },
     "execution_count": 166,
     "metadata": {},
     "output_type": "execute_result"
    }
   ],
   "source": [
    "len(corpus_expanded)"
   ]
  },
  {
   "cell_type": "code",
   "execution_count": 167,
   "metadata": {},
   "outputs": [],
   "source": [
    "lista_doctos = [docto['title'] + ' ' + docto['text'] for docto in corpus[:1024]]"
   ]
  },
  {
   "cell_type": "code",
   "execution_count": 168,
   "metadata": {},
   "outputs": [
    {
     "name": "stdout",
     "output_type": "stream",
     "text": [
      "{'text': ' ', 'list_tokens_expanded': [':', 'a', 'e', 'the', 'is', 'this', 'they', 'one', 'hand', 'company', 'government', 'international', 'british', 'army', 'association', 'george', 'police', 'event', 'thomas', 'germany', 'china', 'henry', 'technology', 'organization', 'smith', 'collection', 'martin', 'computer', '##ation', '##tion', 'alexander', 'daniel', 'steve', 'founder', 'agency', 'website', 'alex', 'simon', 'nick', 'adam', 'harry', 'brian', 'davis', 'lane', 'category', 'ian', 'albert', 'communication', 'dave', 'charlie', 'roger', 'device', 'gordon', 'kelly', 'jordan', 'clark', 'agriculture', 'morgan', 'bond', 'finance', 'carl', 'gary', 'strategy', 'carter', 'russell', 'ross', 'marshall', 'graham', 'nelson', 'charity', 'stewart', 'fred', 'roy', 'jerry', 'stanley', 'definition', 'jacob', 'parker', 'helen', 'benjamin', 'julian', 'foster', 'terry', 'marcus', 'warner', 'turner', 'justin', 'perry', 'lucy', 'craig', 'spencer', 'nathan', 'owen', 'hart', 'kyle', 'mars', 'arnold', 'regulation', 'merit', 'holland', 'specialist', 'garrison', 'preston', 'recreation', 'hammer', 'fisher', 'palmer', 'slavery', 'bailey', 'casey', 'griffin', 'portal', 'gavin', 'chad', 'beck', 'sherman', 'dana', 'ryder', 'bug', 'levi', 'bart', 'marty', 'buzz', 'hawkins', 'lilly', 'merlin', 'ariel', 'haley', 'irwin', 'abbreviation']}\n"
     ]
    }
   ],
   "source": [
    "dict_retorno = retorna_tokens_expansao(corpus_expanded,\n",
    "                                       tokenizer, \n",
    "                                       lista_doctos)\n",
    "print(dict_retorno[0])"
   ]
  },
  {
   "attachments": {},
   "cell_type": "markdown",
   "metadata": {},
   "source": [
    " ### Expandindo todo o corpus  \"naver/splade-cocondenser-ensembledistil\""
   ]
  },
  {
   "attachments": {},
   "cell_type": "markdown",
   "metadata": {},
   "source": [
    "Tempo para inferência/espansão:\n",
    "\n",
    "        Sem ordenar e batch_size 64\n",
    "                max: 2h55 175m\n",
    "                sum: 2h56 176m\n",
    "\n",
    "        Ordenando por tamanho de texto e batch_size 128\n",
    "                max: 1h49 109m\n",
    "\n",
    "        Usando gpu para sum/max nos logitos\n",
    "        (e ordenando por tamanho de texto e batch_size 64)\n",
    "                sum: 25min\n",
    "\n",
    "\n"
   ]
  },
  {
   "attachments": {},
   "cell_type": "markdown",
   "metadata": {},
   "source": [
    "#### MAX"
   ]
  },
  {
   "cell_type": "code",
   "execution_count": 170,
   "metadata": {},
   "outputs": [],
   "source": [
    "# Limpa o cache da memória da GPU\n",
    "torch.cuda.empty_cache()"
   ]
  },
  {
   "cell_type": "code",
   "execution_count": 174,
   "metadata": {},
   "outputs": [
    {
     "name": "stderr",
     "output_type": "stream",
     "text": [
      "100%|██████████| 1339/1339 [1:49:06<00:00,  4.89s/it]"
     ]
    },
    {
     "name": "stdout",
     "output_type": "stream",
     "text": [
      "Expansões geradas: shape torch.Size([171332, 30522])\n",
      "CPU times: user 6h 45min 4s, sys: 2h 40min 39s, total: 9h 25min 44s\n",
      "Wall time: 1h 49min 6s\n"
     ]
    },
    {
     "name": "stderr",
     "output_type": "stream",
     "text": [
      "\n"
     ]
    }
   ],
   "source": [
    "%%time\n",
    "corpus_expanded = expande_corpus(parm_model=model,\n",
    "                   parm_tokenizer=tokenizer, \n",
    "                   parm_sentences=corpus,\n",
    "                   parm_batch_size=128,\n",
    "                   parm_ind_agg='max') "
   ]
  },
  {
   "cell_type": "code",
   "execution_count": 125,
   "metadata": {},
   "outputs": [],
   "source": [
    "# Limpa o cache da memória da GPU\n",
    "torch.cuda.empty_cache()"
   ]
  },
  {
   "cell_type": "code",
   "execution_count": 188,
   "metadata": {},
   "outputs": [],
   "source": [
    "with open(CAMINHO_ARQUIVO_EXPANSAO_MAX, 'wb') as outputFile:\n",
    "    pickle.dump(corpus_expanded, outputFile, pickle.HIGHEST_PROTOCOL)"
   ]
  },
  {
   "attachments": {},
   "cell_type": "markdown",
   "metadata": {},
   "source": [
    "#### SUM"
   ]
  },
  {
   "cell_type": "code",
   "execution_count": 120,
   "metadata": {},
   "outputs": [
    {
     "name": "stdout",
     "output_type": "stream",
     "text": [
      "Your runtime RAM in gb: \n",
      " total 67.35\n",
      " available 52.27\n",
      " used 13.84\n",
      " free 41.13\n",
      " cached 10.78\n",
      " buffers 1.59\n",
      "/nGPU\n",
      "Tue Apr 25 16:19:53 2023       \n",
      "+-----------------------------------------------------------------------------+\n",
      "| NVIDIA-SMI 510.39.01    Driver Version: 510.39.01    CUDA Version: 11.6     |\n",
      "|-------------------------------+----------------------+----------------------+\n",
      "| GPU  Name        Persistence-M| Bus-Id        Disp.A | Volatile Uncorr. ECC |\n",
      "| Fan  Temp  Perf  Pwr:Usage/Cap|         Memory-Usage | GPU-Util  Compute M. |\n",
      "|                               |                      |               MIG M. |\n",
      "|===============================+======================+======================|\n",
      "|   0  NVIDIA GeForce ...  On   | 00000000:02:00.0 Off |                  N/A |\n",
      "| 59%   54C    P2   122W / 370W |   1565MiB / 24576MiB |      0%      Default |\n",
      "|                               |                      |                  N/A |\n",
      "+-------------------------------+----------------------+----------------------+\n",
      "                                                                               \n",
      "+-----------------------------------------------------------------------------+\n",
      "| Processes:                                                                  |\n",
      "|  GPU   GI   CI        PID   Type   Process name                  GPU Memory |\n",
      "|        ID   ID                                                   Usage      |\n",
      "|=============================================================================|\n",
      "|    0   N/A  N/A      1245      G   /usr/lib/xorg/Xorg                 46MiB |\n",
      "|    0   N/A  N/A      1384      G   /usr/bin/gnome-shell                9MiB |\n",
      "|    0   N/A  N/A    297628      C   ...treinapython39/bin/python     1505MiB |\n",
      "+-----------------------------------------------------------------------------+\n"
     ]
    }
   ],
   "source": [
    "mostra_memoria(['cpu','gpu'])"
   ]
  },
  {
   "cell_type": "code",
   "execution_count": 121,
   "metadata": {},
   "outputs": [
    {
     "name": "stderr",
     "output_type": "stream",
     "text": [
      "100%|██████████| 2678/2678 [25:04<00:00,  1.78it/s]"
     ]
    },
    {
     "name": "stdout",
     "output_type": "stream",
     "text": [
      "Expansões geradas: shape torch.Size([171332, 30522])\n",
      "CPU times: user 1h 33min 16s, sys: 5min 54s, total: 1h 39min 11s\n",
      "Wall time: 25min 4s\n"
     ]
    },
    {
     "name": "stderr",
     "output_type": "stream",
     "text": [
      "\n"
     ]
    }
   ],
   "source": [
    "%%time\n",
    "corpus_expanded = expande_corpus(parm_model=model,\n",
    "                   parm_tokenizer=tokenizer, \n",
    "                   parm_sentences=corpus,\n",
    "                   parm_batch_size=64,\n",
    "                   parm_ind_agg='sum') "
   ]
  },
  {
   "cell_type": "code",
   "execution_count": null,
   "metadata": {},
   "outputs": [
    {
     "name": "stdout",
     "output_type": "stream",
     "text": [
      "Your runtime RAM in gb: \n",
      " total 67.35\n",
      " available 42.16\n",
      " used 23.98\n",
      " free 21.36\n",
      " cached 20.62\n",
      " buffers 1.39\n",
      "/nGPU\n",
      "Sun Apr 23 23:51:39 2023       \n",
      "+-----------------------------------------------------------------------------+\n",
      "| NVIDIA-SMI 510.39.01    Driver Version: 510.39.01    CUDA Version: 11.6     |\n",
      "|-------------------------------+----------------------+----------------------+\n",
      "| GPU  Name        Persistence-M| Bus-Id        Disp.A | Volatile Uncorr. ECC |\n",
      "| Fan  Temp  Perf  Pwr:Usage/Cap|         Memory-Usage | GPU-Util  Compute M. |\n",
      "|                               |                      |               MIG M. |\n",
      "|===============================+======================+======================|\n",
      "|   0  NVIDIA GeForce ...  On   | 00000000:02:00.0 Off |                  N/A |\n",
      "| 82%   69C    P2   172W / 370W |  19022MiB / 24576MiB |      0%      Default |\n",
      "|                               |                      |                  N/A |\n",
      "+-------------------------------+----------------------+----------------------+\n",
      "                                                                               \n",
      "+-----------------------------------------------------------------------------+\n",
      "| Processes:                                                                  |\n",
      "|  GPU   GI   CI        PID   Type   Process name                  GPU Memory |\n",
      "|        ID   ID                                                   Usage      |\n",
      "|=============================================================================|\n",
      "|    0   N/A  N/A      1245      G   /usr/lib/xorg/Xorg                 46MiB |\n",
      "|    0   N/A  N/A      1384      G   /usr/bin/gnome-shell                9MiB |\n",
      "|    0   N/A  N/A     53767      C   .../relevar-busca/bin/python    11453MiB |\n",
      "|    0   N/A  N/A    209856      C   ...treinapython39/bin/python     7509MiB |\n",
      "+-----------------------------------------------------------------------------+\n"
     ]
    }
   ],
   "source": [
    "mostra_memoria(['cpu','gpu'])"
   ]
  },
  {
   "cell_type": "code",
   "execution_count": 122,
   "metadata": {},
   "outputs": [
    {
     "data": {
      "text/plain": [
       "171332"
      ]
     },
     "execution_count": 122,
     "metadata": {},
     "output_type": "execute_result"
    }
   ],
   "source": [
    "len(corpus_expanded)"
   ]
  },
  {
   "cell_type": "code",
   "execution_count": 123,
   "metadata": {},
   "outputs": [
    {
     "data": {
      "text/plain": [
       "torch.Size([171332, 30522])"
      ]
     },
     "execution_count": 123,
     "metadata": {},
     "output_type": "execute_result"
    }
   ],
   "source": [
    "corpus_expanded.shape"
   ]
  },
  {
   "cell_type": "code",
   "execution_count": 125,
   "metadata": {},
   "outputs": [],
   "source": [
    "with open(CAMINHO_ARQUIVO_EXPANSAO_SUM, 'wb') as outputFile:\n",
    "    pickle.dump(corpus_expanded, outputFile, pickle.HIGHEST_PROTOCOL)"
   ]
  },
  {
   "attachments": {},
   "cell_type": "markdown",
   "metadata": {},
   "source": [
    "#### Comparando memória corpus esparso x contíguo "
   ]
  },
  {
   "cell_type": "code",
   "execution_count": 126,
   "metadata": {},
   "outputs": [],
   "source": [
    "corpus_expanded_exparse = corpus_expanded.to_sparse()"
   ]
  },
  {
   "cell_type": "code",
   "execution_count": 133,
   "metadata": {},
   "outputs": [],
   "source": [
    "# calcula o tamanho em bytes do tensor esparso\n",
    "mem_vetor_esparso = corpus_expanded_exparse.element_size() * \\\n",
    "                        corpus_expanded_exparse._nnz()  "
   ]
  },
  {
   "cell_type": "code",
   "execution_count": 134,
   "metadata": {},
   "outputs": [],
   "source": [
    "# calcula o tamanho em bytes do tensor contíguo\n",
    "mem_vetor_contiguo = corpus_expanded_exparse.element_size() * \\\n",
    "    corpus_expanded_exparse.numel()  # calcula o tamanho em bytes do tensor esparso"
   ]
  },
  {
   "cell_type": "code",
   "execution_count": 135,
   "metadata": {},
   "outputs": [
    {
     "name": "stdout",
     "output_type": "stream",
     "text": [
      "Memória vetor esparso 122804796 x contíguo 20917581216 0.587%\n"
     ]
    }
   ],
   "source": [
    "print(f\"Memória vetor esparso {mem_vetor_esparso} x contíguo {mem_vetor_contiguo} {round(100*mem_vetor_esparso/mem_vetor_contiguo,3)}%\")"
   ]
  },
  {
   "attachments": {},
   "cell_type": "markdown",
   "metadata": {},
   "source": [
    "Economia: 122 mb x 20 gb (0,587%)"
   ]
  },
  {
   "attachments": {},
   "cell_type": "markdown",
   "metadata": {},
   "source": [
    "# Realizando as buscas "
   ]
  },
  {
   "cell_type": "code",
   "execution_count": 171,
   "metadata": {},
   "outputs": [],
   "source": [
    "lista_resultados = []"
   ]
  },
  {
   "attachments": {},
   "cell_type": "markdown",
   "metadata": {},
   "source": [
    "## Model  \"naver/splade-cocondenser-ensembledistil\""
   ]
  },
  {
   "cell_type": "code",
   "execution_count": 172,
   "metadata": {},
   "outputs": [],
   "source": [
    "nome_modelo = \"naver/splade-cocondenser-ensembledistil\""
   ]
  },
  {
   "attachments": {},
   "cell_type": "markdown",
   "metadata": {},
   "source": [
    "### Ind_agg = max"
   ]
  },
  {
   "cell_type": "code",
   "execution_count": 173,
   "metadata": {},
   "outputs": [],
   "source": [
    "ind_agg = 'max'"
   ]
  },
  {
   "attachments": {},
   "cell_type": "markdown",
   "metadata": {},
   "source": [
    "Lendo os dados salvos"
   ]
  },
  {
   "cell_type": "code",
   "execution_count": 174,
   "metadata": {},
   "outputs": [],
   "source": [
    "with open(CAMINHO_ARQUIVO_EXPANSAO_MAX, \"rb\") as f:\n",
    "  corpus_expanded = pickle.load(f)"
   ]
  },
  {
   "cell_type": "code",
   "execution_count": 175,
   "metadata": {},
   "outputs": [
    {
     "data": {
      "text/plain": [
       "510"
      ]
     },
     "execution_count": 175,
     "metadata": {},
     "output_type": "execute_result"
    }
   ],
   "source": [
    "tokenizer.max_len_single_sentence"
   ]
  },
  {
   "attachments": {},
   "cell_type": "markdown",
   "metadata": {},
   "source": [
    "#### Com expansão para query"
   ]
  },
  {
   "cell_type": "code",
   "execution_count": 176,
   "metadata": {},
   "outputs": [],
   "source": [
    "se_expande_query = 'S'"
   ]
  },
  {
   "cell_type": "code",
   "execution_count": 177,
   "metadata": {},
   "outputs": [
    {
     "name": "stdout",
     "output_type": "stream",
     "text": [
      "0 queries completadas\n",
      "5 queries completadas\n",
      "10 queries completadas\n",
      "15 queries completadas\n",
      "20 queries completadas\n",
      "25 queries completadas\n",
      "30 queries completadas\n",
      "35 queries completadas\n",
      "40 queries completadas\n",
      "45 queries completadas\n",
      "CPU times: user 2min 1s, sys: 1.31 s, total: 2min 3s\n",
      "Wall time: 21.5 s\n"
     ]
    }
   ],
   "source": [
    "%%time\n",
    "tempo_gasto = run_all_queries_busca_exaustiva(parm_model=model,\n",
    "                                    parm_tokenizer=tokenizer, \n",
    "                                    parm_dict_queries=topics,\n",
    "                                    parm_corpus_expanded=corpus_expanded, \n",
    "                                    parm_lista_doc_id_passage=lista_doc_id_passage,\n",
    "                                    parm_num_max_hits=1000,\n",
    "                                    parm_se_query_expansion= (se_expande_query == 'S'),\n",
    "                                    parm_ind_agg_se_query_expansion='max')"
   ]
  },
  {
   "cell_type": "code",
   "execution_count": 178,
   "metadata": {},
   "outputs": [
    {
     "data": {
      "text/plain": [
       "count    50.0000000\n",
       "mean      0.4272591\n",
       "std       0.0259906\n",
       "min       0.3987362\n",
       "25%       0.4064723\n",
       "50%       0.4187454\n",
       "75%       0.4349654\n",
       "max       0.4964068\n",
       "Name: tempo_gasto, Length: 8, dtype: float64"
      ]
     },
     "execution_count": 178,
     "metadata": {},
     "output_type": "execute_result"
    }
   ],
   "source": [
    "df_tempos = pd.DataFrame({'tempo_gasto': tempo_gasto})\n",
    "df_tempos['tempo_gasto'].describe()"
   ]
  },
  {
   "cell_type": "code",
   "execution_count": 179,
   "metadata": {},
   "outputs": [
    {
     "data": {
      "image/png": "[encoded data removed]",
      "text/plain": [
       "<Figure size 640x480 with 1 Axes>"
      ]
     },
     "metadata": {},
     "output_type": "display_data"
    }
   ],
   "source": [
    "# Calculando média e mediana\n",
    "media = df_tempos['tempo_gasto'].mean()\n",
    "mediana = df_tempos['tempo_gasto'].median()\n",
    "\n",
    "# Plotando gráfico\n",
    "fig, ax = plt.subplots()\n",
    "ax.hist(df_tempos['tempo_gasto'], bins=50, color='blue', alpha=0.5)\n",
    "ax.axvline(media, color='red', linestyle='dashed', linewidth=2, label=f'Média = {media:.2f}')\n",
    "ax.axvline(mediana, color='green', linestyle='dashed', linewidth=2, label=f'Mediana = {mediana:.2f}')\n",
    "ax.set_xlabel('Tempo (s)')\n",
    "ax.set_ylabel('Frequência')\n",
    "ax.set_title('Distribuição de Tempos de Execução')\n",
    "ax.legend()\n",
    "plt.show()"
   ]
  },
  {
   "attachments": {},
   "cell_type": "markdown",
   "metadata": {},
   "source": [
    "### Avaliação"
   ]
  },
  {
   "cell_type": "code",
   "execution_count": 180,
   "metadata": {},
   "outputs": [],
   "source": [
    "trec_eval = load(\"trec_eval\")"
   ]
  },
  {
   "cell_type": "code",
   "execution_count": 181,
   "metadata": {},
   "outputs": [
    {
     "name": "stdout",
     "output_type": "stream",
     "text": [
      "   query  q0     docid  rank      score    system\n",
      "0     44  Q0  dt2pew66     1  24.055389  Pesquisa\n",
      "1     44  Q0  xfjexm5b     2  23.631655  Pesquisa\n",
      "2     44  Q0  uc37poce     3  23.174759  Pesquisa\n",
      "3     44  Q0  qi1henyy     4  23.142399  Pesquisa\n",
      "4     44  Q0  28utunid     5  22.774841  Pesquisa\n",
      "\n",
      "[5 rows x 6 columns]\n",
      "NDCG@10: 0.7260212954678066\n",
      "Resultados: {'runid': 'Pesquisa', 'num_ret': 50000, 'num_rel': 24673, 'num_rel_ret': 11254, 'num_q': 50, 'map': 0.24241753315490872, 'gm_map': 0.19588643405878825, 'bpref': 0.4011105144864846, 'Rprec': 0.33778603848880956, 'recip_rank': 0.9066666666666666, 'P@5': 0.8319999999999999, 'P@10': 0.7939999999999999, 'P@15': 0.7573333333333333, 'P@20': 0.7380000000000001, 'P@30': 0.7066666666666664, 'P@100': 0.5674, 'P@200': 0.4764, 'P@500': 0.32992, 'P@1000': 0.22508, 'NDCG@5': 0.7506267436752161, 'NDCG@10': 0.7260212954678066, 'NDCG@15': 0.7023106756448881, 'NDCG@20': 0.6876076631144069, 'NDCG@30': 0.6641181282470718, 'NDCG@100': 0.5453980089069416, 'NDCG@200': 0.4742355573204458, 'NDCG@500': 0.4333923123290586, 'NDCG@1000': 0.4855845876854544}\n"
     ]
    }
   ],
   "source": [
    "### Calculando métricas\n",
    "run = pd.read_csv(f\"{CAMINHO_RUN}\", sep=\"\\s+\", \n",
    "                names=[\"query\", \"q0\", \"docid\", \"rank\", \"score\", \"system\"])\n",
    "print(run.head())\n",
    "run = run.to_dict(orient=\"list\")\n",
    "results = trec_eval.compute(predictions=[run], references=[qrel_dict])\n",
    "\n",
    "# salvando métricas    \n",
    "print(f\"NDCG@10: {results['NDCG@10']}\")\n",
    "print(f\"Resultados: {results}\")\n"
   ]
  },
  {
   "cell_type": "code",
   "execution_count": 184,
   "metadata": {},
   "outputs": [],
   "source": [
    "lista_resultados.append(\n",
    "{'model': nome_modelo\n",
    " ,'ind_agg': ind_agg\n",
    " ,\"tempo_busca_por_query_media\": round(df_tempos['tempo_gasto'].describe()['mean'], 3)\n",
    " ,\"tempo_busca_por_query_std\": round(df_tempos['tempo_gasto'].describe()['std'], 3)\n",
    " ,\"se_expande_query\": se_expande_query\n",
    " ,\"ndcg\":round(100*results['NDCG@10'],2)})"
   ]
  },
  {
   "attachments": {},
   "cell_type": "markdown",
   "metadata": {},
   "source": [
    "Experimentando corpus esparso"
   ]
  },
  {
   "cell_type": "code",
   "execution_count": 154,
   "metadata": {},
   "outputs": [
    {
     "name": "stdout",
     "output_type": "stream",
     "text": [
      "0 queries completadas\n",
      "5 queries completadas\n",
      "10 queries completadas\n",
      "15 queries completadas\n",
      "20 queries completadas\n",
      "25 queries completadas\n",
      "30 queries completadas\n",
      "35 queries completadas\n",
      "40 queries completadas\n",
      "45 queries completadas\n",
      "CPU times: user 2min 1s, sys: 1.01 s, total: 2min 2s\n",
      "Wall time: 21.1 s\n"
     ]
    }
   ],
   "source": [
    "%%time\n",
    "tempo_gasto = run_all_queries_busca_exaustiva(parm_model=model,\n",
    "                                    parm_tokenizer=tokenizer, \n",
    "                                    parm_dict_queries=topics,\n",
    "                                    parm_corpus_expanded=corpus_expanded.to_sparse(), \n",
    "                                    parm_lista_doc_id_passage=lista_doc_id_passage,\n",
    "                                    parm_num_max_hits=1000,\n",
    "                                    parm_se_query_expansion= (se_expande_query == 'S'),\n",
    "                                    parm_ind_agg_se_query_expansion='max')"
   ]
  },
  {
   "cell_type": "code",
   "execution_count": 155,
   "metadata": {},
   "outputs": [
    {
     "data": {
      "text/plain": [
       "count    50.0000000\n",
       "mean      0.4208729\n",
       "std       0.0242925\n",
       "min       0.4006832\n",
       "25%       0.4061069\n",
       "50%       0.4098624\n",
       "75%       0.4214843\n",
       "max       0.5024984\n",
       "Name: tempo_gasto, Length: 8, dtype: float64"
      ]
     },
     "execution_count": 155,
     "metadata": {},
     "output_type": "execute_result"
    }
   ],
   "source": [
    "df_tempos = pd.DataFrame({'tempo_gasto': tempo_gasto})\n",
    "df_tempos['tempo_gasto'].describe()"
   ]
  },
  {
   "cell_type": "code",
   "execution_count": 159,
   "metadata": {},
   "outputs": [
    {
     "data": {
      "image/png": "[encoded data removed]",
      "text/plain": [
       "<Figure size 640x480 with 1 Axes>"
      ]
     },
     "metadata": {},
     "output_type": "display_data"
    }
   ],
   "source": [
    "# Calculando média e mediana\n",
    "media = df_tempos['tempo_gasto'].mean()\n",
    "mediana = df_tempos['tempo_gasto'].median()\n",
    "\n",
    "# Plotando gráfico\n",
    "fig, ax = plt.subplots()\n",
    "ax.hist(df_tempos['tempo_gasto'], bins=50, color='blue', alpha=0.5)\n",
    "ax.axvline(media, color='red', linestyle='dashed', linewidth=2, label=f'Média = {media:.2f}')\n",
    "ax.axvline(mediana, color='green', linestyle='dashed', linewidth=2, label=f'Mediana = {mediana:.2f}')\n",
    "ax.set_xlabel('Tempo (s)')\n",
    "ax.set_ylabel('Frequência')\n",
    "ax.set_title('Distribuição de Tempos de Execução')\n",
    "ax.legend()\n",
    "plt.show()"
   ]
  },
  {
   "attachments": {},
   "cell_type": "markdown",
   "metadata": {},
   "source": [
    "### Avaliação"
   ]
  },
  {
   "cell_type": "code",
   "execution_count": 160,
   "metadata": {},
   "outputs": [],
   "source": [
    "trec_eval = load(\"trec_eval\")"
   ]
  },
  {
   "cell_type": "code",
   "execution_count": 158,
   "metadata": {},
   "outputs": [
    {
     "name": "stdout",
     "output_type": "stream",
     "text": [
      "   query  q0     docid  rank      score    system\n",
      "0     44  Q0  dt2pew66     1  24.055389  Pesquisa\n",
      "1     44  Q0  xfjexm5b     2  23.631655  Pesquisa\n",
      "2     44  Q0  uc37poce     3  23.174759  Pesquisa\n",
      "3     44  Q0  qi1henyy     4  23.142399  Pesquisa\n",
      "4     44  Q0  28utunid     5  22.774841  Pesquisa\n",
      "\n",
      "[5 rows x 6 columns]\n",
      "NDCG@10: 0.7260212954678066\n",
      "Resultados: {'runid': 'Pesquisa', 'num_ret': 50000, 'num_rel': 24673, 'num_rel_ret': 11254, 'num_q': 50, 'map': 0.24241753315490872, 'gm_map': 0.19588643405878825, 'bpref': 0.4011105144864846, 'Rprec': 0.33778603848880956, 'recip_rank': 0.9066666666666666, 'P@5': 0.8319999999999999, 'P@10': 0.7939999999999999, 'P@15': 0.7573333333333333, 'P@20': 0.7380000000000001, 'P@30': 0.7066666666666664, 'P@100': 0.5674, 'P@200': 0.4764, 'P@500': 0.32992, 'P@1000': 0.22508, 'NDCG@5': 0.7506267436752161, 'NDCG@10': 0.7260212954678066, 'NDCG@15': 0.7023106756448881, 'NDCG@20': 0.6876076631144069, 'NDCG@30': 0.6641181282470718, 'NDCG@100': 0.5453980089069416, 'NDCG@200': 0.4742355573204458, 'NDCG@500': 0.4333923123290586, 'NDCG@1000': 0.4855845876854544}\n"
     ]
    }
   ],
   "source": [
    "### Calculando métricas\n",
    "run = pd.read_csv(f\"{CAMINHO_RUN}\", sep=\"\\s+\", \n",
    "                names=[\"query\", \"q0\", \"docid\", \"rank\", \"score\", \"system\"])\n",
    "print(run.head())\n",
    "run = run.to_dict(orient=\"list\")\n",
    "results = trec_eval.compute(predictions=[run], references=[qrel_dict])\n",
    "\n",
    "# salvando métricas    \n",
    "print(f\"NDCG@10: {results['NDCG@10']}\")\n",
    "print(f\"Resultados: {results}\")\n"
   ]
  },
  {
   "attachments": {},
   "cell_type": "markdown",
   "metadata": {},
   "source": [
    "Observação:\n",
    "        \n",
    "        Tempo gasto e os resultados na busca são os mesmos estando o corpus sendo esparso ou não"
   ]
  },
  {
   "attachments": {},
   "cell_type": "markdown",
   "metadata": {},
   "source": [
    "#### Sem expansão para query"
   ]
  },
  {
   "cell_type": "code",
   "execution_count": 185,
   "metadata": {},
   "outputs": [],
   "source": [
    "se_expande_query = 'N'"
   ]
  },
  {
   "cell_type": "code",
   "execution_count": 186,
   "metadata": {},
   "outputs": [
    {
     "name": "stdout",
     "output_type": "stream",
     "text": [
      "0 queries completadas\n",
      "5 queries completadas\n",
      "10 queries completadas\n",
      "15 queries completadas\n",
      "20 queries completadas\n",
      "25 queries completadas\n",
      "30 queries completadas\n",
      "35 queries completadas\n",
      "40 queries completadas\n",
      "45 queries completadas\n",
      "CPU times: user 1min 55s, sys: 1.28 s, total: 1min 56s\n",
      "Wall time: 20.4 s\n"
     ]
    }
   ],
   "source": [
    "%%time\n",
    "tempo_gasto = run_all_queries_busca_exaustiva(parm_model=model,\n",
    "                                    parm_tokenizer=tokenizer, \n",
    "                                    parm_dict_queries=topics,\n",
    "                                    parm_corpus_expanded=corpus_expanded, \n",
    "                                    parm_lista_doc_id_passage=lista_doc_id_passage,\n",
    "                                    parm_num_max_hits=1000,\n",
    "                                    parm_se_query_expansion= (se_expande_query == 'S'),\n",
    "                                    parm_ind_agg_se_query_expansion='max')"
   ]
  },
  {
   "cell_type": "code",
   "execution_count": 187,
   "metadata": {},
   "outputs": [
    {
     "data": {
      "text/plain": [
       "count    50.0000000\n",
       "mean      0.4056900\n",
       "std       0.0164022\n",
       "min       0.3862729\n",
       "25%       0.3933806\n",
       "50%       0.3992301\n",
       "75%       0.4128082\n",
       "max       0.4584446\n",
       "Name: tempo_gasto, Length: 8, dtype: float64"
      ]
     },
     "execution_count": 187,
     "metadata": {},
     "output_type": "execute_result"
    }
   ],
   "source": [
    "df_tempos = pd.DataFrame({'tempo_gasto': tempo_gasto})\n",
    "df_tempos['tempo_gasto'].describe()"
   ]
  },
  {
   "cell_type": "code",
   "execution_count": 188,
   "metadata": {},
   "outputs": [
    {
     "data": {
      "image/png": "[encoded data removed]",
      "text/plain": [
       "<Figure size 640x480 with 1 Axes>"
      ]
     },
     "metadata": {},
     "output_type": "display_data"
    }
   ],
   "source": [
    "# Calculando média e mediana\n",
    "media = df_tempos['tempo_gasto'].mean()\n",
    "mediana = df_tempos['tempo_gasto'].median()\n",
    "\n",
    "# Plotando gráfico\n",
    "fig, ax = plt.subplots()\n",
    "ax.hist(df_tempos['tempo_gasto'], bins=50, color='blue', alpha=0.5)\n",
    "ax.axvline(media, color='red', linestyle='dashed', linewidth=2, label=f'Média = {media:.2f}')\n",
    "ax.axvline(mediana, color='green', linestyle='dashed', linewidth=2, label=f'Mediana = {mediana:.2f}')\n",
    "ax.set_xlabel('Tempo (s)')\n",
    "ax.set_ylabel('Frequência')\n",
    "ax.set_title('Distribuição de Tempos de Execução')\n",
    "ax.legend()\n",
    "plt.show()"
   ]
  },
  {
   "attachments": {},
   "cell_type": "markdown",
   "metadata": {},
   "source": [
    "### Avaliação"
   ]
  },
  {
   "cell_type": "code",
   "execution_count": 189,
   "metadata": {},
   "outputs": [],
   "source": [
    "trec_eval = load(\"trec_eval\")"
   ]
  },
  {
   "cell_type": "code",
   "execution_count": 190,
   "metadata": {},
   "outputs": [
    {
     "name": "stdout",
     "output_type": "stream",
     "text": [
      "   query  q0     docid  rank     score    system\n",
      "0     44  Q0  cenc2u15     1  9.595710  Pesquisa\n",
      "1     44  Q0  1ogglaa3     2  8.957155  Pesquisa\n",
      "2     44  Q0  nd5xpk0t     3  8.828953  Pesquisa\n",
      "3     44  Q0  huxbyvfd     4  8.797318  Pesquisa\n",
      "4     44  Q0  qgp7ksq8     5  8.744766  Pesquisa\n",
      "\n",
      "[5 rows x 6 columns]\n",
      "NDCG@10: 0.5522002433136475\n",
      "Resultados: {'runid': 'Pesquisa', 'num_ret': 50000, 'num_rel': 24673, 'num_rel_ret': 8776, 'num_q': 50, 'map': 0.16047585483255036, 'gm_map': 0.0946669382661705, 'bpref': 0.31644928963981983, 'Rprec': 0.2534556924039131, 'recip_rank': 0.7975714285714284, 'P@5': 0.632, 'P@10': 0.5820000000000001, 'P@15': 0.5666666666666667, 'P@20': 0.551, 'P@30': 0.53, 'P@100': 0.42460000000000003, 'P@200': 0.3507, 'P@500': 0.24967999999999996, 'P@1000': 0.17552, 'NDCG@5': 0.599354961075709, 'NDCG@10': 0.5522002433136475, 'NDCG@15': 0.5321976384282212, 'NDCG@20': 0.5165088156954024, 'NDCG@30': 0.497064685832716, 'NDCG@100': 0.4089056741325964, 'NDCG@200': 0.3502988850596233, 'NDCG@500': 0.32733433239646226, 'NDCG@1000': 0.3727146513729512}\n"
     ]
    }
   ],
   "source": [
    "### Calculando métricas\n",
    "run = pd.read_csv(f\"{CAMINHO_RUN}\", sep=\"\\s+\", \n",
    "                names=[\"query\", \"q0\", \"docid\", \"rank\", \"score\", \"system\"])\n",
    "print(run.head())\n",
    "run = run.to_dict(orient=\"list\")\n",
    "results = trec_eval.compute(predictions=[run], references=[qrel_dict])\n",
    "\n",
    "# salvando métricas    \n",
    "print(f\"NDCG@10: {results['NDCG@10']}\")\n",
    "print(f\"Resultados: {results}\")\n"
   ]
  },
  {
   "cell_type": "code",
   "execution_count": 191,
   "metadata": {},
   "outputs": [],
   "source": [
    "lista_resultados.append(\n",
    "{'model': nome_modelo\n",
    " ,'ind_agg': ind_agg\n",
    " ,\"tempo_busca_por_query_media\": round(df_tempos['tempo_gasto'].describe()['mean'], 3)\n",
    " ,\"tempo_busca_por_query_std\": round(df_tempos['tempo_gasto'].describe()['std'], 3)\n",
    " ,\"se_expande_query\": se_expande_query\n",
    " ,\"ndcg\":round(100*results['NDCG@10'],2)})"
   ]
  },
  {
   "cell_type": "code",
   "execution_count": 192,
   "metadata": {},
   "outputs": [
    {
     "data": {
      "text/plain": [
       "[{'model': 'naver/splade-cocondenser-ensembledistil',\n",
       "  'ind_agg': 'max',\n",
       "  'tempo_busca_por_query_media': 0.427,\n",
       "  'tempo_busca_por_query_std': 0.026,\n",
       "  'se_expande_query': 'S',\n",
       "  'ndcg': 72.6},\n",
       " {'model': 'naver/splade-cocondenser-ensembledistil',\n",
       "  'ind_agg': 'max',\n",
       "  'tempo_busca_por_query_media': 0.406,\n",
       "  'tempo_busca_por_query_std': 0.016,\n",
       "  'se_expande_query': 'N',\n",
       "  'ndcg': 55.22}]"
      ]
     },
     "execution_count": 192,
     "metadata": {},
     "output_type": "execute_result"
    }
   ],
   "source": [
    "lista_resultados"
   ]
  },
  {
   "attachments": {},
   "cell_type": "markdown",
   "metadata": {},
   "source": [
    "### Ind_agg = sum"
   ]
  },
  {
   "cell_type": "code",
   "execution_count": 210,
   "metadata": {},
   "outputs": [],
   "source": [
    "ind_agg = 'sum'"
   ]
  },
  {
   "attachments": {},
   "cell_type": "markdown",
   "metadata": {},
   "source": [
    "Lendo os dados salvos"
   ]
  },
  {
   "cell_type": "code",
   "execution_count": 193,
   "metadata": {},
   "outputs": [],
   "source": [
    "with open(CAMINHO_ARQUIVO_EXPANSAO_SUM, \"rb\") as f:\n",
    "  corpus_expanded = pickle.load(f)"
   ]
  },
  {
   "attachments": {},
   "cell_type": "markdown",
   "metadata": {},
   "source": [
    "#### Com expansão para query"
   ]
  },
  {
   "cell_type": "code",
   "execution_count": 195,
   "metadata": {},
   "outputs": [],
   "source": [
    "se_expande_query = 'S'"
   ]
  },
  {
   "cell_type": "code",
   "execution_count": 196,
   "metadata": {},
   "outputs": [
    {
     "name": "stdout",
     "output_type": "stream",
     "text": [
      "0 queries completadas\n",
      "5 queries completadas\n",
      "10 queries completadas\n",
      "15 queries completadas\n",
      "20 queries completadas\n",
      "25 queries completadas\n",
      "30 queries completadas\n",
      "35 queries completadas\n",
      "40 queries completadas\n",
      "45 queries completadas\n",
      "CPU times: user 2min 2s, sys: 1.32 s, total: 2min 4s\n",
      "Wall time: 22.1 s\n"
     ]
    }
   ],
   "source": [
    "%%time\n",
    "tempo_gasto = run_all_queries_busca_exaustiva(parm_model=model,\n",
    "                                    parm_tokenizer=tokenizer, \n",
    "                                    parm_dict_queries=topics,\n",
    "                                    parm_corpus_expanded=corpus_expanded, \n",
    "                                    parm_lista_doc_id_passage=lista_doc_id_passage,\n",
    "                                    parm_num_max_hits=1000,\n",
    "                                    parm_se_query_expansion= (se_expande_query == 'S'),\n",
    "                                    parm_ind_agg_se_query_expansion='max')"
   ]
  },
  {
   "cell_type": "code",
   "execution_count": 197,
   "metadata": {},
   "outputs": [
    {
     "data": {
      "text/plain": [
       "count    50.0000000\n",
       "mean      0.4406896\n",
       "std       0.0302616\n",
       "min       0.4028490\n",
       "25%       0.4075087\n",
       "50%       0.4396522\n",
       "75%       0.4706005\n",
       "max       0.4966078\n",
       "Name: tempo_gasto, Length: 8, dtype: float64"
      ]
     },
     "execution_count": 197,
     "metadata": {},
     "output_type": "execute_result"
    }
   ],
   "source": [
    "df_tempos = pd.DataFrame({'tempo_gasto': tempo_gasto})\n",
    "df_tempos['tempo_gasto'].describe()"
   ]
  },
  {
   "cell_type": "code",
   "execution_count": 198,
   "metadata": {},
   "outputs": [
    {
     "data": {
      "image/png": "[encoded data removed]",
      "text/plain": [
       "<Figure size 640x480 with 1 Axes>"
      ]
     },
     "metadata": {},
     "output_type": "display_data"
    }
   ],
   "source": [
    "# Calculando média e mediana\n",
    "media = df_tempos['tempo_gasto'].mean()\n",
    "mediana = df_tempos['tempo_gasto'].median()\n",
    "\n",
    "# Plotando gráfico\n",
    "fig, ax = plt.subplots()\n",
    "ax.hist(df_tempos['tempo_gasto'], bins=50, color='blue', alpha=0.5)\n",
    "ax.axvline(media, color='red', linestyle='dashed', linewidth=2, label=f'Média = {media:.2f}')\n",
    "ax.axvline(mediana, color='green', linestyle='dashed', linewidth=2, label=f'Mediana = {mediana:.2f}')\n",
    "ax.set_xlabel('Tempo (s)')\n",
    "ax.set_ylabel('Frequência')\n",
    "ax.set_title('Distribuição de Tempos de Execução')\n",
    "ax.legend()\n",
    "plt.show()"
   ]
  },
  {
   "attachments": {},
   "cell_type": "markdown",
   "metadata": {},
   "source": [
    "### Avaliação"
   ]
  },
  {
   "cell_type": "code",
   "execution_count": 199,
   "metadata": {},
   "outputs": [],
   "source": [
    "trec_eval = load(\"trec_eval\")"
   ]
  },
  {
   "cell_type": "code",
   "execution_count": 200,
   "metadata": {},
   "outputs": [
    {
     "name": "stdout",
     "output_type": "stream",
     "text": [
      "   query  q0     docid  rank       score    system\n",
      "0     44  Q0  r4e4tg7r     1  378.217590  Pesquisa\n",
      "1     44  Q0  9mn6trtn     2  377.099884  Pesquisa\n",
      "2     44  Q0  wiel6zen     3  373.479462  Pesquisa\n",
      "3     44  Q0  u42iq0jk     4  372.191772  Pesquisa\n",
      "4     44  Q0  bxwcixd7     5  370.740021  Pesquisa\n",
      "\n",
      "[5 rows x 6 columns]\n",
      "NDCG@10: 0.27006700397772176\n",
      "Resultados: {'runid': 'Pesquisa', 'num_ret': 50000, 'num_rel': 24673, 'num_rel_ret': 4532, 'num_q': 50, 'map': 0.04341432623000685, 'gm_map': 0.01913499636589857, 'bpref': 0.17288368909096202, 'Rprec': 0.12084055198180631, 'recip_rank': 0.44412926887288734, 'P@5': 0.3, 'P@10': 0.28400000000000003, 'P@15': 0.2866666666666666, 'P@20': 0.27999999999999997, 'P@30': 0.2593333333333333, 'P@100': 0.2002, 'P@200': 0.1654, 'P@500': 0.11996000000000001, 'P@1000': 0.09064, 'NDCG@5': 0.2838015257388857, 'NDCG@10': 0.27006700397772176, 'NDCG@15': 0.2682475075787021, 'NDCG@20': 0.2595462193697148, 'NDCG@30': 0.24463817421236939, 'NDCG@100': 0.19256062845013208, 'NDCG@200': 0.16370490844583624, 'NDCG@500': 0.15205996401057612, 'NDCG@1000': 0.18643455373265028}\n"
     ]
    }
   ],
   "source": [
    "### Calculando métricas\n",
    "run = pd.read_csv(f\"{CAMINHO_RUN}\", sep=\"\\s+\", \n",
    "                names=[\"query\", \"q0\", \"docid\", \"rank\", \"score\", \"system\"])\n",
    "print(run.head())\n",
    "run = run.to_dict(orient=\"list\")\n",
    "results = trec_eval.compute(predictions=[run], references=[qrel_dict])\n",
    "\n",
    "# salvando métricas    \n",
    "print(f\"NDCG@10: {results['NDCG@10']}\")\n",
    "print(f\"Resultados: {results}\")\n"
   ]
  },
  {
   "cell_type": "code",
   "execution_count": 201,
   "metadata": {},
   "outputs": [],
   "source": [
    "lista_resultados.append(\n",
    "{'model': nome_modelo\n",
    " ,'ind_agg': ind_agg\n",
    " ,\"tempo_busca_por_query_media\": round(df_tempos['tempo_gasto'].describe()['mean'], 3)\n",
    " ,\"tempo_busca_por_query_std\": round(df_tempos['tempo_gasto'].describe()['std'], 3)\n",
    " ,\"se_expande_query\": se_expande_query\n",
    " ,\"ndcg\":round(100*results['NDCG@10'],2)})"
   ]
  },
  {
   "attachments": {},
   "cell_type": "markdown",
   "metadata": {},
   "source": [
    "#### Sem expansão para query"
   ]
  },
  {
   "cell_type": "code",
   "execution_count": 202,
   "metadata": {},
   "outputs": [],
   "source": [
    "se_expande_query = 'N'"
   ]
  },
  {
   "cell_type": "code",
   "execution_count": 203,
   "metadata": {},
   "outputs": [
    {
     "name": "stdout",
     "output_type": "stream",
     "text": [
      "0 queries completadas\n",
      "5 queries completadas\n",
      "10 queries completadas\n",
      "15 queries completadas\n",
      "20 queries completadas\n",
      "25 queries completadas\n",
      "30 queries completadas\n",
      "35 queries completadas\n",
      "40 queries completadas\n",
      "45 queries completadas\n",
      "CPU times: user 1min 56s, sys: 1.06 s, total: 1min 57s\n",
      "Wall time: 21 s\n"
     ]
    }
   ],
   "source": [
    "%%time\n",
    "tempo_gasto = run_all_queries_busca_exaustiva(parm_model=model,\n",
    "                                    parm_tokenizer=tokenizer, \n",
    "                                    parm_dict_queries=topics,\n",
    "                                    parm_corpus_expanded=corpus_expanded, \n",
    "                                    parm_lista_doc_id_passage=lista_doc_id_passage,\n",
    "                                    parm_num_max_hits=1000,\n",
    "                                    parm_se_query_expansion= (se_expande_query == 'S'),\n",
    "                                    parm_ind_agg_se_query_expansion='max')"
   ]
  },
  {
   "cell_type": "code",
   "execution_count": 204,
   "metadata": {},
   "outputs": [
    {
     "data": {
      "text/plain": [
       "count    50.0000000\n",
       "mean      0.4172139\n",
       "std       0.0241391\n",
       "min       0.3901424\n",
       "25%       0.3977516\n",
       "50%       0.4066254\n",
       "75%       0.4387720\n",
       "max       0.4585342\n",
       "Name: tempo_gasto, Length: 8, dtype: float64"
      ]
     },
     "execution_count": 204,
     "metadata": {},
     "output_type": "execute_result"
    }
   ],
   "source": [
    "df_tempos = pd.DataFrame({'tempo_gasto': tempo_gasto})\n",
    "df_tempos['tempo_gasto'].describe()"
   ]
  },
  {
   "cell_type": "code",
   "execution_count": 205,
   "metadata": {},
   "outputs": [
    {
     "data": {
      "image/png": "[encoded data removed]",
      "text/plain": [
       "<Figure size 640x480 with 1 Axes>"
      ]
     },
     "metadata": {},
     "output_type": "display_data"
    }
   ],
   "source": [
    "# Calculando média e mediana\n",
    "media = df_tempos['tempo_gasto'].mean()\n",
    "mediana = df_tempos['tempo_gasto'].median()\n",
    "\n",
    "# Plotando gráfico\n",
    "fig, ax = plt.subplots()\n",
    "ax.hist(df_tempos['tempo_gasto'], bins=50, color='blue', alpha=0.5)\n",
    "ax.axvline(media, color='red', linestyle='dashed', linewidth=2, label=f'Média = {media:.2f}')\n",
    "ax.axvline(mediana, color='green', linestyle='dashed', linewidth=2, label=f'Mediana = {mediana:.2f}')\n",
    "ax.set_xlabel('Tempo (s)')\n",
    "ax.set_ylabel('Frequência')\n",
    "ax.set_title('Distribuição de Tempos de Execução')\n",
    "ax.legend()\n",
    "plt.show()"
   ]
  },
  {
   "attachments": {},
   "cell_type": "markdown",
   "metadata": {},
   "source": [
    "### Avaliação"
   ]
  },
  {
   "cell_type": "code",
   "execution_count": 206,
   "metadata": {},
   "outputs": [],
   "source": [
    "trec_eval = load(\"trec_eval\")"
   ]
  },
  {
   "cell_type": "code",
   "execution_count": 207,
   "metadata": {},
   "outputs": [
    {
     "name": "stdout",
     "output_type": "stream",
     "text": [
      "   query  q0     docid  rank       score    system\n",
      "0     44  Q0  ezb7msg8     1  143.387787  Pesquisa\n",
      "1     44  Q0  53b4lrk2     2  140.482010  Pesquisa\n",
      "2     44  Q0  ejqpgr23     3  131.622757  Pesquisa\n",
      "3     44  Q0  d38sy6e2     4  131.593063  Pesquisa\n",
      "4     44  Q0  77vjrhpa     5  127.659210  Pesquisa\n",
      "\n",
      "[5 rows x 6 columns]\n",
      "NDCG@10: 0.25653128263499847\n",
      "Resultados: {'runid': 'Pesquisa', 'num_ret': 50000, 'num_rel': 24673, 'num_rel_ret': 3959, 'num_q': 50, 'map': 0.03671477432621827, 'gm_map': 0.012630541309564198, 'bpref': 0.151821030661596, 'Rprec': 0.1032942550858846, 'recip_rank': 0.40549405631880586, 'P@5': 0.28, 'P@10': 0.272, 'P@15': 0.25333333333333335, 'P@20': 0.24700000000000003, 'P@30': 0.23266666666666666, 'P@100': 0.1742, 'P@200': 0.1392, 'P@500': 0.10123999999999998, 'P@1000': 0.07918000000000001, 'NDCG@5': 0.26619050976119146, 'NDCG@10': 0.25653128263499847, 'NDCG@15': 0.24014972683364844, 'NDCG@20': 0.23175569960995135, 'NDCG@30': 0.21930155691825268, 'NDCG@100': 0.1705580722102131, 'NDCG@200': 0.14138723032359063, 'NDCG@500': 0.13300507629175087, 'NDCG@1000': 0.16560671235472932}\n"
     ]
    }
   ],
   "source": [
    "### Calculando métricas\n",
    "run = pd.read_csv(f\"{CAMINHO_RUN}\", sep=\"\\s+\", \n",
    "                names=[\"query\", \"q0\", \"docid\", \"rank\", \"score\", \"system\"])\n",
    "print(run.head())\n",
    "run = run.to_dict(orient=\"list\")\n",
    "results = trec_eval.compute(predictions=[run], references=[qrel_dict])\n",
    "\n",
    "# salvando métricas    \n",
    "print(f\"NDCG@10: {results['NDCG@10']}\")\n",
    "print(f\"Resultados: {results}\")\n"
   ]
  },
  {
   "cell_type": "code",
   "execution_count": 208,
   "metadata": {},
   "outputs": [],
   "source": [
    "lista_resultados.append(\n",
    "{'model': nome_modelo\n",
    " ,'ind_agg': ind_agg\n",
    " ,\"tempo_busca_por_query_media\": round(df_tempos['tempo_gasto'].describe()['mean'], 3)\n",
    " ,\"tempo_busca_por_query_std\": round(df_tempos['tempo_gasto'].describe()['std'], 3)\n",
    " ,\"se_expande_query\": se_expande_query\n",
    " ,\"ndcg\":round(100*results['NDCG@10'],2)})"
   ]
  },
  {
   "cell_type": "code",
   "execution_count": 213,
   "metadata": {},
   "outputs": [
    {
     "data": {
      "text/plain": [
       "[{'model': 'naver/splade-cocondenser-ensembledistil',\n",
       "  'ind_agg': 'max',\n",
       "  'tempo_busca_por_query_media': 0.427,\n",
       "  'tempo_busca_por_query_std': 0.026,\n",
       "  'se_expande_query': 'S',\n",
       "  'ndcg': 72.6},\n",
       " {'model': 'naver/splade-cocondenser-ensembledistil',\n",
       "  'ind_agg': 'max',\n",
       "  'tempo_busca_por_query_media': 0.406,\n",
       "  'tempo_busca_por_query_std': 0.016,\n",
       "  'se_expande_query': 'N',\n",
       "  'ndcg': 55.22},\n",
       " {'model': 'naver/splade-cocondenser-ensembledistil',\n",
       "  'ind_agg': 'sum',\n",
       "  'tempo_busca_por_query_media': 0.441,\n",
       "  'tempo_busca_por_query_std': 0.03,\n",
       "  'se_expande_query': 'S',\n",
       "  'ndcg': 27.01},\n",
       " {'model': 'naver/splade-cocondenser-ensembledistil',\n",
       "  'ind_agg': 'sum',\n",
       "  'tempo_busca_por_query_media': 0.417,\n",
       "  'tempo_busca_por_query_std': 0.024,\n",
       "  'se_expande_query': 'N',\n",
       "  'ndcg': 25.65}]"
      ]
     },
     "execution_count": 213,
     "metadata": {},
     "output_type": "execute_result"
    }
   ],
   "source": [
    "lista_resultados"
   ]
  },
  {
   "attachments": {},
   "cell_type": "markdown",
   "metadata": {},
   "source": [
    "# Comparação dos tempos e resultados\n"
   ]
  },
  {
   "cell_type": "code",
   "execution_count": 214,
   "metadata": {},
   "outputs": [],
   "source": [
    "df = pd.DataFrame(lista_resultados)"
   ]
  },
  {
   "cell_type": "code",
   "execution_count": 221,
   "metadata": {},
   "outputs": [],
   "source": [
    "df = df[['ind_agg', 'se_expande_query', 'ndcg', 'tempo_busca_por_query_media', 'tempo_busca_por_query_std']]"
   ]
  },
  {
   "cell_type": "code",
   "execution_count": 222,
   "metadata": {},
   "outputs": [
    {
     "data": {
      "text/html": [
       "<div>\n",
       "<style scoped>\n",
       "    .dataframe tbody tr th:only-of-type {\n",
       "        vertical-align: middle;\n",
       "    }\n",
       "\n",
       "    .dataframe tbody tr th {\n",
       "        vertical-align: top;\n",
       "    }\n",
       "\n",
       "    .dataframe thead th {\n",
       "        text-align: right;\n",
       "    }\n",
       "</style>\n",
       "<table border=\"1\" class=\"dataframe\">\n",
       "  <thead>\n",
       "    <tr style=\"text-align: right;\">\n",
       "      <th></th>\n",
       "      <th>ind_agg</th>\n",
       "      <th>se_expande_query</th>\n",
       "      <th>ndcg</th>\n",
       "      <th>tempo_busca_por_query_media</th>\n",
       "      <th>tempo_busca_por_query_std</th>\n",
       "    </tr>\n",
       "  </thead>\n",
       "  <tbody>\n",
       "    <tr>\n",
       "      <th>0</th>\n",
       "      <td>max</td>\n",
       "      <td>S</td>\n",
       "      <td>72.60</td>\n",
       "      <td>0.427</td>\n",
       "      <td>0.026</td>\n",
       "    </tr>\n",
       "    <tr>\n",
       "      <th>1</th>\n",
       "      <td>max</td>\n",
       "      <td>N</td>\n",
       "      <td>55.22</td>\n",
       "      <td>0.406</td>\n",
       "      <td>0.016</td>\n",
       "    </tr>\n",
       "    <tr>\n",
       "      <th>2</th>\n",
       "      <td>sum</td>\n",
       "      <td>S</td>\n",
       "      <td>27.01</td>\n",
       "      <td>0.441</td>\n",
       "      <td>0.030</td>\n",
       "    </tr>\n",
       "    <tr>\n",
       "      <th>3</th>\n",
       "      <td>sum</td>\n",
       "      <td>N</td>\n",
       "      <td>25.65</td>\n",
       "      <td>0.417</td>\n",
       "      <td>0.024</td>\n",
       "    </tr>\n",
       "  </tbody>\n",
       "</table>\n",
       "<p>4 rows × 5 columns</p>\n",
       "</div>"
      ],
      "text/plain": [
       "  ind_agg se_expande_query   ndcg  tempo_busca_por_query_media  tempo_busca_por_query_std\n",
       "0     max                S  72.60                        0.427                      0.026\n",
       "1     max                N  55.22                        0.406                      0.016\n",
       "2     sum                S  27.01                        0.441                      0.030\n",
       "3     sum                N  25.65                        0.417                      0.024\n",
       "\n",
       "[4 rows x 5 columns]"
      ]
     },
     "execution_count": 222,
     "metadata": {},
     "output_type": "execute_result"
    }
   ],
   "source": [
    "df"
   ]
  },
  {
   "cell_type": "code",
   "execution_count": 226,
   "metadata": {},
   "outputs": [],
   "source": [
    "import seaborn as sns"
   ]
  },
  {
   "cell_type": "code",
   "execution_count": 269,
   "metadata": {},
   "outputs": [
    {
     "data": {
      "image/png": "[encoded data removed]",
      "text/plain": [
       "<Figure size 800x600 with 1 Axes>"
      ]
     },
     "metadata": {},
     "output_type": "display_data"
    }
   ],
   "source": [
    "df['group'] = 'agg: ' + df['ind_agg'].apply(str) + '  query_expanded: ' + df['se_expande_query'].apply(str)\n",
    "\n",
    "fig, ax = plt.subplots(figsize=(8, 6))\n",
    "ax = df.plot(kind='bar', x='group', y='ndcg', rot=0, ax=ax)\n",
    "\n",
    "for p in ax.patches:\n",
    "    ax.annotate(f\"{p.get_height():.2f}\", (p.get_x() + p.get_width() / 2., p.get_height()),\n",
    "                ha='center', va='center', fontsize=11, color='gray', xytext=(0, 8),\n",
    "                textcoords='offset points')\n",
    "ax.set_xticklabels(df['group'],rotation=90)\n",
    "ax.set_title(f'Comparativo Splade ndcg@10 - modelo {nome_modelo} ')\n",
    "ax.set_ylabel('ndcg@10')\n",
    "plt.show()"
   ]
  },
  {
   "cell_type": "code",
   "execution_count": 266,
   "metadata": {},
   "outputs": [
    {
     "data": {
      "image/png": "[encoded data removed]",
      "text/plain": [
       "<Figure size 800x600 with 1 Axes>"
      ]
     },
     "metadata": {},
     "output_type": "display_data"
    }
   ],
   "source": [
    "df['group'] = 'agg: ' + df['ind_agg'].apply(str) + '  query_expanded: ' + df['se_expande_query'].apply(str)\n",
    "df = df.sort_values(by='tempo_busca_por_query_media', ascending=False)\n",
    "tempo_busca = df.loc[:, ['tempo_busca_por_query_media', 'tempo_busca_por_query_std']]\n",
    "\n",
    "fig, ax = plt.subplots(figsize=(8, 6))\n",
    "ax = tempo_busca.plot(kind='bar', stacked=True, ax=ax)\n",
    "for p in ax.patches:\n",
    "    if p.get_y() < 0:\n",
    "        ax.annotate(f\"{p.get_height():.2f}\", (p.get_x() + p.get_width() / 2., p.get_y() + p.get_height()),\n",
    "                    ha='center', va='top', fontsize=11, color='black', xytext=(0, -8),\n",
    "                    textcoords='offset points')\n",
    "    else:\n",
    "        ax.annotate(f\"{p.get_height():.2f}\", (p.get_x() + p.get_width() / 2., p.get_y() + p.get_height()),\n",
    "                    ha='center', va='top', fontsize=11, color='black', xytext=(0, 8),\n",
    "                    textcoords='offset points')\n",
    "\n",
    "ax.set_xticklabels(df['group'],rotation=90)\n",
    "ax.set_title(f'Comparativo Splade ndcg@10 - modelo {nome_modelo} ')\n",
    "ax.set_ylabel('Tempo de busca por query (segundos)')\n",
    "ax.legend(['media', 'std'], bbox_to_anchor=(1.12, 1), borderaxespad=0)\n",
    "\n",
    "plt.show()\n"
   ]
  },
  {
   "attachments": {},
   "cell_type": "markdown",
   "metadata": {},
   "source": [
    "# Usando indexação lucene "
   ]
  },
  {
   "cell_type": "code",
   "execution_count": null,
   "metadata": {},
   "outputs": [],
   "source": []
  }
 ],
 "metadata": {
  "kernelspec": {
   "display_name": "treinapython39",
   "language": "python",
   "name": "python3"
  },
  "language_info": {
   "codemirror_mode": {
    "name": "ipython",
    "version": 3
   },
   "file_extension": ".py",
   "mimetype": "text/x-python",
   "name": "python",
   "nbconvert_exporter": "python",
   "pygments_lexer": "ipython3",
   "version": "3.9.16"
  },
  "orig_nbformat": 4,
  "vscode": {
   "interpreter": {
    "hash": "e431eb1d856c426fade2a694f8536bd46c4e9c4bd47cb4afd3fb4d2c61122b03"
   }
  }
 },
 "nbformat": 4,
 "nbformat_minor": 2
}
